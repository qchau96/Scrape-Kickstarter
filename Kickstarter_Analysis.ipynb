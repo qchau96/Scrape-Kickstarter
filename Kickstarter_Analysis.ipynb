{
 "cells": [
  {
   "cell_type": "markdown",
   "metadata": {},
   "source": [
    "# Kickstarter Game Projects\n",
    "\n",
    "I LOVE board games and once in a while, I would go on Kickstarter and check out the new board game projects that they have. It made me curious, and wanted to do an Analysis on Game Projects on Kickstarter.\n",
    "\n",
    "There are a lot of Kickstarter Datasets online, including this [website](https://webrobots.io/kickstarter-datasets/). However, for the purpose of learning, I decided to stick with ***BeautifulSoup***, a Python package for parsing HTML and XML documents. The issue I ran into was I couldn't scrape all the game projects on Kickstarter even though I tried so hard to find a way to work around with it. Using BeautifulSoup can be limited, since it only scrape the surface of website. Although it's shown that there are 54k projects in total, the website only displays a very small part of it. I'd love to hear your suggestions!\n",
    "\n",
    "Since I was only able to scrape 2,400/53,891 Projects (I know, I'm pissed, too!), I will not dive deep into the analysis part. "
   ]
  },
  {
   "cell_type": "markdown",
   "metadata": {},
   "source": [
    "## I. Scraping the website"
   ]
  },
  {
   "cell_type": "code",
   "execution_count": 5,
   "metadata": {},
   "outputs": [],
   "source": [
    "import requests\n",
    "import random\n",
    "import time\n",
    "import requests\n",
    "from bs4 import BeautifulSoup\n",
    "import json\n",
    "import csv"
   ]
  },
  {
   "cell_type": "markdown",
   "metadata": {},
   "source": [
    "First, let's analyze the response request!"
   ]
  },
  {
   "cell_type": "code",
   "execution_count": 10,
   "metadata": {},
   "outputs": [
    {
     "name": "stdout",
     "output_type": "stream",
     "text": [
      "<!DOCTYPE html>\n",
      "<html class=\"discover_advanced fontface no-js\" data-request-id=\"db1847d8-2b84-40b6-a6e6-0aad6bfdac17\" lang=\"en\">\n",
      "<head prefix=\"og: http://ogp.me/ns# fb: http://ogp.me/ns/fb# kickstarter: http://ogp.me/ns/fb/kickstarter#\"><script>\n",
      "  docElement = this.document.documentElement;\n",
      "  docElement.className=docElement.className.replace(/\\bno-js\\b/,'') + 'js';\n",
      "</script>\n",
      "<title>\n",
      "Discover &raquo; Games &mdash; Kickstarter\n",
      "</title><script>\n",
      "  window.honeybadgerConfiguration = {\n",
      "    apiKey : \"3ed52f9b\",\n",
      "    environment : \"production\",\n",
      "    component : \"discover\",\n",
      "    action : \"advanced\",\n",
      "    revision : \"c7710499e599fcb5cf953eefd601ebd0a8adbb33\",\n",
      "    onerror : false,\n",
      "    ignorePatterns: [/NS_ERROR_FAILURE/, /NS_ERROR_FILE_CORRUPTED/, /NS_ERROR_NOT_INITIALIZED/, /NS_ERROR_STORAGE_BUSY/, /^Script error.?$/, /^Unspecified error.?$/, /Failed to fetch/, /javaEnabled()/, /Blocked a frame with origin \"https:\\/\\/www\\.kickstarter\\.com\"/, /Permission denied to access property \"dispatchEvent\"/, /Cannot read property 'checkDomStatus' of undefined/, /_avast_submit/, /vid_mate_check is not defined/, /Can't find variable: pktAnnotationHighlighter/, /csRestoreTitle is not defined/, /Failed to read the 'cssRules' property from 'CSSStyleSheet'/, /window.mraid/, /MoatMAK/, /BetterJsPop/, /Network error: JSON|Network error: Unexpected|UnhandledPromiseRejectionWarning: Error/, /a\\[b\\].target.className.indexOf is not a function/, /can't redefine non-configurable property \"userAgent\"/, /SymBrowser/, /GM_log is not defined/, /Can't find variable: article/, /xdArbiterSyn/, /Can't find variable: YAHOO/, /Can't find variable: REpub/, /Can't find variable: getShouldDelayWebView/, /Can't find variable: IS_FAVABLE/, /Cannot redefine property: googletag/, /Netværksforbindelsen gik tabt/, /HTMLBodyElement.window.touchMoveFunc/, /fixedTimeID is not defined/, /Can't find variable: loadHomepageTiles/, /papago.naver.net/, /Can't find variable: kw__injected/, /Can't find variable: fas_longPress/, /theurl is not defined/, /MetaMask/, /tgetT is not defined/, /window\\.setDgResult is not a function/, /feeddler-article/, /ReferenceError: selectword is not defined/, /web3 is not defined/, /window.AJS is undefined/, /GSApp/, /cordova is not defined/, /javacalljs is not defined/, /setConnectedRobot/, /listenToMutationsFromJS/, /ABse is not defined/, /TextViewAPI/, /navigator.sendBeacon/, /ResizeObserver loop limit exceeded/, /naverapp/, /__show__deepen is not defined/, /__firefox__/, /Can't find variable: fieldset/, /GM_getValue/, /__hawk_browser__ is not defined/]\n",
      "  };\n",
      "  \n",
      "  window.honeybadgerErrorConfiguration = {\n",
      "    apiKey : \"8c621530\",\n",
      "    environment : \"production\",\n",
      "    component : \"discover\",\n",
      "    action : \"advanced\",\n",
      "    revision : \"c7710499e599fcb5cf953eefd601ebd0a8adbb33\",\n",
      "    onerror : false,\n",
      "    maxErrors : 20,\n",
      "    ignorePatterns: [/NS_ERROR_FAILURE/, /NS_ERROR_FILE_CORRUPTED/, /NS_ERROR_NOT_INITIALIZED/, /NS_ERROR_STORAGE_BUSY/, /^Script error.?$/, /^Unspecified error.?$/, /Failed to fetch/, /javaEnabled()/, /Blocked a frame with origin \"https:\\/\\/www\\.kickstarter\\.com\"/, /Permission denied to access property \"dispatchEvent\"/, /Cannot read property 'checkDomStatus' of undefined/, /_avast_submit/, /vid_mate_check is not defined/, /Can't find variable: pktAnnotationHighlighter/, /csRestoreTitle is not defined/, /Failed to read the 'cssRules' property from 'CSSStyleSheet'/, /window.mraid/, /MoatMAK/, /BetterJsPop/, /Network error: JSON|Network error: Unexpected|UnhandledPromiseRejectionWarning: Error/, /a\\[b\\].target.className.indexOf is not a function/, /can't redefine non-configurable property \"userAgent\"/, /SymBrowser/, /GM_log is not defined/, /Can't find variable: article/, /xdArbiterSyn/, /Can't find variable: YAHOO/, /Can't find variable: REpub/, /Can't find variable: getShouldDelayWebView/, /Can't find variable: IS_FAVABLE/, /Cannot redefine property: googletag/, /Netværksforbindelsen gik tabt/, /HTMLBodyElement.window.touchMoveFunc/, /fixedTimeID is not defined/, /Can't find variable: loadHomepageTiles/, /papago.naver.net/, /Can't find variable: kw__injected/, /Can't find variable: fas_longPress/, /theurl is not defined/, /MetaMask/, /tgetT is not defined/, /window\\.setDgResult is not a function/, /feeddler-article/, /ReferenceError: selectword is not defined/, /web3 is not defined/, /window.AJS is undefined/, /GSApp/, /cordova is not defined/, /javacalljs is not defined/, /setConnectedRobot/, /listenToMutationsFromJS/, /ABse is not defined/, /TextViewAPI/, /navigator.sendBeacon/, /ResizeObserver loop limit exceeded/, /naverapp/, /__show__deepen is not defined/, /__firefox__/, /Can't find variable: fieldset/, /GM_getValue/, /__hawk_browser__ is not defined/]\n",
      "  };\n",
      "</script>\n",
      "\n",
      "<meta content=\"text/html; charset=utf-8\" http-equiv=\"Content-Type\">\n",
      "<meta content=\"3600\" property=\"og:ttl\">\n",
      "<meta content=\"width=device-width,initial-scale=1\" name=\"viewport\">\n",
      "\n",
      "<link as=\"font\" crossorigin=\"anonymous\" href=\"https://d207bzo2lz83l1.cloudfront.net/MaisonNeueWEB-Book.woff\" rel=\"preload\" type=\"font/woff\">\n",
      "<link as=\"font\" crossorigin=\"anonymous\" href=\"https://d207bzo2lz83l1.cloudfront.net/MaisonNeueWEB-Book.woff2\" rel=\"preload\" type=\"font/woff2\">\n",
      "<link as=\"font\" crossorigin=\"anonymous\" href=\"https://d207bzo2lz83l1.cloudfront.net/cooper-light-webfont.woff\" rel=\"preload\" type=\"font/woff\">\n",
      "<link as=\"font\" crossorigin=\"anonymous\" href=\"https://d207bzo2lz83l1.cloudfront.net/cooper-light-webfont.woff2\" rel=\"preload\" type=\"font/woff2\">\n",
      "<link rel=\"stylesheet\" media=\"screen,print\" href=\"https://a.kickstarter.com/assets/packages/base-54af9d0d401b197faab637745fb47d7a34edec6595d867da00e603a404eb3f25.css\" />\n",
      "\n",
      "<link href=\"https://a.kickstarter.com/favicon.ico\" rel=\"icon\" type=\"image/x-icon\">\n",
      "<link href=\"https://a.kickstarter.com/assets/touch-icon-192x192-710ace6840055401ec231c1d86ce7312c56bb510fad8b775229b0ce73d0054c5.png\" rel=\"icon\" sizes=\"192x192\" type=\"image/png\">\n",
      "<link href=\"https://a.kickstarter.com/assets/apple-touch-icon-180x180-precomposed-cb8d6071753a4ee49d130870fa482c5e4377e08d6c2390c528270b28e55bc618.png\" rel=\"apple-touch-icon-precomposed\" sizes=\"180x180\" type=\"image/png\">\n",
      "<link href=\"https://a.kickstarter.com/assets/apple-touch-icon-152x152-precomposed-835dfbcfe7c0c1c6e342b7273f8874494aa68e61c79cdbdc7457dbde4bbda4f5.png\" rel=\"apple-touch-icon-precomposed\" sizes=\"152x152\" type=\"image/png\">\n",
      "<link href=\"https://a.kickstarter.com/assets/apple-touch-icon-144x144-precomposed-837aefab84564ef2b515a417aad173842a5be5964c7867cd3fae22ebcfff8c3b.png\" rel=\"apple-touch-icon-precomposed\" sizes=\"144x144\" type=\"image/png\">\n",
      "<link href=\"https://a.kickstarter.com/assets/apple-touch-icon-120x120-precomposed-68c88886980151463e56905f1eb3c7163f8ed9f855fee07c8d8105adc1fe008c.png\" rel=\"apple-touch-icon-precomposed\" sizes=\"120x120\" type=\"image/png\">\n",
      "<link href=\"https://a.kickstarter.com/assets/apple-touch-icon-114x114-precomposed-2c1086704b257d537de8836448b43af96a2c2d5030977c595d7509a7f4bb474d.png\" rel=\"apple-touch-icon-precomposed\" sizes=\"114x114\" type=\"image/png\">\n",
      "<link href=\"https://a.kickstarter.com/assets/apple-touch-icon-76x76-precomposed-5cae25279578c7a61e907f97c74a0288d730cfac60e33f3e9a8c0ed30bbb9d1f.png\" rel=\"apple-touch-icon-precomposed\" sizes=\"76x76\" type=\"image/png\">\n",
      "<link href=\"https://a.kickstarter.com/assets/apple-touch-icon-72x72-precomposed-67edfa93e14594260506a2cc1472e55ab6ff55230be6c7a19caabadf3f4c371c.png\" rel=\"apple-touch-icon-precomposed\" sizes=\"72x72\" type=\"image/png\">\n",
      "<link href=\"https://a.kickstarter.com/assets/apple-touch-icon-precomposed-484c89d372de63331349a23f78da45fd0ba2950bd6cde7f8ef91fd957d841f08.png\" rel=\"apple-touch-icon-precomposed\">\n",
      "<link rel=\"alternate\" type=\"application/atom+xml\" title=\"Kickstarter : New Projects\" href=\"https://www.kickstarter.com/projects/feed.atom\" />\n",
      "<meta name=\"description\" content=\"The latest game projects. Groundbreaking indie games, epic tabletop games, and beloved revivals.\"/>\n",
      "<meta name=\"csrf-param\" content=\"authenticity_token\" />\n",
      "<meta name=\"csrf-token\" content=\"Mc/CHY87Z4S8nkM4vMc3ooavPK7Cm6a3gNydoHIfwSTrXbKRQfw8COiDAxIgy3i9BH4C3nDjsGm+RGAM3KAA8Q==\" />\n",
      "<script type=\"text/javascript\">\n",
      "  var _sift = _sift || [];\n",
      "  _sift.push(['_setAccount', '637102']);\n",
      "  _sift.push(['_setUserId', '']);\n",
      "  _sift.push(['_trackPageview']);\n",
      "\n",
      "  (function() {\n",
      "    function loadSift() {\n",
      "      var insertScript = function(url) {\n",
      "        var sift, s;\n",
      "        e = document.createElement('script');\n",
      "        e.type = 'text/javascript';\n",
      "        e.async = true;\n",
      "        e.src = ('https:' == document.location.protocol ? 'https://' : 'http://') + url;\n",
      "        s = document.getElementsByTagName('script')[0];\n",
      "        s.parentNode.insertBefore(e, s);\n",
      "      };\n",
      "      if (root.visitor_id) {\n",
      "        _sift.push(['_setSessionId', root.visitor_id]);\n",
      "      }\n",
      "      insertScript('cdn.siftscience.com/s.js'); // device\n",
      "    }\n",
      "    if (window.attachEvent) {\n",
      "      window.attachEvent('onload', loadSift);\n",
      "    } else {\n",
      "      window.addEventListener('load', loadSift, false);\n",
      "    }\n",
      "  })();\n",
      "</script>\n",
      "\n",
      "<link rel=\"alternate\" href=\"https://www.kickstarter.com/discover\" hreflang=\"en\" />\n",
      "<link rel=\"alternate\" href=\"https://www.kickstarter.com/discover?lang=de\" hreflang=\"de\" />\n",
      "<link rel=\"alternate\" href=\"https://www.kickstarter.com/discover?lang=es\" hreflang=\"es\" />\n",
      "<link rel=\"alternate\" href=\"https://www.kickstarter.com/discover?lang=fr\" hreflang=\"fr\" />\n",
      "<link rel=\"alternate\" href=\"https://www.kickstarter.com/discover?lang=it\" hreflang=\"it\" />\n",
      "<link rel=\"alternate\" href=\"https://www.kickstarter.com/discover?lang=ja\" hreflang=\"ja\" />\n",
      "<link rel=\"alternate\" href=\"https://www.kickstarter.com/discover?lang=zh\" hreflang=\"zh\" />\n",
      "\n",
      "<script>\n",
      "  window.current_ip = '71.190.194.140';\n",
      "  window.current_ip_datacenter = 'false';\n",
      "  window.enabled_features = {\"show_posts_feed\":true,\"mobile_project_collection_optimizations\":true,\"ios_crashlytics\":true,\"ios_koala\":true,\"ios_i18n\":true,\"ios_tappable_category_location\":true,\"ios_favorite_categories\":true,\"ios_qualtrics\":true,\"ios_native_checkout\":true,\"ios_native_checkout_pledge_view\":true,\"ios_live_stream_chat\":true,\"ios_backer_dashboard\":true,\"android_native_checkout\":true,\"new_project_feedback\":true,\"new_project_preview\":true,\"new_build_header\":true,\"message_spam\":true,\"emoji_locale\":true,\"default_to_campaign_on_mobile\":true,\"pinned_posts_on_feed\":true,\"accounts_upgrade\":true,\"project_build_claims_detection\":true,\"project_build_rewards_explorer\":true,\"project_build_zendesk\":true,\"user_menu_draft_project\":true,\"make_100_2020\":true,\"funding_build\":true,\"funding_sheet\":true,\"budget_module\":true,\"drip_sunset_pledging\":true,\"qualtrics\":true,\"profile_projects_react\":true,\"go_rewardless\":true,\"lazysizes\":true,\"budget_viz_fashion\":true,\"budget_viz_arts\":true,\"project_update_requests\":true,\"add_on_creator_beta_test\":true,\"project_header_media_carousel_hero\":true,\"inside_voices_footer\":true,\"ch_currency_selector\":true,\"dk_currency_selector\":true,\"no_currency_selector\":true,\"se_currency_selector\":true,\"projects_on_project_page\":true,\"reward_tabs_in_build\":true,\"recs_on_no_results_page\":true,\"june_2020_privacy_policy\":true};\n",
      "  window.fb_app_id = '69103156693';\n",
      "  window.recaptcha_v2_site_key = '6LcvXZ4UAAAAAHG33vLYekJNAfdFwkLh6Zk0dQJe';\n",
      "  window.recaptcha_v3_site_key = '6Ldnq5UUAAAAAIyJ4W5iCRZDxgU7e3r2THPHaCQ-';\n",
      "  \n",
      "  window.I18n = window.I18n || {};\n",
      "  window.apple_pay_countries = [\"US\", \"GB\", \"CA\", \"AU\", \"FR\", \"CH\", \"SG\", \"HK\", \"ES\", \"NZ\", \"JP\", \"SE\", \"DK\", \"IE\", \"IT\", \"DE\"];\n",
      "  I18n.enabled = true;\n",
      "  I18n.locale = 'en';\n",
      "  I18n.defaultLocale = 'en';\n",
      "  I18n.default_locale = I18n.defaultLocale;\n",
      "  I18n.browser_language = '';\n",
      "  I18n.chosen_language = '';\n",
      "  I18n.calculated_language = '';\n",
      "  I18n.display_language = 'en';\n",
      "  I18n.available_locales = [[\"English\",\"en\"],[\"Deutsch\",\"de\"],[\"Español\",\"es\"],[\"Français\",\"fr\"],[\"Italiano\",\"it\"],[\"日本語\",\"ja\"],[\"繁體中文\",\"zh\"]]\n",
      "  \n",
      "  window.current_currency = 'USD'\n",
      "  \n",
      "  var _sf_startpt=(new Date()).getTime();\n",
      "  \n",
      "  \n",
      "  \n",
      "  \n",
      "  \n",
      "  window.current_location = \"{&quot;id&quot;:12589352,&quot;name&quot;:&quot;Queens&quot;,&quot;slug&quot;:&quot;queens-ny&quot;,&quot;short_name&quot;:&quot;Queens, NY&quot;,&quot;displayable_name&quot;:&quot;Queens, NY&quot;,&quot;localized_name&quot;:&quot;Queens&quot;,&quot;country&quot;:&quot;US&quot;,&quot;state&quot;:&quot;NY&quot;,&quot;type&quot;:&quot;County&quot;,&quot;is_root&quot;:false,&quot;expanded_country&quot;:&quot;United States&quot;,&quot;urls&quot;:{&quot;web&quot;:{&quot;discover&quot;:&quot;https://www.kickstarter.com/discover/places/queens-ny&quot;,&quot;location&quot;:&quot;https://www.kickstarter.com/locations/queens-ny&quot;},&quot;api&quot;:{&quot;nearby_projects&quot;:&quot;https://api.kickstarter.com/v1/discover?signature=1599094468.079ac27593fd63184dfa0b17d2a8495ed0c8f851&amp;woe_id=12589352&quot;}}}\";\n",
      "  \n",
      "  \n",
      "  \n",
      "  window.datalake_properties = {}\n",
      "  \n",
      "  window.timeRemaining = function timeRemaining(epochTime){\n",
      "  \n",
      "    var diff = epochTime - ((new Date()).getTime() / 1000);\n",
      "    var num_unit = (diff < 60 && [Math.max(diff, 0), 'seconds']) ||\n",
      "      ((diff/=60) < 60 && [diff, 'minutes']) ||\n",
      "      ((diff/=60) < 72 && [diff, 'hours']) ||\n",
      "      [diff/=24, 'days'];\n",
      "  \n",
      "    // Round down\n",
      "    num_unit[0] = Math.floor(num_unit[0]);\n",
      "    // Singularize unit\n",
      "    if (num_unit[0] == 1) { num_unit[1] = num_unit[1].replace(/s$/,\"\"); }\n",
      "  \n",
      "    return num_unit;\n",
      "  };\n",
      "</script>\n",
      "<script>\n",
      "  window.current_variants = [];\n",
      "</script>\n",
      "<script>\n",
      "  window.device_attributes = {\n",
      "    browserName: \"Python Requests\",\n",
      "    browserVersion: \"2.22.0\",\n",
      "    deviceName: \"\",\n",
      "    isBot: false,\n",
      "    osName: \"\",\n",
      "    osVersion: \"\"\n",
      "  };\n",
      "</script>\n",
      "<script>\n",
      "  window.static_routes = {\n",
      "    login: \"/login\",\n",
      "    contact: \"/contact\"\n",
      "  };\n",
      "</script>\n",
      "\n",
      "<script src=\"https://www.kickstarter.com/locale/en.js\"></script>\n",
      "\n",
      "<script src=\"https://cdn.optimizely.com/js/14948670400.js\"></script>\n",
      "<script>\n",
      "  window.OPTIMIZELY_DATA_FILE = \"&quot;{\\\\&quot;version\\\\&quot;: \\\\&quot;4\\\\&quot;, \\\\&quot;rollouts\\\\&quot;: [], \\\\&quot;typedAudiences\\\\&quot;: [], \\\\&quot;anonymizeIP\\\\&quot;: true, \\\\&quot;projectId\\\\&quot;: \\\\&quot;15265730851\\\\&quot;, \\\\&quot;variables\\\\&quot;: [], \\\\&quot;featureFlags\\\\&quot;: [], \\\\&quot;experiments\\\\&quot;: [{\\\\&quot;status\\\\&quot;: \\\\&quot;Running\\\\&quot;, \\\\&quot;audienceIds\\\\&quot;: [], \\\\&quot;variations\\\\&quot;: [{\\\\&quot;variables\\\\&quot;: [], \\\\&quot;id\\\\&quot;: \\\\&quot;17317350961\\\\&quot;, \\\\&quot;key\\\\&quot;: \\\\&quot;control\\\\&quot;}, {\\\\&quot;variables\\\\&quot;: [], \\\\&quot;id\\\\&quot;: \\\\&quot;17300972772\\\\&quot;, \\\\&quot;key\\\\&quot;: \\\\&quot;anchor_w_context\\\\&quot;}, {\\\\&quot;variables\\\\&quot;: [], \\\\&quot;id\\\\&quot;: \\\\&quot;17273915206\\\\&quot;, \\\\&quot;key\\\\&quot;: \\\\&quot;anchor_w_big_context\\\\&quot;}], \\\\&quot;id\\\\&quot;: \\\\&quot;17367940593\\\\&quot;, \\\\&quot;key\\\\&quot;: \\\\&quot;project_page_anchor_v1\\\\&quot;, \\\\&quot;layerId\\\\&quot;: \\\\&quot;17270213249\\\\&quot;, \\\\&quot;trafficAllocation\\\\&quot;: [{\\\\&quot;entityId\\\\&quot;: \\\\&quot;17273915206\\\\&quot;, \\\\&quot;endOfRange\\\\&quot;: 83}, {\\\\&quot;entityId\\\\&quot;: \\\\&quot;17300972772\\\\&quot;, \\\\&quot;endOfRange\\\\&quot;: 125}, {\\\\&quot;entityId\\\\&quot;: \\\\&quot;17300972772\\\\&quot;, \\\\&quot;endOfRange\\\\&quot;: 166}, {\\\\&quot;entityId\\\\&quot;: \\\\&quot;17317350961\\\\&quot;, \\\\&quot;endOfRange\\\\&quot;: 249}, {\\\\&quot;entityId\\\\&quot;: \\\\&quot;\\\\&quot;, \\\\&quot;endOfRange\\\\&quot;: 250}, {\\\\&quot;entityId\\\\&quot;: \\\\&quot;17273915206\\\\&quot;, \\\\&quot;endOfRange\\\\&quot;: 375}, {\\\\&quot;entityId\\\\&quot;: \\\\&quot;17300972772\\\\&quot;, \\\\&quot;endOfRange\\\\&quot;: 500}, {\\\\&quot;entityId\\\\&quot;: \\\\&quot;17317350961\\\\&quot;, \\\\&quot;endOfRange\\\\&quot;: 625}, {\\\\&quot;entityId\\\\&quot;: \\\\&quot;\\\\&quot;, \\\\&quot;endOfRange\\\\&quot;: 1250}, {\\\\&quot;entityId\\\\&quot;: \\\\&quot;\\\\&quot;, \\\\&quot;endOfRange\\\\&quot;: 2500}, {\\\\&quot;entityId\\\\&quot;: \\\\&quot;17273915206\\\\&quot;, \\\\&quot;endOfRange\\\\&quot;: 2625}, {\\\\&quot;entityId\\\\&quot;: \\\\&quot;\\\\&quot;, \\\\&quot;endOfRange\\\\&quot;: 3750}, {\\\\&quot;entityId\\\\&quot;: \\\\&quot;\\\\&quot;, \\\\&quot;endOfRange\\\\&quot;: 5000}, {\\\\&quot;entityId\\\\&quot;: \\\\&quot;17317350961\\\\&quot;, \\\\&quot;endOfRange\\\\&quot;: 5125}, {\\\\&quot;entityId\\\\&quot;: \\\\&quot;\\\\&quot;, \\\\&quot;endOfRange\\\\&quot;: 6250}, {\\\\&quot;entityId\\\\&quot;: \\\\&quot;\\\\&quot;, \\\\&quot;endOfRange\\\\&quot;: 7500}, {\\\\&quot;entityId\\\\&quot;: \\\\&quot;17300972772\\\\&quot;, \\\\&quot;endOfRange\\\\&quot;: 7625}, {\\\\&quot;entityId\\\\&quot;: \\\\&quot;\\\\&quot;, \\\\&quot;endOfRange\\\\&quot;: 8750}, {\\\\&quot;entityId\\\\&quot;: \\\\&quot;\\\\&quot;, \\\\&quot;endOfRange\\\\&quot;: 10000}], \\\\&quot;forcedVariations\\\\&quot;: {\\\\&quot;abb8276943ac5820-5d55707994eda3aa-e57000e1a946c2f0v1\\\\&quot;: \\\\&quot;anchor_w_big_context\\\\&quot;, \\\\&quot;aed1e588b467d8f5-dab084973f693719-6dba99d119c378d4v1\\\\&quot;: \\\\&quot;anchor_w_big_context\\\\&quot;, \\\\&quot;be6f4ad4ce398523-6e86da1c1d028975-1e91af8ccf257ac3v1\\\\&quot;: \\\\&quot;anchor_w_context\\\\&quot;}}, {\\\\&quot;status\\\\&quot;: \\\\&quot;Running\\\\&quot;, \\\\&quot;audienceIds\\\\&quot;: [], \\\\&quot;variations\\\\&quot;: [{\\\\&quot;variables\\\\&quot;: [], \\\\&quot;id\\\\&quot;: \\\\&quot;17581030538\\\\&quot;, \\\\&quot;key\\\\&quot;: \\\\&quot;control\\\\&quot;}, {\\\\&quot;variables\\\\&quot;: [], \\\\&quot;id\\\\&quot;: \\\\&quot;17560120334\\\\&quot;, \\\\&quot;key\\\\&quot;: \\\\&quot;with_add_ons\\\\&quot;}], \\\\&quot;id\\\\&quot;: \\\\&quot;17542520502\\\\&quot;, \\\\&quot;key\\\\&quot;: \\\\&quot;rewards_add_ons_adoption\\\\&quot;, \\\\&quot;layerId\\\\&quot;: \\\\&quot;17569280505\\\\&quot;, \\\\&quot;trafficAllocation\\\\&quot;: [{\\\\&quot;entityId\\\\&quot;: \\\\&quot;17560120334\\\\&quot;, \\\\&quot;endOfRange\\\\&quot;: 5000}, {\\\\&quot;entityId\\\\&quot;: \\\\&quot;17581030538\\\\&quot;, \\\\&quot;endOfRange\\\\&quot;: 10000}], \\\\&quot;forcedVariations\\\\&quot;: {\\\\&quot;221f02e61acbe616-66e2e94e627d80e8-c25161b532e3ebc4v1\\\\&quot;: \\\\&quot;with_add_ons\\\\&quot;, \\\\&quot;23c1911ce5b9a4b1-f1d4a5ba62ccbe23-e5ac3cbb1e3d58ccv1\\\\&quot;: \\\\&quot;with_add_ons\\\\&quot;, \\\\&quot;32de205c810a6325-db59db3459966092-f01a2db12cf50283v1\\\\&quot;: \\\\&quot;with_add_ons\\\\&quot;, \\\\&quot;4c661a269632f3c3-be5c31010b2ace3f-7bb36142500a7e4bv1\\\\&quot;: \\\\&quot;with_add_ons\\\\&quot;, \\\\&quot;d00508537f3a3a10-b31afd907841b094-38c191ee1c8fa7a3v1\\\\&quot;: \\\\&quot;with_add_ons\\\\&quot;, \\\\&quot;39353c901589e5be-5300213ad880d41d-119f38ceefa1c386v1\\\\&quot;: \\\\&quot;with_add_ons\\\\&quot;, \\\\&quot;c7770834888c726e-d6b10f5cf4ebe98f-20e240790b2c168fv1\\\\&quot;: \\\\&quot;with_add_ons\\\\&quot;, \\\\&quot;1b273f92a0539f6b-a16aa5f6e39618db-222af228857d4d32v1\\\\&quot;: \\\\&quot;with_add_ons\\\\&quot;, \\\\&quot;65c643573c7c5451-62c730a6ad9c6498-bac278a93e20f510v1\\\\&quot;: \\\\&quot;with_add_ons\\\\&quot;}}], \\\\&quot;audiences\\\\&quot;: [{\\\\&quot;conditions\\\\&quot;: \\\\&quot;[\\\\\\\\\\\\&quot;or\\\\\\\\\\\\&quot;, {\\\\\\\\\\\\&quot;match\\\\\\\\\\\\&quot;: \\\\\\\\\\\\&quot;exact\\\\\\\\\\\\&quot;, \\\\\\\\\\\\&quot;name\\\\\\\\\\\\&quot;: \\\\\\\\\\\\&quot;$opt_dummy_attribute\\\\\\\\\\\\&quot;, \\\\\\\\\\\\&quot;type\\\\\\\\\\\\&quot;: \\\\\\\\\\\\&quot;custom_attribute\\\\\\\\\\\\&quot;, \\\\\\\\\\\\&quot;value\\\\\\\\\\\\&quot;: \\\\\\\\\\\\&quot;$opt_dummy_value\\\\\\\\\\\\&quot;}]\\\\&quot;, \\\\&quot;id\\\\&quot;: \\\\&quot;$opt_dummy_audience\\\\&quot;, \\\\&quot;name\\\\&quot;: \\\\&quot;Optimizely-Generated Audience for Backwards Compatibility\\\\&quot;}], \\\\&quot;groups\\\\&quot;: [], \\\\&quot;attributes\\\\&quot;: [{\\\\&quot;id\\\\&quot;: \\\\&quot;15383060506\\\\&quot;, \\\\&quot;key\\\\&quot;: \\\\&quot;USD_VISITOR\\\\&quot;}, {\\\\&quot;id\\\\&quot;: \\\\&quot;15521340422\\\\&quot;, \\\\&quot;key\\\\&quot;: \\\\&quot;client_type\\\\&quot;}, {\\\\&quot;id\\\\&quot;: \\\\&quot;15552650868\\\\&quot;, \\\\&quot;key\\\\&quot;: \\\\&quot;chosen_language\\\\&quot;}, {\\\\&quot;id\\\\&quot;: \\\\&quot;15608191113\\\\&quot;, \\\\&quot;key\\\\&quot;: \\\\&quot;backings_count\\\\&quot;}, {\\\\&quot;id\\\\&quot;: \\\\&quot;16151730311\\\\&quot;, \\\\&quot;key\\\\&quot;: \\\\&quot;user_chosen_currency\\\\&quot;}, {\\\\&quot;id\\\\&quot;: \\\\&quot;16153480403\\\\&quot;, \\\\&quot;key\\\\&quot;: \\\\&quot;user_uid\\\\&quot;}, {\\\\&quot;id\\\\&quot;: \\\\&quot;16163220439\\\\&quot;, \\\\&quot;key\\\\&quot;: \\\\&quot;user_is_registered\\\\&quot;}, {\\\\&quot;id\\\\&quot;: \\\\&quot;16175430044\\\\&quot;, \\\\&quot;key\\\\&quot;: \\\\&quot;user_backed_projects_count\\\\&quot;}, {\\\\&quot;id\\\\&quot;: \\\\&quot;16177080164\\\\&quot;, \\\\&quot;key\\\\&quot;: \\\\&quot;user_launched_projects_count\\\\&quot;}, {\\\\&quot;id\\\\&quot;: \\\\&quot;16177330167\\\\&quot;, \\\\&quot;key\\\\&quot;: \\\\&quot;user_chosen_language\\\\&quot;}, {\\\\&quot;id\\\\&quot;: \\\\&quot;16558160030\\\\&quot;, \\\\&quot;key\\\\&quot;: \\\\&quot;project_category\\\\&quot;}, {\\\\&quot;id\\\\&quot;: \\\\&quot;16852816452\\\\&quot;, \\\\&quot;key\\\\&quot;: \\\\&quot;locale\\\\&quot;}, {\\\\&quot;id\\\\&quot;: \\\\&quot;17959063925\\\\&quot;, \\\\&quot;key\\\\&quot;: \\\\&quot;ref_tag\\\\&quot;}], \\\\&quot;botFiltering\\\\&quot;: false, \\\\&quot;accountId\\\\&quot;: \\\\&quot;14069890047\\\\&quot;, \\\\&quot;events\\\\&quot;: [{\\\\&quot;experimentIds\\\\&quot;: [\\\\&quot;17367940593\\\\&quot;, \\\\&quot;17542520502\\\\&quot;], \\\\&quot;id\\\\&quot;: \\\\&quot;15325190695\\\\&quot;, \\\\&quot;key\\\\&quot;: \\\\&quot;Completed Checkout\\\\&quot;}, {\\\\&quot;experimentIds\\\\&quot;: [], \\\\&quot;id\\\\&quot;: \\\\&quot;15567170301\\\\&quot;, \\\\&quot;key\\\\&quot;: \\\\&quot;Viewed Trust And Safety Page\\\\&quot;}, {\\\\&quot;experimentIds\\\\&quot;: [], \\\\&quot;id\\\\&quot;: \\\\&quot;16163000661\\\\&quot;, \\\\&quot;key\\\\&quot;: \\\\&quot;Project Page\\\\&quot;}, {\\\\&quot;experimentIds\\\\&quot;: [], \\\\&quot;id\\\\&quot;: \\\\&quot;16303850222\\\\&quot;, \\\\&quot;key\\\\&quot;: \\\\&quot;sawGuidedPrompt\\\\&quot;}, {\\\\&quot;experimentIds\\\\&quot;: [], \\\\&quot;id\\\\&quot;: \\\\&quot;16307170055\\\\&quot;, \\\\&quot;key\\\\&quot;: \\\\&quot;Saved story\\\\&quot;}, {\\\\&quot;experimentIds\\\\&quot;: [], \\\\&quot;id\\\\&quot;: \\\\&quot;16354970753\\\\&quot;, \\\\&quot;key\\\\&quot;: \\\\&quot;Discover List View\\\\&quot;}, {\\\\&quot;experimentIds\\\\&quot;: [], \\\\&quot;id\\\\&quot;: \\\\&quot;16518051019\\\\&quot;, \\\\&quot;key\\\\&quot;: \\\\&quot;Saved Project Story\\\\&quot;}, {\\\\&quot;experimentIds\\\\&quot;: [], \\\\&quot;id\\\\&quot;: \\\\&quot;16714270854\\\\&quot;, \\\\&quot;key\\\\&quot;: \\\\&quot;Launched Project\\\\&quot;}, {\\\\&quot;experimentIds\\\\&quot;: [], \\\\&quot;id\\\\&quot;: \\\\&quot;16731530793\\\\&quot;, \\\\&quot;key\\\\&quot;: \\\\&quot;Submitted Project\\\\&quot;}, {\\\\&quot;experimentIds\\\\&quot;: [], \\\\&quot;id\\\\&quot;: \\\\&quot;16848297843\\\\&quot;, \\\\&quot;key\\\\&quot;: \\\\&quot;Viewed Welcome Page\\\\&quot;}, {\\\\&quot;experimentIds\\\\&quot;: [], \\\\&quot;id\\\\&quot;: \\\\&quot;16896991908\\\\&quot;, \\\\&quot;key\\\\&quot;: \\\\&quot;Viewed Taste Quiz\\\\&quot;}, {\\\\&quot;experimentIds\\\\&quot;: [], \\\\&quot;id\\\\&quot;: \\\\&quot;16910742145\\\\&quot;, \\\\&quot;key\\\\&quot;: \\\\&quot;Project Liked\\\\&quot;}, {\\\\&quot;experimentIds\\\\&quot;: [], \\\\&quot;id\\\\&quot;: \\\\&quot;16916271219\\\\&quot;, \\\\&quot;key\\\\&quot;: \\\\&quot;Project Watch\\\\&quot;}, {\\\\&quot;experimentIds\\\\&quot;: [], \\\\&quot;id\\\\&quot;: \\\\&quot;16931243222\\\\&quot;, \\\\&quot;key\\\\&quot;: \\\\&quot;Project Disliked\\\\&quot;}, {\\\\&quot;experimentIds\\\\&quot;: [], \\\\&quot;id\\\\&quot;: \\\\&quot;17012343128\\\\&quot;, \\\\&quot;key\\\\&quot;: \\\\&quot;Clicked From Search To See All\\\\&quot;}, {\\\\&quot;experimentIds\\\\&quot;: [], \\\\&quot;id\\\\&quot;: \\\\&quot;17031252727\\\\&quot;, \\\\&quot;key\\\\&quot;: \\\\&quot;Clicked From Search To Creator\\\\&quot;}, {\\\\&quot;experimentIds\\\\&quot;: [], \\\\&quot;id\\\\&quot;: \\\\&quot;17034753632\\\\&quot;, \\\\&quot;key\\\\&quot;: \\\\&quot;Clicked From Search To Category\\\\&quot;}, {\\\\&quot;experimentIds\\\\&quot;: [], \\\\&quot;id\\\\&quot;: \\\\&quot;17055122321\\\\&quot;, \\\\&quot;key\\\\&quot;: \\\\&quot;Clicked Backing Button Or Reward Tier\\\\&quot;}, {\\\\&quot;experimentIds\\\\&quot;: [], \\\\&quot;id\\\\&quot;: \\\\&quot;17059023190\\\\&quot;, \\\\&quot;key\\\\&quot;: \\\\&quot;Clicked From Search To Project\\\\&quot;}, {\\\\&quot;experimentIds\\\\&quot;: [\\\\&quot;17367940593\\\\&quot;, \\\\&quot;17542520502\\\\&quot;], \\\\&quot;id\\\\&quot;: \\\\&quot;17213550784\\\\&quot;, \\\\&quot;key\\\\&quot;: \\\\&quot;Credit Card Page\\\\&quot;}, {\\\\&quot;experimentIds\\\\&quot;: [], \\\\&quot;id\\\\&quot;: \\\\&quot;17464661000\\\\&quot;, \\\\&quot;key\\\\&quot;: \\\\&quot;pyl_newsletter\\\\&quot;}, {\\\\&quot;experimentIds\\\\&quot;: [\\\\&quot;17542520502\\\\&quot;], \\\\&quot;id\\\\&quot;: \\\\&quot;17561810274\\\\&quot;, \\\\&quot;key\\\\&quot;: \\\\&quot;Continue with add-on\\\\&quot;}, {\\\\&quot;experimentIds\\\\&quot;: [\\\\&quot;17542520502\\\\&quot;], \\\\&quot;id\\\\&quot;: \\\\&quot;17638100010\\\\&quot;, \\\\&quot;key\\\\&quot;: \\\\&quot;Overpledged Completed Checkout\\\\&quot;}, {\\\\&quot;experimentIds\\\\&quot;: [], \\\\&quot;id\\\\&quot;: \\\\&quot;17645990313\\\\&quot;, \\\\&quot;key\\\\&quot;: \\\\&quot;Interacted With Media\\\\&quot;}, {\\\\&quot;experimentIds\\\\&quot;: [], \\\\&quot;id\\\\&quot;: \\\\&quot;17779901467\\\\&quot;, \\\\&quot;key\\\\&quot;: \\\\&quot;Quantity Up\\\\&quot;}, {\\\\&quot;experimentIds\\\\&quot;: [], \\\\&quot;id\\\\&quot;: \\\\&quot;17879793181\\\\&quot;, \\\\&quot;key\\\\&quot;: \\\\&quot;Login\\\\&quot;}, {\\\\&quot;experimentIds\\\\&quot;: [], \\\\&quot;id\\\\&quot;: \\\\&quot;17890540053\\\\&quot;, \\\\&quot;key\\\\&quot;: \\\\&quot;New User\\\\&quot;}, {\\\\&quot;experimentIds\\\\&quot;: [], \\\\&quot;id\\\\&quot;: \\\\&quot;17901950288\\\\&quot;, \\\\&quot;key\\\\&quot;: \\\\&quot;Pledge Checkout\\\\&quot;}, {\\\\&quot;experimentIds\\\\&quot;: [], \\\\&quot;id\\\\&quot;: \\\\&quot;17918030317\\\\&quot;, \\\\&quot;key\\\\&quot;: \\\\&quot;Facebook Service Account Connected\\\\&quot;}, {\\\\&quot;experimentIds\\\\&quot;: [], \\\\&quot;id\\\\&quot;: \\\\&quot;17930375617\\\\&quot;, \\\\&quot;key\\\\&quot;: \\\\&quot;Clicked project\\\\&quot;}, {\\\\&quot;experimentIds\\\\&quot;: [], \\\\&quot;id\\\\&quot;: \\\\&quot;17945190354\\\\&quot;, \\\\&quot;key\\\\&quot;: \\\\&quot;Clicked featured project\\\\&quot;}], \\\\&quot;revision\\\\&quot;: \\\\&quot;2035\\\\&quot;}&quot;\"\n",
      "</script>\n",
      "</head>\n",
      "\n",
      "<body class=\"frame discover maison-book not-mobile not-phone not-mobile-safari not-chrome-ios not-forces-video-controls not-tablet not-ipad not-iphone not-ios not-android not-touchable not-native-app-request not-apple-pay-capable not-android-pay-capable responsive is-logged-out \" id=\"discover_advanced\">\n",
      "\n",
      "<div class=\"NS_layouts__notifications\">\n",
      "</div>\n",
      "\n",
      "<div class=\"relative\" data-start-project-path=\"/learn\" id=\"global-header\">\n",
      "<div><section class=\"section_global-nav js-site-nav-container bg-white flex flex-wrap flex-nowrap-md border-bottom border-grey-400 justify-between w100p\" data-reactroot=\"\"><div class=\"w100p py4 py2-md h7-md h5 flex items-center justify-center\"><a class=\"keyboard-focusable mb0 w30\" href=\"/?ref=nav\"><svg class=\"valign-middle\" xmlns=\"http://www.w3.org/2000/svg\" viewBox=\"0 0 598 70\" width=\"100%\" height=\"100%\"><title>Kickstarter</title><g class=\"fill-ksr10-green\" fill-rule=\"nonzero\"><path d=\"M523,15.9 L523,47.3 C523,54.8 529.046512,61 536.403101,61 C542.449612,61 547.186047,57.3 548.899225,52 L550.310078,54.5 C552.829457,58.7 557.263566,61 561.79845,61 C569.155039,61 575,55.2 575,47.8 C575,45.3 574.395349,42.9 572.984496,40.7 L567.744186,32.4 C571.573643,29.5 573.891473,24.9 573.891473,19.3 C573.891473,9 565.627907,1 555.046512,1 L537.612403,1 C528.139535,1 523,6.1 523,15.9\"></path><path d=\"M519,49.5030231 C519,43.7552636 515.323467,39.4192345 510.255814,38.4108557 C512.541226,36.8982874 513.932347,34.3773402 513.932347,31.04969 C513.932347,27.7220398 512.640592,25.2010926 510.255814,23.6885243 C515.422833,22.6801455 519,18.4449543 519,12.5963569 C519,6.14273218 513.832981,1 507.572939,1 L486.706131,1 C477.167019,1 472,6.14273218 472,15.9240071 L472,46.074535 C472,55.9566478 477.167019,60.9985421 486.706131,60.9985421 L507.572939,60.9985421 C513.832981,61.09938 519,55.9566478 519,49.5030231\"></path><path d=\"M455.8,47.5 L455.8,26.8 C462.5,26.5 468,20.9 468,13.9 C468,6.7 462.2,1 455.1,1 L427.9,1 C420.8,1 415,6.6 415,13.9 C415,20.9 420.5,26.4 427.2,26.8 L427.2,47.5 C427.2,54.9 433.5,61 441.3,61 C449.6,61 455.8,54.9 455.8,47.5\"></path><path d=\"M362,15.9 L362,47.3 C362,54.8 368.046512,61 375.403101,61 C381.449612,61 386.186047,57.3 387.899225,52 L389.310078,54.5 C391.829457,58.7 396.263566,61 400.79845,61 C408.155039,61 414,55.2 414,47.8 C414,45.3 413.395349,42.9 411.984496,40.7 L406.744186,32.4 C410.573643,29.5 412.891473,24.9 412.891473,19.3 C412.891473,9 404.627907,1 394.046512,1 L376.612403,1 C367.24031,1 362,6.1 362,15.9\"></path><path d=\"M328.919678,49.5695364 C332.331325,56.6225166 337.147767,60 343.067976,60 C353.704285,60 361.229976,50.3642384 356.614219,39.5364238 L344.272087,10.9271523 C341.261811,3.87417219 336.746396,0 329.020021,0 C321.393988,0 316.878574,3.87417219 313.767955,10.9271523 L301.425823,39.5364238 C296.709724,50.3642384 304.335757,60 314.871723,60 C320.69159,60 325.508032,56.6225166 328.919678,49.5695364\"></path><path d=\"M293.776938,47.5 L293.776938,26.8 C300.489603,26.5 306,20.9 306,13.9 C306,6.7 300.189036,1 293.075614,1 L265.924386,1 C258.810964,1 253,6.6 253,13.9 C253,20.9 258.510397,26.4 265.223062,26.8 L265.223062,47.5 C265.223062,54.9 271.534972,61 279.349716,61 C287.465028,61 293.776938,54.9 293.776938,47.5\"></path><path d=\"M253,41.5361842 C253,35.5164474 249.993737,31.3026316 245.484342,27.2894737 L241.776618,23.9786184 C247.187891,23.1759868 250.795407,19.5641447 250.795407,14.2467105 C250.795407,5.31743421 243.680585,0 228.649269,0 C213.91858,0 205.300626,7.42434211 205.300626,19.1628289 C205.300626,25.1825658 208.407098,29.2960526 212.916493,33.4095395 L216.524008,36.7203947 L216.4238,36.7203947 C209.709812,36.7203947 205,40.6332237 205,46.7532895 C205,55.5822368 212.415449,61 228.248434,61 C243.780793,61 253,53.4753289 253,41.5361842\" id=\"Shape-Copy-7\"></path><path d=\"M202,46.5662429 C202,43.7802283 201.192523,41.0937143 199.476636,38.7057019 L193.016822,29.8501557 L199.476636,20.9946095 C201.192523,18.7060976 202,15.920083 202,13.1340685 C202,5.7710301 195.842991,0.0995005189 188.575701,0.0995005189 C184.336449,0.0995005189 180.097196,2.18901142 177.472897,5.7710301 L174.343925,10.1490529 C173.13271,4.27852231 167.985047,0 161.424299,0 C153.854206,0 148,5.97003114 148,13.3330695 L148,46.6657434 C148,54.0287818 153.95514,59.9988129 161.424299,59.9988129 C167.884112,59.9988129 172.930841,56.0187922 174.242991,50.2477621 L177.069159,54.2277828 C179.693458,58.0088025 184.033645,59.9988129 188.272897,59.9988129 C195.842991,60.0983134 202,53.9292813 202,46.5662429\"></path><path d=\"M143,43.5099338 C143,37.1523179 139.818713,32.6821192 133.45614,30 C139.818713,27.3178808 143,22.9470199 143,16.4900662 C143,6.85430464 134.947368,0 122.023392,0 C104.725146,0 92,12.8145695 92,30 C92,47.1854305 104.725146,60 122.023392,60 C134.947368,60 143,53.1456954 143,43.5099338\"></path><path d=\"M72.5499366,0 C64.4666385,0 58,6.57807309 58,14.3521595 L58,45.6478405 C58,53.5215947 64.4666385,60 72.4488953,60 C80.6332346,60 86.9988319,53.4219269 86.9988319,45.6478405 L86.9988319,14.3521595 C87.0998731,6.57807309 80.6332346,0 72.5499366,0\"></path><path d=\"M54,46.5662429 C54,43.7802283 53.1940299,41.0937143 51.4813433,38.7057019 L45.0335821,29.8501557 L51.4813433,20.9946095 C53.1940299,18.7060976 54,15.920083 54,13.1340685 C54,5.7710301 47.8544776,0.0995005189 40.6007463,0.0995005189 C36.369403,0.0995005189 32.1380597,2.18901142 29.5186567,5.7710301 L26.2947761,10.1490529 C25.0858209,4.27852231 19.9477612,0 13.3992537,0 C5.84328358,0 0,5.97003114 0,13.3330695 L0,46.6657434 C0,54.0287818 5.94402985,59.9988129 13.3992537,59.9988129 C19.8470149,59.9988129 24.8843284,56.0187922 26.1940299,50.2477621 L29.0149254,54.2277828 C31.6343284,58.0088025 35.9664179,59.9988129 40.1977612,59.9988129 C47.8544776,60.0983134 54,53.9292813 54,46.5662429\"></path></g></svg></a></div></section>\n",
      "</div>\n",
      "</div>\n",
      "<script>\n",
      "  window.client_type = \"web\"\n",
      "</script>\n",
      "\n",
      "<main>\n",
      "\n",
      "<div id=\"main_content\">\n",
      "\n",
      "<div aria-expanded=\"false\" aria-hidden=\"true\" class=\"absolute-sm bg-white border-box border-dark-grey-500 border-sm display-none expanded fixed h-auto-sm h100p js-popover maison-book scroll-y transition-200 transition-all w100p w50-sm z-popover-3\" data-target-id=\"#category_filter\" id=\"NS_discover__categories\">\n",
      "<div class=\"relative bg-grey-300 w100p p3 border-box display-none-sm\">\n",
      "<h4 class=\"m0\">Categories</h4>\n",
      "<div class=\"absolute t50p r3 translate-y-50p\">\n",
      "<button class=\"close fastclick bttn bttn-small bttn-blue\">Done</button>\n",
      "</div>\n",
      "</div>\n",
      "<div class=\"relative\">\n",
      "<div class=\"js-root-categories\">\n",
      "<h5 class=\"border-bottom border-grey-500 px3 pt3 pb1 mb1 type-12 bold text-uppercase ls1px navy-700 display-none block-sm\">\n",
      "Categories\n",
      "</h5>\n",
      "<ul class=\"js-categories columns2-sm relative z1 inline-block block-sm w50-sm\">\n",
      "<li class=\"block\" id=\"category_0\">\n",
      "<a class=\"black block fastclick hover-ksr-green-500 px3 py1 type-14\" href=\"#\" role=\"button\">All categories</a>\n",
      "</li>\n",
      "<li data-category=\"{&quot;id&quot;:1,&quot;name&quot;:&quot;Art&quot;,&quot;slug&quot;:&quot;art&quot;,&quot;position&quot;:1,&quot;color&quot;:16760235,&quot;urls&quot;:{&quot;web&quot;:{&quot;discover&quot;:&quot;http://www.kickstarter.com/discover/categories/art&quot;}}}\">\n",
      "<a class=\"black block fastclick hover-ksr-green-500 px3 py1 type-14\" data-id=\"1\" href=\"#\" role=\"button\">Art</a>\n",
      "</li>\n",
      "<li data-category=\"{&quot;id&quot;:3,&quot;name&quot;:&quot;Comics&quot;,&quot;slug&quot;:&quot;comics&quot;,&quot;position&quot;:2,&quot;color&quot;:16776056,&quot;urls&quot;:{&quot;web&quot;:{&quot;discover&quot;:&quot;http://www.kickstarter.com/discover/categories/comics&quot;}}}\">\n",
      "<a class=\"black block fastclick hover-ksr-green-500 px3 py1 type-14\" data-id=\"3\" href=\"#\" role=\"button\">Comics</a>\n",
      "</li>\n",
      "<li data-category=\"{&quot;id&quot;:26,&quot;name&quot;:&quot;Crafts&quot;,&quot;slug&quot;:&quot;crafts&quot;,&quot;position&quot;:3,&quot;color&quot;:16744876,&quot;urls&quot;:{&quot;web&quot;:{&quot;discover&quot;:&quot;http://www.kickstarter.com/discover/categories/crafts&quot;}}}\">\n",
      "<a class=\"black block fastclick hover-ksr-green-500 px3 py1 type-14\" data-id=\"26\" href=\"#\" role=\"button\">Crafts</a>\n",
      "</li>\n",
      "<li data-category=\"{&quot;id&quot;:6,&quot;name&quot;:&quot;Dance&quot;,&quot;slug&quot;:&quot;dance&quot;,&quot;position&quot;:4,&quot;color&quot;:10917369,&quot;urls&quot;:{&quot;web&quot;:{&quot;discover&quot;:&quot;http://www.kickstarter.com/discover/categories/dance&quot;}}}\">\n",
      "<a class=\"black block fastclick hover-ksr-green-500 px3 py1 type-14\" data-id=\"6\" href=\"#\" role=\"button\">Dance</a>\n",
      "</li>\n",
      "<li data-category=\"{&quot;id&quot;:7,&quot;name&quot;:&quot;Design&quot;,&quot;slug&quot;:&quot;design&quot;,&quot;position&quot;:5,&quot;color&quot;:2577151,&quot;urls&quot;:{&quot;web&quot;:{&quot;discover&quot;:&quot;http://www.kickstarter.com/discover/categories/design&quot;}}}\">\n",
      "<a class=\"black block fastclick hover-ksr-green-500 px3 py1 type-14\" data-id=\"7\" href=\"#\" role=\"button\">Design</a>\n",
      "</li>\n",
      "<li data-category=\"{&quot;id&quot;:9,&quot;name&quot;:&quot;Fashion&quot;,&quot;slug&quot;:&quot;fashion&quot;,&quot;position&quot;:6,&quot;color&quot;:16752598,&quot;urls&quot;:{&quot;web&quot;:{&quot;discover&quot;:&quot;http://www.kickstarter.com/discover/categories/fashion&quot;}}}\">\n",
      "<a class=\"black block fastclick hover-ksr-green-500 px3 py1 type-14\" data-id=\"9\" href=\"#\" role=\"button\">Fashion</a>\n",
      "</li>\n",
      "<li data-category=\"{&quot;id&quot;:11,&quot;name&quot;:&quot;Film &amp; Video&quot;,&quot;slug&quot;:&quot;film &amp; video&quot;,&quot;position&quot;:7,&quot;color&quot;:16734574,&quot;urls&quot;:{&quot;web&quot;:{&quot;discover&quot;:&quot;http://www.kickstarter.com/discover/categories/film%20&amp;%20video&quot;}}}\">\n",
      "<a class=\"black block fastclick hover-ksr-green-500 px3 py1 type-14\" data-id=\"11\" href=\"#\" role=\"button\">Film & Video</a>\n",
      "</li>\n",
      "<li data-category=\"{&quot;id&quot;:10,&quot;name&quot;:&quot;Food&quot;,&quot;slug&quot;:&quot;food&quot;,&quot;position&quot;:8,&quot;color&quot;:16725570,&quot;urls&quot;:{&quot;web&quot;:{&quot;discover&quot;:&quot;http://www.kickstarter.com/discover/categories/food&quot;}}}\">\n",
      "<a class=\"black block fastclick hover-ksr-green-500 px3 py1 type-14\" data-id=\"10\" href=\"#\" role=\"button\">Food</a>\n",
      "</li>\n",
      "<li data-category=\"{&quot;id&quot;:12,&quot;name&quot;:&quot;Games&quot;,&quot;slug&quot;:&quot;games&quot;,&quot;position&quot;:9,&quot;color&quot;:51627,&quot;urls&quot;:{&quot;web&quot;:{&quot;discover&quot;:&quot;http://www.kickstarter.com/discover/categories/games&quot;}}}\">\n",
      "<a class=\"block fastclick hover-ksr-green-500 ksr-green-500 px3 py1 type-14\" data-id=\"12\" href=\"#\" role=\"button\">Games</a>\n",
      "</li>\n",
      "<li data-category=\"{&quot;id&quot;:13,&quot;name&quot;:&quot;Journalism&quot;,&quot;slug&quot;:&quot;journalism&quot;,&quot;position&quot;:10,&quot;color&quot;:1228010,&quot;urls&quot;:{&quot;web&quot;:{&quot;discover&quot;:&quot;http://www.kickstarter.com/discover/categories/journalism&quot;}}}\">\n",
      "<a class=\"black block fastclick hover-ksr-green-500 px3 py1 type-14\" data-id=\"13\" href=\"#\" role=\"button\">Journalism</a>\n",
      "</li>\n",
      "<li data-category=\"{&quot;id&quot;:14,&quot;name&quot;:&quot;Music&quot;,&quot;slug&quot;:&quot;music&quot;,&quot;position&quot;:11,&quot;color&quot;:10878931,&quot;urls&quot;:{&quot;web&quot;:{&quot;discover&quot;:&quot;http://www.kickstarter.com/discover/categories/music&quot;}}}\">\n",
      "<a class=\"black block fastclick hover-ksr-green-500 px3 py1 type-14\" data-id=\"14\" href=\"#\" role=\"button\">Music</a>\n",
      "</li>\n",
      "<li data-category=\"{&quot;id&quot;:15,&quot;name&quot;:&quot;Photography&quot;,&quot;slug&quot;:&quot;photography&quot;,&quot;position&quot;:12,&quot;color&quot;:58341,&quot;urls&quot;:{&quot;web&quot;:{&quot;discover&quot;:&quot;http://www.kickstarter.com/discover/categories/photography&quot;}}}\">\n",
      "<a class=\"black block fastclick hover-ksr-green-500 px3 py1 type-14\" data-id=\"15\" href=\"#\" role=\"button\">Photography</a>\n",
      "</li>\n",
      "<li data-category=\"{&quot;id&quot;:18,&quot;name&quot;:&quot;Publishing&quot;,&quot;slug&quot;:&quot;publishing&quot;,&quot;position&quot;:13,&quot;color&quot;:14867664,&quot;urls&quot;:{&quot;web&quot;:{&quot;discover&quot;:&quot;http://www.kickstarter.com/discover/categories/publishing&quot;}}}\">\n",
      "<a class=\"black block fastclick hover-ksr-green-500 px3 py1 type-14\" data-id=\"18\" href=\"#\" role=\"button\">Publishing</a>\n",
      "</li>\n",
      "<li data-category=\"{&quot;id&quot;:16,&quot;name&quot;:&quot;Technology&quot;,&quot;slug&quot;:&quot;technology&quot;,&quot;position&quot;:14,&quot;color&quot;:6526716,&quot;urls&quot;:{&quot;web&quot;:{&quot;discover&quot;:&quot;http://www.kickstarter.com/discover/categories/technology&quot;}}}\">\n",
      "<a class=\"black block fastclick hover-ksr-green-500 px3 py1 type-14\" data-id=\"16\" href=\"#\" role=\"button\">Technology</a>\n",
      "</li>\n",
      "<li data-category=\"{&quot;id&quot;:17,&quot;name&quot;:&quot;Theater&quot;,&quot;slug&quot;:&quot;theater&quot;,&quot;position&quot;:15,&quot;color&quot;:16743775,&quot;urls&quot;:{&quot;web&quot;:{&quot;discover&quot;:&quot;http://www.kickstarter.com/discover/categories/theater&quot;}}}\">\n",
      "<a class=\"black block fastclick hover-ksr-green-500 px3 py1 type-14\" data-id=\"17\" href=\"#\" role=\"button\">Theater</a>\n",
      "</li>\n",
      "</ul>\n",
      "</div>\n",
      "<div class=\"js-subcategories_container absolute t0 r0 b0 o0p border-box transition-all transition-delay-200 w50-sm\">\n",
      "<div class=\"display-none js-subcategories\" id=\"category_1_subcategories\">\n",
      "<h5 class=\"border-bottom-sm border-grey-500 px3 pt1 pt3-sm pb1 mb1 type-12 bold text-uppercase ls1px navy-700\">\n",
      "Art\n",
      "</h5>\n",
      "<ul class=\"columns2-sm w50-sm\">\n",
      "<li class=\"js-subcategory block\" data-category=\"{&quot;id&quot;:1,&quot;name&quot;:&quot;Art&quot;,&quot;slug&quot;:&quot;art&quot;,&quot;position&quot;:1,&quot;color&quot;:16760235,&quot;urls&quot;:{&quot;web&quot;:{&quot;discover&quot;:&quot;http://www.kickstarter.com/discover/categories/art&quot;}}}\" id=\"category_1\">\n",
      "<a class=\"black block fastclick hover-ksr-green-500 px3 py1 type-14\" href=\"#\" role=\"button\">All of Art</a>\n",
      "</li>\n",
      "<li class=\"js-subcategory block\" data-category=\"{&quot;id&quot;:287,&quot;name&quot;:&quot;Ceramics&quot;,&quot;slug&quot;:&quot;art/ceramics&quot;,&quot;position&quot;:1,&quot;parent_id&quot;:1,&quot;parent_name&quot;:&quot;Art&quot;,&quot;color&quot;:16760235,&quot;urls&quot;:{&quot;web&quot;:{&quot;discover&quot;:&quot;http://www.kickstarter.com/discover/categories/art/ceramics&quot;}}}\" id=\"category_287\">\n",
      "<a class=\"black block fastclick hover-ksr-green-500 px3 py1 type-14\" href=\"#\" role=\"button\">Ceramics</a>\n",
      "</li>\n",
      "<li class=\"js-subcategory block\" data-category=\"{&quot;id&quot;:20,&quot;name&quot;:&quot;Conceptual Art&quot;,&quot;slug&quot;:&quot;art/conceptual art&quot;,&quot;position&quot;:2,&quot;parent_id&quot;:1,&quot;parent_name&quot;:&quot;Art&quot;,&quot;color&quot;:16760235,&quot;urls&quot;:{&quot;web&quot;:{&quot;discover&quot;:&quot;http://www.kickstarter.com/discover/categories/art/conceptual%20art&quot;}}}\" id=\"category_20\">\n",
      "<a class=\"black block fastclick hover-ksr-green-500 px3 py1 type-14\" href=\"#\" role=\"button\">Conceptual Art</a>\n",
      "</li>\n",
      "<li class=\"js-subcategory block\" data-category=\"{&quot;id&quot;:21,&quot;name&quot;:&quot;Digital Art&quot;,&quot;slug&quot;:&quot;art/digital art&quot;,&quot;position&quot;:3,&quot;parent_id&quot;:1,&quot;parent_name&quot;:&quot;Art&quot;,&quot;color&quot;:16760235,&quot;urls&quot;:{&quot;web&quot;:{&quot;discover&quot;:&quot;http://www.kickstarter.com/discover/categories/art/digital%20art&quot;}}}\" id=\"category_21\">\n",
      "<a class=\"black block fastclick hover-ksr-green-500 px3 py1 type-14\" href=\"#\" role=\"button\">Digital Art</a>\n",
      "</li>\n",
      "<li class=\"js-subcategory block\" data-category=\"{&quot;id&quot;:22,&quot;name&quot;:&quot;Illustration&quot;,&quot;slug&quot;:&quot;art/illustration&quot;,&quot;position&quot;:4,&quot;parent_id&quot;:1,&quot;parent_name&quot;:&quot;Art&quot;,&quot;color&quot;:16760235,&quot;urls&quot;:{&quot;web&quot;:{&quot;discover&quot;:&quot;http://www.kickstarter.com/discover/categories/art/illustration&quot;}}}\" id=\"category_22\">\n",
      "<a class=\"black block fastclick hover-ksr-green-500 px3 py1 type-14\" href=\"#\" role=\"button\">Illustration</a>\n",
      "</li>\n",
      "<li class=\"js-subcategory block\" data-category=\"{&quot;id&quot;:288,&quot;name&quot;:&quot;Installations&quot;,&quot;slug&quot;:&quot;art/installations&quot;,&quot;position&quot;:5,&quot;parent_id&quot;:1,&quot;parent_name&quot;:&quot;Art&quot;,&quot;color&quot;:16760235,&quot;urls&quot;:{&quot;web&quot;:{&quot;discover&quot;:&quot;http://www.kickstarter.com/discover/categories/art/installations&quot;}}}\" id=\"category_288\">\n",
      "<a class=\"black block fastclick hover-ksr-green-500 px3 py1 type-14\" href=\"#\" role=\"button\">Installations</a>\n",
      "</li>\n",
      "<li class=\"js-subcategory block\" data-category=\"{&quot;id&quot;:54,&quot;name&quot;:&quot;Mixed Media&quot;,&quot;slug&quot;:&quot;art/mixed media&quot;,&quot;position&quot;:6,&quot;parent_id&quot;:1,&quot;parent_name&quot;:&quot;Art&quot;,&quot;color&quot;:16760235,&quot;urls&quot;:{&quot;web&quot;:{&quot;discover&quot;:&quot;http://www.kickstarter.com/discover/categories/art/mixed%20media&quot;}}}\" id=\"category_54\">\n",
      "<a class=\"black block fastclick hover-ksr-green-500 px3 py1 type-14\" href=\"#\" role=\"button\">Mixed Media</a>\n",
      "</li>\n",
      "<li class=\"js-subcategory block\" data-category=\"{&quot;id&quot;:23,&quot;name&quot;:&quot;Painting&quot;,&quot;slug&quot;:&quot;art/painting&quot;,&quot;position&quot;:7,&quot;parent_id&quot;:1,&quot;parent_name&quot;:&quot;Art&quot;,&quot;color&quot;:16760235,&quot;urls&quot;:{&quot;web&quot;:{&quot;discover&quot;:&quot;http://www.kickstarter.com/discover/categories/art/painting&quot;}}}\" id=\"category_23\">\n",
      "<a class=\"black block fastclick hover-ksr-green-500 px3 py1 type-14\" href=\"#\" role=\"button\">Painting</a>\n",
      "</li>\n",
      "<li class=\"js-subcategory block\" data-category=\"{&quot;id&quot;:24,&quot;name&quot;:&quot;Performance Art&quot;,&quot;slug&quot;:&quot;art/performance art&quot;,&quot;position&quot;:8,&quot;parent_id&quot;:1,&quot;parent_name&quot;:&quot;Art&quot;,&quot;color&quot;:16760235,&quot;urls&quot;:{&quot;web&quot;:{&quot;discover&quot;:&quot;http://www.kickstarter.com/discover/categories/art/performance%20art&quot;}}}\" id=\"category_24\">\n",
      "<a class=\"black block fastclick hover-ksr-green-500 px3 py1 type-14\" href=\"#\" role=\"button\">Performance Art</a>\n",
      "</li>\n",
      "<li class=\"js-subcategory block\" data-category=\"{&quot;id&quot;:53,&quot;name&quot;:&quot;Public Art&quot;,&quot;slug&quot;:&quot;art/public art&quot;,&quot;position&quot;:9,&quot;parent_id&quot;:1,&quot;parent_name&quot;:&quot;Art&quot;,&quot;color&quot;:16760235,&quot;urls&quot;:{&quot;web&quot;:{&quot;discover&quot;:&quot;http://www.kickstarter.com/discover/categories/art/public%20art&quot;}}}\" id=\"category_53\">\n",
      "<a class=\"black block fastclick hover-ksr-green-500 px3 py1 type-14\" href=\"#\" role=\"button\">Public Art</a>\n",
      "</li>\n",
      "<li class=\"js-subcategory block\" data-category=\"{&quot;id&quot;:25,&quot;name&quot;:&quot;Sculpture&quot;,&quot;slug&quot;:&quot;art/sculpture&quot;,&quot;position&quot;:10,&quot;parent_id&quot;:1,&quot;parent_name&quot;:&quot;Art&quot;,&quot;color&quot;:16760235,&quot;urls&quot;:{&quot;web&quot;:{&quot;discover&quot;:&quot;http://www.kickstarter.com/discover/categories/art/sculpture&quot;}}}\" id=\"category_25\">\n",
      "<a class=\"black block fastclick hover-ksr-green-500 px3 py1 type-14\" href=\"#\" role=\"button\">Sculpture</a>\n",
      "</li>\n",
      "<li class=\"js-subcategory block\" data-category=\"{&quot;id&quot;:395,&quot;name&quot;:&quot;Social Practice&quot;,&quot;slug&quot;:&quot;art/social practice&quot;,&quot;position&quot;:11,&quot;parent_id&quot;:1,&quot;parent_name&quot;:&quot;Art&quot;,&quot;color&quot;:16760235,&quot;urls&quot;:{&quot;web&quot;:{&quot;discover&quot;:&quot;http://www.kickstarter.com/discover/categories/art/social%20practice&quot;}}}\" id=\"category_395\">\n",
      "<a class=\"black block fastclick hover-ksr-green-500 px3 py1 type-14\" href=\"#\" role=\"button\">Social Practice</a>\n",
      "</li>\n",
      "<li class=\"js-subcategory block\" data-category=\"{&quot;id&quot;:289,&quot;name&quot;:&quot;Textiles&quot;,&quot;slug&quot;:&quot;art/textiles&quot;,&quot;position&quot;:12,&quot;parent_id&quot;:1,&quot;parent_name&quot;:&quot;Art&quot;,&quot;color&quot;:16760235,&quot;urls&quot;:{&quot;web&quot;:{&quot;discover&quot;:&quot;http://www.kickstarter.com/discover/categories/art/textiles&quot;}}}\" id=\"category_289\">\n",
      "<a class=\"black block fastclick hover-ksr-green-500 px3 py1 type-14\" href=\"#\" role=\"button\">Textiles</a>\n",
      "</li>\n",
      "<li class=\"js-subcategory block\" data-category=\"{&quot;id&quot;:290,&quot;name&quot;:&quot;Video Art&quot;,&quot;slug&quot;:&quot;art/video art&quot;,&quot;position&quot;:13,&quot;parent_id&quot;:1,&quot;parent_name&quot;:&quot;Art&quot;,&quot;color&quot;:16760235,&quot;urls&quot;:{&quot;web&quot;:{&quot;discover&quot;:&quot;http://www.kickstarter.com/discover/categories/art/video%20art&quot;}}}\" id=\"category_290\">\n",
      "<a class=\"black block fastclick hover-ksr-green-500 px3 py1 type-14\" href=\"#\" role=\"button\">Video Art</a>\n",
      "</li>\n",
      "</ul>\n",
      "</div>\n",
      "<div class=\"display-none js-subcategories\" id=\"category_3_subcategories\">\n",
      "<h5 class=\"border-bottom-sm border-grey-500 px3 pt1 pt3-sm pb1 mb1 type-12 bold text-uppercase ls1px navy-700\">\n",
      "Comics\n",
      "</h5>\n",
      "<ul class=\"columns2-sm w50-sm\">\n",
      "<li class=\"js-subcategory block\" data-category=\"{&quot;id&quot;:3,&quot;name&quot;:&quot;Comics&quot;,&quot;slug&quot;:&quot;comics&quot;,&quot;position&quot;:2,&quot;color&quot;:16776056,&quot;urls&quot;:{&quot;web&quot;:{&quot;discover&quot;:&quot;http://www.kickstarter.com/discover/categories/comics&quot;}}}\" id=\"category_3\">\n",
      "<a class=\"black block fastclick hover-ksr-green-500 px3 py1 type-14\" href=\"#\" role=\"button\">All of Comics</a>\n",
      "</li>\n",
      "<li class=\"js-subcategory block\" data-category=\"{&quot;id&quot;:249,&quot;name&quot;:&quot;Anthologies&quot;,&quot;slug&quot;:&quot;comics/anthologies&quot;,&quot;position&quot;:1,&quot;parent_id&quot;:3,&quot;parent_name&quot;:&quot;Comics&quot;,&quot;color&quot;:16776056,&quot;urls&quot;:{&quot;web&quot;:{&quot;discover&quot;:&quot;http://www.kickstarter.com/discover/categories/comics/anthologies&quot;}}}\" id=\"category_249\">\n",
      "<a class=\"black block fastclick hover-ksr-green-500 px3 py1 type-14\" href=\"#\" role=\"button\">Anthologies</a>\n",
      "</li>\n",
      "<li class=\"js-subcategory block\" data-category=\"{&quot;id&quot;:250,&quot;name&quot;:&quot;Comic Books&quot;,&quot;slug&quot;:&quot;comics/comic books&quot;,&quot;position&quot;:2,&quot;parent_id&quot;:3,&quot;parent_name&quot;:&quot;Comics&quot;,&quot;color&quot;:16776056,&quot;urls&quot;:{&quot;web&quot;:{&quot;discover&quot;:&quot;http://www.kickstarter.com/discover/categories/comics/comic%20books&quot;}}}\" id=\"category_250\">\n",
      "<a class=\"black block fastclick hover-ksr-green-500 px3 py1 type-14\" href=\"#\" role=\"button\">Comic Books</a>\n",
      "</li>\n",
      "<li class=\"js-subcategory block\" data-category=\"{&quot;id&quot;:251,&quot;name&quot;:&quot;Events&quot;,&quot;slug&quot;:&quot;comics/events&quot;,&quot;position&quot;:3,&quot;parent_id&quot;:3,&quot;parent_name&quot;:&quot;Comics&quot;,&quot;color&quot;:16776056,&quot;urls&quot;:{&quot;web&quot;:{&quot;discover&quot;:&quot;http://www.kickstarter.com/discover/categories/comics/events&quot;}}}\" id=\"category_251\">\n",
      "<a class=\"black block fastclick hover-ksr-green-500 px3 py1 type-14\" href=\"#\" role=\"button\">Events</a>\n",
      "</li>\n",
      "<li class=\"js-subcategory block\" data-category=\"{&quot;id&quot;:252,&quot;name&quot;:&quot;Graphic Novels&quot;,&quot;slug&quot;:&quot;comics/graphic novels&quot;,&quot;position&quot;:4,&quot;parent_id&quot;:3,&quot;parent_name&quot;:&quot;Comics&quot;,&quot;color&quot;:16776056,&quot;urls&quot;:{&quot;web&quot;:{&quot;discover&quot;:&quot;http://www.kickstarter.com/discover/categories/comics/graphic%20novels&quot;}}}\" id=\"category_252\">\n",
      "<a class=\"black block fastclick hover-ksr-green-500 px3 py1 type-14\" href=\"#\" role=\"button\">Graphic Novels</a>\n",
      "</li>\n",
      "<li class=\"js-subcategory block\" data-category=\"{&quot;id&quot;:253,&quot;name&quot;:&quot;Webcomics&quot;,&quot;slug&quot;:&quot;comics/webcomics&quot;,&quot;position&quot;:5,&quot;parent_id&quot;:3,&quot;parent_name&quot;:&quot;Comics&quot;,&quot;color&quot;:16776056,&quot;urls&quot;:{&quot;web&quot;:{&quot;discover&quot;:&quot;http://www.kickstarter.com/discover/categories/comics/webcomics&quot;}}}\" id=\"category_253\">\n",
      "<a class=\"black block fastclick hover-ksr-green-500 px3 py1 type-14\" href=\"#\" role=\"button\">Webcomics</a>\n",
      "</li>\n",
      "</ul>\n",
      "</div>\n",
      "<div class=\"display-none js-subcategories\" id=\"category_26_subcategories\">\n",
      "<h5 class=\"border-bottom-sm border-grey-500 px3 pt1 pt3-sm pb1 mb1 type-12 bold text-uppercase ls1px navy-700\">\n",
      "Crafts\n",
      "</h5>\n",
      "<ul class=\"columns2-sm w50-sm\">\n",
      "<li class=\"js-subcategory block\" data-category=\"{&quot;id&quot;:26,&quot;name&quot;:&quot;Crafts&quot;,&quot;slug&quot;:&quot;crafts&quot;,&quot;position&quot;:3,&quot;color&quot;:16744876,&quot;urls&quot;:{&quot;web&quot;:{&quot;discover&quot;:&quot;http://www.kickstarter.com/discover/categories/crafts&quot;}}}\" id=\"category_26\">\n",
      "<a class=\"black block fastclick hover-ksr-green-500 px3 py1 type-14\" href=\"#\" role=\"button\">All of Crafts</a>\n",
      "</li>\n",
      "<li class=\"js-subcategory block\" data-category=\"{&quot;id&quot;:343,&quot;name&quot;:&quot;Candles&quot;,&quot;slug&quot;:&quot;crafts/candles&quot;,&quot;position&quot;:1,&quot;parent_id&quot;:26,&quot;parent_name&quot;:&quot;Crafts&quot;,&quot;color&quot;:16744876,&quot;urls&quot;:{&quot;web&quot;:{&quot;discover&quot;:&quot;http://www.kickstarter.com/discover/categories/crafts/candles&quot;}}}\" id=\"category_343\">\n",
      "<a class=\"black block fastclick hover-ksr-green-500 px3 py1 type-14\" href=\"#\" role=\"button\">Candles</a>\n",
      "</li>\n",
      "<li class=\"js-subcategory block\" data-category=\"{&quot;id&quot;:344,&quot;name&quot;:&quot;Crochet&quot;,&quot;slug&quot;:&quot;crafts/crochet&quot;,&quot;position&quot;:2,&quot;parent_id&quot;:26,&quot;parent_name&quot;:&quot;Crafts&quot;,&quot;color&quot;:16744876,&quot;urls&quot;:{&quot;web&quot;:{&quot;discover&quot;:&quot;http://www.kickstarter.com/discover/categories/crafts/crochet&quot;}}}\" id=\"category_344\">\n",
      "<a class=\"black block fastclick hover-ksr-green-500 px3 py1 type-14\" href=\"#\" role=\"button\">Crochet</a>\n",
      "</li>\n",
      "<li class=\"js-subcategory block\" data-category=\"{&quot;id&quot;:345,&quot;name&quot;:&quot;DIY&quot;,&quot;slug&quot;:&quot;crafts/diy&quot;,&quot;position&quot;:3,&quot;parent_id&quot;:26,&quot;parent_name&quot;:&quot;Crafts&quot;,&quot;color&quot;:16744876,&quot;urls&quot;:{&quot;web&quot;:{&quot;discover&quot;:&quot;http://www.kickstarter.com/discover/categories/crafts/diy&quot;}}}\" id=\"category_345\">\n",
      "<a class=\"black block fastclick hover-ksr-green-500 px3 py1 type-14\" href=\"#\" role=\"button\">DIY</a>\n",
      "</li>\n",
      "<li class=\"js-subcategory block\" data-category=\"{&quot;id&quot;:346,&quot;name&quot;:&quot;Embroidery&quot;,&quot;slug&quot;:&quot;crafts/embroidery&quot;,&quot;position&quot;:4,&quot;parent_id&quot;:26,&quot;parent_name&quot;:&quot;Crafts&quot;,&quot;color&quot;:16744876,&quot;urls&quot;:{&quot;web&quot;:{&quot;discover&quot;:&quot;http://www.kickstarter.com/discover/categories/crafts/embroidery&quot;}}}\" id=\"category_346\">\n",
      "<a class=\"black block fastclick hover-ksr-green-500 px3 py1 type-14\" href=\"#\" role=\"button\">Embroidery</a>\n",
      "</li>\n",
      "<li class=\"js-subcategory block\" data-category=\"{&quot;id&quot;:347,&quot;name&quot;:&quot;Glass&quot;,&quot;slug&quot;:&quot;crafts/glass&quot;,&quot;position&quot;:5,&quot;parent_id&quot;:26,&quot;parent_name&quot;:&quot;Crafts&quot;,&quot;color&quot;:16744876,&quot;urls&quot;:{&quot;web&quot;:{&quot;discover&quot;:&quot;http://www.kickstarter.com/discover/categories/crafts/glass&quot;}}}\" id=\"category_347\">\n",
      "<a class=\"black block fastclick hover-ksr-green-500 px3 py1 type-14\" href=\"#\" role=\"button\">Glass</a>\n",
      "</li>\n",
      "<li class=\"js-subcategory block\" data-category=\"{&quot;id&quot;:348,&quot;name&quot;:&quot;Knitting&quot;,&quot;slug&quot;:&quot;crafts/knitting&quot;,&quot;position&quot;:6,&quot;parent_id&quot;:26,&quot;parent_name&quot;:&quot;Crafts&quot;,&quot;color&quot;:16744876,&quot;urls&quot;:{&quot;web&quot;:{&quot;discover&quot;:&quot;http://www.kickstarter.com/discover/categories/crafts/knitting&quot;}}}\" id=\"category_348\">\n",
      "<a class=\"black block fastclick hover-ksr-green-500 px3 py1 type-14\" href=\"#\" role=\"button\">Knitting</a>\n",
      "</li>\n",
      "<li class=\"js-subcategory block\" data-category=\"{&quot;id&quot;:350,&quot;name&quot;:&quot;Pottery&quot;,&quot;slug&quot;:&quot;crafts/pottery&quot;,&quot;position&quot;:8,&quot;parent_id&quot;:26,&quot;parent_name&quot;:&quot;Crafts&quot;,&quot;color&quot;:16744876,&quot;urls&quot;:{&quot;web&quot;:{&quot;discover&quot;:&quot;http://www.kickstarter.com/discover/categories/crafts/pottery&quot;}}}\" id=\"category_350\">\n",
      "<a class=\"black block fastclick hover-ksr-green-500 px3 py1 type-14\" href=\"#\" role=\"button\">Pottery</a>\n",
      "</li>\n",
      "<li class=\"js-subcategory block\" data-category=\"{&quot;id&quot;:351,&quot;name&quot;:&quot;Printing&quot;,&quot;slug&quot;:&quot;crafts/printing&quot;,&quot;position&quot;:9,&quot;parent_id&quot;:26,&quot;parent_name&quot;:&quot;Crafts&quot;,&quot;color&quot;:16744876,&quot;urls&quot;:{&quot;web&quot;:{&quot;discover&quot;:&quot;http://www.kickstarter.com/discover/categories/crafts/printing&quot;}}}\" id=\"category_351\">\n",
      "<a class=\"black block fastclick hover-ksr-green-500 px3 py1 type-14\" href=\"#\" role=\"button\">Printing</a>\n",
      "</li>\n",
      "<li class=\"js-subcategory block\" data-category=\"{&quot;id&quot;:352,&quot;name&quot;:&quot;Quilts&quot;,&quot;slug&quot;:&quot;crafts/quilts&quot;,&quot;position&quot;:10,&quot;parent_id&quot;:26,&quot;parent_name&quot;:&quot;Crafts&quot;,&quot;color&quot;:16744876,&quot;urls&quot;:{&quot;web&quot;:{&quot;discover&quot;:&quot;http://www.kickstarter.com/discover/categories/crafts/quilts&quot;}}}\" id=\"category_352\">\n",
      "<a class=\"black block fastclick hover-ksr-green-500 px3 py1 type-14\" href=\"#\" role=\"button\">Quilts</a>\n",
      "</li>\n",
      "<li class=\"js-subcategory block\" data-category=\"{&quot;id&quot;:353,&quot;name&quot;:&quot;Stationery&quot;,&quot;slug&quot;:&quot;crafts/stationery&quot;,&quot;position&quot;:11,&quot;parent_id&quot;:26,&quot;parent_name&quot;:&quot;Crafts&quot;,&quot;color&quot;:16744876,&quot;urls&quot;:{&quot;web&quot;:{&quot;discover&quot;:&quot;http://www.kickstarter.com/discover/categories/crafts/stationery&quot;}}}\" id=\"category_353\">\n",
      "<a class=\"black block fastclick hover-ksr-green-500 px3 py1 type-14\" href=\"#\" role=\"button\">Stationery</a>\n",
      "</li>\n",
      "<li class=\"js-subcategory block\" data-category=\"{&quot;id&quot;:354,&quot;name&quot;:&quot;Taxidermy&quot;,&quot;slug&quot;:&quot;crafts/taxidermy&quot;,&quot;position&quot;:12,&quot;parent_id&quot;:26,&quot;parent_name&quot;:&quot;Crafts&quot;,&quot;color&quot;:16744876,&quot;urls&quot;:{&quot;web&quot;:{&quot;discover&quot;:&quot;http://www.kickstarter.com/discover/categories/crafts/taxidermy&quot;}}}\" id=\"category_354\">\n",
      "<a class=\"black block fastclick hover-ksr-green-500 px3 py1 type-14\" href=\"#\" role=\"button\">Taxidermy</a>\n",
      "</li>\n",
      "<li class=\"js-subcategory block\" data-category=\"{&quot;id&quot;:355,&quot;name&quot;:&quot;Weaving&quot;,&quot;slug&quot;:&quot;crafts/weaving&quot;,&quot;position&quot;:13,&quot;parent_id&quot;:26,&quot;parent_name&quot;:&quot;Crafts&quot;,&quot;color&quot;:16744876,&quot;urls&quot;:{&quot;web&quot;:{&quot;discover&quot;:&quot;http://www.kickstarter.com/discover/categories/crafts/weaving&quot;}}}\" id=\"category_355\">\n",
      "<a class=\"black block fastclick hover-ksr-green-500 px3 py1 type-14\" href=\"#\" role=\"button\">Weaving</a>\n",
      "</li>\n",
      "<li class=\"js-subcategory block\" data-category=\"{&quot;id&quot;:356,&quot;name&quot;:&quot;Woodworking&quot;,&quot;slug&quot;:&quot;crafts/woodworking&quot;,&quot;position&quot;:14,&quot;parent_id&quot;:26,&quot;parent_name&quot;:&quot;Crafts&quot;,&quot;color&quot;:16744876,&quot;urls&quot;:{&quot;web&quot;:{&quot;discover&quot;:&quot;http://www.kickstarter.com/discover/categories/crafts/woodworking&quot;}}}\" id=\"category_356\">\n",
      "<a class=\"black block fastclick hover-ksr-green-500 px3 py1 type-14\" href=\"#\" role=\"button\">Woodworking</a>\n",
      "</li>\n",
      "</ul>\n",
      "</div>\n",
      "<div class=\"display-none js-subcategories\" id=\"category_6_subcategories\">\n",
      "<h5 class=\"border-bottom-sm border-grey-500 px3 pt1 pt3-sm pb1 mb1 type-12 bold text-uppercase ls1px navy-700\">\n",
      "Dance\n",
      "</h5>\n",
      "<ul class=\"columns2-sm w50-sm\">\n",
      "<li class=\"js-subcategory block\" data-category=\"{&quot;id&quot;:6,&quot;name&quot;:&quot;Dance&quot;,&quot;slug&quot;:&quot;dance&quot;,&quot;position&quot;:4,&quot;color&quot;:10917369,&quot;urls&quot;:{&quot;web&quot;:{&quot;discover&quot;:&quot;http://www.kickstarter.com/discover/categories/dance&quot;}}}\" id=\"category_6\">\n",
      "<a class=\"black block fastclick hover-ksr-green-500 px3 py1 type-14\" href=\"#\" role=\"button\">All of Dance</a>\n",
      "</li>\n",
      "<li class=\"js-subcategory block\" data-category=\"{&quot;id&quot;:254,&quot;name&quot;:&quot;Performances&quot;,&quot;slug&quot;:&quot;dance/performances&quot;,&quot;position&quot;:1,&quot;parent_id&quot;:6,&quot;parent_name&quot;:&quot;Dance&quot;,&quot;color&quot;:10917369,&quot;urls&quot;:{&quot;web&quot;:{&quot;discover&quot;:&quot;http://www.kickstarter.com/discover/categories/dance/performances&quot;}}}\" id=\"category_254\">\n",
      "<a class=\"black block fastclick hover-ksr-green-500 px3 py1 type-14\" href=\"#\" role=\"button\">Performances</a>\n",
      "</li>\n",
      "<li class=\"js-subcategory block\" data-category=\"{&quot;id&quot;:255,&quot;name&quot;:&quot;Residencies&quot;,&quot;slug&quot;:&quot;dance/residencies&quot;,&quot;position&quot;:2,&quot;parent_id&quot;:6,&quot;parent_name&quot;:&quot;Dance&quot;,&quot;color&quot;:10917369,&quot;urls&quot;:{&quot;web&quot;:{&quot;discover&quot;:&quot;http://www.kickstarter.com/discover/categories/dance/residencies&quot;}}}\" id=\"category_255\">\n",
      "<a class=\"black block fastclick hover-ksr-green-500 px3 py1 type-14\" href=\"#\" role=\"button\">Residencies</a>\n",
      "</li>\n",
      "<li class=\"js-subcategory block\" data-category=\"{&quot;id&quot;:256,&quot;name&quot;:&quot;Spaces&quot;,&quot;slug&quot;:&quot;dance/spaces&quot;,&quot;position&quot;:3,&quot;parent_id&quot;:6,&quot;parent_name&quot;:&quot;Dance&quot;,&quot;color&quot;:10917369,&quot;urls&quot;:{&quot;web&quot;:{&quot;discover&quot;:&quot;http://www.kickstarter.com/discover/categories/dance/spaces&quot;}}}\" id=\"category_256\">\n",
      "<a class=\"black block fastclick hover-ksr-green-500 px3 py1 type-14\" href=\"#\" role=\"button\">Spaces</a>\n",
      "</li>\n",
      "<li class=\"js-subcategory block\" data-category=\"{&quot;id&quot;:257,&quot;name&quot;:&quot;Workshops&quot;,&quot;slug&quot;:&quot;dance/workshops&quot;,&quot;position&quot;:4,&quot;parent_id&quot;:6,&quot;parent_name&quot;:&quot;Dance&quot;,&quot;color&quot;:10917369,&quot;urls&quot;:{&quot;web&quot;:{&quot;discover&quot;:&quot;http://www.kickstarter.com/discover/categories/dance/workshops&quot;}}}\" id=\"category_257\">\n",
      "<a class=\"black block fastclick hover-ksr-green-500 px3 py1 type-14\" href=\"#\" role=\"button\">Workshops</a>\n",
      "</li>\n",
      "</ul>\n",
      "</div>\n",
      "<div class=\"display-none js-subcategories\" id=\"category_7_subcategories\">\n",
      "<h5 class=\"border-bottom-sm border-grey-500 px3 pt1 pt3-sm pb1 mb1 type-12 bold text-uppercase ls1px navy-700\">\n",
      "Design\n",
      "</h5>\n",
      "<ul class=\"columns2-sm w50-sm\">\n",
      "<li class=\"js-subcategory block\" data-category=\"{&quot;id&quot;:7,&quot;name&quot;:&quot;Design&quot;,&quot;slug&quot;:&quot;design&quot;,&quot;position&quot;:5,&quot;color&quot;:2577151,&quot;urls&quot;:{&quot;web&quot;:{&quot;discover&quot;:&quot;http://www.kickstarter.com/discover/categories/design&quot;}}}\" id=\"category_7\">\n",
      "<a class=\"black block fastclick hover-ksr-green-500 px3 py1 type-14\" href=\"#\" role=\"button\">All of Design</a>\n",
      "</li>\n",
      "<li class=\"js-subcategory block\" data-category=\"{&quot;id&quot;:258,&quot;name&quot;:&quot;Architecture&quot;,&quot;slug&quot;:&quot;design/architecture&quot;,&quot;position&quot;:1,&quot;parent_id&quot;:7,&quot;parent_name&quot;:&quot;Design&quot;,&quot;color&quot;:2577151,&quot;urls&quot;:{&quot;web&quot;:{&quot;discover&quot;:&quot;http://www.kickstarter.com/discover/categories/design/architecture&quot;}}}\" id=\"category_258\">\n",
      "<a class=\"black block fastclick hover-ksr-green-500 px3 py1 type-14\" href=\"#\" role=\"button\">Architecture</a>\n",
      "</li>\n",
      "<li class=\"js-subcategory block\" data-category=\"{&quot;id&quot;:259,&quot;name&quot;:&quot;Civic Design&quot;,&quot;slug&quot;:&quot;design/civic design&quot;,&quot;position&quot;:2,&quot;parent_id&quot;:7,&quot;parent_name&quot;:&quot;Design&quot;,&quot;color&quot;:2577151,&quot;urls&quot;:{&quot;web&quot;:{&quot;discover&quot;:&quot;http://www.kickstarter.com/discover/categories/design/civic%20design&quot;}}}\" id=\"category_259\">\n",
      "<a class=\"black block fastclick hover-ksr-green-500 px3 py1 type-14\" href=\"#\" role=\"button\">Civic Design</a>\n",
      "</li>\n",
      "<li class=\"js-subcategory block\" data-category=\"{&quot;id&quot;:27,&quot;name&quot;:&quot;Graphic Design&quot;,&quot;slug&quot;:&quot;design/graphic design&quot;,&quot;position&quot;:3,&quot;parent_id&quot;:7,&quot;parent_name&quot;:&quot;Design&quot;,&quot;color&quot;:2577151,&quot;urls&quot;:{&quot;web&quot;:{&quot;discover&quot;:&quot;http://www.kickstarter.com/discover/categories/design/graphic%20design&quot;}}}\" id=\"category_27\">\n",
      "<a class=\"black block fastclick hover-ksr-green-500 px3 py1 type-14\" href=\"#\" role=\"button\">Graphic Design</a>\n",
      "</li>\n",
      "<li class=\"js-subcategory block\" data-category=\"{&quot;id&quot;:260,&quot;name&quot;:&quot;Interactive Design&quot;,&quot;slug&quot;:&quot;design/interactive design&quot;,&quot;position&quot;:4,&quot;parent_id&quot;:7,&quot;parent_name&quot;:&quot;Design&quot;,&quot;color&quot;:2577151,&quot;urls&quot;:{&quot;web&quot;:{&quot;discover&quot;:&quot;http://www.kickstarter.com/discover/categories/design/interactive%20design&quot;}}}\" id=\"category_260\">\n",
      "<a class=\"black block fastclick hover-ksr-green-500 px3 py1 type-14\" href=\"#\" role=\"button\">Interactive Design</a>\n",
      "</li>\n",
      "<li class=\"js-subcategory block\" data-category=\"{&quot;id&quot;:28,&quot;name&quot;:&quot;Product Design&quot;,&quot;slug&quot;:&quot;design/product design&quot;,&quot;position&quot;:5,&quot;parent_id&quot;:7,&quot;parent_name&quot;:&quot;Design&quot;,&quot;color&quot;:2577151,&quot;urls&quot;:{&quot;web&quot;:{&quot;discover&quot;:&quot;http://www.kickstarter.com/discover/categories/design/product%20design&quot;}}}\" id=\"category_28\">\n",
      "<a class=\"black block fastclick hover-ksr-green-500 px3 py1 type-14\" href=\"#\" role=\"button\">Product Design</a>\n",
      "</li>\n",
      "<li class=\"js-subcategory block\" data-category=\"{&quot;id&quot;:396,&quot;name&quot;:&quot;Toys&quot;,&quot;slug&quot;:&quot;design/toys&quot;,&quot;position&quot;:6,&quot;parent_id&quot;:7,&quot;parent_name&quot;:&quot;Design&quot;,&quot;color&quot;:2577151,&quot;urls&quot;:{&quot;web&quot;:{&quot;discover&quot;:&quot;http://www.kickstarter.com/discover/categories/design/toys&quot;}}}\" id=\"category_396\">\n",
      "<a class=\"black block fastclick hover-ksr-green-500 px3 py1 type-14\" href=\"#\" role=\"button\">Toys</a>\n",
      "</li>\n",
      "<li class=\"js-subcategory block\" data-category=\"{&quot;id&quot;:261,&quot;name&quot;:&quot;Typography&quot;,&quot;slug&quot;:&quot;design/typography&quot;,&quot;position&quot;:7,&quot;parent_id&quot;:7,&quot;parent_name&quot;:&quot;Design&quot;,&quot;color&quot;:2577151,&quot;urls&quot;:{&quot;web&quot;:{&quot;discover&quot;:&quot;http://www.kickstarter.com/discover/categories/design/typography&quot;}}}\" id=\"category_261\">\n",
      "<a class=\"black block fastclick hover-ksr-green-500 px3 py1 type-14\" href=\"#\" role=\"button\">Typography</a>\n",
      "</li>\n",
      "</ul>\n",
      "</div>\n",
      "<div class=\"display-none js-subcategories\" id=\"category_9_subcategories\">\n",
      "<h5 class=\"border-bottom-sm border-grey-500 px3 pt1 pt3-sm pb1 mb1 type-12 bold text-uppercase ls1px navy-700\">\n",
      "Fashion\n",
      "</h5>\n",
      "<ul class=\"columns2-sm w50-sm\">\n",
      "<li class=\"js-subcategory block\" data-category=\"{&quot;id&quot;:9,&quot;name&quot;:&quot;Fashion&quot;,&quot;slug&quot;:&quot;fashion&quot;,&quot;position&quot;:6,&quot;color&quot;:16752598,&quot;urls&quot;:{&quot;web&quot;:{&quot;discover&quot;:&quot;http://www.kickstarter.com/discover/categories/fashion&quot;}}}\" id=\"category_9\">\n",
      "<a class=\"black block fastclick hover-ksr-green-500 px3 py1 type-14\" href=\"#\" role=\"button\">All of Fashion</a>\n",
      "</li>\n",
      "<li class=\"js-subcategory block\" data-category=\"{&quot;id&quot;:262,&quot;name&quot;:&quot;Accessories&quot;,&quot;slug&quot;:&quot;fashion/accessories&quot;,&quot;position&quot;:1,&quot;parent_id&quot;:9,&quot;parent_name&quot;:&quot;Fashion&quot;,&quot;color&quot;:16752598,&quot;urls&quot;:{&quot;web&quot;:{&quot;discover&quot;:&quot;http://www.kickstarter.com/discover/categories/fashion/accessories&quot;}}}\" id=\"category_262\">\n",
      "<a class=\"black block fastclick hover-ksr-green-500 px3 py1 type-14\" href=\"#\" role=\"button\">Accessories</a>\n",
      "</li>\n",
      "<li class=\"js-subcategory block\" data-category=\"{&quot;id&quot;:263,&quot;name&quot;:&quot;Apparel&quot;,&quot;slug&quot;:&quot;fashion/apparel&quot;,&quot;position&quot;:2,&quot;parent_id&quot;:9,&quot;parent_name&quot;:&quot;Fashion&quot;,&quot;color&quot;:16752598,&quot;urls&quot;:{&quot;web&quot;:{&quot;discover&quot;:&quot;http://www.kickstarter.com/discover/categories/fashion/apparel&quot;}}}\" id=\"category_263\">\n",
      "<a class=\"black block fastclick hover-ksr-green-500 px3 py1 type-14\" href=\"#\" role=\"button\">Apparel</a>\n",
      "</li>\n",
      "<li class=\"js-subcategory block\" data-category=\"{&quot;id&quot;:264,&quot;name&quot;:&quot;Childrenswear&quot;,&quot;slug&quot;:&quot;fashion/childrenswear&quot;,&quot;position&quot;:3,&quot;parent_id&quot;:9,&quot;parent_name&quot;:&quot;Fashion&quot;,&quot;color&quot;:16752598,&quot;urls&quot;:{&quot;web&quot;:{&quot;discover&quot;:&quot;http://www.kickstarter.com/discover/categories/fashion/childrenswear&quot;}}}\" id=\"category_264\">\n",
      "<a class=\"black block fastclick hover-ksr-green-500 px3 py1 type-14\" href=\"#\" role=\"button\">Childrenswear</a>\n",
      "</li>\n",
      "<li class=\"js-subcategory block\" data-category=\"{&quot;id&quot;:265,&quot;name&quot;:&quot;Couture&quot;,&quot;slug&quot;:&quot;fashion/couture&quot;,&quot;position&quot;:4,&quot;parent_id&quot;:9,&quot;parent_name&quot;:&quot;Fashion&quot;,&quot;color&quot;:16752598,&quot;urls&quot;:{&quot;web&quot;:{&quot;discover&quot;:&quot;http://www.kickstarter.com/discover/categories/fashion/couture&quot;}}}\" id=\"category_265\">\n",
      "<a class=\"black block fastclick hover-ksr-green-500 px3 py1 type-14\" href=\"#\" role=\"button\">Couture</a>\n",
      "</li>\n",
      "<li class=\"js-subcategory block\" data-category=\"{&quot;id&quot;:266,&quot;name&quot;:&quot;Footwear&quot;,&quot;slug&quot;:&quot;fashion/footwear&quot;,&quot;position&quot;:5,&quot;parent_id&quot;:9,&quot;parent_name&quot;:&quot;Fashion&quot;,&quot;color&quot;:16752598,&quot;urls&quot;:{&quot;web&quot;:{&quot;discover&quot;:&quot;http://www.kickstarter.com/discover/categories/fashion/footwear&quot;}}}\" id=\"category_266\">\n",
      "<a class=\"black block fastclick hover-ksr-green-500 px3 py1 type-14\" href=\"#\" role=\"button\">Footwear</a>\n",
      "</li>\n",
      "<li class=\"js-subcategory block\" data-category=\"{&quot;id&quot;:267,&quot;name&quot;:&quot;Jewelry&quot;,&quot;slug&quot;:&quot;fashion/jewelry&quot;,&quot;position&quot;:6,&quot;parent_id&quot;:9,&quot;parent_name&quot;:&quot;Fashion&quot;,&quot;color&quot;:16752598,&quot;urls&quot;:{&quot;web&quot;:{&quot;discover&quot;:&quot;http://www.kickstarter.com/discover/categories/fashion/jewelry&quot;}}}\" id=\"category_267\">\n",
      "<a class=\"black block fastclick hover-ksr-green-500 px3 py1 type-14\" href=\"#\" role=\"button\">Jewelry</a>\n",
      "</li>\n",
      "<li class=\"js-subcategory block\" data-category=\"{&quot;id&quot;:268,&quot;name&quot;:&quot;Pet Fashion&quot;,&quot;slug&quot;:&quot;fashion/pet fashion&quot;,&quot;position&quot;:7,&quot;parent_id&quot;:9,&quot;parent_name&quot;:&quot;Fashion&quot;,&quot;color&quot;:16752598,&quot;urls&quot;:{&quot;web&quot;:{&quot;discover&quot;:&quot;http://www.kickstarter.com/discover/categories/fashion/pet%20fashion&quot;}}}\" id=\"category_268\">\n",
      "<a class=\"black block fastclick hover-ksr-green-500 px3 py1 type-14\" href=\"#\" role=\"button\">Pet Fashion</a>\n",
      "</li>\n",
      "<li class=\"js-subcategory block\" data-category=\"{&quot;id&quot;:269,&quot;name&quot;:&quot;Ready-to-wear&quot;,&quot;slug&quot;:&quot;fashion/ready-to-wear&quot;,&quot;position&quot;:8,&quot;parent_id&quot;:9,&quot;parent_name&quot;:&quot;Fashion&quot;,&quot;color&quot;:16752598,&quot;urls&quot;:{&quot;web&quot;:{&quot;discover&quot;:&quot;http://www.kickstarter.com/discover/categories/fashion/ready-to-wear&quot;}}}\" id=\"category_269\">\n",
      "<a class=\"black block fastclick hover-ksr-green-500 px3 py1 type-14\" href=\"#\" role=\"button\">Ready-to-wear</a>\n",
      "</li>\n",
      "</ul>\n",
      "</div>\n",
      "<div class=\"display-none js-subcategories\" id=\"category_11_subcategories\">\n",
      "<h5 class=\"border-bottom-sm border-grey-500 px3 pt1 pt3-sm pb1 mb1 type-12 bold text-uppercase ls1px navy-700\">\n",
      "Film & Video\n",
      "</h5>\n",
      "<ul class=\"columns2-sm w50-sm\">\n",
      "<li class=\"js-subcategory block\" data-category=\"{&quot;id&quot;:11,&quot;name&quot;:&quot;Film &amp; Video&quot;,&quot;slug&quot;:&quot;film &amp; video&quot;,&quot;position&quot;:7,&quot;color&quot;:16734574,&quot;urls&quot;:{&quot;web&quot;:{&quot;discover&quot;:&quot;http://www.kickstarter.com/discover/categories/film%20&amp;%20video&quot;}}}\" id=\"category_11\">\n",
      "<a class=\"black block fastclick hover-ksr-green-500 px3 py1 type-14\" href=\"#\" role=\"button\">All of Film & Video</a>\n",
      "</li>\n",
      "<li class=\"js-subcategory block\" data-category=\"{&quot;id&quot;:291,&quot;name&quot;:&quot;Action&quot;,&quot;slug&quot;:&quot;film &amp; video/action&quot;,&quot;position&quot;:1,&quot;parent_id&quot;:11,&quot;parent_name&quot;:&quot;Film &amp; Video&quot;,&quot;color&quot;:16734574,&quot;urls&quot;:{&quot;web&quot;:{&quot;discover&quot;:&quot;http://www.kickstarter.com/discover/categories/film%20&amp;%20video/action&quot;}}}\" id=\"category_291\">\n",
      "<a class=\"black block fastclick hover-ksr-green-500 px3 py1 type-14\" href=\"#\" role=\"button\">Action</a>\n",
      "</li>\n",
      "<li class=\"js-subcategory block\" data-category=\"{&quot;id&quot;:29,&quot;name&quot;:&quot;Animation&quot;,&quot;slug&quot;:&quot;film &amp; video/animation&quot;,&quot;position&quot;:2,&quot;parent_id&quot;:11,&quot;parent_name&quot;:&quot;Film &amp; Video&quot;,&quot;color&quot;:16734574,&quot;urls&quot;:{&quot;web&quot;:{&quot;discover&quot;:&quot;http://www.kickstarter.com/discover/categories/film%20&amp;%20video/animation&quot;}}}\" id=\"category_29\">\n",
      "<a class=\"black block fastclick hover-ksr-green-500 px3 py1 type-14\" href=\"#\" role=\"button\">Animation</a>\n",
      "</li>\n",
      "<li class=\"js-subcategory block\" data-category=\"{&quot;id&quot;:292,&quot;name&quot;:&quot;Comedy&quot;,&quot;slug&quot;:&quot;film &amp; video/comedy&quot;,&quot;position&quot;:3,&quot;parent_id&quot;:11,&quot;parent_name&quot;:&quot;Film &amp; Video&quot;,&quot;color&quot;:16734574,&quot;urls&quot;:{&quot;web&quot;:{&quot;discover&quot;:&quot;http://www.kickstarter.com/discover/categories/film%20&amp;%20video/comedy&quot;}}}\" id=\"category_292\">\n",
      "<a class=\"black block fastclick hover-ksr-green-500 px3 py1 type-14\" href=\"#\" role=\"button\">Comedy</a>\n",
      "</li>\n",
      "<li class=\"js-subcategory block\" data-category=\"{&quot;id&quot;:30,&quot;name&quot;:&quot;Documentary&quot;,&quot;slug&quot;:&quot;film &amp; video/documentary&quot;,&quot;position&quot;:4,&quot;parent_id&quot;:11,&quot;parent_name&quot;:&quot;Film &amp; Video&quot;,&quot;color&quot;:16734574,&quot;urls&quot;:{&quot;web&quot;:{&quot;discover&quot;:&quot;http://www.kickstarter.com/discover/categories/film%20&amp;%20video/documentary&quot;}}}\" id=\"category_30\">\n",
      "<a class=\"black block fastclick hover-ksr-green-500 px3 py1 type-14\" href=\"#\" role=\"button\">Documentary</a>\n",
      "</li>\n",
      "<li class=\"js-subcategory block\" data-category=\"{&quot;id&quot;:293,&quot;name&quot;:&quot;Drama&quot;,&quot;slug&quot;:&quot;film &amp; video/drama&quot;,&quot;position&quot;:5,&quot;parent_id&quot;:11,&quot;parent_name&quot;:&quot;Film &amp; Video&quot;,&quot;color&quot;:16734574,&quot;urls&quot;:{&quot;web&quot;:{&quot;discover&quot;:&quot;http://www.kickstarter.com/discover/categories/film%20&amp;%20video/drama&quot;}}}\" id=\"category_293\">\n",
      "<a class=\"black block fastclick hover-ksr-green-500 px3 py1 type-14\" href=\"#\" role=\"button\">Drama</a>\n",
      "</li>\n",
      "<li class=\"js-subcategory block\" data-category=\"{&quot;id&quot;:294,&quot;name&quot;:&quot;Experimental&quot;,&quot;slug&quot;:&quot;film &amp; video/experimental&quot;,&quot;position&quot;:6,&quot;parent_id&quot;:11,&quot;parent_name&quot;:&quot;Film &amp; Video&quot;,&quot;color&quot;:16734574,&quot;urls&quot;:{&quot;web&quot;:{&quot;discover&quot;:&quot;http://www.kickstarter.com/discover/categories/film%20&amp;%20video/experimental&quot;}}}\" id=\"category_294\">\n",
      "<a class=\"black block fastclick hover-ksr-green-500 px3 py1 type-14\" href=\"#\" role=\"button\">Experimental</a>\n",
      "</li>\n",
      "<li class=\"js-subcategory block\" data-category=\"{&quot;id&quot;:330,&quot;name&quot;:&quot;Family&quot;,&quot;slug&quot;:&quot;film &amp; video/family&quot;,&quot;position&quot;:7,&quot;parent_id&quot;:11,&quot;parent_name&quot;:&quot;Film &amp; Video&quot;,&quot;color&quot;:16734574,&quot;urls&quot;:{&quot;web&quot;:{&quot;discover&quot;:&quot;http://www.kickstarter.com/discover/categories/film%20&amp;%20video/family&quot;}}}\" id=\"category_330\">\n",
      "<a class=\"black block fastclick hover-ksr-green-500 px3 py1 type-14\" href=\"#\" role=\"button\">Family</a>\n",
      "</li>\n",
      "<li class=\"js-subcategory block\" data-category=\"{&quot;id&quot;:296,&quot;name&quot;:&quot;Fantasy&quot;,&quot;slug&quot;:&quot;film &amp; video/fantasy&quot;,&quot;position&quot;:8,&quot;parent_id&quot;:11,&quot;parent_name&quot;:&quot;Film &amp; Video&quot;,&quot;color&quot;:16734574,&quot;urls&quot;:{&quot;web&quot;:{&quot;discover&quot;:&quot;http://www.kickstarter.com/discover/categories/film%20&amp;%20video/fantasy&quot;}}}\" id=\"category_296\">\n",
      "<a class=\"black block fastclick hover-ksr-green-500 px3 py1 type-14\" href=\"#\" role=\"button\">Fantasy</a>\n",
      "</li>\n",
      "<li class=\"js-subcategory block\" data-category=\"{&quot;id&quot;:295,&quot;name&quot;:&quot;Festivals&quot;,&quot;slug&quot;:&quot;film &amp; video/festivals&quot;,&quot;position&quot;:9,&quot;parent_id&quot;:11,&quot;parent_name&quot;:&quot;Film &amp; Video&quot;,&quot;color&quot;:16734574,&quot;urls&quot;:{&quot;web&quot;:{&quot;discover&quot;:&quot;http://www.kickstarter.com/discover/categories/film%20&amp;%20video/festivals&quot;}}}\" id=\"category_295\">\n",
      "<a class=\"black block fastclick hover-ksr-green-500 px3 py1 type-14\" href=\"#\" role=\"button\">Festivals</a>\n",
      "</li>\n",
      "<li class=\"js-subcategory block\" data-category=\"{&quot;id&quot;:297,&quot;name&quot;:&quot;Horror&quot;,&quot;slug&quot;:&quot;film &amp; video/horror&quot;,&quot;position&quot;:10,&quot;parent_id&quot;:11,&quot;parent_name&quot;:&quot;Film &amp; Video&quot;,&quot;color&quot;:16734574,&quot;urls&quot;:{&quot;web&quot;:{&quot;discover&quot;:&quot;http://www.kickstarter.com/discover/categories/film%20&amp;%20video/horror&quot;}}}\" id=\"category_297\">\n",
      "<a class=\"black block fastclick hover-ksr-green-500 px3 py1 type-14\" href=\"#\" role=\"button\">Horror</a>\n",
      "</li>\n",
      "<li class=\"js-subcategory block\" data-category=\"{&quot;id&quot;:298,&quot;name&quot;:&quot;Movie Theaters&quot;,&quot;slug&quot;:&quot;film &amp; video/movie theaters&quot;,&quot;position&quot;:11,&quot;parent_id&quot;:11,&quot;parent_name&quot;:&quot;Film &amp; Video&quot;,&quot;color&quot;:16734574,&quot;urls&quot;:{&quot;web&quot;:{&quot;discover&quot;:&quot;http://www.kickstarter.com/discover/categories/film%20&amp;%20video/movie%20theaters&quot;}}}\" id=\"category_298\">\n",
      "<a class=\"black block fastclick hover-ksr-green-500 px3 py1 type-14\" href=\"#\" role=\"button\">Movie Theaters</a>\n",
      "</li>\n",
      "<li class=\"js-subcategory block\" data-category=\"{&quot;id&quot;:299,&quot;name&quot;:&quot;Music Videos&quot;,&quot;slug&quot;:&quot;film &amp; video/music videos&quot;,&quot;position&quot;:12,&quot;parent_id&quot;:11,&quot;parent_name&quot;:&quot;Film &amp; Video&quot;,&quot;color&quot;:16734574,&quot;urls&quot;:{&quot;web&quot;:{&quot;discover&quot;:&quot;http://www.kickstarter.com/discover/categories/film%20&amp;%20video/music%20videos&quot;}}}\" id=\"category_299\">\n",
      "<a class=\"black block fastclick hover-ksr-green-500 px3 py1 type-14\" href=\"#\" role=\"button\">Music Videos</a>\n",
      "</li>\n",
      "<li class=\"js-subcategory block\" data-category=\"{&quot;id&quot;:31,&quot;name&quot;:&quot;Narrative Film&quot;,&quot;slug&quot;:&quot;film &amp; video/narrative film&quot;,&quot;position&quot;:13,&quot;parent_id&quot;:11,&quot;parent_name&quot;:&quot;Film &amp; Video&quot;,&quot;color&quot;:16734574,&quot;urls&quot;:{&quot;web&quot;:{&quot;discover&quot;:&quot;http://www.kickstarter.com/discover/categories/film%20&amp;%20video/narrative%20film&quot;}}}\" id=\"category_31\">\n",
      "<a class=\"black block fastclick hover-ksr-green-500 px3 py1 type-14\" href=\"#\" role=\"button\">Narrative Film</a>\n",
      "</li>\n",
      "<li class=\"js-subcategory block\" data-category=\"{&quot;id&quot;:300,&quot;name&quot;:&quot;Romance&quot;,&quot;slug&quot;:&quot;film &amp; video/romance&quot;,&quot;position&quot;:14,&quot;parent_id&quot;:11,&quot;parent_name&quot;:&quot;Film &amp; Video&quot;,&quot;color&quot;:16734574,&quot;urls&quot;:{&quot;web&quot;:{&quot;discover&quot;:&quot;http://www.kickstarter.com/discover/categories/film%20&amp;%20video/romance&quot;}}}\" id=\"category_300\">\n",
      "<a class=\"black block fastclick hover-ksr-green-500 px3 py1 type-14\" href=\"#\" role=\"button\">Romance</a>\n",
      "</li>\n",
      "<li class=\"js-subcategory block\" data-category=\"{&quot;id&quot;:301,&quot;name&quot;:&quot;Science Fiction&quot;,&quot;slug&quot;:&quot;film &amp; video/science fiction&quot;,&quot;position&quot;:15,&quot;parent_id&quot;:11,&quot;parent_name&quot;:&quot;Film &amp; Video&quot;,&quot;color&quot;:16734574,&quot;urls&quot;:{&quot;web&quot;:{&quot;discover&quot;:&quot;http://www.kickstarter.com/discover/categories/film%20&amp;%20video/science%20fiction&quot;}}}\" id=\"category_301\">\n",
      "<a class=\"black block fastclick hover-ksr-green-500 px3 py1 type-14\" href=\"#\" role=\"button\">Science Fiction</a>\n",
      "</li>\n",
      "<li class=\"js-subcategory block\" data-category=\"{&quot;id&quot;:32,&quot;name&quot;:&quot;Shorts&quot;,&quot;slug&quot;:&quot;film &amp; video/shorts&quot;,&quot;position&quot;:16,&quot;parent_id&quot;:11,&quot;parent_name&quot;:&quot;Film &amp; Video&quot;,&quot;color&quot;:16734574,&quot;urls&quot;:{&quot;web&quot;:{&quot;discover&quot;:&quot;http://www.kickstarter.com/discover/categories/film%20&amp;%20video/shorts&quot;}}}\" id=\"category_32\">\n",
      "<a class=\"black block fastclick hover-ksr-green-500 px3 py1 type-14\" href=\"#\" role=\"button\">Shorts</a>\n",
      "</li>\n",
      "<li class=\"js-subcategory block\" data-category=\"{&quot;id&quot;:303,&quot;name&quot;:&quot;Television&quot;,&quot;slug&quot;:&quot;film &amp; video/television&quot;,&quot;position&quot;:17,&quot;parent_id&quot;:11,&quot;parent_name&quot;:&quot;Film &amp; Video&quot;,&quot;color&quot;:16734574,&quot;urls&quot;:{&quot;web&quot;:{&quot;discover&quot;:&quot;http://www.kickstarter.com/discover/categories/film%20&amp;%20video/television&quot;}}}\" id=\"category_303\">\n",
      "<a class=\"black block fastclick hover-ksr-green-500 px3 py1 type-14\" href=\"#\" role=\"button\">Television</a>\n",
      "</li>\n",
      "<li class=\"js-subcategory block\" data-category=\"{&quot;id&quot;:302,&quot;name&quot;:&quot;Thrillers&quot;,&quot;slug&quot;:&quot;film &amp; video/thrillers&quot;,&quot;position&quot;:18,&quot;parent_id&quot;:11,&quot;parent_name&quot;:&quot;Film &amp; Video&quot;,&quot;color&quot;:16734574,&quot;urls&quot;:{&quot;web&quot;:{&quot;discover&quot;:&quot;http://www.kickstarter.com/discover/categories/film%20&amp;%20video/thrillers&quot;}}}\" id=\"category_302\">\n",
      "<a class=\"black block fastclick hover-ksr-green-500 px3 py1 type-14\" href=\"#\" role=\"button\">Thrillers</a>\n",
      "</li>\n",
      "<li class=\"js-subcategory block\" data-category=\"{&quot;id&quot;:33,&quot;name&quot;:&quot;Webseries&quot;,&quot;slug&quot;:&quot;film &amp; video/webseries&quot;,&quot;position&quot;:19,&quot;parent_id&quot;:11,&quot;parent_name&quot;:&quot;Film &amp; Video&quot;,&quot;color&quot;:16734574,&quot;urls&quot;:{&quot;web&quot;:{&quot;discover&quot;:&quot;http://www.kickstarter.com/discover/categories/film%20&amp;%20video/webseries&quot;}}}\" id=\"category_33\">\n",
      "<a class=\"black block fastclick hover-ksr-green-500 px3 py1 type-14\" href=\"#\" role=\"button\">Webseries</a>\n",
      "</li>\n",
      "</ul>\n",
      "</div>\n",
      "<div class=\"display-none js-subcategories\" id=\"category_10_subcategories\">\n",
      "<h5 class=\"border-bottom-sm border-grey-500 px3 pt1 pt3-sm pb1 mb1 type-12 bold text-uppercase ls1px navy-700\">\n",
      "Food\n",
      "</h5>\n",
      "<ul class=\"columns2-sm w50-sm\">\n",
      "<li class=\"js-subcategory block\" data-category=\"{&quot;id&quot;:10,&quot;name&quot;:&quot;Food&quot;,&quot;slug&quot;:&quot;food&quot;,&quot;position&quot;:8,&quot;color&quot;:16725570,&quot;urls&quot;:{&quot;web&quot;:{&quot;discover&quot;:&quot;http://www.kickstarter.com/discover/categories/food&quot;}}}\" id=\"category_10\">\n",
      "<a class=\"black block fastclick hover-ksr-green-500 px3 py1 type-14\" href=\"#\" role=\"button\">All of Food</a>\n",
      "</li>\n",
      "<li class=\"js-subcategory block\" data-category=\"{&quot;id&quot;:304,&quot;name&quot;:&quot;Bacon&quot;,&quot;slug&quot;:&quot;food/bacon&quot;,&quot;position&quot;:1,&quot;parent_id&quot;:10,&quot;parent_name&quot;:&quot;Food&quot;,&quot;color&quot;:16725570,&quot;urls&quot;:{&quot;web&quot;:{&quot;discover&quot;:&quot;http://www.kickstarter.com/discover/categories/food/bacon&quot;}}}\" id=\"category_304\">\n",
      "<a class=\"black block fastclick hover-ksr-green-500 px3 py1 type-14\" href=\"#\" role=\"button\">Bacon</a>\n",
      "</li>\n",
      "<li class=\"js-subcategory block\" data-category=\"{&quot;id&quot;:305,&quot;name&quot;:&quot;Community Gardens&quot;,&quot;slug&quot;:&quot;food/community gardens&quot;,&quot;position&quot;:2,&quot;parent_id&quot;:10,&quot;parent_name&quot;:&quot;Food&quot;,&quot;color&quot;:16725570,&quot;urls&quot;:{&quot;web&quot;:{&quot;discover&quot;:&quot;http://www.kickstarter.com/discover/categories/food/community%20gardens&quot;}}}\" id=\"category_305\">\n",
      "<a class=\"black block fastclick hover-ksr-green-500 px3 py1 type-14\" href=\"#\" role=\"button\">Community Gardens</a>\n",
      "</li>\n",
      "<li class=\"js-subcategory block\" data-category=\"{&quot;id&quot;:306,&quot;name&quot;:&quot;Cookbooks&quot;,&quot;slug&quot;:&quot;food/cookbooks&quot;,&quot;position&quot;:3,&quot;parent_id&quot;:10,&quot;parent_name&quot;:&quot;Food&quot;,&quot;color&quot;:16725570,&quot;urls&quot;:{&quot;web&quot;:{&quot;discover&quot;:&quot;http://www.kickstarter.com/discover/categories/food/cookbooks&quot;}}}\" id=\"category_306\">\n",
      "<a class=\"black block fastclick hover-ksr-green-500 px3 py1 type-14\" href=\"#\" role=\"button\">Cookbooks</a>\n",
      "</li>\n",
      "<li class=\"js-subcategory block\" data-category=\"{&quot;id&quot;:307,&quot;name&quot;:&quot;Drinks&quot;,&quot;slug&quot;:&quot;food/drinks&quot;,&quot;position&quot;:4,&quot;parent_id&quot;:10,&quot;parent_name&quot;:&quot;Food&quot;,&quot;color&quot;:16725570,&quot;urls&quot;:{&quot;web&quot;:{&quot;discover&quot;:&quot;http://www.kickstarter.com/discover/categories/food/drinks&quot;}}}\" id=\"category_307\">\n",
      "<a class=\"black block fastclick hover-ksr-green-500 px3 py1 type-14\" href=\"#\" role=\"button\">Drinks</a>\n",
      "</li>\n",
      "<li class=\"js-subcategory block\" data-category=\"{&quot;id&quot;:308,&quot;name&quot;:&quot;Events&quot;,&quot;slug&quot;:&quot;food/events&quot;,&quot;position&quot;:5,&quot;parent_id&quot;:10,&quot;parent_name&quot;:&quot;Food&quot;,&quot;color&quot;:16725570,&quot;urls&quot;:{&quot;web&quot;:{&quot;discover&quot;:&quot;http://www.kickstarter.com/discover/categories/food/events&quot;}}}\" id=\"category_308\">\n",
      "<a class=\"black block fastclick hover-ksr-green-500 px3 py1 type-14\" href=\"#\" role=\"button\">Events</a>\n",
      "</li>\n",
      "<li class=\"js-subcategory block\" data-category=\"{&quot;id&quot;:310,&quot;name&quot;:&quot;Farmer&#39;s Markets&quot;,&quot;slug&quot;:&quot;food/farmer&#39;s markets&quot;,&quot;position&quot;:6,&quot;parent_id&quot;:10,&quot;parent_name&quot;:&quot;Food&quot;,&quot;color&quot;:16725570,&quot;urls&quot;:{&quot;web&quot;:{&quot;discover&quot;:&quot;http://www.kickstarter.com/discover/categories/food/farmer&#39;s%20markets&quot;}}}\" id=\"category_310\">\n",
      "<a class=\"black block fastclick hover-ksr-green-500 px3 py1 type-14\" href=\"#\" role=\"button\">Farmer's Markets</a>\n",
      "</li>\n",
      "<li class=\"js-subcategory block\" data-category=\"{&quot;id&quot;:309,&quot;name&quot;:&quot;Farms&quot;,&quot;slug&quot;:&quot;food/farms&quot;,&quot;position&quot;:7,&quot;parent_id&quot;:10,&quot;parent_name&quot;:&quot;Food&quot;,&quot;color&quot;:16725570,&quot;urls&quot;:{&quot;web&quot;:{&quot;discover&quot;:&quot;http://www.kickstarter.com/discover/categories/food/farms&quot;}}}\" id=\"category_309\">\n",
      "<a class=\"black block fastclick hover-ksr-green-500 px3 py1 type-14\" href=\"#\" role=\"button\">Farms</a>\n",
      "</li>\n",
      "<li class=\"js-subcategory block\" data-category=\"{&quot;id&quot;:311,&quot;name&quot;:&quot;Food Trucks&quot;,&quot;slug&quot;:&quot;food/food trucks&quot;,&quot;position&quot;:8,&quot;parent_id&quot;:10,&quot;parent_name&quot;:&quot;Food&quot;,&quot;color&quot;:16725570,&quot;urls&quot;:{&quot;web&quot;:{&quot;discover&quot;:&quot;http://www.kickstarter.com/discover/categories/food/food%20trucks&quot;}}}\" id=\"category_311\">\n",
      "<a class=\"black block fastclick hover-ksr-green-500 px3 py1 type-14\" href=\"#\" role=\"button\">Food Trucks</a>\n",
      "</li>\n",
      "<li class=\"js-subcategory block\" data-category=\"{&quot;id&quot;:312,&quot;name&quot;:&quot;Restaurants&quot;,&quot;slug&quot;:&quot;food/restaurants&quot;,&quot;position&quot;:9,&quot;parent_id&quot;:10,&quot;parent_name&quot;:&quot;Food&quot;,&quot;color&quot;:16725570,&quot;urls&quot;:{&quot;web&quot;:{&quot;discover&quot;:&quot;http://www.kickstarter.com/discover/categories/food/restaurants&quot;}}}\" id=\"category_312\">\n",
      "<a class=\"black block fastclick hover-ksr-green-500 px3 py1 type-14\" href=\"#\" role=\"button\">Restaurants</a>\n",
      "</li>\n",
      "<li class=\"js-subcategory block\" data-category=\"{&quot;id&quot;:313,&quot;name&quot;:&quot;Small Batch&quot;,&quot;slug&quot;:&quot;food/small batch&quot;,&quot;position&quot;:10,&quot;parent_id&quot;:10,&quot;parent_name&quot;:&quot;Food&quot;,&quot;color&quot;:16725570,&quot;urls&quot;:{&quot;web&quot;:{&quot;discover&quot;:&quot;http://www.kickstarter.com/discover/categories/food/small%20batch&quot;}}}\" id=\"category_313\">\n",
      "<a class=\"black block fastclick hover-ksr-green-500 px3 py1 type-14\" href=\"#\" role=\"button\">Small Batch</a>\n",
      "</li>\n",
      "<li class=\"js-subcategory block\" data-category=\"{&quot;id&quot;:314,&quot;name&quot;:&quot;Spaces&quot;,&quot;slug&quot;:&quot;food/spaces&quot;,&quot;position&quot;:11,&quot;parent_id&quot;:10,&quot;parent_name&quot;:&quot;Food&quot;,&quot;color&quot;:16725570,&quot;urls&quot;:{&quot;web&quot;:{&quot;discover&quot;:&quot;http://www.kickstarter.com/discover/categories/food/spaces&quot;}}}\" id=\"category_314\">\n",
      "<a class=\"black block fastclick hover-ksr-green-500 px3 py1 type-14\" href=\"#\" role=\"button\">Spaces</a>\n",
      "</li>\n",
      "<li class=\"js-subcategory block\" data-category=\"{&quot;id&quot;:315,&quot;name&quot;:&quot;Vegan&quot;,&quot;slug&quot;:&quot;food/vegan&quot;,&quot;position&quot;:12,&quot;parent_id&quot;:10,&quot;parent_name&quot;:&quot;Food&quot;,&quot;color&quot;:16725570,&quot;urls&quot;:{&quot;web&quot;:{&quot;discover&quot;:&quot;http://www.kickstarter.com/discover/categories/food/vegan&quot;}}}\" id=\"category_315\">\n",
      "<a class=\"black block fastclick hover-ksr-green-500 px3 py1 type-14\" href=\"#\" role=\"button\">Vegan</a>\n",
      "</li>\n",
      "</ul>\n",
      "</div>\n",
      "<div class=\"block js-subcategories\" id=\"category_12_subcategories\">\n",
      "<h5 class=\"border-bottom-sm border-grey-500 px3 pt1 pt3-sm pb1 mb1 type-12 bold text-uppercase ls1px navy-700\">\n",
      "Games\n",
      "</h5>\n",
      "<ul class=\"columns2-sm w50-sm\">\n",
      "<li class=\"js-subcategory block\" data-category=\"{&quot;id&quot;:12,&quot;name&quot;:&quot;Games&quot;,&quot;slug&quot;:&quot;games&quot;,&quot;position&quot;:9,&quot;color&quot;:51627,&quot;urls&quot;:{&quot;web&quot;:{&quot;discover&quot;:&quot;http://www.kickstarter.com/discover/categories/games&quot;}}}\" id=\"category_12\">\n",
      "<a class=\"block fastclick hover-ksr-green-500 ksr-green-500 px3 py1 type-14\" href=\"#\" role=\"button\">All of Games</a>\n",
      "</li>\n",
      "<li class=\"js-subcategory block\" data-category=\"{&quot;id&quot;:270,&quot;name&quot;:&quot;Gaming Hardware&quot;,&quot;slug&quot;:&quot;games/gaming hardware&quot;,&quot;position&quot;:1,&quot;parent_id&quot;:12,&quot;parent_name&quot;:&quot;Games&quot;,&quot;color&quot;:51627,&quot;urls&quot;:{&quot;web&quot;:{&quot;discover&quot;:&quot;http://www.kickstarter.com/discover/categories/games/gaming%20hardware&quot;}}}\" id=\"category_270\">\n",
      "<a class=\"black block fastclick hover-ksr-green-500 px3 py1 type-14\" href=\"#\" role=\"button\">Gaming Hardware</a>\n",
      "</li>\n",
      "<li class=\"js-subcategory block\" data-category=\"{&quot;id&quot;:271,&quot;name&quot;:&quot;Live Games&quot;,&quot;slug&quot;:&quot;games/live games&quot;,&quot;position&quot;:2,&quot;parent_id&quot;:12,&quot;parent_name&quot;:&quot;Games&quot;,&quot;color&quot;:51627,&quot;urls&quot;:{&quot;web&quot;:{&quot;discover&quot;:&quot;http://www.kickstarter.com/discover/categories/games/live%20games&quot;}}}\" id=\"category_271\">\n",
      "<a class=\"black block fastclick hover-ksr-green-500 px3 py1 type-14\" href=\"#\" role=\"button\">Live Games</a>\n",
      "</li>\n",
      "<li class=\"js-subcategory block\" data-category=\"{&quot;id&quot;:272,&quot;name&quot;:&quot;Mobile Games&quot;,&quot;slug&quot;:&quot;games/mobile games&quot;,&quot;position&quot;:3,&quot;parent_id&quot;:12,&quot;parent_name&quot;:&quot;Games&quot;,&quot;color&quot;:51627,&quot;urls&quot;:{&quot;web&quot;:{&quot;discover&quot;:&quot;http://www.kickstarter.com/discover/categories/games/mobile%20games&quot;}}}\" id=\"category_272\">\n",
      "<a class=\"black block fastclick hover-ksr-green-500 px3 py1 type-14\" href=\"#\" role=\"button\">Mobile Games</a>\n",
      "</li>\n",
      "<li class=\"js-subcategory block\" data-category=\"{&quot;id&quot;:273,&quot;name&quot;:&quot;Playing Cards&quot;,&quot;slug&quot;:&quot;games/playing cards&quot;,&quot;position&quot;:4,&quot;parent_id&quot;:12,&quot;parent_name&quot;:&quot;Games&quot;,&quot;color&quot;:51627,&quot;urls&quot;:{&quot;web&quot;:{&quot;discover&quot;:&quot;http://www.kickstarter.com/discover/categories/games/playing%20cards&quot;}}}\" id=\"category_273\">\n",
      "<a class=\"black block fastclick hover-ksr-green-500 px3 py1 type-14\" href=\"#\" role=\"button\">Playing Cards</a>\n",
      "</li>\n",
      "<li class=\"js-subcategory block\" data-category=\"{&quot;id&quot;:274,&quot;name&quot;:&quot;Puzzles&quot;,&quot;slug&quot;:&quot;games/puzzles&quot;,&quot;position&quot;:5,&quot;parent_id&quot;:12,&quot;parent_name&quot;:&quot;Games&quot;,&quot;color&quot;:51627,&quot;urls&quot;:{&quot;web&quot;:{&quot;discover&quot;:&quot;http://www.kickstarter.com/discover/categories/games/puzzles&quot;}}}\" id=\"category_274\">\n",
      "<a class=\"black block fastclick hover-ksr-green-500 px3 py1 type-14\" href=\"#\" role=\"button\">Puzzles</a>\n",
      "</li>\n",
      "<li class=\"js-subcategory block\" data-category=\"{&quot;id&quot;:34,&quot;name&quot;:&quot;Tabletop Games&quot;,&quot;slug&quot;:&quot;games/tabletop games&quot;,&quot;position&quot;:6,&quot;parent_id&quot;:12,&quot;parent_name&quot;:&quot;Games&quot;,&quot;color&quot;:51627,&quot;urls&quot;:{&quot;web&quot;:{&quot;discover&quot;:&quot;http://www.kickstarter.com/discover/categories/games/tabletop%20games&quot;}}}\" id=\"category_34\">\n",
      "<a class=\"black block fastclick hover-ksr-green-500 px3 py1 type-14\" href=\"#\" role=\"button\">Tabletop Games</a>\n",
      "</li>\n",
      "<li class=\"js-subcategory block\" data-category=\"{&quot;id&quot;:35,&quot;name&quot;:&quot;Video Games&quot;,&quot;slug&quot;:&quot;games/video games&quot;,&quot;position&quot;:7,&quot;parent_id&quot;:12,&quot;parent_name&quot;:&quot;Games&quot;,&quot;color&quot;:51627,&quot;urls&quot;:{&quot;web&quot;:{&quot;discover&quot;:&quot;http://www.kickstarter.com/discover/categories/games/video%20games&quot;}}}\" id=\"category_35\">\n",
      "<a class=\"black block fastclick hover-ksr-green-500 px3 py1 type-14\" href=\"#\" role=\"button\">Video Games</a>\n",
      "</li>\n",
      "</ul>\n",
      "</div>\n",
      "<div class=\"display-none js-subcategories\" id=\"category_13_subcategories\">\n",
      "<h5 class=\"border-bottom-sm border-grey-500 px3 pt1 pt3-sm pb1 mb1 type-12 bold text-uppercase ls1px navy-700\">\n",
      "Journalism\n",
      "</h5>\n",
      "<ul class=\"columns2-sm w50-sm\">\n",
      "<li class=\"js-subcategory block\" data-category=\"{&quot;id&quot;:13,&quot;name&quot;:&quot;Journalism&quot;,&quot;slug&quot;:&quot;journalism&quot;,&quot;position&quot;:10,&quot;color&quot;:1228010,&quot;urls&quot;:{&quot;web&quot;:{&quot;discover&quot;:&quot;http://www.kickstarter.com/discover/categories/journalism&quot;}}}\" id=\"category_13\">\n",
      "<a class=\"black block fastclick hover-ksr-green-500 px3 py1 type-14\" href=\"#\" role=\"button\">All of Journalism</a>\n",
      "</li>\n",
      "<li class=\"js-subcategory block\" data-category=\"{&quot;id&quot;:357,&quot;name&quot;:&quot;Audio&quot;,&quot;slug&quot;:&quot;journalism/audio&quot;,&quot;position&quot;:1,&quot;parent_id&quot;:13,&quot;parent_name&quot;:&quot;Journalism&quot;,&quot;color&quot;:1228010,&quot;urls&quot;:{&quot;web&quot;:{&quot;discover&quot;:&quot;http://www.kickstarter.com/discover/categories/journalism/audio&quot;}}}\" id=\"category_357\">\n",
      "<a class=\"black block fastclick hover-ksr-green-500 px3 py1 type-14\" href=\"#\" role=\"button\">Audio</a>\n",
      "</li>\n",
      "<li class=\"js-subcategory block\" data-category=\"{&quot;id&quot;:358,&quot;name&quot;:&quot;Photo&quot;,&quot;slug&quot;:&quot;journalism/photo&quot;,&quot;position&quot;:2,&quot;parent_id&quot;:13,&quot;parent_name&quot;:&quot;Journalism&quot;,&quot;color&quot;:1228010,&quot;urls&quot;:{&quot;web&quot;:{&quot;discover&quot;:&quot;http://www.kickstarter.com/discover/categories/journalism/photo&quot;}}}\" id=\"category_358\">\n",
      "<a class=\"black block fastclick hover-ksr-green-500 px3 py1 type-14\" href=\"#\" role=\"button\">Photo</a>\n",
      "</li>\n",
      "<li class=\"js-subcategory block\" data-category=\"{&quot;id&quot;:359,&quot;name&quot;:&quot;Print&quot;,&quot;slug&quot;:&quot;journalism/print&quot;,&quot;position&quot;:3,&quot;parent_id&quot;:13,&quot;parent_name&quot;:&quot;Journalism&quot;,&quot;color&quot;:1228010,&quot;urls&quot;:{&quot;web&quot;:{&quot;discover&quot;:&quot;http://www.kickstarter.com/discover/categories/journalism/print&quot;}}}\" id=\"category_359\">\n",
      "<a class=\"black block fastclick hover-ksr-green-500 px3 py1 type-14\" href=\"#\" role=\"button\">Print</a>\n",
      "</li>\n",
      "<li class=\"js-subcategory block\" data-category=\"{&quot;id&quot;:360,&quot;name&quot;:&quot;Video&quot;,&quot;slug&quot;:&quot;journalism/video&quot;,&quot;position&quot;:4,&quot;parent_id&quot;:13,&quot;parent_name&quot;:&quot;Journalism&quot;,&quot;color&quot;:1228010,&quot;urls&quot;:{&quot;web&quot;:{&quot;discover&quot;:&quot;http://www.kickstarter.com/discover/categories/journalism/video&quot;}}}\" id=\"category_360\">\n",
      "<a class=\"black block fastclick hover-ksr-green-500 px3 py1 type-14\" href=\"#\" role=\"button\">Video</a>\n",
      "</li>\n",
      "<li class=\"js-subcategory block\" data-category=\"{&quot;id&quot;:361,&quot;name&quot;:&quot;Web&quot;,&quot;slug&quot;:&quot;journalism/web&quot;,&quot;position&quot;:5,&quot;parent_id&quot;:13,&quot;parent_name&quot;:&quot;Journalism&quot;,&quot;color&quot;:1228010,&quot;urls&quot;:{&quot;web&quot;:{&quot;discover&quot;:&quot;http://www.kickstarter.com/discover/categories/journalism/web&quot;}}}\" id=\"category_361\">\n",
      "<a class=\"black block fastclick hover-ksr-green-500 px3 py1 type-14\" href=\"#\" role=\"button\">Web</a>\n",
      "</li>\n",
      "</ul>\n",
      "</div>\n",
      "<div class=\"display-none js-subcategories\" id=\"category_14_subcategories\">\n",
      "<h5 class=\"border-bottom-sm border-grey-500 px3 pt1 pt3-sm pb1 mb1 type-12 bold text-uppercase ls1px navy-700\">\n",
      "Music\n",
      "</h5>\n",
      "<ul class=\"columns2-sm w50-sm\">\n",
      "<li class=\"js-subcategory block\" data-category=\"{&quot;id&quot;:14,&quot;name&quot;:&quot;Music&quot;,&quot;slug&quot;:&quot;music&quot;,&quot;position&quot;:11,&quot;color&quot;:10878931,&quot;urls&quot;:{&quot;web&quot;:{&quot;discover&quot;:&quot;http://www.kickstarter.com/discover/categories/music&quot;}}}\" id=\"category_14\">\n",
      "<a class=\"black block fastclick hover-ksr-green-500 px3 py1 type-14\" href=\"#\" role=\"button\">All of Music</a>\n",
      "</li>\n",
      "<li class=\"js-subcategory block\" data-category=\"{&quot;id&quot;:316,&quot;name&quot;:&quot;Blues&quot;,&quot;slug&quot;:&quot;music/blues&quot;,&quot;position&quot;:1,&quot;parent_id&quot;:14,&quot;parent_name&quot;:&quot;Music&quot;,&quot;color&quot;:10878931,&quot;urls&quot;:{&quot;web&quot;:{&quot;discover&quot;:&quot;http://www.kickstarter.com/discover/categories/music/blues&quot;}}}\" id=\"category_316\">\n",
      "<a class=\"black block fastclick hover-ksr-green-500 px3 py1 type-14\" href=\"#\" role=\"button\">Blues</a>\n",
      "</li>\n",
      "<li class=\"js-subcategory block\" data-category=\"{&quot;id&quot;:317,&quot;name&quot;:&quot;Chiptune&quot;,&quot;slug&quot;:&quot;music/chiptune&quot;,&quot;position&quot;:2,&quot;parent_id&quot;:14,&quot;parent_name&quot;:&quot;Music&quot;,&quot;color&quot;:10878931,&quot;urls&quot;:{&quot;web&quot;:{&quot;discover&quot;:&quot;http://www.kickstarter.com/discover/categories/music/chiptune&quot;}}}\" id=\"category_317\">\n",
      "<a class=\"black block fastclick hover-ksr-green-500 px3 py1 type-14\" href=\"#\" role=\"button\">Chiptune</a>\n",
      "</li>\n",
      "<li class=\"js-subcategory block\" data-category=\"{&quot;id&quot;:36,&quot;name&quot;:&quot;Classical Music&quot;,&quot;slug&quot;:&quot;music/classical music&quot;,&quot;position&quot;:3,&quot;parent_id&quot;:14,&quot;parent_name&quot;:&quot;Music&quot;,&quot;color&quot;:10878931,&quot;urls&quot;:{&quot;web&quot;:{&quot;discover&quot;:&quot;http://www.kickstarter.com/discover/categories/music/classical%20music&quot;}}}\" id=\"category_36\">\n",
      "<a class=\"black block fastclick hover-ksr-green-500 px3 py1 type-14\" href=\"#\" role=\"button\">Classical Music</a>\n",
      "</li>\n",
      "<li class=\"js-subcategory block\" data-category=\"{&quot;id&quot;:386,&quot;name&quot;:&quot;Comedy&quot;,&quot;slug&quot;:&quot;music/comedy&quot;,&quot;position&quot;:4,&quot;parent_id&quot;:14,&quot;parent_name&quot;:&quot;Music&quot;,&quot;color&quot;:10878931,&quot;urls&quot;:{&quot;web&quot;:{&quot;discover&quot;:&quot;http://www.kickstarter.com/discover/categories/music/comedy&quot;}}}\" id=\"category_386\">\n",
      "<a class=\"black block fastclick hover-ksr-green-500 px3 py1 type-14\" href=\"#\" role=\"button\">Comedy</a>\n",
      "</li>\n",
      "<li class=\"js-subcategory block\" data-category=\"{&quot;id&quot;:37,&quot;name&quot;:&quot;Country &amp; Folk&quot;,&quot;slug&quot;:&quot;music/country &amp; folk&quot;,&quot;position&quot;:5,&quot;parent_id&quot;:14,&quot;parent_name&quot;:&quot;Music&quot;,&quot;color&quot;:10878931,&quot;urls&quot;:{&quot;web&quot;:{&quot;discover&quot;:&quot;http://www.kickstarter.com/discover/categories/music/country%20&amp;%20folk&quot;}}}\" id=\"category_37\">\n",
      "<a class=\"black block fastclick hover-ksr-green-500 px3 py1 type-14\" href=\"#\" role=\"button\">Country & Folk</a>\n",
      "</li>\n",
      "<li class=\"js-subcategory block\" data-category=\"{&quot;id&quot;:38,&quot;name&quot;:&quot;Electronic Music&quot;,&quot;slug&quot;:&quot;music/electronic music&quot;,&quot;position&quot;:6,&quot;parent_id&quot;:14,&quot;parent_name&quot;:&quot;Music&quot;,&quot;color&quot;:10878931,&quot;urls&quot;:{&quot;web&quot;:{&quot;discover&quot;:&quot;http://www.kickstarter.com/discover/categories/music/electronic%20music&quot;}}}\" id=\"category_38\">\n",
      "<a class=\"black block fastclick hover-ksr-green-500 px3 py1 type-14\" href=\"#\" role=\"button\">Electronic Music</a>\n",
      "</li>\n",
      "<li class=\"js-subcategory block\" data-category=\"{&quot;id&quot;:318,&quot;name&quot;:&quot;Faith&quot;,&quot;slug&quot;:&quot;music/faith&quot;,&quot;position&quot;:7,&quot;parent_id&quot;:14,&quot;parent_name&quot;:&quot;Music&quot;,&quot;color&quot;:10878931,&quot;urls&quot;:{&quot;web&quot;:{&quot;discover&quot;:&quot;http://www.kickstarter.com/discover/categories/music/faith&quot;}}}\" id=\"category_318\">\n",
      "<a class=\"black block fastclick hover-ksr-green-500 px3 py1 type-14\" href=\"#\" role=\"button\">Faith</a>\n",
      "</li>\n",
      "<li class=\"js-subcategory block\" data-category=\"{&quot;id&quot;:39,&quot;name&quot;:&quot;Hip-Hop&quot;,&quot;slug&quot;:&quot;music/hip-hop&quot;,&quot;position&quot;:8,&quot;parent_id&quot;:14,&quot;parent_name&quot;:&quot;Music&quot;,&quot;color&quot;:10878931,&quot;urls&quot;:{&quot;web&quot;:{&quot;discover&quot;:&quot;http://www.kickstarter.com/discover/categories/music/hip-hop&quot;}}}\" id=\"category_39\">\n",
      "<a class=\"black block fastclick hover-ksr-green-500 px3 py1 type-14\" href=\"#\" role=\"button\">Hip-Hop</a>\n",
      "</li>\n",
      "<li class=\"js-subcategory block\" data-category=\"{&quot;id&quot;:40,&quot;name&quot;:&quot;Indie Rock&quot;,&quot;slug&quot;:&quot;music/indie rock&quot;,&quot;position&quot;:9,&quot;parent_id&quot;:14,&quot;parent_name&quot;:&quot;Music&quot;,&quot;color&quot;:10878931,&quot;urls&quot;:{&quot;web&quot;:{&quot;discover&quot;:&quot;http://www.kickstarter.com/discover/categories/music/indie%20rock&quot;}}}\" id=\"category_40\">\n",
      "<a class=\"black block fastclick hover-ksr-green-500 px3 py1 type-14\" href=\"#\" role=\"button\">Indie Rock</a>\n",
      "</li>\n",
      "<li class=\"js-subcategory block\" data-category=\"{&quot;id&quot;:41,&quot;name&quot;:&quot;Jazz&quot;,&quot;slug&quot;:&quot;music/jazz&quot;,&quot;position&quot;:10,&quot;parent_id&quot;:14,&quot;parent_name&quot;:&quot;Music&quot;,&quot;color&quot;:10878931,&quot;urls&quot;:{&quot;web&quot;:{&quot;discover&quot;:&quot;http://www.kickstarter.com/discover/categories/music/jazz&quot;}}}\" id=\"category_41\">\n",
      "<a class=\"black block fastclick hover-ksr-green-500 px3 py1 type-14\" href=\"#\" role=\"button\">Jazz</a>\n",
      "</li>\n",
      "<li class=\"js-subcategory block\" data-category=\"{&quot;id&quot;:319,&quot;name&quot;:&quot;Kids&quot;,&quot;slug&quot;:&quot;music/kids&quot;,&quot;position&quot;:11,&quot;parent_id&quot;:14,&quot;parent_name&quot;:&quot;Music&quot;,&quot;color&quot;:10878931,&quot;urls&quot;:{&quot;web&quot;:{&quot;discover&quot;:&quot;http://www.kickstarter.com/discover/categories/music/kids&quot;}}}\" id=\"category_319\">\n",
      "<a class=\"black block fastclick hover-ksr-green-500 px3 py1 type-14\" href=\"#\" role=\"button\">Kids</a>\n",
      "</li>\n",
      "<li class=\"js-subcategory block\" data-category=\"{&quot;id&quot;:320,&quot;name&quot;:&quot;Latin&quot;,&quot;slug&quot;:&quot;music/latin&quot;,&quot;position&quot;:12,&quot;parent_id&quot;:14,&quot;parent_name&quot;:&quot;Music&quot;,&quot;color&quot;:10878931,&quot;urls&quot;:{&quot;web&quot;:{&quot;discover&quot;:&quot;http://www.kickstarter.com/discover/categories/music/latin&quot;}}}\" id=\"category_320\">\n",
      "<a class=\"black block fastclick hover-ksr-green-500 px3 py1 type-14\" href=\"#\" role=\"button\">Latin</a>\n",
      "</li>\n",
      "<li class=\"js-subcategory block\" data-category=\"{&quot;id&quot;:241,&quot;name&quot;:&quot;Metal&quot;,&quot;slug&quot;:&quot;music/metal&quot;,&quot;position&quot;:13,&quot;parent_id&quot;:14,&quot;parent_name&quot;:&quot;Music&quot;,&quot;color&quot;:10878931,&quot;urls&quot;:{&quot;web&quot;:{&quot;discover&quot;:&quot;http://www.kickstarter.com/discover/categories/music/metal&quot;}}}\" id=\"category_241\">\n",
      "<a class=\"black block fastclick hover-ksr-green-500 px3 py1 type-14\" href=\"#\" role=\"button\">Metal</a>\n",
      "</li>\n",
      "<li class=\"js-subcategory block\" data-category=\"{&quot;id&quot;:42,&quot;name&quot;:&quot;Pop&quot;,&quot;slug&quot;:&quot;music/pop&quot;,&quot;position&quot;:14,&quot;parent_id&quot;:14,&quot;parent_name&quot;:&quot;Music&quot;,&quot;color&quot;:10878931,&quot;urls&quot;:{&quot;web&quot;:{&quot;discover&quot;:&quot;http://www.kickstarter.com/discover/categories/music/pop&quot;}}}\" id=\"category_42\">\n",
      "<a class=\"black block fastclick hover-ksr-green-500 px3 py1 type-14\" href=\"#\" role=\"button\">Pop</a>\n",
      "</li>\n",
      "<li class=\"js-subcategory block\" data-category=\"{&quot;id&quot;:321,&quot;name&quot;:&quot;Punk&quot;,&quot;slug&quot;:&quot;music/punk&quot;,&quot;position&quot;:15,&quot;parent_id&quot;:14,&quot;parent_name&quot;:&quot;Music&quot;,&quot;color&quot;:10878931,&quot;urls&quot;:{&quot;web&quot;:{&quot;discover&quot;:&quot;http://www.kickstarter.com/discover/categories/music/punk&quot;}}}\" id=\"category_321\">\n",
      "<a class=\"black block fastclick hover-ksr-green-500 px3 py1 type-14\" href=\"#\" role=\"button\">Punk</a>\n",
      "</li>\n",
      "<li class=\"js-subcategory block\" data-category=\"{&quot;id&quot;:322,&quot;name&quot;:&quot;R&amp;B&quot;,&quot;slug&quot;:&quot;music/r&amp;b&quot;,&quot;position&quot;:16,&quot;parent_id&quot;:14,&quot;parent_name&quot;:&quot;Music&quot;,&quot;color&quot;:10878931,&quot;urls&quot;:{&quot;web&quot;:{&quot;discover&quot;:&quot;http://www.kickstarter.com/discover/categories/music/r&amp;b&quot;}}}\" id=\"category_322\">\n",
      "<a class=\"black block fastclick hover-ksr-green-500 px3 py1 type-14\" href=\"#\" role=\"button\">R&B</a>\n",
      "</li>\n",
      "<li class=\"js-subcategory block\" data-category=\"{&quot;id&quot;:43,&quot;name&quot;:&quot;Rock&quot;,&quot;slug&quot;:&quot;music/rock&quot;,&quot;position&quot;:17,&quot;parent_id&quot;:14,&quot;parent_name&quot;:&quot;Music&quot;,&quot;color&quot;:10878931,&quot;urls&quot;:{&quot;web&quot;:{&quot;discover&quot;:&quot;http://www.kickstarter.com/discover/categories/music/rock&quot;}}}\" id=\"category_43\">\n",
      "<a class=\"black block fastclick hover-ksr-green-500 px3 py1 type-14\" href=\"#\" role=\"button\">Rock</a>\n",
      "</li>\n",
      "<li class=\"js-subcategory block\" data-category=\"{&quot;id&quot;:44,&quot;name&quot;:&quot;World Music&quot;,&quot;slug&quot;:&quot;music/world music&quot;,&quot;position&quot;:18,&quot;parent_id&quot;:14,&quot;parent_name&quot;:&quot;Music&quot;,&quot;color&quot;:10878931,&quot;urls&quot;:{&quot;web&quot;:{&quot;discover&quot;:&quot;http://www.kickstarter.com/discover/categories/music/world%20music&quot;}}}\" id=\"category_44\">\n",
      "<a class=\"black block fastclick hover-ksr-green-500 px3 py1 type-14\" href=\"#\" role=\"button\">World Music</a>\n",
      "</li>\n",
      "</ul>\n",
      "</div>\n",
      "<div class=\"display-none js-subcategories\" id=\"category_15_subcategories\">\n",
      "<h5 class=\"border-bottom-sm border-grey-500 px3 pt1 pt3-sm pb1 mb1 type-12 bold text-uppercase ls1px navy-700\">\n",
      "Photography\n",
      "</h5>\n",
      "<ul class=\"columns2-sm w50-sm\">\n",
      "<li class=\"js-subcategory block\" data-category=\"{&quot;id&quot;:15,&quot;name&quot;:&quot;Photography&quot;,&quot;slug&quot;:&quot;photography&quot;,&quot;position&quot;:12,&quot;color&quot;:58341,&quot;urls&quot;:{&quot;web&quot;:{&quot;discover&quot;:&quot;http://www.kickstarter.com/discover/categories/photography&quot;}}}\" id=\"category_15\">\n",
      "<a class=\"black block fastclick hover-ksr-green-500 px3 py1 type-14\" href=\"#\" role=\"button\">All of Photography</a>\n",
      "</li>\n",
      "<li class=\"js-subcategory block\" data-category=\"{&quot;id&quot;:275,&quot;name&quot;:&quot;Animals&quot;,&quot;slug&quot;:&quot;photography/animals&quot;,&quot;position&quot;:1,&quot;parent_id&quot;:15,&quot;parent_name&quot;:&quot;Photography&quot;,&quot;color&quot;:58341,&quot;urls&quot;:{&quot;web&quot;:{&quot;discover&quot;:&quot;http://www.kickstarter.com/discover/categories/photography/animals&quot;}}}\" id=\"category_275\">\n",
      "<a class=\"black block fastclick hover-ksr-green-500 px3 py1 type-14\" href=\"#\" role=\"button\">Animals</a>\n",
      "</li>\n",
      "<li class=\"js-subcategory block\" data-category=\"{&quot;id&quot;:276,&quot;name&quot;:&quot;Fine Art&quot;,&quot;slug&quot;:&quot;photography/fine art&quot;,&quot;position&quot;:2,&quot;parent_id&quot;:15,&quot;parent_name&quot;:&quot;Photography&quot;,&quot;color&quot;:58341,&quot;urls&quot;:{&quot;web&quot;:{&quot;discover&quot;:&quot;http://www.kickstarter.com/discover/categories/photography/fine%20art&quot;}}}\" id=\"category_276\">\n",
      "<a class=\"black block fastclick hover-ksr-green-500 px3 py1 type-14\" href=\"#\" role=\"button\">Fine Art</a>\n",
      "</li>\n",
      "<li class=\"js-subcategory block\" data-category=\"{&quot;id&quot;:277,&quot;name&quot;:&quot;Nature&quot;,&quot;slug&quot;:&quot;photography/nature&quot;,&quot;position&quot;:3,&quot;parent_id&quot;:15,&quot;parent_name&quot;:&quot;Photography&quot;,&quot;color&quot;:58341,&quot;urls&quot;:{&quot;web&quot;:{&quot;discover&quot;:&quot;http://www.kickstarter.com/discover/categories/photography/nature&quot;}}}\" id=\"category_277\">\n",
      "<a class=\"black block fastclick hover-ksr-green-500 px3 py1 type-14\" href=\"#\" role=\"button\">Nature</a>\n",
      "</li>\n",
      "<li class=\"js-subcategory block\" data-category=\"{&quot;id&quot;:278,&quot;name&quot;:&quot;People&quot;,&quot;slug&quot;:&quot;photography/people&quot;,&quot;position&quot;:4,&quot;parent_id&quot;:15,&quot;parent_name&quot;:&quot;Photography&quot;,&quot;color&quot;:58341,&quot;urls&quot;:{&quot;web&quot;:{&quot;discover&quot;:&quot;http://www.kickstarter.com/discover/categories/photography/people&quot;}}}\" id=\"category_278\">\n",
      "<a class=\"black block fastclick hover-ksr-green-500 px3 py1 type-14\" href=\"#\" role=\"button\">People</a>\n",
      "</li>\n",
      "<li class=\"js-subcategory block\" data-category=\"{&quot;id&quot;:280,&quot;name&quot;:&quot;Photobooks&quot;,&quot;slug&quot;:&quot;photography/photobooks&quot;,&quot;position&quot;:5,&quot;parent_id&quot;:15,&quot;parent_name&quot;:&quot;Photography&quot;,&quot;color&quot;:58341,&quot;urls&quot;:{&quot;web&quot;:{&quot;discover&quot;:&quot;http://www.kickstarter.com/discover/categories/photography/photobooks&quot;}}}\" id=\"category_280\">\n",
      "<a class=\"black block fastclick hover-ksr-green-500 px3 py1 type-14\" href=\"#\" role=\"button\">Photobooks</a>\n",
      "</li>\n",
      "<li class=\"js-subcategory block\" data-category=\"{&quot;id&quot;:279,&quot;name&quot;:&quot;Places&quot;,&quot;slug&quot;:&quot;photography/places&quot;,&quot;position&quot;:6,&quot;parent_id&quot;:15,&quot;parent_name&quot;:&quot;Photography&quot;,&quot;color&quot;:58341,&quot;urls&quot;:{&quot;web&quot;:{&quot;discover&quot;:&quot;http://www.kickstarter.com/discover/categories/photography/places&quot;}}}\" id=\"category_279\">\n",
      "<a class=\"black block fastclick hover-ksr-green-500 px3 py1 type-14\" href=\"#\" role=\"button\">Places</a>\n",
      "</li>\n",
      "</ul>\n",
      "</div>\n",
      "<div class=\"display-none js-subcategories\" id=\"category_18_subcategories\">\n",
      "<h5 class=\"border-bottom-sm border-grey-500 px3 pt1 pt3-sm pb1 mb1 type-12 bold text-uppercase ls1px navy-700\">\n",
      "Publishing\n",
      "</h5>\n",
      "<ul class=\"columns2-sm w50-sm\">\n",
      "<li class=\"js-subcategory block\" data-category=\"{&quot;id&quot;:18,&quot;name&quot;:&quot;Publishing&quot;,&quot;slug&quot;:&quot;publishing&quot;,&quot;position&quot;:13,&quot;color&quot;:14867664,&quot;urls&quot;:{&quot;web&quot;:{&quot;discover&quot;:&quot;http://www.kickstarter.com/discover/categories/publishing&quot;}}}\" id=\"category_18\">\n",
      "<a class=\"black block fastclick hover-ksr-green-500 px3 py1 type-14\" href=\"#\" role=\"button\">All of Publishing</a>\n",
      "</li>\n",
      "<li class=\"js-subcategory block\" data-category=\"{&quot;id&quot;:323,&quot;name&quot;:&quot;Academic&quot;,&quot;slug&quot;:&quot;publishing/academic&quot;,&quot;position&quot;:1,&quot;parent_id&quot;:18,&quot;parent_name&quot;:&quot;Publishing&quot;,&quot;color&quot;:14867664,&quot;urls&quot;:{&quot;web&quot;:{&quot;discover&quot;:&quot;http://www.kickstarter.com/discover/categories/publishing/academic&quot;}}}\" id=\"category_323\">\n",
      "<a class=\"black block fastclick hover-ksr-green-500 px3 py1 type-14\" href=\"#\" role=\"button\">Academic</a>\n",
      "</li>\n",
      "<li class=\"js-subcategory block\" data-category=\"{&quot;id&quot;:324,&quot;name&quot;:&quot;Anthologies&quot;,&quot;slug&quot;:&quot;publishing/anthologies&quot;,&quot;position&quot;:2,&quot;parent_id&quot;:18,&quot;parent_name&quot;:&quot;Publishing&quot;,&quot;color&quot;:14867664,&quot;urls&quot;:{&quot;web&quot;:{&quot;discover&quot;:&quot;http://www.kickstarter.com/discover/categories/publishing/anthologies&quot;}}}\" id=\"category_324\">\n",
      "<a class=\"black block fastclick hover-ksr-green-500 px3 py1 type-14\" href=\"#\" role=\"button\">Anthologies</a>\n",
      "</li>\n",
      "<li class=\"js-subcategory block\" data-category=\"{&quot;id&quot;:45,&quot;name&quot;:&quot;Art Books&quot;,&quot;slug&quot;:&quot;publishing/art books&quot;,&quot;position&quot;:3,&quot;parent_id&quot;:18,&quot;parent_name&quot;:&quot;Publishing&quot;,&quot;color&quot;:14867664,&quot;urls&quot;:{&quot;web&quot;:{&quot;discover&quot;:&quot;http://www.kickstarter.com/discover/categories/publishing/art%20books&quot;}}}\" id=\"category_45\">\n",
      "<a class=\"black block fastclick hover-ksr-green-500 px3 py1 type-14\" href=\"#\" role=\"button\">Art Books</a>\n",
      "</li>\n",
      "<li class=\"js-subcategory block\" data-category=\"{&quot;id&quot;:325,&quot;name&quot;:&quot;Calendars&quot;,&quot;slug&quot;:&quot;publishing/calendars&quot;,&quot;position&quot;:4,&quot;parent_id&quot;:18,&quot;parent_name&quot;:&quot;Publishing&quot;,&quot;color&quot;:14867664,&quot;urls&quot;:{&quot;web&quot;:{&quot;discover&quot;:&quot;http://www.kickstarter.com/discover/categories/publishing/calendars&quot;}}}\" id=\"category_325\">\n",
      "<a class=\"black block fastclick hover-ksr-green-500 px3 py1 type-14\" href=\"#\" role=\"button\">Calendars</a>\n",
      "</li>\n",
      "<li class=\"js-subcategory block\" data-category=\"{&quot;id&quot;:46,&quot;name&quot;:&quot;Children&#39;s Books&quot;,&quot;slug&quot;:&quot;publishing/children&#39;s books&quot;,&quot;position&quot;:5,&quot;parent_id&quot;:18,&quot;parent_name&quot;:&quot;Publishing&quot;,&quot;color&quot;:14867664,&quot;urls&quot;:{&quot;web&quot;:{&quot;discover&quot;:&quot;http://www.kickstarter.com/discover/categories/publishing/children&#39;s%20books&quot;}}}\" id=\"category_46\">\n",
      "<a class=\"black block fastclick hover-ksr-green-500 px3 py1 type-14\" href=\"#\" role=\"button\">Children's Books</a>\n",
      "</li>\n",
      "<li class=\"js-subcategory block\" data-category=\"{&quot;id&quot;:387,&quot;name&quot;:&quot;Comedy&quot;,&quot;slug&quot;:&quot;publishing/comedy&quot;,&quot;position&quot;:6,&quot;parent_id&quot;:18,&quot;parent_name&quot;:&quot;Publishing&quot;,&quot;color&quot;:14867664,&quot;urls&quot;:{&quot;web&quot;:{&quot;discover&quot;:&quot;http://www.kickstarter.com/discover/categories/publishing/comedy&quot;}}}\" id=\"category_387\">\n",
      "<a class=\"black block fastclick hover-ksr-green-500 px3 py1 type-14\" href=\"#\" role=\"button\">Comedy</a>\n",
      "</li>\n",
      "<li class=\"js-subcategory block\" data-category=\"{&quot;id&quot;:47,&quot;name&quot;:&quot;Fiction&quot;,&quot;slug&quot;:&quot;publishing/fiction&quot;,&quot;position&quot;:7,&quot;parent_id&quot;:18,&quot;parent_name&quot;:&quot;Publishing&quot;,&quot;color&quot;:14867664,&quot;urls&quot;:{&quot;web&quot;:{&quot;discover&quot;:&quot;http://www.kickstarter.com/discover/categories/publishing/fiction&quot;}}}\" id=\"category_47\">\n",
      "<a class=\"black block fastclick hover-ksr-green-500 px3 py1 type-14\" href=\"#\" role=\"button\">Fiction</a>\n",
      "</li>\n",
      "<li class=\"js-subcategory block\" data-category=\"{&quot;id&quot;:349,&quot;name&quot;:&quot;Letterpress&quot;,&quot;slug&quot;:&quot;publishing/letterpress&quot;,&quot;position&quot;:7,&quot;parent_id&quot;:18,&quot;parent_name&quot;:&quot;Publishing&quot;,&quot;color&quot;:14867664,&quot;urls&quot;:{&quot;web&quot;:{&quot;discover&quot;:&quot;http://www.kickstarter.com/discover/categories/publishing/letterpress&quot;}}}\" id=\"category_349\">\n",
      "<a class=\"black block fastclick hover-ksr-green-500 px3 py1 type-14\" href=\"#\" role=\"button\">Letterpress</a>\n",
      "</li>\n",
      "<li class=\"js-subcategory block\" data-category=\"{&quot;id&quot;:326,&quot;name&quot;:&quot;Literary Journals&quot;,&quot;slug&quot;:&quot;publishing/literary journals&quot;,&quot;position&quot;:8,&quot;parent_id&quot;:18,&quot;parent_name&quot;:&quot;Publishing&quot;,&quot;color&quot;:14867664,&quot;urls&quot;:{&quot;web&quot;:{&quot;discover&quot;:&quot;http://www.kickstarter.com/discover/categories/publishing/literary%20journals&quot;}}}\" id=\"category_326\">\n",
      "<a class=\"black block fastclick hover-ksr-green-500 px3 py1 type-14\" href=\"#\" role=\"button\">Literary Journals</a>\n",
      "</li>\n",
      "<li class=\"js-subcategory block\" data-category=\"{&quot;id&quot;:48,&quot;name&quot;:&quot;Nonfiction&quot;,&quot;slug&quot;:&quot;publishing/nonfiction&quot;,&quot;position&quot;:9,&quot;parent_id&quot;:18,&quot;parent_name&quot;:&quot;Publishing&quot;,&quot;color&quot;:14867664,&quot;urls&quot;:{&quot;web&quot;:{&quot;discover&quot;:&quot;http://www.kickstarter.com/discover/categories/publishing/nonfiction&quot;}}}\" id=\"category_48\">\n",
      "<a class=\"black block fastclick hover-ksr-green-500 px3 py1 type-14\" href=\"#\" role=\"button\">Nonfiction</a>\n",
      "</li>\n",
      "<li class=\"js-subcategory block\" data-category=\"{&quot;id&quot;:49,&quot;name&quot;:&quot;Periodicals&quot;,&quot;slug&quot;:&quot;publishing/periodicals&quot;,&quot;position&quot;:10,&quot;parent_id&quot;:18,&quot;parent_name&quot;:&quot;Publishing&quot;,&quot;color&quot;:14867664,&quot;urls&quot;:{&quot;web&quot;:{&quot;discover&quot;:&quot;http://www.kickstarter.com/discover/categories/publishing/periodicals&quot;}}}\" id=\"category_49\">\n",
      "<a class=\"black block fastclick hover-ksr-green-500 px3 py1 type-14\" href=\"#\" role=\"button\">Periodicals</a>\n",
      "</li>\n",
      "<li class=\"js-subcategory block\" data-category=\"{&quot;id&quot;:50,&quot;name&quot;:&quot;Poetry&quot;,&quot;slug&quot;:&quot;publishing/poetry&quot;,&quot;position&quot;:11,&quot;parent_id&quot;:18,&quot;parent_name&quot;:&quot;Publishing&quot;,&quot;color&quot;:14867664,&quot;urls&quot;:{&quot;web&quot;:{&quot;discover&quot;:&quot;http://www.kickstarter.com/discover/categories/publishing/poetry&quot;}}}\" id=\"category_50\">\n",
      "<a class=\"black block fastclick hover-ksr-green-500 px3 py1 type-14\" href=\"#\" role=\"button\">Poetry</a>\n",
      "</li>\n",
      "<li class=\"js-subcategory block\" data-category=\"{&quot;id&quot;:239,&quot;name&quot;:&quot;Radio &amp; Podcasts&quot;,&quot;slug&quot;:&quot;publishing/radio &amp; podcasts&quot;,&quot;position&quot;:12,&quot;parent_id&quot;:18,&quot;parent_name&quot;:&quot;Publishing&quot;,&quot;color&quot;:14867664,&quot;urls&quot;:{&quot;web&quot;:{&quot;discover&quot;:&quot;http://www.kickstarter.com/discover/categories/publishing/radio%20&amp;%20podcasts&quot;}}}\" id=\"category_239\">\n",
      "<a class=\"black block fastclick hover-ksr-green-500 px3 py1 type-14\" href=\"#\" role=\"button\">Radio & Podcasts</a>\n",
      "</li>\n",
      "<li class=\"js-subcategory block\" data-category=\"{&quot;id&quot;:327,&quot;name&quot;:&quot;Translations&quot;,&quot;slug&quot;:&quot;publishing/translations&quot;,&quot;position&quot;:13,&quot;parent_id&quot;:18,&quot;parent_name&quot;:&quot;Publishing&quot;,&quot;color&quot;:14867664,&quot;urls&quot;:{&quot;web&quot;:{&quot;discover&quot;:&quot;http://www.kickstarter.com/discover/categories/publishing/translations&quot;}}}\" id=\"category_327\">\n",
      "<a class=\"black block fastclick hover-ksr-green-500 px3 py1 type-14\" href=\"#\" role=\"button\">Translations</a>\n",
      "</li>\n",
      "<li class=\"js-subcategory block\" data-category=\"{&quot;id&quot;:328,&quot;name&quot;:&quot;Young Adult&quot;,&quot;slug&quot;:&quot;publishing/young adult&quot;,&quot;position&quot;:14,&quot;parent_id&quot;:18,&quot;parent_name&quot;:&quot;Publishing&quot;,&quot;color&quot;:14867664,&quot;urls&quot;:{&quot;web&quot;:{&quot;discover&quot;:&quot;http://www.kickstarter.com/discover/categories/publishing/young%20adult&quot;}}}\" id=\"category_328\">\n",
      "<a class=\"black block fastclick hover-ksr-green-500 px3 py1 type-14\" href=\"#\" role=\"button\">Young Adult</a>\n",
      "</li>\n",
      "<li class=\"js-subcategory block\" data-category=\"{&quot;id&quot;:329,&quot;name&quot;:&quot;Zines&quot;,&quot;slug&quot;:&quot;publishing/zines&quot;,&quot;position&quot;:15,&quot;parent_id&quot;:18,&quot;parent_name&quot;:&quot;Publishing&quot;,&quot;color&quot;:14867664,&quot;urls&quot;:{&quot;web&quot;:{&quot;discover&quot;:&quot;http://www.kickstarter.com/discover/categories/publishing/zines&quot;}}}\" id=\"category_329\">\n",
      "<a class=\"black block fastclick hover-ksr-green-500 px3 py1 type-14\" href=\"#\" role=\"button\">Zines</a>\n",
      "</li>\n",
      "<li class=\"js-subcategory block\" data-category=\"{&quot;id&quot;:389,&quot;name&quot;:&quot;Literary Spaces&quot;,&quot;slug&quot;:&quot;publishing/literary spaces&quot;,&quot;position&quot;:16,&quot;parent_id&quot;:18,&quot;parent_name&quot;:&quot;Publishing&quot;,&quot;color&quot;:14867664,&quot;urls&quot;:{&quot;web&quot;:{&quot;discover&quot;:&quot;http://www.kickstarter.com/discover/categories/publishing/literary%20spaces&quot;}}}\" id=\"category_389\">\n",
      "<a class=\"black block fastclick hover-ksr-green-500 px3 py1 type-14\" href=\"#\" role=\"button\">Literary Spaces</a>\n",
      "</li>\n",
      "</ul>\n",
      "</div>\n",
      "<div class=\"display-none js-subcategories\" id=\"category_16_subcategories\">\n",
      "<h5 class=\"border-bottom-sm border-grey-500 px3 pt1 pt3-sm pb1 mb1 type-12 bold text-uppercase ls1px navy-700\">\n",
      "Technology\n",
      "</h5>\n",
      "<ul class=\"columns2-sm w50-sm\">\n",
      "<li class=\"js-subcategory block\" data-category=\"{&quot;id&quot;:16,&quot;name&quot;:&quot;Technology&quot;,&quot;slug&quot;:&quot;technology&quot;,&quot;position&quot;:14,&quot;color&quot;:6526716,&quot;urls&quot;:{&quot;web&quot;:{&quot;discover&quot;:&quot;http://www.kickstarter.com/discover/categories/technology&quot;}}}\" id=\"category_16\">\n",
      "<a class=\"black block fastclick hover-ksr-green-500 px3 py1 type-14\" href=\"#\" role=\"button\">All of Technology</a>\n",
      "</li>\n",
      "<li class=\"js-subcategory block\" data-category=\"{&quot;id&quot;:331,&quot;name&quot;:&quot;3D Printing&quot;,&quot;slug&quot;:&quot;technology/3d printing&quot;,&quot;position&quot;:1,&quot;parent_id&quot;:16,&quot;parent_name&quot;:&quot;Technology&quot;,&quot;color&quot;:6526716,&quot;urls&quot;:{&quot;web&quot;:{&quot;discover&quot;:&quot;http://www.kickstarter.com/discover/categories/technology/3d%20printing&quot;}}}\" id=\"category_331\">\n",
      "<a class=\"black block fastclick hover-ksr-green-500 px3 py1 type-14\" href=\"#\" role=\"button\">3D Printing</a>\n",
      "</li>\n",
      "<li class=\"js-subcategory block\" data-category=\"{&quot;id&quot;:332,&quot;name&quot;:&quot;Apps&quot;,&quot;slug&quot;:&quot;technology/apps&quot;,&quot;position&quot;:2,&quot;parent_id&quot;:16,&quot;parent_name&quot;:&quot;Technology&quot;,&quot;color&quot;:6526716,&quot;urls&quot;:{&quot;web&quot;:{&quot;discover&quot;:&quot;http://www.kickstarter.com/discover/categories/technology/apps&quot;}}}\" id=\"category_332\">\n",
      "<a class=\"black block fastclick hover-ksr-green-500 px3 py1 type-14\" href=\"#\" role=\"button\">Apps</a>\n",
      "</li>\n",
      "<li class=\"js-subcategory block\" data-category=\"{&quot;id&quot;:333,&quot;name&quot;:&quot;Camera Equipment&quot;,&quot;slug&quot;:&quot;technology/camera equipment&quot;,&quot;position&quot;:3,&quot;parent_id&quot;:16,&quot;parent_name&quot;:&quot;Technology&quot;,&quot;color&quot;:6526716,&quot;urls&quot;:{&quot;web&quot;:{&quot;discover&quot;:&quot;http://www.kickstarter.com/discover/categories/technology/camera%20equipment&quot;}}}\" id=\"category_333\">\n",
      "<a class=\"black block fastclick hover-ksr-green-500 px3 py1 type-14\" href=\"#\" role=\"button\">Camera Equipment</a>\n",
      "</li>\n",
      "<li class=\"js-subcategory block\" data-category=\"{&quot;id&quot;:334,&quot;name&quot;:&quot;DIY Electronics&quot;,&quot;slug&quot;:&quot;technology/diy electronics&quot;,&quot;position&quot;:4,&quot;parent_id&quot;:16,&quot;parent_name&quot;:&quot;Technology&quot;,&quot;color&quot;:6526716,&quot;urls&quot;:{&quot;web&quot;:{&quot;discover&quot;:&quot;http://www.kickstarter.com/discover/categories/technology/diy%20electronics&quot;}}}\" id=\"category_334\">\n",
      "<a class=\"black block fastclick hover-ksr-green-500 px3 py1 type-14\" href=\"#\" role=\"button\">DIY Electronics</a>\n",
      "</li>\n",
      "<li class=\"js-subcategory block\" data-category=\"{&quot;id&quot;:335,&quot;name&quot;:&quot;Fabrication Tools&quot;,&quot;slug&quot;:&quot;technology/fabrication tools&quot;,&quot;position&quot;:5,&quot;parent_id&quot;:16,&quot;parent_name&quot;:&quot;Technology&quot;,&quot;color&quot;:6526716,&quot;urls&quot;:{&quot;web&quot;:{&quot;discover&quot;:&quot;http://www.kickstarter.com/discover/categories/technology/fabrication%20tools&quot;}}}\" id=\"category_335\">\n",
      "<a class=\"black block fastclick hover-ksr-green-500 px3 py1 type-14\" href=\"#\" role=\"button\">Fabrication Tools</a>\n",
      "</li>\n",
      "<li class=\"js-subcategory block\" data-category=\"{&quot;id&quot;:336,&quot;name&quot;:&quot;Flight&quot;,&quot;slug&quot;:&quot;technology/flight&quot;,&quot;position&quot;:6,&quot;parent_id&quot;:16,&quot;parent_name&quot;:&quot;Technology&quot;,&quot;color&quot;:6526716,&quot;urls&quot;:{&quot;web&quot;:{&quot;discover&quot;:&quot;http://www.kickstarter.com/discover/categories/technology/flight&quot;}}}\" id=\"category_336\">\n",
      "<a class=\"black block fastclick hover-ksr-green-500 px3 py1 type-14\" href=\"#\" role=\"button\">Flight</a>\n",
      "</li>\n",
      "<li class=\"js-subcategory block\" data-category=\"{&quot;id&quot;:337,&quot;name&quot;:&quot;Gadgets&quot;,&quot;slug&quot;:&quot;technology/gadgets&quot;,&quot;position&quot;:7,&quot;parent_id&quot;:16,&quot;parent_name&quot;:&quot;Technology&quot;,&quot;color&quot;:6526716,&quot;urls&quot;:{&quot;web&quot;:{&quot;discover&quot;:&quot;http://www.kickstarter.com/discover/categories/technology/gadgets&quot;}}}\" id=\"category_337\">\n",
      "<a class=\"black block fastclick hover-ksr-green-500 px3 py1 type-14\" href=\"#\" role=\"button\">Gadgets</a>\n",
      "</li>\n",
      "<li class=\"js-subcategory block\" data-category=\"{&quot;id&quot;:52,&quot;name&quot;:&quot;Hardware&quot;,&quot;slug&quot;:&quot;technology/hardware&quot;,&quot;position&quot;:8,&quot;parent_id&quot;:16,&quot;parent_name&quot;:&quot;Technology&quot;,&quot;color&quot;:6526716,&quot;urls&quot;:{&quot;web&quot;:{&quot;discover&quot;:&quot;http://www.kickstarter.com/discover/categories/technology/hardware&quot;}}}\" id=\"category_52\">\n",
      "<a class=\"black block fastclick hover-ksr-green-500 px3 py1 type-14\" href=\"#\" role=\"button\">Hardware</a>\n",
      "</li>\n",
      "<li class=\"js-subcategory block\" data-category=\"{&quot;id&quot;:362,&quot;name&quot;:&quot;Makerspaces&quot;,&quot;slug&quot;:&quot;technology/makerspaces&quot;,&quot;position&quot;:9,&quot;parent_id&quot;:16,&quot;parent_name&quot;:&quot;Technology&quot;,&quot;color&quot;:6526716,&quot;urls&quot;:{&quot;web&quot;:{&quot;discover&quot;:&quot;http://www.kickstarter.com/discover/categories/technology/makerspaces&quot;}}}\" id=\"category_362\">\n",
      "<a class=\"black block fastclick hover-ksr-green-500 px3 py1 type-14\" href=\"#\" role=\"button\">Makerspaces</a>\n",
      "</li>\n",
      "<li class=\"js-subcategory block\" data-category=\"{&quot;id&quot;:338,&quot;name&quot;:&quot;Robots&quot;,&quot;slug&quot;:&quot;technology/robots&quot;,&quot;position&quot;:10,&quot;parent_id&quot;:16,&quot;parent_name&quot;:&quot;Technology&quot;,&quot;color&quot;:6526716,&quot;urls&quot;:{&quot;web&quot;:{&quot;discover&quot;:&quot;http://www.kickstarter.com/discover/categories/technology/robots&quot;}}}\" id=\"category_338\">\n",
      "<a class=\"black block fastclick hover-ksr-green-500 px3 py1 type-14\" href=\"#\" role=\"button\">Robots</a>\n",
      "</li>\n",
      "<li class=\"js-subcategory block\" data-category=\"{&quot;id&quot;:51,&quot;name&quot;:&quot;Software&quot;,&quot;slug&quot;:&quot;technology/software&quot;,&quot;position&quot;:11,&quot;parent_id&quot;:16,&quot;parent_name&quot;:&quot;Technology&quot;,&quot;color&quot;:6526716,&quot;urls&quot;:{&quot;web&quot;:{&quot;discover&quot;:&quot;http://www.kickstarter.com/discover/categories/technology/software&quot;}}}\" id=\"category_51\">\n",
      "<a class=\"black block fastclick hover-ksr-green-500 px3 py1 type-14\" href=\"#\" role=\"button\">Software</a>\n",
      "</li>\n",
      "<li class=\"js-subcategory block\" data-category=\"{&quot;id&quot;:339,&quot;name&quot;:&quot;Sound&quot;,&quot;slug&quot;:&quot;technology/sound&quot;,&quot;position&quot;:12,&quot;parent_id&quot;:16,&quot;parent_name&quot;:&quot;Technology&quot;,&quot;color&quot;:6526716,&quot;urls&quot;:{&quot;web&quot;:{&quot;discover&quot;:&quot;http://www.kickstarter.com/discover/categories/technology/sound&quot;}}}\" id=\"category_339\">\n",
      "<a class=\"black block fastclick hover-ksr-green-500 px3 py1 type-14\" href=\"#\" role=\"button\">Sound</a>\n",
      "</li>\n",
      "<li class=\"js-subcategory block\" data-category=\"{&quot;id&quot;:340,&quot;name&quot;:&quot;Space Exploration&quot;,&quot;slug&quot;:&quot;technology/space exploration&quot;,&quot;position&quot;:13,&quot;parent_id&quot;:16,&quot;parent_name&quot;:&quot;Technology&quot;,&quot;color&quot;:6526716,&quot;urls&quot;:{&quot;web&quot;:{&quot;discover&quot;:&quot;http://www.kickstarter.com/discover/categories/technology/space%20exploration&quot;}}}\" id=\"category_340\">\n",
      "<a class=\"black block fastclick hover-ksr-green-500 px3 py1 type-14\" href=\"#\" role=\"button\">Space Exploration</a>\n",
      "</li>\n",
      "<li class=\"js-subcategory block\" data-category=\"{&quot;id&quot;:341,&quot;name&quot;:&quot;Wearables&quot;,&quot;slug&quot;:&quot;technology/wearables&quot;,&quot;position&quot;:14,&quot;parent_id&quot;:16,&quot;parent_name&quot;:&quot;Technology&quot;,&quot;color&quot;:6526716,&quot;urls&quot;:{&quot;web&quot;:{&quot;discover&quot;:&quot;http://www.kickstarter.com/discover/categories/technology/wearables&quot;}}}\" id=\"category_341\">\n",
      "<a class=\"black block fastclick hover-ksr-green-500 px3 py1 type-14\" href=\"#\" role=\"button\">Wearables</a>\n",
      "</li>\n",
      "<li class=\"js-subcategory block\" data-category=\"{&quot;id&quot;:342,&quot;name&quot;:&quot;Web&quot;,&quot;slug&quot;:&quot;technology/web&quot;,&quot;position&quot;:15,&quot;parent_id&quot;:16,&quot;parent_name&quot;:&quot;Technology&quot;,&quot;color&quot;:6526716,&quot;urls&quot;:{&quot;web&quot;:{&quot;discover&quot;:&quot;http://www.kickstarter.com/discover/categories/technology/web&quot;}}}\" id=\"category_342\">\n",
      "<a class=\"black block fastclick hover-ksr-green-500 px3 py1 type-14\" href=\"#\" role=\"button\">Web</a>\n",
      "</li>\n",
      "</ul>\n",
      "</div>\n",
      "<div class=\"display-none js-subcategories\" id=\"category_17_subcategories\">\n",
      "<h5 class=\"border-bottom-sm border-grey-500 px3 pt1 pt3-sm pb1 mb1 type-12 bold text-uppercase ls1px navy-700\">\n",
      "Theater\n",
      "</h5>\n",
      "<ul class=\"columns2-sm w50-sm\">\n",
      "<li class=\"js-subcategory block\" data-category=\"{&quot;id&quot;:17,&quot;name&quot;:&quot;Theater&quot;,&quot;slug&quot;:&quot;theater&quot;,&quot;position&quot;:15,&quot;color&quot;:16743775,&quot;urls&quot;:{&quot;web&quot;:{&quot;discover&quot;:&quot;http://www.kickstarter.com/discover/categories/theater&quot;}}}\" id=\"category_17\">\n",
      "<a class=\"black block fastclick hover-ksr-green-500 px3 py1 type-14\" href=\"#\" role=\"button\">All of Theater</a>\n",
      "</li>\n",
      "<li class=\"js-subcategory block\" data-category=\"{&quot;id&quot;:388,&quot;name&quot;:&quot;Comedy&quot;,&quot;slug&quot;:&quot;theater/comedy&quot;,&quot;position&quot;:1,&quot;parent_id&quot;:17,&quot;parent_name&quot;:&quot;Theater&quot;,&quot;color&quot;:16743775,&quot;urls&quot;:{&quot;web&quot;:{&quot;discover&quot;:&quot;http://www.kickstarter.com/discover/categories/theater/comedy&quot;}}}\" id=\"category_388\">\n",
      "<a class=\"black block fastclick hover-ksr-green-500 px3 py1 type-14\" href=\"#\" role=\"button\">Comedy</a>\n",
      "</li>\n",
      "<li class=\"js-subcategory block\" data-category=\"{&quot;id&quot;:281,&quot;name&quot;:&quot;Experimental&quot;,&quot;slug&quot;:&quot;theater/experimental&quot;,&quot;position&quot;:2,&quot;parent_id&quot;:17,&quot;parent_name&quot;:&quot;Theater&quot;,&quot;color&quot;:16743775,&quot;urls&quot;:{&quot;web&quot;:{&quot;discover&quot;:&quot;http://www.kickstarter.com/discover/categories/theater/experimental&quot;}}}\" id=\"category_281\">\n",
      "<a class=\"black block fastclick hover-ksr-green-500 px3 py1 type-14\" href=\"#\" role=\"button\">Experimental</a>\n",
      "</li>\n",
      "<li class=\"js-subcategory block\" data-category=\"{&quot;id&quot;:282,&quot;name&quot;:&quot;Festivals&quot;,&quot;slug&quot;:&quot;theater/festivals&quot;,&quot;position&quot;:3,&quot;parent_id&quot;:17,&quot;parent_name&quot;:&quot;Theater&quot;,&quot;color&quot;:16743775,&quot;urls&quot;:{&quot;web&quot;:{&quot;discover&quot;:&quot;http://www.kickstarter.com/discover/categories/theater/festivals&quot;}}}\" id=\"category_282\">\n",
      "<a class=\"black block fastclick hover-ksr-green-500 px3 py1 type-14\" href=\"#\" role=\"button\">Festivals</a>\n",
      "</li>\n",
      "<li class=\"js-subcategory block\" data-category=\"{&quot;id&quot;:283,&quot;name&quot;:&quot;Immersive&quot;,&quot;slug&quot;:&quot;theater/immersive&quot;,&quot;position&quot;:4,&quot;parent_id&quot;:17,&quot;parent_name&quot;:&quot;Theater&quot;,&quot;color&quot;:16743775,&quot;urls&quot;:{&quot;web&quot;:{&quot;discover&quot;:&quot;http://www.kickstarter.com/discover/categories/theater/immersive&quot;}}}\" id=\"category_283\">\n",
      "<a class=\"black block fastclick hover-ksr-green-500 px3 py1 type-14\" href=\"#\" role=\"button\">Immersive</a>\n",
      "</li>\n",
      "<li class=\"js-subcategory block\" data-category=\"{&quot;id&quot;:284,&quot;name&quot;:&quot;Musical&quot;,&quot;slug&quot;:&quot;theater/musical&quot;,&quot;position&quot;:5,&quot;parent_id&quot;:17,&quot;parent_name&quot;:&quot;Theater&quot;,&quot;color&quot;:16743775,&quot;urls&quot;:{&quot;web&quot;:{&quot;discover&quot;:&quot;http://www.kickstarter.com/discover/categories/theater/musical&quot;}}}\" id=\"category_284\">\n",
      "<a class=\"black block fastclick hover-ksr-green-500 px3 py1 type-14\" href=\"#\" role=\"button\">Musical</a>\n",
      "</li>\n",
      "<li class=\"js-subcategory block\" data-category=\"{&quot;id&quot;:285,&quot;name&quot;:&quot;Plays&quot;,&quot;slug&quot;:&quot;theater/plays&quot;,&quot;position&quot;:6,&quot;parent_id&quot;:17,&quot;parent_name&quot;:&quot;Theater&quot;,&quot;color&quot;:16743775,&quot;urls&quot;:{&quot;web&quot;:{&quot;discover&quot;:&quot;http://www.kickstarter.com/discover/categories/theater/plays&quot;}}}\" id=\"category_285\">\n",
      "<a class=\"black block fastclick hover-ksr-green-500 px3 py1 type-14\" href=\"#\" role=\"button\">Plays</a>\n",
      "</li>\n",
      "<li class=\"js-subcategory block\" data-category=\"{&quot;id&quot;:286,&quot;name&quot;:&quot;Spaces&quot;,&quot;slug&quot;:&quot;theater/spaces&quot;,&quot;position&quot;:7,&quot;parent_id&quot;:17,&quot;parent_name&quot;:&quot;Theater&quot;,&quot;color&quot;:16743775,&quot;urls&quot;:{&quot;web&quot;:{&quot;discover&quot;:&quot;http://www.kickstarter.com/discover/categories/theater/spaces&quot;}}}\" id=\"category_286\">\n",
      "<a class=\"black block fastclick hover-ksr-green-500 px3 py1 type-14\" href=\"#\" role=\"button\">Spaces</a>\n",
      "</li>\n",
      "</ul>\n",
      "</div>\n",
      "</div>\n",
      "</div>\n",
      "</div>\n",
      "\n",
      "<div aria-expanded=\"false\" aria-hidden=\"true\" class=\"js-popover scroll-y z-popover-3 bg-white border-sm border-dark-grey-500 maison-book border-box display-none fixed absolute-sm w100p w-auto-sm h100p h-auto-sm\" data-target-id=\"#location_filter\" id=\"NS_discover__locations\">\n",
      "<div class=\"relative bg-grey-300 w100p p3 border-box display-none-sm\">\n",
      "<h4 class=\"m0\">Locations</h4>\n",
      "<div class=\"absolute t50p r3 translate-y-50p\">\n",
      "<button class=\"close fastclick bttn bttn-small bttn-blue\">Done</button>\n",
      "</div>\n",
      "</div>\n",
      "<div class=\"relative m3\">\n",
      "<form action=\"/locations/search?searchable=true\">\n",
      "<div class=\"relative\">\n",
      "<input autocapitalize=\"off\" autocomplete=\"off\" autocorrect=\"off\" class=\"border border-dark-grey-500 border-focused-navy-700 type-14 w100p p2 pl3 pr9 border-box outline-none\" name=\"term\" placeholder=\"Search by city, state, country, ...\">\n",
      "<div class=\"js-current_location absolute h100p r0 t0 w9 pointer\" role=\"button\" tabindex=\"0\">\n",
      "<svg class=\"svg-icon__icon--search icon-large absolute t50p r3 translate-y-50p\" aria-hidden=\"true\"><use xlink:href=\"#icon--search\"></use></svg>\n",
      "</div>\n",
      "</div>\n",
      "<ul class=\"js-results display-none border-box border border-navy-700 bg-white w100p mt1 absolute shadow-1\"></ul>\n",
      "</form>\n",
      "</div>\n",
      "<div class=\"flex\">\n",
      "<div class=\"js-broader-locations w50p w45-sm shrink0\">\n",
      "<h5 class=\"border-bottom border-grey-500 px3 pt1 pb1 mb1 type-12 bold text-uppercase ls1px navy-700\">Broader locations</h5>\n",
      "<ul>\n",
      "<li class=\"location\" id=\"location_0\">\n",
      "<a class=\"block fastclick hover-ksr-green-500 ksr-green-500 px3 py1 type-14\" href=\"#\" role=\"button\">Earth</a>\n",
      "</li>\n",
      "<li class=\"location\" data-location=\"{&quot;id&quot;:23424977,&quot;name&quot;:&quot;United States&quot;,&quot;slug&quot;:null,&quot;short_name&quot;:&quot;United States&quot;,&quot;displayable_name&quot;:&quot;United States&quot;,&quot;localized_name&quot;:&quot;United States&quot;,&quot;country&quot;:&quot;US&quot;,&quot;state&quot;:null,&quot;type&quot;:&quot;Country&quot;,&quot;is_root&quot;:false,&quot;expanded_country&quot;:&quot;United States&quot;,&quot;urls&quot;:{&quot;web&quot;:{&quot;discover&quot;:&quot;https://www.kickstarter.com/discover/places/23424977&quot;,&quot;location&quot;:&quot;https://www.kickstarter.com/locations/23424977&quot;},&quot;api&quot;:{&quot;nearby_projects&quot;:&quot;https://api.kickstarter.com/v1/discover?signature=1599094468.05830e94460beb7142f46daf082bacfdc1b94171&amp;woe_id=23424977&quot;}}}\" id=\"location_23424977\">\n",
      "<a class=\"black block fastclick hover-ksr-green-500 px3 py1 type-14\" href=\"#\" role=\"button\">United States</a>\n",
      "</li>\n",
      "<li class=\"location\" data-location=\"{&quot;id&quot;:2347591,&quot;name&quot;:&quot;New York&quot;,&quot;slug&quot;:null,&quot;short_name&quot;:&quot;New York, US&quot;,&quot;displayable_name&quot;:&quot;New York, United States&quot;,&quot;localized_name&quot;:&quot;New York&quot;,&quot;country&quot;:&quot;US&quot;,&quot;state&quot;:null,&quot;type&quot;:&quot;State&quot;,&quot;is_root&quot;:false,&quot;expanded_country&quot;:&quot;United States&quot;,&quot;urls&quot;:{&quot;web&quot;:{&quot;discover&quot;:&quot;https://www.kickstarter.com/discover/places/2347591&quot;,&quot;location&quot;:&quot;https://www.kickstarter.com/locations/2347591&quot;},&quot;api&quot;:{&quot;nearby_projects&quot;:&quot;https://api.kickstarter.com/v1/discover?signature=1599094468.10786a625cd044e30157881abb73ededdd5a3cb6&amp;woe_id=2347591&quot;}}}\" id=\"location_2347591\">\n",
      "<a class=\"black block fastclick hover-ksr-green-500 px3 py1 type-14\" href=\"#\" role=\"button\">New York, US</a>\n",
      "</li>\n",
      "<li class=\"location\" data-location=\"{&quot;id&quot;:2459115,&quot;name&quot;:&quot;New York&quot;,&quot;slug&quot;:&quot;new-york-ny&quot;,&quot;short_name&quot;:&quot;New York, NY&quot;,&quot;displayable_name&quot;:&quot;New York, NY&quot;,&quot;localized_name&quot;:&quot;New York&quot;,&quot;country&quot;:&quot;US&quot;,&quot;state&quot;:&quot;NY&quot;,&quot;type&quot;:&quot;Town&quot;,&quot;is_root&quot;:false,&quot;expanded_country&quot;:&quot;United States&quot;,&quot;urls&quot;:{&quot;web&quot;:{&quot;discover&quot;:&quot;https://www.kickstarter.com/discover/places/new-york-ny&quot;,&quot;location&quot;:&quot;https://www.kickstarter.com/locations/new-york-ny&quot;},&quot;api&quot;:{&quot;nearby_projects&quot;:&quot;https://api.kickstarter.com/v1/discover?signature=1599094468.10977681474d525f77260bcdd47ccc01278e320a&amp;woe_id=2459115&quot;}}}\" id=\"location_2459115\">\n",
      "<a class=\"black block fastclick hover-ksr-green-500 px3 py1 type-14\" href=\"#\" role=\"button\">New York, NY</a>\n",
      "</li>\n",
      "<li class=\"location\" data-location=\"{&quot;id&quot;:12589352,&quot;name&quot;:&quot;Queens&quot;,&quot;slug&quot;:&quot;queens-ny&quot;,&quot;short_name&quot;:&quot;Queens, NY&quot;,&quot;displayable_name&quot;:&quot;Queens, NY&quot;,&quot;localized_name&quot;:&quot;Queens&quot;,&quot;country&quot;:&quot;US&quot;,&quot;state&quot;:&quot;NY&quot;,&quot;type&quot;:&quot;County&quot;,&quot;is_root&quot;:false,&quot;expanded_country&quot;:&quot;United States&quot;,&quot;urls&quot;:{&quot;web&quot;:{&quot;discover&quot;:&quot;https://www.kickstarter.com/discover/places/queens-ny&quot;,&quot;location&quot;:&quot;https://www.kickstarter.com/locations/queens-ny&quot;},&quot;api&quot;:{&quot;nearby_projects&quot;:&quot;https://api.kickstarter.com/v1/discover?signature=1599094468.079ac27593fd63184dfa0b17d2a8495ed0c8f851&amp;woe_id=12589352&quot;}}}\" id=\"location_12589352\">\n",
      "<a class=\"black block fastclick hover-ksr-green-500 px3 py1 type-14\" href=\"#\" role=\"button\">Queens, NY</a>\n",
      "</li>\n",
      "</ul>\n",
      "</div>\n",
      "<div class=\"js-nearby-locations w50p w45-sm shrink0\">\n",
      "<h5 class=\"border-bottom border-grey-500 px3 pt1 pb1 mb1 type-12 bold text-uppercase ls1px navy-700\">Nearby locations</h5>\n",
      "<ul>\n",
      "<li class=\"location\" data-location=\"{&quot;id&quot;:12589335,&quot;name&quot;:&quot;Brooklyn&quot;,&quot;slug&quot;:&quot;brooklyn-ny&quot;,&quot;short_name&quot;:&quot;Brooklyn, NY&quot;,&quot;displayable_name&quot;:&quot;Brooklyn, NY&quot;,&quot;localized_name&quot;:&quot;Brooklyn&quot;,&quot;country&quot;:&quot;US&quot;,&quot;state&quot;:&quot;NY&quot;,&quot;type&quot;:&quot;County&quot;,&quot;is_root&quot;:false,&quot;expanded_country&quot;:&quot;United States&quot;,&quot;urls&quot;:{&quot;web&quot;:{&quot;discover&quot;:&quot;https://www.kickstarter.com/discover/places/brooklyn-ny&quot;,&quot;location&quot;:&quot;https://www.kickstarter.com/locations/brooklyn-ny&quot;},&quot;api&quot;:{&quot;nearby_projects&quot;:&quot;https://api.kickstarter.com/v1/discover?signature=1599091508.171308af4a9a49bea3cf43243c8aa12f252dc638&amp;woe_id=12589335&quot;}}}\" id=\"location_12589335\">\n",
      "<a class=\"fastclick block type-14 px3 py1 hover-ksr-green-500\" href=\"#\" role=\"button\">Brooklyn, NY</a>\n",
      "</li>\n",
      "<li class=\"location\" data-location=\"{&quot;id&quot;:12589342,&quot;name&quot;:&quot;Manhattan&quot;,&quot;slug&quot;:&quot;manhattan-ny&quot;,&quot;short_name&quot;:&quot;Manhattan, NY&quot;,&quot;displayable_name&quot;:&quot;Manhattan, NY&quot;,&quot;localized_name&quot;:&quot;Manhattan&quot;,&quot;country&quot;:&quot;US&quot;,&quot;state&quot;:&quot;NY&quot;,&quot;type&quot;:&quot;County&quot;,&quot;is_root&quot;:false,&quot;expanded_country&quot;:&quot;United States&quot;,&quot;urls&quot;:{&quot;web&quot;:{&quot;discover&quot;:&quot;https://www.kickstarter.com/discover/places/manhattan-ny&quot;,&quot;location&quot;:&quot;https://www.kickstarter.com/locations/manhattan-ny&quot;},&quot;api&quot;:{&quot;nearby_projects&quot;:&quot;https://api.kickstarter.com/v1/discover?signature=1599091508.d0ad998abd1acaf9ce881d7c6beaad236f048e4b&amp;woe_id=12589342&quot;}}}\" id=\"location_12589342\">\n",
      "<a class=\"fastclick block type-14 px3 py1 hover-ksr-green-500\" href=\"#\" role=\"button\">Manhattan, NY</a>\n",
      "</li>\n",
      "<li class=\"location\" data-location=\"{&quot;id&quot;:12485627,&quot;name&quot;:&quot;Long Island&quot;,&quot;slug&quot;:&quot;long-island-ny&quot;,&quot;short_name&quot;:&quot;Long Island, NY&quot;,&quot;displayable_name&quot;:&quot;Long Island, NY&quot;,&quot;localized_name&quot;:&quot;Long Island&quot;,&quot;country&quot;:&quot;US&quot;,&quot;state&quot;:&quot;NY&quot;,&quot;type&quot;:&quot;Island&quot;,&quot;is_root&quot;:false,&quot;expanded_country&quot;:&quot;United States&quot;,&quot;urls&quot;:{&quot;web&quot;:{&quot;discover&quot;:&quot;https://www.kickstarter.com/discover/places/long-island-ny&quot;,&quot;location&quot;:&quot;https://www.kickstarter.com/locations/long-island-ny&quot;},&quot;api&quot;:{&quot;nearby_projects&quot;:&quot;https://api.kickstarter.com/v1/discover?signature=1599091508.35d82f04e51dbfef952dd70e72a2537ae8481eae&amp;woe_id=12485627&quot;}}}\" id=\"location_12485627\">\n",
      "<a class=\"fastclick block type-14 px3 py1 hover-ksr-green-500\" href=\"#\" role=\"button\">Long Island, NY</a>\n",
      "</li>\n",
      "<li class=\"location\" data-location=\"{&quot;id&quot;:2482949,&quot;name&quot;:&quot;Rochester&quot;,&quot;slug&quot;:&quot;rochester-monroe-ny&quot;,&quot;short_name&quot;:&quot;Rochester, NY&quot;,&quot;displayable_name&quot;:&quot;Rochester, NY&quot;,&quot;localized_name&quot;:&quot;Rochester&quot;,&quot;country&quot;:&quot;US&quot;,&quot;state&quot;:&quot;NY&quot;,&quot;type&quot;:&quot;Town&quot;,&quot;is_root&quot;:false,&quot;expanded_country&quot;:&quot;United States&quot;,&quot;urls&quot;:{&quot;web&quot;:{&quot;discover&quot;:&quot;https://www.kickstarter.com/discover/places/rochester-monroe-ny&quot;,&quot;location&quot;:&quot;https://www.kickstarter.com/locations/rochester-monroe-ny&quot;},&quot;api&quot;:{&quot;nearby_projects&quot;:&quot;https://api.kickstarter.com/v1/discover?signature=1599091508.d7c5dbfbd5e36927bc3beecf69d7304a9cb82962&amp;woe_id=2482949&quot;}}}\" id=\"location_2482949\">\n",
      "<a class=\"fastclick block type-14 px3 py1 hover-ksr-green-500\" href=\"#\" role=\"button\">Rochester, NY</a>\n",
      "</li>\n",
      "<li class=\"location\" data-location=\"{&quot;id&quot;:2371464,&quot;name&quot;:&quot;Buffalo&quot;,&quot;slug&quot;:&quot;buffalo-ny&quot;,&quot;short_name&quot;:&quot;Buffalo, NY&quot;,&quot;displayable_name&quot;:&quot;Buffalo, NY&quot;,&quot;localized_name&quot;:&quot;Buffalo&quot;,&quot;country&quot;:&quot;US&quot;,&quot;state&quot;:&quot;NY&quot;,&quot;type&quot;:&quot;Town&quot;,&quot;is_root&quot;:false,&quot;expanded_country&quot;:&quot;United States&quot;,&quot;urls&quot;:{&quot;web&quot;:{&quot;discover&quot;:&quot;https://www.kickstarter.com/discover/places/buffalo-ny&quot;,&quot;location&quot;:&quot;https://www.kickstarter.com/locations/buffalo-ny&quot;},&quot;api&quot;:{&quot;nearby_projects&quot;:&quot;https://api.kickstarter.com/v1/discover?signature=1599091508.770c7c048408d90b90c2eb33c620bb870d245e88&amp;woe_id=2371464&quot;}}}\" id=\"location_2371464\">\n",
      "<a class=\"fastclick block type-14 px3 py1 hover-ksr-green-500\" href=\"#\" role=\"button\">Buffalo, NY</a>\n",
      "</li>\n",
      "</ul>\n",
      "</div>\n",
      "</div>\n",
      "</div>\n",
      "\n",
      "<div aria-expanded=\"false\" aria-hidden=\"true\" class=\"js-popover scroll-y z-popover-3 bg-white border-sm border-dark-grey-500 maison-book border-box display-none fixed absolute-sm w100p w30-sm h100p h-auto-sm\" data-target-id=\"#sorts\" id=\"NS_discover__sorts\">\n",
      "<div class=\"relative bg-grey-300 w100p p3 border-box display-none-sm\">\n",
      "<h4 class=\"m0\">Sorts</h4>\n",
      "<div class=\"absolute t50p r3 translate-y-50p\">\n",
      "<button class=\"close fastclick bttn bttn-small bttn-blue\">Done</button>\n",
      "</div>\n",
      "</div>\n",
      "<ul>\n",
      "<li data-sort=\"magic\">\n",
      "<a class=\"block hover-ksr-green-500 ksr-green-500 px3 py1 type-14\" href=\"#\" role=\"button\">\n",
      "Magic\n",
      "</a>\n",
      "</li>\n",
      "<li data-sort=\"popularity\">\n",
      "<a class=\"black block hover-ksr-green-500 px3 py1 type-14\" href=\"#\" role=\"button\">\n",
      "Popularity\n",
      "</a>\n",
      "</li>\n",
      "<li data-sort=\"newest\">\n",
      "<a class=\"black block hover-ksr-green-500 px3 py1 type-14\" href=\"#\" role=\"button\">\n",
      "Newest\n",
      "</a>\n",
      "</li>\n",
      "<li data-sort=\"end_date\">\n",
      "<a class=\"black block hover-ksr-green-500 px3 py1 type-14\" href=\"#\" role=\"button\">\n",
      "End Date\n",
      "</a>\n",
      "</li>\n",
      "<li data-sort=\"most_funded\">\n",
      "<a class=\"black block hover-ksr-green-500 px3 py1 type-14\" href=\"#\" role=\"button\">\n",
      "Most Funded\n",
      "</a>\n",
      "</li>\n",
      "<li data-sort=\"most_backed\">\n",
      "<a class=\"black block hover-ksr-green-500 px3 py1 type-14\" href=\"#\" role=\"button\">\n",
      "Most Backed\n",
      "</a>\n",
      "</li>\n",
      "<li data-sort=\"distance\">\n",
      "<a class=\"black block hover-ksr-green-500 px3 py1 type-14\" href=\"#\" role=\"button\">\n",
      "Near Me\n",
      "</a>\n",
      "</li>\n",
      "</ul>\n",
      "</div>\n",
      "\n",
      "<div class=\"js-popover scroll-y z-popover-3 bg-white border-sm border-dark-grey-500 maison-book border-box display-none fixed absolute-sm w100p w-auto-sm h100p h-auto-sm\" data-target-id=\"#filters\" id=\"NS_discover__filters\">\n",
      "<div class=\"relative bg-grey-300 w100p p3 border-box display-none-sm\">\n",
      "<h4 class=\"m0\">Filters</h4>\n",
      "<div class=\"absolute t50p r3 translate-y-50p\">\n",
      "<button class=\"close fastclick bttn bttn-small bttn-blue\">Done</button>\n",
      "</div>\n",
      "</div>\n",
      "<div class=\"js-search_term relative m3\">\n",
      "<div class=\"relative\">\n",
      "<input autocapitalize=\"off\" autocomplete=\"off\" autocorrect=\"off\" class=\"border border-dark-grey-500 border-focused-navy-700 type-14 w100p p2 pl3 pr9 border-box outline-none\" placeholder=\"3D, Food Trucks, Dogs, ...\">\n",
      "<div class=\"js-search_term_button absolute h100p r0 t0 w9 pointer\" role=\"button\" tabindex=\"0\">\n",
      "<svg class=\"svg-icon__icon--search icon-large absolute t50p r3 translate-y-50p\" aria-hidden=\"true\"><use xlink:href=\"#icon--search\"></use></svg>\n",
      "</div>\n",
      "</div>\n",
      "</div>\n",
      "<div class=\"flex\">\n",
      "<div class=\"w50p w45-sm shrink0\">\n",
      "<ul class=\"js-featured\">\n",
      "<li class=\"js-staff_picks\">\n",
      "<a class=\"black block fastclick hover-ksr-green-500 px3 py1 type-14\" href=\"#\">\n",
      "Projects We Love\n",
      "</a>\n",
      "</li>\n",
      "<li class=\"js-starred\">\n",
      "<a class=\"black block fastclick hover-ksr-green-500 px3 py1 type-14\" href=\"#\">\n",
      "Saved projects\n",
      "</a>\n",
      "</li>\n",
      "<li class=\"js-social\">\n",
      "<a class=\"black block fastclick hover-ksr-green-500 px3 py1 type-14\" href=\"#\">\n",
      "Following\n",
      "</a>\n",
      "</li>\n",
      "<li class=\"js-backed\">\n",
      "<a class=\"black block fastclick hover-ksr-green-500 px3 py1 type-14\" href=\"#\">\n",
      "Projects I've backed\n",
      "</a>\n",
      "</li>\n",
      "</ul>\n",
      "</div>\n",
      "<div class=\"w50p w45-sm shrink0\">\n",
      "<ul class=\"mt2\">\n",
      "<li>\n",
      "<span class=\"block border border-transparent dark-grey-500 flex js-ksr-select js-states mb2 mr3 pl3 pointer pr2 py2 relative shadow-2 type-14\">\n",
      "<span class=\"js-title flex-auto\">All Projects</span>\n",
      "<select class=\"appearance-none o0p absolute t0 l0 h100p bg-white m0 p0 pointer border-none w100p\" name=\"state\">\n",
      "<option value=\"\">All projects</option>\n",
      "<option value=\"live\">Live projects</option>\n",
      "<option value=\"successful\">Successful projects</option>\n",
      "<option value=\"upcoming\">Upcoming projects</option>\n",
      "</select>\n",
      "<svg class=\"svg-icon__icon--delta-down icon-small relative ml2 flex-none self-center\" tabindex=\"0\" role=\"button\" aria-hidden=\"true\"><use xlink:href=\"#icon--delta-down\"></use></svg>\n",
      "</span>\n",
      "</li>\n",
      "<li>\n",
      "<span class=\"block border border-transparent dark-grey-500 flex js-ksr-select js-pledged mb2 mr3 pl3 pointer pr2 py2 relative shadow-2 type-14\">\n",
      "<span class=\"js-title flex-auto\">Amount Pledged</span>\n",
      "<select class=\"appearance-none o0p absolute t0 l0 h100p bg-white m0 p0 pointer border-none w100p\" name=\"pledged\">\n",
      "<option value=\"\">Amount Pledged</option>\n",
      "<option value=\"0\">&lt; $1,000 pledged</option>\n",
      "<option value=\"1\">$1,000 to $10,000 pledged</option>\n",
      "<option value=\"2\">$10,000 to $100,000 pledged</option>\n",
      "<option value=\"3\">$100,000 to $1,000,000 pledged</option>\n",
      "<option value=\"4\">&gt; $1,000,000 pledged</option>\n",
      "</select>\n",
      "<svg class=\"svg-icon__icon--delta-down icon-small relative ml2 flex-none self-center\" tabindex=\"0\" role=\"button\" aria-hidden=\"true\"><use xlink:href=\"#icon--delta-down\"></use></svg>\n",
      "</span>\n",
      "</li>\n",
      "<li>\n",
      "<span class=\"block border border-transparent dark-grey-500 flex js-goals js-ksr-select mb2 mr3 pl3 pointer pr2 py2 relative shadow-2 type-14\">\n",
      "<span class=\"js-title flex-auto\">Goal</span>\n",
      "<select class=\"appearance-none o0p absolute t0 l0 h100p bg-white m0 p0 pointer border-none w100p\" name=\"goal\">\n",
      "<option value=\"\">Goal</option>\n",
      "<option value=\"0\">&lt; $1,000 goal</option>\n",
      "<option value=\"1\">$1,000 to $10,000 goal</option>\n",
      "<option value=\"2\">$10,000 to $100,000 goal</option>\n",
      "<option value=\"3\">$100,000 to $1,000,000 goal</option>\n",
      "<option value=\"4\">&gt; $1,000,000 goal</option>\n",
      "</select>\n",
      "<svg class=\"svg-icon__icon--delta-down icon-small relative ml2 flex-none self-center\" tabindex=\"0\" role=\"button\" aria-hidden=\"true\"><use xlink:href=\"#icon--delta-down\"></use></svg>\n",
      "</span>\n",
      "</li>\n",
      "<li>\n",
      "<span class=\"block border border-transparent dark-grey-500 flex js-ksr-select js-raised mb3 mr3 pl3 pointer pr2 py2 relative shadow-2 type-14\">\n",
      "<span class=\"js-title flex-auto\">Raised</span>\n",
      "<select class=\"appearance-none o0p absolute t0 l0 h100p bg-white m0 p0 pointer border-none w100p\" name=\"raised\">\n",
      "<option value=\"\">% Raised</option>\n",
      "<option value=\"0\">&lt; 75% raised</option>\n",
      "<option value=\"1\">75% to 100% raised</option>\n",
      "<option value=\"2\">&gt; 100% raised</option>\n",
      "</select>\n",
      "<svg class=\"svg-icon__icon--delta-down icon-small relative ml2 flex-none self-center\" tabindex=\"0\" role=\"button\" aria-hidden=\"true\"><use xlink:href=\"#icon--delta-down\"></use></svg>\n",
      "</span>\n",
      "</li>\n",
      "</ul>\n",
      "</div>\n",
      "</div>\n",
      "</div>\n",
      "\n",
      "<header class=\"relative clip\" id=\"NS__discover_advanced_sentence\">\n",
      "<section class=\"js-sentence-container bg-white relative border-box clip\">\n",
      "<div class=\"pt10 pb3 js-sentence relative maison-book\">\n",
      "<div class=\"grid-container\">\n",
      "<div class=\"grid-row\">\n",
      "<div class=\"grid-col-12 flex justify-center\">\n",
      "<div class=\"inline-block\">\n",
      "<div class=\"display-none\">\n",
      "<span class=\"inline-block relative dark-grey-500 type-18 shadow-2 border border-transparent pointer py2 pl3 pr2 mr2 mb2 text-nowrap js-ksr-select js-filter js-filter-state\">\n",
      "<span class=\"js-title\">all</span>\n",
      "<select class=\"appearance-none o0p absolute t0 l0 h100p bg-white m0 p0 pointer border-none w100p\" name=\"state\">\n",
      "<option data-alt-label=\"all\" selected=\"selected\" value=\"all\">All</option>\n",
      "<option data-alt-label=\"live\" value=\"live\">Live</option>\n",
      "<option data-alt-label=\"successful\" value=\"successful\">Successful</option>\n",
      "<option data-alt-label=\"upcoming\" value=\"upcoming\">Upcoming</option>\n",
      "</select>\n",
      "<svg class=\"svg-icon__icon--cross icon-small relative ml2 js-filter-delete\" tabindex=\"0\" role=\"button\" aria-hidden=\"true\"><use xlink:href=\"#icon--cross\"></use></svg>\n",
      "</span>\n",
      "<span class=\"inline-block relative dark-grey-500 type-18 shadow-2 border border-transparent pointer py2 pl3 pr2 mr2 mb2 text-nowrap js-ksr-select js-filter js-filter-tag\">\n",
      "<span class=\"js-title\">All Tags</span>\n",
      "<select class=\"absolute appearance-none bg-white border-none h100p l0 m0 o0p p0 pointer select t0 w100p\" name=\"tag_id\">\n",
      "<option value=\"247\">Affordable Art</option>\n",
      "<option value=\"50\">Bikes</option>\n",
      "<option value=\"5\">DIY</option>\n",
      "<option value=\"121\">Environmental</option>\n",
      "<option value=\"86\">For Kids</option>\n",
      "<option value=\"16\">LGBTQIA+</option>\n",
      "<option value=\"3\">Public Benefit</option>\n",
      "<option value=\"41\">Robots</option>\n",
      "<option value=\"33\">RPGs</option>\n",
      "<option value=\"139\">Sci-Fi and Fantasy</option>\n",
      "<option value=\"204\">STEM</option>\n",
      "</select>\n",
      "<svg class=\"svg-icon__icon--cross icon-small relative ml2 js-filter-delete\" tabindex=\"0\" role=\"button\" aria-hidden=\"true\"><use xlink:href=\"#icon--cross\"></use></svg>\n",
      "</span>\n",
      "<span class=\"inline-block relative dark-grey-500 type-18 shadow-2 border border-transparent py2 pl3 pr2 mr2 mb2 max-w200 text-truncate text-nowrap valign-top js-ksr-select js-filter js-filter-search\">\n",
      "<input name=\"term\" type=\"hidden\">\n",
      "<span class=\"term inline-block outline-none\" contenteditable></span>\n",
      "<svg class=\"svg-icon__icon--cross icon-small relative ml2 js-filter-delete\" tabindex=\"0\" role=\"button\" aria-hidden=\"true\"><use xlink:href=\"#icon--cross\"></use></svg>\n",
      "</span>\n",
      "<span class=\"inline-block relative dark-grey-500 type-18 shadow-2 border border-transparent pointer py2 pl3 pr2 mr2 mb2 text-nowrap js-ksr-select js-filter js-filter-recommended\">\n",
      "<input name=\"recommended\" type=\"hidden\" value=\"1\">\n",
      "<span class=\"js-title\">recommended for me</span>\n",
      "<svg class=\"svg-icon__icon--cross icon-small relative ml2 js-filter-delete\" tabindex=\"0\" role=\"button\" aria-hidden=\"true\"><use xlink:href=\"#icon--cross\"></use></svg>\n",
      "</span>\n",
      "<span class=\"inline-block relative dark-grey-500 type-18 shadow-2 border border-transparent pointer py2 pl3 pr2 mr2 mb2 text-nowrap js-ksr-select js-filter js-filter-staff_picks\">\n",
      "<input name=\"staff_picks\" type=\"hidden\" value=\"1\">\n",
      "<span class=\"js-title\">Projects We Love</span>\n",
      "<svg class=\"svg-icon__icon--cross icon-small relative ml2 js-filter-delete\" tabindex=\"0\" role=\"button\" aria-hidden=\"true\"><use xlink:href=\"#icon--cross\"></use></svg>\n",
      "</span>\n",
      "<span class=\"inline-block relative dark-grey-500 type-18 shadow-2 border border-transparent pointer py2 pl3 pr2 mr2 mb2 text-nowrap js-ksr-select js-filter js-filter-starred\">\n",
      "<span class=\"js-title\">I've saved</span>\n",
      "<select class=\"appearance-none o0p absolute t0 l0 h100p bg-white m0 p0 pointer border-none w100p\" name=\"starred\">\n",
      "<option value=\"1\">I've saved</option>\n",
      "<option value=\"-1\">I haven't saved</option>\n",
      "</select>\n",
      "<svg class=\"svg-icon__icon--cross icon-small relative ml2 js-filter-delete\" tabindex=\"0\" role=\"button\" aria-hidden=\"true\"><use xlink:href=\"#icon--cross\"></use></svg>\n",
      "</span>\n",
      "<span class=\"inline-block relative dark-grey-500 type-18 shadow-2 border border-transparent pointer py2 pl3 pr2 mr2 mb2 text-nowrap js-ksr-select js-filter js-filter-backed\">\n",
      "<span class=\"js-title\">I've backed</span>\n",
      "<select class=\"appearance-none o0p absolute t0 l0 h100p bg-white m0 p0 pointer border-none w100p\" name=\"backed\">\n",
      "<option value=\"1\">I've backed</option>\n",
      "<option value=\"-1\">I haven't backed</option>\n",
      "</select>\n",
      "<svg class=\"svg-icon__icon--cross icon-small relative ml2 js-filter-delete\" tabindex=\"0\" role=\"button\" aria-hidden=\"true\"><use xlink:href=\"#icon--cross\"></use></svg>\n",
      "</span>\n",
      "<span class=\"inline-block relative dark-grey-500 type-18 shadow-2 border border-transparent pointer py2 pl3 pr2 mr2 mb2 text-nowrap js-ksr-select js-filter js-filter-social\">\n",
      "<span class=\"js-title\">backed by people you follow</span>\n",
      "<select class=\"appearance-none o0p absolute t0 l0 h100p bg-white m0 p0 pointer border-none w100p\" name=\"social\">\n",
      "<option value=\"1\">backed by people I follow</option>\n",
      "<option value=\"-1\">not backed by people I follow</option>\n",
      "</select>\n",
      "<svg class=\"svg-icon__icon--cross icon-small relative ml2 js-filter-delete\" tabindex=\"0\" role=\"button\" aria-hidden=\"true\"><use xlink:href=\"#icon--cross\"></use></svg>\n",
      "</span>\n",
      "<span class=\"inline-block relative dark-grey-500 type-18 shadow-2 border border-transparent pointer py2 pl3 pr2 mr2 mb2 text-nowrap js-ksr-select js-filter js-filter-goal\">\n",
      "<span class=\"js-title\"></span>\n",
      "<select class=\"appearance-none o0p absolute t0 l0 h100p bg-white m0 p0 pointer border-none w100p\" name=\"goal\">\n",
      "<option value=\"0\">&lt; $1,000 goal</option>\n",
      "<option value=\"1\">$1,000 to $10,000 goal</option>\n",
      "<option value=\"2\">$10,000 to $100,000 goal</option>\n",
      "<option value=\"3\">$100,000 to $1,000,000 goal</option>\n",
      "<option value=\"4\">&gt; $1,000,000 goal</option>\n",
      "</select>\n",
      "<svg class=\"svg-icon__icon--cross icon-small relative ml2 js-filter-delete\" tabindex=\"0\" role=\"button\" aria-hidden=\"true\"><use xlink:href=\"#icon--cross\"></use></svg>\n",
      "</span>\n",
      "<span class=\"inline-block relative dark-grey-500 type-18 shadow-2 border border-transparent pointer py2 pl3 pr2 mr2 mb2 text-nowrap js-ksr-select js-filter js-filter-pledged\">\n",
      "<span class=\"js-title\"></span>\n",
      "<select class=\"appearance-none o0p absolute t0 l0 h100p bg-white m0 p0 pointer border-none w100p\" name=\"pledged\">\n",
      "<option value=\"0\">&lt; $1,000 pledged</option>\n",
      "<option value=\"1\">$1,000 to $10,000 pledged</option>\n",
      "<option value=\"2\">$10,000 to $100,000 pledged</option>\n",
      "<option value=\"3\">$100,000 to $1,000,000 pledged</option>\n",
      "<option value=\"4\">&gt; $1,000,000 pledged</option>\n",
      "</select>\n",
      "<svg class=\"svg-icon__icon--cross icon-small relative ml2 js-filter-delete\" tabindex=\"0\" role=\"button\" aria-hidden=\"true\"><use xlink:href=\"#icon--cross\"></use></svg>\n",
      "</span>\n",
      "<span class=\"inline-block relative dark-grey-500 type-18 shadow-2 border border-transparent pointer py2 pl3 pr2 mr2 mb2 text-nowrap js-ksr-select js-filter js-filter-raised\">\n",
      "<span class=\"js-title\">Raised</span>\n",
      "<select class=\"appearance-none o0p absolute t0 l0 h100p bg-white m0 p0 pointer border-none w100p\" name=\"raised\">\n",
      "<option value=\"0\">&lt; 75% raised</option>\n",
      "<option value=\"1\">75% to 100% raised</option>\n",
      "<option value=\"2\">&gt; 100% raised</option>\n",
      "</select>\n",
      "<svg class=\"svg-icon__icon--cross icon-small relative ml2 js-filter-delete\" tabindex=\"0\" role=\"button\" aria-hidden=\"true\"><use xlink:href=\"#icon--cross\"></use></svg>\n",
      "</span>\n",
      "</div>\n",
      "<form action=\"/discover/advanced\" class=\"normal maison-book type-21 block inline-block-sm\">\n",
      "<div>\n",
      "<span class=\"display-none inline-block-sm mr2\">Show me</span><span class=\"inline-block relative dark-grey-500 type-18 shadow-2 border border-transparent pointer py2 pl3 pr2 mr2 mb2 text-nowrap js-ksr-select js-filter js-filter-category js-popover-trigger\" id=\"category_filter\"><span class=\"js-title\">Games</span>\n",
      "<svg class=\"svg-icon__icon--delta-down icon-small relative ml2 js-filter-arrow inline-block\" tabindex=\"0\" role=\"button\" aria-hidden=\"true\"><use xlink:href=\"#icon--delta-down\"></use></svg><svg class=\"svg-icon__icon--cross icon-small relative ml2 js-filter-delete display-none ksr-popover-excluded\" tabindex=\"0\" role=\"button\" aria-hidden=\"true\"><use xlink:href=\"#icon--cross\"></use></svg><select class=\"display-none\" name=\"category_id\">\n",
      "<option value=\"\" selected=\"selected\" data-id=\"0\" data-alt-label=\"all\">All Categories</option><option value=\"1\" data-id=\"1\" data-name=\"Art\" data-slug=\"art\" data-position=\"1\" data-color=\"16760235\" data-urls=\"{&quot;web&quot;:{&quot;discover&quot;:&quot;http://www.kickstarter.com/discover/categories/art&quot;}}\">Art</option><option value=\"287\" data-id=\"287\" data-name=\"Ceramics\" data-slug=\"art/ceramics\" data-position=\"1\" data-parent-id=\"1\" data-parent-name=\"Art\" data-color=\"16760235\" data-urls=\"{&quot;web&quot;:{&quot;discover&quot;:&quot;http://www.kickstarter.com/discover/categories/art/ceramics&quot;}}\" data-alt-label=\"Ceramics\">&nbsp;&nbsp;&nbsp;&nbsp;Ceramics</option><option value=\"20\" data-id=\"20\" data-name=\"Conceptual Art\" data-slug=\"art/conceptual art\" data-position=\"2\" data-parent-id=\"1\" data-parent-name=\"Art\" data-color=\"16760235\" data-urls=\"{&quot;web&quot;:{&quot;discover&quot;:&quot;http://www.kickstarter.com/discover/categories/art/conceptual%20art&quot;}}\" data-alt-label=\"Conceptual Art\">&nbsp;&nbsp;&nbsp;&nbsp;Conceptual Art</option><option value=\"21\" data-id=\"21\" data-name=\"Digital Art\" data-slug=\"art/digital art\" data-position=\"3\" data-parent-id=\"1\" data-parent-name=\"Art\" data-color=\"16760235\" data-urls=\"{&quot;web&quot;:{&quot;discover&quot;:&quot;http://www.kickstarter.com/discover/categories/art/digital%20art&quot;}}\" data-alt-label=\"Digital Art\">&nbsp;&nbsp;&nbsp;&nbsp;Digital Art</option><option value=\"22\" data-id=\"22\" data-name=\"Illustration\" data-slug=\"art/illustration\" data-position=\"4\" data-parent-id=\"1\" data-parent-name=\"Art\" data-color=\"16760235\" data-urls=\"{&quot;web&quot;:{&quot;discover&quot;:&quot;http://www.kickstarter.com/discover/categories/art/illustration&quot;}}\" data-alt-label=\"Illustration\">&nbsp;&nbsp;&nbsp;&nbsp;Illustration</option><option value=\"288\" data-id=\"288\" data-name=\"Installations\" data-slug=\"art/installations\" data-position=\"5\" data-parent-id=\"1\" data-parent-name=\"Art\" data-color=\"16760235\" data-urls=\"{&quot;web&quot;:{&quot;discover&quot;:&quot;http://www.kickstarter.com/discover/categories/art/installations&quot;}}\" data-alt-label=\"Installations\">&nbsp;&nbsp;&nbsp;&nbsp;Installations</option><option value=\"54\" data-id=\"54\" data-name=\"Mixed Media\" data-slug=\"art/mixed media\" data-position=\"6\" data-parent-id=\"1\" data-parent-name=\"Art\" data-color=\"16760235\" data-urls=\"{&quot;web&quot;:{&quot;discover&quot;:&quot;http://www.kickstarter.com/discover/categories/art/mixed%20media&quot;}}\" data-alt-label=\"Mixed Media\">&nbsp;&nbsp;&nbsp;&nbsp;Mixed Media</option><option value=\"23\" data-id=\"23\" data-name=\"Painting\" data-slug=\"art/painting\" data-position=\"7\" data-parent-id=\"1\" data-parent-name=\"Art\" data-color=\"16760235\" data-urls=\"{&quot;web&quot;:{&quot;discover&quot;:&quot;http://www.kickstarter.com/discover/categories/art/painting&quot;}}\" data-alt-label=\"Painting\">&nbsp;&nbsp;&nbsp;&nbsp;Painting</option><option value=\"24\" data-id=\"24\" data-name=\"Performance Art\" data-slug=\"art/performance art\" data-position=\"8\" data-parent-id=\"1\" data-parent-name=\"Art\" data-color=\"16760235\" data-urls=\"{&quot;web&quot;:{&quot;discover&quot;:&quot;http://www.kickstarter.com/discover/categories/art/performance%20art&quot;}}\" data-alt-label=\"Performance Art\">&nbsp;&nbsp;&nbsp;&nbsp;Performance Art</option><option value=\"53\" data-id=\"53\" data-name=\"Public Art\" data-slug=\"art/public art\" data-position=\"9\" data-parent-id=\"1\" data-parent-name=\"Art\" data-color=\"16760235\" data-urls=\"{&quot;web&quot;:{&quot;discover&quot;:&quot;http://www.kickstarter.com/discover/categories/art/public%20art&quot;}}\" data-alt-label=\"Public Art\">&nbsp;&nbsp;&nbsp;&nbsp;Public Art</option><option value=\"25\" data-id=\"25\" data-name=\"Sculpture\" data-slug=\"art/sculpture\" data-position=\"10\" data-parent-id=\"1\" data-parent-name=\"Art\" data-color=\"16760235\" data-urls=\"{&quot;web&quot;:{&quot;discover&quot;:&quot;http://www.kickstarter.com/discover/categories/art/sculpture&quot;}}\" data-alt-label=\"Sculpture\">&nbsp;&nbsp;&nbsp;&nbsp;Sculpture</option><option value=\"395\" data-id=\"395\" data-name=\"Social Practice\" data-slug=\"art/social practice\" data-position=\"11\" data-parent-id=\"1\" data-parent-name=\"Art\" data-color=\"16760235\" data-urls=\"{&quot;web&quot;:{&quot;discover&quot;:&quot;http://www.kickstarter.com/discover/categories/art/social%20practice&quot;}}\" data-alt-label=\"Social Practice\">&nbsp;&nbsp;&nbsp;&nbsp;Social Practice</option><option value=\"289\" data-id=\"289\" data-name=\"Textiles\" data-slug=\"art/textiles\" data-position=\"12\" data-parent-id=\"1\" data-parent-name=\"Art\" data-color=\"16760235\" data-urls=\"{&quot;web&quot;:{&quot;discover&quot;:&quot;http://www.kickstarter.com/discover/categories/art/textiles&quot;}}\" data-alt-label=\"Textiles\">&nbsp;&nbsp;&nbsp;&nbsp;Textiles</option><option value=\"290\" data-id=\"290\" data-name=\"Video Art\" data-slug=\"art/video art\" data-position=\"13\" data-parent-id=\"1\" data-parent-name=\"Art\" data-color=\"16760235\" data-urls=\"{&quot;web&quot;:{&quot;discover&quot;:&quot;http://www.kickstarter.com/discover/categories/art/video%20art&quot;}}\" data-alt-label=\"Video Art\">&nbsp;&nbsp;&nbsp;&nbsp;Video Art</option><option value=\"3\" data-id=\"3\" data-name=\"Comics\" data-slug=\"comics\" data-position=\"2\" data-color=\"16776056\" data-urls=\"{&quot;web&quot;:{&quot;discover&quot;:&quot;http://www.kickstarter.com/discover/categories/comics&quot;}}\">Comics</option><option value=\"249\" data-id=\"249\" data-name=\"Anthologies\" data-slug=\"comics/anthologies\" data-position=\"1\" data-parent-id=\"3\" data-parent-name=\"Comics\" data-color=\"16776056\" data-urls=\"{&quot;web&quot;:{&quot;discover&quot;:&quot;http://www.kickstarter.com/discover/categories/comics/anthologies&quot;}}\" data-alt-label=\"Anthologies\">&nbsp;&nbsp;&nbsp;&nbsp;Anthologies</option><option value=\"250\" data-id=\"250\" data-name=\"Comic Books\" data-slug=\"comics/comic books\" data-position=\"2\" data-parent-id=\"3\" data-parent-name=\"Comics\" data-color=\"16776056\" data-urls=\"{&quot;web&quot;:{&quot;discover&quot;:&quot;http://www.kickstarter.com/discover/categories/comics/comic%20books&quot;}}\" data-alt-label=\"Comic Books\">&nbsp;&nbsp;&nbsp;&nbsp;Comic Books</option><option value=\"251\" data-id=\"251\" data-name=\"Events\" data-slug=\"comics/events\" data-position=\"3\" data-parent-id=\"3\" data-parent-name=\"Comics\" data-color=\"16776056\" data-urls=\"{&quot;web&quot;:{&quot;discover&quot;:&quot;http://www.kickstarter.com/discover/categories/comics/events&quot;}}\" data-alt-label=\"Events\">&nbsp;&nbsp;&nbsp;&nbsp;Events</option><option value=\"252\" data-id=\"252\" data-name=\"Graphic Novels\" data-slug=\"comics/graphic novels\" data-position=\"4\" data-parent-id=\"3\" data-parent-name=\"Comics\" data-color=\"16776056\" data-urls=\"{&quot;web&quot;:{&quot;discover&quot;:&quot;http://www.kickstarter.com/discover/categories/comics/graphic%20novels&quot;}}\" data-alt-label=\"Graphic Novels\">&nbsp;&nbsp;&nbsp;&nbsp;Graphic Novels</option><option value=\"253\" data-id=\"253\" data-name=\"Webcomics\" data-slug=\"comics/webcomics\" data-position=\"5\" data-parent-id=\"3\" data-parent-name=\"Comics\" data-color=\"16776056\" data-urls=\"{&quot;web&quot;:{&quot;discover&quot;:&quot;http://www.kickstarter.com/discover/categories/comics/webcomics&quot;}}\" data-alt-label=\"Webcomics\">&nbsp;&nbsp;&nbsp;&nbsp;Webcomics</option><option value=\"26\" data-id=\"26\" data-name=\"Crafts\" data-slug=\"crafts\" data-position=\"3\" data-color=\"16744876\" data-urls=\"{&quot;web&quot;:{&quot;discover&quot;:&quot;http://www.kickstarter.com/discover/categories/crafts&quot;}}\">Crafts</option><option value=\"343\" data-id=\"343\" data-name=\"Candles\" data-slug=\"crafts/candles\" data-position=\"1\" data-parent-id=\"26\" data-parent-name=\"Crafts\" data-color=\"16744876\" data-urls=\"{&quot;web&quot;:{&quot;discover&quot;:&quot;http://www.kickstarter.com/discover/categories/crafts/candles&quot;}}\" data-alt-label=\"Candles\">&nbsp;&nbsp;&nbsp;&nbsp;Candles</option><option value=\"344\" data-id=\"344\" data-name=\"Crochet\" data-slug=\"crafts/crochet\" data-position=\"2\" data-parent-id=\"26\" data-parent-name=\"Crafts\" data-color=\"16744876\" data-urls=\"{&quot;web&quot;:{&quot;discover&quot;:&quot;http://www.kickstarter.com/discover/categories/crafts/crochet&quot;}}\" data-alt-label=\"Crochet\">&nbsp;&nbsp;&nbsp;&nbsp;Crochet</option><option value=\"345\" data-id=\"345\" data-name=\"DIY\" data-slug=\"crafts/diy\" data-position=\"3\" data-parent-id=\"26\" data-parent-name=\"Crafts\" data-color=\"16744876\" data-urls=\"{&quot;web&quot;:{&quot;discover&quot;:&quot;http://www.kickstarter.com/discover/categories/crafts/diy&quot;}}\" data-alt-label=\"DIY\">&nbsp;&nbsp;&nbsp;&nbsp;DIY</option><option value=\"346\" data-id=\"346\" data-name=\"Embroidery\" data-slug=\"crafts/embroidery\" data-position=\"4\" data-parent-id=\"26\" data-parent-name=\"Crafts\" data-color=\"16744876\" data-urls=\"{&quot;web&quot;:{&quot;discover&quot;:&quot;http://www.kickstarter.com/discover/categories/crafts/embroidery&quot;}}\" data-alt-label=\"Embroidery\">&nbsp;&nbsp;&nbsp;&nbsp;Embroidery</option><option value=\"347\" data-id=\"347\" data-name=\"Glass\" data-slug=\"crafts/glass\" data-position=\"5\" data-parent-id=\"26\" data-parent-name=\"Crafts\" data-color=\"16744876\" data-urls=\"{&quot;web&quot;:{&quot;discover&quot;:&quot;http://www.kickstarter.com/discover/categories/crafts/glass&quot;}}\" data-alt-label=\"Glass\">&nbsp;&nbsp;&nbsp;&nbsp;Glass</option><option value=\"348\" data-id=\"348\" data-name=\"Knitting\" data-slug=\"crafts/knitting\" data-position=\"6\" data-parent-id=\"26\" data-parent-name=\"Crafts\" data-color=\"16744876\" data-urls=\"{&quot;web&quot;:{&quot;discover&quot;:&quot;http://www.kickstarter.com/discover/categories/crafts/knitting&quot;}}\" data-alt-label=\"Knitting\">&nbsp;&nbsp;&nbsp;&nbsp;Knitting</option><option value=\"350\" data-id=\"350\" data-name=\"Pottery\" data-slug=\"crafts/pottery\" data-position=\"8\" data-parent-id=\"26\" data-parent-name=\"Crafts\" data-color=\"16744876\" data-urls=\"{&quot;web&quot;:{&quot;discover&quot;:&quot;http://www.kickstarter.com/discover/categories/crafts/pottery&quot;}}\" data-alt-label=\"Pottery\">&nbsp;&nbsp;&nbsp;&nbsp;Pottery</option><option value=\"351\" data-id=\"351\" data-name=\"Printing\" data-slug=\"crafts/printing\" data-position=\"9\" data-parent-id=\"26\" data-parent-name=\"Crafts\" data-color=\"16744876\" data-urls=\"{&quot;web&quot;:{&quot;discover&quot;:&quot;http://www.kickstarter.com/discover/categories/crafts/printing&quot;}}\" data-alt-label=\"Printing\">&nbsp;&nbsp;&nbsp;&nbsp;Printing</option><option value=\"352\" data-id=\"352\" data-name=\"Quilts\" data-slug=\"crafts/quilts\" data-position=\"10\" data-parent-id=\"26\" data-parent-name=\"Crafts\" data-color=\"16744876\" data-urls=\"{&quot;web&quot;:{&quot;discover&quot;:&quot;http://www.kickstarter.com/discover/categories/crafts/quilts&quot;}}\" data-alt-label=\"Quilts\">&nbsp;&nbsp;&nbsp;&nbsp;Quilts</option><option value=\"353\" data-id=\"353\" data-name=\"Stationery\" data-slug=\"crafts/stationery\" data-position=\"11\" data-parent-id=\"26\" data-parent-name=\"Crafts\" data-color=\"16744876\" data-urls=\"{&quot;web&quot;:{&quot;discover&quot;:&quot;http://www.kickstarter.com/discover/categories/crafts/stationery&quot;}}\" data-alt-label=\"Stationery\">&nbsp;&nbsp;&nbsp;&nbsp;Stationery</option><option value=\"354\" data-id=\"354\" data-name=\"Taxidermy\" data-slug=\"crafts/taxidermy\" data-position=\"12\" data-parent-id=\"26\" data-parent-name=\"Crafts\" data-color=\"16744876\" data-urls=\"{&quot;web&quot;:{&quot;discover&quot;:&quot;http://www.kickstarter.com/discover/categories/crafts/taxidermy&quot;}}\" data-alt-label=\"Taxidermy\">&nbsp;&nbsp;&nbsp;&nbsp;Taxidermy</option><option value=\"355\" data-id=\"355\" data-name=\"Weaving\" data-slug=\"crafts/weaving\" data-position=\"13\" data-parent-id=\"26\" data-parent-name=\"Crafts\" data-color=\"16744876\" data-urls=\"{&quot;web&quot;:{&quot;discover&quot;:&quot;http://www.kickstarter.com/discover/categories/crafts/weaving&quot;}}\" data-alt-label=\"Weaving\">&nbsp;&nbsp;&nbsp;&nbsp;Weaving</option><option value=\"356\" data-id=\"356\" data-name=\"Woodworking\" data-slug=\"crafts/woodworking\" data-position=\"14\" data-parent-id=\"26\" data-parent-name=\"Crafts\" data-color=\"16744876\" data-urls=\"{&quot;web&quot;:{&quot;discover&quot;:&quot;http://www.kickstarter.com/discover/categories/crafts/woodworking&quot;}}\" data-alt-label=\"Woodworking\">&nbsp;&nbsp;&nbsp;&nbsp;Woodworking</option><option value=\"6\" data-id=\"6\" data-name=\"Dance\" data-slug=\"dance\" data-position=\"4\" data-color=\"10917369\" data-urls=\"{&quot;web&quot;:{&quot;discover&quot;:&quot;http://www.kickstarter.com/discover/categories/dance&quot;}}\">Dance</option><option value=\"254\" data-id=\"254\" data-name=\"Performances\" data-slug=\"dance/performances\" data-position=\"1\" data-parent-id=\"6\" data-parent-name=\"Dance\" data-color=\"10917369\" data-urls=\"{&quot;web&quot;:{&quot;discover&quot;:&quot;http://www.kickstarter.com/discover/categories/dance/performances&quot;}}\" data-alt-label=\"Performances\">&nbsp;&nbsp;&nbsp;&nbsp;Performances</option><option value=\"255\" data-id=\"255\" data-name=\"Residencies\" data-slug=\"dance/residencies\" data-position=\"2\" data-parent-id=\"6\" data-parent-name=\"Dance\" data-color=\"10917369\" data-urls=\"{&quot;web&quot;:{&quot;discover&quot;:&quot;http://www.kickstarter.com/discover/categories/dance/residencies&quot;}}\" data-alt-label=\"Residencies\">&nbsp;&nbsp;&nbsp;&nbsp;Residencies</option><option value=\"256\" data-id=\"256\" data-name=\"Spaces\" data-slug=\"dance/spaces\" data-position=\"3\" data-parent-id=\"6\" data-parent-name=\"Dance\" data-color=\"10917369\" data-urls=\"{&quot;web&quot;:{&quot;discover&quot;:&quot;http://www.kickstarter.com/discover/categories/dance/spaces&quot;}}\" data-alt-label=\"Spaces\">&nbsp;&nbsp;&nbsp;&nbsp;Spaces</option><option value=\"257\" data-id=\"257\" data-name=\"Workshops\" data-slug=\"dance/workshops\" data-position=\"4\" data-parent-id=\"6\" data-parent-name=\"Dance\" data-color=\"10917369\" data-urls=\"{&quot;web&quot;:{&quot;discover&quot;:&quot;http://www.kickstarter.com/discover/categories/dance/workshops&quot;}}\" data-alt-label=\"Workshops\">&nbsp;&nbsp;&nbsp;&nbsp;Workshops</option><option value=\"7\" data-id=\"7\" data-name=\"Design\" data-slug=\"design\" data-position=\"5\" data-color=\"2577151\" data-urls=\"{&quot;web&quot;:{&quot;discover&quot;:&quot;http://www.kickstarter.com/discover/categories/design&quot;}}\">Design</option><option value=\"258\" data-id=\"258\" data-name=\"Architecture\" data-slug=\"design/architecture\" data-position=\"1\" data-parent-id=\"7\" data-parent-name=\"Design\" data-color=\"2577151\" data-urls=\"{&quot;web&quot;:{&quot;discover&quot;:&quot;http://www.kickstarter.com/discover/categories/design/architecture&quot;}}\" data-alt-label=\"Architecture\">&nbsp;&nbsp;&nbsp;&nbsp;Architecture</option><option value=\"259\" data-id=\"259\" data-name=\"Civic Design\" data-slug=\"design/civic design\" data-position=\"2\" data-parent-id=\"7\" data-parent-name=\"Design\" data-color=\"2577151\" data-urls=\"{&quot;web&quot;:{&quot;discover&quot;:&quot;http://www.kickstarter.com/discover/categories/design/civic%20design&quot;}}\" data-alt-label=\"Civic Design\">&nbsp;&nbsp;&nbsp;&nbsp;Civic Design</option><option value=\"27\" data-id=\"27\" data-name=\"Graphic Design\" data-slug=\"design/graphic design\" data-position=\"3\" data-parent-id=\"7\" data-parent-name=\"Design\" data-color=\"2577151\" data-urls=\"{&quot;web&quot;:{&quot;discover&quot;:&quot;http://www.kickstarter.com/discover/categories/design/graphic%20design&quot;}}\" data-alt-label=\"Graphic Design\">&nbsp;&nbsp;&nbsp;&nbsp;Graphic Design</option><option value=\"260\" data-id=\"260\" data-name=\"Interactive Design\" data-slug=\"design/interactive design\" data-position=\"4\" data-parent-id=\"7\" data-parent-name=\"Design\" data-color=\"2577151\" data-urls=\"{&quot;web&quot;:{&quot;discover&quot;:&quot;http://www.kickstarter.com/discover/categories/design/interactive%20design&quot;}}\" data-alt-label=\"Interactive Design\">&nbsp;&nbsp;&nbsp;&nbsp;Interactive Design</option><option value=\"28\" data-id=\"28\" data-name=\"Product Design\" data-slug=\"design/product design\" data-position=\"5\" data-parent-id=\"7\" data-parent-name=\"Design\" data-color=\"2577151\" data-urls=\"{&quot;web&quot;:{&quot;discover&quot;:&quot;http://www.kickstarter.com/discover/categories/design/product%20design&quot;}}\" data-alt-label=\"Product Design\">&nbsp;&nbsp;&nbsp;&nbsp;Product Design</option><option value=\"396\" data-id=\"396\" data-name=\"Toys\" data-slug=\"design/toys\" data-position=\"6\" data-parent-id=\"7\" data-parent-name=\"Design\" data-color=\"2577151\" data-urls=\"{&quot;web&quot;:{&quot;discover&quot;:&quot;http://www.kickstarter.com/discover/categories/design/toys&quot;}}\" data-alt-label=\"Toys\">&nbsp;&nbsp;&nbsp;&nbsp;Toys</option><option value=\"261\" data-id=\"261\" data-name=\"Typography\" data-slug=\"design/typography\" data-position=\"7\" data-parent-id=\"7\" data-parent-name=\"Design\" data-color=\"2577151\" data-urls=\"{&quot;web&quot;:{&quot;discover&quot;:&quot;http://www.kickstarter.com/discover/categories/design/typography&quot;}}\" data-alt-label=\"Typography\">&nbsp;&nbsp;&nbsp;&nbsp;Typography</option><option value=\"9\" data-id=\"9\" data-name=\"Fashion\" data-slug=\"fashion\" data-position=\"6\" data-color=\"16752598\" data-urls=\"{&quot;web&quot;:{&quot;discover&quot;:&quot;http://www.kickstarter.com/discover/categories/fashion&quot;}}\">Fashion</option><option value=\"262\" data-id=\"262\" data-name=\"Accessories\" data-slug=\"fashion/accessories\" data-position=\"1\" data-parent-id=\"9\" data-parent-name=\"Fashion\" data-color=\"16752598\" data-urls=\"{&quot;web&quot;:{&quot;discover&quot;:&quot;http://www.kickstarter.com/discover/categories/fashion/accessories&quot;}}\" data-alt-label=\"Accessories\">&nbsp;&nbsp;&nbsp;&nbsp;Accessories</option><option value=\"263\" data-id=\"263\" data-name=\"Apparel\" data-slug=\"fashion/apparel\" data-position=\"2\" data-parent-id=\"9\" data-parent-name=\"Fashion\" data-color=\"16752598\" data-urls=\"{&quot;web&quot;:{&quot;discover&quot;:&quot;http://www.kickstarter.com/discover/categories/fashion/apparel&quot;}}\" data-alt-label=\"Apparel\">&nbsp;&nbsp;&nbsp;&nbsp;Apparel</option><option value=\"264\" data-id=\"264\" data-name=\"Childrenswear\" data-slug=\"fashion/childrenswear\" data-position=\"3\" data-parent-id=\"9\" data-parent-name=\"Fashion\" data-color=\"16752598\" data-urls=\"{&quot;web&quot;:{&quot;discover&quot;:&quot;http://www.kickstarter.com/discover/categories/fashion/childrenswear&quot;}}\" data-alt-label=\"Childrenswear\">&nbsp;&nbsp;&nbsp;&nbsp;Childrenswear</option><option value=\"265\" data-id=\"265\" data-name=\"Couture\" data-slug=\"fashion/couture\" data-position=\"4\" data-parent-id=\"9\" data-parent-name=\"Fashion\" data-color=\"16752598\" data-urls=\"{&quot;web&quot;:{&quot;discover&quot;:&quot;http://www.kickstarter.com/discover/categories/fashion/couture&quot;}}\" data-alt-label=\"Couture\">&nbsp;&nbsp;&nbsp;&nbsp;Couture</option><option value=\"266\" data-id=\"266\" data-name=\"Footwear\" data-slug=\"fashion/footwear\" data-position=\"5\" data-parent-id=\"9\" data-parent-name=\"Fashion\" data-color=\"16752598\" data-urls=\"{&quot;web&quot;:{&quot;discover&quot;:&quot;http://www.kickstarter.com/discover/categories/fashion/footwear&quot;}}\" data-alt-label=\"Footwear\">&nbsp;&nbsp;&nbsp;&nbsp;Footwear</option><option value=\"267\" data-id=\"267\" data-name=\"Jewelry\" data-slug=\"fashion/jewelry\" data-position=\"6\" data-parent-id=\"9\" data-parent-name=\"Fashion\" data-color=\"16752598\" data-urls=\"{&quot;web&quot;:{&quot;discover&quot;:&quot;http://www.kickstarter.com/discover/categories/fashion/jewelry&quot;}}\" data-alt-label=\"Jewelry\">&nbsp;&nbsp;&nbsp;&nbsp;Jewelry</option><option value=\"268\" data-id=\"268\" data-name=\"Pet Fashion\" data-slug=\"fashion/pet fashion\" data-position=\"7\" data-parent-id=\"9\" data-parent-name=\"Fashion\" data-color=\"16752598\" data-urls=\"{&quot;web&quot;:{&quot;discover&quot;:&quot;http://www.kickstarter.com/discover/categories/fashion/pet%20fashion&quot;}}\" data-alt-label=\"Pet Fashion\">&nbsp;&nbsp;&nbsp;&nbsp;Pet Fashion</option><option value=\"269\" data-id=\"269\" data-name=\"Ready-to-wear\" data-slug=\"fashion/ready-to-wear\" data-position=\"8\" data-parent-id=\"9\" data-parent-name=\"Fashion\" data-color=\"16752598\" data-urls=\"{&quot;web&quot;:{&quot;discover&quot;:&quot;http://www.kickstarter.com/discover/categories/fashion/ready-to-wear&quot;}}\" data-alt-label=\"Ready-to-wear\">&nbsp;&nbsp;&nbsp;&nbsp;Ready-to-wear</option><option value=\"11\" data-id=\"11\" data-name=\"Film & Video\" data-slug=\"film &amp; video\" data-position=\"7\" data-color=\"16734574\" data-urls=\"{&quot;web&quot;:{&quot;discover&quot;:&quot;http://www.kickstarter.com/discover/categories/film%20&amp;%20video&quot;}}\">Film & Video</option><option value=\"291\" data-id=\"291\" data-name=\"Action\" data-slug=\"film &amp; video/action\" data-position=\"1\" data-parent-id=\"11\" data-parent-name=\"Film &amp; Video\" data-color=\"16734574\" data-urls=\"{&quot;web&quot;:{&quot;discover&quot;:&quot;http://www.kickstarter.com/discover/categories/film%20&amp;%20video/action&quot;}}\" data-alt-label=\"Action\">&nbsp;&nbsp;&nbsp;&nbsp;Action</option><option value=\"29\" data-id=\"29\" data-name=\"Animation\" data-slug=\"film &amp; video/animation\" data-position=\"2\" data-parent-id=\"11\" data-parent-name=\"Film &amp; Video\" data-color=\"16734574\" data-urls=\"{&quot;web&quot;:{&quot;discover&quot;:&quot;http://www.kickstarter.com/discover/categories/film%20&amp;%20video/animation&quot;}}\" data-alt-label=\"Animation\">&nbsp;&nbsp;&nbsp;&nbsp;Animation</option><option value=\"292\" data-id=\"292\" data-name=\"Comedy\" data-slug=\"film &amp; video/comedy\" data-position=\"3\" data-parent-id=\"11\" data-parent-name=\"Film &amp; Video\" data-color=\"16734574\" data-urls=\"{&quot;web&quot;:{&quot;discover&quot;:&quot;http://www.kickstarter.com/discover/categories/film%20&amp;%20video/comedy&quot;}}\" data-alt-label=\"Comedy\">&nbsp;&nbsp;&nbsp;&nbsp;Comedy</option><option value=\"30\" data-id=\"30\" data-name=\"Documentary\" data-slug=\"film &amp; video/documentary\" data-position=\"4\" data-parent-id=\"11\" data-parent-name=\"Film &amp; Video\" data-color=\"16734574\" data-urls=\"{&quot;web&quot;:{&quot;discover&quot;:&quot;http://www.kickstarter.com/discover/categories/film%20&amp;%20video/documentary&quot;}}\" data-alt-label=\"Documentary\">&nbsp;&nbsp;&nbsp;&nbsp;Documentary</option><option value=\"293\" data-id=\"293\" data-name=\"Drama\" data-slug=\"film &amp; video/drama\" data-position=\"5\" data-parent-id=\"11\" data-parent-name=\"Film &amp; Video\" data-color=\"16734574\" data-urls=\"{&quot;web&quot;:{&quot;discover&quot;:&quot;http://www.kickstarter.com/discover/categories/film%20&amp;%20video/drama&quot;}}\" data-alt-label=\"Drama\">&nbsp;&nbsp;&nbsp;&nbsp;Drama</option><option value=\"294\" data-id=\"294\" data-name=\"Experimental\" data-slug=\"film &amp; video/experimental\" data-position=\"6\" data-parent-id=\"11\" data-parent-name=\"Film &amp; Video\" data-color=\"16734574\" data-urls=\"{&quot;web&quot;:{&quot;discover&quot;:&quot;http://www.kickstarter.com/discover/categories/film%20&amp;%20video/experimental&quot;}}\" data-alt-label=\"Experimental\">&nbsp;&nbsp;&nbsp;&nbsp;Experimental</option><option value=\"330\" data-id=\"330\" data-name=\"Family\" data-slug=\"film &amp; video/family\" data-position=\"7\" data-parent-id=\"11\" data-parent-name=\"Film &amp; Video\" data-color=\"16734574\" data-urls=\"{&quot;web&quot;:{&quot;discover&quot;:&quot;http://www.kickstarter.com/discover/categories/film%20&amp;%20video/family&quot;}}\" data-alt-label=\"Family\">&nbsp;&nbsp;&nbsp;&nbsp;Family</option><option value=\"296\" data-id=\"296\" data-name=\"Fantasy\" data-slug=\"film &amp; video/fantasy\" data-position=\"8\" data-parent-id=\"11\" data-parent-name=\"Film &amp; Video\" data-color=\"16734574\" data-urls=\"{&quot;web&quot;:{&quot;discover&quot;:&quot;http://www.kickstarter.com/discover/categories/film%20&amp;%20video/fantasy&quot;}}\" data-alt-label=\"Fantasy\">&nbsp;&nbsp;&nbsp;&nbsp;Fantasy</option><option value=\"295\" data-id=\"295\" data-name=\"Festivals\" data-slug=\"film &amp; video/festivals\" data-position=\"9\" data-parent-id=\"11\" data-parent-name=\"Film &amp; Video\" data-color=\"16734574\" data-urls=\"{&quot;web&quot;:{&quot;discover&quot;:&quot;http://www.kickstarter.com/discover/categories/film%20&amp;%20video/festivals&quot;}}\" data-alt-label=\"Festivals\">&nbsp;&nbsp;&nbsp;&nbsp;Festivals</option><option value=\"297\" data-id=\"297\" data-name=\"Horror\" data-slug=\"film &amp; video/horror\" data-position=\"10\" data-parent-id=\"11\" data-parent-name=\"Film &amp; Video\" data-color=\"16734574\" data-urls=\"{&quot;web&quot;:{&quot;discover&quot;:&quot;http://www.kickstarter.com/discover/categories/film%20&amp;%20video/horror&quot;}}\" data-alt-label=\"Horror\">&nbsp;&nbsp;&nbsp;&nbsp;Horror</option><option value=\"298\" data-id=\"298\" data-name=\"Movie Theaters\" data-slug=\"film &amp; video/movie theaters\" data-position=\"11\" data-parent-id=\"11\" data-parent-name=\"Film &amp; Video\" data-color=\"16734574\" data-urls=\"{&quot;web&quot;:{&quot;discover&quot;:&quot;http://www.kickstarter.com/discover/categories/film%20&amp;%20video/movie%20theaters&quot;}}\" data-alt-label=\"Movie Theaters\">&nbsp;&nbsp;&nbsp;&nbsp;Movie Theaters</option><option value=\"299\" data-id=\"299\" data-name=\"Music Videos\" data-slug=\"film &amp; video/music videos\" data-position=\"12\" data-parent-id=\"11\" data-parent-name=\"Film &amp; Video\" data-color=\"16734574\" data-urls=\"{&quot;web&quot;:{&quot;discover&quot;:&quot;http://www.kickstarter.com/discover/categories/film%20&amp;%20video/music%20videos&quot;}}\" data-alt-label=\"Music Videos\">&nbsp;&nbsp;&nbsp;&nbsp;Music Videos</option><option value=\"31\" data-id=\"31\" data-name=\"Narrative Film\" data-slug=\"film &amp; video/narrative film\" data-position=\"13\" data-parent-id=\"11\" data-parent-name=\"Film &amp; Video\" data-color=\"16734574\" data-urls=\"{&quot;web&quot;:{&quot;discover&quot;:&quot;http://www.kickstarter.com/discover/categories/film%20&amp;%20video/narrative%20film&quot;}}\" data-alt-label=\"Narrative Film\">&nbsp;&nbsp;&nbsp;&nbsp;Narrative Film</option><option value=\"300\" data-id=\"300\" data-name=\"Romance\" data-slug=\"film &amp; video/romance\" data-position=\"14\" data-parent-id=\"11\" data-parent-name=\"Film &amp; Video\" data-color=\"16734574\" data-urls=\"{&quot;web&quot;:{&quot;discover&quot;:&quot;http://www.kickstarter.com/discover/categories/film%20&amp;%20video/romance&quot;}}\" data-alt-label=\"Romance\">&nbsp;&nbsp;&nbsp;&nbsp;Romance</option><option value=\"301\" data-id=\"301\" data-name=\"Science Fiction\" data-slug=\"film &amp; video/science fiction\" data-position=\"15\" data-parent-id=\"11\" data-parent-name=\"Film &amp; Video\" data-color=\"16734574\" data-urls=\"{&quot;web&quot;:{&quot;discover&quot;:&quot;http://www.kickstarter.com/discover/categories/film%20&amp;%20video/science%20fiction&quot;}}\" data-alt-label=\"Science Fiction\">&nbsp;&nbsp;&nbsp;&nbsp;Science Fiction</option><option value=\"32\" data-id=\"32\" data-name=\"Shorts\" data-slug=\"film &amp; video/shorts\" data-position=\"16\" data-parent-id=\"11\" data-parent-name=\"Film &amp; Video\" data-color=\"16734574\" data-urls=\"{&quot;web&quot;:{&quot;discover&quot;:&quot;http://www.kickstarter.com/discover/categories/film%20&amp;%20video/shorts&quot;}}\" data-alt-label=\"Shorts\">&nbsp;&nbsp;&nbsp;&nbsp;Shorts</option><option value=\"303\" data-id=\"303\" data-name=\"Television\" data-slug=\"film &amp; video/television\" data-position=\"17\" data-parent-id=\"11\" data-parent-name=\"Film &amp; Video\" data-color=\"16734574\" data-urls=\"{&quot;web&quot;:{&quot;discover&quot;:&quot;http://www.kickstarter.com/discover/categories/film%20&amp;%20video/television&quot;}}\" data-alt-label=\"Television\">&nbsp;&nbsp;&nbsp;&nbsp;Television</option><option value=\"302\" data-id=\"302\" data-name=\"Thrillers\" data-slug=\"film &amp; video/thrillers\" data-position=\"18\" data-parent-id=\"11\" data-parent-name=\"Film &amp; Video\" data-color=\"16734574\" data-urls=\"{&quot;web&quot;:{&quot;discover&quot;:&quot;http://www.kickstarter.com/discover/categories/film%20&amp;%20video/thrillers&quot;}}\" data-alt-label=\"Thrillers\">&nbsp;&nbsp;&nbsp;&nbsp;Thrillers</option><option value=\"33\" data-id=\"33\" data-name=\"Webseries\" data-slug=\"film &amp; video/webseries\" data-position=\"19\" data-parent-id=\"11\" data-parent-name=\"Film &amp; Video\" data-color=\"16734574\" data-urls=\"{&quot;web&quot;:{&quot;discover&quot;:&quot;http://www.kickstarter.com/discover/categories/film%20&amp;%20video/webseries&quot;}}\" data-alt-label=\"Webseries\">&nbsp;&nbsp;&nbsp;&nbsp;Webseries</option><option value=\"10\" data-id=\"10\" data-name=\"Food\" data-slug=\"food\" data-position=\"8\" data-color=\"16725570\" data-urls=\"{&quot;web&quot;:{&quot;discover&quot;:&quot;http://www.kickstarter.com/discover/categories/food&quot;}}\">Food</option><option value=\"304\" data-id=\"304\" data-name=\"Bacon\" data-slug=\"food/bacon\" data-position=\"1\" data-parent-id=\"10\" data-parent-name=\"Food\" data-color=\"16725570\" data-urls=\"{&quot;web&quot;:{&quot;discover&quot;:&quot;http://www.kickstarter.com/discover/categories/food/bacon&quot;}}\" data-alt-label=\"Bacon\">&nbsp;&nbsp;&nbsp;&nbsp;Bacon</option><option value=\"305\" data-id=\"305\" data-name=\"Community Gardens\" data-slug=\"food/community gardens\" data-position=\"2\" data-parent-id=\"10\" data-parent-name=\"Food\" data-color=\"16725570\" data-urls=\"{&quot;web&quot;:{&quot;discover&quot;:&quot;http://www.kickstarter.com/discover/categories/food/community%20gardens&quot;}}\" data-alt-label=\"Community Gardens\">&nbsp;&nbsp;&nbsp;&nbsp;Community Gardens</option><option value=\"306\" data-id=\"306\" data-name=\"Cookbooks\" data-slug=\"food/cookbooks\" data-position=\"3\" data-parent-id=\"10\" data-parent-name=\"Food\" data-color=\"16725570\" data-urls=\"{&quot;web&quot;:{&quot;discover&quot;:&quot;http://www.kickstarter.com/discover/categories/food/cookbooks&quot;}}\" data-alt-label=\"Cookbooks\">&nbsp;&nbsp;&nbsp;&nbsp;Cookbooks</option><option value=\"307\" data-id=\"307\" data-name=\"Drinks\" data-slug=\"food/drinks\" data-position=\"4\" data-parent-id=\"10\" data-parent-name=\"Food\" data-color=\"16725570\" data-urls=\"{&quot;web&quot;:{&quot;discover&quot;:&quot;http://www.kickstarter.com/discover/categories/food/drinks&quot;}}\" data-alt-label=\"Drinks\">&nbsp;&nbsp;&nbsp;&nbsp;Drinks</option><option value=\"308\" data-id=\"308\" data-name=\"Events\" data-slug=\"food/events\" data-position=\"5\" data-parent-id=\"10\" data-parent-name=\"Food\" data-color=\"16725570\" data-urls=\"{&quot;web&quot;:{&quot;discover&quot;:&quot;http://www.kickstarter.com/discover/categories/food/events&quot;}}\" data-alt-label=\"Events\">&nbsp;&nbsp;&nbsp;&nbsp;Events</option><option value=\"310\" data-id=\"310\" data-name=\"Farmer's Markets\" data-slug=\"food/farmer&#39;s markets\" data-position=\"6\" data-parent-id=\"10\" data-parent-name=\"Food\" data-color=\"16725570\" data-urls=\"{&quot;web&quot;:{&quot;discover&quot;:&quot;http://www.kickstarter.com/discover/categories/food/farmer&#39;s%20markets&quot;}}\" data-alt-label=\"Farmer's Markets\">&nbsp;&nbsp;&nbsp;&nbsp;Farmer's Markets</option><option value=\"309\" data-id=\"309\" data-name=\"Farms\" data-slug=\"food/farms\" data-position=\"7\" data-parent-id=\"10\" data-parent-name=\"Food\" data-color=\"16725570\" data-urls=\"{&quot;web&quot;:{&quot;discover&quot;:&quot;http://www.kickstarter.com/discover/categories/food/farms&quot;}}\" data-alt-label=\"Farms\">&nbsp;&nbsp;&nbsp;&nbsp;Farms</option><option value=\"311\" data-id=\"311\" data-name=\"Food Trucks\" data-slug=\"food/food trucks\" data-position=\"8\" data-parent-id=\"10\" data-parent-name=\"Food\" data-color=\"16725570\" data-urls=\"{&quot;web&quot;:{&quot;discover&quot;:&quot;http://www.kickstarter.com/discover/categories/food/food%20trucks&quot;}}\" data-alt-label=\"Food Trucks\">&nbsp;&nbsp;&nbsp;&nbsp;Food Trucks</option><option value=\"312\" data-id=\"312\" data-name=\"Restaurants\" data-slug=\"food/restaurants\" data-position=\"9\" data-parent-id=\"10\" data-parent-name=\"Food\" data-color=\"16725570\" data-urls=\"{&quot;web&quot;:{&quot;discover&quot;:&quot;http://www.kickstarter.com/discover/categories/food/restaurants&quot;}}\" data-alt-label=\"Restaurants\">&nbsp;&nbsp;&nbsp;&nbsp;Restaurants</option><option value=\"313\" data-id=\"313\" data-name=\"Small Batch\" data-slug=\"food/small batch\" data-position=\"10\" data-parent-id=\"10\" data-parent-name=\"Food\" data-color=\"16725570\" data-urls=\"{&quot;web&quot;:{&quot;discover&quot;:&quot;http://www.kickstarter.com/discover/categories/food/small%20batch&quot;}}\" data-alt-label=\"Small Batch\">&nbsp;&nbsp;&nbsp;&nbsp;Small Batch</option><option value=\"314\" data-id=\"314\" data-name=\"Spaces\" data-slug=\"food/spaces\" data-position=\"11\" data-parent-id=\"10\" data-parent-name=\"Food\" data-color=\"16725570\" data-urls=\"{&quot;web&quot;:{&quot;discover&quot;:&quot;http://www.kickstarter.com/discover/categories/food/spaces&quot;}}\" data-alt-label=\"Spaces\">&nbsp;&nbsp;&nbsp;&nbsp;Spaces</option><option value=\"315\" data-id=\"315\" data-name=\"Vegan\" data-slug=\"food/vegan\" data-position=\"12\" data-parent-id=\"10\" data-parent-name=\"Food\" data-color=\"16725570\" data-urls=\"{&quot;web&quot;:{&quot;discover&quot;:&quot;http://www.kickstarter.com/discover/categories/food/vegan&quot;}}\" data-alt-label=\"Vegan\">&nbsp;&nbsp;&nbsp;&nbsp;Vegan</option><option value=\"12\" selected=\"selected\" data-id=\"12\" data-name=\"Games\" data-slug=\"games\" data-position=\"9\" data-color=\"51627\" data-urls=\"{&quot;web&quot;:{&quot;discover&quot;:&quot;http://www.kickstarter.com/discover/categories/games&quot;}}\">Games</option><option value=\"270\" data-id=\"270\" data-name=\"Gaming Hardware\" data-slug=\"games/gaming hardware\" data-position=\"1\" data-parent-id=\"12\" data-parent-name=\"Games\" data-color=\"51627\" data-urls=\"{&quot;web&quot;:{&quot;discover&quot;:&quot;http://www.kickstarter.com/discover/categories/games/gaming%20hardware&quot;}}\" data-alt-label=\"Gaming Hardware\">&nbsp;&nbsp;&nbsp;&nbsp;Gaming Hardware</option><option value=\"271\" data-id=\"271\" data-name=\"Live Games\" data-slug=\"games/live games\" data-position=\"2\" data-parent-id=\"12\" data-parent-name=\"Games\" data-color=\"51627\" data-urls=\"{&quot;web&quot;:{&quot;discover&quot;:&quot;http://www.kickstarter.com/discover/categories/games/live%20games&quot;}}\" data-alt-label=\"Live Games\">&nbsp;&nbsp;&nbsp;&nbsp;Live Games</option><option value=\"272\" data-id=\"272\" data-name=\"Mobile Games\" data-slug=\"games/mobile games\" data-position=\"3\" data-parent-id=\"12\" data-parent-name=\"Games\" data-color=\"51627\" data-urls=\"{&quot;web&quot;:{&quot;discover&quot;:&quot;http://www.kickstarter.com/discover/categories/games/mobile%20games&quot;}}\" data-alt-label=\"Mobile Games\">&nbsp;&nbsp;&nbsp;&nbsp;Mobile Games</option><option value=\"273\" data-id=\"273\" data-name=\"Playing Cards\" data-slug=\"games/playing cards\" data-position=\"4\" data-parent-id=\"12\" data-parent-name=\"Games\" data-color=\"51627\" data-urls=\"{&quot;web&quot;:{&quot;discover&quot;:&quot;http://www.kickstarter.com/discover/categories/games/playing%20cards&quot;}}\" data-alt-label=\"Playing Cards\">&nbsp;&nbsp;&nbsp;&nbsp;Playing Cards</option><option value=\"274\" data-id=\"274\" data-name=\"Puzzles\" data-slug=\"games/puzzles\" data-position=\"5\" data-parent-id=\"12\" data-parent-name=\"Games\" data-color=\"51627\" data-urls=\"{&quot;web&quot;:{&quot;discover&quot;:&quot;http://www.kickstarter.com/discover/categories/games/puzzles&quot;}}\" data-alt-label=\"Puzzles\">&nbsp;&nbsp;&nbsp;&nbsp;Puzzles</option><option value=\"34\" data-id=\"34\" data-name=\"Tabletop Games\" data-slug=\"games/tabletop games\" data-position=\"6\" data-parent-id=\"12\" data-parent-name=\"Games\" data-color=\"51627\" data-urls=\"{&quot;web&quot;:{&quot;discover&quot;:&quot;http://www.kickstarter.com/discover/categories/games/tabletop%20games&quot;}}\" data-alt-label=\"Tabletop Games\">&nbsp;&nbsp;&nbsp;&nbsp;Tabletop Games</option><option value=\"35\" data-id=\"35\" data-name=\"Video Games\" data-slug=\"games/video games\" data-position=\"7\" data-parent-id=\"12\" data-parent-name=\"Games\" data-color=\"51627\" data-urls=\"{&quot;web&quot;:{&quot;discover&quot;:&quot;http://www.kickstarter.com/discover/categories/games/video%20games&quot;}}\" data-alt-label=\"Video Games\">&nbsp;&nbsp;&nbsp;&nbsp;Video Games</option><option value=\"13\" data-id=\"13\" data-name=\"Journalism\" data-slug=\"journalism\" data-position=\"10\" data-color=\"1228010\" data-urls=\"{&quot;web&quot;:{&quot;discover&quot;:&quot;http://www.kickstarter.com/discover/categories/journalism&quot;}}\">Journalism</option><option value=\"357\" data-id=\"357\" data-name=\"Audio\" data-slug=\"journalism/audio\" data-position=\"1\" data-parent-id=\"13\" data-parent-name=\"Journalism\" data-color=\"1228010\" data-urls=\"{&quot;web&quot;:{&quot;discover&quot;:&quot;http://www.kickstarter.com/discover/categories/journalism/audio&quot;}}\" data-alt-label=\"Audio\">&nbsp;&nbsp;&nbsp;&nbsp;Audio</option><option value=\"358\" data-id=\"358\" data-name=\"Photo\" data-slug=\"journalism/photo\" data-position=\"2\" data-parent-id=\"13\" data-parent-name=\"Journalism\" data-color=\"1228010\" data-urls=\"{&quot;web&quot;:{&quot;discover&quot;:&quot;http://www.kickstarter.com/discover/categories/journalism/photo&quot;}}\" data-alt-label=\"Photo\">&nbsp;&nbsp;&nbsp;&nbsp;Photo</option><option value=\"359\" data-id=\"359\" data-name=\"Print\" data-slug=\"journalism/print\" data-position=\"3\" data-parent-id=\"13\" data-parent-name=\"Journalism\" data-color=\"1228010\" data-urls=\"{&quot;web&quot;:{&quot;discover&quot;:&quot;http://www.kickstarter.com/discover/categories/journalism/print&quot;}}\" data-alt-label=\"Print\">&nbsp;&nbsp;&nbsp;&nbsp;Print</option><option value=\"360\" data-id=\"360\" data-name=\"Video\" data-slug=\"journalism/video\" data-position=\"4\" data-parent-id=\"13\" data-parent-name=\"Journalism\" data-color=\"1228010\" data-urls=\"{&quot;web&quot;:{&quot;discover&quot;:&quot;http://www.kickstarter.com/discover/categories/journalism/video&quot;}}\" data-alt-label=\"Video\">&nbsp;&nbsp;&nbsp;&nbsp;Video</option><option value=\"361\" data-id=\"361\" data-name=\"Web\" data-slug=\"journalism/web\" data-position=\"5\" data-parent-id=\"13\" data-parent-name=\"Journalism\" data-color=\"1228010\" data-urls=\"{&quot;web&quot;:{&quot;discover&quot;:&quot;http://www.kickstarter.com/discover/categories/journalism/web&quot;}}\" data-alt-label=\"Web\">&nbsp;&nbsp;&nbsp;&nbsp;Web</option><option value=\"14\" data-id=\"14\" data-name=\"Music\" data-slug=\"music\" data-position=\"11\" data-color=\"10878931\" data-urls=\"{&quot;web&quot;:{&quot;discover&quot;:&quot;http://www.kickstarter.com/discover/categories/music&quot;}}\">Music</option><option value=\"316\" data-id=\"316\" data-name=\"Blues\" data-slug=\"music/blues\" data-position=\"1\" data-parent-id=\"14\" data-parent-name=\"Music\" data-color=\"10878931\" data-urls=\"{&quot;web&quot;:{&quot;discover&quot;:&quot;http://www.kickstarter.com/discover/categories/music/blues&quot;}}\" data-alt-label=\"Blues\">&nbsp;&nbsp;&nbsp;&nbsp;Blues</option><option value=\"317\" data-id=\"317\" data-name=\"Chiptune\" data-slug=\"music/chiptune\" data-position=\"2\" data-parent-id=\"14\" data-parent-name=\"Music\" data-color=\"10878931\" data-urls=\"{&quot;web&quot;:{&quot;discover&quot;:&quot;http://www.kickstarter.com/discover/categories/music/chiptune&quot;}}\" data-alt-label=\"Chiptune\">&nbsp;&nbsp;&nbsp;&nbsp;Chiptune</option><option value=\"36\" data-id=\"36\" data-name=\"Classical Music\" data-slug=\"music/classical music\" data-position=\"3\" data-parent-id=\"14\" data-parent-name=\"Music\" data-color=\"10878931\" data-urls=\"{&quot;web&quot;:{&quot;discover&quot;:&quot;http://www.kickstarter.com/discover/categories/music/classical%20music&quot;}}\" data-alt-label=\"Classical Music\">&nbsp;&nbsp;&nbsp;&nbsp;Classical Music</option><option value=\"386\" data-id=\"386\" data-name=\"Comedy\" data-slug=\"music/comedy\" data-position=\"4\" data-parent-id=\"14\" data-parent-name=\"Music\" data-color=\"10878931\" data-urls=\"{&quot;web&quot;:{&quot;discover&quot;:&quot;http://www.kickstarter.com/discover/categories/music/comedy&quot;}}\" data-alt-label=\"Comedy\">&nbsp;&nbsp;&nbsp;&nbsp;Comedy</option><option value=\"37\" data-id=\"37\" data-name=\"Country & Folk\" data-slug=\"music/country &amp; folk\" data-position=\"5\" data-parent-id=\"14\" data-parent-name=\"Music\" data-color=\"10878931\" data-urls=\"{&quot;web&quot;:{&quot;discover&quot;:&quot;http://www.kickstarter.com/discover/categories/music/country%20&amp;%20folk&quot;}}\" data-alt-label=\"Country & Folk\">&nbsp;&nbsp;&nbsp;&nbsp;Country & Folk</option><option value=\"38\" data-id=\"38\" data-name=\"Electronic Music\" data-slug=\"music/electronic music\" data-position=\"6\" data-parent-id=\"14\" data-parent-name=\"Music\" data-color=\"10878931\" data-urls=\"{&quot;web&quot;:{&quot;discover&quot;:&quot;http://www.kickstarter.com/discover/categories/music/electronic%20music&quot;}}\" data-alt-label=\"Electronic Music\">&nbsp;&nbsp;&nbsp;&nbsp;Electronic Music</option><option value=\"318\" data-id=\"318\" data-name=\"Faith\" data-slug=\"music/faith\" data-position=\"7\" data-parent-id=\"14\" data-parent-name=\"Music\" data-color=\"10878931\" data-urls=\"{&quot;web&quot;:{&quot;discover&quot;:&quot;http://www.kickstarter.com/discover/categories/music/faith&quot;}}\" data-alt-label=\"Faith\">&nbsp;&nbsp;&nbsp;&nbsp;Faith</option><option value=\"39\" data-id=\"39\" data-name=\"Hip-Hop\" data-slug=\"music/hip-hop\" data-position=\"8\" data-parent-id=\"14\" data-parent-name=\"Music\" data-color=\"10878931\" data-urls=\"{&quot;web&quot;:{&quot;discover&quot;:&quot;http://www.kickstarter.com/discover/categories/music/hip-hop&quot;}}\" data-alt-label=\"Hip-Hop\">&nbsp;&nbsp;&nbsp;&nbsp;Hip-Hop</option><option value=\"40\" data-id=\"40\" data-name=\"Indie Rock\" data-slug=\"music/indie rock\" data-position=\"9\" data-parent-id=\"14\" data-parent-name=\"Music\" data-color=\"10878931\" data-urls=\"{&quot;web&quot;:{&quot;discover&quot;:&quot;http://www.kickstarter.com/discover/categories/music/indie%20rock&quot;}}\" data-alt-label=\"Indie Rock\">&nbsp;&nbsp;&nbsp;&nbsp;Indie Rock</option><option value=\"41\" data-id=\"41\" data-name=\"Jazz\" data-slug=\"music/jazz\" data-position=\"10\" data-parent-id=\"14\" data-parent-name=\"Music\" data-color=\"10878931\" data-urls=\"{&quot;web&quot;:{&quot;discover&quot;:&quot;http://www.kickstarter.com/discover/categories/music/jazz&quot;}}\" data-alt-label=\"Jazz\">&nbsp;&nbsp;&nbsp;&nbsp;Jazz</option><option value=\"319\" data-id=\"319\" data-name=\"Kids\" data-slug=\"music/kids\" data-position=\"11\" data-parent-id=\"14\" data-parent-name=\"Music\" data-color=\"10878931\" data-urls=\"{&quot;web&quot;:{&quot;discover&quot;:&quot;http://www.kickstarter.com/discover/categories/music/kids&quot;}}\" data-alt-label=\"Kids\">&nbsp;&nbsp;&nbsp;&nbsp;Kids</option><option value=\"320\" data-id=\"320\" data-name=\"Latin\" data-slug=\"music/latin\" data-position=\"12\" data-parent-id=\"14\" data-parent-name=\"Music\" data-color=\"10878931\" data-urls=\"{&quot;web&quot;:{&quot;discover&quot;:&quot;http://www.kickstarter.com/discover/categories/music/latin&quot;}}\" data-alt-label=\"Latin\">&nbsp;&nbsp;&nbsp;&nbsp;Latin</option><option value=\"241\" data-id=\"241\" data-name=\"Metal\" data-slug=\"music/metal\" data-position=\"13\" data-parent-id=\"14\" data-parent-name=\"Music\" data-color=\"10878931\" data-urls=\"{&quot;web&quot;:{&quot;discover&quot;:&quot;http://www.kickstarter.com/discover/categories/music/metal&quot;}}\" data-alt-label=\"Metal\">&nbsp;&nbsp;&nbsp;&nbsp;Metal</option><option value=\"42\" data-id=\"42\" data-name=\"Pop\" data-slug=\"music/pop\" data-position=\"14\" data-parent-id=\"14\" data-parent-name=\"Music\" data-color=\"10878931\" data-urls=\"{&quot;web&quot;:{&quot;discover&quot;:&quot;http://www.kickstarter.com/discover/categories/music/pop&quot;}}\" data-alt-label=\"Pop\">&nbsp;&nbsp;&nbsp;&nbsp;Pop</option><option value=\"321\" data-id=\"321\" data-name=\"Punk\" data-slug=\"music/punk\" data-position=\"15\" data-parent-id=\"14\" data-parent-name=\"Music\" data-color=\"10878931\" data-urls=\"{&quot;web&quot;:{&quot;discover&quot;:&quot;http://www.kickstarter.com/discover/categories/music/punk&quot;}}\" data-alt-label=\"Punk\">&nbsp;&nbsp;&nbsp;&nbsp;Punk</option><option value=\"322\" data-id=\"322\" data-name=\"R&B\" data-slug=\"music/r&amp;b\" data-position=\"16\" data-parent-id=\"14\" data-parent-name=\"Music\" data-color=\"10878931\" data-urls=\"{&quot;web&quot;:{&quot;discover&quot;:&quot;http://www.kickstarter.com/discover/categories/music/r&amp;b&quot;}}\" data-alt-label=\"R&B\">&nbsp;&nbsp;&nbsp;&nbsp;R&B</option><option value=\"43\" data-id=\"43\" data-name=\"Rock\" data-slug=\"music/rock\" data-position=\"17\" data-parent-id=\"14\" data-parent-name=\"Music\" data-color=\"10878931\" data-urls=\"{&quot;web&quot;:{&quot;discover&quot;:&quot;http://www.kickstarter.com/discover/categories/music/rock&quot;}}\" data-alt-label=\"Rock\">&nbsp;&nbsp;&nbsp;&nbsp;Rock</option><option value=\"44\" data-id=\"44\" data-name=\"World Music\" data-slug=\"music/world music\" data-position=\"18\" data-parent-id=\"14\" data-parent-name=\"Music\" data-color=\"10878931\" data-urls=\"{&quot;web&quot;:{&quot;discover&quot;:&quot;http://www.kickstarter.com/discover/categories/music/world%20music&quot;}}\" data-alt-label=\"World Music\">&nbsp;&nbsp;&nbsp;&nbsp;World Music</option><option value=\"15\" data-id=\"15\" data-name=\"Photography\" data-slug=\"photography\" data-position=\"12\" data-color=\"58341\" data-urls=\"{&quot;web&quot;:{&quot;discover&quot;:&quot;http://www.kickstarter.com/discover/categories/photography&quot;}}\">Photography</option><option value=\"275\" data-id=\"275\" data-name=\"Animals\" data-slug=\"photography/animals\" data-position=\"1\" data-parent-id=\"15\" data-parent-name=\"Photography\" data-color=\"58341\" data-urls=\"{&quot;web&quot;:{&quot;discover&quot;:&quot;http://www.kickstarter.com/discover/categories/photography/animals&quot;}}\" data-alt-label=\"Animals\">&nbsp;&nbsp;&nbsp;&nbsp;Animals</option><option value=\"276\" data-id=\"276\" data-name=\"Fine Art\" data-slug=\"photography/fine art\" data-position=\"2\" data-parent-id=\"15\" data-parent-name=\"Photography\" data-color=\"58341\" data-urls=\"{&quot;web&quot;:{&quot;discover&quot;:&quot;http://www.kickstarter.com/discover/categories/photography/fine%20art&quot;}}\" data-alt-label=\"Fine Art\">&nbsp;&nbsp;&nbsp;&nbsp;Fine Art</option><option value=\"277\" data-id=\"277\" data-name=\"Nature\" data-slug=\"photography/nature\" data-position=\"3\" data-parent-id=\"15\" data-parent-name=\"Photography\" data-color=\"58341\" data-urls=\"{&quot;web&quot;:{&quot;discover&quot;:&quot;http://www.kickstarter.com/discover/categories/photography/nature&quot;}}\" data-alt-label=\"Nature\">&nbsp;&nbsp;&nbsp;&nbsp;Nature</option><option value=\"278\" data-id=\"278\" data-name=\"People\" data-slug=\"photography/people\" data-position=\"4\" data-parent-id=\"15\" data-parent-name=\"Photography\" data-color=\"58341\" data-urls=\"{&quot;web&quot;:{&quot;discover&quot;:&quot;http://www.kickstarter.com/discover/categories/photography/people&quot;}}\" data-alt-label=\"People\">&nbsp;&nbsp;&nbsp;&nbsp;People</option><option value=\"280\" data-id=\"280\" data-name=\"Photobooks\" data-slug=\"photography/photobooks\" data-position=\"5\" data-parent-id=\"15\" data-parent-name=\"Photography\" data-color=\"58341\" data-urls=\"{&quot;web&quot;:{&quot;discover&quot;:&quot;http://www.kickstarter.com/discover/categories/photography/photobooks&quot;}}\" data-alt-label=\"Photobooks\">&nbsp;&nbsp;&nbsp;&nbsp;Photobooks</option><option value=\"279\" data-id=\"279\" data-name=\"Places\" data-slug=\"photography/places\" data-position=\"6\" data-parent-id=\"15\" data-parent-name=\"Photography\" data-color=\"58341\" data-urls=\"{&quot;web&quot;:{&quot;discover&quot;:&quot;http://www.kickstarter.com/discover/categories/photography/places&quot;}}\" data-alt-label=\"Places\">&nbsp;&nbsp;&nbsp;&nbsp;Places</option><option value=\"18\" data-id=\"18\" data-name=\"Publishing\" data-slug=\"publishing\" data-position=\"13\" data-color=\"14867664\" data-urls=\"{&quot;web&quot;:{&quot;discover&quot;:&quot;http://www.kickstarter.com/discover/categories/publishing&quot;}}\">Publishing</option><option value=\"323\" data-id=\"323\" data-name=\"Academic\" data-slug=\"publishing/academic\" data-position=\"1\" data-parent-id=\"18\" data-parent-name=\"Publishing\" data-color=\"14867664\" data-urls=\"{&quot;web&quot;:{&quot;discover&quot;:&quot;http://www.kickstarter.com/discover/categories/publishing/academic&quot;}}\" data-alt-label=\"Academic\">&nbsp;&nbsp;&nbsp;&nbsp;Academic</option><option value=\"324\" data-id=\"324\" data-name=\"Anthologies\" data-slug=\"publishing/anthologies\" data-position=\"2\" data-parent-id=\"18\" data-parent-name=\"Publishing\" data-color=\"14867664\" data-urls=\"{&quot;web&quot;:{&quot;discover&quot;:&quot;http://www.kickstarter.com/discover/categories/publishing/anthologies&quot;}}\" data-alt-label=\"Anthologies\">&nbsp;&nbsp;&nbsp;&nbsp;Anthologies</option><option value=\"45\" data-id=\"45\" data-name=\"Art Books\" data-slug=\"publishing/art books\" data-position=\"3\" data-parent-id=\"18\" data-parent-name=\"Publishing\" data-color=\"14867664\" data-urls=\"{&quot;web&quot;:{&quot;discover&quot;:&quot;http://www.kickstarter.com/discover/categories/publishing/art%20books&quot;}}\" data-alt-label=\"Art Books\">&nbsp;&nbsp;&nbsp;&nbsp;Art Books</option><option value=\"325\" data-id=\"325\" data-name=\"Calendars\" data-slug=\"publishing/calendars\" data-position=\"4\" data-parent-id=\"18\" data-parent-name=\"Publishing\" data-color=\"14867664\" data-urls=\"{&quot;web&quot;:{&quot;discover&quot;:&quot;http://www.kickstarter.com/discover/categories/publishing/calendars&quot;}}\" data-alt-label=\"Calendars\">&nbsp;&nbsp;&nbsp;&nbsp;Calendars</option><option value=\"46\" data-id=\"46\" data-name=\"Children's Books\" data-slug=\"publishing/children&#39;s books\" data-position=\"5\" data-parent-id=\"18\" data-parent-name=\"Publishing\" data-color=\"14867664\" data-urls=\"{&quot;web&quot;:{&quot;discover&quot;:&quot;http://www.kickstarter.com/discover/categories/publishing/children&#39;s%20books&quot;}}\" data-alt-label=\"Children's Books\">&nbsp;&nbsp;&nbsp;&nbsp;Children's Books</option><option value=\"387\" data-id=\"387\" data-name=\"Comedy\" data-slug=\"publishing/comedy\" data-position=\"6\" data-parent-id=\"18\" data-parent-name=\"Publishing\" data-color=\"14867664\" data-urls=\"{&quot;web&quot;:{&quot;discover&quot;:&quot;http://www.kickstarter.com/discover/categories/publishing/comedy&quot;}}\" data-alt-label=\"Comedy\">&nbsp;&nbsp;&nbsp;&nbsp;Comedy</option><option value=\"47\" data-id=\"47\" data-name=\"Fiction\" data-slug=\"publishing/fiction\" data-position=\"7\" data-parent-id=\"18\" data-parent-name=\"Publishing\" data-color=\"14867664\" data-urls=\"{&quot;web&quot;:{&quot;discover&quot;:&quot;http://www.kickstarter.com/discover/categories/publishing/fiction&quot;}}\" data-alt-label=\"Fiction\">&nbsp;&nbsp;&nbsp;&nbsp;Fiction</option><option value=\"349\" data-id=\"349\" data-name=\"Letterpress\" data-slug=\"publishing/letterpress\" data-position=\"7\" data-parent-id=\"18\" data-parent-name=\"Publishing\" data-color=\"14867664\" data-urls=\"{&quot;web&quot;:{&quot;discover&quot;:&quot;http://www.kickstarter.com/discover/categories/publishing/letterpress&quot;}}\" data-alt-label=\"Letterpress\">&nbsp;&nbsp;&nbsp;&nbsp;Letterpress</option><option value=\"326\" data-id=\"326\" data-name=\"Literary Journals\" data-slug=\"publishing/literary journals\" data-position=\"8\" data-parent-id=\"18\" data-parent-name=\"Publishing\" data-color=\"14867664\" data-urls=\"{&quot;web&quot;:{&quot;discover&quot;:&quot;http://www.kickstarter.com/discover/categories/publishing/literary%20journals&quot;}}\" data-alt-label=\"Literary Journals\">&nbsp;&nbsp;&nbsp;&nbsp;Literary Journals</option><option value=\"48\" data-id=\"48\" data-name=\"Nonfiction\" data-slug=\"publishing/nonfiction\" data-position=\"9\" data-parent-id=\"18\" data-parent-name=\"Publishing\" data-color=\"14867664\" data-urls=\"{&quot;web&quot;:{&quot;discover&quot;:&quot;http://www.kickstarter.com/discover/categories/publishing/nonfiction&quot;}}\" data-alt-label=\"Nonfiction\">&nbsp;&nbsp;&nbsp;&nbsp;Nonfiction</option><option value=\"49\" data-id=\"49\" data-name=\"Periodicals\" data-slug=\"publishing/periodicals\" data-position=\"10\" data-parent-id=\"18\" data-parent-name=\"Publishing\" data-color=\"14867664\" data-urls=\"{&quot;web&quot;:{&quot;discover&quot;:&quot;http://www.kickstarter.com/discover/categories/publishing/periodicals&quot;}}\" data-alt-label=\"Periodicals\">&nbsp;&nbsp;&nbsp;&nbsp;Periodicals</option><option value=\"50\" data-id=\"50\" data-name=\"Poetry\" data-slug=\"publishing/poetry\" data-position=\"11\" data-parent-id=\"18\" data-parent-name=\"Publishing\" data-color=\"14867664\" data-urls=\"{&quot;web&quot;:{&quot;discover&quot;:&quot;http://www.kickstarter.com/discover/categories/publishing/poetry&quot;}}\" data-alt-label=\"Poetry\">&nbsp;&nbsp;&nbsp;&nbsp;Poetry</option><option value=\"239\" data-id=\"239\" data-name=\"Radio & Podcasts\" data-slug=\"publishing/radio &amp; podcasts\" data-position=\"12\" data-parent-id=\"18\" data-parent-name=\"Publishing\" data-color=\"14867664\" data-urls=\"{&quot;web&quot;:{&quot;discover&quot;:&quot;http://www.kickstarter.com/discover/categories/publishing/radio%20&amp;%20podcasts&quot;}}\" data-alt-label=\"Radio & Podcasts\">&nbsp;&nbsp;&nbsp;&nbsp;Radio & Podcasts</option><option value=\"327\" data-id=\"327\" data-name=\"Translations\" data-slug=\"publishing/translations\" data-position=\"13\" data-parent-id=\"18\" data-parent-name=\"Publishing\" data-color=\"14867664\" data-urls=\"{&quot;web&quot;:{&quot;discover&quot;:&quot;http://www.kickstarter.com/discover/categories/publishing/translations&quot;}}\" data-alt-label=\"Translations\">&nbsp;&nbsp;&nbsp;&nbsp;Translations</option><option value=\"328\" data-id=\"328\" data-name=\"Young Adult\" data-slug=\"publishing/young adult\" data-position=\"14\" data-parent-id=\"18\" data-parent-name=\"Publishing\" data-color=\"14867664\" data-urls=\"{&quot;web&quot;:{&quot;discover&quot;:&quot;http://www.kickstarter.com/discover/categories/publishing/young%20adult&quot;}}\" data-alt-label=\"Young Adult\">&nbsp;&nbsp;&nbsp;&nbsp;Young Adult</option><option value=\"329\" data-id=\"329\" data-name=\"Zines\" data-slug=\"publishing/zines\" data-position=\"15\" data-parent-id=\"18\" data-parent-name=\"Publishing\" data-color=\"14867664\" data-urls=\"{&quot;web&quot;:{&quot;discover&quot;:&quot;http://www.kickstarter.com/discover/categories/publishing/zines&quot;}}\" data-alt-label=\"Zines\">&nbsp;&nbsp;&nbsp;&nbsp;Zines</option><option value=\"389\" data-id=\"389\" data-name=\"Literary Spaces\" data-slug=\"publishing/literary spaces\" data-position=\"16\" data-parent-id=\"18\" data-parent-name=\"Publishing\" data-color=\"14867664\" data-urls=\"{&quot;web&quot;:{&quot;discover&quot;:&quot;http://www.kickstarter.com/discover/categories/publishing/literary%20spaces&quot;}}\" data-alt-label=\"Literary Spaces\">&nbsp;&nbsp;&nbsp;&nbsp;Literary Spaces</option><option value=\"16\" data-id=\"16\" data-name=\"Technology\" data-slug=\"technology\" data-position=\"14\" data-color=\"6526716\" data-urls=\"{&quot;web&quot;:{&quot;discover&quot;:&quot;http://www.kickstarter.com/discover/categories/technology&quot;}}\">Technology</option><option value=\"331\" data-id=\"331\" data-name=\"3D Printing\" data-slug=\"technology/3d printing\" data-position=\"1\" data-parent-id=\"16\" data-parent-name=\"Technology\" data-color=\"6526716\" data-urls=\"{&quot;web&quot;:{&quot;discover&quot;:&quot;http://www.kickstarter.com/discover/categories/technology/3d%20printing&quot;}}\" data-alt-label=\"3D Printing\">&nbsp;&nbsp;&nbsp;&nbsp;3D Printing</option><option value=\"332\" data-id=\"332\" data-name=\"Apps\" data-slug=\"technology/apps\" data-position=\"2\" data-parent-id=\"16\" data-parent-name=\"Technology\" data-color=\"6526716\" data-urls=\"{&quot;web&quot;:{&quot;discover&quot;:&quot;http://www.kickstarter.com/discover/categories/technology/apps&quot;}}\" data-alt-label=\"Apps\">&nbsp;&nbsp;&nbsp;&nbsp;Apps</option><option value=\"333\" data-id=\"333\" data-name=\"Camera Equipment\" data-slug=\"technology/camera equipment\" data-position=\"3\" data-parent-id=\"16\" data-parent-name=\"Technology\" data-color=\"6526716\" data-urls=\"{&quot;web&quot;:{&quot;discover&quot;:&quot;http://www.kickstarter.com/discover/categories/technology/camera%20equipment&quot;}}\" data-alt-label=\"Camera Equipment\">&nbsp;&nbsp;&nbsp;&nbsp;Camera Equipment</option><option value=\"334\" data-id=\"334\" data-name=\"DIY Electronics\" data-slug=\"technology/diy electronics\" data-position=\"4\" data-parent-id=\"16\" data-parent-name=\"Technology\" data-color=\"6526716\" data-urls=\"{&quot;web&quot;:{&quot;discover&quot;:&quot;http://www.kickstarter.com/discover/categories/technology/diy%20electronics&quot;}}\" data-alt-label=\"DIY Electronics\">&nbsp;&nbsp;&nbsp;&nbsp;DIY Electronics</option><option value=\"335\" data-id=\"335\" data-name=\"Fabrication Tools\" data-slug=\"technology/fabrication tools\" data-position=\"5\" data-parent-id=\"16\" data-parent-name=\"Technology\" data-color=\"6526716\" data-urls=\"{&quot;web&quot;:{&quot;discover&quot;:&quot;http://www.kickstarter.com/discover/categories/technology/fabrication%20tools&quot;}}\" data-alt-label=\"Fabrication Tools\">&nbsp;&nbsp;&nbsp;&nbsp;Fabrication Tools</option><option value=\"336\" data-id=\"336\" data-name=\"Flight\" data-slug=\"technology/flight\" data-position=\"6\" data-parent-id=\"16\" data-parent-name=\"Technology\" data-color=\"6526716\" data-urls=\"{&quot;web&quot;:{&quot;discover&quot;:&quot;http://www.kickstarter.com/discover/categories/technology/flight&quot;}}\" data-alt-label=\"Flight\">&nbsp;&nbsp;&nbsp;&nbsp;Flight</option><option value=\"337\" data-id=\"337\" data-name=\"Gadgets\" data-slug=\"technology/gadgets\" data-position=\"7\" data-parent-id=\"16\" data-parent-name=\"Technology\" data-color=\"6526716\" data-urls=\"{&quot;web&quot;:{&quot;discover&quot;:&quot;http://www.kickstarter.com/discover/categories/technology/gadgets&quot;}}\" data-alt-label=\"Gadgets\">&nbsp;&nbsp;&nbsp;&nbsp;Gadgets</option><option value=\"52\" data-id=\"52\" data-name=\"Hardware\" data-slug=\"technology/hardware\" data-position=\"8\" data-parent-id=\"16\" data-parent-name=\"Technology\" data-color=\"6526716\" data-urls=\"{&quot;web&quot;:{&quot;discover&quot;:&quot;http://www.kickstarter.com/discover/categories/technology/hardware&quot;}}\" data-alt-label=\"Hardware\">&nbsp;&nbsp;&nbsp;&nbsp;Hardware</option><option value=\"362\" data-id=\"362\" data-name=\"Makerspaces\" data-slug=\"technology/makerspaces\" data-position=\"9\" data-parent-id=\"16\" data-parent-name=\"Technology\" data-color=\"6526716\" data-urls=\"{&quot;web&quot;:{&quot;discover&quot;:&quot;http://www.kickstarter.com/discover/categories/technology/makerspaces&quot;}}\" data-alt-label=\"Makerspaces\">&nbsp;&nbsp;&nbsp;&nbsp;Makerspaces</option><option value=\"338\" data-id=\"338\" data-name=\"Robots\" data-slug=\"technology/robots\" data-position=\"10\" data-parent-id=\"16\" data-parent-name=\"Technology\" data-color=\"6526716\" data-urls=\"{&quot;web&quot;:{&quot;discover&quot;:&quot;http://www.kickstarter.com/discover/categories/technology/robots&quot;}}\" data-alt-label=\"Robots\">&nbsp;&nbsp;&nbsp;&nbsp;Robots</option><option value=\"51\" data-id=\"51\" data-name=\"Software\" data-slug=\"technology/software\" data-position=\"11\" data-parent-id=\"16\" data-parent-name=\"Technology\" data-color=\"6526716\" data-urls=\"{&quot;web&quot;:{&quot;discover&quot;:&quot;http://www.kickstarter.com/discover/categories/technology/software&quot;}}\" data-alt-label=\"Software\">&nbsp;&nbsp;&nbsp;&nbsp;Software</option><option value=\"339\" data-id=\"339\" data-name=\"Sound\" data-slug=\"technology/sound\" data-position=\"12\" data-parent-id=\"16\" data-parent-name=\"Technology\" data-color=\"6526716\" data-urls=\"{&quot;web&quot;:{&quot;discover&quot;:&quot;http://www.kickstarter.com/discover/categories/technology/sound&quot;}}\" data-alt-label=\"Sound\">&nbsp;&nbsp;&nbsp;&nbsp;Sound</option><option value=\"340\" data-id=\"340\" data-name=\"Space Exploration\" data-slug=\"technology/space exploration\" data-position=\"13\" data-parent-id=\"16\" data-parent-name=\"Technology\" data-color=\"6526716\" data-urls=\"{&quot;web&quot;:{&quot;discover&quot;:&quot;http://www.kickstarter.com/discover/categories/technology/space%20exploration&quot;}}\" data-alt-label=\"Space Exploration\">&nbsp;&nbsp;&nbsp;&nbsp;Space Exploration</option><option value=\"341\" data-id=\"341\" data-name=\"Wearables\" data-slug=\"technology/wearables\" data-position=\"14\" data-parent-id=\"16\" data-parent-name=\"Technology\" data-color=\"6526716\" data-urls=\"{&quot;web&quot;:{&quot;discover&quot;:&quot;http://www.kickstarter.com/discover/categories/technology/wearables&quot;}}\" data-alt-label=\"Wearables\">&nbsp;&nbsp;&nbsp;&nbsp;Wearables</option><option value=\"342\" data-id=\"342\" data-name=\"Web\" data-slug=\"technology/web\" data-position=\"15\" data-parent-id=\"16\" data-parent-name=\"Technology\" data-color=\"6526716\" data-urls=\"{&quot;web&quot;:{&quot;discover&quot;:&quot;http://www.kickstarter.com/discover/categories/technology/web&quot;}}\" data-alt-label=\"Web\">&nbsp;&nbsp;&nbsp;&nbsp;Web</option><option value=\"17\" data-id=\"17\" data-name=\"Theater\" data-slug=\"theater\" data-position=\"15\" data-color=\"16743775\" data-urls=\"{&quot;web&quot;:{&quot;discover&quot;:&quot;http://www.kickstarter.com/discover/categories/theater&quot;}}\">Theater</option><option value=\"388\" data-id=\"388\" data-name=\"Comedy\" data-slug=\"theater/comedy\" data-position=\"1\" data-parent-id=\"17\" data-parent-name=\"Theater\" data-color=\"16743775\" data-urls=\"{&quot;web&quot;:{&quot;discover&quot;:&quot;http://www.kickstarter.com/discover/categories/theater/comedy&quot;}}\" data-alt-label=\"Comedy\">&nbsp;&nbsp;&nbsp;&nbsp;Comedy</option><option value=\"281\" data-id=\"281\" data-name=\"Experimental\" data-slug=\"theater/experimental\" data-position=\"2\" data-parent-id=\"17\" data-parent-name=\"Theater\" data-color=\"16743775\" data-urls=\"{&quot;web&quot;:{&quot;discover&quot;:&quot;http://www.kickstarter.com/discover/categories/theater/experimental&quot;}}\" data-alt-label=\"Experimental\">&nbsp;&nbsp;&nbsp;&nbsp;Experimental</option><option value=\"282\" data-id=\"282\" data-name=\"Festivals\" data-slug=\"theater/festivals\" data-position=\"3\" data-parent-id=\"17\" data-parent-name=\"Theater\" data-color=\"16743775\" data-urls=\"{&quot;web&quot;:{&quot;discover&quot;:&quot;http://www.kickstarter.com/discover/categories/theater/festivals&quot;}}\" data-alt-label=\"Festivals\">&nbsp;&nbsp;&nbsp;&nbsp;Festivals</option><option value=\"283\" data-id=\"283\" data-name=\"Immersive\" data-slug=\"theater/immersive\" data-position=\"4\" data-parent-id=\"17\" data-parent-name=\"Theater\" data-color=\"16743775\" data-urls=\"{&quot;web&quot;:{&quot;discover&quot;:&quot;http://www.kickstarter.com/discover/categories/theater/immersive&quot;}}\" data-alt-label=\"Immersive\">&nbsp;&nbsp;&nbsp;&nbsp;Immersive</option><option value=\"284\" data-id=\"284\" data-name=\"Musical\" data-slug=\"theater/musical\" data-position=\"5\" data-parent-id=\"17\" data-parent-name=\"Theater\" data-color=\"16743775\" data-urls=\"{&quot;web&quot;:{&quot;discover&quot;:&quot;http://www.kickstarter.com/discover/categories/theater/musical&quot;}}\" data-alt-label=\"Musical\">&nbsp;&nbsp;&nbsp;&nbsp;Musical</option><option value=\"285\" data-id=\"285\" data-name=\"Plays\" data-slug=\"theater/plays\" data-position=\"6\" data-parent-id=\"17\" data-parent-name=\"Theater\" data-color=\"16743775\" data-urls=\"{&quot;web&quot;:{&quot;discover&quot;:&quot;http://www.kickstarter.com/discover/categories/theater/plays&quot;}}\" data-alt-label=\"Plays\">&nbsp;&nbsp;&nbsp;&nbsp;Plays</option><option value=\"286\" data-id=\"286\" data-name=\"Spaces\" data-slug=\"theater/spaces\" data-position=\"7\" data-parent-id=\"17\" data-parent-name=\"Theater\" data-color=\"16743775\" data-urls=\"{&quot;web&quot;:{&quot;discover&quot;:&quot;http://www.kickstarter.com/discover/categories/theater/spaces&quot;}}\" data-alt-label=\"Spaces\">&nbsp;&nbsp;&nbsp;&nbsp;Spaces</option></select></span><span class=\"display-none inline-block-sm mr2\">projects</span>\n",
      "<span class=\"block inline-block-sm\">\n",
      "<span class=\"display-none inline-block-sm mr2\">on</span><span class=\"inline-block relative dark-grey-500 type-18 shadow-2 border border-transparent pointer py2 pl3 pr2 mr2 mb2 text-nowrap js-ksr-select js-filter js-filter-location js-popover-trigger\" id=\"location_filter\"><span class=\"js-title\">Earth</span>\n",
      "<svg class=\"svg-icon__icon--delta-down icon-small relative ml2 js-filter-arrow inline-block\" tabindex=\"0\" role=\"button\" aria-hidden=\"true\"><use xlink:href=\"#icon--delta-down\"></use></svg><svg class=\"svg-icon__icon--cross icon-small relative ml2 js-filter-delete display-none ksr-popover-excluded\" tabindex=\"0\" role=\"button\" aria-hidden=\"true\"><use xlink:href=\"#icon--cross\"></use></svg><select class=\"display-none\" name=\"woe_id\">\n",
      "<optgroup label=\"Broader locations\"><option selected=\"selected\" value=\"0\">Earth</option>\n",
      "<option value=\"23424977\">United States</option>\n",
      "<option value=\"2347591\">New York, US</option>\n",
      "<option value=\"2459115\">New York, NY</option>\n",
      "<option value=\"12589352\">Queens, NY</option></optgroup><optgroup label=\"Nearby locations\"><option value=\"2459115\">New York, NY</option>\n",
      "<option value=\"12589335\">Brooklyn, NY</option>\n",
      "<option value=\"12589342\">Manhattan, NY</option>\n",
      "<option value=\"12485627\">Long Island, NY</option>\n",
      "<option value=\"2482949\">Rochester, NY</option>\n",
      "<option value=\"2371464\">Buffalo, NY</option></optgroup></select></span></span><span class=\"block inline-block-sm\"><span class=\"display-none inline-block-sm mr2\">sorted by</span><span class=\"inline-block relative dark-grey-500 type-18 shadow-2 border border-transparent pointer py2 pl3 pr2 mr2 mb2 text-nowrap js-ksr-select js-filter js-filter-sorts js-popover-trigger\" id=\"sorts\"><span class=\"js-title\">Magic</span>\n",
      "<svg class=\"svg-icon__icon--delta-down icon-small relative ml2 js-filter-arrow inline-block\" tabindex=\"0\" role=\"button\" aria-hidden=\"true\"><use xlink:href=\"#icon--delta-down\"></use></svg><select class=\"display-none\" name=\"sort\">\n",
      "<option data-alt-label=\"magic\" selected=\"selected\" value=\"magic\">Magic</option>\n",
      "<option data-alt-label=\"popularity\" value=\"popularity\">Popularity</option>\n",
      "<option data-alt-label=\"newest\" value=\"newest\">Newest</option>\n",
      "<option data-alt-label=\"end date\" value=\"end_date\">End Date</option>\n",
      "<option data-alt-label=\"most funded\" value=\"most_funded\">Most Funded</option>\n",
      "<option data-alt-label=\"most backed\" value=\"most_backed\">Most Backed</option>\n",
      "<option data-alt-label=\"near me\" value=\"distance\">Near Me</option></select></span></span></div>\n",
      "</form>\n",
      "<div class=\"mt5\">\n",
      "<a class=\"type-14 navy-700 text-underline maison-medium fastclick mr3 mr5-sm\" href=\"#\" id=\"filters\" role=\"button\">More filters</a>\n",
      "</div>\n",
      "</div>\n",
      "</div>\n",
      "</div>\n",
      "</div>\n",
      "</div>\n",
      "</section>\n",
      "</header>\n",
      "\n",
      "<div id=\"toast-notification\"></div>\n",
      "<section class=\"relative border-top pt3\" id=\"advanced_container\">\n",
      "<div class=\"loading absolute hide full-width full-height z1\"></div>\n",
      "<section class=\"empty_state hide\" id=\"NS__empty_states\">\n",
      "<div class=\"general_empty_state\">\n",
      "<div id=\"react-recommendations\"></div>\n",
      "<script src=\"https://a.kickstarter.com/assets/modules/recommendations.a90c7d2d710aba4e83c4df63197c85f7b2159a72891a93b1719235c392ace86d.js\"></script>\n",
      "</div>\n",
      "</section>\n",
      "\n",
      "<section class=\"pb3 pb10-sm pt3\" id=\"projects\">\n",
      "<div data-user=\"{&quot;user_relay_id&quot;:null,&quot;show_modal&quot;:true,&quot;logged_out&quot;:true}\" id=\"react-user-data\"></div>\n",
      "<div id=\"react-watching-overlay\"></div>\n",
      "<div class=\"grid-container\">\n",
      "<h3 class=\"normal mb3 mb5-sm title clearfix pt2\">\n",
      "Explore\n",
      "<b class=\"count ksr-green-500\">\n",
      "53,758 projects\n",
      "</b>\n",
      "</h3>\n",
      "<div class=\"js-project-group\" data-seed=\"2664694\" id=\"projects_list\">\n",
      "<div class=\"grid-row flex flex-wrap\">\n",
      "<div class=\"js-react-proj-card grid-col-12 grid-col-6-sm grid-col-4-lg\" data-pid=\"1666775889\" data-project=\"{&quot;id&quot;:1666775889,&quot;photo&quot;:{&quot;key&quot;:&quot;assets/029/564/017/d52c76ad9ed9ce872965e405fe239c34_original.png&quot;,&quot;full&quot;:&quot;https://ksr-ugc.imgix.net/assets/029/564/017/d52c76ad9ed9ce872965e405fe239c34_original.png?ixlib=rb-2.1.0&amp;crop=faces&amp;w=560&amp;h=315&amp;fit=crop&amp;v=1592865299&amp;auto=format&amp;frame=1&amp;q=92&amp;s=83369502cc4df973f83e9e8436250c86&quot;,&quot;ed&quot;:&quot;https://ksr-ugc.imgix.net/assets/029/564/017/d52c76ad9ed9ce872965e405fe239c34_original.png?ixlib=rb-2.1.0&amp;crop=faces&amp;w=352&amp;h=198&amp;fit=crop&amp;v=1592865299&amp;auto=format&amp;frame=1&amp;q=92&amp;s=f82b820dc327300f43f977e11cace980&quot;,&quot;med&quot;:&quot;https://ksr-ugc.imgix.net/assets/029/564/017/d52c76ad9ed9ce872965e405fe239c34_original.png?ixlib=rb-2.1.0&amp;crop=faces&amp;w=272&amp;h=153&amp;fit=crop&amp;v=1592865299&amp;auto=format&amp;frame=1&amp;q=92&amp;s=1fa92f0b0387650924abd5aa3a66ce64&quot;,&quot;little&quot;:&quot;https://ksr-ugc.imgix.net/assets/029/564/017/d52c76ad9ed9ce872965e405fe239c34_original.png?ixlib=rb-2.1.0&amp;crop=faces&amp;w=208&amp;h=117&amp;fit=crop&amp;v=1592865299&amp;auto=format&amp;frame=1&amp;q=92&amp;s=416b2abfadb7dd352dc50a298f779a71&quot;,&quot;small&quot;:&quot;https://ksr-ugc.imgix.net/assets/029/564/017/d52c76ad9ed9ce872965e405fe239c34_original.png?ixlib=rb-2.1.0&amp;crop=faces&amp;w=160&amp;h=90&amp;fit=crop&amp;v=1592865299&amp;auto=format&amp;frame=1&amp;q=92&amp;s=198ae016296e8424a7298d9f93b3d6af&quot;,&quot;thumb&quot;:&quot;https://ksr-ugc.imgix.net/assets/029/564/017/d52c76ad9ed9ce872965e405fe239c34_original.png?ixlib=rb-2.1.0&amp;crop=faces&amp;w=48&amp;h=27&amp;fit=crop&amp;v=1592865299&amp;auto=format&amp;frame=1&amp;q=92&amp;s=bb04a50ece61f9eed9a7fa8e8e66578d&quot;,&quot;1024x576&quot;:&quot;https://ksr-ugc.imgix.net/assets/029/564/017/d52c76ad9ed9ce872965e405fe239c34_original.png?ixlib=rb-2.1.0&amp;crop=faces&amp;w=1024&amp;h=576&amp;fit=crop&amp;v=1592865299&amp;auto=format&amp;frame=1&amp;q=92&amp;s=ac2718144567dd7ae1e2e0af121ad87b&quot;,&quot;1536x864&quot;:&quot;https://ksr-ugc.imgix.net/assets/029/564/017/d52c76ad9ed9ce872965e405fe239c34_original.png?ixlib=rb-2.1.0&amp;crop=faces&amp;w=1552&amp;h=873&amp;fit=crop&amp;v=1592865299&amp;auto=format&amp;frame=1&amp;q=92&amp;s=20da85f0b8b84442e5fb30373f49c1c7&quot;},&quot;name&quot;:&quot;Barony for Switch + Updates for All&quot;,&quot;blurb&quot;:&quot;Adding split-screen, new UI, new DLC &amp; more NEW features + Coming to consoles for the first time!&quot;,&quot;goal&quot;:35000.0,&quot;pledged&quot;:31848.08,&quot;state&quot;:&quot;live&quot;,&quot;slug&quot;:&quot;barony-for-the-nintendo-switch&quot;,&quot;disable_communication&quot;:false,&quot;country&quot;:&quot;US&quot;,&quot;country_displayable_name&quot;:&quot;the United States&quot;,&quot;currency&quot;:&quot;USD&quot;,&quot;currency_symbol&quot;:&quot;$&quot;,&quot;currency_trailing_code&quot;:true,&quot;deadline&quot;:1599145376,&quot;state_changed_at&quot;:1596121378,&quot;created_at&quot;:1588537116,&quot;launched_at&quot;:1596121376,&quot;staff_pick&quot;:true,&quot;is_starrable&quot;:true,&quot;backers_count&quot;:580,&quot;static_usd_rate&quot;:1.0,&quot;usd_pledged&quot;:&quot;31848.08&quot;,&quot;converted_pledged_amount&quot;:31848,&quot;fx_rate&quot;:1.0,&quot;current_currency&quot;:&quot;USD&quot;,&quot;usd_type&quot;:&quot;domestic&quot;,&quot;creator&quot;:{&quot;id&quot;:183381012,&quot;name&quot;:&quot;Turning Wheel LLC&quot;,&quot;slug&quot;:&quot;turningwheel&quot;,&quot;is_registered&quot;:null,&quot;chosen_currency&quot;:null,&quot;is_superbacker&quot;:null,&quot;avatar&quot;:{&quot;thumb&quot;:&quot;https://ksr-ugc.imgix.net/assets/028/927/627/8fdb7c3c0c78cec961eaa5ab13dcfc2c_original.png?ixlib=rb-2.1.0&amp;w=40&amp;h=40&amp;fit=crop&amp;v=1592947858&amp;auto=format&amp;frame=1&amp;q=92&amp;s=6254efbcc602a5f6661398794eba767e&quot;,&quot;small&quot;:&quot;https://ksr-ugc.imgix.net/assets/028/927/627/8fdb7c3c0c78cec961eaa5ab13dcfc2c_original.png?ixlib=rb-2.1.0&amp;w=80&amp;h=80&amp;fit=crop&amp;v=1592947858&amp;auto=format&amp;frame=1&amp;q=92&amp;s=9a5a1e2c8fab2a7db413185d48584a59&quot;,&quot;medium&quot;:&quot;https://ksr-ugc.imgix.net/assets/028/927/627/8fdb7c3c0c78cec961eaa5ab13dcfc2c_original.png?ixlib=rb-2.1.0&amp;w=160&amp;h=160&amp;fit=crop&amp;v=1592947858&amp;auto=format&amp;frame=1&amp;q=92&amp;s=a09aaa2c81d0347a7a4ce1788922502b&quot;},&quot;urls&quot;:{&quot;web&quot;:{&quot;user&quot;:&quot;https://www.kickstarter.com/profile/turningwheel&quot;},&quot;api&quot;:{&quot;user&quot;:&quot;https://api.kickstarter.com/v1/users/183381012?signature=1599094294.f20aa8931782a8239fee7256b37738dcd6fb5123&quot;}}},&quot;location&quot;:{&quot;id&quot;:2490383,&quot;name&quot;:&quot;Seattle&quot;,&quot;slug&quot;:&quot;seattle-wa&quot;,&quot;short_name&quot;:&quot;Seattle, WA&quot;,&quot;displayable_name&quot;:&quot;Seattle, WA&quot;,&quot;localized_name&quot;:&quot;Seattle&quot;,&quot;country&quot;:&quot;US&quot;,&quot;state&quot;:&quot;WA&quot;,&quot;type&quot;:&quot;Town&quot;,&quot;is_root&quot;:false,&quot;expanded_country&quot;:&quot;United States&quot;,&quot;urls&quot;:{&quot;web&quot;:{&quot;discover&quot;:&quot;https://www.kickstarter.com/discover/places/seattle-wa&quot;,&quot;location&quot;:&quot;https://www.kickstarter.com/locations/seattle-wa&quot;},&quot;api&quot;:{&quot;nearby_projects&quot;:&quot;https://api.kickstarter.com/v1/discover?signature=1599052561.7367e725bcb6f3ffee868fc28d86fe87c321ca8d&amp;woe_id=2490383&quot;}}},&quot;category&quot;:{&quot;id&quot;:35,&quot;name&quot;:&quot;Video Games&quot;,&quot;slug&quot;:&quot;games/video games&quot;,&quot;position&quot;:7,&quot;parent_id&quot;:12,&quot;parent_name&quot;:&quot;Games&quot;,&quot;color&quot;:51627,&quot;urls&quot;:{&quot;web&quot;:{&quot;discover&quot;:&quot;http://www.kickstarter.com/discover/categories/games/video%20games&quot;}}},&quot;profile&quot;:{&quot;id&quot;:3987466,&quot;project_id&quot;:3987466,&quot;state&quot;:&quot;inactive&quot;,&quot;state_changed_at&quot;:1588537116,&quot;name&quot;:null,&quot;blurb&quot;:null,&quot;background_color&quot;:null,&quot;text_color&quot;:null,&quot;link_background_color&quot;:null,&quot;link_text_color&quot;:null,&quot;link_text&quot;:null,&quot;link_url&quot;:null,&quot;show_feature_image&quot;:false,&quot;background_image_opacity&quot;:0.8,&quot;should_show_feature_image_section&quot;:true,&quot;feature_image_attributes&quot;:{&quot;image_urls&quot;:{&quot;default&quot;:&quot;https://ksr-ugc.imgix.net/assets/029/564/017/d52c76ad9ed9ce872965e405fe239c34_original.png?ixlib=rb-2.1.0&amp;crop=faces&amp;w=1552&amp;h=873&amp;fit=crop&amp;v=1592865299&amp;auto=format&amp;frame=1&amp;q=92&amp;s=20da85f0b8b84442e5fb30373f49c1c7&quot;,&quot;baseball_card&quot;:&quot;https://ksr-ugc.imgix.net/assets/029/564/017/d52c76ad9ed9ce872965e405fe239c34_original.png?ixlib=rb-2.1.0&amp;crop=faces&amp;w=560&amp;h=315&amp;fit=crop&amp;v=1592865299&amp;auto=format&amp;frame=1&amp;q=92&amp;s=83369502cc4df973f83e9e8436250c86&quot;}}},&quot;spotlight&quot;:false,&quot;urls&quot;:{&quot;web&quot;:{&quot;project&quot;:&quot;https://www.kickstarter.com/projects/turningwheel/barony-for-the-nintendo-switch&quot;,&quot;rewards&quot;:&quot;https://www.kickstarter.com/projects/turningwheel/barony-for-the-nintendo-switch/rewards&quot;}},&quot;percent_funded&quot;:90.99451428571429,&quot;is_liked&quot;:false,&quot;is_disliked&quot;:false}\" data-ref=\"discovery_category\" id=\"barony-for-the-nintendo-switch\">\n",
      "<div><div class=\"js-track-project-card\" data-project_pid=\"\" data-weighted_score=\"\" data-raw_score=\"\" data-model_name=\"\" data-project_state=\"\" data-project_backers_count=\"\" data-project_percent_raised=\"\" data-project_pledged=\"\" data-user_is_backer=\"\" data-user_has_starred=\"\" data-reactroot=\"\"><div class=\"mb5\"><div class=\"bg-white black relative border-grey-500 border\"><div class=\"relative self-start\"><a class=\"block img-placeholder w100p\"><div class=\"img-placeholder bg-grey-400 absolute t0 w100p\"></div></a></div><div class=\"\"><div class=\"h20 pt4 px3 mb1px\"></div><div class=\"pb5-md pb4 pt3 px5-sm px4\"><div class=\"h20-sm pt1px\"></div></div></div></div></div></div>\n",
      "</div>\n",
      "</div>\n",
      "<div class=\"js-react-proj-card grid-col-12 grid-col-6-sm grid-col-4-lg\" data-pid=\"1451649327\" data-project=\"{&quot;id&quot;:1451649327,&quot;photo&quot;:{&quot;key&quot;:&quot;assets/030/111/187/4816ab6b4df29fc3e274fa8c3c8d155d_original.png&quot;,&quot;full&quot;:&quot;https://ksr-ugc.imgix.net/assets/030/111/187/4816ab6b4df29fc3e274fa8c3c8d155d_original.png?ixlib=rb-2.1.0&amp;crop=faces&amp;w=560&amp;h=315&amp;fit=crop&amp;v=1596826891&amp;auto=format&amp;frame=1&amp;q=92&amp;s=7e72f4f22780e363859fbf3ec2d8b0a0&quot;,&quot;ed&quot;:&quot;https://ksr-ugc.imgix.net/assets/030/111/187/4816ab6b4df29fc3e274fa8c3c8d155d_original.png?ixlib=rb-2.1.0&amp;crop=faces&amp;w=352&amp;h=198&amp;fit=crop&amp;v=1596826891&amp;auto=format&amp;frame=1&amp;q=92&amp;s=69613d3ec533a372f68f67093035c8f5&quot;,&quot;med&quot;:&quot;https://ksr-ugc.imgix.net/assets/030/111/187/4816ab6b4df29fc3e274fa8c3c8d155d_original.png?ixlib=rb-2.1.0&amp;crop=faces&amp;w=272&amp;h=153&amp;fit=crop&amp;v=1596826891&amp;auto=format&amp;frame=1&amp;q=92&amp;s=b8b68ecf0edaddbecb04b83a25108f3d&quot;,&quot;little&quot;:&quot;https://ksr-ugc.imgix.net/assets/030/111/187/4816ab6b4df29fc3e274fa8c3c8d155d_original.png?ixlib=rb-2.1.0&amp;crop=faces&amp;w=208&amp;h=117&amp;fit=crop&amp;v=1596826891&amp;auto=format&amp;frame=1&amp;q=92&amp;s=f67ecb5b0ceb181d897acfd187ed7466&quot;,&quot;small&quot;:&quot;https://ksr-ugc.imgix.net/assets/030/111/187/4816ab6b4df29fc3e274fa8c3c8d155d_original.png?ixlib=rb-2.1.0&amp;crop=faces&amp;w=160&amp;h=90&amp;fit=crop&amp;v=1596826891&amp;auto=format&amp;frame=1&amp;q=92&amp;s=53f5e56c44b140c74e5e00ac68b8391f&quot;,&quot;thumb&quot;:&quot;https://ksr-ugc.imgix.net/assets/030/111/187/4816ab6b4df29fc3e274fa8c3c8d155d_original.png?ixlib=rb-2.1.0&amp;crop=faces&amp;w=48&amp;h=27&amp;fit=crop&amp;v=1596826891&amp;auto=format&amp;frame=1&amp;q=92&amp;s=b805f7663c0e83f6603170c09535ef2e&quot;,&quot;1024x576&quot;:&quot;https://ksr-ugc.imgix.net/assets/030/111/187/4816ab6b4df29fc3e274fa8c3c8d155d_original.png?ixlib=rb-2.1.0&amp;crop=faces&amp;w=1024&amp;h=576&amp;fit=crop&amp;v=1596826891&amp;auto=format&amp;frame=1&amp;q=92&amp;s=9ca4d1dd2e71694e0118da49d41f0371&quot;,&quot;1536x864&quot;:&quot;https://ksr-ugc.imgix.net/assets/030/111/187/4816ab6b4df29fc3e274fa8c3c8d155d_original.png?ixlib=rb-2.1.0&amp;crop=faces&amp;w=1552&amp;h=873&amp;fit=crop&amp;v=1596826891&amp;auto=format&amp;frame=1&amp;q=92&amp;s=444f9be41c12bf8590a0e312b803cafe&quot;},&quot;name&quot;:&quot;Isolation Protocol: Modular 3D Printable Sci-fi Terrain STL&quot;,&quot;blurb&quot;:&quot;3D printable wargaming terrain that doesn’t require extra clips. 3D Print at home digital STL files.&quot;,&quot;goal&quot;:1000.0,&quot;pledged&quot;:7330.0,&quot;state&quot;:&quot;live&quot;,&quot;slug&quot;:&quot;isolation-protocol-modular-3d-printable-sci-fi-terrain&quot;,&quot;disable_communication&quot;:false,&quot;country&quot;:&quot;IE&quot;,&quot;country_displayable_name&quot;:&quot;Ireland&quot;,&quot;currency&quot;:&quot;EUR&quot;,&quot;currency_symbol&quot;:&quot;€&quot;,&quot;currency_trailing_code&quot;:false,&quot;deadline&quot;:1601560839,&quot;state_changed_at&quot;:1598968840,&quot;created_at&quot;:1592837285,&quot;launched_at&quot;:1598968839,&quot;staff_pick&quot;:false,&quot;is_starrable&quot;:true,&quot;backers_count&quot;:134,&quot;static_usd_rate&quot;:1.19112989,&quot;usd_pledged&quot;:&quot;8730.9820937&quot;,&quot;converted_pledged_amount&quot;:8788,&quot;fx_rate&quot;:1.19895451,&quot;current_currency&quot;:&quot;USD&quot;,&quot;usd_type&quot;:&quot;domestic&quot;,&quot;creator&quot;:{&quot;id&quot;:1656945424,&quot;name&quot;:&quot;Corvus Games Terrain&quot;,&quot;slug&quot;:&quot;corvusgamesterrain&quot;,&quot;is_registered&quot;:null,&quot;chosen_currency&quot;:null,&quot;is_superbacker&quot;:null,&quot;avatar&quot;:{&quot;thumb&quot;:&quot;https://ksr-ugc.imgix.net/assets/025/649/801/a9be04363d676e0e4ec58aeaeb25ba82_original.png?ixlib=rb-2.1.0&amp;w=40&amp;h=40&amp;fit=crop&amp;v=1561807253&amp;auto=format&amp;frame=1&amp;q=92&amp;s=9ff0846a3bd11457e96379c316cdbbb5&quot;,&quot;small&quot;:&quot;https://ksr-ugc.imgix.net/assets/025/649/801/a9be04363d676e0e4ec58aeaeb25ba82_original.png?ixlib=rb-2.1.0&amp;w=80&amp;h=80&amp;fit=crop&amp;v=1561807253&amp;auto=format&amp;frame=1&amp;q=92&amp;s=d1270da959f92fe48dce1fab4ba0b3d6&quot;,&quot;medium&quot;:&quot;https://ksr-ugc.imgix.net/assets/025/649/801/a9be04363d676e0e4ec58aeaeb25ba82_original.png?ixlib=rb-2.1.0&amp;w=160&amp;h=160&amp;fit=crop&amp;v=1561807253&amp;auto=format&amp;frame=1&amp;q=92&amp;s=92e9d6a42a284773e65d54ae173d1dfe&quot;},&quot;urls&quot;:{&quot;web&quot;:{&quot;user&quot;:&quot;https://www.kickstarter.com/profile/corvusgamesterrain&quot;},&quot;api&quot;:{&quot;user&quot;:&quot;https://api.kickstarter.com/v1/users/1656945424?signature=1599094294.8c4c736ff67b47240e8ea6b88469ddd3045c25d7&quot;}}},&quot;location&quot;:{&quot;id&quot;:562477,&quot;name&quot;:&quot;Waterford&quot;,&quot;slug&quot;:&quot;waterford-ie&quot;,&quot;short_name&quot;:&quot;Waterford, Ireland&quot;,&quot;displayable_name&quot;:&quot;Waterford, Ireland&quot;,&quot;localized_name&quot;:&quot;Waterford&quot;,&quot;country&quot;:&quot;IE&quot;,&quot;state&quot;:&quot;Waterford&quot;,&quot;type&quot;:&quot;Town&quot;,&quot;is_root&quot;:false,&quot;expanded_country&quot;:&quot;Ireland&quot;,&quot;urls&quot;:{&quot;web&quot;:{&quot;discover&quot;:&quot;https://www.kickstarter.com/discover/places/waterford-ie&quot;,&quot;location&quot;:&quot;https://www.kickstarter.com/locations/waterford-ie&quot;},&quot;api&quot;:{&quot;nearby_projects&quot;:&quot;https://api.kickstarter.com/v1/discover?signature=1599055542.14f64d9bce2bd222520163d9a1d29fa90b546868&amp;woe_id=562477&quot;}}},&quot;category&quot;:{&quot;id&quot;:34,&quot;name&quot;:&quot;Tabletop Games&quot;,&quot;slug&quot;:&quot;games/tabletop games&quot;,&quot;position&quot;:6,&quot;parent_id&quot;:12,&quot;parent_name&quot;:&quot;Games&quot;,&quot;color&quot;:51627,&quot;urls&quot;:{&quot;web&quot;:{&quot;discover&quot;:&quot;http://www.kickstarter.com/discover/categories/games/tabletop%20games&quot;}}},&quot;profile&quot;:{&quot;id&quot;:4019340,&quot;project_id&quot;:4019340,&quot;state&quot;:&quot;inactive&quot;,&quot;state_changed_at&quot;:1592837285,&quot;name&quot;:null,&quot;blurb&quot;:null,&quot;background_color&quot;:null,&quot;text_color&quot;:null,&quot;link_background_color&quot;:null,&quot;link_text_color&quot;:null,&quot;link_text&quot;:null,&quot;link_url&quot;:null,&quot;show_feature_image&quot;:false,&quot;background_image_opacity&quot;:0.8,&quot;should_show_feature_image_section&quot;:true,&quot;feature_image_attributes&quot;:{&quot;image_urls&quot;:{&quot;default&quot;:&quot;https://ksr-ugc.imgix.net/assets/030/111/187/4816ab6b4df29fc3e274fa8c3c8d155d_original.png?ixlib=rb-2.1.0&amp;crop=faces&amp;w=1552&amp;h=873&amp;fit=crop&amp;v=1596826891&amp;auto=format&amp;frame=1&amp;q=92&amp;s=444f9be41c12bf8590a0e312b803cafe&quot;,&quot;baseball_card&quot;:&quot;https://ksr-ugc.imgix.net/assets/030/111/187/4816ab6b4df29fc3e274fa8c3c8d155d_original.png?ixlib=rb-2.1.0&amp;crop=faces&amp;w=560&amp;h=315&amp;fit=crop&amp;v=1596826891&amp;auto=format&amp;frame=1&amp;q=92&amp;s=7e72f4f22780e363859fbf3ec2d8b0a0&quot;}}},&quot;spotlight&quot;:false,&quot;urls&quot;:{&quot;web&quot;:{&quot;project&quot;:&quot;https://www.kickstarter.com/projects/corvusgamesterrain/isolation-protocol-modular-3d-printable-sci-fi-terrain&quot;,&quot;rewards&quot;:&quot;https://www.kickstarter.com/projects/corvusgamesterrain/isolation-protocol-modular-3d-printable-sci-fi-terrain/rewards&quot;}},&quot;percent_funded&quot;:733.0,&quot;is_liked&quot;:false,&quot;is_disliked&quot;:false}\" data-ref=\"discovery_category\" id=\"isolation-protocol-modular-3d-printable-sci-fi-terrain\">\n",
      "<div><div class=\"js-track-project-card\" data-project_pid=\"\" data-weighted_score=\"\" data-raw_score=\"\" data-model_name=\"\" data-project_state=\"\" data-project_backers_count=\"\" data-project_percent_raised=\"\" data-project_pledged=\"\" data-user_is_backer=\"\" data-user_has_starred=\"\" data-reactroot=\"\"><div class=\"mb5\"><div class=\"bg-white black relative border-grey-500 border\"><div class=\"relative self-start\"><a class=\"block img-placeholder w100p\"><div class=\"img-placeholder bg-grey-400 absolute t0 w100p\"></div></a></div><div class=\"\"><div class=\"h20 pt4 px3 mb1px\"></div><div class=\"pb5-md pb4 pt3 px5-sm px4\"><div class=\"h20-sm pt1px\"></div></div></div></div></div></div>\n",
      "</div>\n",
      "</div>\n",
      "<div class=\"js-react-proj-card grid-col-12 grid-col-6-sm grid-col-4-lg\" data-pid=\"251523557\" data-project=\"{&quot;id&quot;:251523557,&quot;photo&quot;:{&quot;key&quot;:&quot;assets/030/093/001/c97b5b7b60868c2150b5b45c19b8fefe_original.jpg&quot;,&quot;full&quot;:&quot;https://ksr-ugc.imgix.net/assets/030/093/001/c97b5b7b60868c2150b5b45c19b8fefe_original.jpg?ixlib=rb-2.1.0&amp;crop=faces&amp;w=560&amp;h=315&amp;fit=crop&amp;v=1596714387&amp;auto=format&amp;frame=1&amp;q=92&amp;s=135b3e79b902ddafb6188fc4a1662e17&quot;,&quot;ed&quot;:&quot;https://ksr-ugc.imgix.net/assets/030/093/001/c97b5b7b60868c2150b5b45c19b8fefe_original.jpg?ixlib=rb-2.1.0&amp;crop=faces&amp;w=352&amp;h=198&amp;fit=crop&amp;v=1596714387&amp;auto=format&amp;frame=1&amp;q=92&amp;s=9ca459df979d91b06e3e81c8fc85ad7a&quot;,&quot;med&quot;:&quot;https://ksr-ugc.imgix.net/assets/030/093/001/c97b5b7b60868c2150b5b45c19b8fefe_original.jpg?ixlib=rb-2.1.0&amp;crop=faces&amp;w=272&amp;h=153&amp;fit=crop&amp;v=1596714387&amp;auto=format&amp;frame=1&amp;q=92&amp;s=94095619c01fe668a85d60c04526903d&quot;,&quot;little&quot;:&quot;https://ksr-ugc.imgix.net/assets/030/093/001/c97b5b7b60868c2150b5b45c19b8fefe_original.jpg?ixlib=rb-2.1.0&amp;crop=faces&amp;w=208&amp;h=117&amp;fit=crop&amp;v=1596714387&amp;auto=format&amp;frame=1&amp;q=92&amp;s=346fc142100a9f731d57bb36fc460b67&quot;,&quot;small&quot;:&quot;https://ksr-ugc.imgix.net/assets/030/093/001/c97b5b7b60868c2150b5b45c19b8fefe_original.jpg?ixlib=rb-2.1.0&amp;crop=faces&amp;w=160&amp;h=90&amp;fit=crop&amp;v=1596714387&amp;auto=format&amp;frame=1&amp;q=92&amp;s=6798b8417fe57ad235de6ac9828f55e3&quot;,&quot;thumb&quot;:&quot;https://ksr-ugc.imgix.net/assets/030/093/001/c97b5b7b60868c2150b5b45c19b8fefe_original.jpg?ixlib=rb-2.1.0&amp;crop=faces&amp;w=48&amp;h=27&amp;fit=crop&amp;v=1596714387&amp;auto=format&amp;frame=1&amp;q=92&amp;s=27efb234ec332478e28afb30f10980e7&quot;,&quot;1024x576&quot;:&quot;https://ksr-ugc.imgix.net/assets/030/093/001/c97b5b7b60868c2150b5b45c19b8fefe_original.jpg?ixlib=rb-2.1.0&amp;crop=faces&amp;w=1024&amp;h=576&amp;fit=crop&amp;v=1596714387&amp;auto=format&amp;frame=1&amp;q=92&amp;s=fe19986ecbe28e12c42238b5d273f746&quot;,&quot;1536x864&quot;:&quot;https://ksr-ugc.imgix.net/assets/030/093/001/c97b5b7b60868c2150b5b45c19b8fefe_original.jpg?ixlib=rb-2.1.0&amp;crop=faces&amp;w=1552&amp;h=873&amp;fit=crop&amp;v=1596714387&amp;auto=format&amp;frame=1&amp;q=92&amp;s=e78ebf662e28c5ab19a32990a8fbcd1d&quot;},&quot;name&quot;:&quot;ICE CREAM YOU SCREAM! The Family Game of Dice, Holiday Gift!&quot;,&quot;blurb&quot;:&quot;5th Kickstarter!! Previous Projects We Love also available: ICE CREAM EMPIRE, WHISKEY BUSINESS!, BREW HA HA!, &amp; READ BETWEEN THE WINES!&quot;,&quot;goal&quot;:20000.0,&quot;pledged&quot;:10745.0,&quot;state&quot;:&quot;live&quot;,&quot;slug&quot;:&quot;ice-cream-you-scream-the-family-game-of-dice-holiday-gift&quot;,&quot;disable_communication&quot;:false,&quot;country&quot;:&quot;US&quot;,&quot;country_displayable_name&quot;:&quot;the United States&quot;,&quot;currency&quot;:&quot;USD&quot;,&quot;currency_symbol&quot;:&quot;$&quot;,&quot;currency_trailing_code&quot;:true,&quot;deadline&quot;:1600380000,&quot;state_changed_at&quot;:1597075205,&quot;created_at&quot;:1594722875,&quot;launched_at&quot;:1597075203,&quot;staff_pick&quot;:true,&quot;is_starrable&quot;:true,&quot;backers_count&quot;:162,&quot;static_usd_rate&quot;:1.0,&quot;usd_pledged&quot;:&quot;10745.0&quot;,&quot;converted_pledged_amount&quot;:10745,&quot;fx_rate&quot;:1.0,&quot;current_currency&quot;:&quot;USD&quot;,&quot;usd_type&quot;:&quot;domestic&quot;,&quot;creator&quot;:{&quot;id&quot;:1122114503,&quot;name&quot;:&quot;Lars Thorn&quot;,&quot;slug&quot;:&quot;uncorkedgame&quot;,&quot;is_registered&quot;:null,&quot;chosen_currency&quot;:null,&quot;is_superbacker&quot;:null,&quot;avatar&quot;:{&quot;thumb&quot;:&quot;https://ksr-ugc.imgix.net/assets/007/487/498/62d744d3b0fd03c8bb119365187063dd_original.jpeg?ixlib=rb-2.1.0&amp;w=40&amp;h=40&amp;fit=crop&amp;v=1596101696&amp;auto=format&amp;frame=1&amp;q=92&amp;s=e93d95f8d677d83ba4ef10009f4beffe&quot;,&quot;small&quot;:&quot;https://ksr-ugc.imgix.net/assets/007/487/498/62d744d3b0fd03c8bb119365187063dd_original.jpeg?ixlib=rb-2.1.0&amp;w=80&amp;h=80&amp;fit=crop&amp;v=1596101696&amp;auto=format&amp;frame=1&amp;q=92&amp;s=57a9972519a6f5c673c5a10b4b480d3c&quot;,&quot;medium&quot;:&quot;https://ksr-ugc.imgix.net/assets/007/487/498/62d744d3b0fd03c8bb119365187063dd_original.jpeg?ixlib=rb-2.1.0&amp;w=160&amp;h=160&amp;fit=crop&amp;v=1596101696&amp;auto=format&amp;frame=1&amp;q=92&amp;s=9eaebf27b6d524083eb5387c8ec8e0e5&quot;},&quot;urls&quot;:{&quot;web&quot;:{&quot;user&quot;:&quot;https://www.kickstarter.com/profile/uncorkedgame&quot;},&quot;api&quot;:{&quot;user&quot;:&quot;https://api.kickstarter.com/v1/users/1122114503?signature=1599094294.0bb96afc9f0b293def88401e740a7c17c492a856&quot;}}},&quot;location&quot;:{&quot;id&quot;:2442047,&quot;name&quot;:&quot;Los Angeles&quot;,&quot;slug&quot;:&quot;los-angeles-ca&quot;,&quot;short_name&quot;:&quot;Los Angeles, CA&quot;,&quot;displayable_name&quot;:&quot;Los Angeles, CA&quot;,&quot;localized_name&quot;:&quot;Los Angeles&quot;,&quot;country&quot;:&quot;US&quot;,&quot;state&quot;:&quot;CA&quot;,&quot;type&quot;:&quot;Town&quot;,&quot;is_root&quot;:false,&quot;expanded_country&quot;:&quot;United States&quot;,&quot;urls&quot;:{&quot;web&quot;:{&quot;discover&quot;:&quot;https://www.kickstarter.com/discover/places/los-angeles-ca&quot;,&quot;location&quot;:&quot;https://www.kickstarter.com/locations/los-angeles-ca&quot;},&quot;api&quot;:{&quot;nearby_projects&quot;:&quot;https://api.kickstarter.com/v1/discover?signature=1599073694.11686089c448a5b90217b74ad13b1c050c312942&amp;woe_id=2442047&quot;}}},&quot;category&quot;:{&quot;id&quot;:34,&quot;name&quot;:&quot;Tabletop Games&quot;,&quot;slug&quot;:&quot;games/tabletop games&quot;,&quot;position&quot;:6,&quot;parent_id&quot;:12,&quot;parent_name&quot;:&quot;Games&quot;,&quot;color&quot;:51627,&quot;urls&quot;:{&quot;web&quot;:{&quot;discover&quot;:&quot;http://www.kickstarter.com/discover/categories/games/tabletop%20games&quot;}}},&quot;profile&quot;:{&quot;id&quot;:4033066,&quot;project_id&quot;:4033066,&quot;state&quot;:&quot;inactive&quot;,&quot;state_changed_at&quot;:1594722875,&quot;name&quot;:null,&quot;blurb&quot;:null,&quot;background_color&quot;:null,&quot;text_color&quot;:null,&quot;link_background_color&quot;:null,&quot;link_text_color&quot;:null,&quot;link_text&quot;:null,&quot;link_url&quot;:null,&quot;show_feature_image&quot;:false,&quot;background_image_opacity&quot;:0.8,&quot;should_show_feature_image_section&quot;:true,&quot;feature_image_attributes&quot;:{&quot;image_urls&quot;:{&quot;default&quot;:&quot;https://ksr-ugc.imgix.net/assets/030/093/001/c97b5b7b60868c2150b5b45c19b8fefe_original.jpg?ixlib=rb-2.1.0&amp;crop=faces&amp;w=1552&amp;h=873&amp;fit=crop&amp;v=1596714387&amp;auto=format&amp;frame=1&amp;q=92&amp;s=e78ebf662e28c5ab19a32990a8fbcd1d&quot;,&quot;baseball_card&quot;:&quot;https://ksr-ugc.imgix.net/assets/030/093/001/c97b5b7b60868c2150b5b45c19b8fefe_original.jpg?ixlib=rb-2.1.0&amp;crop=faces&amp;w=560&amp;h=315&amp;fit=crop&amp;v=1596714387&amp;auto=format&amp;frame=1&amp;q=92&amp;s=135b3e79b902ddafb6188fc4a1662e17&quot;}}},&quot;spotlight&quot;:false,&quot;urls&quot;:{&quot;web&quot;:{&quot;project&quot;:&quot;https://www.kickstarter.com/projects/uncorkedgame/ice-cream-you-scream-the-family-game-of-dice-holiday-gift&quot;,&quot;rewards&quot;:&quot;https://www.kickstarter.com/projects/uncorkedgame/ice-cream-you-scream-the-family-game-of-dice-holiday-gift/rewards&quot;}},&quot;percent_funded&quot;:53.725,&quot;is_liked&quot;:false,&quot;is_disliked&quot;:false}\" data-ref=\"discovery_category\" id=\"ice-cream-you-scream-the-family-game-of-dice-holiday-gift\">\n",
      "<div><div class=\"js-track-project-card\" data-project_pid=\"\" data-weighted_score=\"\" data-raw_score=\"\" data-model_name=\"\" data-project_state=\"\" data-project_backers_count=\"\" data-project_percent_raised=\"\" data-project_pledged=\"\" data-user_is_backer=\"\" data-user_has_starred=\"\" data-reactroot=\"\"><div class=\"mb5\"><div class=\"bg-white black relative border-grey-500 border\"><div class=\"relative self-start\"><a class=\"block img-placeholder w100p\"><div class=\"img-placeholder bg-grey-400 absolute t0 w100p\"></div></a></div><div class=\"\"><div class=\"h20 pt4 px3 mb1px\"></div><div class=\"pb5-md pb4 pt3 px5-sm px4\"><div class=\"h20-sm pt1px\"></div></div></div></div></div></div>\n",
      "</div>\n",
      "</div>\n",
      "<div class=\"js-react-proj-card grid-col-12 grid-col-6-sm grid-col-4-lg\" data-pid=\"575231212\" data-project=\"{&quot;id&quot;:575231212,&quot;photo&quot;:{&quot;key&quot;:&quot;assets/030/417/496/f1eb7d6e6b475bc1f4334aba0f81d5a0_original.png&quot;,&quot;full&quot;:&quot;https://ksr-ugc.imgix.net/assets/030/417/496/f1eb7d6e6b475bc1f4334aba0f81d5a0_original.png?ixlib=rb-2.1.0&amp;crop=faces&amp;w=560&amp;h=315&amp;fit=crop&amp;v=1598895375&amp;auto=format&amp;frame=1&amp;q=92&amp;s=cbe3794b71af8dc2ca3b3d38984250f5&quot;,&quot;ed&quot;:&quot;https://ksr-ugc.imgix.net/assets/030/417/496/f1eb7d6e6b475bc1f4334aba0f81d5a0_original.png?ixlib=rb-2.1.0&amp;crop=faces&amp;w=352&amp;h=198&amp;fit=crop&amp;v=1598895375&amp;auto=format&amp;frame=1&amp;q=92&amp;s=66c64156be0ceda3020bec86ec1ff50e&quot;,&quot;med&quot;:&quot;https://ksr-ugc.imgix.net/assets/030/417/496/f1eb7d6e6b475bc1f4334aba0f81d5a0_original.png?ixlib=rb-2.1.0&amp;crop=faces&amp;w=272&amp;h=153&amp;fit=crop&amp;v=1598895375&amp;auto=format&amp;frame=1&amp;q=92&amp;s=6ccb9b54b38e7f5b570fa706f36cd4c8&quot;,&quot;little&quot;:&quot;https://ksr-ugc.imgix.net/assets/030/417/496/f1eb7d6e6b475bc1f4334aba0f81d5a0_original.png?ixlib=rb-2.1.0&amp;crop=faces&amp;w=208&amp;h=117&amp;fit=crop&amp;v=1598895375&amp;auto=format&amp;frame=1&amp;q=92&amp;s=03beb2ee8b10f3e731d27b881aab87ff&quot;,&quot;small&quot;:&quot;https://ksr-ugc.imgix.net/assets/030/417/496/f1eb7d6e6b475bc1f4334aba0f81d5a0_original.png?ixlib=rb-2.1.0&amp;crop=faces&amp;w=160&amp;h=90&amp;fit=crop&amp;v=1598895375&amp;auto=format&amp;frame=1&amp;q=92&amp;s=b68aecddd4b5081df434f2e50e338c21&quot;,&quot;thumb&quot;:&quot;https://ksr-ugc.imgix.net/assets/030/417/496/f1eb7d6e6b475bc1f4334aba0f81d5a0_original.png?ixlib=rb-2.1.0&amp;crop=faces&amp;w=48&amp;h=27&amp;fit=crop&amp;v=1598895375&amp;auto=format&amp;frame=1&amp;q=92&amp;s=ecd100c4a61b65129f8adf8253d28192&quot;,&quot;1024x576&quot;:&quot;https://ksr-ugc.imgix.net/assets/030/417/496/f1eb7d6e6b475bc1f4334aba0f81d5a0_original.png?ixlib=rb-2.1.0&amp;crop=faces&amp;w=1024&amp;h=576&amp;fit=crop&amp;v=1598895375&amp;auto=format&amp;frame=1&amp;q=92&amp;s=ed8873ab2cb5a34e4c858bb09f03c769&quot;,&quot;1536x864&quot;:&quot;https://ksr-ugc.imgix.net/assets/030/417/496/f1eb7d6e6b475bc1f4334aba0f81d5a0_original.png?ixlib=rb-2.1.0&amp;crop=faces&amp;w=1552&amp;h=873&amp;fit=crop&amp;v=1598895375&amp;auto=format&amp;frame=1&amp;q=92&amp;s=f0c99a0dbfe3c32f34c358a9697d7450&quot;},&quot;name&quot;:&quot;A Fox Tale&quot;,&quot;blurb&quot;:&quot;Take a dark and magical journey in this  four-legged story platformer.&quot;,&quot;goal&quot;:15000.0,&quot;pledged&quot;:953.0,&quot;state&quot;:&quot;live&quot;,&quot;slug&quot;:&quot;a-fox-tale&quot;,&quot;disable_communication&quot;:false,&quot;country&quot;:&quot;GB&quot;,&quot;country_displayable_name&quot;:&quot;the United Kingdom&quot;,&quot;currency&quot;:&quot;GBP&quot;,&quot;currency_symbol&quot;:&quot;£&quot;,&quot;currency_trailing_code&quot;:false,&quot;deadline&quot;:1601560809,&quot;state_changed_at&quot;:1598968810,&quot;created_at&quot;:1590404957,&quot;launched_at&quot;:1598968809,&quot;staff_pick&quot;:true,&quot;is_starrable&quot;:true,&quot;backers_count&quot;:48,&quot;static_usd_rate&quot;:1.33559137,&quot;usd_pledged&quot;:&quot;1272.81857561&quot;,&quot;converted_pledged_amount&quot;:1277,&quot;fx_rate&quot;:1.34083126,&quot;current_currency&quot;:&quot;USD&quot;,&quot;usd_type&quot;:&quot;domestic&quot;,&quot;creator&quot;:{&quot;id&quot;:202909353,&quot;name&quot;:&quot;Danny Peet&quot;,&quot;slug&quot;:&quot;afoxtale&quot;,&quot;is_registered&quot;:null,&quot;chosen_currency&quot;:null,&quot;is_superbacker&quot;:null,&quot;avatar&quot;:{&quot;thumb&quot;:&quot;https://ksr-ugc.imgix.net/assets/029/607/829/96da5675adbea2cc5d6cb4126381100c_original.jpeg?ixlib=rb-2.1.0&amp;w=40&amp;h=40&amp;fit=crop&amp;v=1598431044&amp;auto=format&amp;frame=1&amp;q=92&amp;s=c72a83330970a103e8f23c116d87a03f&quot;,&quot;small&quot;:&quot;https://ksr-ugc.imgix.net/assets/029/607/829/96da5675adbea2cc5d6cb4126381100c_original.jpeg?ixlib=rb-2.1.0&amp;w=80&amp;h=80&amp;fit=crop&amp;v=1598431044&amp;auto=format&amp;frame=1&amp;q=92&amp;s=aa2622b641399728420815bfcd1359c3&quot;,&quot;medium&quot;:&quot;https://ksr-ugc.imgix.net/assets/029/607/829/96da5675adbea2cc5d6cb4126381100c_original.jpeg?ixlib=rb-2.1.0&amp;w=160&amp;h=160&amp;fit=crop&amp;v=1598431044&amp;auto=format&amp;frame=1&amp;q=92&amp;s=a9beae143d7a73d6fc67e207a99a0fa3&quot;},&quot;urls&quot;:{&quot;web&quot;:{&quot;user&quot;:&quot;https://www.kickstarter.com/profile/afoxtale&quot;},&quot;api&quot;:{&quot;user&quot;:&quot;https://api.kickstarter.com/v1/users/202909353?signature=1599094294.730470ce1b1800ba62ff27dd7c6f5a1978495ae0&quot;}}},&quot;location&quot;:{&quot;id&quot;:30720,&quot;name&quot;:&quot;Nottingham&quot;,&quot;slug&quot;:&quot;nottingham-gb&quot;,&quot;short_name&quot;:&quot;Nottingham, UK&quot;,&quot;displayable_name&quot;:&quot;Nottingham, UK&quot;,&quot;localized_name&quot;:&quot;Nottingham&quot;,&quot;country&quot;:&quot;GB&quot;,&quot;state&quot;:&quot;England&quot;,&quot;type&quot;:&quot;Town&quot;,&quot;is_root&quot;:false,&quot;expanded_country&quot;:&quot;United Kingdom&quot;,&quot;urls&quot;:{&quot;web&quot;:{&quot;discover&quot;:&quot;https://www.kickstarter.com/discover/places/nottingham-gb&quot;,&quot;location&quot;:&quot;https://www.kickstarter.com/locations/nottingham-gb&quot;},&quot;api&quot;:{&quot;nearby_projects&quot;:&quot;https://api.kickstarter.com/v1/discover?signature=1599052763.c1fa9ad03a70e11730620c6c64d5c17bd9afef67&amp;woe_id=30720&quot;}}},&quot;category&quot;:{&quot;id&quot;:35,&quot;name&quot;:&quot;Video Games&quot;,&quot;slug&quot;:&quot;games/video games&quot;,&quot;position&quot;:7,&quot;parent_id&quot;:12,&quot;parent_name&quot;:&quot;Games&quot;,&quot;color&quot;:51627,&quot;urls&quot;:{&quot;web&quot;:{&quot;discover&quot;:&quot;http://www.kickstarter.com/discover/categories/games/video%20games&quot;}}},&quot;profile&quot;:{&quot;id&quot;:4001446,&quot;project_id&quot;:4001446,&quot;state&quot;:&quot;inactive&quot;,&quot;state_changed_at&quot;:1590404957,&quot;name&quot;:null,&quot;blurb&quot;:null,&quot;background_color&quot;:null,&quot;text_color&quot;:null,&quot;link_background_color&quot;:null,&quot;link_text_color&quot;:null,&quot;link_text&quot;:null,&quot;link_url&quot;:null,&quot;show_feature_image&quot;:false,&quot;background_image_opacity&quot;:0.8,&quot;should_show_feature_image_section&quot;:true,&quot;feature_image_attributes&quot;:{&quot;image_urls&quot;:{&quot;default&quot;:&quot;https://ksr-ugc.imgix.net/assets/030/417/496/f1eb7d6e6b475bc1f4334aba0f81d5a0_original.png?ixlib=rb-2.1.0&amp;crop=faces&amp;w=1552&amp;h=873&amp;fit=crop&amp;v=1598895375&amp;auto=format&amp;frame=1&amp;q=92&amp;s=f0c99a0dbfe3c32f34c358a9697d7450&quot;,&quot;baseball_card&quot;:&quot;https://ksr-ugc.imgix.net/assets/030/417/496/f1eb7d6e6b475bc1f4334aba0f81d5a0_original.png?ixlib=rb-2.1.0&amp;crop=faces&amp;w=560&amp;h=315&amp;fit=crop&amp;v=1598895375&amp;auto=format&amp;frame=1&amp;q=92&amp;s=cbe3794b71af8dc2ca3b3d38984250f5&quot;}}},&quot;spotlight&quot;:false,&quot;urls&quot;:{&quot;web&quot;:{&quot;project&quot;:&quot;https://www.kickstarter.com/projects/afoxtale/a-fox-tale&quot;,&quot;rewards&quot;:&quot;https://www.kickstarter.com/projects/afoxtale/a-fox-tale/rewards&quot;}},&quot;percent_funded&quot;:6.3533333333333335,&quot;is_liked&quot;:false,&quot;is_disliked&quot;:false}\" data-ref=\"discovery_category\" id=\"a-fox-tale\">\n",
      "<div><div class=\"js-track-project-card\" data-project_pid=\"\" data-weighted_score=\"\" data-raw_score=\"\" data-model_name=\"\" data-project_state=\"\" data-project_backers_count=\"\" data-project_percent_raised=\"\" data-project_pledged=\"\" data-user_is_backer=\"\" data-user_has_starred=\"\" data-reactroot=\"\"><div class=\"mb5\"><div class=\"bg-white black relative border-grey-500 border\"><div class=\"relative self-start\"><a class=\"block img-placeholder w100p\"><div class=\"img-placeholder bg-grey-400 absolute t0 w100p\"></div></a></div><div class=\"\"><div class=\"h20 pt4 px3 mb1px\"></div><div class=\"pb5-md pb4 pt3 px5-sm px4\"><div class=\"h20-sm pt1px\"></div></div></div></div></div></div>\n",
      "</div>\n",
      "</div>\n",
      "<div class=\"js-react-proj-card grid-col-12 grid-col-6-sm grid-col-4-lg\" data-pid=\"1111753082\" data-project=\"{&quot;id&quot;:1111753082,&quot;photo&quot;:{&quot;key&quot;:&quot;assets/030/030/301/a3a01f8755e9c6e23f2eff327b9abcc5_original.jpg&quot;,&quot;full&quot;:&quot;https://ksr-ugc.imgix.net/assets/030/030/301/a3a01f8755e9c6e23f2eff327b9abcc5_original.jpg?ixlib=rb-2.1.0&amp;crop=faces&amp;w=560&amp;h=315&amp;fit=crop&amp;v=1596260803&amp;auto=format&amp;frame=1&amp;q=92&amp;s=e0e60f0812d84bd7aa2a5b9e79dcdb45&quot;,&quot;ed&quot;:&quot;https://ksr-ugc.imgix.net/assets/030/030/301/a3a01f8755e9c6e23f2eff327b9abcc5_original.jpg?ixlib=rb-2.1.0&amp;crop=faces&amp;w=352&amp;h=198&amp;fit=crop&amp;v=1596260803&amp;auto=format&amp;frame=1&amp;q=92&amp;s=58a4e27fc76928003483ba1648ef2b71&quot;,&quot;med&quot;:&quot;https://ksr-ugc.imgix.net/assets/030/030/301/a3a01f8755e9c6e23f2eff327b9abcc5_original.jpg?ixlib=rb-2.1.0&amp;crop=faces&amp;w=272&amp;h=153&amp;fit=crop&amp;v=1596260803&amp;auto=format&amp;frame=1&amp;q=92&amp;s=7902dbc68e4ff0eb688d34cd3aead83a&quot;,&quot;little&quot;:&quot;https://ksr-ugc.imgix.net/assets/030/030/301/a3a01f8755e9c6e23f2eff327b9abcc5_original.jpg?ixlib=rb-2.1.0&amp;crop=faces&amp;w=208&amp;h=117&amp;fit=crop&amp;v=1596260803&amp;auto=format&amp;frame=1&amp;q=92&amp;s=4bc03a1a3ac080ae91e69439b5706f62&quot;,&quot;small&quot;:&quot;https://ksr-ugc.imgix.net/assets/030/030/301/a3a01f8755e9c6e23f2eff327b9abcc5_original.jpg?ixlib=rb-2.1.0&amp;crop=faces&amp;w=160&amp;h=90&amp;fit=crop&amp;v=1596260803&amp;auto=format&amp;frame=1&amp;q=92&amp;s=f3c1a0d0ee496afac86b35bcf1bfc150&quot;,&quot;thumb&quot;:&quot;https://ksr-ugc.imgix.net/assets/030/030/301/a3a01f8755e9c6e23f2eff327b9abcc5_original.jpg?ixlib=rb-2.1.0&amp;crop=faces&amp;w=48&amp;h=27&amp;fit=crop&amp;v=1596260803&amp;auto=format&amp;frame=1&amp;q=92&amp;s=eb46124e7ce5d2bce43c46bd0e51e959&quot;,&quot;1024x576&quot;:&quot;https://ksr-ugc.imgix.net/assets/030/030/301/a3a01f8755e9c6e23f2eff327b9abcc5_original.jpg?ixlib=rb-2.1.0&amp;crop=faces&amp;w=1024&amp;h=576&amp;fit=crop&amp;v=1596260803&amp;auto=format&amp;frame=1&amp;q=92&amp;s=72e3c63296d467d429e9c0acac1765fb&quot;,&quot;1536x864&quot;:&quot;https://ksr-ugc.imgix.net/assets/030/030/301/a3a01f8755e9c6e23f2eff327b9abcc5_original.jpg?ixlib=rb-2.1.0&amp;crop=faces&amp;w=1552&amp;h=873&amp;fit=crop&amp;v=1596260803&amp;auto=format&amp;frame=1&amp;q=92&amp;s=9dddbda65864a56981b0d147ddd50f96&quot;},&quot;name&quot;:&quot;Moons &amp; Stars - Handmade Strategy Boardgame&quot;,&quot;blurb&quot;:&quot;Discover an ancient artifact-an otherworldly game that will push the limits of your creativity and logic.&quot;,&quot;goal&quot;:4000.0,&quot;pledged&quot;:8895.0,&quot;state&quot;:&quot;live&quot;,&quot;slug&quot;:&quot;moons-and-stars-handmade-strategy-boardgame&quot;,&quot;disable_communication&quot;:false,&quot;country&quot;:&quot;US&quot;,&quot;country_displayable_name&quot;:&quot;the United States&quot;,&quot;currency&quot;:&quot;USD&quot;,&quot;currency_symbol&quot;:&quot;$&quot;,&quot;currency_trailing_code&quot;:true,&quot;deadline&quot;:1599998143,&quot;state_changed_at&quot;:1597406144,&quot;created_at&quot;:1592951626,&quot;launched_at&quot;:1597406143,&quot;staff_pick&quot;:true,&quot;is_starrable&quot;:true,&quot;backers_count&quot;:104,&quot;static_usd_rate&quot;:1.0,&quot;usd_pledged&quot;:&quot;8895.0&quot;,&quot;converted_pledged_amount&quot;:8895,&quot;fx_rate&quot;:1.0,&quot;current_currency&quot;:&quot;USD&quot;,&quot;usd_type&quot;:&quot;domestic&quot;,&quot;creator&quot;:{&quot;id&quot;:264454593,&quot;name&quot;:&quot;Ben Jerred&quot;,&quot;slug&quot;:&quot;allfield&quot;,&quot;is_registered&quot;:null,&quot;chosen_currency&quot;:null,&quot;is_superbacker&quot;:null,&quot;avatar&quot;:{&quot;thumb&quot;:&quot;https://ksr-ugc.imgix.net/assets/030/029/538/291e718176758bacf58c928c78dbe0f1_original.jpg?ixlib=rb-2.1.0&amp;w=40&amp;h=40&amp;fit=crop&amp;v=1596251795&amp;auto=format&amp;frame=1&amp;q=92&amp;s=1589d039fd3f4606dc953648960b947d&quot;,&quot;small&quot;:&quot;https://ksr-ugc.imgix.net/assets/030/029/538/291e718176758bacf58c928c78dbe0f1_original.jpg?ixlib=rb-2.1.0&amp;w=80&amp;h=80&amp;fit=crop&amp;v=1596251795&amp;auto=format&amp;frame=1&amp;q=92&amp;s=3eb4f047a5df3dbcec7f0c4ef3dc3268&quot;,&quot;medium&quot;:&quot;https://ksr-ugc.imgix.net/assets/030/029/538/291e718176758bacf58c928c78dbe0f1_original.jpg?ixlib=rb-2.1.0&amp;w=160&amp;h=160&amp;fit=crop&amp;v=1596251795&amp;auto=format&amp;frame=1&amp;q=92&amp;s=c8ba1db1bca811417d4f96f6df75eaed&quot;},&quot;urls&quot;:{&quot;web&quot;:{&quot;user&quot;:&quot;https://www.kickstarter.com/profile/allfield&quot;},&quot;api&quot;:{&quot;user&quot;:&quot;https://api.kickstarter.com/v1/users/264454593?signature=1599094294.d016308f2804f998ded8c6863e4f041093282a6f&quot;}}},&quot;location&quot;:{&quot;id&quot;:2408137,&quot;name&quot;:&quot;Fulton&quot;,&quot;slug&quot;:&quot;fulton-ny&quot;,&quot;short_name&quot;:&quot;Fulton, NY&quot;,&quot;displayable_name&quot;:&quot;Fulton, NY&quot;,&quot;localized_name&quot;:&quot;Fulton&quot;,&quot;country&quot;:&quot;US&quot;,&quot;state&quot;:&quot;NY&quot;,&quot;type&quot;:&quot;Town&quot;,&quot;is_root&quot;:false,&quot;expanded_country&quot;:&quot;United States&quot;,&quot;urls&quot;:{&quot;web&quot;:{&quot;discover&quot;:&quot;https://www.kickstarter.com/discover/places/fulton-ny&quot;,&quot;location&quot;:&quot;https://www.kickstarter.com/locations/fulton-ny&quot;},&quot;api&quot;:{&quot;nearby_projects&quot;:&quot;https://api.kickstarter.com/v1/discover?signature=1599074226.942075fcd127b74b0289f7a5eafa6ccf0b7bdd0e&amp;woe_id=2408137&quot;}}},&quot;category&quot;:{&quot;id&quot;:34,&quot;name&quot;:&quot;Tabletop Games&quot;,&quot;slug&quot;:&quot;games/tabletop games&quot;,&quot;position&quot;:6,&quot;parent_id&quot;:12,&quot;parent_name&quot;:&quot;Games&quot;,&quot;color&quot;:51627,&quot;urls&quot;:{&quot;web&quot;:{&quot;discover&quot;:&quot;http://www.kickstarter.com/discover/categories/games/tabletop%20games&quot;}}},&quot;profile&quot;:{&quot;id&quot;:4020361,&quot;project_id&quot;:4020361,&quot;state&quot;:&quot;inactive&quot;,&quot;state_changed_at&quot;:1592951626,&quot;name&quot;:null,&quot;blurb&quot;:null,&quot;background_color&quot;:null,&quot;text_color&quot;:null,&quot;link_background_color&quot;:null,&quot;link_text_color&quot;:null,&quot;link_text&quot;:null,&quot;link_url&quot;:null,&quot;show_feature_image&quot;:false,&quot;background_image_opacity&quot;:0.8,&quot;should_show_feature_image_section&quot;:true,&quot;feature_image_attributes&quot;:{&quot;image_urls&quot;:{&quot;default&quot;:&quot;https://ksr-ugc.imgix.net/assets/030/030/301/a3a01f8755e9c6e23f2eff327b9abcc5_original.jpg?ixlib=rb-2.1.0&amp;crop=faces&amp;w=1552&amp;h=873&amp;fit=crop&amp;v=1596260803&amp;auto=format&amp;frame=1&amp;q=92&amp;s=9dddbda65864a56981b0d147ddd50f96&quot;,&quot;baseball_card&quot;:&quot;https://ksr-ugc.imgix.net/assets/030/030/301/a3a01f8755e9c6e23f2eff327b9abcc5_original.jpg?ixlib=rb-2.1.0&amp;crop=faces&amp;w=560&amp;h=315&amp;fit=crop&amp;v=1596260803&amp;auto=format&amp;frame=1&amp;q=92&amp;s=e0e60f0812d84bd7aa2a5b9e79dcdb45&quot;}}},&quot;spotlight&quot;:false,&quot;urls&quot;:{&quot;web&quot;:{&quot;project&quot;:&quot;https://www.kickstarter.com/projects/allfield/moons-and-stars-handmade-strategy-boardgame&quot;,&quot;rewards&quot;:&quot;https://www.kickstarter.com/projects/allfield/moons-and-stars-handmade-strategy-boardgame/rewards&quot;}},&quot;percent_funded&quot;:222.375,&quot;is_liked&quot;:false,&quot;is_disliked&quot;:false}\" data-ref=\"discovery_category\" id=\"moons-and-stars-handmade-strategy-boardgame\">\n",
      "<div><div class=\"js-track-project-card\" data-project_pid=\"\" data-weighted_score=\"\" data-raw_score=\"\" data-model_name=\"\" data-project_state=\"\" data-project_backers_count=\"\" data-project_percent_raised=\"\" data-project_pledged=\"\" data-user_is_backer=\"\" data-user_has_starred=\"\" data-reactroot=\"\"><div class=\"mb5\"><div class=\"bg-white black relative border-grey-500 border\"><div class=\"relative self-start\"><a class=\"block img-placeholder w100p\"><div class=\"img-placeholder bg-grey-400 absolute t0 w100p\"></div></a></div><div class=\"\"><div class=\"h20 pt4 px3 mb1px\"></div><div class=\"pb5-md pb4 pt3 px5-sm px4\"><div class=\"h20-sm pt1px\"></div></div></div></div></div></div>\n",
      "</div>\n",
      "</div>\n",
      "<div class=\"js-react-proj-card grid-col-12 grid-col-6-sm grid-col-4-lg\" data-pid=\"1330403707\" data-project=\"{&quot;id&quot;:1330403707,&quot;photo&quot;:{&quot;key&quot;:&quot;assets/029/925/853/71a3e13c60f94250baadc7b69146b61f_original.jpg&quot;,&quot;full&quot;:&quot;https://ksr-ugc.imgix.net/assets/029/925/853/71a3e13c60f94250baadc7b69146b61f_original.jpg?ixlib=rb-2.1.0&amp;crop=faces&amp;w=560&amp;h=315&amp;fit=crop&amp;v=1595528763&amp;auto=format&amp;frame=1&amp;q=92&amp;s=1751546f9ef3e26e446bd60de05935e7&quot;,&quot;ed&quot;:&quot;https://ksr-ugc.imgix.net/assets/029/925/853/71a3e13c60f94250baadc7b69146b61f_original.jpg?ixlib=rb-2.1.0&amp;crop=faces&amp;w=352&amp;h=198&amp;fit=crop&amp;v=1595528763&amp;auto=format&amp;frame=1&amp;q=92&amp;s=4171cd2a2a108a0a29b40b2ab3d632c8&quot;,&quot;med&quot;:&quot;https://ksr-ugc.imgix.net/assets/029/925/853/71a3e13c60f94250baadc7b69146b61f_original.jpg?ixlib=rb-2.1.0&amp;crop=faces&amp;w=272&amp;h=153&amp;fit=crop&amp;v=1595528763&amp;auto=format&amp;frame=1&amp;q=92&amp;s=1c345f9c666e919b089e58670cc8f41e&quot;,&quot;little&quot;:&quot;https://ksr-ugc.imgix.net/assets/029/925/853/71a3e13c60f94250baadc7b69146b61f_original.jpg?ixlib=rb-2.1.0&amp;crop=faces&amp;w=208&amp;h=117&amp;fit=crop&amp;v=1595528763&amp;auto=format&amp;frame=1&amp;q=92&amp;s=6f0e5c6129e5a8d1222c203ce5166ba7&quot;,&quot;small&quot;:&quot;https://ksr-ugc.imgix.net/assets/029/925/853/71a3e13c60f94250baadc7b69146b61f_original.jpg?ixlib=rb-2.1.0&amp;crop=faces&amp;w=160&amp;h=90&amp;fit=crop&amp;v=1595528763&amp;auto=format&amp;frame=1&amp;q=92&amp;s=f08f021be5a9a444299eec9ea67aa30c&quot;,&quot;thumb&quot;:&quot;https://ksr-ugc.imgix.net/assets/029/925/853/71a3e13c60f94250baadc7b69146b61f_original.jpg?ixlib=rb-2.1.0&amp;crop=faces&amp;w=48&amp;h=27&amp;fit=crop&amp;v=1595528763&amp;auto=format&amp;frame=1&amp;q=92&amp;s=7dbaeb052cd4cbd8083ee5bdece4209d&quot;,&quot;1024x576&quot;:&quot;https://ksr-ugc.imgix.net/assets/029/925/853/71a3e13c60f94250baadc7b69146b61f_original.jpg?ixlib=rb-2.1.0&amp;crop=faces&amp;w=1024&amp;h=576&amp;fit=crop&amp;v=1595528763&amp;auto=format&amp;frame=1&amp;q=92&amp;s=4717ab616290768629c2795c61235970&quot;,&quot;1536x864&quot;:&quot;https://ksr-ugc.imgix.net/assets/029/925/853/71a3e13c60f94250baadc7b69146b61f_original.jpg?ixlib=rb-2.1.0&amp;crop=faces&amp;w=1552&amp;h=873&amp;fit=crop&amp;v=1595528763&amp;auto=format&amp;frame=1&amp;q=92&amp;s=98171537e454fd0349190301e1c0d729&quot;},&quot;name&quot;:&quot;Elder Dice: Shards of Illumination&quot;,&quot;blurb&quot;:&quot;Mythic RPG Dice: Seer&#39;s Eye, Crown of the Night Mother, Crest of Dagon. Includes magnetic spellbook box &amp; ritual candle dice tubes&quot;,&quot;goal&quot;:85000.0,&quot;pledged&quot;:834727.0,&quot;state&quot;:&quot;live&quot;,&quot;slug&quot;:&quot;elder-dice-shards-of-illumination&quot;,&quot;disable_communication&quot;:false,&quot;country&quot;:&quot;US&quot;,&quot;country_displayable_name&quot;:&quot;the United States&quot;,&quot;currency&quot;:&quot;USD&quot;,&quot;currency_symbol&quot;:&quot;$&quot;,&quot;currency_trailing_code&quot;:true,&quot;deadline&quot;:1599010200,&quot;state_changed_at&quot;:1596548544,&quot;created_at&quot;:1595384611,&quot;launched_at&quot;:1596548543,&quot;staff_pick&quot;:false,&quot;is_starrable&quot;:false,&quot;backers_count&quot;:7178,&quot;static_usd_rate&quot;:1.0,&quot;usd_pledged&quot;:&quot;834727.0&quot;,&quot;converted_pledged_amount&quot;:834727,&quot;fx_rate&quot;:1.0,&quot;current_currency&quot;:&quot;USD&quot;,&quot;usd_type&quot;:&quot;domestic&quot;,&quot;creator&quot;:{&quot;id&quot;:1624931577,&quot;name&quot;:&quot;Infinite Black&quot;,&quot;slug&quot;:&quot;infiniteblack&quot;,&quot;is_registered&quot;:null,&quot;chosen_currency&quot;:null,&quot;is_superbacker&quot;:null,&quot;avatar&quot;:{&quot;thumb&quot;:&quot;https://ksr-ugc.imgix.net/assets/020/479/197/f55133048636c90df7e51364e7d18d37_original.jpg?ixlib=rb-2.1.0&amp;w=40&amp;h=40&amp;fit=crop&amp;v=1520453607&amp;auto=format&amp;frame=1&amp;q=92&amp;s=b84a3261c6eab49370a9b0c92282f2da&quot;,&quot;small&quot;:&quot;https://ksr-ugc.imgix.net/assets/020/479/197/f55133048636c90df7e51364e7d18d37_original.jpg?ixlib=rb-2.1.0&amp;w=80&amp;h=80&amp;fit=crop&amp;v=1520453607&amp;auto=format&amp;frame=1&amp;q=92&amp;s=93fa1a49ca6a75133ac4f8f5d01f2f11&quot;,&quot;medium&quot;:&quot;https://ksr-ugc.imgix.net/assets/020/479/197/f55133048636c90df7e51364e7d18d37_original.jpg?ixlib=rb-2.1.0&amp;w=160&amp;h=160&amp;fit=crop&amp;v=1520453607&amp;auto=format&amp;frame=1&amp;q=92&amp;s=f23652a6f23fce6513b91fed45fae9e0&quot;},&quot;urls&quot;:{&quot;web&quot;:{&quot;user&quot;:&quot;https://www.kickstarter.com/profile/infiniteblack&quot;},&quot;api&quot;:{&quot;user&quot;:&quot;https://api.kickstarter.com/v1/users/1624931577?signature=1599094294.5e2d0771eff726ab59b032fafcb9eb605cc2ad93&quot;}}},&quot;location&quot;:{&quot;id&quot;:2428965,&quot;name&quot;:&quot;Jemison&quot;,&quot;slug&quot;:&quot;jemison-al&quot;,&quot;short_name&quot;:&quot;Jemison, AL&quot;,&quot;displayable_name&quot;:&quot;Jemison, AL&quot;,&quot;localized_name&quot;:&quot;Jemison&quot;,&quot;country&quot;:&quot;US&quot;,&quot;state&quot;:&quot;AL&quot;,&quot;type&quot;:&quot;Town&quot;,&quot;is_root&quot;:false,&quot;expanded_country&quot;:&quot;United States&quot;,&quot;urls&quot;:{&quot;web&quot;:{&quot;discover&quot;:&quot;https://www.kickstarter.com/discover/places/jemison-al&quot;,&quot;location&quot;:&quot;https://www.kickstarter.com/locations/jemison-al&quot;},&quot;api&quot;:{&quot;nearby_projects&quot;:&quot;https://api.kickstarter.com/v1/discover?signature=1599061543.586fa3c364cd957fbe88d1e3a6a5129063e10ed1&amp;woe_id=2428965&quot;}}},&quot;category&quot;:{&quot;id&quot;:34,&quot;name&quot;:&quot;Tabletop Games&quot;,&quot;slug&quot;:&quot;games/tabletop games&quot;,&quot;position&quot;:6,&quot;parent_id&quot;:12,&quot;parent_name&quot;:&quot;Games&quot;,&quot;color&quot;:51627,&quot;urls&quot;:{&quot;web&quot;:{&quot;discover&quot;:&quot;http://www.kickstarter.com/discover/categories/games/tabletop%20games&quot;}}},&quot;profile&quot;:{&quot;id&quot;:4037886,&quot;project_id&quot;:4037886,&quot;state&quot;:&quot;inactive&quot;,&quot;state_changed_at&quot;:1595384611,&quot;name&quot;:null,&quot;blurb&quot;:null,&quot;background_color&quot;:null,&quot;text_color&quot;:null,&quot;link_background_color&quot;:null,&quot;link_text_color&quot;:null,&quot;link_text&quot;:null,&quot;link_url&quot;:null,&quot;show_feature_image&quot;:false,&quot;background_image_opacity&quot;:0.8,&quot;should_show_feature_image_section&quot;:true,&quot;feature_image_attributes&quot;:{&quot;image_urls&quot;:{&quot;default&quot;:&quot;https://ksr-ugc.imgix.net/assets/029/925/853/71a3e13c60f94250baadc7b69146b61f_original.jpg?ixlib=rb-2.1.0&amp;crop=faces&amp;w=1552&amp;h=873&amp;fit=crop&amp;v=1595528763&amp;auto=format&amp;frame=1&amp;q=92&amp;s=98171537e454fd0349190301e1c0d729&quot;,&quot;baseball_card&quot;:&quot;https://ksr-ugc.imgix.net/assets/029/925/853/71a3e13c60f94250baadc7b69146b61f_original.jpg?ixlib=rb-2.1.0&amp;crop=faces&amp;w=560&amp;h=315&amp;fit=crop&amp;v=1595528763&amp;auto=format&amp;frame=1&amp;q=92&amp;s=1751546f9ef3e26e446bd60de05935e7&quot;}}},&quot;spotlight&quot;:false,&quot;urls&quot;:{&quot;web&quot;:{&quot;project&quot;:&quot;https://www.kickstarter.com/projects/infiniteblack/elder-dice-shards-of-illumination&quot;,&quot;rewards&quot;:&quot;https://www.kickstarter.com/projects/infiniteblack/elder-dice-shards-of-illumination/rewards&quot;}},&quot;percent_funded&quot;:982.0317647058823,&quot;is_liked&quot;:false,&quot;is_disliked&quot;:false}\" data-ref=\"discovery_category\" id=\"elder-dice-shards-of-illumination\">\n",
      "<div><div class=\"js-track-project-card\" data-project_pid=\"\" data-weighted_score=\"\" data-raw_score=\"\" data-model_name=\"\" data-project_state=\"\" data-project_backers_count=\"\" data-project_percent_raised=\"\" data-project_pledged=\"\" data-user_is_backer=\"\" data-user_has_starred=\"\" data-reactroot=\"\"><div class=\"mb5\"><div class=\"bg-white black relative border-grey-500 border\"><div class=\"relative self-start\"><a class=\"block img-placeholder w100p\"><div class=\"img-placeholder bg-grey-400 absolute t0 w100p\"></div></a></div><div class=\"\"><div class=\"h20 pt4 px3 mb1px\"></div><div class=\"pb5-md pb4 pt3 px5-sm px4\"><div class=\"h20-sm pt1px\"></div></div></div></div></div></div>\n",
      "</div>\n",
      "</div>\n",
      "</div>\n",
      "<div class=\"grid-row flex flex-wrap\">\n",
      "<div class=\"js-react-proj-card grid-col-12 grid-col-6-sm grid-col-4-lg\" data-pid=\"1105918400\" data-project=\"{&quot;id&quot;:1105918400,&quot;photo&quot;:{&quot;key&quot;:&quot;assets/030/430/650/11ba76c92273bc2e42839a635534a79c_original.jpg&quot;,&quot;full&quot;:&quot;https://ksr-ugc.imgix.net/assets/030/430/650/11ba76c92273bc2e42839a635534a79c_original.jpg?ixlib=rb-2.1.0&amp;crop=faces&amp;w=560&amp;h=315&amp;fit=crop&amp;v=1598970213&amp;auto=format&amp;frame=1&amp;q=92&amp;s=081c981e83b57449cb788214fc26394a&quot;,&quot;ed&quot;:&quot;https://ksr-ugc.imgix.net/assets/030/430/650/11ba76c92273bc2e42839a635534a79c_original.jpg?ixlib=rb-2.1.0&amp;crop=faces&amp;w=352&amp;h=198&amp;fit=crop&amp;v=1598970213&amp;auto=format&amp;frame=1&amp;q=92&amp;s=990c4a326600dcc28e206097d081f752&quot;,&quot;med&quot;:&quot;https://ksr-ugc.imgix.net/assets/030/430/650/11ba76c92273bc2e42839a635534a79c_original.jpg?ixlib=rb-2.1.0&amp;crop=faces&amp;w=272&amp;h=153&amp;fit=crop&amp;v=1598970213&amp;auto=format&amp;frame=1&amp;q=92&amp;s=6329130de9f50af06d38c8c8fe20e330&quot;,&quot;little&quot;:&quot;https://ksr-ugc.imgix.net/assets/030/430/650/11ba76c92273bc2e42839a635534a79c_original.jpg?ixlib=rb-2.1.0&amp;crop=faces&amp;w=208&amp;h=117&amp;fit=crop&amp;v=1598970213&amp;auto=format&amp;frame=1&amp;q=92&amp;s=e2bc621ada8fc7f8f9cd02ab3e6a4723&quot;,&quot;small&quot;:&quot;https://ksr-ugc.imgix.net/assets/030/430/650/11ba76c92273bc2e42839a635534a79c_original.jpg?ixlib=rb-2.1.0&amp;crop=faces&amp;w=160&amp;h=90&amp;fit=crop&amp;v=1598970213&amp;auto=format&amp;frame=1&amp;q=92&amp;s=b488fb92d95ad3417172328821216ea9&quot;,&quot;thumb&quot;:&quot;https://ksr-ugc.imgix.net/assets/030/430/650/11ba76c92273bc2e42839a635534a79c_original.jpg?ixlib=rb-2.1.0&amp;crop=faces&amp;w=48&amp;h=27&amp;fit=crop&amp;v=1598970213&amp;auto=format&amp;frame=1&amp;q=92&amp;s=c0301fe1a8b3f4ec0c50b513171c80cf&quot;,&quot;1024x576&quot;:&quot;https://ksr-ugc.imgix.net/assets/030/430/650/11ba76c92273bc2e42839a635534a79c_original.jpg?ixlib=rb-2.1.0&amp;crop=faces&amp;w=1024&amp;h=576&amp;fit=crop&amp;v=1598970213&amp;auto=format&amp;frame=1&amp;q=92&amp;s=9dced1a05f94204e300359f8e009005f&quot;,&quot;1536x864&quot;:&quot;https://ksr-ugc.imgix.net/assets/030/430/650/11ba76c92273bc2e42839a635534a79c_original.jpg?ixlib=rb-2.1.0&amp;crop=faces&amp;w=1552&amp;h=873&amp;fit=crop&amp;v=1598970213&amp;auto=format&amp;frame=1&amp;q=92&amp;s=f82be576e76df5608458eb49756fd6fa&quot;},&quot;name&quot;:&quot;Shards of the Jaguar&quot;,&quot;blurb&quot;:&quot;Shards of the Jaguar is a \\&quot;dungeon-deduction\\&quot; game, where you play the heroes and the dungeon as well, by setting dangerous traps.&quot;,&quot;goal&quot;:20000.0,&quot;pledged&quot;:8480.0,&quot;state&quot;:&quot;live&quot;,&quot;slug&quot;:&quot;shards-of-the-jaguar&quot;,&quot;disable_communication&quot;:false,&quot;country&quot;:&quot;DE&quot;,&quot;country_displayable_name&quot;:&quot;Germany&quot;,&quot;currency&quot;:&quot;EUR&quot;,&quot;currency_symbol&quot;:&quot;€&quot;,&quot;currency_trailing_code&quot;:false,&quot;deadline&quot;:1601568728,&quot;state_changed_at&quot;:1598976729,&quot;created_at&quot;:1597925851,&quot;launched_at&quot;:1598976728,&quot;staff_pick&quot;:false,&quot;is_starrable&quot;:true,&quot;backers_count&quot;:177,&quot;static_usd_rate&quot;:1.19112989,&quot;usd_pledged&quot;:&quot;10100.7814672&quot;,&quot;converted_pledged_amount&quot;:10167,&quot;fx_rate&quot;:1.19895451,&quot;current_currency&quot;:&quot;USD&quot;,&quot;usd_type&quot;:&quot;domestic&quot;,&quot;creator&quot;:{&quot;id&quot;:2032511389,&quot;name&quot;:&quot;ClevergreenBoardGames&quot;,&quot;slug&quot;:&quot;shardsofthejaguar&quot;,&quot;is_registered&quot;:null,&quot;chosen_currency&quot;:null,&quot;is_superbacker&quot;:null,&quot;avatar&quot;:{&quot;thumb&quot;:&quot;https://ksr-ugc.imgix.net/assets/023/859/918/dcb5b0ca73ee9b58e3d47180bd942b9f_original.png?ixlib=rb-2.1.0&amp;w=40&amp;h=40&amp;fit=crop&amp;v=1548187528&amp;auto=format&amp;frame=1&amp;q=92&amp;s=64eeaf95d84de3635ca2628675c0297a&quot;,&quot;small&quot;:&quot;https://ksr-ugc.imgix.net/assets/023/859/918/dcb5b0ca73ee9b58e3d47180bd942b9f_original.png?ixlib=rb-2.1.0&amp;w=80&amp;h=80&amp;fit=crop&amp;v=1548187528&amp;auto=format&amp;frame=1&amp;q=92&amp;s=c90508b9aab1943dcdb9e9d46ee57ed8&quot;,&quot;medium&quot;:&quot;https://ksr-ugc.imgix.net/assets/023/859/918/dcb5b0ca73ee9b58e3d47180bd942b9f_original.png?ixlib=rb-2.1.0&amp;w=160&amp;h=160&amp;fit=crop&amp;v=1548187528&amp;auto=format&amp;frame=1&amp;q=92&amp;s=9657698400e4217516bc48a2cde32b3c&quot;},&quot;urls&quot;:{&quot;web&quot;:{&quot;user&quot;:&quot;https://www.kickstarter.com/profile/shardsofthejaguar&quot;},&quot;api&quot;:{&quot;user&quot;:&quot;https://api.kickstarter.com/v1/users/2032511389?signature=1599094294.bd4609f9eb93d229b7566844665b9992c0bbee65&quot;}}},&quot;location&quot;:{&quot;id&quot;:804365,&quot;name&quot;:&quot;Budapest&quot;,&quot;slug&quot;:&quot;budapest-hu&quot;,&quot;short_name&quot;:&quot;Budapest, Hungary&quot;,&quot;displayable_name&quot;:&quot;Budapest, Hungary&quot;,&quot;localized_name&quot;:&quot;Budapest&quot;,&quot;country&quot;:&quot;HU&quot;,&quot;state&quot;:&quot;Budapest&quot;,&quot;type&quot;:&quot;Town&quot;,&quot;is_root&quot;:false,&quot;expanded_country&quot;:&quot;Hungary&quot;,&quot;urls&quot;:{&quot;web&quot;:{&quot;discover&quot;:&quot;https://www.kickstarter.com/discover/places/budapest-hu&quot;,&quot;location&quot;:&quot;https://www.kickstarter.com/locations/budapest-hu&quot;},&quot;api&quot;:{&quot;nearby_projects&quot;:&quot;https://api.kickstarter.com/v1/discover?signature=1599055639.ca122753102f8097fc8d39e419ec73d2ce415d06&amp;woe_id=804365&quot;}}},&quot;category&quot;:{&quot;id&quot;:34,&quot;name&quot;:&quot;Tabletop Games&quot;,&quot;slug&quot;:&quot;games/tabletop games&quot;,&quot;position&quot;:6,&quot;parent_id&quot;:12,&quot;parent_name&quot;:&quot;Games&quot;,&quot;color&quot;:51627,&quot;urls&quot;:{&quot;web&quot;:{&quot;discover&quot;:&quot;http://www.kickstarter.com/discover/categories/games/tabletop%20games&quot;}}},&quot;profile&quot;:{&quot;id&quot;:4055673,&quot;project_id&quot;:4055673,&quot;state&quot;:&quot;inactive&quot;,&quot;state_changed_at&quot;:1597925851,&quot;name&quot;:null,&quot;blurb&quot;:null,&quot;background_color&quot;:null,&quot;text_color&quot;:null,&quot;link_background_color&quot;:null,&quot;link_text_color&quot;:null,&quot;link_text&quot;:null,&quot;link_url&quot;:null,&quot;show_feature_image&quot;:false,&quot;background_image_opacity&quot;:0.8,&quot;should_show_feature_image_section&quot;:true,&quot;feature_image_attributes&quot;:{&quot;image_urls&quot;:{&quot;default&quot;:&quot;https://ksr-ugc.imgix.net/assets/030/430/650/11ba76c92273bc2e42839a635534a79c_original.jpg?ixlib=rb-2.1.0&amp;crop=faces&amp;w=1552&amp;h=873&amp;fit=crop&amp;v=1598970213&amp;auto=format&amp;frame=1&amp;q=92&amp;s=f82be576e76df5608458eb49756fd6fa&quot;,&quot;baseball_card&quot;:&quot;https://ksr-ugc.imgix.net/assets/030/430/650/11ba76c92273bc2e42839a635534a79c_original.jpg?ixlib=rb-2.1.0&amp;crop=faces&amp;w=560&amp;h=315&amp;fit=crop&amp;v=1598970213&amp;auto=format&amp;frame=1&amp;q=92&amp;s=081c981e83b57449cb788214fc26394a&quot;}}},&quot;spotlight&quot;:false,&quot;urls&quot;:{&quot;web&quot;:{&quot;project&quot;:&quot;https://www.kickstarter.com/projects/shardsofthejaguar/shards-of-the-jaguar&quot;,&quot;rewards&quot;:&quot;https://www.kickstarter.com/projects/shardsofthejaguar/shards-of-the-jaguar/rewards&quot;}},&quot;percent_funded&quot;:42.4,&quot;is_liked&quot;:false,&quot;is_disliked&quot;:false}\" data-ref=\"discovery_category\" id=\"shards-of-the-jaguar\">\n",
      "<div><div class=\"js-track-project-card\" data-project_pid=\"\" data-weighted_score=\"\" data-raw_score=\"\" data-model_name=\"\" data-project_state=\"\" data-project_backers_count=\"\" data-project_percent_raised=\"\" data-project_pledged=\"\" data-user_is_backer=\"\" data-user_has_starred=\"\" data-reactroot=\"\"><div class=\"mb5\"><div class=\"bg-white black relative border-grey-500 border\"><div class=\"relative self-start\"><a class=\"block img-placeholder w100p\"><div class=\"img-placeholder bg-grey-400 absolute t0 w100p\"></div></a></div><div class=\"\"><div class=\"h20 pt4 px3 mb1px\"></div><div class=\"pb5-md pb4 pt3 px5-sm px4\"><div class=\"h20-sm pt1px\"></div></div></div></div></div></div>\n",
      "</div>\n",
      "</div>\n",
      "<div class=\"js-react-proj-card grid-col-12 grid-col-6-sm grid-col-4-lg\" data-pid=\"247444893\" data-project=\"{&quot;id&quot;:247444893,&quot;photo&quot;:{&quot;key&quot;:&quot;assets/030/002/964/5c491df00ecf296b28f3c7f8554e642a_original.jpg&quot;,&quot;full&quot;:&quot;https://ksr-ugc.imgix.net/assets/030/002/964/5c491df00ecf296b28f3c7f8554e642a_original.jpg?ixlib=rb-2.1.0&amp;crop=faces&amp;w=560&amp;h=315&amp;fit=crop&amp;v=1596077358&amp;auto=format&amp;frame=1&amp;q=92&amp;s=25a08485f8cff52529d73033d0d52419&quot;,&quot;ed&quot;:&quot;https://ksr-ugc.imgix.net/assets/030/002/964/5c491df00ecf296b28f3c7f8554e642a_original.jpg?ixlib=rb-2.1.0&amp;crop=faces&amp;w=352&amp;h=198&amp;fit=crop&amp;v=1596077358&amp;auto=format&amp;frame=1&amp;q=92&amp;s=782a266b51004080cb6f3f0897e4ff35&quot;,&quot;med&quot;:&quot;https://ksr-ugc.imgix.net/assets/030/002/964/5c491df00ecf296b28f3c7f8554e642a_original.jpg?ixlib=rb-2.1.0&amp;crop=faces&amp;w=272&amp;h=153&amp;fit=crop&amp;v=1596077358&amp;auto=format&amp;frame=1&amp;q=92&amp;s=5043f12bf0ab7b8ecf784ed30e6ad83d&quot;,&quot;little&quot;:&quot;https://ksr-ugc.imgix.net/assets/030/002/964/5c491df00ecf296b28f3c7f8554e642a_original.jpg?ixlib=rb-2.1.0&amp;crop=faces&amp;w=208&amp;h=117&amp;fit=crop&amp;v=1596077358&amp;auto=format&amp;frame=1&amp;q=92&amp;s=683538dac87e4dcb04358afcf4ee230d&quot;,&quot;small&quot;:&quot;https://ksr-ugc.imgix.net/assets/030/002/964/5c491df00ecf296b28f3c7f8554e642a_original.jpg?ixlib=rb-2.1.0&amp;crop=faces&amp;w=160&amp;h=90&amp;fit=crop&amp;v=1596077358&amp;auto=format&amp;frame=1&amp;q=92&amp;s=af23a44e6c5c94588f0fb6c6e7e0d2e7&quot;,&quot;thumb&quot;:&quot;https://ksr-ugc.imgix.net/assets/030/002/964/5c491df00ecf296b28f3c7f8554e642a_original.jpg?ixlib=rb-2.1.0&amp;crop=faces&amp;w=48&amp;h=27&amp;fit=crop&amp;v=1596077358&amp;auto=format&amp;frame=1&amp;q=92&amp;s=92d78e8e3cc3e9ba2563f1fe4ca4edd1&quot;,&quot;1024x576&quot;:&quot;https://ksr-ugc.imgix.net/assets/030/002/964/5c491df00ecf296b28f3c7f8554e642a_original.jpg?ixlib=rb-2.1.0&amp;crop=faces&amp;w=1024&amp;h=576&amp;fit=crop&amp;v=1596077358&amp;auto=format&amp;frame=1&amp;q=92&amp;s=0eb0ce41b7b20c3e068faaa2fcec74d7&quot;,&quot;1536x864&quot;:&quot;https://ksr-ugc.imgix.net/assets/030/002/964/5c491df00ecf296b28f3c7f8554e642a_original.jpg?ixlib=rb-2.1.0&amp;crop=faces&amp;w=1552&amp;h=873&amp;fit=crop&amp;v=1596077358&amp;auto=format&amp;frame=1&amp;q=92&amp;s=218c594d944c604f2d5a1b8ac6ed0b3a&quot;},&quot;name&quot;:&quot;\\&quot;IZAYOI\\&quot; Board game Made in Japan | 十六夜小町&quot;,&quot;blurb&quot;:&quot;As an artisan, collect beautiful wakomono(Japanese accessories), but don&#39;t outdo your master.\\nAn easy to play, yet strategic board game&quot;,&quot;goal&quot;:100000.0,&quot;pledged&quot;:1694314.0,&quot;state&quot;:&quot;live&quot;,&quot;slug&quot;:&quot;izayoi-board-game-made-in-japan&quot;,&quot;disable_communication&quot;:false,&quot;country&quot;:&quot;JP&quot;,&quot;country_displayable_name&quot;:&quot;Japan&quot;,&quot;currency&quot;:&quot;JPY&quot;,&quot;currency_symbol&quot;:&quot;¥&quot;,&quot;currency_trailing_code&quot;:false,&quot;deadline&quot;:1599818400,&quot;state_changed_at&quot;:1597744813,&quot;created_at&quot;:1593786675,&quot;launched_at&quot;:1597744810,&quot;staff_pick&quot;:true,&quot;is_starrable&quot;:true,&quot;backers_count&quot;:302,&quot;static_usd_rate&quot;:0.00938794,&quot;usd_pledged&quot;:&quot;15906.11817316&quot;,&quot;converted_pledged_amount&quot;:16032,&quot;fx_rate&quot;:0.0094628,&quot;current_currency&quot;:&quot;USD&quot;,&quot;usd_type&quot;:&quot;domestic&quot;,&quot;creator&quot;:{&quot;id&quot;:191229443,&quot;name&quot;:&quot;Nanatsumu&quot;,&quot;slug&quot;:&quot;nanatsumu&quot;,&quot;is_registered&quot;:null,&quot;chosen_currency&quot;:null,&quot;is_superbacker&quot;:null,&quot;avatar&quot;:{&quot;thumb&quot;:&quot;https://ksr-ugc.imgix.net/assets/029/693/781/cb1e4ae6a741a14c7a9d7b47ec527800_original.png?ixlib=rb-2.1.0&amp;w=40&amp;h=40&amp;fit=crop&amp;v=1593788111&amp;auto=format&amp;frame=1&amp;q=92&amp;s=7b4214cc15dd3f0175b8d84afae10cb6&quot;,&quot;small&quot;:&quot;https://ksr-ugc.imgix.net/assets/029/693/781/cb1e4ae6a741a14c7a9d7b47ec527800_original.png?ixlib=rb-2.1.0&amp;w=80&amp;h=80&amp;fit=crop&amp;v=1593788111&amp;auto=format&amp;frame=1&amp;q=92&amp;s=623037cdb550e0e67f3e8b6293b9ec21&quot;,&quot;medium&quot;:&quot;https://ksr-ugc.imgix.net/assets/029/693/781/cb1e4ae6a741a14c7a9d7b47ec527800_original.png?ixlib=rb-2.1.0&amp;w=160&amp;h=160&amp;fit=crop&amp;v=1593788111&amp;auto=format&amp;frame=1&amp;q=92&amp;s=fdad87010b3634ac11914d976409b65d&quot;},&quot;urls&quot;:{&quot;web&quot;:{&quot;user&quot;:&quot;https://www.kickstarter.com/profile/nanatsumu&quot;},&quot;api&quot;:{&quot;user&quot;:&quot;https://api.kickstarter.com/v1/users/191229443?signature=1599094294.052a21a67d04ae8cb8791f7fcc2332c0d0e77399&quot;}}},&quot;location&quot;:{&quot;id&quot;:1118370,&quot;name&quot;:&quot;Tokyo&quot;,&quot;slug&quot;:&quot;tokyo-jp&quot;,&quot;short_name&quot;:&quot;Tokyo, Japan&quot;,&quot;displayable_name&quot;:&quot;Tokyo, Japan&quot;,&quot;localized_name&quot;:&quot;Tokyo&quot;,&quot;country&quot;:&quot;JP&quot;,&quot;state&quot;:&quot;Tokyo Prefecture&quot;,&quot;type&quot;:&quot;Town&quot;,&quot;is_root&quot;:false,&quot;expanded_country&quot;:&quot;Japan&quot;,&quot;urls&quot;:{&quot;web&quot;:{&quot;discover&quot;:&quot;https://www.kickstarter.com/discover/places/tokyo-jp&quot;,&quot;location&quot;:&quot;https://www.kickstarter.com/locations/tokyo-jp&quot;},&quot;api&quot;:{&quot;nearby_projects&quot;:&quot;https://api.kickstarter.com/v1/discover?signature=1599052556.016fa5d658ba31cc3584fac20735f1e25aa4b050&amp;woe_id=1118370&quot;}}},&quot;category&quot;:{&quot;id&quot;:34,&quot;name&quot;:&quot;Tabletop Games&quot;,&quot;slug&quot;:&quot;games/tabletop games&quot;,&quot;position&quot;:6,&quot;parent_id&quot;:12,&quot;parent_name&quot;:&quot;Games&quot;,&quot;color&quot;:51627,&quot;urls&quot;:{&quot;web&quot;:{&quot;discover&quot;:&quot;http://www.kickstarter.com/discover/categories/games/tabletop%20games&quot;}}},&quot;profile&quot;:{&quot;id&quot;:4026409,&quot;project_id&quot;:4026409,&quot;state&quot;:&quot;inactive&quot;,&quot;state_changed_at&quot;:1593786675,&quot;name&quot;:null,&quot;blurb&quot;:null,&quot;background_color&quot;:null,&quot;text_color&quot;:null,&quot;link_background_color&quot;:null,&quot;link_text_color&quot;:null,&quot;link_text&quot;:null,&quot;link_url&quot;:null,&quot;show_feature_image&quot;:false,&quot;background_image_opacity&quot;:0.8,&quot;should_show_feature_image_section&quot;:true,&quot;feature_image_attributes&quot;:{&quot;image_urls&quot;:{&quot;default&quot;:&quot;https://ksr-ugc.imgix.net/assets/030/002/964/5c491df00ecf296b28f3c7f8554e642a_original.jpg?ixlib=rb-2.1.0&amp;crop=faces&amp;w=1552&amp;h=873&amp;fit=crop&amp;v=1596077358&amp;auto=format&amp;frame=1&amp;q=92&amp;s=218c594d944c604f2d5a1b8ac6ed0b3a&quot;,&quot;baseball_card&quot;:&quot;https://ksr-ugc.imgix.net/assets/030/002/964/5c491df00ecf296b28f3c7f8554e642a_original.jpg?ixlib=rb-2.1.0&amp;crop=faces&amp;w=560&amp;h=315&amp;fit=crop&amp;v=1596077358&amp;auto=format&amp;frame=1&amp;q=92&amp;s=25a08485f8cff52529d73033d0d52419&quot;}}},&quot;spotlight&quot;:false,&quot;urls&quot;:{&quot;web&quot;:{&quot;project&quot;:&quot;https://www.kickstarter.com/projects/nanatsumu/izayoi-board-game-made-in-japan&quot;,&quot;rewards&quot;:&quot;https://www.kickstarter.com/projects/nanatsumu/izayoi-board-game-made-in-japan/rewards&quot;}},&quot;percent_funded&quot;:1694.3139999999999,&quot;is_liked&quot;:false,&quot;is_disliked&quot;:false}\" data-ref=\"discovery_category\" id=\"izayoi-board-game-made-in-japan\">\n",
      "<div><div class=\"js-track-project-card\" data-project_pid=\"\" data-weighted_score=\"\" data-raw_score=\"\" data-model_name=\"\" data-project_state=\"\" data-project_backers_count=\"\" data-project_percent_raised=\"\" data-project_pledged=\"\" data-user_is_backer=\"\" data-user_has_starred=\"\" data-reactroot=\"\"><div class=\"mb5\"><div class=\"bg-white black relative border-grey-500 border\"><div class=\"relative self-start\"><a class=\"block img-placeholder w100p\"><div class=\"img-placeholder bg-grey-400 absolute t0 w100p\"></div></a></div><div class=\"\"><div class=\"h20 pt4 px3 mb1px\"></div><div class=\"pb5-md pb4 pt3 px5-sm px4\"><div class=\"h20-sm pt1px\"></div></div></div></div></div></div>\n",
      "</div>\n",
      "</div>\n",
      "<div class=\"js-react-proj-card grid-col-12 grid-col-6-sm grid-col-4-lg\" data-pid=\"2121462768\" data-project=\"{&quot;id&quot;:2121462768,&quot;photo&quot;:{&quot;key&quot;:&quot;assets/030/281/549/942c7f5f0b900f80f9110766dac81302_original.jpg&quot;,&quot;full&quot;:&quot;https://ksr-ugc.imgix.net/assets/030/281/549/942c7f5f0b900f80f9110766dac81302_original.jpg?ixlib=rb-2.1.0&amp;crop=faces&amp;w=560&amp;h=315&amp;fit=crop&amp;v=1597968650&amp;auto=format&amp;frame=1&amp;q=92&amp;s=5ae8b2250d68a8b12d53f4736f26a3e1&quot;,&quot;ed&quot;:&quot;https://ksr-ugc.imgix.net/assets/030/281/549/942c7f5f0b900f80f9110766dac81302_original.jpg?ixlib=rb-2.1.0&amp;crop=faces&amp;w=352&amp;h=198&amp;fit=crop&amp;v=1597968650&amp;auto=format&amp;frame=1&amp;q=92&amp;s=32a86cbba32864cee99deecfe726deb9&quot;,&quot;med&quot;:&quot;https://ksr-ugc.imgix.net/assets/030/281/549/942c7f5f0b900f80f9110766dac81302_original.jpg?ixlib=rb-2.1.0&amp;crop=faces&amp;w=272&amp;h=153&amp;fit=crop&amp;v=1597968650&amp;auto=format&amp;frame=1&amp;q=92&amp;s=5e75ef0f1f431dc6ddbae3c72516c3fb&quot;,&quot;little&quot;:&quot;https://ksr-ugc.imgix.net/assets/030/281/549/942c7f5f0b900f80f9110766dac81302_original.jpg?ixlib=rb-2.1.0&amp;crop=faces&amp;w=208&amp;h=117&amp;fit=crop&amp;v=1597968650&amp;auto=format&amp;frame=1&amp;q=92&amp;s=ccdf0dd10adc8997824d0a1abaf1f312&quot;,&quot;small&quot;:&quot;https://ksr-ugc.imgix.net/assets/030/281/549/942c7f5f0b900f80f9110766dac81302_original.jpg?ixlib=rb-2.1.0&amp;crop=faces&amp;w=160&amp;h=90&amp;fit=crop&amp;v=1597968650&amp;auto=format&amp;frame=1&amp;q=92&amp;s=ef620579808cdf361763c76aade28d73&quot;,&quot;thumb&quot;:&quot;https://ksr-ugc.imgix.net/assets/030/281/549/942c7f5f0b900f80f9110766dac81302_original.jpg?ixlib=rb-2.1.0&amp;crop=faces&amp;w=48&amp;h=27&amp;fit=crop&amp;v=1597968650&amp;auto=format&amp;frame=1&amp;q=92&amp;s=a267183be263ef42a7f8125d70f805bc&quot;,&quot;1024x576&quot;:&quot;https://ksr-ugc.imgix.net/assets/030/281/549/942c7f5f0b900f80f9110766dac81302_original.jpg?ixlib=rb-2.1.0&amp;crop=faces&amp;w=1024&amp;h=576&amp;fit=crop&amp;v=1597968650&amp;auto=format&amp;frame=1&amp;q=92&amp;s=c34a5a60939fdc340eca745a7dfcc1a0&quot;,&quot;1536x864&quot;:&quot;https://ksr-ugc.imgix.net/assets/030/281/549/942c7f5f0b900f80f9110766dac81302_original.jpg?ixlib=rb-2.1.0&amp;crop=faces&amp;w=1552&amp;h=873&amp;fit=crop&amp;v=1597968650&amp;auto=format&amp;frame=1&amp;q=92&amp;s=09b27715e6e3b6368509c20893cf72ab&quot;},&quot;name&quot;:&quot;Bosch Puzzle Playing Cards&quot;,&quot;blurb&quot;:&quot;Collector&#39;s edition Playing Cards &amp; puzzle inspired from the works of Hieronymus Bosch&quot;,&quot;goal&quot;:15300.0,&quot;pledged&quot;:34293.0,&quot;state&quot;:&quot;live&quot;,&quot;slug&quot;:&quot;bosch-playing-cards-0&quot;,&quot;disable_communication&quot;:false,&quot;country&quot;:&quot;US&quot;,&quot;country_displayable_name&quot;:&quot;the United States&quot;,&quot;currency&quot;:&quot;USD&quot;,&quot;currency_symbol&quot;:&quot;$&quot;,&quot;currency_trailing_code&quot;:true,&quot;deadline&quot;:1600788645,&quot;state_changed_at&quot;:1598023847,&quot;created_at&quot;:1589075271,&quot;launched_at&quot;:1598023845,&quot;staff_pick&quot;:false,&quot;is_starrable&quot;:true,&quot;backers_count&quot;:877,&quot;static_usd_rate&quot;:1.0,&quot;usd_pledged&quot;:&quot;34293.0&quot;,&quot;converted_pledged_amount&quot;:34293,&quot;fx_rate&quot;:1.0,&quot;current_currency&quot;:&quot;USD&quot;,&quot;usd_type&quot;:&quot;domestic&quot;,&quot;creator&quot;:{&quot;id&quot;:1573042635,&quot;name&quot;:&quot;Sunish Chabba&quot;,&quot;slug&quot;:&quot;sunishchabba&quot;,&quot;is_registered&quot;:null,&quot;chosen_currency&quot;:null,&quot;is_superbacker&quot;:null,&quot;avatar&quot;:{&quot;thumb&quot;:&quot;https://ksr-ugc.imgix.net/assets/008/775/557/7dfc2f19eaa84bf20aed160d38af3224_original.png?ixlib=rb-2.1.0&amp;w=40&amp;h=40&amp;fit=crop&amp;v=1546762247&amp;auto=format&amp;frame=1&amp;q=92&amp;s=3a0ff449b82792bec2f18131e6b1b859&quot;,&quot;small&quot;:&quot;https://ksr-ugc.imgix.net/assets/008/775/557/7dfc2f19eaa84bf20aed160d38af3224_original.png?ixlib=rb-2.1.0&amp;w=80&amp;h=80&amp;fit=crop&amp;v=1546762247&amp;auto=format&amp;frame=1&amp;q=92&amp;s=a5f6d0298662067dbfaacb4587b8406b&quot;,&quot;medium&quot;:&quot;https://ksr-ugc.imgix.net/assets/008/775/557/7dfc2f19eaa84bf20aed160d38af3224_original.png?ixlib=rb-2.1.0&amp;w=160&amp;h=160&amp;fit=crop&amp;v=1546762247&amp;auto=format&amp;frame=1&amp;q=92&amp;s=f61cb9c4b478c6167ca375af31071caa&quot;},&quot;urls&quot;:{&quot;web&quot;:{&quot;user&quot;:&quot;https://www.kickstarter.com/profile/sunishchabba&quot;},&quot;api&quot;:{&quot;user&quot;:&quot;https://api.kickstarter.com/v1/users/1573042635?signature=1599094294.7e75df8ce20f2875f578e3fee3acafac89809a6a&quot;}}},&quot;location&quot;:{&quot;id&quot;:2459115,&quot;name&quot;:&quot;New York&quot;,&quot;slug&quot;:&quot;new-york-ny&quot;,&quot;short_name&quot;:&quot;New York, NY&quot;,&quot;displayable_name&quot;:&quot;New York, NY&quot;,&quot;localized_name&quot;:&quot;New York&quot;,&quot;country&quot;:&quot;US&quot;,&quot;state&quot;:&quot;NY&quot;,&quot;type&quot;:&quot;Town&quot;,&quot;is_root&quot;:false,&quot;expanded_country&quot;:&quot;United States&quot;,&quot;urls&quot;:{&quot;web&quot;:{&quot;discover&quot;:&quot;https://www.kickstarter.com/discover/places/new-york-ny&quot;,&quot;location&quot;:&quot;https://www.kickstarter.com/locations/new-york-ny&quot;},&quot;api&quot;:{&quot;nearby_projects&quot;:&quot;https://api.kickstarter.com/v1/discover?signature=1599069070.dfe71f5e7884a903a9a468f8e1e03943e8b2c573&amp;woe_id=2459115&quot;}}},&quot;category&quot;:{&quot;id&quot;:273,&quot;name&quot;:&quot;Playing Cards&quot;,&quot;slug&quot;:&quot;games/playing cards&quot;,&quot;position&quot;:4,&quot;parent_id&quot;:12,&quot;parent_name&quot;:&quot;Games&quot;,&quot;color&quot;:51627,&quot;urls&quot;:{&quot;web&quot;:{&quot;discover&quot;:&quot;http://www.kickstarter.com/discover/categories/games/playing%20cards&quot;}}},&quot;profile&quot;:{&quot;id&quot;:3991676,&quot;project_id&quot;:3991676,&quot;state&quot;:&quot;inactive&quot;,&quot;state_changed_at&quot;:1589075271,&quot;name&quot;:null,&quot;blurb&quot;:null,&quot;background_color&quot;:null,&quot;text_color&quot;:null,&quot;link_background_color&quot;:null,&quot;link_text_color&quot;:null,&quot;link_text&quot;:null,&quot;link_url&quot;:null,&quot;show_feature_image&quot;:false,&quot;background_image_opacity&quot;:0.8,&quot;should_show_feature_image_section&quot;:true,&quot;feature_image_attributes&quot;:{&quot;image_urls&quot;:{&quot;default&quot;:&quot;https://ksr-ugc.imgix.net/assets/030/281/549/942c7f5f0b900f80f9110766dac81302_original.jpg?ixlib=rb-2.1.0&amp;crop=faces&amp;w=1552&amp;h=873&amp;fit=crop&amp;v=1597968650&amp;auto=format&amp;frame=1&amp;q=92&amp;s=09b27715e6e3b6368509c20893cf72ab&quot;,&quot;baseball_card&quot;:&quot;https://ksr-ugc.imgix.net/assets/030/281/549/942c7f5f0b900f80f9110766dac81302_original.jpg?ixlib=rb-2.1.0&amp;crop=faces&amp;w=560&amp;h=315&amp;fit=crop&amp;v=1597968650&amp;auto=format&amp;frame=1&amp;q=92&amp;s=5ae8b2250d68a8b12d53f4736f26a3e1&quot;}}},&quot;spotlight&quot;:false,&quot;urls&quot;:{&quot;web&quot;:{&quot;project&quot;:&quot;https://www.kickstarter.com/projects/sunishchabba/bosch-playing-cards-0&quot;,&quot;rewards&quot;:&quot;https://www.kickstarter.com/projects/sunishchabba/bosch-playing-cards-0/rewards&quot;}},&quot;percent_funded&quot;:224.13725490196077,&quot;is_liked&quot;:false,&quot;is_disliked&quot;:false}\" data-ref=\"discovery_category\" id=\"bosch-playing-cards-0\">\n",
      "<div><div class=\"js-track-project-card\" data-project_pid=\"\" data-weighted_score=\"\" data-raw_score=\"\" data-model_name=\"\" data-project_state=\"\" data-project_backers_count=\"\" data-project_percent_raised=\"\" data-project_pledged=\"\" data-user_is_backer=\"\" data-user_has_starred=\"\" data-reactroot=\"\"><div class=\"mb5\"><div class=\"bg-white black relative border-grey-500 border\"><div class=\"relative self-start\"><a class=\"block img-placeholder w100p\"><div class=\"img-placeholder bg-grey-400 absolute t0 w100p\"></div></a></div><div class=\"\"><div class=\"h20 pt4 px3 mb1px\"></div><div class=\"pb5-md pb4 pt3 px5-sm px4\"><div class=\"h20-sm pt1px\"></div></div></div></div></div></div>\n",
      "</div>\n",
      "</div>\n",
      "<div class=\"js-react-proj-card grid-col-12 grid-col-6-sm grid-col-4-lg\" data-pid=\"1495997252\" data-project=\"{&quot;id&quot;:1495997252,&quot;photo&quot;:{&quot;key&quot;:&quot;assets/030/063/557/1e8fd856267eb5e1c6df48208af3bc79_original.jpg&quot;,&quot;full&quot;:&quot;https://ksr-ugc.imgix.net/assets/030/063/557/1e8fd856267eb5e1c6df48208af3bc79_original.jpg?ixlib=rb-2.1.0&amp;crop=faces&amp;w=560&amp;h=315&amp;fit=crop&amp;v=1596528270&amp;auto=format&amp;frame=1&amp;q=92&amp;s=64718f972f8613bd2e34a35539dec99b&quot;,&quot;ed&quot;:&quot;https://ksr-ugc.imgix.net/assets/030/063/557/1e8fd856267eb5e1c6df48208af3bc79_original.jpg?ixlib=rb-2.1.0&amp;crop=faces&amp;w=352&amp;h=198&amp;fit=crop&amp;v=1596528270&amp;auto=format&amp;frame=1&amp;q=92&amp;s=9518999df5ded6f16ef5f8e91919ceb5&quot;,&quot;med&quot;:&quot;https://ksr-ugc.imgix.net/assets/030/063/557/1e8fd856267eb5e1c6df48208af3bc79_original.jpg?ixlib=rb-2.1.0&amp;crop=faces&amp;w=272&amp;h=153&amp;fit=crop&amp;v=1596528270&amp;auto=format&amp;frame=1&amp;q=92&amp;s=32a8f37d3086a42d6b0701a734e2d72c&quot;,&quot;little&quot;:&quot;https://ksr-ugc.imgix.net/assets/030/063/557/1e8fd856267eb5e1c6df48208af3bc79_original.jpg?ixlib=rb-2.1.0&amp;crop=faces&amp;w=208&amp;h=117&amp;fit=crop&amp;v=1596528270&amp;auto=format&amp;frame=1&amp;q=92&amp;s=cc77c6f88f38736af764d14243acab79&quot;,&quot;small&quot;:&quot;https://ksr-ugc.imgix.net/assets/030/063/557/1e8fd856267eb5e1c6df48208af3bc79_original.jpg?ixlib=rb-2.1.0&amp;crop=faces&amp;w=160&amp;h=90&amp;fit=crop&amp;v=1596528270&amp;auto=format&amp;frame=1&amp;q=92&amp;s=85e24713a77e55cde57c12de691b70e8&quot;,&quot;thumb&quot;:&quot;https://ksr-ugc.imgix.net/assets/030/063/557/1e8fd856267eb5e1c6df48208af3bc79_original.jpg?ixlib=rb-2.1.0&amp;crop=faces&amp;w=48&amp;h=27&amp;fit=crop&amp;v=1596528270&amp;auto=format&amp;frame=1&amp;q=92&amp;s=ddda5556e5da8973cd09c473885511b6&quot;,&quot;1024x576&quot;:&quot;https://ksr-ugc.imgix.net/assets/030/063/557/1e8fd856267eb5e1c6df48208af3bc79_original.jpg?ixlib=rb-2.1.0&amp;crop=faces&amp;w=1024&amp;h=576&amp;fit=crop&amp;v=1596528270&amp;auto=format&amp;frame=1&amp;q=92&amp;s=d377e388421182078b66ef0b77f57200&quot;,&quot;1536x864&quot;:&quot;https://ksr-ugc.imgix.net/assets/030/063/557/1e8fd856267eb5e1c6df48208af3bc79_original.jpg?ixlib=rb-2.1.0&amp;crop=faces&amp;w=1552&amp;h=873&amp;fit=crop&amp;v=1596528270&amp;auto=format&amp;frame=1&amp;q=92&amp;s=027b1c6c9e9ca990afb8ab2a2ead1a2d&quot;},&quot;name&quot;:&quot;The Hieronymus Bosch Tarot&quot;,&quot;blurb&quot;:&quot;A 78-card Tarot deck illustrated by Hieronymus Bosch.&quot;,&quot;goal&quot;:7500.0,&quot;pledged&quot;:42222.0,&quot;state&quot;:&quot;live&quot;,&quot;slug&quot;:&quot;the-hieronymus-bosch-tarot&quot;,&quot;disable_communication&quot;:false,&quot;country&quot;:&quot;US&quot;,&quot;country_displayable_name&quot;:&quot;the United States&quot;,&quot;currency&quot;:&quot;USD&quot;,&quot;currency_symbol&quot;:&quot;$&quot;,&quot;currency_trailing_code&quot;:true,&quot;deadline&quot;:1601139591,&quot;state_changed_at&quot;:1598547594,&quot;created_at&quot;:1595892589,&quot;launched_at&quot;:1598547591,&quot;staff_pick&quot;:true,&quot;is_starrable&quot;:true,&quot;backers_count&quot;:454,&quot;static_usd_rate&quot;:1.0,&quot;usd_pledged&quot;:&quot;42222.0&quot;,&quot;converted_pledged_amount&quot;:42222,&quot;fx_rate&quot;:1.0,&quot;current_currency&quot;:&quot;USD&quot;,&quot;usd_type&quot;:&quot;domestic&quot;,&quot;creator&quot;:{&quot;id&quot;:925889668,&quot;name&quot;:&quot;Travis McHenry&quot;,&quot;slug&quot;:&quot;travismchenry&quot;,&quot;is_registered&quot;:null,&quot;chosen_currency&quot;:null,&quot;is_superbacker&quot;:null,&quot;avatar&quot;:{&quot;thumb&quot;:&quot;https://ksr-ugc.imgix.net/assets/006/573/403/06ff5b94d7106cf58041478d06e852b0_original.jpg?ixlib=rb-2.1.0&amp;w=40&amp;h=40&amp;fit=crop&amp;v=1596585331&amp;auto=format&amp;frame=1&amp;q=92&amp;s=7cc209213dbbc00bf3915aa9b11a18b7&quot;,&quot;small&quot;:&quot;https://ksr-ugc.imgix.net/assets/006/573/403/06ff5b94d7106cf58041478d06e852b0_original.jpg?ixlib=rb-2.1.0&amp;w=80&amp;h=80&amp;fit=crop&amp;v=1596585331&amp;auto=format&amp;frame=1&amp;q=92&amp;s=53936c084ad86669e348be96e4fae327&quot;,&quot;medium&quot;:&quot;https://ksr-ugc.imgix.net/assets/006/573/403/06ff5b94d7106cf58041478d06e852b0_original.jpg?ixlib=rb-2.1.0&amp;w=160&amp;h=160&amp;fit=crop&amp;v=1596585331&amp;auto=format&amp;frame=1&amp;q=92&amp;s=4d59d95d00fa5b66c874181f2c8639d6&quot;},&quot;urls&quot;:{&quot;web&quot;:{&quot;user&quot;:&quot;https://www.kickstarter.com/profile/travismchenry&quot;},&quot;api&quot;:{&quot;user&quot;:&quot;https://api.kickstarter.com/v1/users/925889668?signature=1599094294.36743e624fc529ac1995c5fb93751b95758423f0&quot;}}},&quot;location&quot;:{&quot;id&quot;:2442047,&quot;name&quot;:&quot;Los Angeles&quot;,&quot;slug&quot;:&quot;los-angeles-ca&quot;,&quot;short_name&quot;:&quot;Los Angeles, CA&quot;,&quot;displayable_name&quot;:&quot;Los Angeles, CA&quot;,&quot;localized_name&quot;:&quot;Los Angeles&quot;,&quot;country&quot;:&quot;US&quot;,&quot;state&quot;:&quot;CA&quot;,&quot;type&quot;:&quot;Town&quot;,&quot;is_root&quot;:false,&quot;expanded_country&quot;:&quot;United States&quot;,&quot;urls&quot;:{&quot;web&quot;:{&quot;discover&quot;:&quot;https://www.kickstarter.com/discover/places/los-angeles-ca&quot;,&quot;location&quot;:&quot;https://www.kickstarter.com/locations/los-angeles-ca&quot;},&quot;api&quot;:{&quot;nearby_projects&quot;:&quot;https://api.kickstarter.com/v1/discover?signature=1599073694.11686089c448a5b90217b74ad13b1c050c312942&amp;woe_id=2442047&quot;}}},&quot;category&quot;:{&quot;id&quot;:273,&quot;name&quot;:&quot;Playing Cards&quot;,&quot;slug&quot;:&quot;games/playing cards&quot;,&quot;position&quot;:4,&quot;parent_id&quot;:12,&quot;parent_name&quot;:&quot;Games&quot;,&quot;color&quot;:51627,&quot;urls&quot;:{&quot;web&quot;:{&quot;discover&quot;:&quot;http://www.kickstarter.com/discover/categories/games/playing%20cards&quot;}}},&quot;profile&quot;:{&quot;id&quot;:4041433,&quot;project_id&quot;:4041433,&quot;state&quot;:&quot;inactive&quot;,&quot;state_changed_at&quot;:1595892589,&quot;name&quot;:null,&quot;blurb&quot;:null,&quot;background_color&quot;:null,&quot;text_color&quot;:null,&quot;link_background_color&quot;:null,&quot;link_text_color&quot;:null,&quot;link_text&quot;:null,&quot;link_url&quot;:null,&quot;show_feature_image&quot;:false,&quot;background_image_opacity&quot;:0.8,&quot;should_show_feature_image_section&quot;:true,&quot;feature_image_attributes&quot;:{&quot;image_urls&quot;:{&quot;default&quot;:&quot;https://ksr-ugc.imgix.net/assets/030/063/557/1e8fd856267eb5e1c6df48208af3bc79_original.jpg?ixlib=rb-2.1.0&amp;crop=faces&amp;w=1552&amp;h=873&amp;fit=crop&amp;v=1596528270&amp;auto=format&amp;frame=1&amp;q=92&amp;s=027b1c6c9e9ca990afb8ab2a2ead1a2d&quot;,&quot;baseball_card&quot;:&quot;https://ksr-ugc.imgix.net/assets/030/063/557/1e8fd856267eb5e1c6df48208af3bc79_original.jpg?ixlib=rb-2.1.0&amp;crop=faces&amp;w=560&amp;h=315&amp;fit=crop&amp;v=1596528270&amp;auto=format&amp;frame=1&amp;q=92&amp;s=64718f972f8613bd2e34a35539dec99b&quot;}}},&quot;spotlight&quot;:false,&quot;urls&quot;:{&quot;web&quot;:{&quot;project&quot;:&quot;https://www.kickstarter.com/projects/travismchenry/the-hieronymus-bosch-tarot&quot;,&quot;rewards&quot;:&quot;https://www.kickstarter.com/projects/travismchenry/the-hieronymus-bosch-tarot/rewards&quot;}},&quot;percent_funded&quot;:562.96,&quot;is_liked&quot;:false,&quot;is_disliked&quot;:false}\" data-ref=\"discovery_category\" id=\"the-hieronymus-bosch-tarot\">\n",
      "<div><div class=\"js-track-project-card\" data-project_pid=\"\" data-weighted_score=\"\" data-raw_score=\"\" data-model_name=\"\" data-project_state=\"\" data-project_backers_count=\"\" data-project_percent_raised=\"\" data-project_pledged=\"\" data-user_is_backer=\"\" data-user_has_starred=\"\" data-reactroot=\"\"><div class=\"mb5\"><div class=\"bg-white black relative border-grey-500 border\"><div class=\"relative self-start\"><a class=\"block img-placeholder w100p\"><div class=\"img-placeholder bg-grey-400 absolute t0 w100p\"></div></a></div><div class=\"\"><div class=\"h20 pt4 px3 mb1px\"></div><div class=\"pb5-md pb4 pt3 px5-sm px4\"><div class=\"h20-sm pt1px\"></div></div></div></div></div></div>\n",
      "</div>\n",
      "</div>\n",
      "<div class=\"js-react-proj-card grid-col-12 grid-col-6-sm grid-col-4-lg\" data-pid=\"1202019324\" data-project=\"{&quot;id&quot;:1202019324,&quot;photo&quot;:{&quot;key&quot;:&quot;assets/030/066/271/e09f9f85a681f4c0dcde6a05d68c01a1_original.jpg&quot;,&quot;full&quot;:&quot;https://ksr-ugc.imgix.net/assets/030/066/271/e09f9f85a681f4c0dcde6a05d68c01a1_original.jpg?ixlib=rb-2.1.0&amp;crop=faces&amp;w=560&amp;h=315&amp;fit=crop&amp;v=1596547372&amp;auto=format&amp;frame=1&amp;q=92&amp;s=c666ffc371a0934fa8cee55d0073dc97&quot;,&quot;ed&quot;:&quot;https://ksr-ugc.imgix.net/assets/030/066/271/e09f9f85a681f4c0dcde6a05d68c01a1_original.jpg?ixlib=rb-2.1.0&amp;crop=faces&amp;w=352&amp;h=198&amp;fit=crop&amp;v=1596547372&amp;auto=format&amp;frame=1&amp;q=92&amp;s=014423f7b339dd1fad7dedc645bdfc53&quot;,&quot;med&quot;:&quot;https://ksr-ugc.imgix.net/assets/030/066/271/e09f9f85a681f4c0dcde6a05d68c01a1_original.jpg?ixlib=rb-2.1.0&amp;crop=faces&amp;w=272&amp;h=153&amp;fit=crop&amp;v=1596547372&amp;auto=format&amp;frame=1&amp;q=92&amp;s=67197ec64b94dd87e80c5a1bd440970e&quot;,&quot;little&quot;:&quot;https://ksr-ugc.imgix.net/assets/030/066/271/e09f9f85a681f4c0dcde6a05d68c01a1_original.jpg?ixlib=rb-2.1.0&amp;crop=faces&amp;w=208&amp;h=117&amp;fit=crop&amp;v=1596547372&amp;auto=format&amp;frame=1&amp;q=92&amp;s=cb82720825fa8dab9734dd576409676a&quot;,&quot;small&quot;:&quot;https://ksr-ugc.imgix.net/assets/030/066/271/e09f9f85a681f4c0dcde6a05d68c01a1_original.jpg?ixlib=rb-2.1.0&amp;crop=faces&amp;w=160&amp;h=90&amp;fit=crop&amp;v=1596547372&amp;auto=format&amp;frame=1&amp;q=92&amp;s=ef63938cb534d09bf0a8696b416e7795&quot;,&quot;thumb&quot;:&quot;https://ksr-ugc.imgix.net/assets/030/066/271/e09f9f85a681f4c0dcde6a05d68c01a1_original.jpg?ixlib=rb-2.1.0&amp;crop=faces&amp;w=48&amp;h=27&amp;fit=crop&amp;v=1596547372&amp;auto=format&amp;frame=1&amp;q=92&amp;s=60fdf022fbf41413b503eb94b3da3253&quot;,&quot;1024x576&quot;:&quot;https://ksr-ugc.imgix.net/assets/030/066/271/e09f9f85a681f4c0dcde6a05d68c01a1_original.jpg?ixlib=rb-2.1.0&amp;crop=faces&amp;w=1024&amp;h=576&amp;fit=crop&amp;v=1596547372&amp;auto=format&amp;frame=1&amp;q=92&amp;s=fefc4b2689a5b4b2cfd675817d64fc3c&quot;,&quot;1536x864&quot;:&quot;https://ksr-ugc.imgix.net/assets/030/066/271/e09f9f85a681f4c0dcde6a05d68c01a1_original.jpg?ixlib=rb-2.1.0&amp;crop=faces&amp;w=1552&amp;h=873&amp;fit=crop&amp;v=1596547372&amp;auto=format&amp;frame=1&amp;q=92&amp;s=5916c2e1e467458e15f087cb994cad9c&quot;},&quot;name&quot;:&quot;The Mystery Agency&quot;,&quot;blurb&quot;:&quot;A brand new collection of mystery puzzle experiences. Find the clues, piece together the story and solve the mystery.&quot;,&quot;goal&quot;:75550.0,&quot;pledged&quot;:52374.0,&quot;state&quot;:&quot;live&quot;,&quot;slug&quot;:&quot;the-mystery-agency&quot;,&quot;disable_communication&quot;:false,&quot;country&quot;:&quot;GB&quot;,&quot;country_displayable_name&quot;:&quot;the United Kingdom&quot;,&quot;currency&quot;:&quot;GBP&quot;,&quot;currency_symbol&quot;:&quot;£&quot;,&quot;currency_trailing_code&quot;:false,&quot;deadline&quot;:1600426205,&quot;state_changed_at&quot;:1597834206,&quot;created_at&quot;:1595951766,&quot;launched_at&quot;:1597834205,&quot;staff_pick&quot;:true,&quot;is_starrable&quot;:true,&quot;backers_count&quot;:649,&quot;static_usd_rate&quot;:1.31289937,&quot;usd_pledged&quot;:&quot;68761.79160438&quot;,&quot;converted_pledged_amount&quot;:70224,&quot;fx_rate&quot;:1.34083126,&quot;current_currency&quot;:&quot;USD&quot;,&quot;usd_type&quot;:&quot;domestic&quot;,&quot;creator&quot;:{&quot;id&quot;:682540535,&quot;name&quot;:&quot;Henry Lewis&quot;,&quot;slug&quot;:&quot;themysteryagency&quot;,&quot;is_registered&quot;:null,&quot;chosen_currency&quot;:null,&quot;is_superbacker&quot;:null,&quot;avatar&quot;:{&quot;thumb&quot;:&quot;https://ksr-ugc.imgix.net/assets/030/082/678/a494dbe11169829ab7e538e543af4eb8_original.png?ixlib=rb-2.1.0&amp;w=40&amp;h=40&amp;fit=crop&amp;v=1596645667&amp;auto=format&amp;frame=1&amp;q=92&amp;s=8fe3974a7912903623bfa3367a37a465&quot;,&quot;small&quot;:&quot;https://ksr-ugc.imgix.net/assets/030/082/678/a494dbe11169829ab7e538e543af4eb8_original.png?ixlib=rb-2.1.0&amp;w=80&amp;h=80&amp;fit=crop&amp;v=1596645667&amp;auto=format&amp;frame=1&amp;q=92&amp;s=2e30e2a6b340b0305acf684ef110ddf4&quot;,&quot;medium&quot;:&quot;https://ksr-ugc.imgix.net/assets/030/082/678/a494dbe11169829ab7e538e543af4eb8_original.png?ixlib=rb-2.1.0&amp;w=160&amp;h=160&amp;fit=crop&amp;v=1596645667&amp;auto=format&amp;frame=1&amp;q=92&amp;s=2270ed1bc2f984ddc32c973567fac39e&quot;},&quot;urls&quot;:{&quot;web&quot;:{&quot;user&quot;:&quot;https://www.kickstarter.com/profile/themysteryagency&quot;},&quot;api&quot;:{&quot;user&quot;:&quot;https://api.kickstarter.com/v1/users/682540535?signature=1599094294.2a29fdee694f70d7ec5764ef32e02fe4d97a3a81&quot;}}},&quot;location&quot;:{&quot;id&quot;:44418,&quot;name&quot;:&quot;London&quot;,&quot;slug&quot;:&quot;london-gb&quot;,&quot;short_name&quot;:&quot;London, UK&quot;,&quot;displayable_name&quot;:&quot;London, UK&quot;,&quot;localized_name&quot;:&quot;London&quot;,&quot;country&quot;:&quot;GB&quot;,&quot;state&quot;:&quot;England&quot;,&quot;type&quot;:&quot;Town&quot;,&quot;is_root&quot;:false,&quot;expanded_country&quot;:&quot;United Kingdom&quot;,&quot;urls&quot;:{&quot;web&quot;:{&quot;discover&quot;:&quot;https://www.kickstarter.com/discover/places/london-gb&quot;,&quot;location&quot;:&quot;https://www.kickstarter.com/locations/london-gb&quot;},&quot;api&quot;:{&quot;nearby_projects&quot;:&quot;https://api.kickstarter.com/v1/discover?signature=1599052532.e35da10a73327ad9df91420a968fb5205aaa9769&amp;woe_id=44418&quot;}}},&quot;category&quot;:{&quot;id&quot;:274,&quot;name&quot;:&quot;Puzzles&quot;,&quot;slug&quot;:&quot;games/puzzles&quot;,&quot;position&quot;:5,&quot;parent_id&quot;:12,&quot;parent_name&quot;:&quot;Games&quot;,&quot;color&quot;:51627,&quot;urls&quot;:{&quot;web&quot;:{&quot;discover&quot;:&quot;http://www.kickstarter.com/discover/categories/games/puzzles&quot;}}},&quot;profile&quot;:{&quot;id&quot;:4041873,&quot;project_id&quot;:4041873,&quot;state&quot;:&quot;inactive&quot;,&quot;state_changed_at&quot;:1595951766,&quot;name&quot;:null,&quot;blurb&quot;:null,&quot;background_color&quot;:null,&quot;text_color&quot;:null,&quot;link_background_color&quot;:null,&quot;link_text_color&quot;:null,&quot;link_text&quot;:null,&quot;link_url&quot;:null,&quot;show_feature_image&quot;:false,&quot;background_image_opacity&quot;:0.8,&quot;should_show_feature_image_section&quot;:true,&quot;feature_image_attributes&quot;:{&quot;image_urls&quot;:{&quot;default&quot;:&quot;https://ksr-ugc.imgix.net/assets/030/066/271/e09f9f85a681f4c0dcde6a05d68c01a1_original.jpg?ixlib=rb-2.1.0&amp;crop=faces&amp;w=1552&amp;h=873&amp;fit=crop&amp;v=1596547372&amp;auto=format&amp;frame=1&amp;q=92&amp;s=5916c2e1e467458e15f087cb994cad9c&quot;,&quot;baseball_card&quot;:&quot;https://ksr-ugc.imgix.net/assets/030/066/271/e09f9f85a681f4c0dcde6a05d68c01a1_original.jpg?ixlib=rb-2.1.0&amp;crop=faces&amp;w=560&amp;h=315&amp;fit=crop&amp;v=1596547372&amp;auto=format&amp;frame=1&amp;q=92&amp;s=c666ffc371a0934fa8cee55d0073dc97&quot;}}},&quot;spotlight&quot;:false,&quot;urls&quot;:{&quot;web&quot;:{&quot;project&quot;:&quot;https://www.kickstarter.com/projects/themysteryagency/the-mystery-agency&quot;,&quot;rewards&quot;:&quot;https://www.kickstarter.com/projects/themysteryagency/the-mystery-agency/rewards&quot;}},&quot;percent_funded&quot;:69.32362673726008,&quot;is_liked&quot;:false,&quot;is_disliked&quot;:false}\" data-ref=\"discovery_category\" id=\"the-mystery-agency\">\n",
      "<div><div class=\"js-track-project-card\" data-project_pid=\"\" data-weighted_score=\"\" data-raw_score=\"\" data-model_name=\"\" data-project_state=\"\" data-project_backers_count=\"\" data-project_percent_raised=\"\" data-project_pledged=\"\" data-user_is_backer=\"\" data-user_has_starred=\"\" data-reactroot=\"\"><div class=\"mb5\"><div class=\"bg-white black relative border-grey-500 border\"><div class=\"relative self-start\"><a class=\"block img-placeholder w100p\"><div class=\"img-placeholder bg-grey-400 absolute t0 w100p\"></div></a></div><div class=\"\"><div class=\"h20 pt4 px3 mb1px\"></div><div class=\"pb5-md pb4 pt3 px5-sm px4\"><div class=\"h20-sm pt1px\"></div></div></div></div></div></div>\n",
      "</div>\n",
      "</div>\n",
      "<div class=\"js-react-proj-card grid-col-12 grid-col-6-sm grid-col-4-lg\" data-pid=\"1949222254\" data-project=\"{&quot;id&quot;:1949222254,&quot;photo&quot;:{&quot;key&quot;:&quot;assets/030/373/931/d2eae8f7935a64286e87efad135779bc_original.png&quot;,&quot;full&quot;:&quot;https://ksr-ugc.imgix.net/assets/030/373/931/d2eae8f7935a64286e87efad135779bc_original.png?ixlib=rb-2.1.0&amp;crop=faces&amp;w=560&amp;h=315&amp;fit=crop&amp;v=1598577375&amp;auto=format&amp;frame=1&amp;q=92&amp;s=8163b8504094494f2b34b5c16ced0f59&quot;,&quot;ed&quot;:&quot;https://ksr-ugc.imgix.net/assets/030/373/931/d2eae8f7935a64286e87efad135779bc_original.png?ixlib=rb-2.1.0&amp;crop=faces&amp;w=352&amp;h=198&amp;fit=crop&amp;v=1598577375&amp;auto=format&amp;frame=1&amp;q=92&amp;s=db8c53f9c6d0df2be291347f970716e1&quot;,&quot;med&quot;:&quot;https://ksr-ugc.imgix.net/assets/030/373/931/d2eae8f7935a64286e87efad135779bc_original.png?ixlib=rb-2.1.0&amp;crop=faces&amp;w=272&amp;h=153&amp;fit=crop&amp;v=1598577375&amp;auto=format&amp;frame=1&amp;q=92&amp;s=be230836b7f7f3b78c1f5ae7fc3e15b7&quot;,&quot;little&quot;:&quot;https://ksr-ugc.imgix.net/assets/030/373/931/d2eae8f7935a64286e87efad135779bc_original.png?ixlib=rb-2.1.0&amp;crop=faces&amp;w=208&amp;h=117&amp;fit=crop&amp;v=1598577375&amp;auto=format&amp;frame=1&amp;q=92&amp;s=916480b7b55cdb7907c01805e442e114&quot;,&quot;small&quot;:&quot;https://ksr-ugc.imgix.net/assets/030/373/931/d2eae8f7935a64286e87efad135779bc_original.png?ixlib=rb-2.1.0&amp;crop=faces&amp;w=160&amp;h=90&amp;fit=crop&amp;v=1598577375&amp;auto=format&amp;frame=1&amp;q=92&amp;s=aea92e6dd5ec3235fb29b80ec9d26c80&quot;,&quot;thumb&quot;:&quot;https://ksr-ugc.imgix.net/assets/030/373/931/d2eae8f7935a64286e87efad135779bc_original.png?ixlib=rb-2.1.0&amp;crop=faces&amp;w=48&amp;h=27&amp;fit=crop&amp;v=1598577375&amp;auto=format&amp;frame=1&amp;q=92&amp;s=3b6b3d6f0d003b0ec78089f9d6b377c7&quot;,&quot;1024x576&quot;:&quot;https://ksr-ugc.imgix.net/assets/030/373/931/d2eae8f7935a64286e87efad135779bc_original.png?ixlib=rb-2.1.0&amp;crop=faces&amp;w=1024&amp;h=576&amp;fit=crop&amp;v=1598577375&amp;auto=format&amp;frame=1&amp;q=92&amp;s=530e4b3a7e6ebb1cfd4286a87e2caf18&quot;,&quot;1536x864&quot;:&quot;https://ksr-ugc.imgix.net/assets/030/373/931/d2eae8f7935a64286e87efad135779bc_original.png?ixlib=rb-2.1.0&amp;crop=faces&amp;w=1552&amp;h=873&amp;fit=crop&amp;v=1598577375&amp;auto=format&amp;frame=1&amp;q=92&amp;s=38ae724178f01fde9f17e73d26b673e8&quot;},&quot;name&quot;:&quot;Plantopia: The Card Game&quot;,&quot;blurb&quot;:&quot;A strategic card game based on the wonderful and wacky world of Life of a Potato.&quot;,&quot;goal&quot;:5000.0,&quot;pledged&quot;:54220.0,&quot;state&quot;:&quot;live&quot;,&quot;slug&quot;:&quot;plantopia-the-card-game&quot;,&quot;disable_communication&quot;:false,&quot;country&quot;:&quot;SG&quot;,&quot;country_displayable_name&quot;:&quot;Singapore&quot;,&quot;currency&quot;:&quot;SGD&quot;,&quot;currency_symbol&quot;:&quot;$&quot;,&quot;currency_trailing_code&quot;:true,&quot;deadline&quot;:1600693151,&quot;state_changed_at&quot;:1598533153,&quot;created_at&quot;:1596381088,&quot;launched_at&quot;:1598533151,&quot;staff_pick&quot;:false,&quot;is_starrable&quot;:true,&quot;backers_count&quot;:1473,&quot;static_usd_rate&quot;:0.73074416,&quot;usd_pledged&quot;:&quot;39620.9483552&quot;,&quot;converted_pledged_amount&quot;:39953,&quot;fx_rate&quot;:0.73688492,&quot;current_currency&quot;:&quot;USD&quot;,&quot;usd_type&quot;:&quot;domestic&quot;,&quot;creator&quot;:{&quot;id&quot;:179994727,&quot;name&quot;:&quot;Origame&quot;,&quot;slug&quot;:&quot;origame&quot;,&quot;is_registered&quot;:null,&quot;chosen_currency&quot;:null,&quot;is_superbacker&quot;:null,&quot;avatar&quot;:{&quot;thumb&quot;:&quot;https://ksr-ugc.imgix.net/assets/030/041/809/27f7c597144392feca4cf89feb2daf6e_original.jpeg?ixlib=rb-2.1.0&amp;w=40&amp;h=40&amp;fit=crop&amp;v=1596381296&amp;auto=format&amp;frame=1&amp;q=92&amp;s=902e5d428a09072bf8acf6a73f9bec57&quot;,&quot;small&quot;:&quot;https://ksr-ugc.imgix.net/assets/030/041/809/27f7c597144392feca4cf89feb2daf6e_original.jpeg?ixlib=rb-2.1.0&amp;w=80&amp;h=80&amp;fit=crop&amp;v=1596381296&amp;auto=format&amp;frame=1&amp;q=92&amp;s=e5c985b6d16330a8dbae739011f9af29&quot;,&quot;medium&quot;:&quot;https://ksr-ugc.imgix.net/assets/030/041/809/27f7c597144392feca4cf89feb2daf6e_original.jpeg?ixlib=rb-2.1.0&amp;w=160&amp;h=160&amp;fit=crop&amp;v=1596381296&amp;auto=format&amp;frame=1&amp;q=92&amp;s=3b15ad602e71bac1b16f0548d5d2adc0&quot;},&quot;urls&quot;:{&quot;web&quot;:{&quot;user&quot;:&quot;https://www.kickstarter.com/profile/origame&quot;},&quot;api&quot;:{&quot;user&quot;:&quot;https://api.kickstarter.com/v1/users/179994727?signature=1599094294.34534fc3ea0a49b096bdd5234e60f48fc04367ff&quot;}}},&quot;location&quot;:{&quot;id&quot;:1062617,&quot;name&quot;:&quot;Singapore&quot;,&quot;slug&quot;:&quot;singapore-sg&quot;,&quot;short_name&quot;:&quot;Singapore, Singapore&quot;,&quot;displayable_name&quot;:&quot;Singapore, Singapore&quot;,&quot;localized_name&quot;:&quot;Singapore&quot;,&quot;country&quot;:&quot;SG&quot;,&quot;state&quot;:&quot;Central Singapore&quot;,&quot;type&quot;:&quot;Town&quot;,&quot;is_root&quot;:false,&quot;expanded_country&quot;:&quot;Singapore&quot;,&quot;urls&quot;:{&quot;web&quot;:{&quot;discover&quot;:&quot;https://www.kickstarter.com/discover/places/singapore-sg&quot;,&quot;location&quot;:&quot;https://www.kickstarter.com/locations/singapore-sg&quot;},&quot;api&quot;:{&quot;nearby_projects&quot;:&quot;https://api.kickstarter.com/v1/discover?signature=1599052573.7787d6950d6a9532235cf7af3e36d32e3790a449&amp;woe_id=1062617&quot;}}},&quot;category&quot;:{&quot;id&quot;:34,&quot;name&quot;:&quot;Tabletop Games&quot;,&quot;slug&quot;:&quot;games/tabletop games&quot;,&quot;position&quot;:6,&quot;parent_id&quot;:12,&quot;parent_name&quot;:&quot;Games&quot;,&quot;color&quot;:51627,&quot;urls&quot;:{&quot;web&quot;:{&quot;discover&quot;:&quot;http://www.kickstarter.com/discover/categories/games/tabletop%20games&quot;}}},&quot;profile&quot;:{&quot;id&quot;:4044788,&quot;project_id&quot;:4044788,&quot;state&quot;:&quot;inactive&quot;,&quot;state_changed_at&quot;:1596381088,&quot;name&quot;:null,&quot;blurb&quot;:null,&quot;background_color&quot;:null,&quot;text_color&quot;:null,&quot;link_background_color&quot;:null,&quot;link_text_color&quot;:null,&quot;link_text&quot;:null,&quot;link_url&quot;:null,&quot;show_feature_image&quot;:false,&quot;background_image_opacity&quot;:0.8,&quot;should_show_feature_image_section&quot;:true,&quot;feature_image_attributes&quot;:{&quot;image_urls&quot;:{&quot;default&quot;:&quot;https://ksr-ugc.imgix.net/assets/030/373/931/d2eae8f7935a64286e87efad135779bc_original.png?ixlib=rb-2.1.0&amp;crop=faces&amp;w=1552&amp;h=873&amp;fit=crop&amp;v=1598577375&amp;auto=format&amp;frame=1&amp;q=92&amp;s=38ae724178f01fde9f17e73d26b673e8&quot;,&quot;baseball_card&quot;:&quot;https://ksr-ugc.imgix.net/assets/030/373/931/d2eae8f7935a64286e87efad135779bc_original.png?ixlib=rb-2.1.0&amp;crop=faces&amp;w=560&amp;h=315&amp;fit=crop&amp;v=1598577375&amp;auto=format&amp;frame=1&amp;q=92&amp;s=8163b8504094494f2b34b5c16ced0f59&quot;}}},&quot;spotlight&quot;:false,&quot;urls&quot;:{&quot;web&quot;:{&quot;project&quot;:&quot;https://www.kickstarter.com/projects/origame/plantopia-the-card-game&quot;,&quot;rewards&quot;:&quot;https://www.kickstarter.com/projects/origame/plantopia-the-card-game/rewards&quot;}},&quot;percent_funded&quot;:1084.3999999999999,&quot;is_liked&quot;:false,&quot;is_disliked&quot;:false}\" data-ref=\"discovery_category\" id=\"plantopia-the-card-game\">\n",
      "<div><div class=\"js-track-project-card\" data-project_pid=\"\" data-weighted_score=\"\" data-raw_score=\"\" data-model_name=\"\" data-project_state=\"\" data-project_backers_count=\"\" data-project_percent_raised=\"\" data-project_pledged=\"\" data-user_is_backer=\"\" data-user_has_starred=\"\" data-reactroot=\"\"><div class=\"mb5\"><div class=\"bg-white black relative border-grey-500 border\"><div class=\"relative self-start\"><a class=\"block img-placeholder w100p\"><div class=\"img-placeholder bg-grey-400 absolute t0 w100p\"></div></a></div><div class=\"\"><div class=\"h20 pt4 px3 mb1px\"></div><div class=\"pb5-md pb4 pt3 px5-sm px4\"><div class=\"h20-sm pt1px\"></div></div></div></div></div></div>\n",
      "</div>\n",
      "</div>\n",
      "</div>\n",
      "</div>\n",
      "</div>\n",
      "<div class=\"load_more mt3\">\n",
      "<a class=\"bttn bttn-green bttn-medium\" href=\"#\" role=\"button\">\n",
      "<span id=\"text\">\n",
      "Load more\n",
      "</span>\n",
      "<svg aria-hidden class=\"hide svg-icon__icon--circle-loader icon-large\" id=\"spinner\">\n",
      "<use xlink:href=\"#icon--circle-loader\"></use>\n",
      "</svg>\n",
      "</a>\n",
      "</div>\n",
      "</section>\n",
      "<section class=\"NS_discover__spotlight_projects bg-grey-dark pb10-sm pb3 pt10-sm pt3 spotlight-projects-play\">\n",
      "<div class=\"spotlight-projects-overlay\"></div>\n",
      "<div class=\"container-flex px3 py3 relative\">\n",
      "<h3 class=\"spotlight-projects-headline center normal mb3 mb7-sm\">Over 200 games made with Kickstarter, now available on Steam</h3>\n",
      "<div class=\"row mobile-hide\">\n",
      "<div class=\"center col col-6\">\n",
      "<div class=\"NS_discover__spotlight_project\">\n",
      "<div class=\"feature-image mb3\">\n",
      "<img class=\"fit border-box block\" src=\"https://ksr-ugc.imgix.net/assets/028/218/187/2a78457d2b012dc2d9188b0bc3e75f08_original.jpg?ixlib=rb-2.1.0&amp;w=700&amp;fit=max&amp;v=1582646817&amp;auto=format&amp;frame=1&amp;q=92&amp;s=eff3aae17eb8cf78688152c0ac465038\" alt=\"2a78457d2b012dc2d9188b0bc3e75f08 original.jpg?ixlib=rb 2.1\" />\n",
      "</div>\n",
      "<p class=\"small_type\">\n",
      "1,818 people backed this\n",
      "</p>\n",
      "</div>\n",
      "\n",
      "</div>\n",
      "<div class=\"center col col-6\">\n",
      "<div class=\"NS_discover__spotlight_project\">\n",
      "<div class=\"feature-image mb3\">\n",
      "<img class=\"fit border-box block\" src=\"https://ksr-ugc.imgix.net/assets/028/053/263/186959c46639782cad0b38e584adaf45_original.jpg?ixlib=rb-2.1.0&amp;w=700&amp;fit=max&amp;v=1581440572&amp;auto=format&amp;frame=1&amp;q=92&amp;s=343a84fa712571223854b36a9b5e65fb\" alt=\"186959c46639782cad0b38e584adaf45 original.jpg?ixlib=rb 2.1\" />\n",
      "</div>\n",
      "<p class=\"small_type\">\n",
      "316 people backed this\n",
      "</p>\n",
      "</div>\n",
      "\n",
      "</div>\n",
      "</div>\n",
      "<div class=\"center pt3 pt7-sm\">\n",
      "<a class=\"btn btn--green\" href=\"https://www.kickstarter.com/play?ref=category_spotlight\">\n",
      "Play now\n",
      "</a>\n",
      "</div>\n",
      "</div>\n",
      "</section>\n",
      "\n",
      "</section>\n",
      "\n",
      "</div>\n",
      "</main>\n",
      "<div data=\"{&quot;sections&quot;:[{&quot;name&quot;:&quot;Arts&quot;,&quot;path&quot;:&quot;/arts&quot;},{&quot;name&quot;:&quot;Comics &amp; Illustration&quot;,&quot;path&quot;:&quot;/comics-illustration&quot;},{&quot;name&quot;:&quot;Design &amp; Tech&quot;,&quot;path&quot;:&quot;/design-tech&quot;},{&quot;name&quot;:&quot;Film&quot;,&quot;path&quot;:&quot;/film&quot;},{&quot;name&quot;:&quot;Food &amp; Craft&quot;,&quot;path&quot;:&quot;/food-craft&quot;},{&quot;name&quot;:&quot;Games&quot;,&quot;path&quot;:&quot;/games&quot;},{&quot;name&quot;:&quot;Music&quot;,&quot;path&quot;:&quot;/music&quot;},{&quot;name&quot;:&quot;Publishing&quot;,&quot;path&quot;:&quot;/publishing&quot;}],&quot;currencies&quot;:[[&quot;€  Euro   (EUR)&quot;,&quot;EUR&quot;],[&quot;$  Australian Dollar   (AUD)&quot;,&quot;AUD&quot;],[&quot;$  Canadian Dollar   (CAD)&quot;,&quot;CAD&quot;],[&quot;Fr   Swiss Franc   (CHF)&quot;,&quot;CHF&quot;],[&quot;kr  Danish Krone   (DKK)&quot;,&quot;DKK&quot;],[&quot;£  Pound Sterling   (GBP)&quot;,&quot;GBP&quot;],[&quot;$  Hong Kong Dollar   (HKD)&quot;,&quot;HKD&quot;],[&quot;¥  Japanese Yen   (JPY)&quot;,&quot;JPY&quot;],[&quot;$  Mexican Peso   (MXN)&quot;,&quot;MXN&quot;],[&quot;kr  Norwegian Krone   (NOK)&quot;,&quot;NOK&quot;],[&quot;$  New Zealand Dollar   (NZD)&quot;,&quot;NZD&quot;],[&quot;kr  Swedish Krona   (SEK)&quot;,&quot;SEK&quot;],[&quot;$  Singapore Dollar   (SGD)&quot;,&quot;SGD&quot;],[&quot;$  US Dollar   (USD)&quot;,&quot;USD&quot;]],&quot;current_currency&quot;:&quot;USD&quot;}\" id=\"global-footer\"></div>\n",
      "<script>\n",
      "  try{(function(i,s,o,g,r,a,m){i['GoogleAnalyticsObject']=r;i[r]=i[r]||function(){\n",
      "  (i[r].q=i[r].q||[]).push(arguments)},i[r].l=1*new Date();a=s.createElement(o),\n",
      "  m=s.getElementsByTagName(o)[0];a.async=1;a.src=g;m.parentNode.insertBefore(a,m)\n",
      "  })(window,document,'script','https://www.google-analytics.com/analytics.js','ga');}catch(e){}\n",
      "  \n",
      "  var analytics_vars = {\n",
      "    google_analytics_id : \"UA-7621056-1\",\n",
      "    logged_in : \"false\",\n",
      "    social_user: \"false\"\n",
      "  }\n",
      "</script>\n",
      "\n",
      "<script>\n",
      "  window.koala_endpoint = 'https://ev.kck.st/web/track';\n",
      "  window.koala_debug = false;\n",
      "</script>\n",
      "\n",
      "<script>\n",
      "  window.tracking_events_stream = 'dl-events'\n",
      "  window.tracking_events_url = 'https://st.ksr.io'\n",
      "</script>\n",
      "\n",
      "\n",
      "<script>\n",
      "  var root = root || window;\n",
      "  window.benchmark = (typeof window.performance == 'object' && typeof window.performance.mark == 'function');\n",
      "</script>\n",
      "<script class=\"template\" type=\"text/x-tmpl-mustache\" id=\"template-projects__baseball_card_grid\">{{#projects}}\n",
      "  <div class=\"row\">\n",
      "    {{#.}}\n",
      "      <div class=\"col {{columnClass}}\">\n",
      "        {{>projects/_baseball_card_tall}}\n",
      "      </div>\n",
      "    {{/.}}\n",
      "  </div>\n",
      "{{/projects}}\n",
      "</script><script class=\"template\" type=\"text/x-tmpl-mustache\" id=\"template-discover__project_baseball_card_li\"><li class=\"project col col-3 mb3 mb7-sm\">\n",
      "  {{>projects/_baseball_card_tall}}\n",
      "</li>\n",
      "</script><script class=\"template\" type=\"text/x-tmpl-mustache\" id=\"template-projects__baseball_card_tall\">{{#spotlight}}\n",
      "  {{>projects/_baseball_card_tall_spotlight}}\n",
      "{{/spotlight}}\n",
      "{{^spotlight}}\n",
      "  {{>projects/_baseball_card_tall_standard}}\n",
      "{{/spotlight}}\n",
      "\n",
      "{{#friends_backing?}}\n",
      "  <div class=\"friend-backers\">\n",
      "    <div class=\"friend-facepile\">\n",
      "      {{#truncated_friends}}\n",
      "        <img src=\"{{avatar.thumb}}\" class=\"{{#has_metadata?}}small{{/has_metadata?}} avatar-circle-small\" alt=\"\">\n",
      "      {{/truncated_friends}}\n",
      "    </div>\n",
      "    <p class=\"friend-namepile\">\n",
      "      {{{escaped_sentence}}}\n",
      "    </p>\n",
      "  </div>\n",
      "{{/friends_backing?}}\n",
      "</script><script class=\"template\" type=\"text/x-tmpl-mustache\" id=\"template-projects__baseball_card_tall_spotlight\"><div class=\"project-card project-card-{{baseball_card_size}} project-card--spotlight ratio-16-9 js-track-project-card\" style=\"{{ profile.card_style }}\" data-pid=\"{{id}}\" data-section=\"{{section}}\" data-weighted_score=\"{{weighted_score}}\" data-raw_score=\"{{raw_score}}\" data-model_name=\"{{model_name}}\" data-project_pid=\"{{id}}\" data-project_state=\"{{project_state}}\" data-project_backers_count=\"{{backers_count}}\" data-project_percent_raised=\"{{percent_raised}}\" data-project_pledged=\"{{pledged}}\" data-user_has_starred=\"{{is_starred}}\" data-user_is_backer=\"{{is_backing}}\">\n",
      "\n",
      "  <div class=\"project-profile-feature-image\">\n",
      "      <a href=\"{{url_with_ref}}\" class=\"project-thumbnail-wrap\">\n",
      "          <div class=\"project-profile-card__background\" style=\"{{#profile.background_color}}background-color: #{{profile.background_color}} {{/profile.background_color}}\">\n",
      "              <div class=\"project-profile-card__background bg-black {{#profile.hide_background_black?}}hide{{/profile.hide_background_black?}}\"></div>\n",
      "              <div class=\"project-profile-card__background\" style=\"{{profile.card_background_style}}\"></div>\n",
      "          </div>\n",
      "          <img alt=\"{{#t}}projects.baseball_card_tall.Project_image{{/t}}\" src=\"{{profile.feature_image_url}}\" class=\"{{^profile.should_show_feature_image_section}}is-invisible{{/profile.should_show_feature_image_section}}\">\n",
      "      </a>\n",
      "  </div>\n",
      "\n",
      "  <div class=\"project-card-content\">\n",
      "\n",
      "    <div class=\"project-profile-title text-truncate-xs\">\n",
      "      <a href=\"{{url_with_ref}}\" target=\"\">\n",
      "        {{ profile.name }}\n",
      "      </a>\n",
      "    </div>\n",
      "\n",
      "    <p class=\"project-profile-blurb type-12\">\n",
      "      {{ profile.blurb }}\n",
      "    </p>\n",
      "\n",
      "  </div>\n",
      "\n",
      "  <div class=\"project-profile-footer\">\n",
      "    <div class=\"one-pixel-divider bg-green-dark\" style=\"{{ profile.border_color }}\"></div>\n",
      "\n",
      "    <div class=\"project-profile-footer__content\">\n",
      "      <div class=\"flag\">\n",
      "        <div class=\"flag-img\">\n",
      "          <img src=\"{{ creator.avatar.thumb }}\" class=\"block radius100p avatar-small\" alt=\"{{ creator.avatar.name }}\" />\n",
      "        </div>\n",
      "        <div class=\"flag-body\">\n",
      "          <p class=\"project-profile-byline type-12\">\n",
      "            {{#t}}projects.baseball_card_tall.by_creator_and_backers{{/t}}\n",
      "          </p>\n",
      "        </div>\n",
      "      </div>\n",
      "    </div>\n",
      "\n",
      "  </div>\n",
      "</div>\n",
      "</script><script class=\"template\" type=\"text/x-tmpl-mustache\" id=\"template-projects__baseball_card_tall_standard\"><div class=\"project-card js-score-tracking js-track-project-card ratio-16-9 {{#successful?}}successful{{/successful?}} project-card-{{baseball_card_size}}\" data-pid=\"{{id}}\" data-section=\"{{section}}\" data-weighted_score=\"{{weighted_score}}\" data-raw_score=\"{{raw_score}}\" data-model_name=\"{{model_name}}\" data-project_pid=\"{{id}}\" data-project_state=\"{{project_state}}\" data-project_backers_count=\"{{backers_count}}\" data-project_percent_raised=\"{{percent_raised}}\" data-project_pledged=\"{{pledged}}\" data-user_has_starred=\"{{is_starred}}\" data-user_is_backer=\"{{is_backing}}\">\n",
      "\n",
      "  <div class=\"project-thumbnail\">\n",
      "    {{#staff_pick?}}\n",
      "      <div class=\"projects-we-love-badge projects-we-love-badge--overlay\">\n",
      "        <div class=\"icon\">\n",
      "          <span class=\"ksr-icon__heart\"></span>\n",
      "        </div>\n",
      "        <div class=\"label\">\n",
      "          {{#t}}projects.baseball_card_tall.project_we_love{{/t}}\n",
      "        </div>\n",
      "      </div>\n",
      "    {{/staff_pick?}}\n",
      "\n",
      "    <a href=\"{{url_with_ref}}\" class=\"project-thumbnail-wrap\" target=\"\" data-score=\"{{score}}\" data-version=\"{{version}}\" data-pid=\"{{id}}\">\n",
      "      <img alt=\"{{#t}}projects.baseball_card_tall.Project_image{{/t}}\" class=\"project-thumbnail-img\" src=\"{{photo.ed}}\" width=\"100%\">\n",
      "    </a>\n",
      "  </div>\n",
      "\n",
      "  <div class=\"project-card-content\">\n",
      "    {{#t}}projects.baseball_card_tall.project_by_creator{{/t}}\n",
      "    <p class=\"project-blurb\">\n",
      "      {{blurb}}\n",
      "    </p>\n",
      "  </div>\n",
      "\n",
      "  <div class=\"project-card-footer\">\n",
      "\n",
      "    {{#location}}\n",
      "      <div class=\"project-location\">\n",
      "        <a href=\"{{location.urls.web.discover}}\" data-location=\"{{location_json}}\">\n",
      "          <span class=\"ksr-icon__location\" aria-hidden=\"true\"></span>\n",
      "          <span class=\"location-name\">{{location.displayable_name}}</span>\n",
      "        </a>\n",
      "      </div>\n",
      "    {{/location}}\n",
      "\n",
      "    <div class=\"project-stats-container\">\n",
      "\n",
      "      {{#failed?}}\n",
      "        <div class='project-status project-failed'>\n",
      "          <strong> {{#t}}projects.baseball_card_tall.Funding_Unsuccessful{{/t}}</strong><br />\n",
      "          <div>{{#t}}projects.baseball_card_tall.Project_ended_on_time{{/t}}</div>\n",
      "        </div>\n",
      "      {{/failed?}}\n",
      "\n",
      "      {{#canceled?}}\n",
      "        <div class='project-status project-canceled'>\n",
      "          <strong> {{#t}}projects.baseball_card_tall.Funding_Canceled{{/t}}</strong><br />\n",
      "          <div>{{#t}}projects.baseball_card_tall.Project_canceled_on_time{{/t}}</div>\n",
      "        </div>\n",
      "      {{/canceled?}}\n",
      "\n",
      "      {{#successful?}}\n",
      "        <div class='project-pledged-successful'>\n",
      "          <strong>{{#t}}projects.baseball_card_tall.Successfully_funded{{/t}}</strong>\n",
      "        </div>\n",
      "      {{/successful?}}\n",
      "\n",
      "      {{#live_or_successful?}}\n",
      "\n",
      "        {{#live?}}\n",
      "          <div class=\"project-progress-bar\">\n",
      "            <div class=\"project-percent-pledged\" style=\"width: {{percent_raised_to_100}}%\"></div>\n",
      "          </div>\n",
      "        {{/live?}}\n",
      "\n",
      "        <ul class=\"project-stats\">\n",
      "          <li>\n",
      "            {{#t}}projects.baseball_card_tall.percent_funded{{/t}}\n",
      "          </li>\n",
      "\n",
      "          <li class='js-amount-pledged'>\n",
      "            {{#t}}projects.baseball_card_tall.amount_pledged{{/t}}\n",
      "          </li>\n",
      "\n",
      "          {{#successful?}}\n",
      "            <li class=\"successful\">\n",
      "              {{#t}}projects.baseball_card_tall.funded_at_time{{/t}}\n",
      "            </li>\n",
      "          {{/successful?}}\n",
      "\n",
      "          {{#live?}}\n",
      "            <li class=\"ksr_page_timer\" data-end_time=\"{{javascript_deadline}}\">\n",
      "              {{#t}}projects.baseball_card_tall.days_to_go{{/t}}\n",
      "            </li>\n",
      "          {{/live?}}\n",
      "        </ul>\n",
      "      {{/live_or_successful?}}\n",
      "    </div>\n",
      "  </div>\n",
      "</div>\n",
      "</script><script class=\"template\" type=\"text/x-tmpl-mustache\" id=\"template-discover__location_li\"><li class=\"location\" id=\"location_{{id}}\" data-location=\"{{json}}\">\n",
      "  <a href=\"#\" class=\"fastclick block type-14 px3 py1 hover-ksr-green-500\">\n",
      "    {{short_name}}\n",
      "  </a>\n",
      "</li>\n",
      "</script><script class=\"template\" type=\"text/x-tmpl-mustache\" id=\"template-discover__search_location_li\"><li class=\"location\" data-location=\"{{json}}\">\n",
      "  <a href=\"#\" class=\"fastclick block type-14 px3 py1 hover-ksr-green-500\">\n",
      "    {{short_name}}\n",
      "  </a>\n",
      "</li>\n",
      "</script><script class=\"template\" type=\"text/x-tmpl-mustache\" id=\"template-discover__location_options\"><optgroup label=\"{{#t}}discover.location_options.Broader_locations{{/t}}\">\n",
      "  <option value=\"0\">{{#t}}discover.location_options.Earth{{/t}}</option>\n",
      "  {{#ancestor_locations}}\n",
      "    <option value=\"{{id}}\">{{short_name}}</option>\n",
      "  {{/ancestor_locations}}\n",
      "  <option value=\"{{id}}\">{{short_name}}</option>\n",
      "</optgroup>\n",
      "\n",
      "{{#nearby_locations.length}}\n",
      "  <optgroup label=\"{{#t}}discover.location_options.Nearby_locations{{/t}}\">\n",
      "    {{#nearby_locations}}\n",
      "      <option value=\"{{id}}\">{{short_name}}</option>\n",
      "    {{/nearby_locations}}\n",
      "  </optgroup>\n",
      "{{/nearby_locations.length}}\n",
      "</script>\n",
      "\n",
      "<script>\n",
      "  try{\n",
      "    window.twttr = (function (d, s, id) {\n",
      "      var t, js, fjs = d.getElementsByTagName(s)[0];\n",
      "      if (d.getElementById(id)) return;\n",
      "      js = d.createElement(s); js.id = id;\n",
      "      js.src= \"https://platform.twitter.com/widgets.js\";\n",
      "      fjs.parentNode.insertBefore(js, fjs);\n",
      "      return window.twttr || (t = { _e: [], ready: function (f) { t._e.push(f) } });\n",
      "    } (document, \"script\", \"twitter-wjs\"));\n",
      "  }catch(e){}\n",
      "</script>\n",
      "\n",
      "<script id=\"schwamm_formatting_options\">\n",
      "//<![CDATA[\n",
      "(function(){window.formatters = window.formatters || {}; var formatting_options = {\"distance_date_intervals\":[{\"min\":5,\"i18n_key\":\"schwamm.just_now\"},{\"min\":29,\"i18n_key\":\"schwamm.less_than_a_minute_ago\"},{\"min\":2640,\"i18n_key\":\"schwamm.m_minutes_ago\",\"count_key\":\"m\"},{\"min\":82800,\"i18n_key\":\"schwamm.about_h_hours_ago\",\"count_key\":\"h\"},{\"min\":604800,\"i18n_key\":\"schwamm.d_days_ago\",\"count_key\":\"d\"},{\"min\":15778476,\"i18n_key\":\"schwamm.on_datetime\",\"count_key\":\"t\"},{\"min\":0,\"i18n_key\":\"schwamm.on_year\",\"count_key\":\"y\"}],\"currency_symbol_mappings\":{\"AED\":\"AED\",\"AFN\":\"؋\",\"ALL\":\"Lek\",\"AMD\":\"AMD\",\"AOA\":\"AOA\",\"ARS\":\"$\",\"EUR\":\"€\",\"AUD\":\"AU$ \",\"AWG\":\"ƒ\",\"AZN\":\"ман\",\"BAM\":\"KM\",\"BBD\":\"$\",\"BDT\":\"BDT\",\"BGN\":\"лв\",\"BHD\":\"BHD\",\"BIF\":\"BIF\",\"BMD\":\"$\",\"BND\":\"$\",\"BOB\":\"$b\",\"BRL\":\"R$\",\"BSD\":\"$\",\"BTN\":\"BTN\",\"BWP\":\"P\",\"BYR\":\"p.\",\"BZD\":\"BZ$\",\"CAD\":\"CA$ \",\"CDF\":\"CDF\",\"CHF\":\"CHF \",\"CLP\":\"$\",\"CNY\":\"¥\",\"COP\":\"$\",\"CRC\":\"₡\",\"CUP\":\"₱\",\"CVE\":\"CVE\",\"CZK\":\"Kč\",\"DJF\":\"DJF\",\"DKK\":\"DKK \",\"DOP\":\"RD$\",\"DZD\":\"DZD\",\"EGP\":\"£\",\"ERN\":\"ERN\",\"ETB\":\"ETB\",\"FJD\":\"$\",\"FKP\":\"£\",\"GBP\":\"£\",\"GEL\":\"GEL\",\"GHS\":\"GHS\",\"GIP\":\"£\",\"GMD\":\"GMD\",\"GNF\":\"GNF\",\"GTQ\":\"Q\",\"GYD\":\"$\",\"HKD\":\"HK$ \",\"HNL\":\"L\",\"HRK\":\"kn\",\"HTG\":\"HTG\",\"HUF\":\"Ft\",\"IDR\":\"Rp\",\"ILS\":\"₪\",\"INR\":\"INR\",\"IQD\":\"IQD\",\"IRR\":\"﷼\",\"ISK\":\"kr\",\"JMD\":\"J$\",\"JOD\":\"JOD\",\"JPY\":\"¥\",\"KES\":\"KES\",\"KGS\":\"лв\",\"KHR\":\"៛\",\"KMF\":\"KMF\",\"KPW\":\"₩\",\"KRW\":\"₩\",\"KWD\":\"KWD\",\"KYD\":\"$\",\"KZT\":\"лв\",\"LAK\":\"₭\",\"LBP\":\"£\",\"LKR\":\"₨\",\"LRD\":\"$\",\"LSL\":\"LSL\",\"LTL\":\"Lt\",\"LVL\":\"Ls\",\"LYD\":\"LYD\",\"MAD\":\"MAD\",\"MDL\":\"MDL\",\"MGA\":\"MGA\",\"MKD\":\"ден\",\"MMK\":\"MMK\",\"MNT\":\"₮\",\"MOP\":\"MOP\",\"MRO\":\"MRO\",\"MUR\":\"₨\",\"MVR\":\"MVR\",\"MWK\":\"MWK\",\"MXN\":\"MX$ \",\"MYR\":\"RM\",\"MZN\":\"MT\",\"NAD\":\"$\",\"NGN\":\"₦\",\"NIO\":\"C$\",\"NOK\":\"NOK \",\"NPR\":\"₨\",\"NZD\":\"NZ$ \",\"OMR\":\"﷼\",\"PAB\":\"B/.\",\"PEN\":\"S/.\",\"PGK\":\"PGK\",\"PHP\":\"₱\",\"PKR\":\"₨\",\"PLN\":\"zł\",\"PYG\":\"Gs\",\"QAR\":\"﷼\",\"RON\":\"lei\",\"RSD\":\"Дин.\",\"RUB\":\"руб\",\"RWF\":\"RWF\",\"SAR\":\"﷼\",\"SBD\":\"$\",\"SCR\":\"₨\",\"SDG\":\"SDG\",\"SEK\":\"SEK \",\"SGD\":\"S$ \",\"SHP\":\"£\",\"SLL\":\"SLL\",\"SOS\":\"S\",\"SRD\":\"$\",\"SSP\":\"SSP\",\"STD\":\"STD\",\"SVC\":\"$\",\"SYP\":\"£\",\"SZL\":\"SZL\",\"THB\":\"฿\",\"TJS\":\"TJS\",\"TMT\":\"TMT\",\"TND\":\"TND\",\"TOP\":\"TOP\",\"TRY\":\"TL\",\"TTD\":\"TT$\",\"TWD\":\"NT$\",\"TZS\":\"TZS\",\"UAH\":\"₴\",\"UGX\":\"UGX\",\"USD\":\"$\",\"UYU\":\"$U\",\"UZS\":\"лв\",\"VEF\":\"Bs\",\"VND\":\"₫\",\"VUV\":\"VUV\",\"WST\":\"WST\",\"YER\":\"﷼\",\"ZAR\":\"R\",\"ZMK\":\"ZMK\",\"ZWL\":\"ZWL\"}}; for (key in formatting_options) {window.formatters[key] = formatting_options[key]};}());\n",
      "//]]>\n",
      "</script>\n",
      "<script>\n",
      "  if (window.benchmark) {window.performance.mark(\"begin_base.js_tag\");}\n",
      "</script>\n",
      "<script src=\"https://a.kickstarter.com/assets/modules/core.8acc974d38c5e065102a587b52266ca473bc004dee06fe71009f75c32336a769.js\"></script>\n",
      "<script src=\"https://a.kickstarter.com/assets/modules/base.a007aad311280ba0a6f2371c8a9659838f65183ca57f46f68817020d6a2ca353.js\"></script>\n",
      "<script>\n",
      "  if (window.benchmark) {window.performance.mark(\"end_base.js_tag\");}\n",
      "</script>\n",
      "<script>\n",
      "  window.koala_device_endpoint = 'https://t.kck.st/devices';\n",
      "  document.addEventListener('DOMContentLoaded', window.log_device);\n",
      "</script>\n",
      "<script>\n",
      "  window.STRIPE_PUBLISHABLE_KEY = 'pk_live_zjuK52lEUYcvBhIXEUnOEJzk';\n",
      "  window.IDENTITY_DOC_UPLOAD_URL = 'https://uploads.stripe.com/v1/files';\n",
      "</script>\n",
      "<script>\n",
      "  document.domain='kickstarter.com';\n",
      "</script>\n",
      "<script>\n",
      "  (function(){var g=function(e,h,f,g){\n",
      "  this.get=function(a){for(var a=a+\"=\",c=document.cookie.split(\";\"),b=0,e=c.length;b<e;b++){for(var d=c[b];\" \"==d.charAt(0);)d=d.substring(1,d.length);if(0==d.indexOf(a))return d.substring(a.length,d.length)}return null};\n",
      "  this.set=function(a,c){var b=\"\",b=new Date;b.setTime(b.getTime()+6048E5);b=\"; expires=\"+b.toGMTString();document.cookie=a+\"=\"+c+b+\"; path=/; \"};\n",
      "  this.check=function(){var a=this.get(f);if(a)a=a.split(\":\");else if(100!=e)\"v\"==h&&(e=Math.random()>=e/100?0:100),a=[h,e,0],this.set(f,a.join(\":\"));else return!0;var c=a[1];if(100==c)return!0;switch(a[0]){case \"v\":return!1;case \"r\":return c=a[2]%Math.floor(100/c),a[2]++,this.set(f,a.join(\":\")),!c}return!0};\n",
      "  this.go=function(){if(this.check()){var a=document.createElement(\"script\");a.type=\"text/javascript\";a.src=g+ \"&t=\" + (new Date()).getTime();document.body&&document.body.appendChild(a)}};\n",
      "  this.start=function(){var a=this;window.addEventListener?window.addEventListener(\"load\",function(){a.go()},!1):window.attachEvent&&window.attachEvent(\"onload\",function(){a.go()})}};\n",
      "  try{(new g(100,\"r\",\"QSI_S_ZN_cV1oNFo8KUFlf0N\",\"https://zncv1onfo8kuflf0n-kickstarter.siteintercept.qualtrics.com/WRSiteInterceptEngine/?Q_ZID=ZN_cV1oNFo8KUFlf0N\")).start()}catch(i){}})();\n",
      "</script>\n",
      "<div id=\"ZN_cV1oNFo8KUFlf0N\"></div>\n",
      "\n",
      "<script src=\"https://a.kickstarter.com/assets/modules/runtime.c93fe3d9b729330bea6381f028306c9c135f9f6faca233ddd29130734fa1d25c.js\"></script>\n",
      "<script src=\"https://a.kickstarter.com/assets/modules/vendor.b8e684d5827b65c4dbc5a4f38f6d790778a6285295686dd4459e34b4cd8ebdd7.js\"></script>\n",
      "<script src=\"https://a.kickstarter.com/assets/modules/discovery-page.70f74c07a7e734d15985e3f47490ac65776b00dd54afcc3eeabcc5a23cbdbf73.js\"></script>\n",
      "\n",
      "\n",
      "<div id=\"growl_section\" class=\"center jGrowl\"></div>\n",
      "<div id=\"fb-root\"></div>\n",
      "<script>\n",
      "  var channelUrl = window.location.protocol + \"//\" + window.location.host + \"/channel.html\",\n",
      "    needs_autologin = true && !$('body').is('.skip_autologin'),\n",
      "    needs_refresh = true && false;\n",
      "  \n",
      "  window.fbAsyncInit = function() {\n",
      "    FB.init({\n",
      "      appId: window.fb_app_id,\n",
      "      channelUrl: channelUrl,\n",
      "      status: true,    // check login status\n",
      "      cookie: true,    // enable cookies to allow the server to access the session\n",
      "      xfbml: true,     // parse XFBML\n",
      "      logging: false,  // turn off logging,\n",
      "      version: 'v3.3'\n",
      "    });\n",
      "  \n",
      "    FB.getLoginStatus(function (response) {\n",
      "      if (response.status === 'connected') {\n",
      "        if (read_cookie(\"logout_from_fb\")) {\n",
      "          FB.logout();\n",
      "          destroy_cookie(\"logout_from_fb\");\n",
      "        } else if (needs_autologin) {\n",
      "          $.get(\"/fb/autologin.js\", {'fbsr': response.authResponse.signedRequest});\n",
      "        } else if (needs_refresh && 0 == response.authResponse.userID) {\n",
      "          $.get(\"/fb/refresh.js\", {'fbsr': response.authResponse.signedRequest});\n",
      "        }\n",
      "      } else {\n",
      "        if (read_cookie(\"logout_from_fb\")) {\n",
      "          destroy_cookie(\"logout_from_fb\");\n",
      "        }\n",
      "      }\n",
      "    })\n",
      "  \n",
      "    FB.Event.subscribe('edge.create', function() {\n",
      "      if (typeof ga !== 'undefined') {\n",
      "        ga('send', 'event', 'Sharing', 'Facebook Like');\n",
      "      }\n",
      "    });\n",
      "  };\n",
      "  \n",
      "  \n",
      "  // Load the SDK Asynchronously\n",
      "  (function(d){\n",
      "    var js, id = 'facebook-jssdk'; if (d.getElementById(id)) {return;}\n",
      "    js = d.createElement('script'); js.id = id; js.async = true;\n",
      "    js.src = \"//connect.facebook.net/en_US/sdk.js\";\n",
      "    d.getElementsByTagName('head')[0].appendChild(js);\n",
      "  }(document));\n",
      "</script>\n",
      "\n",
      "\n",
      "<!-- / embedded svg icon system -->\n",
      "<svg xmlns=\"http://www.w3.org/2000/svg\" style=\"display: none;\">\n",
      "    <symbol id=\"Line\" viewBox=\"0 0 640 640\">\n",
      "      <title>Line icon</title>\n",
      "      <path fill-rule=\"evenodd\" d=\"M617.046 75.508l26.277-26.277L590.77-3.322 564.49 22.954 22.954 564.492-3.323 590.77l52.554 52.553 26.278-26.277\"/>\n",
      "    </symbol>\n",
      "    <symbol id=\"alert\" viewBox=\"0 0 725 725\">\n",
      "      <title>alert icon</title>\n",
      "      <title>Artboard Copy 8</title><path d=\"M.087 652.96c-.59-13.098 1.83-25.43 7.257-36.993L294.44 42.127c6.61-12.98 15.99-23.247 28.144-30.8C334.74 3.778 348.014 0 362.41 0s27.612 3.776 39.648 11.328c12.036 7.552 21.24 17.818 27.613 30.798l286.744 573.84c5.9 11.565 8.614 23.896 8.142 36.994-.472 13.098-4.012 25.075-10.62 35.932-7.08 11.328-16.343 20.178-27.79 26.55-11.446 6.372-23.66 9.558-36.64 9.558H75.314c-12.98 0-25.194-3.186-36.64-9.558-11.446-6.372-20.71-15.222-27.79-26.55C4.277 678.035.678 666.058.088 652.96zm301.788-63.898c0 16.757 5.9 31.035 17.7 42.835 11.8 11.8 26.078 17.7 42.835 17.7 16.756 0 31.034-5.9 42.834-17.7 11.8-11.8 17.7-26.078 17.7-42.835 0-16.756-5.9-31.034-17.7-42.834-11.8-11.8-26.078-17.7-42.834-17.7-16.757 0-31.035 5.9-42.835 17.7-11.8 11.8-17.7 26.078-17.7 42.835zm15.222-135.937h90.625V196.472h-90.625v256.653z\" fill-rule=\"evenodd\"/>\n",
      "    </symbol>\n",
      "    <symbol id=\"arrow-down\" viewBox=\"0 0 729 437\">\n",
      "      <title>arrow-down icon</title>\n",
      "      <title>arrow-down</title><path d=\"M364.42 437.406L728.405 73.42 655.608.62l-291.19 290.682L73.204.594.406 73.392\" fill-rule=\"evenodd\"/>\n",
      "    </symbol>\n",
      "    <symbol id=\"arrow-left\" viewBox=\"0 0 437 728\">\n",
      "      <title>arrow-left icon</title>\n",
      "      <title>arrow-left</title><path d=\"M0 364.014L363.986 728l72.797-72.797L146.1 364.013 436.81 72.798 364.015 0\" fill-rule=\"evenodd\"/>\n",
      "    </symbol>\n",
      "    <symbol id=\"arrow-point-left\" viewBox=\"0 0 15 8\">\n",
      "      <title>arrow-point-left icon</title>\n",
      "      <title>Fill 1 Copy 5</title><path d=\"M3.93 7.936c.136.136.368.04.368-.152V5h10.436c.097 0 .175-.08.175-.175v-1.65c0-.097-.08-.175-.176-.175H4.298V.215c0-.19-.232-.287-.368-.152L.063 3.847c-.084.085-.084.22 0 .305L3.93 7.936z\" fill-rule=\"evenodd\"/>\n",
      "    </symbol>\n",
      "    <symbol id=\"arrow-point-right\" viewBox=\"0 0 15 8\">\n",
      "      <title>arrow-point-right icon</title>\n",
      "      <title>Fill 1</title><path d=\"M10.98.064c-.137-.136-.37-.04-.37.152V3H.176C.078 3 0 3.08 0 3.175v1.65C0 4.922.078 5 .175 5H10.61v2.785c0 .19.233.287.37.152l3.866-3.784c.084-.085.084-.22 0-.305L10.98.064z\" fill-rule=\"evenodd\"/>\n",
      "    </symbol>\n",
      "    <symbol id=\"arrow-right\" viewBox=\"0 0 437 728\">\n",
      "      <title>arrow-right icon</title>\n",
      "      <title>arrow-right</title><path d=\"M436.81 363.986L72.826 0 .028 72.797l290.682 291.19L0 655.202 72.797 728\" fill-rule=\"evenodd\"/>\n",
      "    </symbol>\n",
      "    <symbol id=\"arrow-up-right\" viewBox=\"0 0 48 48\">\n",
      "      <title>arrow-up-right icon</title>\n",
      "      <title>icon--arrow-up-right copy</title><g fill-rule=\"evenodd\"><path d=\"M-6-6h60v60H-6z\"/><path d=\"M47.03 0H30.97c-.863 0-1.295 1.042-.685 1.652l5.91 5.91-35.61 35.61c-.39.39-.39 1.024 0 1.414l2.828 2.828c.392.39 1.024.39 1.414 0l35.61-35.61 5.91 5.91c.61.61 1.652.178 1.652-.684V.968C48 .434 47.566 0 47.03 0\"/></g>\n",
      "    </symbol>\n",
      "    <symbol id=\"banner\" viewBox=\"0 0 702 843\">\n",
      "      <title>banner icon</title>\n",
      "      <title>Rectangle 2</title><path d=\"M0 0h702v843L360.558 608.833 0 843\" fill-rule=\"evenodd\"/>\n",
      "    </symbol>\n",
      "    <symbol id=\"bar-chart\" viewBox=\"0 0 714 714\">\n",
      "      <title>bar-chart icon</title>\n",
      "      <title>Artboard Copy 6</title><path d=\"M0 699.01V371.99c0-4.182 1.453-7.727 4.358-10.632C7.263 358.453 10.808 357 14.99 357h148.52c4.182 0 7.727 1.453 10.632 4.358 2.905 2.905 4.358 6.45 4.358 10.633v327.02c0 4.182-1.453 7.727-4.358 10.632-2.905 2.905-6.45 4.358-10.633 4.358H14.99c-4.182 0-7.727-1.453-10.632-4.358C1.453 706.737 0 703.192 0 699.01zm267.75 0V14.99c0-4.182 1.453-7.727 4.358-10.632C275.013 1.453 278.558 0 282.74 0h148.52c4.182 0 7.727 1.453 10.632 4.358 2.905 2.905 4.358 6.45 4.358 10.633v684.02c0 4.182-1.453 7.727-4.358 10.632-2.905 2.905-6.45 4.358-10.633 4.358H282.74c-4.182 0-7.727-1.453-10.632-4.358-2.905-2.905-4.358-6.45-4.358-10.633zm267.75 0V193.49c0-4.182 1.453-7.727 4.358-10.632 2.905-2.905 6.45-4.358 10.633-4.358h148.52c4.182 0 7.727 1.453 10.632 4.358 2.905 2.905 4.358 6.45 4.358 10.633v505.52c0 4.182-1.453 7.727-4.358 10.632-2.905 2.905-6.45 4.358-10.633 4.358H550.49c-4.182 0-7.727-1.453-10.632-4.358-2.905-2.905-4.358-6.45-4.358-10.633z\" fill-rule=\"evenodd\"/>\n",
      "    </symbol>\n",
      "    <symbol id=\"bell\" viewBox=\"0 0 14 16\">\n",
      "      <title>bell icon</title>\n",
      "      <title>Combined Shape Copy 5</title><path d=\"M6.686 16c1.058 0 1.92-.796 2.047-1.82H4.638c.127 1.024.99 1.82 2.048 1.82zm6.045-4.53c-.907-1.205-1.097-2.435-1.327-4.145L11.1 5.06C10.813 2.91 9.325 1.25 7.47.88c.002-.028.015-.052.015-.08 0-.44-.357-.8-.798-.8-.442 0-.8.36-.8.8 0 .028.013.052.016.08-1.858.37-3.343 2.028-3.632 4.18L1.746 9c-.185.88-.46 1.65-1.002 2.395C.287 11.907 0 12.573 0 13.312c0 .037.032.068.068.068h13.236c.037 0 .067-.03.067-.068v-.073c0-.676-.245-1.285-.64-1.77z\" fill-rule=\"evenodd\"/>\n",
      "    </symbol>\n",
      "    <symbol id=\"book\" viewBox=\"0 0 655 715\">\n",
      "      <title>book icon</title>\n",
      "      <title>Artboard Copy 3</title><path d=\"M654.804 119.53L595.47 60.195v595.47H118.666c-30.023 0-59.332-15.01-59.332-59.33H536.14V.147H89.355C0 .148 0 .148 0 89.505V595.62C0 684.976 74.345 715 148.69 715h506.114V119.53z\" fill-rule=\"evenodd\"/>\n",
      "    </symbol>\n",
      "    <symbol id=\"bookmark\" viewBox=\"0 0 12 16\">\n",
      "      <title>bookmark icon</title>\n",
      "      <title>Fill 1</title><path d=\"M.704 0h10.592c.39 0 .704.315.704.704v14.464c0 .34-.39.533-.66.327l-5.148-3.94-5.54 3.978c-.273.195-.652 0-.652-.334V.703C0 .314.315 0 .704 0\" fill-rule=\"evenodd\"/>\n",
      "    </symbol>\n",
      "    <symbol id=\"brand-assets\" viewBox=\"0 0 826 689\">\n",
      "      <title>brand-assets icon</title>\n",
      "      <title>Artboard Copy 13</title><g fill-rule=\"evenodd\"><path d=\"M141.436 641.7h-94.59V146.27h23.433l-2.25-16.08c-1.457-10.296-1.04-20.546.946-30.44h-24.66c-24.303 0-44 19.694-44 43.993v500.48c0 24.3 19.697 43.993 44 43.993h133.04c-16.502-11.04-29.452-27.183-35.92-46.52M613.652 688.218c24.303 0 44-19.693 44-43.992v-.077l-313.694 44.068h269.694M825.386 534.504L755.718 38.89C752.32 14.84 730.08-1.92 706.01 1.46L142.227 80.68c-24.055 3.38-40.82 25.617-37.44 49.683l69.67 495.612c3.38 24.05 25.62 40.83 49.69 37.433L787.932 584.2c24.072-3.38 40.837-25.63 37.456-49.696zm-605.208 82.493l-68.97-490.604L709.98 47.87l68.97 490.62-558.772 78.507z\"/><path d=\"M634.48 261.267l-71.668 84.447-222.064-84.943-104.363 137.31 23.388 166.382 466.632-65.576-29.98-213.26-61.944-24.36M549.69 252.29c20.49-2.87 34.773-21.82 31.904-42.318-2.885-20.5-21.837-34.78-42.34-31.896-20.504 2.884-34.79 21.832-31.904 42.332 2.885 20.484 21.837 34.765 42.34 31.88\"/></g>\n",
      "    </symbol>\n",
      "    <symbol id=\"cart\" viewBox=\"0 0 950 736\">\n",
      "      <title>cart icon</title>\n",
      "      <title>Artboard Copy 4</title><path d=\"M41.16.077C25.704.782 11.81 9.717 4.75 23.49-2.31 37.266-1.45 53.768 7 66.733c8.453 12.966 23.202 20.408 38.65 19.502h145.34l20.635 76.288c.22 1.503.52 2.993.896 4.464.34 2.742.942 5.445 1.798 8.072.48 1.835 1.08 3.635 1.796 5.39l92.408 351.805 8.076 32.308H832.47l8.075-32.307 95.1-358.984L950 118.524H288.785l-22.43-86.162L258.282.06H45.652c-1.494-.08-2.992-.08-4.487 0l-.002.017zm401.036 605.79c-36.038 0-64.596 29.465-64.596 65.516 0 36.05 28.558 64.617 64.596 64.617 36.038 0 65.494-28.566 65.494-64.617 0-36.05-29.456-65.515-65.494-65.515zm248.516 0c-36.037 0-65.493 29.465-65.493 65.516 0 36.05 29.455 64.617 65.492 64.617 36.038 0 65.494-28.566 65.494-64.617 0-36.05-29.456-65.515-65.494-65.515zM434.417 414.546l85.12-85.148-85.12-85.15c-1.19-1.515-1.787-3.195-1.787-5.036 0-1.733.596-3.358 1.787-4.874l49.058-49.074c1.516-1.192 3.14-1.788 4.874-1.788 1.84 0 3.518.596 5.034 1.788l85.12 85.148 85.122-85.148c1.517-1.192 3.195-1.788 5.036-1.788 1.733 0 3.357.596 4.874 1.788l49.058 49.074c1.19 1.516 1.787 3.14 1.787 4.875 0 1.842-.595 3.522-1.786 5.038l-85.12 85.15 85.12 85.147c1.19 1.517 1.787 3.196 1.787 5.038 0 1.733-.595 3.358-1.786 4.874l-49.058 49.075c-1.517 1.19-3.14 1.787-4.874 1.787-1.84 0-3.52-.597-5.036-1.788l-85.12-85.15-85.122 85.15c-1.516 1.19-3.194 1.787-5.035 1.787-1.734 0-3.36-.597-4.875-1.788l-49.058-49.075c-1.19-1.516-1.787-3.14-1.787-4.874 0-1.842.596-3.52 1.787-5.038z\" fill-rule=\"evenodd\"/>\n",
      "    </symbol>\n",
      "    <symbol id=\"chat\" viewBox=\"0 0 750 750\">\n",
      "      <title>chat icon</title>\n",
      "      <title>chat</title><path d=\"M375.2 723.3c52 0 101.5-10.3 146.3-28.6 1.1-.5 2-.9 3.1-1.3.2 0 .4 0 .4-.2 6.3-2.3 13.1-3.6 20.2-3.6 7.7 0 15.1 1.4 21.8 4.3l151.2 55.6-39.8-159.1c0-9.5 2.7-18.5 7-26.3 1.4-2.3 2.9-4.7 4.5-6.7 37.6-56.3 59.4-123.3 59.4-195.1C749.7 162.5 582.1.7 375.3.7S.8 162.6.8 362c0 199.7 167.6 361.3 374.4 361.3z\" fill-rule=\"evenodd\"/>\n",
      "    </symbol>\n",
      "    <symbol id=\"check\" viewBox=\"0 0 20 16\">\n",
      "      <title>check icon</title>\n",
      "      <title>Fill 1 Copy 6</title><path d=\"M6.8 15.88L.12 9.173c-.16-.16-.16-.42 0-.58L1.46 7.26c.16-.16.418-.16.58 0l4.95 4.973L17.695.14c.15-.17.41-.187.58-.037l1.414 1.25c.17.15.186.41.035.58L7.4 15.863c-.16.176-.432.184-.6.016\" fill-rule=\"evenodd\"/>\n",
      "    </symbol>\n",
      "    <symbol id=\"circle-back\" viewBox=\"0 0 17 16\">\n",
      "      <title>circle-back icon</title>\n",
      "      <title>Fill 1 Copy 13</title><path d=\"M8.082 0C5.884 0 3.804.91 2.295 2.49l-.01-.01L.395.6C.265.47.043.562.043.746L0 5.927c0 .114.094.204.206.204l5.18-.068c.183 0 .275-.222.146-.353l-.73-.728L3.64 3.83l-.06-.06c1.17-1.24 2.786-1.966 4.5-1.966 3.417 0 6.197 2.78 6.197 6.195 0 3.417-2.78 6.196-6.198 6.196-2.564 0-4.834-1.58-5.76-3.947 0 0-.072-.273-.36-.184l-1.178.397c-.168.062-.238.115-.2.29C1.737 13.896 4.716 16 8.082 16c4.412 0 8-3.59 8-8s-3.588-8-8-8\" fill-rule=\"evenodd\"/>\n",
      "    </symbol>\n",
      "    <symbol id=\"circle-forward\" viewBox=\"0 0 17 16\">\n",
      "      <title>circle-forward icon</title>\n",
      "      <title>Fill 1 Copy 16</title><path d=\"M8 0c2.197 0 4.278.91 5.786 2.49l.01-.01L15.687.6c.13-.13.353-.037.353.147l.042 5.18c0 .114-.094.204-.206.204l-5.18-.068c-.183 0-.276-.222-.146-.353l.73-.728 1.16-1.153.058-.06c-1.17-1.24-2.784-1.966-4.5-1.966-3.415 0-6.196 2.78-6.196 6.195 0 3.417 2.78 6.196 6.197 6.196 2.563 0 4.833-1.58 5.76-3.947 0 0 .07-.273.36-.184l1.177.397c.17.062.238.115.2.29C14.346 13.896 11.366 16 8 16c-4.413 0-8-3.59-8-8s3.587-8 8-8\" fill-rule=\"evenodd\"/>\n",
      "    </symbol>\n",
      "    <symbol id=\"circle-k\" viewBox=\"0 0 833 833\">\n",
      "      <title>circle-k icon</title>\n",
      "      <title>circle-k</title><path d=\"M416.5 833C646.527 833 833 646.527 833 416.5S646.527 0 416.5 0 0 186.473 0 416.5 186.473 833 416.5 833zM223.063 590.81V242.887c0-21.746 7.7-40.36 23.104-55.846 15.403-15.486 34.06-23.228 55.97-23.228 21.58 0 40.154 7.783 55.722 23.35 15.567 15.57 23.35 34.143 23.35 55.724v85.004l96.125-127.754c12.85-17.297 29.982-27.552 51.398-30.764 21.416-3.213 40.937 1.77 58.564 14.95 17.298 12.85 27.553 29.982 30.765 51.398 3.213 21.416-1.77 41.02-14.95 58.81L507.73 406.224l108.973 123.553c13.673 16.968 19.357 36.448 17.05 58.44-2.306 21.993-11.943 39.826-28.91 53.5-16.804 13.343-35.79 19.068-56.96 17.173-21.168-1.895-38.836-10.75-53.003-26.565L381.21 494.193v96.618c0 21.912-7.742 40.568-23.227 55.97-15.486 15.404-34.1 23.105-55.846 23.105-22.075 0-40.773-7.66-56.093-22.98s-22.98-34.02-22.98-56.094z\" stroke=\"#979797\" fill-rule=\"evenodd\"/>\n",
      "    </symbol>\n",
      "    <symbol id=\"circle-left\" viewBox=\"0 0 730 730\">\n",
      "      <title>circle-left icon</title>\n",
      "      <title>circle-left</title><path d=\"M365 0C163.416 0 0 163.416 0 365s163.416 365 365 365 365-163.416 365-365S566.584 0 365 0zm-66.96 365.003l81.934 81.935 16.387-16.387-65.433-65.547 65.44-65.554-16.387-16.388-81.94 81.94z\" fill-rule=\"evenodd\" opacity=\".95\"/>\n",
      "    </symbol>\n",
      "    <symbol id=\"circle-right\" viewBox=\"0 0 730 730\">\n",
      "      <title>circle-right icon</title>\n",
      "      <title>circle-right</title><path d=\"M365 730c201.584 0 365-163.416 365-365S566.584 0 365 0 0 163.416 0 365s163.416 365 365 365zm66.96-365.003l-81.934-81.935-16.387 16.387 65.433 65.547-65.44 65.554 16.387 16.388 81.94-81.94z\" fill-rule=\"evenodd\" opacity=\".95\"/>\n",
      "    </symbol>\n",
      "    <symbol id=\"clipboard\" viewBox=\"0 0 622 793\">\n",
      "      <title>clipboard icon</title>\n",
      "      <title>Artboard Copy 12</title><path d=\"M574.674 57.313c13.522 0 24.34 4.06 33.804 13.534C617.943 80.32 622 92.5 622 106.033v637.42c0 13.534-4.057 25.714-13.522 35.187-9.465 9.473-20.282 13.533-33.804 13.533H50.03c-13.52 0-24.34-4.06-33.804-13.533C5.41 769.167 0 758.34 0 743.453V107.387C0 93.853 5.41 81.673 14.874 72.2c9.465-9.473 21.635-13.533 33.804-13.533h128.457v23.006c0 9.474-2.705 17.594-9.465 24.36-6.76 6.767-14.874 9.474-24.34 9.474H78.426c-13.522 0-21.635 8.12-21.635 23.006v577.874c0 13.533 6.762 21.653 18.932 21.653h467.852c13.522 0 18.93-6.767 18.93-21.653V137.16c0-14.887-6.76-23.007-21.634-23.007h-64.905c-9.465 0-17.578-2.706-24.34-9.473-6.76-6.767-10.816-14.887-10.816-24.36V57.313h133.864zM113.584 340.16v-56.84H311v56.84H113.583zm0 113.68V397h367.79v56.84h-367.79zm0 112.327v-56.84H342.1v56.84H113.583zm0 113.68v-56.84h282.603v56.84H113.583zm28.394-452.014c4.057-39.246 20.283-62.253 50.03-70.373l1.353-1.353c24.34-5.414 36.51-17.594 36.51-35.187V81.673c0-23.006 8.113-41.953 24.34-56.84C270.434 9.947 289.364.473 311 .473c22.987 0 41.917 8.12 56.79 24.36 16.227 16.24 24.34 35.187 24.34 56.84v36.54c0 18.947 12.17 31.127 36.51 36.54h4.056c28.395 8.12 44.62 32.48 47.326 70.374H141.978v2.706zM311 57.313c-14.874 0-22.987 8.12-22.987 24.36 0 16.24 8.113 24.36 22.987 24.36 16.226 0 24.34-8.12 24.34-24.36 0-16.24-8.114-24.36-24.34-24.36z\" fill-rule=\"evenodd\"/>\n",
      "    </symbol>\n",
      "    <symbol id=\"clock\" viewBox=\"0 0 15 16\">\n",
      "      <title>clock icon</title>\n",
      "      <title>Combined Shape</title><path d=\"M7.275 14.325c-3.088 0-5.6-2.512-5.6-5.6 0-3.086 2.512-5.6 5.6-5.6 3.087 0 5.6 2.514 5.6 5.6 0 3.088-2.513 5.6-5.6 5.6m5.84-9.917l.753-.752c.13-.132.13-.346 0-.478l-1.046-1.046c-.132-.13-.346-.13-.478 0l-.752.752c-.705-.522-1.505-.92-2.373-1.16V.337C9.22.15 9.07 0 8.88 0H5.668c-.187 0-.34.15-.34.338v1.385C2.263 2.577 0 5.39 0 8.726 0 12.736 3.264 16 7.275 16c4.01 0 7.275-3.263 7.275-7.274 0-1.618-.538-3.108-1.434-4.318m-5.784.678c-.366-.032-.687.238-.717.604l-.337 3.907c-.004.055-.005.115 0 .17.048.552.532.96 1.082.912.55-.048.96-.533.91-1.083L7.936 5.69c-.027-.316-.278-.576-.603-.604\" fill-rule=\"evenodd\"/>\n",
      "    </symbol>\n",
      "    <symbol id=\"close\" viewBox=\"0 0 640 640\">\n",
      "      <title>close icon</title>\n",
      "      <title>close</title><g fill-rule=\"evenodd\"><path d=\"M565.027 617.58l26.277 26.278 52.554-52.554-26.277-26.277L74.95 22.395 48.67-3.882-3.882 48.672 22.395 74.95\"/><path d=\"M617.046 75.508l26.277-26.277L590.77-3.322 564.49 22.954 22.954 564.492-3.323 590.77l52.554 52.553 26.278-26.277\"/></g>\n",
      "    </symbol>\n",
      "    <symbol id=\"closed-caption\" viewBox=\"0 0 23 16\">\n",
      "      <title>closed-caption icon</title>\n",
      "      <title>Fill 1</title><path d=\"M17.83 10.85c-.628.513-1.43.77-2.41.77-.55 0-1.056-.093-1.517-.278-.46-.185-.853-.444-1.176-.777-.322-.332-.574-.73-.755-1.19-.18-.46-.27-.966-.27-1.518 0-.57.083-1.1.25-1.588.165-.49.41-.914.733-1.27.322-.357.717-.634 1.182-.834.466-.2.998-.3 1.597-.3.437 0 .857.058 1.26.172.405.114.766.288 1.084.52.32.233.578.523.777.87.2.346.313.757.342 1.233h-1.98c-.134-.845-.633-1.268-1.497-1.268-.324 0-.594.074-.813.22-.22.148-.396.338-.534.57-.138.233-.236.49-.292.77-.056.28-.085.56-.085.834 0 .266.03.537.086.812.057.276.15.525.28.75.127.222.3.405.52.547.217.143.483.214.797.214.484 0 .857-.136 1.12-.407.26-.27.424-.634.49-1.09h1.953c-.133.978-.513 1.724-1.14 2.237m-8.195 0c-.627.513-1.43.77-2.41.77-.55 0-1.055-.093-1.516-.278-.462-.185-.854-.444-1.177-.777-.323-.332-.575-.73-.755-1.19-.18-.46-.27-.966-.27-1.518 0-.57.082-1.1.25-1.588.164-.49.41-.914.732-1.27.323-.357.717-.634 1.183-.834.466-.2.998-.3 1.596-.3.436 0 .857.058 1.26.172.404.114.765.288 1.084.52.318.233.577.523.777.87.2.346.314.757.343 1.233H8.75c-.132-.845-.63-1.268-1.495-1.268-.323 0-.594.074-.812.22-.22.148-.397.338-.534.57-.14.233-.237.49-.294.77-.057.28-.085.56-.085.834 0 .266.03.537.086.812.057.276.15.525.278.75.128.222.302.405.52.547.22.143.485.214.8.214.483 0 .856-.136 1.117-.407.263-.27.426-.634.493-1.09h1.952c-.133.978-.513 1.724-1.14 2.237m11.81-9.456c-.154-.24-.447-.38-.688-.55C19.915.223 15.942 0 11.333 0c-4.61 0-8.77.223-9.596.843-.258.172-.55.31-.723.55C.17 2.514.05 4.096 0 7.727c.05 3.63.17 5.214 1.014 6.332.172.26.465.38.723.55.825.638 4.987.845 9.596.88 4.61-.035 8.582-.242 9.424-.88.24-.17.534-.29.688-.55.86-1.118.998-2.7 1.032-6.332-.034-3.63-.172-5.214-1.032-6.332\" fill-rule=\"evenodd\"/>\n",
      "    </symbol>\n",
      "    <symbol id=\"compass\" viewBox=\"0 0 16 16\">\n",
      "      <title>compass icon</title>\n",
      "      <title>Combined Shape Copy 2</title><path d=\"M8.543 8.6l-2.035.917.938-2.088 1.11 1.14-.013.03zm3.632-5.01l-.095.043-5.784 2.61-2.624 5.848c-.085.188.02.37.247.273v.004l5.783-2.61 2.66-5.928v-.003l.015-.028c.08-.178-.04-.283-.203-.21zM8 14.467c-3.565 0-6.467-2.902-6.467-6.467 0-3.565 2.902-6.467 6.467-6.467 3.565 0 6.467 2.902 6.467 6.467 0 3.565-2.902 6.467-6.467 6.467M8 0C3.583 0 0 3.583 0 8c0 4.42 3.583 8 8 8s8-3.58 8-8c0-4.417-3.583-8-8-8\" fill-rule=\"evenodd\"/>\n",
      "    </symbol>\n",
      "    <symbol id=\"conversion\" viewBox=\"0 0 753 614\">\n",
      "      <title>conversion icon</title>\n",
      "      <title>conversion</title><path d=\"M0 306.645l93.117-94.723 94.723 94.723H0zm105.96 0c0 74.922 26.49 138.872 79.472 191.853 52.98 52.98 116.396 79.47 190.248 79.47 48.164 0 93.384-12.308 135.662-36.925 42.277-24.617 75.724-58.332 100.342-101.145l3.21-4.816 30.504 16.055-1.605 6.422c-27.828 48.163-65.824 86.16-113.988 113.987-47.094 27.828-98.47 41.742-154.125 41.742-84.555 0-156.533-29.97-215.936-89.907C100.34 463.445 70.64 391.2 70.64 306.645h35.32zm541.044 0c0-74.923-26.49-138.873-79.47-191.854C514.55 61.81 450.6 35.32 375.68 35.32c-48.165 0-93.117 12.31-134.86 36.926-41.742 24.617-74.92 58.332-99.54 101.145l-3.21 4.817-32.11-16.055 3.212-6.422C137 107.566 174.996 69.57 223.16 41.742 270.254 13.914 321.093 0 375.68 0c84.555 0 156.8 29.968 216.738 89.906 59.938 59.938 89.906 132.183 89.906 216.74h-35.32zm-81.88 0h187.84l-93.116 94.722-94.723-94.722zm-234.397 88.3c9.632 9.633 21.94 15.52 36.925 17.66v-97.933c-12.843-3.21-24.082-6.422-33.714-9.633-9.633-4.282-17.66-9.1-24.083-14.45-6.42-5.352-10.97-11.774-13.646-19.266-2.677-7.492-4.015-16.59-4.015-27.293 0-10.702 1.873-20.87 5.62-30.503 3.746-9.633 9.097-17.66 16.054-24.082 6.956-6.422 14.983-11.506 24.08-15.252 9.1-3.746 19-6.154 29.702-7.224v-24.083h20.87v24.082c19.267 3.21 34.787 10.702 46.56 22.475 11.774 11.774 20.336 28.9 25.688 51.375h-32.11c-4.28-24.617-17.66-39.066-40.137-43.347v89.906l20.872 6.42c5.35 1.07 11.238 3.212 17.66 6.423 6.422 3.21 12.843 7.492 19.265 12.843 6.422 5.352 11.774 12.31 16.055 20.872 4.28 8.562 6.422 18.195 6.422 28.898 0 11.773-1.873 22.21-5.62 31.307-3.745 9.097-9.364 17.392-16.857 24.884-7.492 6.422-16.054 11.506-25.687 15.252-9.633 3.745-20.336 6.154-32.11 7.224v30.504h-20.87v-30.504c-24.618-2.14-44.15-10.436-58.6-24.885-14.45-14.45-22.744-34.518-24.885-60.206h32.11c0 16.055 4.816 28.898 14.45 38.53zm6.42-186.234c-8.56 7.493-12.842 18.196-12.842 32.11 0 6.422 1.07 12.04 3.21 16.858 2.14 4.816 5.085 8.562 8.83 11.238 3.747 2.676 8.296 5.084 13.647 7.225 5.352 2.14 11.238 4.282 17.66 6.423v-86.696c-11.773 1.07-21.94 5.352-30.504 12.844zm69.037 200.685c6.422-2.14 11.773-5.084 16.054-8.83 4.282-3.747 7.492-8.563 9.633-14.45 2.142-5.887 3.212-12.576 3.212-20.068 0-7.492-1.07-13.647-3.21-18.463-2.142-4.816-5.352-8.83-9.634-12.04-4.28-3.212-9.632-5.888-16.054-8.028-5.352-2.14-11.24-4.282-17.66-6.422v91.51c6.42 0 12.308-1.07 17.66-3.21z\" fill-rule=\"evenodd\"/>\n",
      "    </symbol>\n",
      "    <symbol id=\"delta-down\" viewBox=\"0 0 12 6\">\n",
      "      <title>delta-down icon</title>\n",
      "      <title>Fill 1</title><path d=\"M.307 0h10.775c.273 0 .41.33.216.523L5.91 5.91c-.12.12-.312.12-.432 0L.09.523C-.103.33.034 0 .307 0\" fill-rule=\"evenodd\"/>\n",
      "    </symbol>\n",
      "    <symbol id=\"delta-left\" viewBox=\"0 0 7 12\">\n",
      "      <title>delta-left icon</title>\n",
      "      <path d=\"M6.694.613v10.774c0 .273-.33.41-.523.217L.785 6.217c-.12-.12-.12-.314 0-.434L6.17.396c.194-.193.524-.056.524.217\" fill-rule=\"evenodd\"/>\n",
      "    </symbol>\n",
      "    <symbol id=\"delta-right\" viewBox=\"0 0 7 12\">\n",
      "      <title>delta-right icon</title>\n",
      "      <title>Fill 1</title><path d=\"M.694.613v10.774c0 .273.33.41.524.217l5.387-5.387c.12-.12.12-.314 0-.434L1.218.396C1.024.203.694.34.694.613\" fill-rule=\"evenodd\"/>\n",
      "    </symbol>\n",
      "    <symbol id=\"delta-up\" viewBox=\"0 0 12 6\">\n",
      "      <title>delta-up icon</title>\n",
      "      <title>Fill 1</title><path d=\"M.307 6h10.775c.273 0 .41-.33.216-.523L5.91.09c-.12-.12-.312-.12-.432 0L.09 5.477C-.103 5.67.034 6 .307 6\" fill-rule=\"evenodd\"/>\n",
      "    </symbol>\n",
      "    <symbol id=\"duplicate\" viewBox=\"0 0 591 751\">\n",
      "      <title>duplicate icon</title>\n",
      "      <title>duplicate</title><path d=\"M65.59 688.417V93.875H0V751h491.935v-62.583H65.59zM437.208 0H98.387v657.125h491.935V146.68L437.207 0zm87.524 219.042H360.753V62.582h32.796V187.75H524.73v31.292z\" fill-rule=\"evenodd\"/>\n",
      "    </symbol>\n",
      "    <symbol id=\"embed\" viewBox=\"0 0 26 16\">\n",
      "      <title>embed icon</title>\n",
      "      <title>Combined Shape Copy 6</title><path d=\"M25.33 7.473L18.005 2.32c-.213-.152-.432-.074-.432.186V4.4c0 .302.016.38.186.496l4.21 2.962v.002l.083.06-.084.06v.003l-4.21 2.962c-.17.115-.187.193-.187.494v1.894c0 .26.22.336.432.186l7.325-5.152c.23-.162.342-.307.342-.448 0-.142-.113-.285-.342-.447zM13.81 0c-.134 0-.19.074-.214.176L11.47 8h.002l-2.124 7.818c-.037.13-.006.182.115.182h1.995c.135 0 .188-.074.213-.176h.003L13.797 8 15.92.18c.036-.13.005-.182-.116-.182H13.81zM7.666 2.32L.342 7.472c-.23.16-.342.305-.342.448 0 .142.113.286.342.446l7.325 5.155c.213.15.432.075.432-.187v-1.895c0-.3-.017-.377-.187-.493L3.7 7.98h.003l-.084-.06.083-.062-.002-.002 4.213-2.962c.17-.115.186-.193.186-.494V2.507c0-.262-.22-.338-.433-.188z\" fill-rule=\"evenodd\"/>\n",
      "    </symbol>\n",
      "    <symbol id=\"eye\" viewBox=\"0 0 23 16\">\n",
      "      <title>eye icon</title>\n",
      "      <title>Combined Shape Copy 12</title><path d=\"M22.935 7.746c.11.154.11.354 0 .508C21.962 9.62 17.73 16 11.51 16 5.286 16 1.056 9.62.082 8.254c-.11-.154-.11-.354 0-.508C1.057 6.38 5.287 0 11.51 0c6.22 0 10.452 6.38 11.425 7.746zM11.51 13.333c2.944 0 5.332-2.388 5.332-5.333 0-2.945-2.388-5.333-5.333-5.333-2.946 0-5.334 2.388-5.334 5.333 0 2.945 2.388 5.333 5.333 5.333zm0-8c1.47 0 2.666 1.197 2.666 2.667 0 1.47-1.197 2.667-2.667 2.667C10.04 10.667 8.84 9.47 8.84 8c0-1.47 1.197-2.667 2.667-2.667z\" fill-rule=\"evenodd\"/>\n",
      "    </symbol>\n",
      "    <symbol id=\"facebook-contained\" viewBox=\"0 0 17 16\">\n",
      "      <title>facebook-contained icon</title>\n",
      "      <title>Facebook Contained</title><path d=\"M15.37 0H.9C.402 0 0 .395 0 .883v14.234c0 .488.402.883.898.883H8.69V9.804H6.57V7.39h2.12V5.607c0-2.066 1.283-3.19 3.158-3.19.898 0 1.67.064 1.894.094v2.16h-1.3c-1.02 0-1.217.476-1.217 1.176v1.54h2.432l-.317 2.416h-2.115V16h4.146c.497 0 .9-.395.9-.883V.883c0-.488-.403-.883-.9-.883\" fill-rule=\"evenodd\"/>\n",
      "    </symbol>\n",
      "    <symbol id=\"facebook\" viewBox=\"0 0 17 16\">\n",
      "      <title>facebook icon</title>\n",
      "      <title>Facebook logo</title><path d=\"M15.37 0H.9C.402 0 0 .395 0 .883v14.234c0 .488.402.883.898.883H8.69V9.804H6.57V7.39h2.12V5.607c0-2.066 1.283-3.19 3.158-3.19.898 0 1.67.064 1.894.094v2.16h-1.3c-1.02 0-1.217.476-1.217 1.176v1.54h2.432l-.317 2.416h-2.115V16h4.146c.497 0 .9-.395.9-.883V.883c0-.488-.403-.883-.9-.883\" fill-rule=\"evenodd\"/>\n",
      "    </symbol>\n",
      "    <symbol id=\"flag\" viewBox=\"0 0 15 16\">\n",
      "      <title>flag icon</title>\n",
      "      <title>Fill 1 Copy 3</title><path d=\"M12.63.662c-.097-.286-.41-.438-.695-.34l-2.628.908L9.01.37C8.913.083 8.6-.07 8.316.03l-5.77 1.99c-.044.015-.078.043-.114.066L1.904.556c-.055-.16-.23-.244-.39-.19L.207.82c-.16.054-.244.228-.19.388l5.03 14.585c.056.16.23.246.39.19l1.308-.45c.16-.056.245-.23.19-.39L4.55 8.225c.042-.004.085-.002.128-.017l3.245-1.12.297.86c.098.286.41.437.696.34l5.154-1.78c.285-.097.437-.408.34-.694L12.63.662z\" fill-rule=\"evenodd\"/>\n",
      "    </symbol>\n",
      "    <symbol id=\"gear\" viewBox=\"0 0 16 16\">\n",
      "      <title>gear icon</title>\n",
      "      <title>Fill 1 Copy 14</title><path d=\"M7.592 11.02c-1.675 0-3.033-1.36-3.033-3.034 0-1.675 1.357-3.033 3.032-3.033s3.033 1.358 3.033 3.033c0 1.675-1.358 3.033-3.033 3.033M13.632 8c0-.284-.047-.554-.083-.826l1.634-1.533c-.357-1.144-.944-2.178-1.736-3.04l-2.155.652c-.442-.344-.92-.642-1.446-.854L9.334.204C8.77.08 8.192 0 7.592 0c-.6 0-1.18.08-1.743.204l-.513 2.194c-.527.212-1.004.51-1.446.854l-2.154-.65C.944 3.46.356 4.495 0 5.64l1.635 1.532c-.038.272-.082.542-.082.825 0 .282.044.554.082.825L0 10.36c.357 1.144.944 2.178 1.736 3.038l2.155-.65c.443.346.92.64 1.447.856l.512 2.192c.563.127 1.142.204 1.742.204.6 0 1.18-.077 1.742-.204l.513-2.192c.527-.215 1.004-.51 1.446-.856l2.155.65c.792-.86 1.38-1.894 1.736-3.037L13.55 8.826c.035-.27.08-.543.08-.826\" fill-rule=\"evenodd\"/>\n",
      "    </symbol>\n",
      "    <symbol id=\"global-africa\" viewBox=\"0 0 16 16\">\n",
      "      <title>global-africa icon</title>\n",
      "      <title>Fill 1 Copy 9</title><path d=\"M8 14.467c-3.565 0-6.467-2.902-6.467-6.467 0-3.48 2.768-6.304 6.214-6.44-.052.108-.118.217-.223.288-.275.183-.3.048-.523.34-.22.292-.09.18 0 .477.092.298.25.058.336.404.087.345.325.35.063.487-.264.136-.464.027-.62.12-.16.092-.036.28-.297.427-.262.148-.412-.017-.56.17-.146.187-.12.117-.2.378-.078.26-.136.543.153.4.29-.147.4-.073.696-.12.293-.044.56-.477 1.063-.547.5-.07.18.224.564.442.383.218.277-.158.713.122.436.278.698.034.663.382-.005.05.013.085.027.125h-.018c.012.126.07.35-.08.492-.12.11-.324.145-.528.23-.05.016-.1.03-.142.057-.006.003-.01.003-.014.006 0 0 0 .004-.003.005-.18.12-.313.276-.566.195-.37-.12-.395-.068-.397-.38 0-.31.144-.8-.3-.768-.444.032-.71-.036-1.277.116-.57.154-.865.523-1.227.723-.36.2-.43.41-.47 1.087-.04.68.27.51.2.96-.07.447.3.395.637.635.34.24.27.24 1.138.1.868-.14.698-.1.91.096.208.195-.06.535-.032.814.03.28.37.16.3.728-.07.57-.074.783.01 1.19.084.407.462.52.58.99.118.475.242.616.552.465.31-.15.658-.41.92-.47s.284-.51.442-1.047c.158-.536.563-.708.502-.983-.064-.274-.244-1.293-.144-1.657.1-.363.4-.21.524-.616.124-.405.363-.573-.19-.644-.517-.065-1-.69-.983-.94-.008-.25-.223-.4.06-.384.184.01.286.005.377-.02.053-.005.1-.025.145-.057.002-.003.003-.003.006-.004.08-.06.185-.137.44-.184.477-.084.193.112.624.19.432.08.757.04.856.458.1.42-.053.76.167.87.22.11.51.175.528-.258.018-.435-.217-.3-.098-.612.117-.31-.16-.256.185-.464.347-.21.076.23.306.464.105.11.262.25.4.372l.016.013c.037.034.067.06.1.088l.37.32c.007.123.038.242.038.367 0 3.565-2.9 6.467-6.468 6.467M8 0C3.583 0 0 3.58 0 8c0 4.417 3.583 8 8 8 4.42 0 8-3.583 8-8 0-4.42-3.58-8-8-8\" fill-rule=\"evenodd\"/>\n",
      "    </symbol>\n",
      "    <symbol id=\"global-america\" viewBox=\"0 0 16 16\">\n",
      "      <title>global-america icon</title>\n",
      "      <title>Fill 1 Copy 10</title><path d=\"M11.477 13.392c.154-.377.428-.52.62-.745.247-.288.186-.37.166-.66-.022-.288.332-.37.02-.7-.31-.33-.826-.475-1.052-.62-.225-.143-.02-.35-.494-.39-.473-.04-.392-.04-.948-.186-.556-.143-.97-.31-1.195-.205 0 0-.494.166-.557.475-.06.308-.103.535-.33.74-.226.208-.494.165 0 .68.495.516 1.01.68 1.05.847.043.164.25.082.66.536.34.373.496.537.588.914-.635.21-1.3.352-2.004.352-3.545 0-6.43-2.885-6.43-6.43 0-1.984.925-3.74 2.34-4.92.294.083.22 1.11.48 1.22.26.112-.594.556-.74 1.408-.15.852 0 2.335.37 2.224.37-.112.48.11.63.296.147.185-.037.48.59.964.632.48.78.444 1.336.667.556.22.52.22.593.517.073.296.333.148.333 0s.222-.89-.15-.89c-.37 0-1-.036-1.073-.295-.075-.26-.333-.483-.037-.89.296-.407.444-.37.704-.37.26 0 .222.296.406.407.142.083.216.417.31.484.126.06.224-.073.19-.23-.032-.155-.042-.39.07-.525.084-.1.054-.138.136-.214l.024-.02c.023-.017.05-.04.088-.06.06-.043.13-.088.22-.14.815-.483 1.073-.564 1-.93-.073-.367-.073-.627.26-.627s.815.147.815-.15c0-.295.556-.48 0-.703-.556-.223-.407-.815-.89-.742-.48.075-.48.223-.556.446-.072.223-.183.482-.48.407-.297-.073-.223-.37-.408-.444-.184-.074-.296-.222-.26-.556.037-.333.305-.416.593-.333.52.148.594.185.556-.075-.036-.26.445-.445.224-.593-.223-.148-.63.075-.704-.297-.075-.37-.26-.096-.48-.177-.224-.082-.187-.49-.817-.527-.6-.035-1.088.048-1.327-.388.656-.227 1.35-.376 2.084-.376 1.277 0 2.46.384 3.46 1.028-.065.153-.144.292-.248.512-.148.313-.22.277-.24.74-.02.46-.24.533.147.7.387.165.46.387.553 0 .092-.388.203-.536.37-.572.165-.037.406.036.534-.277.023-.054.048-.084.074-.116C13.746 4.74 14.43 6.287 14.43 8c0 2.263-1.18 4.245-2.95 5.392M8 0C3.588 0 0 3.59 0 8s3.588 8 8 8c4.41 0 8-3.59 8-8s-3.59-8-8-8\" fill-rule=\"evenodd\"/>\n",
      "    </symbol>\n",
      "    <symbol id=\"global-asia\" viewBox=\"0 0 16 16\">\n",
      "      <title>global-asia icon</title>\n",
      "      <title>Fill 1 Copy 17</title><path d=\"M11.72 13.223c.113-.2.243-.423.355-.62.258-.454.114-1-.258-1.398-.372-.398-.38-.86-.62-1.044-.24-.184.114-.6.852-.08s.387-.403-.11-.52c-.495-.117-.292-.27-.59-.66-.298-.387-.597-.313-.97-.324-.37-.012-.364.11-.505 0-.14-.11-.01-.404-.29-.31-.278.093-.48.257-.312.458.168.203.56.183.52.632-.042.448.89.065.698.893-.19.825-.635.237-.44.133.198-.104-.03-.338-.443-.303-.415.033-.57-.06-.754.337-.186.4-.75.62-1.078.788-.696.36-1.163.034-1.166.52-.002.487 0 .662-.01 1.055-.015.393-.507.3-.507.692 0 .392.438.288.994.31.556.02.042-.106.79-.373.75-.267.864-.58 1.11-.094.22.433.504.456.653.873-.527.14-1.07.238-1.64.238-3.427 0-6.21-2.703-6.393-6.085.058-.03.11-.047.177-.09.493-.312.39-.668.777-.804.387-.135.76-.342.803-.033.045.308.072.215.273.434.2.22.23.24.34.74.108.5.375.262.55.577.177.313.175.454.52.368.347-.086.146-.434-.078-.618-.224-.184-.228-.537-.035-.765.194-.228.346-.195.556-.556.21-.363.362-.27.686-.104.325.167.033.375.117.465.043.048.11.11.18.163H6.47c.334.325.657 1.017.977.872.32-.145.285-.83.58-1.136.146-.25.106-.25.298-.308l.008.005c.036-.014.06-.03.116-.045.41-.108.25-.16.447-.333.195-.175.34-.4.292-.6-.05-.2-.127-.182 0-.32.126-.14.222-.11.327-.146.106-.037-.077.15.278.257.354.108.28-.146.514-.28.235-.132.27.025.41-.094.14-.118.144-.092 0-.35-.144-.26-.05-.242-.12-.403-.065-.163-.067-.19.13-.232.194-.04.017-.368-.247-.435-.262-.068-.25-.05-.31-.248-.057-.197-.094-.172-.172-.352-.075-.18-.14-.48-.433-.464-.292.015-.575.258-.708.15-.135-.11-.124-.168-.04-.364.087-.196-.032-.243.287-.172.317.072.35.176.545.08.2-.095-.03-.364.255-.28.285.084.574 0 .505.172-.07.172-.25.327-.035.433.216.106.29.754.714.403.427-.35.11-.517-.02-.6-.13-.08-.375-.19-.185-.306.19-.118.256.097.598-.118l.222-.146C13.348 3.93 14.428 5.836 14.428 8c0 2.156-1.075 4.056-2.708 5.223M8 0C3.588 0 0 3.588 0 8c0 4.41 3.588 8 8 8s8-3.59 8-8c0-4.412-3.588-8-8-8\" fill-rule=\"evenodd\"/>\n",
      "    </symbol>\n",
      "    <symbol id=\"graph-bar\" viewBox=\"0 0 21 16\">\n",
      "      <title>graph-bar icon</title>\n",
      "      <title>Combined Shape Copy 9</title><path d=\"M20.36 16H.167C.075 16 0 15.925 0 15.83v-1.628c0-.092.075-.17.168-.17h20.19c.095 0 .172.078.172.17v1.63c0 .093-.077.168-.17.168zM5.685 3.122v9.15c0 .08-.075.144-.17.144h-1.63c-.09 0-.167-.064-.167-.144v-9.15c0-.08.076-.146.167-.146h1.63c.094 0 .17.065.17.146zM9.26.152v12.112c0 .085-.074.153-.17.153H7.464c-.093 0-.17-.068-.17-.153V.154c0-.086.077-.154.17-.154H9.09c.096 0 .17.068.17.153zm3.604 4.962v7.135c0 .093-.075.168-.17.168h-1.628c-.092 0-.17-.075-.17-.17V5.115c0-.094.078-.17.17-.17h1.63c.093 0 .168.076.168.17zm3.574-3.517V12.27c0 .08-.075.147-.17.147H14.64c-.092 0-.17-.067-.17-.148V1.596c0-.084.078-.15.17-.15h1.63c.093 0 .168.066.168.15z\" fill-rule=\"evenodd\"/>\n",
      "    </symbol>\n",
      "    <symbol id=\"graph-line\" viewBox=\"0 0 21 16\">\n",
      "      <title>graph-line icon</title>\n",
      "      <title>Combined Shape Copy 16</title><path d=\"M19.88 16H.163C.074 16 0 15.927 0 15.835v-1.59c0-.093.074-.166.164-.166H19.88c.09 0 .166.072.166.164v1.59c0 .093-.075.166-.167.166zm.165-14.664c0 .74-.598 1.337-1.338 1.337-.737 0-1.336-.598-1.336-1.337C17.37.6 17.97 0 18.708 0c.74 0 1.338.6 1.338 1.336zm-2.27 2.012l-1.133-.998c-.037-.033-.084-.056-.14-.056-.07 0-.122.04-.16.095L11.34 8.086 8.71 5.053c-.288-.334-.708-.53-1.147-.543-.386-.008-.872.164-1.178.485l-6.3 6.57c-.13.13-.096.23 0 .325l1.075 1.03c.075.076.187.103.3-.014l6.05-6.308 2.635 3.046c.29.34.72.54 1.17.544.382-.005.883-.182 1.197-.528l5.286-6.02h-.002c.09-.105.085-.2-.02-.292z\" fill-rule=\"evenodd\"/>\n",
      "    </symbol>\n",
      "    <symbol id=\"heart\" viewBox=\"0 0 19 16\">\n",
      "      <title>heart icon</title>\n",
      "      <title>Fill 1 Copy 8</title><path d=\"M17.122.952C15.87.042 14.17-.204 12.68.164c-1.452.368-2.547 1.46-3.204 2.734C8.82 1.624 7.726.532 6.276.164 4.783-.204 3.082.04 1.83.952.227 2.118-.367 4.202.224 6.075.666 7.48 1.637 8.722 2.67 9.753c2.1 2.102 5.254 5.032 6.372 6.062.11.112.264.185.434.185.172 0 .324-.073.436-.185 1.118-1.03 4.27-3.96 6.373-6.062 1.03-1.03 2-2.273 2.445-3.678.59-1.874-.003-3.957-1.608-5.123\" fill-rule=\"evenodd\"/>\n",
      "    </symbol>\n",
      "    <symbol id=\"help\" viewBox=\"0 0 726 726\">\n",
      "      <title>help icon</title>\n",
      "      <path d=\"M0 363c0-49.156 9.57-96.126 28.714-140.91 19.143-44.785 44.902-83.365 77.28-115.742C138.37 73.97 176.95 48.152 221.734 28.89 266.52 9.63 313.607 0 363 0c49.156 0 96.126 9.63 140.91 28.89 44.785 19.262 83.365 45.08 115.742 77.458 32.377 32.377 58.196 70.957 77.457 115.74C716.37 266.875 726 313.845 726 363c0 49.393-9.63 96.48-28.89 141.265-19.262 44.785-45.08 83.365-77.458 115.742-32.377 32.377-70.957 58.136-115.74 77.28C459.125 716.427 412.155 726 363 726c-49.393 0-96.48-9.57-141.265-28.714-44.785-19.143-83.365-44.902-115.742-77.28-32.377-32.376-58.136-70.956-77.28-115.74C9.573 459.48 0 412.392 0 363zm211.632-181.5l60.618 60.618c1.182-1.18 2.895-2.777 5.14-4.785 2.245-2.01 6.795-5.672 13.648-10.99 6.854-5.317 13.707-9.925 20.56-13.825 6.854-3.9 15.007-7.503 24.46-10.812 9.454-3.31 18.434-4.963 26.942-4.963 21.742 0 39.762 6.086 54.06 18.257 14.298 12.17 21.447 26.173 21.447 42.007 0 8.035-2.245 15.538-6.736 22.51-4.49 6.972-10.28 13.057-17.37 18.256-7.09 5.2-14.884 10.4-23.392 15.598-8.508 5.2-17.075 10.757-25.7 16.665-8.627 5.908-16.485 12.29-23.575 19.143-7.09 6.853-12.88 15.36-17.37 25.523-4.49 10.16-6.734 21.388-6.734 33.677v30.132h90.75v-14.89c0-6.853 3.012-13.41 9.04-19.674 6.025-6.263 13.47-11.817 22.332-16.66 8.86-4.846 18.55-11.05 29.068-18.612 10.517-7.563 20.206-15.775 29.068-24.637 8.863-8.863 16.307-20.856 22.333-35.98 6.027-15.126 9.04-32.142 9.04-51.048 0-44.43-16.01-80.707-48.034-108.83-32.022-28.123-71.43-42.185-118.223-42.185-17.015 0-33.794 2.6-50.337 7.8-16.543 5.198-30.663 11.52-42.362 18.964-11.697 7.444-22.154 14.83-31.37 22.155-9.218 7.326-16.07 13.59-20.56 18.788l-6.737 7.8zm90.75 393.132c0 16.78 5.908 31.077 17.724 42.893C331.923 629.342 346.22 635.25 363 635.25c16.78 0 31.077-5.908 42.894-17.725 11.816-11.816 17.724-26.114 17.724-42.893 0-16.78-5.908-31.018-17.724-42.716-11.817-11.7-26.115-17.548-42.894-17.548-16.78 0-31.077 5.85-42.894 17.548-11.816 11.698-17.724 25.936-17.724 42.716z\" fill-rule=\"evenodd\"/>\n",
      "    </symbol>\n",
      "    <symbol id=\"human\" viewBox=\"0 0 44 52\">\n",
      "      <title>human icon</title>\n",
      "      <title>icon--human</title><path d=\"M36 14c0 7.732-6.268 14-14 14S8 21.732 8 14 14.268 0 22 0s14 6.268 14 14zM1 52c-.552 0-1-.448-1-1v-7.872c0-.28.114-.552.318-.746C5.78 37.23 13.46 34 22 34c8.538 0 16.218 3.228 21.682 8.382.204.194.318.466.318.746V51c0 .552-.448 1-1 1H1z\" fill-rule=\"evenodd\"/>\n",
      "    </symbol>\n",
      "    <symbol id=\"icon--alarm\" viewBox=\"0 0 60 60\">\n",
      "      <title>icon--alarm icon</title>\n",
      "      <title>icon--alarm</title><path d=\"M30 56C16.745 56 6 45.255 6 32S16.745 8 30 8s24 10.745 24 24-10.745 24-24 24zm0-6c9.94 0 18-8.06 18-18s-8.06-18-18-18-18 8.06-18 18 8.06 18 18 18zM6.128 11.27l9.948-6.71c.458-.31 1.08-.19 1.388.27L19.7 8.144l-11.605 7.83-2.237-3.317c-.31-.458-.188-1.08.27-1.388zm37.796-6.71l9.948 6.71c.458.308.58.93.27 1.388l-2.237 3.316L40.3 8.144l2.236-3.315c.308-.46.93-.58 1.388-.27zm-12.17 32.25c-.06.07-.123.14-.19.208-1.172 1.172-3.036 1.207-4.164.078-.12-.12-1.9-2.52-5.342-7.202-.43-.578-.355-1.4.172-1.928l.282-.282c.527-.527 1.35-.602 1.928-.173l3.984 2.956 8.137-7.203c.797-.6 1.913-.518 2.616.185l.376.376c.703.703.784 1.82.185 2.615L31.77 36.8c-.003.005-.01.008-.016.01z\" fill-rule=\"evenodd\"/>\n",
      "    </symbol>\n",
      "    <symbol id=\"icon--alert\" viewBox=\"0 0 60 60\">\n",
      "      <title>icon--alert icon</title>\n",
      "      <title>icon--alert</title><g fill-rule=\"evenodd\"><path d=\"M30 4c14.36 0 26 11.64 26 26S44.36 56 30 56 4 44.36 4 30 15.64 4 30 4zm0 46.5c11.304 0 20.5-9.196 20.5-20.5S41.304 9.5 30 9.5 9.5 18.696 9.5 30 18.696 50.5 30 50.5zm0-13c1.93 0 3.5 1.57 3.5 3.5s-1.57 3.5-3.5 3.5-3.5-1.57-3.5-3.5 1.57-3.5 3.5-3.5zM28.23 34c-.277 0-.5-.202-.5-.45l-.48-4.95V16.45c0-.248.223-.45.5-.45h4.5c.275 0 .5.202.5.45V28.6l-.49 4.95c0 .248-.223.45-.5.45h-3.53z\"/></g>\n",
      "    </symbol>\n",
      "    <symbol id=\"icon--arrow-down\" viewBox=\"0 0 60 60\">\n",
      "      <title>icon--arrow-down icon</title>\n",
      "      <title>icon--arrow-down</title><g fill-rule=\"evenodd\"><path d=\"M40.707 42H33V5c0-.552-.447-1-1-1h-4c-.553 0-1 .448-1 1v37h-7.707c-.874 0-1.326 1.042-.732 1.68l10.707 11.53c.396.426 1.07.426 1.466 0L41.44 43.68c.593-.638.14-1.68-.733-1.68\"/></g>\n",
      "    </symbol>\n",
      "    <symbol id=\"icon--arrow-left\" viewBox=\"0 0 60 60\">\n",
      "      <title>icon--arrow-left icon</title>\n",
      "      <title>icon--arrow-left</title><g fill-rule=\"evenodd\"><path d=\"M55 27H18v-7.708c0-.872-1.042-1.326-1.68-.732L4.79 29.268c-.426.396-.426 1.068 0 1.464L16.32 41.44c.638.594 1.68.14 1.68-.732V33h37c.552 0 1-.448 1-1v-4c0-.552-.448-1-1-1\"/></g>\n",
      "    </symbol>\n",
      "    <symbol id=\"icon--arrow-right\" viewBox=\"0 0 60 60\">\n",
      "      <title>icon--arrow-right icon</title>\n",
      "      <title>icon--arrow-right</title><g fill-rule=\"evenodd\"><path d=\"M55.363 29.268L43.68 18.42c-.64-.594-1.68-.142-1.68.732V27H5c-.553 0-1 .448-1 1v4c0 .554.447 1 1 1h37v7.848c0 .874 1.04 1.328 1.68.734l11.683-10.85c.426-.394.426-1.068 0-1.464\"/></g>\n",
      "    </symbol>\n",
      "    <symbol id=\"icon--arrow-up-right\" viewBox=\"0 0 60 60\">\n",
      "      <title>icon--arrow-up-right icon</title>\n",
      "      <title>icon--arrow-up-right</title><g fill-rule=\"evenodd\"><path d=\"M53.03 6H36.97c-.863 0-1.295 1.042-.685 1.652l5.91 5.91-35.61 35.61c-.39.39-.39 1.024 0 1.414l2.828 2.828c.392.39 1.024.39 1.414 0l35.61-35.61 5.91 5.91c.61.61 1.652.178 1.652-.684V6.968c0-.534-.433-.968-.97-.968\"/></g>\n",
      "    </symbol>\n",
      "    <symbol id=\"icon--arrow-up\" viewBox=\"0 0 60 60\">\n",
      "      <title>icon--arrow-up icon</title>\n",
      "      <title>icon--arrow-up</title><g fill-rule=\"evenodd\"><path d=\"M41.44 16.32L30.73 4.79c-.393-.427-1.067-.427-1.463 0L18.56 16.32c-.595.64-.14 1.68.733 1.68H27v37c0 .553.447 1 1 1h4c.553 0 1-.447 1-1V18h7.707c.872 0 1.326-1.04.732-1.68\"/></g>\n",
      "    </symbol>\n",
      "    <symbol id=\"icon--backer-badge\" viewBox=\"0 0 784 750\">\n",
      "      <title>icon--backer-badge icon</title>\n",
      "      <title>icon--backer-badge</title><path d=\"M768.94 337.98l-27.475-28.2c-19.414-20.144-32.236-59.698-28.206-87.532l5.127-38.82c4.03-28.202-15.385-54.937-43.225-59.7l-38.463-6.957c-27.84-4.76-61.542-29.298-74.73-54.203L543.656 28.14C530.467 3.237 498.598-7.017 473.322 5.07L438.156 22.28c-25.276 12.453-67.036 12.453-92.312 0L310.678 5.07c-25.276-12.086-57.145-1.832-70.333 23.073L222.03 62.568c-13.188 24.905-46.89 49.443-74.73 54.204l-38.462 6.96c-27.84 4.76-47.255 31.496-43.225 59.697l5.128 38.82c4.03 27.835-8.79 67.39-28.205 87.532l-27.474 28.2c-19.414 20.51-19.414 53.47 0 73.98l27.475 28.2C61.95 460.305 74.77 499.86 70.74 527.693l-5.127 38.822c-4.03 28.2 15.385 54.936 43.225 59.697l38.463 6.96c27.84 4.76 61.542 29.3 74.73 54.203l18.315 34.427c13.188 24.904 45.057 35.16 70.333 23.073l35.166-17.214c25.276-12.453 67.036-12.453 92.312 0l35.166 17.213c25.276 12.086 57.145 1.83 70.333-23.073l18.316-34.427c13.188-24.904 46.89-49.442 74.73-54.204l38.462-6.96c27.84-4.76 47.255-31.496 43.225-59.696l-5.128-38.822c-4.03-27.834 8.79-67.388 28.205-87.53l27.474-28.202c19.414-20.51 19.414-53.47 0-73.98zM483.944 504.985c-11.356 9.89-22.345 16.115-34.067 19.045-8.425 2.197-21.246 3.296-39.196 3.296h-80.59c-19.414 0-33.7-5.127-43.225-15.016-6.593-7.325-10.623-15.016-12.088-23.44-.734-4.028-1.1-13.184-1.1-27.467l-.366-188.248c-.367-18.678 7.326-32.96 22.345-42.85 7.325-4.76 17.582-7.69 30.403-8.423 2.93-.366 13.554-.366 45.79-.366 24.543 0 42.126 1.098 53.115 3.662 24.177 5.86 42.493 18.678 54.948 38.455 10.257 16.115 15.385 33.694 15.385 52.74 0 15.015-4.76 30.763-14.285 47.244 12.088 11.72 20.147 22.34 24.543 31.496 6.227 13.185 9.158 27.102 9.158 41.385 0 27.102-10.257 50.175-30.77 68.487z\" fill-rule=\"nonzero\"/>\n",
      "    </symbol>\n",
      "    <symbol id=\"icon--bell\" viewBox=\"0 0 60 60\">\n",
      "      <title>icon--bell icon</title>\n",
      "      <title>icon--bell</title><g fill-rule=\"evenodd\"><path d=\"M51.14 41.56c.547 1.136.86 2.384.86 3.704v.282c0 .252-.223.454-.5.454h-43c-.275 0-.5-.202-.5-.454v-.282c0-1.32.313-2.568.86-3.704h-.01C14 33.272 14 26 14 20.546 14 13.412 19.654 7.49 27.108 6.25 27.44 4.958 28.603 4 30 4c1.397 0 2.56.958 2.893 2.25C40.347 7.49 46 13.412 46 20.546 46 26 46 33.272 51.15 41.56h-.01zM36.316 50c.724 0 1.232.756.922 1.412C35.957 54.124 33.197 56 30 56c-3.197 0-5.957-1.876-7.237-4.586-.31-.656.198-1.412.922-1.412L36.315 50z\"/></g>\n",
      "    </symbol>\n",
      "    <symbol id=\"icon--bolt\" viewBox=\"0 0 32 48\">\n",
      "      <title>icon--bolt icon</title>\n",
      "      <title>icon--bolt</title><path d=\"M17.928 20.115L20.7 1.947C20.97.19 18.702-.735 17.684.72L.268 25.586c-.676.966.008 2.298 1.18 2.298h12.624l-2.77 18.168c-.27 1.76 1.998 2.682 3.014 1.228l17.416-24.87c.676-.963-.008-2.295-1.18-2.295H17.928z\" fill-rule=\"evenodd\"/>\n",
      "    </symbol>\n",
      "    <symbol id=\"icon--bookmark-outline\" viewBox=\"0 0 12 16\">\n",
      "      <title>icon--bookmark-outline icon</title>\n",
      "      <title>icon--bookmark-outline</title><path d=\"M0 0h12v15.067c0 .166-.134.3-.3.3-.055 0-.11-.015-.156-.043l-5.5-3.338-5.59 3.343c-.142.084-.326.037-.41-.105-.03-.046-.044-.1-.044-.154V0zm1.8 1.8v10.627l4.25-2.542 4.15 2.517V1.8H1.8z\" fill-rule=\"nonzero\"/>\n",
      "    </symbol>\n",
      "    <symbol id=\"icon--bookmark\" viewBox=\"0 0 30 30\">\n",
      "      <title>icon--bookmark icon</title>\n",
      "      <title>icon--bookmark</title><path d=\"M6.5 3.5v21.856l8.58-5.13 8.42 5.11V3.5h-17z\"/>\n",
      "    </symbol>\n",
      "    <symbol id=\"icon--calculator\" viewBox=\"0 0 30 30\">\n",
      "      <title>icon--calculator icon</title>\n",
      "      <title>icon--calculator</title><path d=\"M8.02 8.02h13.96v4.65H8.02zM20.82 16.15v4.65a1.17 1.17 0 1 1-2.33 0v-4.65a1.17 1.17 0 0 1 2.33 0zM16.16 20.83A1.16 1.16 0 1 1 15 19.67a1.16 1.16 0 0 1 1.16 1.16zM16.16 16.16A1.16 1.16 0 1 1 15 15a1.16 1.16 0 0 1 1.16 1.16zM11.51 20.83a1.17 1.17 0 1 1-1.16-1.16 1.16 1.16 0 0 1 1.16 1.16zM11.51 16.16A1.17 1.17 0 1 1 10.35 15a1.16 1.16 0 0 1 1.16 1.16z\"/><path d=\"M11.51 20.83a1.17 1.17 0 1 1-1.16-1.16 1.16 1.16 0 0 1 1.16 1.16zM11.51 16.16A1.17 1.17 0 1 1 10.35 15a1.16 1.16 0 0 1 1.16 1.16zM16.16 20.83A1.16 1.16 0 1 1 15 19.67a1.16 1.16 0 0 1 1.16 1.16zM16.16 16.16A1.16 1.16 0 1 1 15 15a1.16 1.16 0 0 1 1.16 1.16zM20.82 16.15v4.65a1.17 1.17 0 1 1-2.33 0v-4.65a1.17 1.17 0 0 1 2.33 0zM8.02 8.02h13.96v4.65H8.02z\"/><path d=\"M11.51 20.83a1.17 1.17 0 1 1-1.16-1.16 1.16 1.16 0 0 1 1.16 1.16zM11.51 16.16A1.17 1.17 0 1 1 10.35 15a1.16 1.16 0 0 1 1.16 1.16zM16.16 20.83A1.16 1.16 0 1 1 15 19.67a1.16 1.16 0 0 1 1.16 1.16zM16.16 16.16A1.16 1.16 0 1 1 15 15a1.16 1.16 0 0 1 1.16 1.16zM20.82 16.15v4.65a1.17 1.17 0 1 1-2.33 0v-4.65a1.17 1.17 0 0 1 2.33 0zM8.02 8.02h13.96v4.65H8.02z\"/><path d=\"M22 4.53H8a2.33 2.33 0 0 0-2.31 2.33v16.28A2.33 2.33 0 0 0 8 25.47h14a2.33 2.33 0 0 0 2.33-2.33V6.86A2.33 2.33 0 0 0 22 4.53zm1.16 18.61A1.16 1.16 0 0 1 22 24.31H8a1.16 1.16 0 0 1-1.16-1.17V6.86A1.16 1.16 0 0 1 8 5.69h14a1.16 1.16 0 0 1 1.16 1.17z\"/>\n",
      "    </symbol>\n",
      "    <symbol id=\"icon--calendar-check\" viewBox=\"0 0 60 60\">\n",
      "      <title>icon--calendar-check icon</title>\n",
      "      <title>icon--calendar-check</title><path d=\"M44.636 12H53v42H7V12h8.364V7c0-.552.468-1 1.045-1h4.18c.578 0 1.046.448 1.046 1v5h16.728V7c0-.552.468-1 1.045-1h4.18c.578 0 1.046.448 1.046 1v5zm-32.41 5v32h35.547V17H12.227zM27 43l-8-7c-.074-.09-.116-.728 0-1l2-2c-.076-.095.555-.137 1 0l5 5 11-14c.042-.063.67-.124 1 0l2 2c.06-.124.123.515 0 1L28 43c-.306.072-.953.126-1 0z\" fill-rule=\"nonzero\"/>\n",
      "    </symbol>\n",
      "    <symbol id=\"icon--calendar\" viewBox=\"0 0 60 60\">\n",
      "      <title>icon--calendar icon</title>\n",
      "      <title>icon--calendar</title><g fill-rule=\"evenodd\"><path d=\"M14 48h32V24H14v24zm30-36V7c0-.552-.448-1-1-1h-4c-.552 0-1 .448-1 1v5H22V7c0-.552-.448-1-1-1h-4c-.552 0-1 .448-1 1v5H8v42h44V12h-8z\"/><path d=\"M20 34h4v-4h-4M28 34h4v-4h-4M36 34h4v-4h-4M20 42h4v-4h-4M28 42h4v-4h-4M36 42h4v-4h-4\"/></g>\n",
      "    </symbol>\n",
      "    <symbol id=\"icon--campaign-outline\" viewBox=\"0 0 30 30\">\n",
      "      <title>icon--campaign-outline icon</title>\n",
      "      <title>icon--campaign-outline</title><g transform=\"translate(1 5)\" fill-rule=\"evenodd\"><path d=\"M7 3h21V0H7M7 12h12V9H7M7 21h21v-3H7\"/><circle cx=\"1.5\" cy=\"19.5\" r=\"1.5\"/><circle cx=\"1.5\" cy=\"10.5\" r=\"1.5\"/><circle cx=\"1.5\" cy=\"1.5\" r=\"1.5\"/></g>\n",
      "    </symbol>\n",
      "    <symbol id=\"icon--check\" viewBox=\"0 0 60 60\">\n",
      "      <title>icon--check icon</title>\n",
      "      <title>icon--check</title><g fill-rule=\"evenodd\"><path d=\"M23.14 49.114l-16.798-14.7c-.416-.362-.458-.996-.094-1.41l2.634-3.012c.364-.414.996-.456 1.412-.092l12.92 11.306 25.4-30.842c.352-.426.982-.486 1.406-.136l3.088 2.542c.426.35.488.98.136 1.406L24.57 48.996c-.358.436-1.006.49-1.43.118z\"/></g>\n",
      "    </symbol>\n",
      "    <symbol id=\"icon--chevron-down\" viewBox=\"0 0 60 60\">\n",
      "      <title>icon--chevron-down icon</title>\n",
      "      <title>icon--chevron-down</title><path fill-rule=\"nonzero\" d=\"M30 45l26-26-5-5-21 21L9 14l-5 5\"/>\n",
      "    </symbol>\n",
      "    <symbol id=\"icon--chevron-left\" viewBox=\"0 0 60 60\">\n",
      "      <title>icon--chevron-left icon</title>\n",
      "      <title>icon--chevron-left</title><path fill-rule=\"nonzero\" d=\"M14 30l26 26 5-5-21-21L45 9l-5-5\"/>\n",
      "    </symbol>\n",
      "    <symbol id=\"icon--chevron-right\" viewBox=\"0 0 60 60\">\n",
      "      <title>icon--chevron-right icon</title>\n",
      "      <title>icon--chevron-right</title><path fill-rule=\"nonzero\" d=\"M45 30L19 4l-5 5 21 21-21 21 5 5\"/>\n",
      "    </symbol>\n",
      "    <symbol id=\"icon--chevron-up\" viewBox=\"0 0 60 60\">\n",
      "      <title>icon--chevron-up icon</title>\n",
      "      <title>icon--chevron-up</title><path fill-rule=\"nonzero\" d=\"M30 14L4 40l5 5 21-21 21 21 5-5\"/>\n",
      "    </symbol>\n",
      "    <symbol id=\"icon--circle-around\" viewBox=\"0 0 60 60\">\n",
      "      <title>icon--circle-around icon</title>\n",
      "      <title>icon--circle-around</title><g fill-rule=\"evenodd\"><path d=\"M4.878 23.667c-.476 0-.862-.384-.862-.862V8.53c0-.767.928-1.153 1.47-.61l4.832 4.833c5.084-5.924 12.766-9.548 21.296-9.038 13.142.788 23.858 11.736 24.382 24.892.014.356-.012.704-.012 1.06h-5.998c0-1.248-.082-2.514-.322-3.804-1.474-7.954-7.862-14.348-15.814-15.836-7.74-1.45-14.866 1.61-19.272 6.984l5.184 5.19c.544.54.158 1.467-.608 1.467H4.878zm50.26 12c.477 0 .863.384.863.862v14.273c0 .768-.927 1.154-1.47.61L49.7 46.58c-5.085 5.925-12.767 9.55-21.297 9.04C15.26 54.83 4.545 43.882 4.02 30.726c-.013-.356.013-.704.015-1.06h5.996c0 1.248.085 2.514.323 3.804 1.476 7.955 7.864 14.35 15.814 15.837 7.74 1.45 14.866-1.61 19.272-6.984l-5.185-5.188c-.542-.54-.158-1.468.608-1.468H55.14z\"/></g>\n",
      "    </symbol>\n",
      "    <symbol id=\"icon--circle-back\" viewBox=\"0 0 60 60\">\n",
      "      <title>icon--circle-back icon</title>\n",
      "      <title>icon--circle-back</title><g fill-rule=\"evenodd\"><path d=\"M31.598 4.05c13.142.787 23.858 11.733 24.38 24.89C56.568 43.78 44.712 56 30 56c-10.652 0-19.786-6.417-23.802-15.59-.234-.535.06-1.16.614-1.347l3.808-1.27c.486-.162 1.002.078 1.216.546C15.002 45.212 21.948 50 30 50c12.274 0 22-11.113 19.646-23.805-1.474-7.952-7.86-14.348-15.814-15.836-7.738-1.45-14.862 1.61-19.272 6.983l5.186 5.188c.544.543.158 1.47-.608 1.47H4.862C4.386 24 4 23.616 4 23.14V8.862c0-.768.928-1.152 1.47-.608l4.832 4.832c5.086-5.924 12.764-9.55 21.296-9.038z\"/></g>\n",
      "    </symbol>\n",
      "    <symbol id=\"icon--circle-forward\" viewBox=\"0 0 60 60\">\n",
      "      <title>icon--circle-forward icon</title>\n",
      "      <title>icon--circle-forward</title><g fill-rule=\"evenodd\"><path d=\"M54.53 8.254c.543-.542 1.47-.158 1.47.61v14.274c0 .478-.385.862-.86.862H40.862c-.768 0-1.152-.928-.61-1.468l5.186-5.188C41.03 11.97 33.904 8.91 26.166 10.36c-7.952 1.488-14.34 7.882-15.814 15.836C8 38.886 17.727 50 30 50c8.053 0 14.997-4.788 18.163-11.662.216-.466.732-.708 1.218-.544l3.807 1.268c.554.186.85.814.616 1.348C49.787 49.582 40.653 56 30 56 15.29 56 3.43 43.782 4.02 28.94 4.546 15.784 15.26 4.836 28.404 4.048c8.53-.51 16.21 3.114 21.296 9.038l4.83-4.832z\"/></g>\n",
      "    </symbol>\n",
      "    <symbol id=\"icon--circle-loader\" viewBox=\"0 0 52 52\">\n",
      "      <title>icon--circle-loader icon</title>\n",
      "      <title>Page 1</title><g fill-rule=\"evenodd\"><animateTransform attributeName=\"transform\" type=\"rotate\" from=\"0 26 26\" to=\"360 26 26\" dur=\"0.8s\" repeatCount=\"indefinite\"/><path d=\"M26 5.098C14.474 5.098 5.098 14.474 5.098 26c0 11.526 9.376 20.902 20.902 20.902 11.526 0 20.902-9.376 20.902-20.902 0-11.526-9.376-20.902-20.902-20.902M26 52C11.664 52 0 40.336 0 26S11.664 0 26 0s26 11.664 26 26-11.664 26-26 26\" opacity=\".1\"/><path d=\"M42.582 11.967c-.652 0-1.304-.25-1.8-.748-3.95-3.95-9.2-6.123-14.782-6.123-1.408 0-2.548-1.14-2.548-2.548C23.452 1.14 24.592 0 26 0c6.946 0 13.474 2.705 18.384 7.615.996.996.996 2.608 0 3.604-.498.497-1.15.747-1.802.747\"/></g>\n",
      "    </symbol>\n",
      "    <symbol id=\"icon--circle\" viewBox=\"0 0 60 60\">\n",
      "      <title>icon--circle icon</title>\n",
      "      <circle cx=\"30\" cy=\"30\" r=\"26\"/>\n",
      "    </symbol>\n",
      "    <symbol id=\"icon--clipboard\" viewBox=\"0 0 60 60\">\n",
      "      <title>icon--clipboard icon</title>\n",
      "      <title>icon--clipboard</title><g fill-rule=\"evenodd\"><path d=\"M49 10c.552 0 1 .448 1 1v44c0 .552-.448 1-1 1H11c-.552 0-1-.448-1-1V11c0-.552.448-1 1-1h11.284c.096-.378.194-.758.344-1.114.406-.958.992-1.818 1.716-2.544.362-.36.758-.688 1.184-.976.85-.574 1.818-.99 2.858-1.204C28.908 4.056 29.448 4 30 4c3.722 0 6.824 2.556 7.716 6H49zm-4.5 40.5v-35H40V19c0 .552-.448 1-1 1H21c-.552 0-1-.448-1-1v-3.5h-4.5v35h29zM27.782 10c-.482.532-.782 1.228-.782 2 0 1.654 1.346 3 3 3s3-1.346 3-3c0-.772-.3-1.468-.782-2-.264-.294-.586-.538-.948-.708-.016-.006-.028-.016-.044-.024-.16-.072-.326-.126-.5-.168-.032-.01-.062-.024-.096-.03-.204-.044-.414-.07-.63-.07-.216 0-.426.026-.63.07-.034.006-.064.02-.096.03-.172.042-.34.096-.5.168l-.042.024c-.364.17-.686.412-.95.708zm-1.05 32.365l-7.296-6.384c-.416-.363-.458-.993-.094-1.41l1.316-1.503c.364-.416.996-.458 1.41-.096l4.97 4.35L37.82 24.23c.352-.43.982-.49 1.408-.14l1.544 1.273c.424.352.486.982.136 1.408L28.162 42.248c-.358.436-1.006.49-1.43.118z\"/></g>\n",
      "    </symbol>\n",
      "    <symbol id=\"icon--clock\" viewBox=\"0 0 60 60\">\n",
      "      <title>icon--clock icon</title>\n",
      "      <title>icon--clock</title><g fill-rule=\"evenodd\"><path d=\"M50.276 19.198C52.622 22.906 54 27.288 54 32c0 13.254-10.746 24-24 24S6 45.254 6 32c0-10.446 6.686-19.306 16-22.606V5c0-.552.448-1 1-1h14c.552 0 1 .448 1 1v4.394c2.536.898 4.876 2.198 6.94 3.842l2.896-2.518c.416-.36 1.046-.316 1.41.1l3.936 4.528c.362.416.318 1.048-.098 1.41l-2.808 2.442zM30 50.5c10.202 0 18.5-8.298 18.5-18.5S40.202 13.5 30 13.5 11.5 21.798 11.5 32 19.798 50.5 30 50.5zm2.246-28.782l1.61 11.274c.086.324.144.658.144 1.008 0 2.21-1.792 4-4 4-2.21 0-4-1.79-4-4 0-.35.058-.684.144-1.008l1.61-11.274c.14-.986.986-1.718 1.98-1.718h.532c.994 0 1.84.732 1.98 1.718z\"/></g>\n",
      "    </symbol>\n",
      "    <symbol id=\"icon--closed-caption\" viewBox=\"0 0 60 60\">\n",
      "      <title>icon--closed-caption icon</title>\n",
      "      <title>icon--closed-caption</title><g fill-rule=\"evenodd\"><path d=\"M45.96 38.266c-1.355 1.3-3.107 1.954-5.26 1.954-1.21 0-2.32-.204-3.33-.606-1.007-.406-1.905-1.024-2.695-1.848-.788-.824-1.406-1.926-1.85-3.3-.446-1.38-.668-2.97-.668-4.774 0-1.574.242-3.004.722-4.286.48-1.28 1.123-2.324 1.927-3.128.802-.808 1.706-1.426 2.708-1.856 1.004-.426 2.052-.64 3.146-.64 2.023 0 3.74.628 5.15 1.886.883.79 1.505 1.774 1.92 2.91l-3.775.946c-.158-.35-.32-.694-.546-1-.293-.39-.67-.696-1.13-.914-.46-.218-.985-.328-1.58-.328-1.29 0-2.385.562-3.28 1.688-.893 1.124-1.34 2.698-1.34 4.722 0 1.23.125 2.312.377 3.242.25.93.594 1.664 1.032 2.2.435.538.925.936 1.46 1.198.54.258 1.123.388 1.75.388.623 0 1.16-.114 1.623-.348.458-.23.838-.57 1.134-1.012.268-.402.468-.86.632-1.344l3.753 1.25c-.436 1.18-1.048 2.196-1.884 3m-20 0c-1.355 1.3-3.107 1.954-5.26 1.954-1.21 0-2.32-.204-3.33-.606-1.007-.406-1.905-1.024-2.695-1.848-.788-.824-1.406-1.926-1.85-3.3-.446-1.38-.668-2.97-.668-4.774 0-1.574.24-3.004.722-4.286.48-1.28 1.123-2.324 1.927-3.128.802-.808 1.706-1.426 2.708-1.856 1.004-.426 2.052-.64 3.146-.64 2.023 0 3.74.628 5.147 1.886.886.79 1.508 1.774 1.924 2.91l-3.775.946c-.158-.35-.32-.694-.546-1-.293-.39-.67-.696-1.13-.914-.46-.218-.987-.328-1.58-.328-1.293 0-2.387.562-3.28 1.688-.893 1.124-1.34 2.698-1.34 4.722 0 1.23.125 2.312.377 3.242.25.93.594 1.664 1.032 2.2.435.538.923.936 1.46 1.198.54.258 1.123.388 1.75.388.62 0 1.16-.114 1.62-.348.46-.23.84-.57 1.137-1.012.268-.402.47-.86.634-1.344l3.753 1.25c-.436 1.18-1.05 2.196-1.884 3M52 8H8c-2.21 0-4 1.792-4 4v36c0 2.21 1.79 4 4 4h44c2.21 0 4-1.79 4-4V12c0-2.208-1.79-4-4-4\"/></g>\n",
      "    </symbol>\n",
      "    <symbol id=\"icon--code\" viewBox=\"0 0 60 60\">\n",
      "      <title>icon--code icon</title>\n",
      "      <title>icon--code</title><g fill-rule=\"evenodd\"><path d=\"M21.35 49.237L2.82 30.707c-.39-.39-.39-1.024 0-1.414l18.53-18.53c.39-.392 1.023-.392 1.413 0l2.474 2.474c.392.39.392 1.024 0 1.414L9.89 30l15.347 15.35c.392.39.392 1.02 0 1.413l-2.474 2.474c-.39.39-1.024.39-1.414 0zm15.887 0l-2.474-2.474c-.392-.392-.392-1.024 0-1.414L50.11 30 34.764 14.65c-.392-.39-.392-1.023 0-1.413l2.474-2.474c.39-.392 1.024-.392 1.414 0l18.53 18.53c.39.39.39 1.024 0 1.414l-18.53 18.53c-.39.39-1.023.39-1.413 0z\"/></g>\n",
      "    </symbol>\n",
      "    <symbol id=\"icon--collapse\" viewBox=\"0 0 60 60\">\n",
      "      <title>icon--collapse icon</title>\n",
      "      <title>icon--collapse</title><path d=\"M43.19 20.864L54 10.054 49.947 6l-10.81 10.81-5.647-5.645c-.583-.583-1.578-.17-1.578.655v15.343c0 .51.412.925.925.925H48.18c.825 0 1.238-.995.655-1.578l-5.646-5.646zm-15.1 11.973V48.18c0 .825-.997 1.236-1.58.655l-5.646-5.646L10.054 54 6 49.947l10.81-10.81-5.645-5.65c-.58-.58-.17-1.577.655-1.577h15.343c.513 0 .927.414.927.927z\" fill-rule=\"evenodd\"/>\n",
      "    </symbol>\n",
      "    <symbol id=\"icon--commissions\" viewBox=\"0 0 60 60\">\n",
      "      <title>icon--commissions icon</title>\n",
      "      <title>icon--commissions</title><path d=\"M54 98c-24.3 0-44-19.7-44-44s19.7-44 44-44 44 19.7 44 44-19.7 44-44 44zm0-12c17.674 0 32-14.326 32-32S71.674 22 54 22 22 36.326 22 54s14.326 32 32 32z\" fill-rule=\"nonzero\"/>\n",
      "    </symbol>\n",
      "    <symbol id=\"icon--compass\" viewBox=\"0 0 60 60\">\n",
      "      <title>icon--compass icon</title>\n",
      "      <title>icon--compass</title><g fill-rule=\"evenodd\"><path d=\"M30 4c14.36 0 26 11.64 26 26S44.36 56 30 56 4 44.36 4 30 15.64 4 30 4zm0 46.5c11.304 0 20.5-9.196 20.5-20.5S41.304 9.5 30 9.5 9.5 18.696 9.5 30 18.696 50.5 30 50.5zm11.898-31.83c.02.052.05.096.062.154.036.174.034.358-.04.548l-6.104 15.87c-.102.264-.31.474-.574.574l-15.87 6.104c-.122.048-.246.07-.364.07-.66 0-1.192-.676-.928-1.362l6.104-15.87c.1-.264.31-.472.574-.574l15.87-6.104c.122-.048.244-.068.364-.068.046 0 .084.026.128.032.07.01.128.024.192.048.104.038.194.088.278.156.05.04.098.074.14.122.076.09.126.188.168.3zM24.236 35.764l8.326-3.202-5.124-5.124-3.202 8.326z\"/></g>\n",
      "    </symbol>\n",
      "    <symbol id=\"icon--confirmation\" viewBox=\"0 0 52 52\">\n",
      "      <title>icon--confirmation icon</title>\n",
      "      <title>icon--confirmation</title><path d=\"M26 0C11.64 0 0 11.64 0 26s11.64 26 26 26 26-11.64 26-26c0-6.896-2.74-13.51-7.615-18.385C39.51 2.74 32.895 0 26 0zm14 16.8L23.02 37.26c-.11.115-.26.18-.42.18-.16 0-.31-.065-.42-.18l-10-8.68c-.115-.11-.18-.26-.18-.42 0-.16.065-.31.18-.42l1.6-1.74c.233-.23.607-.23.84 0l7.62 6.66 14.98-18.2c.226-.226.594-.226.82 0L39.86 16c.212.176.27.477.14.72v.08z\" fill-rule=\"nonzero\"/>\n",
      "    </symbol>\n",
      "    <symbol id=\"icon--conversion\" viewBox=\"0 0 60 60\">\n",
      "      <title>icon--conversion icon</title>\n",
      "      <title>icon-conversion</title><g fill-rule=\"evenodd\"><path d=\"M1 30.027l7.248-7.372 7.247 7.372H1zm8.146 0c0 5.838 2.044 10.822 6.117 14.98 4.074 4.157 8.988 6.22 14.728 6.22 3.697 0 7.176-.957 10.423-2.874 3.247-1.917 5.812-4.57 7.697-7.947l.232-.34 2.377 1.27-.233.456c-2.116 3.76-5 6.738-8.668 8.92C38.15 52.894 34.21 54 29.99 54c-6.493 0-12.045-2.344-16.64-7.033-4.61-4.688-6.914-10.32-6.914-16.925l2.71-.015zm41.674 0c0-5.84-2.043-10.822-6.116-14.98-4.074-4.157-8.988-6.22-14.713-6.22-3.696 0-7.174.957-10.42 2.873-3.248 1.917-5.814 4.57-7.698 7.947l-.232.34-2.378-1.27.232-.456c2.117-3.758 5-6.736 8.67-8.918 3.666-2.183 7.61-3.288 11.827-3.288 6.495 0 12.046 2.344 16.64 7.032 4.61 4.69 6.916 10.336 6.916 16.94H50.82zm-6.334 0H58.98L51.735 37.4l-7.248-7.373z\"/><path d=\"M26.49 36.92c.745.747 1.69 1.218 2.818 1.41v-7.628c-1-.25-1.864-.526-2.592-.82-.728-.296-1.337-.656-1.82-1.062-.48-.415-.836-.913-1.063-1.513-.227-.59-.337-1.31-.337-2.16 0-.866.155-1.65.455-2.37.3-.72.71-1.347 1.238-1.873.518-.526 1.137-.94 1.846-1.254.71-.305 1.474-.49 2.283-.545v-1.9h1.564v1.928c1.53.194 2.757.766 3.658 1.725.91.96 1.555 2.288 1.928 3.976h-2.41c-.382-1.9-1.437-3.016-3.175-3.34v7.086l1.702.46c.382.093.82.27 1.337.51.508.238 1 .57 1.473.995.472.424.873.95 1.21 1.587.327.636.5 1.393.5 2.27 0 .94-.155 1.77-.464 2.5-.31.728-.747 1.356-1.293 1.88-.546.527-1.2.942-1.955 1.256-.755.304-1.592.498-2.5.572v2.362h-1.566v-2.37c-1.89-.195-3.392-.86-4.51-2.003-1.12-1.145-1.747-2.723-1.9-4.734h2.41c.026 1.282.417 2.297 1.163 3.054zm.508-14.52c-.637.562-.955 1.392-.955 2.49 0 .498.082.922.246 1.282.162.36.39.655.68.895.292.24.637.443 1.038.618.4.175.836.323 1.31.46v-6.733c-.91.083-1.683.415-2.32.987zm5.34 15.636c.444-.157.835-.378 1.163-.673.328-.296.583-.674.765-1.126.182-.452.273-.987.273-1.596 0-.552-.09-1.023-.282-1.392-.19-.378-.446-.692-.764-.97-.32-.266-.71-.497-1.164-.672-.455-.185-.937-.35-1.447-.507v7.222c.52-.037 1.01-.13 1.457-.286z\"/></g>\n",
      "    </symbol>\n",
      "    <symbol id=\"icon--cpu\" viewBox=\"0 0 26 26\">\n",
      "      <title>icon--cpu icon</title>\n",
      "      <g fill-rule=\"nonzero\"><path d=\"M19 7v12H7V7h12zm2.5-3h-17c-.276 0-.5.224-.5.5v17c0 .276.224.5.5.5h17c.276 0 .5-.224.5-.5v-17c0-.276-.224-.5-.5-.5zM15 22h2v4h-2zM9 22h2v4H9zM22 15h4v2h-4zM22 9h4v2h-4zM0 15h4v2H0zM0 9h4v2H0zM15 0h2v4h-2zM9 0h2v4H9z\"/></g>\n",
      "    </symbol>\n",
      "    <symbol id=\"icon--curve-right\" viewBox=\"0 0 33 33\">\n",
      "      <title>icon--curve-right icon</title>\n",
      "      <title>icon--curve-right</title><path d=\"M2.5 5c0-.276.224-.5.5-.5s.5.224.5.5h-1zM31 29.5c.276 0 .5.224.5.5s-.224.5-.5.5v-1zM3 20h-.5.5zm.5-15v15h-1V5h1zM13 29.5h18v1H13v-1zM3.5 20c0 5.247 4.253 9.5 9.5 9.5v1C7.2 30.5 2.5 25.8 2.5 20h1z\"/><path d=\"M27.763 32.228c.683-1.438.72-3.01.015-4.446L31.938 30l-4.175 2.228z\" stroke=\"#0A007D\"/><circle r=\"2.25\" transform=\"matrix(0 1 1 0 3 3)\" stroke=\"#0A007D\" stroke-width=\"1.5\"/>\n",
      "    </symbol>\n",
      "    <symbol id=\"icon--cross\" viewBox=\"0 0 60 60\">\n",
      "      <title>icon--cross icon</title>\n",
      "      <title>icon--cross</title><path d=\"M34.242 30.3l15.556-15.557c.392-.392.392-1.024 0-1.414L46.97 10.5c-.39-.39-1.022-.39-1.414 0L30 26.058 14.444 10.5c-.392-.39-1.024-.39-1.414 0l-2.83 2.83c-.39.39-.39 1.02 0 1.413L25.758 30.3 10.2 45.854c-.39.392-.39 1.024 0 1.414l2.83 2.827c.39.392 1.022.392 1.414 0L30 34.54l15.556 15.557c.392.392 1.024.392 1.414 0l2.828-2.828c.392-.39.392-1.023 0-1.415L34.242 30.3z\" fill-rule=\"evenodd\"/>\n",
      "    </symbol>\n",
      "    <symbol id=\"icon--delta-down\" viewBox=\"0 0 60 60\">\n",
      "      <title>icon--delta-down icon</title>\n",
      "      <title>icon--delta-down</title><defs><path d=\"M0 60h60V0H0z\"/></defs><g fill-rule=\"evenodd\"><path d=\"M13.05 20h33.9c.915 0 1.39 1.09.767 1.762L30.77 40.016c-.417.446-1.123.446-1.54 0L12.284 21.762C11.66 21.09 12.135 20 13.05 20z\"/></g>\n",
      "    </symbol>\n",
      "    <symbol id=\"icon--delta-left\" viewBox=\"0 0 60 60\">\n",
      "      <title>icon--delta-left icon</title>\n",
      "      <title>icon--delta-left</title><g fill-rule=\"evenodd\"><path d=\"M38 13.054v33.892c0 .918-1.094 1.396-1.766.772L17.984 30.77c-.448-.416-.448-1.124 0-1.54l18.25-16.946c.672-.626 1.766-.148 1.766.77z\"/></g>\n",
      "    </symbol>\n",
      "    <symbol id=\"icon--delta-right\" viewBox=\"0 0 60 60\">\n",
      "      <title>icon--delta-right icon</title>\n",
      "      <title>icon--delta-right</title><g fill-rule=\"evenodd\"><path d=\"M21.647 13.054c0-.918 1.094-1.396 1.766-.77l18.25 16.946c.448.416.448 1.124 0 1.54l-18.25 16.948c-.672.624-1.766.146-1.766-.772V13.054z\"/></g>\n",
      "    </symbol>\n",
      "    <symbol id=\"icon--delta-up\" viewBox=\"0 0 60 60\">\n",
      "      <title>icon--delta-up icon</title>\n",
      "      <title>icon--delta-up</title><g fill-rule=\"evenodd\"><path d=\"M13.054 40c-.918 0-1.396-1.094-.77-1.766l16.946-18.25c.416-.448 1.124-.448 1.54 0l16.948 18.25c.624.672.146 1.766-.772 1.766H13.054z\"/></g>\n",
      "    </symbol>\n",
      "    <symbol id=\"icon--download\" viewBox=\"0 0 60 60\">\n",
      "      <title>icon--download icon</title>\n",
      "      <title>icon--download</title><g fill-rule=\"evenodd\"><path d=\"M51 36h-4c-.552 0-1 .448-1 1v7H14v-7c0-.552-.448-1-1-1H9c-.552 0-1 .448-1 1v12c0 .552.448 1 1 1h42c.552 0 1-.448 1-1V37c0-.552-.448-1-1-1m-31.506-8.948c-.55-.592-.13-1.556.678-1.556h7.144V11.278c0-.552.448-1 1-1h3.56c.554 0 1 .448 1 1v14.218h6.974c.872 0 1.326 1.042.732 1.68L30.83 37.68c-.396.428-1.07.428-1.466 0l-9.87-10.628\"/></g>\n",
      "    </symbol>\n",
      "    <symbol id=\"icon--ellipsis\" viewBox=\"0 0 60 60\">\n",
      "      <title>icon--ellipsis icon</title>\n",
      "      <g fill-rule=\"nonzero\"><circle cx=\"11.5\" cy=\"30.5\" r=\"5.5\"/><circle cx=\"30.5\" cy=\"30.5\" r=\"5.5\"/><circle cx=\"48.5\" cy=\"30.5\" r=\"5.5\"/></g>\n",
      "    </symbol>\n",
      "    <symbol id=\"icon--expand\" viewBox=\"0 0 60 60\">\n",
      "      <title>icon--expand icon</title>\n",
      "      <title>icon--expand</title><path d=\"M53.03 6H36.97c-.863 0-1.295 1.042-.685 1.654l5.91 5.908L30.88 24.878l4.24 4.244 11.317-11.318 5.91 5.91c.61.61 1.652.178 1.652-.684V6.968c0-.534-.433-.968-.97-.968zM29.12 35.122L17.806 46.438l5.91 5.91c.608.61.178 1.652-.686 1.652H6.97c-.537 0-.97-.434-.97-.968V36.97c0-.862 1.043-1.294 1.653-.684l5.91 5.91L24.88 30.878l4.24 4.244z\" fill-rule=\"evenodd\"/>\n",
      "    </symbol>\n",
      "    <symbol id=\"icon--external\" viewBox=\"0 0 60 60\">\n",
      "      <title>icon--external icon</title>\n",
      "      <title>icon--external</title><g fill-rule=\"evenodd\"><path d=\"M51.03 8c.537 0 .97.434.97.968V25.03c0 .862-1.043 1.294-1.653.684l-6.086-6.086-21.607 21.61c-.392.39-1.024.39-1.414 0l-2.48-2.476c-.39-.39-.39-1.022 0-1.414L40.37 15.74l-6.085-6.086C33.675 9.042 34.107 8 34.97 8h16.06zM51 30c.552 0 1 .448 1 1v20c0 .552-.448 1-1 1H9c-.552 0-1-.448-1-1V9c0-.552.448-1 1-1h20c.552 0 1 .448 1 1v3.5c0 .552-.448 1-1 1H13.5v33h33V31c0-.552.448-1 1-1H51z\"/></g>\n",
      "    </symbol>\n",
      "    <symbol id=\"icon--eye\" viewBox=\"0 0 60 60\">\n",
      "      <title>icon--eye icon</title>\n",
      "      <title>icon--eye</title><g fill-rule=\"evenodd\"><path d=\"M55.708 29.095c.25.348.25.796 0 1.144C53.518 33.31 44 47.666 30 47.666c-14 0-23.518-14.358-25.708-17.428-.25-.35-.25-.797 0-1.145C6.482 26.025 16 11.667 30 11.667c14 0 23.518 14.358 25.708 17.428zM30 41.667c6.626 0 12-5.374 12-12s-5.374-12-12-12-12 5.374-12 12 5.374 12 12 12zm0-18c3.308 0 6 2.692 6 6s-2.692 6-6 6-6-2.692-6-6 2.692-6 6-6z\"/></g>\n",
      "    </symbol>\n",
      "    <symbol id=\"icon--facebook\" viewBox=\"0 0 60 60\">\n",
      "      <title>icon--facebook icon</title>\n",
      "      <title>icon--facebook</title><path d=\"M54 30.147C54 16.81 43.255 6 30 6S6 16.81 6 30.147C6 42.2 14.776 52.19 26.25 54V37.127h-6.094v-6.98h6.094v-5.32c0-6.052 3.583-9.395 9.065-9.395 2.626 0 5.373.472 5.373.472v5.942H37.66c-2.98 0-3.91 1.862-3.91 3.77v4.53h6.656l-1.064 6.98H33.75V54C45.224 52.19 54 42.2 54 30.147\" fill-rule=\"evenodd\"/>\n",
      "    </symbol>\n",
      "    <symbol id=\"icon--filter\" viewBox=\"0 0 60 60\">\n",
      "      <title>icon--filter icon</title>\n",
      "      <title>icon--filter</title><g fill-rule=\"evenodd\"><path d=\"M13 16.5c.65 0 1.252-.19 1.774-.5 1.028-.61 1.726-1.72 1.726-3s-.698-2.39-1.726-3c-.522-.31-1.124-.5-1.774-.5-.65 0-1.252.19-1.774.5-1.028.61-1.726 1.72-1.726 3s.698 2.39 1.726 3c.522.31 1.124.5 1.774.5zM51 10c.552 0 1 .448 1 1v4c0 .552-.448 1-1 1H21.45c-1.242 3.488-4.538 6-8.45 6-4.97 0-9-4.03-9-9s4.03-9 9-9c3.912 0 7.208 2.512 8.45 6H51zm-4 11c4.97 0 9 4.03 9 9s-4.03 9-9 9c-3.914 0-7.21-2.514-8.45-6.002V33H9c-.552 0-1-.448-1-1v-4c0-.552.448-1 1-1h29.55v.002C39.79 23.512 43.086 21 47 21zm0 12.5c1.93 0 3.5-1.57 3.5-3.5s-1.57-3.5-3.5-3.5-3.5 1.57-3.5 3.5 1.57 3.5 3.5 3.5zM51 44c.552 0 1 .448 1 1v4c0 .552-.448 1-1 1H21.45v-.002C20.21 53.486 16.914 56 13 56c-4.97 0-9-4.03-9-9s4.03-9 9-9c3.914 0 7.21 2.514 8.45 6.002V44H51zm-38 6.5c1.93 0 3.5-1.57 3.5-3.5s-1.57-3.5-3.5-3.5-3.5 1.57-3.5 3.5 1.57 3.5 3.5 3.5z\"/></g>\n",
      "    </symbol>\n",
      "    <symbol id=\"icon--flag\" viewBox=\"0 0 60 60\">\n",
      "      <title>icon--flag icon</title>\n",
      "      <title>icon--flag</title><g fill-rule=\"evenodd\"><path d=\"M10 51V9c0-.552.448-1 1-1h4c.552 0 1 .448 1 1v42c0 .552-.448 1-1 1h-4c-.552 0-1-.448-1-1zM20 9c0-.552.448-1 1-1h15l2 4h11c.552 0 1 .448 1 1v20c0 .552-.448 1-1 1H36l-2-4H21c-.552 0-1-.448-1-1V9z\"/></g>\n",
      "    </symbol>\n",
      "    <symbol id=\"icon--frown-filled\" viewBox=\"0 0 60 60\">\n",
      "      <title>icon--frown-filled icon</title>\n",
      "      <path fill-rule=\"evenodd\" clip-rule=\"evenodd\" d=\"M56 30c0 14.36-11.64 26-26 26S4 44.36 4 30 15.64 4 30 4s26 11.64 26 26zm-36.933 9.467c-.663.883-.483 2.137.4 2.8.884.663 2.138.483 2.8-.4 1.818-2.424 4.63-4.533 7.734-4.533s5.916 2.11 7.734 4.533c.663.884 1.916 1.063 2.8.4.883-.663 1.063-1.917.4-2.8-2.182-2.91-6.037-6.133-10.933-6.133-4.895 0-8.75 3.223-10.933 6.133zm8.71-17.91c0 1.962-1.59 3.554-3.555 3.554-1.963 0-3.555-1.59-3.555-3.554 0-1.964 1.592-3.556 3.555-3.556 1.964 0 3.556 1.592 3.556 3.556zm8 3.554c1.964 0 3.556-1.59 3.556-3.554 0-1.964-1.592-3.556-3.556-3.556-1.963 0-3.555 1.592-3.555 3.556 0 1.963 1.592 3.555 3.555 3.555z\"/>\n",
      "    </symbol>\n",
      "    <symbol id=\"icon--frown\" viewBox=\"0 0 60 60\">\n",
      "      <title>icon--frown icon</title>\n",
      "      <path fill-rule=\"evenodd\" clip-rule=\"evenodd\" d=\"M8 30C8 17.85 17.85 8 30 8s22 9.85 22 22-9.85 22-22 22S8 42.15 8 30zM30 4C15.64 4 4 15.64 4 30s11.64 26 26 26 26-11.64 26-26S44.36 4 30 4zM19.067 39.466c-.663.884-.484 2.138.4 2.8.883.663 2.137.484 2.8-.4 1.818-2.423 4.63-4.533 7.734-4.533 3.103 0 5.915 2.11 7.733 4.533.663.884 1.917 1.063 2.8.4.884-.662 1.063-1.916.4-2.8-2.18-2.91-6.036-6.133-10.932-6.133-4.895 0-8.75 3.224-10.933 6.133zm8.71-17.91c0 1.963-1.59 3.555-3.555 3.555-1.963 0-3.555-1.59-3.555-3.554 0-1.964 1.592-3.556 3.555-3.556 1.964 0 3.556 1.592 3.556 3.556zm8 3.555c1.964 0 3.556-1.59 3.556-3.554 0-1.964-1.592-3.556-3.556-3.556-1.963 0-3.555 1.592-3.555 3.556 0 1.963 1.592 3.555 3.555 3.555z\"/>\n",
      "    </symbol>\n",
      "    <symbol id=\"icon--gear\" viewBox=\"0 0 60 60\">\n",
      "      <title>icon--gear icon</title>\n",
      "      <title>icon--gear</title><g fill-rule=\"evenodd\"><path d=\"M31.557 39.706c4.148-.636 7.538-4.026 8.172-8.172 1.02-6.656-4.63-12.306-11.287-11.288-4.148.636-7.536 4.026-8.172 8.172-1.017 6.656 4.63 12.306 11.287 11.288zm18.056-9.686c0 .92-.148 1.798-.268 2.684l4.832 4.534c.286.27.398.692.272 1.066-1.1 3.258-2.79 6.226-5 8.76-.263.3-.683.414-1.063.3l-6.37-1.926c-1.43 1.122-2.982 2.084-4.692 2.776l-1.522 6.494c-.088.382-.39.684-.774.76C33.4 55.8 31.726 56 30 56c-1.727 0-3.4-.2-5.03-.532-.383-.076-.685-.378-.775-.76l-1.52-6.494c-1.71-.692-3.26-1.654-4.692-2.776l-6.37 1.926c-.38.114-.8 0-1.062-.3-2.21-2.534-3.9-5.502-5-8.76-.123-.374-.013-.796.275-1.066l4.832-4.534c-.122-.886-.27-1.764-.27-2.684 0-.918.148-1.796.27-2.682l-4.832-4.536c-.288-.27-.398-.69-.274-1.066 1.1-3.256 2.79-6.224 5-8.76.263-.3.683-.412 1.063-.298l6.37 1.926c1.432-1.122 2.982-2.086 4.692-2.776l1.52-6.496c.09-.382.392-.682.776-.76 1.63-.33 3.303-.532 5.03-.532 1.725 0 3.4.202 5.03.532.383.078.683.378.773.76l1.522 6.496c1.71.69 3.262 1.654 4.692 2.776l6.37-1.926c.38-.114.802 0 1.062.298 2.21 2.536 3.9 5.502 5 8.76.125.374.013.796-.273 1.066l-4.832 4.536c.12.886.268 1.764.268 2.682z\"/></g>\n",
      "    </symbol>\n",
      "    <symbol id=\"icon--globe-africa\" viewBox=\"0 0 60 60\">\n",
      "      <title>icon--globe-africa icon</title>\n",
      "      <title>icon--globe-africa</title><g fill-rule=\"evenodd\"><path d=\"M30 50.5C18.696 50.5 9.5 41.304 9.5 30c0-10.24 7.556-18.726 17.382-20.236L28 12v4l1.834 1.834c.11.11.242.192.388.24L36 20v2l-3.554 1.778c-.28.14-.612.14-.892 0L28 22v-2h-5.588c-.264 0-.516.106-.704.292l-3.416 3.416c-.188.186-.292.44-.292.704v3.354c0 .154.036.306.106.444l1.746 3.494c.096.192.252.348.444.444l3.494 1.746c.138.07.29.106.446.106H28v4l2 4v2l1.494 1.492c.302.302.764.38 1.148.188l2.808-1.404c.338-.17.55-.514.55-.892v-2.972c0-.264.104-.518.292-.704l1.416-1.416c.188-.186.292-.44.292-.704v-3.176c0-.264-.104-.518-.292-.704L36 32v-2h4v-2l-2-2v-2l3.79-1.894c.138-.07.29-.106.446-.106h3.352c.264 0 .516.106.704.292l1.594 1.594c.074.074.162.138.258.186l1.692.846c.418 1.628.664 3.324.664 5.082 0 11.304-9.196 20.5-20.5 20.5M30 4C15.64 4 4 15.64 4 30s11.64 26 26 26 26-11.64 26-26S44.36 4 30 4\"/></g>\n",
      "    </symbol>\n",
      "    <symbol id=\"icon--globe-america\" viewBox=\"0 0 60 60\">\n",
      "      <title>icon--globe-america icon</title>\n",
      "      <title>icon--globe-america</title><g fill-rule=\"evenodd\"><path d=\"M44 44.934V42h-4v-2l-1.706-1.704c-.188-.19-.444-.296-.71-.296H32v2l-2 2v2l2 2 3.682 3.682c-1.806.524-3.71.818-5.682.818-11.304 0-20.5-9.194-20.5-20.5 0-6.82 3.362-12.858 8.5-16.586v2.174c0 .264.104.518.292.704l1.004 1.006c.39.388.39 1.016 0 1.406l-3.004 3.006c-.188.184-.292.438-.292.702V28l2 2 2 2v2l5.918 3.946c.054.036.106.078.152.124L28 40h2v-3.006c0-.548-.446-.994-.996-.994h-2.592c-.264 0-.516-.106-.704-.29l-1.416-1.418c-.188-.186-.292-.44-.292-.704V30h2l2 2h2l5.556-3.704c.278-.184.444-.494.444-.828v-2.474c0-.548.446-.994.996-.994H40v-2l-3.554-1.776c-.28-.142-.612-.142-.892 0l-2.912 1.456c-.384.192-.846.116-1.148-.188L30 20v-2h6v-2h-2v-2l-1.708-1.708c-.188-.186-.44-.292-.704-.292h-5.176c-.264 0-.516-.106-.704-.29l-1.274-1.274c-.05-.05-.12-.062-.18-.102C26.08 9.802 28.004 9.5 30 9.5c11.304 0 20.5 9.196 20.5 20.5 0 5.89-2.51 11.192-6.5 14.934M30 4C15.64 4 4 15.642 4 30c0 14.36 11.64 26 26 26s26-11.64 26-26C56 15.642 44.36 4 30 4\"/></g>\n",
      "    </symbol>\n",
      "    <symbol id=\"icon--globe-asia\" viewBox=\"0 0 60 60\">\n",
      "      <title>icon--globe-asia icon</title>\n",
      "      <title>icon--globe-asia</title><g fill-rule=\"evenodd\"><path d=\"M47 41.444c2.21-3.27 3.5-7.21 3.5-11.444 0-7.8-4.382-14.596-10.812-18.058L36 14h-4v2h2v2h2l2 2v2h-3.582c-.268 0-.524.108-.714.296L32 24v2l-1.884 1.884c-.076.076-.14.164-.19.262L28 32h-2l-2-4v-2h-2l-1.704 1.704c-.19.188-.296.446-.296.714V34h-2l-1.926-3.854c-.05-.098-.114-.186-.19-.262l-3.588-3.588c-.19-.188-.446-.296-.714-.296H9.898c-.258 1.294-.398 2.63-.398 4 0 11.304 9.196 20.5 20.5 20.5 2.72 0 5.32-.533 7.7-1.5H37v-2l-2-2h-2l-1.707 1.708c-.188.186-.442.292-.706.292H25v-2h2l1.71-1.708c.185-.186.29-.44.29-.706v-2.968c0-.38.215-.726.55-.894l3.305-1.652c.096-.048.184-.112.26-.188L35 35h2l1.295 1.294c.388.39 1.022.39 1.412 0L41 35v-2h-2l-2-2v-2h7.383c.378 0 .724.212.892.55L47 33v2h-2l-2-2v2l2 4h2v2.444zM30 4c14.36 0 26 11.64 26 26S44.36 56 30 56 4 44.36 4 30 15.64 4 30 4z\"/></g>\n",
      "    </symbol>\n",
      "    <symbol id=\"icon--graph-bar\" viewBox=\"0 0 60 60\">\n",
      "      <title>icon--graph-bar icon</title>\n",
      "      <title>icon--graph-bar</title><g fill-rule=\"evenodd\"><path d=\"M51 46c.552 0 1 .448 1 1v4c0 .552-.448 1-1 1H9c-.552 0-1-.448-1-1v-4c0-.552.448-1 1-1h42zm-38-4c-.552 0-1-.448-1-1V17c0-.552.448-1 1-1h4c.552 0 1 .448 1 1v24c0 .552-.448 1-1 1h-4zm10 0c-.552 0-1-.448-1-1V9c0-.552.448-1 1-1h4c.552 0 1 .448 1 1v32c0 .552-.448 1-1 1h-4zm10 0c-.552 0-1-.448-1-1V23c0-.552.448-1 1-1h4c.552 0 1 .448 1 1v18c0 .552-.448 1-1 1h-4zm10 0c-.552 0-1-.448-1-1V13c0-.552.448-1 1-1h4c.552 0 1 .448 1 1v28c0 .552-.448 1-1 1h-4z\"/></g>\n",
      "    </symbol>\n",
      "    <symbol id=\"icon--graph-line\" viewBox=\"0 0 60 60\">\n",
      "      <title>icon--graph-line icon</title>\n",
      "      <title>icon--graph-line</title><g fill-rule=\"evenodd\"><path d=\"M51.5 52h-43c-.276 0-.5-.224-.5-.5v-5c0-.276.224-.5.5-.5h43c.276 0 .5.224.5.5v5c0 .276-.224.5-.5.5zM11.6 41.2l-3.2-2.4c-.442-.332-.53-.958-.2-1.4l12.638-16.852c.338-.45.984-.532 1.424-.18l9.296 7.436 15.488-18.93c.348-.426.978-.49 1.406-.14l3.098 2.532c.426.35.49.98.14 1.408L33.07 35.43c-.346.424-.97.49-1.398.148l-9.128-7.302L13 41c-.33.442-.956.532-1.4.2z\"/></g>\n",
      "    </symbol>\n",
      "    <symbol id=\"icon--happy-filled\" viewBox=\"0 0 60 60\">\n",
      "      <title>icon--happy-filled icon</title>\n",
      "      <path fill-rule=\"evenodd\" clip-rule=\"evenodd\" d=\"M56 30c0 14.36-11.64 26-26 26S4 44.36 4 30 15.64 4 30 4s26 11.64 26 26zm-34.743 3.45c-.304-1.062-1.41-1.677-2.473-1.373-1.062.303-1.677 1.41-1.373 2.473 1.672 5.852 6.623 9.472 12.59 9.472 5.966 0 10.918-3.62 12.59-9.472.303-1.063-.312-2.17-1.374-2.473-1.062-.303-2.17.312-2.472 1.374-1.172 4.104-4.53 6.572-8.744 6.572-4.214 0-7.57-2.468-8.743-6.57zm6.52-11.894c0 1.963-1.59 3.555-3.555 3.555-1.964 0-3.556-1.59-3.556-3.554 0-1.964 1.592-3.556 3.556-3.556s3.556 1.592 3.556 3.556zm8 3.555c1.964 0 3.556-1.59 3.556-3.554 0-1.964-1.592-3.556-3.555-3.556-1.964 0-3.556 1.592-3.556 3.556 0 1.963 1.592 3.555 3.556 3.555z\"/>\n",
      "    </symbol>\n",
      "    <symbol id=\"icon--happy\" viewBox=\"0 0 60 60\">\n",
      "      <title>icon--happy icon</title>\n",
      "      <path fill-rule=\"evenodd\" clip-rule=\"evenodd\" d=\"M8 30C8 17.85 17.85 8 30 8s22 9.85 22 22-9.85 22-22 22S8 42.15 8 30zM30 4C15.64 4 4 15.64 4 30s11.64 26 26 26 26-11.64 26-26S44.36 4 30 4zm-8.743 29.45c-.304-1.062-1.41-1.677-2.473-1.373-1.062.303-1.677 1.41-1.373 2.473 1.672 5.852 6.623 9.472 12.59 9.472 5.966 0 10.918-3.62 12.59-9.472.303-1.063-.312-2.17-1.374-2.473-1.062-.303-2.17.312-2.472 1.374-1.172 4.104-4.53 6.572-8.744 6.572-4.214 0-7.57-2.468-8.743-6.57zm6.52-11.894c0 1.963-1.59 3.555-3.555 3.555-1.964 0-3.556-1.59-3.556-3.554 0-1.964 1.592-3.556 3.556-3.556s3.556 1.592 3.556 3.556zm8 3.555c1.964 0 3.556-1.59 3.556-3.554 0-1.964-1.592-3.556-3.555-3.556-1.964 0-3.556 1.592-3.556 3.556 0 1.963 1.592 3.555 3.556 3.555z\"/>\n",
      "    </symbol>\n",
      "    <symbol id=\"icon--heart-outline\" viewBox=\"0 0 60 60\">\n",
      "      <title>icon--heart-outline icon</title>\n",
      "      <title>icon--heart outline</title><path d=\"M18.817 12.55c-2.174 0-4.305.626-5.923 1.805-2.876 2.09-4.052 5.9-2.926 9.474.79 2.5 2.575 5.153 5.307 7.887C19.14 35.58 26.72 42.367 30 45.282c3.288-2.925 10.88-9.722 14.724-13.565 2.733-2.732 4.517-5.387 5.304-7.886 1.13-3.576-.046-7.384-2.924-9.476-2.28-1.657-5.574-2.224-8.596-1.48-3.326.842-5.213 3.668-6.043 5.276-.477.925-1.427 1.505-2.466 1.505-1.038 0-1.99-.58-2.465-1.503-.828-1.61-2.72-4.436-6.063-5.283-.87-.215-1.768-.32-2.655-.32zm12.42 33.828l.013.01-.014-.01zm-2.486.01l-.004.006.005-.005zM30 51.464c-.87 0-1.74-.31-2.434-.928-1.887-1.67-11.585-10.27-16.212-14.897-3.416-3.416-5.6-6.735-6.675-10.14-1.844-5.854.147-12.133 4.952-15.63 3.62-2.63 8.55-3.522 13.183-2.38 2.75.697 5.21 2.248 7.184 4.485 1.97-2.237 4.424-3.786 7.164-4.48 4.653-1.144 9.58-.258 13.202 2.376h.002c4.806 3.496 6.797 9.776 4.95 15.627-1.072 3.406-3.255 6.723-6.673 10.14-4.488 4.487-13.55 12.545-16.22 14.906-.692.613-1.557.92-2.424.92z\" fill-rule=\"nonzero\"/>\n",
      "    </symbol>\n",
      "    <symbol id=\"icon--heart-thin-outline\" viewBox=\"0 0 16 14\">\n",
      "      <title>icon--heart-thin-outline icon</title>\n",
      "      <title>Fill 1</title><path d=\"M8.13 13.05h.002zM8 12.93c.722-.644 1.543-1.384 2.373-2.142 1.293-1.183 2.342-2.17 3.02-2.852.968-.975 1.633-1.94 1.94-2.924.446-1.42-.02-2.955-1.174-3.8-.903-.662-2.176-.877-3.334-.59-.997.254-1.84 1.01-2.38 2.067L8 3.563l-.445-.87C7.015 1.635 6.17.878 5.175.625c-1.16-.288-2.432-.073-3.334.588-1.154.845-1.62 2.38-1.174 3.8.308.986.973 1.95 1.94 2.925.68.683 1.73 1.67 3.02 2.852.832.76 1.667 1.51 2.374 2.142z\" stroke=\"#A0A0A0\" fill-rule=\"evenodd\"/>\n",
      "    </symbol>\n",
      "    <symbol id=\"icon--heart\" viewBox=\"0 0 60 60\">\n",
      "      <title>icon--heart icon</title>\n",
      "      <title>icon--heart</title><g fill-rule=\"evenodd\"><path d=\"M50.977 10.664c4.402 3.202 6.03 8.916 4.41 14.052-1.216 3.858-3.88 7.266-6.706 10.092-4.99 4.99-15.327 14.174-18.023 16.56-.38.336-.934.336-1.312 0-2.698-2.386-13.034-11.57-18.024-16.56-2.825-2.826-5.49-6.234-6.707-10.092-1.618-5.136.008-10.85 4.41-14.052 3.434-2.498 8.102-3.17 12.192-2.162C25.197 9.51 28.2 12.506 30 16.004c1.8-3.498 4.803-6.494 8.785-7.502 4.09-1.008 8.758-.336 12.192 2.162z\"/></g>\n",
      "    </symbol>\n",
      "    <symbol id=\"icon--home\" viewBox=\"0 0 60 60\">\n",
      "      <title>icon--home icon</title>\n",
      "      <title>icon--home</title><g fill-rule=\"evenodd\"><path d=\"M29.088 6.296c.394-.394 1.034-.394 1.428 0l24.188 23.792c.634.634.184 1.72-.714 1.72h-5.634v21.184c0 .556-.454 1.008-1.01 1.008H12.654c-.556 0-1.01-.452-1.01-1.008V31.808H6.01c-.898 0-1.348-1.086-.714-1.72L29.088 6.296z\"/></g>\n",
      "    </symbol>\n",
      "    <symbol id=\"icon--home-with-door\" viewBox=\"0 0 18 18\">\n",
      "     <title>icon--home-with-door icon</title>\n",
      "     <path fill-rule=\"evenodd\" d=\"M9.155 1.89c-.118-.12-.31-.12-.43 0L1.59 9.025c-.19.19-.056.516.213.516h1.19c.276 0 .5.224.5.5v5.856c0 .166.136.302.303.302H4.5c.276 0 .5-.224.5-.5v-4.2c0-.276.224-.5.5-.5h3c.276 0 .5.224.5.5v4.2c0 .276.224.5.5.5h4.704c.166 0 .303-.136.303-.302v-5.856c0-.276.224-.5.5-.5h1.19c.27 0 .404-.325.214-.516L9.156 1.89z\"/>\n",
      "   </symbol>\n",
      "    <symbol id=\"icon--human\" viewBox=\"0 0 60 60\">\n",
      "      <title>icon--human icon</title>\n",
      "      <title>icon--human</title><g fill-rule=\"evenodd\"><path d=\"M42 18c0 6.626-5.374 12-12 12s-12-5.374-12-12S23.374 6 30 6s12 5.374 12 12zM10 52v-8.278C14.982 38.984 22.086 36 30 36s15.018 2.984 20 7.722V52H10z\"/></g>\n",
      "    </symbol>\n",
      "    <symbol id=\"icon--humans\" viewBox=\"0 0 60 60\">\n",
      "      <title>icon--humans icon</title>\n",
      "      <title>icon--humans</title><g fill-rule=\"evenodd\"><path d=\"M20 32c-6.074 0-11-4.924-11-11s4.926-11 11-11 11 4.924 11 11-4.926 11-11 11zm24 0c-4.418 0-8-3.582-8-8s3.582-8 8-8 8 3.582 8 8-3.582 8-8 8zm-24 4.182c7.124 0 11.516 3.052 16 7.896V52H4v-7.922c4.484-4.844 8.876-7.896 16-7.896zM42 36c5.54 0 10.512 2.238 14 5.792V52H40v-9.488l-1.064-1.148c-1.294-1.4-2.684-2.748-4.212-3.982C36.968 36.504 39.418 36 42 36z\"/></g>\n",
      "    </symbol>\n",
      "    <symbol id=\"icon--image\" viewBox=\"0 0 60 60\">\n",
      "      <title>icon--image icon</title>\n",
      "      <title>icon--image</title><g fill-rule=\"evenodd\"><path d=\"M4 9c0-.552.448-1 1-1h50c.552 0 1 .448 1 1v42c0 .552-.448 1-1 1H5c-.552 0-1-.448-1-1V9zm5.5 37.5h41v-33h-41v33zm4.734-6.227l6.376-7.97c.398-.496 1.136-.536 1.582-.088l5.536 5.534 7.586-11.38c.43-.643 1.378-.63 1.786.027l8.736 13.978c.442.706-.066 1.624-.9 1.624H15.064c-.89 0-1.386-1.03-.83-1.727zM24 24c0 2.208-1.792 4-4 4s-4-1.792-4-4 1.792-4 4-4 4 1.792 4 4z\"/></g>\n",
      "    </symbol>\n",
      "    <symbol id=\"icon--inbox\" viewBox=\"0 0 60 60\">\n",
      "      <title>icon--inbox icon</title>\n",
      "      <title>icon--inbox</title><g fill-rule=\"evenodd\"><path d=\"M17.254 14h25.492l3.2 24h-9.004c-.482 0-.932.334-.996.812C35.546 41.738 33.034 44 30 44s-5.546-2.262-5.946-5.188c-.064-.478-.512-.812-.996-.812h-9.006l3.202-24zm34.744 24L48.114 8.868c-.068-.496-.488-.868-.99-.868H12.876c-.5 0-.924.372-.992.868L8 38l-.002 13c0 .552.448 1 1 1H51c.276 0 .526-.112.708-.292.18-.182.292-.432.292-.708V38h-.002z\"/></g>\n",
      "    </symbol>\n",
      "    <symbol id=\"icon--info\" viewBox=\"0 0 60 60\">\n",
      "      <title>icon--info icon</title>\n",
      "      <title>icon--info</title><g fill-rule=\"evenodd\"><path d=\"M30 4c14.36 0 26 11.64 26 26S44.36 56 30 56 4 44.36 4 30 15.64 4 30 4zm0 46.5c11.304 0 20.5-9.196 20.5-20.5S41.304 9.5 30 9.5 9.5 18.696 9.5 30 18.696 50.5 30 50.5zm0-35c1.93 0 3.5 1.57 3.5 3.5s-1.57 3.5-3.5 3.5-3.5-1.57-3.5-3.5 1.57-3.5 3.5-3.5zM31.75 26c.552 0 1 .448 1 1v16c0 .552-.448 1-1 1h-3.5c-.552 0-1-.448-1-1V27c0-.552.448-1 1-1h3.5z\"/></g>\n",
      "    </symbol>\n",
      "    <symbol id=\"icon--instagram\" viewBox=\"0 0 60 60\">\n",
      "      <title>icon--instagram icon</title>\n",
      "      <title>icon/instagram</title><path d=\"M29.993 37.338c-4.05 0-7.33-3.282-7.33-7.33 0-4.05 3.28-7.332 7.33-7.332 4.05 0 7.33 3.282 7.33 7.33 0 4.05-3.28 7.332-7.33 7.332zm0-18.625c-6.237 0-11.294 5.057-11.294 11.294S23.755 41.3 29.992 41.3c6.237 0 11.294-5.056 11.294-11.293 0-6.237-5.057-11.294-11.294-11.294zm0-10.7c-5.973 0-6.722.026-9.068.133-2.34.107-3.94.48-5.338 1.023-1.446.56-2.673 1.313-3.896 2.535-1.22 1.223-1.973 2.45-2.535 3.896C8.61 17 8.24 18.6 8.132 20.94 8.025 23.284 8 24.033 8 30.006c0 5.973.025 6.722.132 9.068.107 2.34.48 3.94 1.023 5.338.562 1.446 1.314 2.673 2.536 3.896 1.224 1.22 2.45 1.973 3.897 2.535 1.4.544 2.997.916 5.338 1.023 2.346.107 3.095.132 9.068.132 5.973 0 6.722-.025 9.068-.132 2.342-.107 3.94-.48 5.34-1.023 1.446-.562 2.672-1.314 3.895-2.536 1.222-1.224 1.975-2.45 2.537-3.897.543-1.4.915-2.997 1.022-5.338.107-2.346.132-3.095.132-9.068 0-5.973-.025-6.722-.132-9.068-.107-2.342-.48-3.94-1.022-5.34-.562-1.446-1.315-2.672-2.537-3.895-1.223-1.222-2.45-1.975-3.896-2.536-1.4-.545-2.998-.917-5.34-1.024-2.345-.107-3.094-.132-9.067-.132zm0 3.964c5.872 0 6.568.022 8.887.128 2.144.098 3.31.456 4.084.757 1.027.4 1.76.876 2.53 1.645.768.77 1.245 1.502 1.644 2.53.3.774.66 1.94.757 4.083.106 2.32.128 3.015.128 8.887s-.022 6.568-.128 8.887c-.098 2.144-.456 3.31-.757 4.084-.4 1.026-.876 1.76-1.645 2.53-.77.768-1.502 1.245-2.53 1.644-.774.3-1.94.66-4.083.757-2.32.105-3.014.127-8.887.127-5.873 0-6.568-.022-8.887-.128-2.144-.1-3.31-.457-4.084-.758-1.026-.4-1.76-.876-2.53-1.645-.768-.77-1.245-1.503-1.644-2.53-.3-.774-.66-1.94-.757-4.083-.105-2.32-.127-3.015-.127-8.887s.022-6.568.128-8.887c.1-2.144.457-3.31.758-4.084.4-1.027.876-1.76 1.645-2.53.77-.768 1.503-1.245 2.53-1.644.774-.3 1.94-.66 4.083-.757 2.32-.106 3.015-.128 8.887-.128zm14.38 6.29c0-1.458-1.182-2.64-2.64-2.64-1.458 0-2.64 1.182-2.64 2.64 0 1.458 1.182 2.64 2.64 2.64 1.458 0 2.64-1.182 2.64-2.64z\" fill-rule=\"evenodd\"/>\n",
      "    </symbol>\n",
      "    <symbol id=\"icon--lightbulb\" viewBox=\"0 0 60 60\">\n",
      "      <title>icon--lightbulb icon</title>\n",
      "      <title>icon--lightbulb</title><g fill-rule=\"evenodd\"><path d=\"M30 56c-3.198 0-5.958-1.876-7.238-4.586-.308-.656.198-1.412.924-1.412L36.314 50c.726 0 1.232.756.924 1.412C35.958 54.124 33.198 56 30 56zm18-34c0 3.406-.962 6.58-2.606 9.296h.018c-.162.26-.312.492-.464.732l-.028.044C41.286 37.746 40 37.642 40 43.786V45c0 .552-.446 1-1 1H21c-.552 0-1-.448-1-1v-1.214c0-6.144-1.284-6.04-4.92-11.714-.01-.014-.018-.03-.026-.044-.154-.24-.304-.472-.466-.732h.02C12.964 28.58 12 25.406 12 22c0-9.942 8.06-18 18-18 9.942 0 18 8.058 18 18zm-7.312 6.448C41.874 26.49 42.5 24.258 42.5 22c0-6.892-5.606-12.5-12.5-12.5-6.892 0-12.5 5.608-12.5 12.5 0 2.258.628 4.49 1.812 6.448l.36.594.004.004.048.076c.778 1.218 1.444 2.148 2.03 2.97 1.91 2.67 3.156 4.608 3.582 8.408h9.328c.426-3.8 1.672-5.738 3.582-8.408.586-.82 1.25-1.75 2.028-2.964l.038-.06.024-.036.352-.584z\"/></g>\n",
      "    </symbol>\n",
      "    <symbol id=\"icon--link\" viewBox=\"0 0 60 60\">\n",
      "      <title>icon--link icon</title>\n",
      "      <title>icon--link</title><g fill-rule=\"evenodd\"><path d=\"M28.874 45.896l-3.108 3.108c-3.722 3.722-9.756 3.722-13.476 0l-1.498-1.498c-3.72-3.72-3.72-9.754 0-13.476l10.512-10.512c3.72-3.72 9.756-3.72 13.476 0l-.012-.012c.392.39.392 1.024 0 1.416l-3.078 3.076c-.39.392-1.024.392-1.414 0l.012.012c-1.24-1.24-3.252-1.24-4.492 0L15.284 38.522c-1.24 1.242-1.24 3.252 0 4.492l1.498 1.498c1.24 1.24 3.252 1.24 4.492 0l3.108-3.108c.39-.39 1.024-.39 1.414 0l3.078 3.078c.39.39.39 1.024 0 1.414zm1.996-31.944l3.162-3.162c3.72-3.72 9.754-3.72 13.476 0l1.496 1.498c3.724 3.722 3.724 9.756 0 13.476L38.44 36.33c-3.72 3.722-9.756 3.722-13.476 0l.012.012c-.392-.39-.392-1.024 0-1.414l3.078-3.078c.39-.392 1.024-.392 1.414 0l-.012-.012c1.24 1.24 3.252 1.24 4.492 0l10.564-10.566c1.242-1.24 1.242-3.25 0-4.492l-1.496-1.496c-1.24-1.242-3.252-1.242-4.492 0l-3.162 3.16c-.39.39-1.024.39-1.414 0l-3.078-3.078c-.39-.39-.39-1.024 0-1.414z\"/></g>\n",
      "    </symbol>\n",
      "    <symbol id=\"icon--lock-black-bg\" viewBox=\"0 0 32 32\">\n",
      "      <title>icon--lock-black-bg icon</title>\n",
      "      <title>lock-icon</title><path d=\"M16 32c8.837 0 16-7.163 16-16S24.837 0 16 0 0 7.163 0 16s7.163 16 16 16zm-2.508-16.737v-.934c0-1.836 1.35-3.33 3.008-3.33 1.66 0 3.008 1.494 3.008 3.33v.933h.783c.145 0 .26.128.26.286v5.162c0 .16-.115.288-.26.288h-7.58c-.144 0-.26-.13-.26-.288V15.55c0-.16.116-.287.26-.287h.782zm4.822 0v-.934c0-1.108-.813-2.008-1.814-2.008-1 0-1.813.9-1.813 2.007v.933h3.627z\" fill-rule=\"nonzero\"/>\n",
      "    </symbol>\n",
      "    <symbol id=\"icon--lock\" viewBox=\"0 0 60 60\">\n",
      "      <title>icon--lock icon</title>\n",
      "      <title>icon--lock</title><g fill-rule=\"evenodd\"><path d=\"M40 26H20v-6.776c0-5.318 4.486-9.644 10-9.644s10 4.326 10 9.644V26zm9 0h-3v-6.776C46 10.598 38.822 3.58 30 3.58s-16 7.018-16 15.644V26h-3c-.552 0-1 .448-1 1v24c0 .552.448 1 1 1h38c.552 0 1-.448 1-1V27c0-.552-.448-1-1-1z\"/></g>\n",
      "    </symbol>\n",
      "    <symbol id=\"icon--mail\" viewBox=\"0 0 60 60\">\n",
      "      <title>icon--mail icon</title>\n",
      "      <title>icon--mail</title><g fill-rule=\"evenodd\"><path d=\"M30 31.39L8.138 12.88c-.356-.3-.142-.88.322-.88h43.08c.464 0 .676.58.322.88L30 31.39zM4.823 15.317l16.75 14.176-16.74 15.064c-.32.29-.834.06-.834-.37v-28.49c0-.424.497-.656.823-.38zm50.355 0c.324-.276.822-.044.822.38v28.49c0 .43-.512.66-.834.37L38.43 29.496l16.748-14.178zm-19.83 16.786L52.044 47.13c.34.306.122.87-.336.87H8.292c-.458 0-.674-.564-.334-.87l16.696-15.028 3.428 2.902c.554.462 1.232.694 1.914.694.686 0 1.372-.234 1.936-.704l3.416-2.89z\"/></g>\n",
      "    </symbol>\n",
      "    <symbol id=\"icon--meh-filled\" viewBox=\"0 0 60 60\">\n",
      "      <title>icon--meh-filled icon</title>\n",
      "      <path fill-rule=\"evenodd\" clip-rule=\"evenodd\" d=\"M56 30c0 14.36-11.64 26-26 26S4 44.36 4 30 15.64 4 30 4s26 11.64 26 26zm-36.035 4.77c-1.047-.35-2.18.216-2.53 1.264-.35 1.048.218 2.18 1.266 2.53C20.978 39.324 25.878 40 30 40c4.122 0 9.023-.677 11.3-1.436 1.047-.35 1.613-1.482 1.264-2.53-.35-1.048-1.482-1.614-2.53-1.265C38.31 35.343 33.877 36 30 36c-3.878 0-8.31-.656-10.035-1.23zm7.813-13.214c0 1.963-1.592 3.555-3.556 3.555s-3.556-1.59-3.556-3.554c0-1.964 1.592-3.556 3.556-3.556s3.556 1.592 3.556 3.556zm8 3.555c1.963 0 3.555-1.59 3.555-3.554 0-1.964-1.592-3.556-3.556-3.556-1.963 0-3.555 1.592-3.555 3.556 0 1.963 1.592 3.555 3.555 3.555z\"/>\n",
      "    </symbol>\n",
      "    <symbol id=\"icon--meh\" viewBox=\"0 0 60 60\">\n",
      "      <title>icon--meh icon</title>\n",
      "      <path fill-rule=\"evenodd\" clip-rule=\"evenodd\" d=\"M8 30C8 17.85 17.85 8 30 8s22 9.85 22 22-9.85 22-22 22S8 42.15 8 30zM30 4C15.64 4 4 15.64 4 30s11.64 26 26 26 26-11.64 26-26S44.36 4 30 4zM19.965 34.77c-1.047-.35-2.18.216-2.53 1.264-.35 1.048.218 2.18 1.266 2.53C20.978 39.324 25.878 40 30 40c4.122 0 9.023-.677 11.3-1.436 1.047-.35 1.613-1.482 1.264-2.53-.35-1.048-1.482-1.614-2.53-1.265C38.31 35.343 33.877 36 30 36c-3.878 0-8.31-.656-10.035-1.23zm7.813-13.214c0 1.963-1.592 3.555-3.556 3.555s-3.556-1.59-3.556-3.554c0-1.964 1.592-3.556 3.556-3.556s3.556 1.592 3.556 3.556zm8 3.555c1.963 0 3.555-1.59 3.555-3.554 0-1.964-1.592-3.556-3.556-3.556-1.963 0-3.555 1.592-3.555 3.556 0 1.963 1.592 3.555 3.555 3.555z\"/>\n",
      "    </symbol>\n",
      "    <symbol id=\"icon--menu\" viewBox=\"0 0 60 60\">\n",
      "      <title>icon--menu icon</title>\n",
      "      <title>icon--menu</title><g fill-rule=\"evenodd\"><path d=\"M51 48H9c-.552 0-1-.448-1-1v-4c0-.552.448-1 1-1h42c.552 0 1 .448 1 1v4c0 .552-.448 1-1 1zm-8-15H9c-.552 0-1-.448-1-1v-4c0-.552.448-1 1-1h34c.552 0 1 .448 1 1v4c0 .552-.448 1-1 1zm8-15H9c-.552 0-1-.448-1-1v-4c0-.552.448-1 1-1h42c.552 0 1 .448 1 1v4c0 .552-.448 1-1 1z\"/></g>\n",
      "    </symbol>\n",
      "    <symbol id=\"icon--message\" viewBox=\"0 0 60 60\">\n",
      "      <title>icon--message icon</title>\n",
      "      <title>icon--message</title><g fill-rule=\"evenodd\"><path d=\"M55 8c.552 0 1 .448 1 1v34c0 .552-.448 1-1 1H36L21.83 55.73c-.718.618-1.83.106-1.83-.842V44H5c-.552 0-1-.448-1-1V9c0-.552.448-1 1-1h50z\"/></g>\n",
      "    </symbol>\n",
      "    <symbol id=\"icon--mobile\" viewBox=\"0 0 60 60\">\n",
      "      <title>icon--mobile icon</title>\n",
      "      <title>icon--mobile</title><g fill-rule=\"evenodd\"><path d=\"M17.5 44h25V12h-25v32zM34 51c0 .552-.448 1-1 1h-6c-.552 0-1-.448-1-1v-2c0-.552.448-1 1-1h6c.552 0 1 .448 1 1v2zM47.316 5.764c-.286-.426-.654-.794-1.08-1.08C45.598 4.252 44.828 4 44 4H16c-.828 0-1.598.252-2.236.684-.426.286-.794.654-1.08 1.08C12.252 6.402 12 7.172 12 8v44c0 2.208 1.792 4 4 4h28c2.208 0 4-1.792 4-4V8c0-.828-.252-1.598-.684-2.236z\"/></g>\n",
      "    </symbol>\n",
      "    <symbol id=\"icon--overflow\" viewBox=\"0 0 60 60\">\n",
      "      <title>icon--overflow icon</title>\n",
      "      <title>icon--overflow</title><g fill-rule=\"nonzero\"><circle cx=\"29.5\" cy=\"11.5\" r=\"5.5\"/><circle cx=\"29.5\" cy=\"30.5\" r=\"5.5\"/><circle cx=\"29.5\" cy=\"48.5\" r=\"5.5\"/></g>\n",
      "    </symbol>\n",
      "    <symbol id=\"icon--pause\" viewBox=\"0 0 60 60\">\n",
      "      <title>icon--pause icon</title>\n",
      "      <title>icon--pause</title><g fill-rule=\"evenodd\"><rect x=\"11\" y=\"7\" width=\"14\" height=\"44\" rx=\"1\"/><rect x=\"36\" y=\"7\" width=\"14\" height=\"44\" rx=\"1\"/></g>\n",
      "    </symbol>\n",
      "    <symbol id=\"icon--pencil\" viewBox=\"0 0 60 60\">\n",
      "      <title>icon--pencil icon</title>\n",
      "      <title>icon--pencil</title><g fill-rule=\"evenodd\"><path d=\"M46.242 22.242l-8.484-8.484c-.39-.39-.39-1.024 0-1.416l4.648-4.646c.39-.392 1.024-.392 1.414 0l8.484 8.484c.392.39.392 1.024 0 1.414l-4.648 4.648c-.39.39-1.024.39-1.414 0zm-12.908-5.478c.39-.39 1.024-.388 1.414 0l8.486 8.49c.392.388.392 1.02.002 1.412L18 52H9c-.552 0-1-.446-1-1v-9l25.334-25.236z\"/></g>\n",
      "    </symbol>\n",
      "    <symbol id=\"icon--pin\" viewBox=\"0 0 60 60\">\n",
      "      <title>icon--pin icon</title>\n",
      "      <title>icon--pin</title><g fill-rule=\"evenodd\"><path d=\"M39.778 24.01C43.22 24.052 46 26.85 46 30.304V31c0 .553-.448 1-1 1H15c-.554 0-1-.447-1-1v-.695c0-3.454 2.778-6.252 6.222-6.296L22 8l-1.638-3.277c-.168-.332.076-.722.446-.722h18.384c.37 0 .612.39.446.723L38 8l1.778 16.01zM32.5 36c.276 0 .5.224.5.5l-2 19c0 .276-.224.5-.5.5h-1c-.276 0-.5-.224-.5-.5l-2-19c0-.276.224-.5.5-.5h5z\"/></g>\n",
      "    </symbol>\n",
      "    <symbol id=\"icon--pinterest\" viewBox=\"0 0 60 60\">\n",
      "      <title>icon--pinterest icon</title>\n",
      "      <title>icon--pinterest</title><g fill-rule=\"evenodd\"><path d=\"M30 6c13.254 0 24 10.744 24 24S43.254 54 30 54c-2.474 0-4.86-.376-7.106-1.07.978-1.594 2.44-4.208 2.982-6.294.292-1.12 1.496-5.704 1.496-5.704.782 1.494 3.068 2.758 5.502 2.758 7.238 0 12.452-6.658 12.452-14.93 0-7.928-6.47-13.862-14.794-13.862-10.358 0-15.858 6.954-15.858 14.524 0 3.522 1.872 7.902 4.87 9.298.456.212.7.12.804-.32.078-.334.484-1.964.666-2.722.058-.242.03-.452-.166-.69-.992-1.2-1.786-3.414-1.786-5.476 0-5.294 4.008-10.414 10.836-10.414 5.896 0 10.026 4.018 10.026 9.764 0 6.492-3.28 10.99-7.546 10.99-2.356 0-4.118-1.948-3.552-4.338.676-2.852 1.986-5.932 1.986-7.99 0-1.844-.988-3.382-3.036-3.382-2.408 0-4.342 2.492-4.342 5.828 0 2.128.718 3.566.718 3.566s-2.38 10.056-2.816 11.926c-.482 2.076-.292 4.988-.082 6.888C12.326 48.852 6 40.168 6 30 6 16.744 16.746 6 30 6z\"/></g>\n",
      "    </symbol>\n",
      "    <symbol id=\"icon--play\" viewBox=\"0 0 60 60\">\n",
      "      <title>icon--play icon</title>\n",
      "      <title>icon--play</title><g fill-rule=\"evenodd\"><path d=\"M8.003 9.03c0-.78.836-1.277 1.522-.903l41.938 22.876c.746.406.706 1.488-.066 1.84L9.457 51.905c-.68.312-1.454-.186-1.454-.934V9.03z\"/></g>\n",
      "    </symbol>\n",
      "    <symbol id=\"icon--plus-human\" viewBox=\"0 0 60 60\">\n",
      "      <title>icon--plus-human icon</title>\n",
      "      <title>icon--plus-human</title><g fill-rule=\"evenodd\"><path d=\"M50 20c0 6.626-5.374 12-12 12s-12-5.374-12-12S31.374 8 38 8s12 5.374 12 12zM19 54c-.552 0-1-.448-1-1v-6.83c0-.286.118-.56.326-.752C23.29 40.858 30.258 38 38 38c7.742 0 14.708 2.856 19.674 7.416.208.194.326.468.326.754V53c0 .552-.448 1-1 1H19zm2-26c.552 0 1 .448 1 1v2c0 .552-.448 1-1 1h-7v7c0 .552-.448 1-1 1h-2c-.552 0-1-.448-1-1v-7H3c-.552 0-1-.448-1-1v-2c0-.552.448-1 1-1h7v-7c0-.552.448-1 1-1h2c.552 0 1 .448 1 1v7h7z\"/></g>\n",
      "    </symbol>\n",
      "    <symbol id=\"icon--plus\" viewBox=\"0 0 60 60\">\n",
      "      <title>icon--plus icon</title>\n",
      "      <title>icon--plus</title><g fill-rule=\"evenodd\"><path d=\"M51 27c.552 0 1 .448 1 1v4c0 .552-.448 1-1 1H33v18c0 .552-.448 1-1 1h-4c-.552 0-1-.448-1-1V33H9c-.552 0-1-.448-1-1v-4c0-.552.448-1 1-1h18V9c0-.552.448-1 1-1h4c.552 0 1 .448 1 1v18h18z\"/></g>\n",
      "    </symbol>\n",
      "    <symbol id=\"icon--prohibit\" viewBox=\"0 0 60 60\">\n",
      "      <title>icon--prohibit icon</title>\n",
      "      <title>icon--prohibit</title><g fill-rule=\"evenodd\"><path d=\"M30 50c11.028 0 20-8.972 20-20 0-4.434-1.466-8.52-3.918-11.84L18.16 46.082C21.48 48.534 25.566 50 30 50zm0-40c-11.028 0-20 8.972-20 20 0 4.434 1.466 8.52 3.918 11.84L41.84 13.918C38.52 11.466 34.434 10 30 10zm0-6c14.36 0 26 11.64 26 26S44.36 56 30 56 4 44.36 4 30 15.64 4 30 4z\"/></g>\n",
      "    </symbol>\n",
      "    <symbol id=\"icon--project-budget\" viewBox=\"0 0 24 24\">\n",
      "      <title>icon--project-budget icon</title>\n",
      "      <path fill-rule=\"evenodd\" d=\"M8.56 9.956c.534-.894 1.406-1.564 2.44-1.83V2.05c-3.86.383-7.076 2.962-8.378 6.47l5.94 1.436zm-.558 1.923l-5.884-1.424C2.04 10.96 2 11.476 2 12c0 5.523 4.477 10 10 10 .65 0 1.283-.062 1.897-.18l-1.643-5.828c-.084.005-.17.008-.254.008-2.21 0-4-1.79-4-4 0-.04 0-.08.002-.12zM16 12c0-1.864-1.275-3.43-3-3.874V2.05c5.053.5 9 4.765 9 9.95 0 4.172-2.555 7.748-6.186 9.247l-1.657-5.878C15.265 14.657 16 13.414 16 12z\"/>\n",
      "    </symbol>\n",
      "    <symbol id=\"icon--pull-quote\" viewBox=\"0 0 60 60\">\n",
      "      <title>icon--pull-quote icon</title>\n",
      "      <title>icon--pull-quote</title><path d=\"M25.365 12v7.232c-4.708.964-7.064 4.232-7.064 9.804h7.065V48H8V31.446C8 19.338 13.79 12.858 25.364 12M52 12v7.232c-4.71.964-7.065 4.232-7.065 9.804H52V48H34.634V31.446C34.635 19.338 40.423 12.858 52 12\" fill-rule=\"evenodd\"/>\n",
      "    </symbol>\n",
      "    <symbol id=\"icon--question-filled\" viewBox=\"0 0 60 60\">\n",
      "      <title>icon--question-filled icon</title>\n",
      "      <title>icon--question-filled</title><path d=\"M30 56C15.64 56 4 44.36 4 30S15.64 4 30 4s26 11.64 26 26-11.64 26-26 26zm-2.692-21h4.066v-1.178c0-1.862 1.52-2.584 3.534-3.952 2.09-1.406 3.914-2.85 3.914-6.536 0-4.18-3.61-7.334-8.436-7.334-6.308 0-9.31 3.876-9.386 9.006l4.256.418c.152-2.584 1.178-5.282 5.016-5.282 3.116 0 4.218 1.786 4.218 3.458 0 2.394-1.71 3.42-3.572 4.674-2.052 1.33-3.61 2.546-3.61 5.244V35zm-.38 8.17h5.244v-5.054h-5.244v5.054z\" fill-rule=\"evenodd\"/>\n",
      "    </symbol>\n",
      "    <symbol id=\"icon--question\" viewBox=\"0 0 60 60\">\n",
      "      <title>icon--question icon</title>\n",
      "      <title>icon--question</title><g fill-rule=\"evenodd\"><path d=\"M30 4c14.36 0 26 11.64 26 26S44.36 56 30 56 4 44.36 4 30 15.64 4 30 4zm3.477 46.213c8.488-1.404 15.332-8.248 16.736-16.736C52.527 19.47 40.53 7.47 26.523 9.79c-8.488 1.4-15.332 8.247-16.736 16.733-2.314 14.008 9.682 26.004 23.69 23.69zM29 37.5c1.93 0 3.5 1.57 3.5 3.5s-1.57 3.5-3.5 3.5-3.5-1.57-3.5-3.5 1.57-3.5 3.5-3.5zm5.45-21.66c3.143 1.88 4.585 5.71 3.433 9.103-.774 2.27-2.392 3.7-3.692 4.848-.617.55-1.2 1.065-1.62 1.597-.343.432-.73 1.12-.793 1.964-.008 0-.022.17-.022.17 0 .26-.21.47-.47.47h-4.57c-.252 0-.45-.2-.464-.45.003-.07.02-.14.02-.21v-.005c.055-1.91.725-3.756 1.98-5.346.727-.92 1.563-1.657 2.3-2.307 1.02-.902 1.82-1.612 2.125-2.5.324-.958-.116-2.058-1.05-2.618-.914-.548-2.328-.46-3.218.2-.682.508-1.16 1.394-1.326 2.416-.075.47-.495.807-.97.807h-3.535c-.61 0-1.062-.54-.996-1.144.287-2.652 1.57-5.022 3.55-6.492 2.67-1.98 6.503-2.19 9.32-.5z\"/></g>\n",
      "    </symbol>\n",
      "    <symbol id=\"icon--reorder\" viewBox=\"0 0 60 60\">\n",
      "      <title>icon--reorder icon</title>\n",
      "      <title>icon-reorder</title><defs><path d=\"M16.017 8.418L8.7.538c-.27-.29-.73-.29-1 0L.383 8.42c-.408.438-.097 1.148.5 1.148H6.15V34.85c0 .378.306.683.683.683h2.733c.38 0 .684-.305.684-.683V9.566h5.267c.596 0 .906-.71.5-1.148\" id=\"a\"/><path d=\"M16.017 8.418L8.7.538c-.27-.29-.73-.29-1 0L.383 8.42c-.408.438-.097 1.148.5 1.148H6.15V34.85c0 .378.306.683.683.683h2.733c.38 0 .684-.305.684-.683V9.566h5.267c.596 0 .906-.71.5-1.148\" id=\"c\"/></defs><g fill-rule=\"evenodd\"><g stroke=\"#979797\" stroke-width=\".1\"><path d=\"M0 0h60v4H0z\"/><path d=\"M0 0h4v60H0zM56 0h4v60h-4z\"/><path d=\"M0 56h60v4H0z\"/><circle cx=\"30\" cy=\"30\" r=\"26\"/><path d=\"M12 4h36v52H12z\"/><path d=\"M4 12h52v36H4z\"/><path d=\"M8.05 8.05h43.9v43.9H8.05z\"/></g><g transform=\"translate(22.3 7.733)\"><mask><use xlink:href=\"#a\"/></mask><use xlink:href=\"#a\"/><path d=\"M0 0h41v41H0z\" transform=\"translate(-12.3 -2.733)\" mask=\"url(#b)\"/></g><g transform=\"rotate(-180 19.35 26.133)\"><mask id=\"d\"><use xlink:href=\"#c\"/></mask><use xlink:href=\"#c\"/><path d=\"M0 0h41v41H0z\" transform=\"translate(-12.3 -2.733)\" mask=\"url(#d)\"/></g></g>\n",
      "    </symbol>\n",
      "    <symbol id=\"icon--reply\" viewBox=\"0 0 60 60\">\n",
      "      <title>icon--reply icon</title>\n",
      "      <title>icon--reply</title><g fill-rule=\"evenodd\"><path d=\"M55.738 28.182c.478.44.478 1.196 0 1.636L31.86 51.708c-.712.652-1.86.146-1.86-.818V38.152c-13.012.93-18.378 6.538-23.866 15.3-.63 1.01-2.154.532-2.154-.664 0-22.45 13.14-32.74 26.02-34.486V7.112c0-.966 1.148-1.47 1.86-.818l23.878 21.888z\"/></g>\n",
      "    </symbol>\n",
      "    <symbol id=\"icon--save\" viewBox=\"0 0 60 60\">\n",
      "      <title>icon--save icon</title>\n",
      "      <title>icon--save</title><path d=\"M21.2 9.1v11c0 .608.492 1.1 1.1 1.1h15.4c.608 0 1.1-.492 1.1-1.1v-11c0-.608.492-1.1 1.1-1.1h1.477c1.167 0 2.287.464 3.112 1.29l6.22 6.22c.826.826 1.29 1.946 1.29 3.113V47.6c0 2.43-1.97 4.4-4.4 4.4H12.4C9.97 52 8 50.03 8 47.6V12.4C8 9.97 9.97 8 12.4 8h7.7c.608 0 1.1.492 1.1 1.1zM30 43.2c3.645 0 6.6-2.955 6.6-6.6 0-3.645-2.955-6.6-6.6-6.6-3.645 0-6.6 2.955-6.6 6.6 0 3.645 2.955 6.6 6.6 6.6zM31.222 8h2.445c.675 0 1.222.547 1.222 1.222v7.334c0 .675-.548 1.222-1.223 1.222h-2.445c-.675 0-1.222-.547-1.222-1.222V9.222C30 8.547 30.547 8 31.222 8z\" fill-rule=\"nonzero\"/>\n",
      "    </symbol>\n",
      "    <symbol id=\"icon--saved\" viewBox=\"0 0 60 60\">\n",
      "      <title>icon--saved icon</title>\n",
      "      <title>icon--saved</title><path d=\"M21.2 9.1v11c0 .608.492 1.1 1.1 1.1h15.4c.608 0 1.1-.492 1.1-1.1v-11c0-.608.492-1.1 1.1-1.1h1.477c1.167 0 2.287.464 3.112 1.29l6.22 6.22c.826.826 1.29 1.946 1.29 3.113V47.6c0 2.43-1.97 4.4-4.4 4.4H12.4C9.97 52 8 50.03 8 47.6V12.4C8 9.97 9.97 8 12.4 8h7.7c.608 0 1.1.492 1.1 1.1zm5.83 34.944c.174.152.44.13.587-.05l11.76-14.28c.146-.176.12-.434-.054-.578l-1.267-1.043c-.174-.143-.432-.12-.577.056L27.06 40.8l-5.3-4.638c-.17-.15-.43-.132-.578.038l-1.08 1.236c-.15.17-.132.43.038.578l6.89 6.03zM31.222 8h2.445c.675 0 1.222.547 1.222 1.222v7.334c0 .675-.548 1.222-1.223 1.222h-2.445c-.675 0-1.222-.547-1.222-1.222V9.222C30 8.547 30.547 8 31.222 8z\" fill-rule=\"nonzero\"/>\n",
      "    </symbol>\n",
      "    <symbol id=\"icon--search\" viewBox=\"0 0 60 60\">\n",
      "      <title>icon--search icon</title>\n",
      "      <title>icon--search</title><g fill-rule=\"evenodd\"><path d=\"M26.104 6.104c11.044 0 20 8.954 20 20 0 4.44-1.464 8.528-3.912 11.846l11.412 11.412c.39.39.39 1.024 0 1.414l-2.828 2.828c-.196.196-.452.292-.708.292-.256 0-.51-.096-.706-.292L37.95 42.192c-3.318 2.448-7.406 3.912-11.846 3.912-11.044 0-20-8.954-20-20s8.956-20 20-20zm0 6c-7.718 0-14 6.28-14 14s6.282 14 14 14c2.988 0 5.854-.948 8.284-2.74L36.1 36.1l1.264-1.712c1.792-2.43 2.74-5.294 2.74-8.284 0-7.72-6.282-14-14-14z\"/></g>\n",
      "    </symbol>\n",
      "    <symbol id=\"icon--section-break\" viewBox=\"0 0 60 60\">\n",
      "      <title>icon--section-break icon</title>\n",
      "      <title>icon--section-break</title><path d=\"M55 28H5c-.552 0-1 .448-1 1v2c0 .552.448 1 1 1h50c.552 0 1-.448 1-1v-2c0-.552-.448-1-1-1m-8 10h-4c-.552 0-1 .448-1 1v7H18v-7c0-.552-.448-1-1-1h-4c-.552 0-1 .448-1 1v12c0 .552.448 1 1 1h34c.552 0 1-.448 1-1V39c0-.552-.448-1-1-1M12 21V9c0-.552.448-1 1-1h34c.552 0 1 .448 1 1v12c0 .552-.448 1-1 1h-4c-.552 0-1-.448-1-1v-7H18v7c0 .552-.448 1-1 1h-4c-.552 0-1-.448-1-1\" fill-rule=\"evenodd\"/>\n",
      "    </symbol>\n",
      "    <symbol id=\"icon--small-k\" viewBox=\"0 0 60 60\">\n",
      "      <title>icon--small-k icon</title>\n",
      "      <path fill-rule=\"nonzero\" d=\"M43.34 29.838l4.31-4.304c4.467-4.46 4.467-11.72 0-16.18-4.466-4.458-11.74-4.458-16.207 0l-1.57 1.568C27.793 7.942 24.367 6 20.453 6 14.13 6 9 11.12 9 17.433V42.22c0 6.313 5.13 11.434 11.454 11.434 3.913 0 7.34-1.943 9.42-4.922l1.57 1.567c4.465 4.457 11.74 4.457 16.206 0 4.467-4.46 4.467-11.72 0-16.18l-4.31-4.282z\"/>\n",
      "    </symbol>\n",
      "    <symbol id=\"icon--sound-hi\" viewBox=\"0 0 60 60\">\n",
      "      <title>icon--sound-hi icon</title>\n",
      "      <title>icon--sound-hi</title><g fill-rule=\"evenodd\"><path d=\"M28.27 8.246c.687-.572 1.73-.084 1.73.81v41.888c0 .894-1.043 1.382-1.73.81L16.65 42H5.056C4.473 42 4 41.528 4 40.946V19.054C4 18.472 4.472 18 5.054 18H16.65l11.62-9.754zm17.363.992C51.925 13.984 56 21.512 56 30c0 8.488-4.075 16.016-10.367 20.762-.454.34-1.108.22-1.43-.244l-2.28-3.3c-.308-.44-.198-1.028.228-1.356C46.918 42.204 50 36.458 50 30c0-6.46-3.083-12.206-7.85-15.864-.425-.326-.535-.914-.227-1.356l2.28-3.298c.322-.464.976-.584 1.43-.244zm-6.48 9.463C42.122 21.354 44 25.204 44 29.5c0 4.515-2.07 8.54-5.306 11.2-.444.365-1.118.243-1.444-.23l-2.318-3.347c-.284-.408-.186-.948.186-1.276C36.878 34.293 38 32.03 38 29.5c0-2.327-.96-4.417-2.484-5.945-.354-.356-.434-.896-.15-1.308l2.318-3.344c.334-.486 1.028-.594 1.468-.202z\"/></g>\n",
      "    </symbol>\n",
      "    <symbol id=\"icon--sound-lo\" viewBox=\"0 0 60 60\">\n",
      "      <title>icon--sound-lo icon</title>\n",
      "      <title>icon--sound-lo</title><g fill-rule=\"evenodd\"><path d=\"M28.27 8.246c.687-.572 1.73-.084 1.73.81v41.888c0 .894-1.043 1.382-1.73.81L16.65 42H5.056C4.473 42 4 41.528 4 40.946V19.054C4 18.472 4.472 18 5.054 18H16.65l11.62-9.754zm9.412 10.656c.336-.484 1.032-.594 1.47-.202C42.124 21.354 44 25.202 44 29.5c0 4.516-2.07 8.54-5.306 11.198-.446.366-1.118.246-1.444-.228l-2.318-3.348c-.284-.408-.186-.946.188-1.274C36.882 34.292 38 32.028 38 29.5c0-2.326-.958-4.416-2.484-5.946-.354-.356-.434-.894-.148-1.306l2.314-3.346z\"/></g>\n",
      "    </symbol>\n",
      "    <symbol id=\"icon--sound-mute\" viewBox=\"0 0 60 60\">\n",
      "      <title>icon--sound-mute icon</title>\n",
      "      <title>icon--sound-mute</title><g fill-rule=\"evenodd\"><path d=\"M28.27 8.246c.687-.572 1.73-.084 1.73.81v41.888c0 .894-1.043 1.382-1.73.81L16.65 42H5.056C4.473 42 4 41.528 4 40.946V19.054C4 18.472 4.472 18 5.054 18H16.65l11.62-9.754zm27.144 13.168c.39.39.39 1.024 0 1.414L49.242 29l6.172 6.172c.39.39.39 1.024 0 1.414l-2.828 2.828c-.39.39-1.024.39-1.414 0L45 33.242l-6.172 6.172c-.39.39-1.024.39-1.414 0l-2.828-2.828c-.39-.39-.39-1.024 0-1.414L40.758 29l-6.172-6.172c-.39-.39-.39-1.024 0-1.414l2.828-2.828c.39-.39 1.024-.39 1.414 0L45 24.758l6.172-6.172c.39-.39 1.024-.39 1.414 0l2.828 2.828z\"/></g>\n",
      "    </symbol>\n",
      "    <symbol id=\"icon--star-outline\" viewBox=\"0 0 20 20\">\n",
      "      <title>icon--star-outline icon</title>\n",
      "      <title>Star Outline</title><path d=\"M18.847 7.73c.147.012.207.203.095.303l-4.71 4.24c-.063.056-.09.144-.072.227l1.41 6.215c.046.2-.163.358-.332.25l-5.243-3.303c-.07-.044-.16-.044-.23 0L4.52 18.966c-.168.107-.378-.05-.332-.25l1.41-6.216c.02-.083-.008-.17-.07-.227l-4.413-3.97c-.222-.202-.103-.582.19-.607l5.8-.5c.083-.007.156-.062.188-.142l2.38-5.912c.077-.19.336-.19.413 0l2.38 5.912c.032.08.104.135.188.142l6.193.534z\" stroke=\"#037362\" stroke-width=\"2\" fill-rule=\"evenodd\"/>\n",
      "    </symbol>\n",
      "    <symbol id=\"icon--star\" viewBox=\"0 0 60 60\">\n",
      "      <title>icon--star icon</title>\n",
      "      <title>icon--star</title><g fill-rule=\"evenodd\"><path d=\"M56.874 23.44c.442.036.62.586.286.876L43.042 36.564c-.188.162-.27.416-.212.658l4.226 17.954c.136.576-.49 1.032-.998.724l-15.712-9.544c-.212-.128-.48-.128-.692 0L13.942 55.9c-.508.308-1.136-.148-.998-.724l4.226-17.954c.058-.242-.024-.496-.212-.658L3.736 25.094c-.668-.58-.31-1.68.572-1.752l17.378-1.444c.248-.02.466-.178.562-.41L29.382 4.41c.23-.548 1.006-.548 1.236 0l7.134 17.078c.096.232.312.39.562.41l18.56 1.542z\"/></g>\n",
      "    </symbol>\n",
      "    <symbol id=\"icon--subtitles-captions\" viewBox=\"0 0 60 60\">\n",
      "      <title>icon--subtitles-captions icon</title>\n",
      "      <title>icon--subtitles-captions</title><path d=\"M55 8c.552 0 1 .448 1 1v34c0 .552-.448 1-1 1H36L21.83 55.73c-.718.618-1.83.106-1.83-.842V44H5c-.552 0-1-.448-1-1V9c0-.552.448-1 1-1h50zM12 18v6h24v-6H12zm30 0v6h6v-6h-6zM12 30v6h6v-6h-6zm12 0v6h24v-6H24z\" fill-rule=\"nonzero\"/>\n",
      "    </symbol>\n",
      "    <symbol id=\"icon--text-bold\" viewBox=\"0 0 60 60\">\n",
      "      <title>icon--text-bold icon</title>\n",
      "      <title>icon--text-bold</title><path d=\"M14 52V8h17.488c3.888 0 7.008 1.1 9.36 3.298 2.353 2.2 3.527 4.955 3.527 8.27 0 2.086-.506 3.856-1.518 5.308s-2.315 2.577-3.912 3.374v.124c1.944.716 3.606 1.963 4.987 3.743 1.38 1.78 2.07 4.01 2.07 6.69 0 1.963-.28 3.72-.843 5.276-.565 1.556-1.448 2.942-2.655 4.158-1.208 1.218-2.85 2.15-4.924 2.794-2.076.644-4.547.966-7.41.966H14zm6.29-5.767h8.866c1.7 0 3.145-.104 4.343-.308 1.195-.205 2.285-.574 3.267-1.105.98-.532 1.72-1.293 2.21-2.287.49-.99.734-2.234.734-3.726 0-2.66-.853-4.512-2.56-5.554-1.708-1.043-4.332-1.566-7.87-1.566h-8.99v14.546zm0-19.946h10.186c5.072 0 7.61-2.066 7.61-6.197 0-2.026-.675-3.57-2.025-4.634-1.35-1.064-3.23-1.596-5.645-1.596H20.29v12.427z\" fill-rule=\"evenodd\"/>\n",
      "    </symbol>\n",
      "    <symbol id=\"icon--text-bullet\" viewBox=\"0 0 60 60\">\n",
      "      <title>icon--text-bullet icon</title>\n",
      "      <title>icon--text-bullet</title><path d=\"M52 47v-4c0-.552-.448-1-1-1H21c-.552 0-1 .448-1 1v4c0 .552.448 1 1 1h30c.552 0 1-.448 1-1m0-15v-4c0-.552-.448-1-1-1H21c-.552 0-1 .448-1 1v4c0 .552.448 1 1 1h30c.552 0 1-.448 1-1m0-15v-4c0-.552-.448-1-1-1H21c-.552 0-1 .448-1 1v4c0 .552.448 1 1 1h30c.552 0 1-.448 1-1m-38 0v-4c0-.552-.448-1-1-1H9c-.552 0-1 .448-1 1v4c0 .552.448 1 1 1h4c.552 0 1-.448 1-1m0 15v-4c0-.552-.448-1-1-1H9c-.552 0-1 .448-1 1v4c0 .552.448 1 1 1h4c.552 0 1-.448 1-1m-1 16H9c-.552 0-1-.448-1-1v-4c0-.552.448-1 1-1h4c.552 0 1 .448 1 1v4c0 .552-.448 1-1 1\" fill-rule=\"evenodd\"/>\n",
      "    </symbol>\n",
      "    <symbol id=\"icon--text-italic\" viewBox=\"0 0 60 60\">\n",
      "      <title>icon--text-italic icon</title>\n",
      "      <title>icon--text-italic</title><path d=\"M34.83 19.948h-1.458l-9.15 1.982-.35 1.224 4.43 1.806-4.486 18.066C23.29 45.24 23 46.698 23 48.038 23 50.426 24.398 52 26.614 52c2.914 0 5.478-1.748 9.032-7.05l-1.166-1.224c-2.622 3.204-4.312 4.37-5.42 4.37-.524 0-.816-.29-.816-.874 0-.466.234-1.458.526-2.566l6.06-24.708zM33.2 15.81c2.212 0 4.078-1.864 4.078-4.138 0-2.04-1.574-3.672-3.672-3.672-2.214 0-4.078 1.866-4.078 4.138 0 2.04 1.572 3.672 3.672 3.672z\" fill-rule=\"evenodd\"/>\n",
      "    </symbol>\n",
      "    <symbol id=\"icon--textalign-centered\" viewBox=\"0 0 60 60\">\n",
      "      <title>icon--textalign-centered icon</title>\n",
      "      <title>icon--textalign-centered</title><path d=\"M51 12c.552 0 1 .448 1 1v4c0 .552-.448 1-1 1H9c-.552 0-1-.448-1-1v-4c0-.552.448-1 1-1h42zm-4 21H13c-.552 0-1-.448-1-1v-4c0-.552.448-1 1-1h34c.552 0 1 .448 1 1v4c0 .552-.448 1-1 1zm4 9c.552 0 1 .448 1 1v4c0 .552-.448 1-1 1H9c-.552 0-1-.448-1-1v-4c0-.552.448-1 1-1h42z\" fill-rule=\"evenodd\"/>\n",
      "    </symbol>\n",
      "    <symbol id=\"icon--textalign-right\" viewBox=\"0 0 60 60\">\n",
      "      <title>icon--textalign-right icon</title>\n",
      "      <title>icon--textalign-right</title><path d=\"M51 42H9c-.552 0-1 .448-1 1v4c0 .552.448 1 1 1h42c.552 0 1-.448 1-1v-4c0-.552-.448-1-1-1zm0-9c.552 0 1-.448 1-1v-4c0-.552-.448-1-1-1H17c-.552 0-1 .448-1 1v4c0 .552.448 1 1 1h34zm1-20v4c0 .552-.448 1-1 1H9c-.552 0-1-.448-1-1v-4c0-.552.448-1 1-1h42c.552 0 1 .448 1 1z\" fill-rule=\"evenodd\"/>\n",
      "    </symbol>\n",
      "    <symbol id=\"icon--thumbs-down\" viewBox=\"0 0 60 60\">\n",
      "      <title>icon--thumbs-down icon</title>\n",
      "      <title>icon--thumbs-down</title><path d=\"M44 11h6c1.33 0 2 .7 2 2v21c0 1.302-.67 2-2 2h-6c-.33 0-1-.698-1-2V13c0-1.3.67-2 1-2zm-27 0h20c1.31 0 2 .708 2 2v22c0 .09-.106.422 0 1l-9 11c-.545 1.345-1.873 2-3 2-2.873 0-4.966-2.15-5-5v-8h-8c-1.632.334-3.424-.583-5-2-.777-1.784-1.144-3.81-1-6l4-14c.796-1.583 2.624-3 5-3z\" fill-rule=\"nonzero\"/>\n",
      "    </symbol>\n",
      "    <symbol id=\"icon--thumbs-up\" viewBox=\"0 0 60 60\">\n",
      "      <title>icon--thumbs-up icon</title>\n",
      "      <title>icon--thumbs-up</title><path d=\"M52 32l-4 14c-.753 1.583-2.585 3-5 3H23c-1.31 0-2-.71-2-2V25c0-.09.107-.422 0-1l9-11c.56-1.345 1.89-2 3-2 2.897 0 4.994 2.15 5 5v8h8c1.676-.333 3.47.583 5 2 .827 1.784 1.196 3.81 1 6zm-36-8c.33 0 1 .7 1 2v21c0 1.3-.67 2-1 2h-6c-1.33 0-2-.7-2-2V26c0-1.3.67-2 2-2h6z\" fill-rule=\"nonzero\"/>\n",
      "    </symbol>\n",
      "    <symbol id=\"icon--thumbsdown-outline\" viewBox=\"0 0 15 15\">\n",
      "      <title>icon--thumbsdown-outline icon</title>\n",
      "      <title>icon--thumbsdown-outline</title><path d=\"M6.125 12.44v-1.848H1.14c-.63 0-1.14-.51-1.14-1.14 0-.097.012-.192.036-.285L2.17.857C2.3.353 2.756 0 3.276 0H11.8v.005h2.7c.276 0 .5.223.5.5v8.124c0 .275-.224.5-.5.5h-2.882l-.808 2.322v1.884c0 .57-.42 1.053-.986 1.13-2.26.31-3.7-.312-3.7-2.025zm2.974.388v-1.473c0-.127.02-.254.062-.375l.706-2.025V1.712h-6.15L1.876 8.88H6.41c.787 0 1.426.637 1.426 1.425v2.134c0 .31.285.474 1.263.388zm2.478-5.41h1.71V1.715h-1.71v5.703z\" fill-rule=\"evenodd\"/>\n",
      "    </symbol>\n",
      "    <symbol id=\"icon--thumbsup-outline\" viewBox=\"0 0 15 15\">\n",
      "      <title>icon--thumbsup-outline icon</title>\n",
      "      <title>icon--thumbsup-outline</title><path d=\"M8.875 2.1v1.85h4.984c.63 0 1.14.512 1.14 1.14 0 .097-.012.193-.036.285l-2.135 8.31c-.13.505-.585.858-1.105.858H3.2v-.005H.5c-.276 0-.5-.223-.5-.5V5.915c0-.276.224-.5.5-.5h2.882L4.19 3.09V1.208c0-.57.42-1.053.986-1.13 2.26-.31 3.7.312 3.7 2.024zM5.9 1.716v1.472c0 .128-.02.255-.062.375l-.706 2.026v7.243l6.15.002 1.842-7.17H8.59c-.787 0-1.426-.64-1.426-1.426V2.1c0-.307-.285-.47-1.263-.385zm-2.478 5.41h-1.71v5.703h1.71V7.125z\" fill-rule=\"evenodd\"/>\n",
      "    </symbol>\n",
      "    <symbol id=\"icon--trash\" viewBox=\"0 0 60 60\">\n",
      "      <title>icon--trash icon</title>\n",
      "      <title>icon--trash</title><g fill-rule=\"evenodd\"><path d=\"M49 10c.552 0 1 .448 1 1v4c0 .552-.448 1-1 1H11c-.552 0-1-.448-1-1v-4c0-.552.448-1 1-1h9l1.722-3.448c.17-.338.516-.552.896-.552h14.764c.38 0 .726.214.896.552L40 10h9zM15.82 50.4L12 20h36l-3.82 30.4c-.102.907-.964 1.6-1.99 1.6H17.81c-1.028 0-1.888-.693-1.99-1.6z\"/></g>\n",
      "    </symbol>\n",
      "    <symbol id=\"icon--tumblr\" viewBox=\"0 0 60 60\">\n",
      "      <title>icon--tumblr icon</title>\n",
      "      <title>icon--tumblr</title><g fill-rule=\"evenodd\"><path d=\"M43.865 50.023c-.098.072-.242.16-.43.262-.188.102-.6.292-1.236.574-.637.283-1.307.527-2.013.737-.706.21-1.618.4-2.736.574-1.117.175-2.255.26-3.415.26-3.982 0-6.918-.917-8.804-2.753-1.885-1.838-2.827-4.62-2.827-8.354V27.44h-6.268v-6.487c1.146-.39 2.148-.81 3.008-1.26.858-.448 1.694-1.016 2.504-1.704.81-.685 1.492-1.475 2.044-2.363.553-.892 1.027-1.976 1.425-3.256.4-1.28.69-2.735.872-4.37h6.246v11.107h9.85v8.332h-9.85v11.107c0 1.23.068 2.224.208 2.984.14.76.407 1.417.8 1.973.39.56.935.952 1.633 1.184.7.23 1.608.348 2.724.348.798 0 1.716-.156 2.758-.468 1.04-.31 1.888-.626 2.546-.942l.965-.458v6.856z\"/></g>\n",
      "    </symbol>\n",
      "    <symbol id=\"icon--twitter\" viewBox=\"0 0 60 60\">\n",
      "      <title>icon--twitter icon</title>\n",
      "      <title>icon--twitter</title><g fill-rule=\"evenodd\"><path d=\"M4.11 46.748c.775.12 1.62.178 2.533.178 2.364 0 4.678-.458 6.942-1.37 2.264-.912 4.35-2.136 6.258-3.674-2.28-.014-4.336-.72-6.17-2.114-1.832-1.394-3.078-3.154-3.736-5.284.71.136 1.368.204 1.976.204.98 0 1.926-.128 2.838-.382-2.45-.488-4.485-1.708-6.105-3.66-1.622-1.95-2.434-4.21-2.434-6.776v-.128c1.523.826 3.127 1.266 4.815 1.316-1.468-.978-2.63-2.246-3.484-3.8-.85-1.552-1.277-3.224-1.277-5.016 0-1.74.48-3.462 1.444-5.17 2.668 3.244 5.894 5.816 9.678 7.718 3.784 1.9 7.864 2.968 12.238 3.204-.152-.66-.228-1.478-.228-2.458 0-2.94 1.036-5.444 3.104-7.512 2.067-2.07 4.573-3.104 7.51-3.104 3.025 0 5.635 1.116 7.83 3.344 2.417-.49 4.655-1.352 6.715-2.584-.81 2.566-2.372 4.534-4.688 5.904 2.112-.238 4.156-.802 6.132-1.7-1.42 2.148-3.183 3.988-5.297 5.524v1.394c0 2.366-.3 4.742-.898 7.134-.6 2.39-1.462 4.712-2.584 6.966-1.123 2.256-2.563 4.364-4.32 6.322-1.757 1.96-3.725 3.67-5.903 5.132-2.18 1.46-4.692 2.612-7.538 3.458-2.847.844-5.85 1.266-9.01 1.266-6.4 0-11.847-1.444-16.34-4.332z\"/></g>\n",
      "    </symbol>\n",
      "    <symbol id=\"icon--unlink\" viewBox=\"0 0 60 60\">\n",
      "      <title>icon--unlink icon</title>\n",
      "      <title>Artboard</title><path d=\"M18.186 26.637l4.5 4.484-7.402 7.402c-1.24 1.242-1.24 3.252 0 4.492l1.498 1.498c1.24 1.24 3.252 1.24 4.492 0l3.108-3.108c.39-.39 1.024-.39 1.414 0l3.078 3.078c.39.39.39 1.024 0 1.414l-3.108 3.108c-3.722 3.722-9.756 3.722-13.476 0l-1.498-1.498c-3.72-3.72-3.72-9.754 0-13.476l7.394-7.393zm23.397 6.55l-4.484-4.5 7.412-7.415c1.242-1.24 1.242-3.25 0-4.492l-1.496-1.496c-1.24-1.242-3.252-1.242-4.492 0l-3.162 3.16c-.39.39-1.024.39-1.414 0l-3.078-3.078c-.39-.39-.39-1.024 0-1.414l3.162-3.162c3.72-3.72 9.754-3.72 13.476 0l1.496 1.498c3.724 3.722 3.724 9.756 0 13.476l-7.42 7.423zM15.15 10.907L49.093 44.85c.39.39.39 1.023 0 1.413l-2.83 2.83c-.39.39-1.022.39-1.413 0L10.907 15.15c-.39-.39-.39-1.023 0-1.413l2.83-2.83c.39-.39 1.022-.39 1.413 0z\" fill-rule=\"nonzero\"/>\n",
      "    </symbol>\n",
      "    <symbol id=\"icon--unlock\" viewBox=\"0 0 60 60\">\n",
      "      <title>icon--unlock icon</title>\n",
      "      <title>icon--unlock</title><g fill-rule=\"evenodd\"><path d=\"M49 26H20v-6.776c0-5.318 4.486-9.644 10-9.644 4.854 0 8.914 3.284 9.816 7.78.104.518.552.894 1.08.844l3.992-.396c.566-.056.994-.578.9-1.138C44.534 9.138 37.924 3.58 30 3.58c-8.822 0-16 7.018-16 15.644V26h-3c-.552 0-1 .448-1 1v24c0 .552.448 1 1 1h38c.552 0 1-.448 1-1V27c0-.552-.448-1-1-1\"/></g>\n",
      "    </symbol>\n",
      "    <symbol id=\"icon--update-freeform-round\" viewBox=\"0 0 60 60\">\n",
      "      <title>icon--update-freeform-round icon</title>\n",
      "      <title>icon--update-freeform-round</title><path d=\"M30 52C17.85 52 8 42.15 8 30S17.85 8 30 8s22 9.85 22 22-9.85 22-22 22zm-9-32c-.552 0-1 .448-1 1v1c0 .552.448 1 1 1h13c.552 0 1-.448 1-1v-1c0-.552-.448-1-1-1H21zm0 6c-.552 0-1 .448-1 1v1c0 .552.448 1 1 1h18c.552 0 1-.448 1-1v-1c0-.552-.448-1-1-1H21zm0 6c-.552 0-1 .448-1 1v1c0 .552.448 1 1 1h18c.552 0 1-.448 1-1v-1c0-.552-.448-1-1-1H21zm0 6c-.552 0-1 .448-1 1v1c0 .552.448 1 1 1h6c.552 0 1-.448 1-1v-1c0-.552-.448-1-1-1h-6z\" fill-rule=\"evenodd\"/>\n",
      "    </symbol>\n",
      "    <symbol id=\"icon--update-freeform\" viewBox=\"0 0 60 60\">\n",
      "      <title>icon--update-freeform icon</title>\n",
      "      <title>icon--update-freeform</title><path d=\"M12.095 11h25.81c1.157 0 2.095.938 2.095 2.095v.81C40 15.062 39.062 16 37.905 16h-25.81C10.938 16 10 15.062 10 13.905v-.81c0-1.157.938-2.095 2.095-2.095zm0 11h35.81c1.157 0 2.095.938 2.095 2.095v.81C50 26.062 49.062 27 47.905 27h-35.81C10.938 27 10 26.062 10 24.905v-.81c0-1.157.938-2.095 2.095-2.095zm0 11h35.81c1.157 0 2.095.938 2.095 2.095v.81C50 37.062 49.062 38 47.905 38h-35.81C10.938 38 10 37.062 10 35.905v-.81c0-1.157.938-2.095 2.095-2.095zm0 11h11.81c1.157 0 2.095.938 2.095 2.095v.81C26 48.062 25.062 49 23.905 49h-11.81C10.938 49 10 48.062 10 46.905v-.81c0-1.157.938-2.095 2.095-2.095z\" fill-rule=\"evenodd\"/>\n",
      "    </symbol>\n",
      "    <symbol id=\"icon--update-pinned\" viewBox=\"0 0 60 60\">\n",
      "      <title>icon--update-pinned icon</title>\n",
      "      <title>Artboard</title><path d=\"M30 8C17.85 8 8 17.85 8 30s9.85 22 22 22 22-9.85 22-22c0-5.835-2.318-11.43-6.444-15.556C41.43 10.318 35.836 8 30 8zm.525 36.537c0 .143-.11.262-.254.27h-.54c-.144-.008-.255-.127-.255-.27L28.41 34.502c0-.15.12-.27.27-.27h2.64c.15 0 .27.12.27.27l-1.065 10.035zm7.937-12.946c0 .29-.235.525-.525.525H22.063c-.29 0-.525-.234-.525-.524v-.372c0-1.83 1.454-3.33 3.284-3.384l.947-8.462-.864-1.692c-.04-.083-.036-.18.012-.26.048-.078.133-.127.225-.13h9.714c.092.003.177.052.225.13.048.08.052.177.012.26l-.863 1.692.948 8.462c1.83.055 3.284 1.554 3.284 3.384v.373z\" fill-rule=\"nonzero\"/>\n",
      "    </symbol>\n",
      "    <symbol id=\"icon--update-qa-round\" viewBox=\"0 0 60 60\">\n",
      "      <title>icon--update-qa-round icon</title>\n",
      "      <title>icon--update-qa-round</title><path d=\"M30 52C17.85 52 8 42.15 8 30S17.85 8 30 8s22 9.85 22 22-9.85 22-22 22zm2.402-18.69h8.85c1.192 0 1.61-.43 1.61-1.65v-9.89c0-1.22-.418-1.65-1.61-1.65h-8.85c-1.19 0-1.61.43-1.61 1.65v9.89c0 1.22.42 1.65 1.61 1.65zm-12.816 7.81l4.31-4.293h-4.31v4.294zm-1.84-4.293H26.6c1.19 0 1.61-.43 1.61-1.65v-9.89c0-1.22-.42-1.65-1.61-1.65h-8.85c-1.192 0-1.61.43-1.61 1.65v9.89c0 1.22.418 1.65 1.61 1.65zm21.668.863v-4.38h-4.31l4.31 4.38z\" fill-rule=\"evenodd\"/>\n",
      "    </symbol>\n",
      "    <symbol id=\"icon--update-qa\" viewBox=\"0 0 60 60\">\n",
      "      <title>icon--update-qa icon</title>\n",
      "      <title>icon--update-qa</title><path d=\"M34.667 37C32.693 37 32 36.285 32 34.25v-16.5c0-2.035.693-2.75 2.667-2.75h14.666c1.974 0 2.667.715 2.667 2.75v16.5c0 2.035-.693 2.75-2.667 2.75H34.667zM13 49v-7h7l-7 7zm-2.333-7C8.693 42 8 41.285 8 39.25v-16.5c0-2.035.693-2.75 2.667-2.75h14.666c1.974 0 2.667.715 2.667 2.75v16.5c0 2.035-.693 2.75-2.667 2.75H10.667zM46 44l-7-7h7v7z\" fill-rule=\"nonzero\"/>\n",
      "    </symbol>\n",
      "    <symbol id=\"icon--upload\" viewBox=\"0 0 60 60\">\n",
      "      <title>icon--upload icon</title>\n",
      "      <title>icon--upload</title><g fill-rule=\"evenodd\"><path d=\"M51 35.86h-4c-.552 0-1 .45-1 1v7H14v-7c0-.55-.448-1-1-1H9c-.552 0-1 .45-1 1v12c0 .553.448 1 1 1h42c.552 0 1-.447 1-1v-12c0-.55-.448-1-1-1M19.514 20.964l9.754-10.504c.394-.43 1.068-.43 1.464-.003l9.87 10.628c.55.594.13 1.558-.678 1.558H32.78V36.86c0 .553-.448 1-1 1h-3.562c-.55 0-1-.447-1-1V22.644h-6.972c-.872 0-1.326-1.04-.732-1.68\"/></g>\n",
      "    </symbol>\n",
      "    <symbol id=\"icon--video\" viewBox=\"0 0 60 60\">\n",
      "      <title>icon--video icon</title>\n",
      "      <title>icon--video</title><g fill-rule=\"evenodd\"><path d=\"M9.5 35.25h41V13.5h-41v21.75zm35 11.25h6v-5.75h-6v5.75zm-11.5 0h5.5v-5.75H33v5.75zm-11.5 0H27v-5.75h-5.5v5.75zm-12 0h6v-5.75h-6v5.75zM56 9v42c0 .552-.448 1-1 1H5c-.552 0-1-.448-1-1V9c0-.552.448-1 1-1h50c.552 0 1 .448 1 1zM26.916 28.684V20.33c0-.624.668-1.02 1.214-.722l8.356 4.558c.594.324.562 1.188-.052 1.468l-8.356 3.798c-.544.246-1.162-.15-1.162-.748z\"/></g>\n",
      "    </symbol>\n",
      "    <symbol id=\"icon--youtube\" viewBox=\"0 0 60 60\">\n",
      "      <title>icon--youtube icon</title>\n",
      "      <title>icon--youtube</title><g fill-rule=\"evenodd\"><path d=\"M55.207 18.547C55.54 19.85 56 26.98 56 29.7v.6c0 2.72-.46 9.85-.793 11.153-.99 3.87-2.848 5.362-6.27 5.9-1.972.284-11.44.648-18.954.648h.034c-7.514 0-16.982-.363-18.954-.647-3.422-.538-5.28-2.03-6.27-5.9C4.46 40.15 4 33.02 4 30.3v-.6c0-2.72.46-9.85.793-11.153.99-3.87 2.848-5.362 6.27-5.9 1.972-.284 11.44-.646 18.954-.646h-.034c7.514 0 16.982.363 18.954.647 3.422.538 5.28 2.03 6.27 5.9zM24 22.963v14.77l13.813-7.562L24 22.964z\"/></g>\n",
      "    </symbol>\n",
      "    <symbol id=\"icon-imagealign-center\" viewBox=\"0 0 60 60\">\n",
      "      <title>icon-imagealign-center icon</title>\n",
      "      <title>icon-imagealign-center</title><path d=\"M51 42H9c-.552 0-1 .448-1 1v4c0 .552.448 1 1 1h42c.552 0 1-.448 1-1v-4c0-.552-.448-1-1-1zm-6.833-3c.46 0 .833-1.344.833-3V24c0-1.656-.373-3-.833-3H15.833c-.46 0-.833 1.344-.833 3v12c0 1.656.373 3 .833 3h28.334zM52 13v4c0 .552-.448 1-1 1H9c-.552 0-1-.448-1-1v-4c0-.552.448-1 1-1h42c.552 0 1 .448 1 1z\" fill-rule=\"nonzero\"/>\n",
      "    </symbol>\n",
      "    <symbol id=\"icon-imagealign-left\" viewBox=\"0 0 60 60\">\n",
      "      <title>icon-imagealign-left icon</title>\n",
      "      <title>icon-imagealign-left</title><path d=\"M51 42H9c-.552 0-1 .448-1 1v4c0 .552.448 1 1 1h42c.552 0 1-.448 1-1v-4c0-.552-.448-1-1-1zm-13.833-3c.46 0 .833-1.344.833-3V24c0-1.656-.373-3-.833-3H8.833C8.373 21 8 22.344 8 24v12c0 1.656.373 3 .833 3h28.334zM52 13v4c0 .552-.448 1-1 1H9c-.552 0-1-.448-1-1v-4c0-.552.448-1 1-1h42c.552 0 1 .448 1 1z\" fill-rule=\"nonzero\"/>\n",
      "    </symbol>\n",
      "    <symbol id=\"icon-imagealign-right\" viewBox=\"0 0 60 60\">\n",
      "      <title>icon-imagealign-right icon</title>\n",
      "      <title>icon-imagealign-right</title><path d=\"M51 42H9c-.552 0-1 .448-1 1v4c0 .552.448 1 1 1h42c.552 0 1-.448 1-1v-4c0-.552-.448-1-1-1zm.167-3c.46 0 .833-1.344.833-3V24c0-1.656-.373-3-.833-3H22.833c-.46 0-.833 1.344-.833 3v12c0 1.656.373 3 .833 3h28.334zM52 13v4c0 .552-.448 1-1 1H9c-.552 0-1-.448-1-1v-4c0-.552.448-1 1-1h42c.552 0 1 .448 1 1z\" fill-rule=\"nonzero\"/>\n",
      "    </symbol>\n",
      "    <symbol id=\"info\" viewBox=\"0 0 16 16\">\n",
      "      <title>info icon</title>\n",
      "      <title>Combined Shape Copy</title><path d=\"M8 14.47c-3.565 0-6.467-2.902-6.467-6.47 0-3.567 2.902-6.468 6.467-6.468 3.567 0 6.467 2.9 6.467 6.468s-2.9 6.47-6.467 6.47M8 0C3.583 0 0 3.583 0 8c0 4.42 3.583 8 8 8s8-3.58 8-8c0-4.417-3.583-8-8-8m0 4.377c-.48 0-.867.388-.867.867 0 .48.388.867.867.867.48 0 .867-.387.867-.866 0-.48-.388-.867-.867-.867m.556 2.546H7.444c-.112 0-.203.104-.203.23v4.24c0 .127.092.23.204.23h1.112c.112 0 .203-.103.203-.23v-4.24c0-.126-.092-.23-.204-.23\" fill-rule=\"evenodd\"/>\n",
      "    </symbol>\n",
      "    <symbol id=\"instagram\" viewBox=\"0 0 16 16\">\n",
      "      <title>instagram icon</title>\n",
      "      <title>instagram copy</title><path d=\"M13.664 0c.646 0 1.197.228 1.652.684.456.455.684 1.006.684 1.652v11.328c0 .646-.228 1.197-.684 1.652-.455.456-1.006.684-1.652.684H2.336c-.646 0-1.197-.228-1.652-.684C.228 14.86 0 14.31 0 13.664V2.336C0 1.69.228 1.14.684.684 1.14.228 1.69 0 2.336 0h11.328zM8 5c-.828 0-1.535.293-2.12.88C5.292 6.464 5 7.17 5 8c0 .828.293 1.535.88 2.12.585.587 1.292.88 2.12.88.828 0 1.535-.293 2.12-.88.587-.585.88-1.292.88-2.12 0-.828-.293-1.535-.88-2.12C9.536 5.292 8.83 5 8 5zm6.336 9V7h-1.774c.068.307.102.64.102 1 0 .844-.208 1.624-.625 2.34-.418.716-.984 1.282-1.7 1.7-.716.416-1.496.624-2.34.624-.844 0-1.624-.208-2.34-.625-.716-.418-1.282-.984-1.7-1.7-.416-.716-.624-1.496-.624-2.34 0-.36.034-.693.102-1H1.663v7c0 .094.033.173.098.238s.144.098.238.098h12c.094 0 .173-.033.238-.098s.098-.144.098-.238zm0-10V2c0-.094-.033-.173-.098-.238s-.144-.098-.238-.098h-2c-.094 0-.173.033-.238.098s-.098.144-.098.238v2c0 .094.033.173.098.238s.144.098.238.098h2c.094 0 .173-.033.238-.098s.098-.144.098-.238z\" fill-rule=\"evenodd\"/>\n",
      "    </symbol>\n",
      "    <symbol id=\"kickstarter\" viewBox=\"0 0 590 726\">\n",
      "      <title>kickstarter icon</title>\n",
      "      <title>Artboard Copy 5</title><path d=\"M0 612.563V113.438c0-31.196 11.048-57.9 33.145-80.116C55.242 11.107 82.005 0 113.438 0c30.96 0 57.604 11.166 79.937 33.5 22.334 22.333 33.5 48.978 33.5 79.938v121.945L364.772 52.11c18.434-24.814 43.012-39.526 73.735-44.134 30.723-4.608 58.727 2.54 84.014 21.447 24.816 18.434 39.527 43.01 44.136 73.734 4.608 30.723-2.54 58.846-21.447 84.37l-136.835 160.23 156.33 177.246c19.616 24.342 27.77 52.287 24.46 83.837-3.308 31.55-17.133 57.133-41.475 76.748-24.105 19.143-51.342 27.355-81.71 24.637-30.368-2.718-55.714-15.42-76.04-38.108l-163.065-198.16v138.606c0 31.43-11.107 58.195-33.322 80.292C171.338 714.952 144.633 726 113.438 726c-31.67 0-58.492-10.99-80.47-32.968C10.988 671.054 0 644.232 0 612.562z\" fill-rule=\"evenodd\"/>\n",
      "    </symbol>\n",
      "    <symbol id=\"leaf\" viewBox=\"0 0 749 682\">\n",
      "      <title>leaf icon</title>\n",
      "      <title>leaf</title><path d=\"M730.733 558.748c-93.084-14.184-100.177-27.836-100.177-27.836 19.15-115.07-40.248-260.814-137.233-339.715C364.246 86.234 167.97 162.474 15.135 2.9-20.503-34.332.24 420.45 191.552 592.79c139.893 125.887 304.608 87.234 349.82 66.667 40.958-18.794 69.68-53.014 69.68-53.014 74.646 23.05 111.525 21.63 111.525 21.63 26.24 3.193 39.54-64.537 8.156-69.325zm-170.39 7.802C315.31 494.032 131.092 239.424 131.092 239.424s161.703 190.956 446.807 284.04c.355 14.363-8.156 34.93-17.553 43.086z\" fill-rule=\"evenodd\"/>\n",
      "    </symbol>\n",
      "    <symbol id=\"lightbulb\" viewBox=\"0 0 36 52\">\n",
      "      <title>lightbulb icon</title>\n",
      "      <title>icon--lightbulb</title><g fill-rule=\"evenodd\"><path d=\"M18 52c-3.198 0-5.958-1.876-7.238-4.586-.308-.656.198-1.412.924-1.412L24.314 46c.726 0 1.232.756.924 1.412C23.958 50.124 21.198 52 18 52zm18-34c0 3.406-.962 6.58-2.606 9.296h.018c-.162.26-.312.492-.464.732l-.028.044C29.286 33.746 28 33.642 28 39.786V41c0 .552-.446 1-1 1H9c-.552 0-1-.448-1-1v-1.214c0-6.144-1.284-6.04-4.92-11.714-.01-.014-.018-.03-.026-.044-.154-.24-.304-.472-.466-.732h.02C.964 24.58 0 21.406 0 18 0 8.058 8.06 0 18 0c9.942 0 18 8.058 18 18zm-7.312 6.448C29.874 22.49 30.5 20.258 30.5 18c0-6.892-5.606-12.5-12.5-12.5-6.892 0-12.5 5.608-12.5 12.5 0 2.258.628 4.49 1.812 6.448l.36.594.004.004.048.076c.778 1.218 1.444 2.148 2.03 2.97 1.91 2.67 3.156 4.608 3.582 8.408h9.328c.426-3.8 1.672-5.738 3.582-8.408.586-.82 1.25-1.75 2.028-2.964l.038-.06.024-.036.352-.584z\"/><path d=\"M-12-4h60v60h-60z\"/></g>\n",
      "    </symbol>\n",
      "    <symbol id=\"link\" viewBox=\"0 0 16 16\">\n",
      "      <title>link icon</title>\n",
      "      <title>Combined Shape Copy 8</title><path d=\"M8.43 7.57l-.022.02c.387.387.512.915.435 1.418-.052.335-.177.66-.435.915l-3.32 3.318c-.64.644-1.687.644-2.33 0-.642-.64-.642-1.688 0-2.33l1.426-1.426c-.42-.857-.58-1.798-.493-2.728L1.15 9.3c-1.53 1.53-1.53 4.02 0 5.552 1.532 1.53 4.02 1.53 5.552 0l3.32-3.32c.234-.232.42-.493.582-.765.822-1.378.724-3.14-.288-4.427-.096-.122-.183-.247-.295-.36L8.43 7.57zm-.86.86l.02-.02c-.385-.386-.51-.916-.433-1.418.052-.334.177-.658.434-.915l3.32-3.32c.642-.64 1.688-.64 2.332 0 .642.644.642 1.69 0 2.333l-1.426 1.427c.418.857.58 1.798.493 2.728L14.85 6.7c1.53-1.53 1.53-4.02 0-5.55C13.32-.384 10.83-.384 9.3 1.15L5.98 4.467c-.234.233-.42.493-.582.765-.823 1.38-.724 3.142.288 4.427.096.12.183.248.295.36l1.59-1.59z\" fill-rule=\"evenodd\"/>\n",
      "    </symbol>\n",
      "    <symbol id=\"loading-spin\" viewBox=\"0 0 32 32\">\n",
      "      <title>loading-spin icon</title>\n",
      "      <path opacity=\".25\" d=\"M16 0a16 16 0 0 0 0 32 16 16 0 0 0 0-32m0 4a12 12 0 0 1 0 24 12 12 0 0 1 0-24\"/><path d=\"M16 0a16 16 0 0 1 16 16h-4A12 12 0 0 0 16 4z\"><animateTransform attributeName=\"transform\" type=\"rotate\" from=\"0 16 16\" to=\"360 16 16\" dur=\"0.8s\" repeatCount=\"indefinite\"/></path>\n",
      "    </symbol>\n",
      "    <symbol id=\"lock\" viewBox=\"0 0 14 16\">\n",
      "      <title>lock icon</title>\n",
      "      <title>Combined Shape Copy 4</title><path d=\"M3.473 6.927c.07 0 .128-.056.128-.127h.002V4.843c0-1.61 1.308-2.92 2.92-2.92 1.61 0 2.92 1.31 2.92 2.92V6.8c0 .07.056.127.126.127h1.664c.07 0 .128-.056.128-.127h.004V4.843C11.364 2.173 9.192 0 6.52 0 3.85 0 1.68 2.173 1.68 4.843V6.8c0 .07.058.127.128.127h1.667zm9.15.728H.42c-.233 0-.42.186-.42.417v7.51c0 .23.187.418.42.418h12.204c.232 0 .417-.188.417-.42V8.073c0-.23-.184-.417-.416-.417z\" fill-rule=\"evenodd\"/>\n",
      "    </symbol>\n",
      "    <symbol id=\"mail\" viewBox=\"0 0 20 14\">\n",
      "      <title>mail icon</title>\n",
      "      <title>Combined Shape</title><path d=\"M0 12.356l5.6-5.65L0 1.526v10.83zm9.628-3.79c.23 0 .463-.09.657-.27L18.987.25c.097-.09.03-.25-.105-.25H.374C.238 0 .172.16.27.25l8.7 8.046c.195.18.427.27.658.27zm4.026-1.86l5.602 5.65V1.527l-5.602 5.18zm-2.578 2.546c-.402.36-.916.56-1.448.56-.532 0-1.047-.2-1.45-.56L6.427 7.675.444 13.542c-.164.162-.045.436.19.436h17.987c.238 0 .357-.274.19-.436l-5.98-5.867-1.754 1.577z\" fill-rule=\"evenodd\"/>\n",
      "    </symbol>\n",
      "    <symbol id=\"map-pin\" viewBox=\"0 0 609 905\">\n",
      "      <title>map-pin icon</title>\n",
      "      <title>Fill 1</title><path d=\"M304.297 461.99c-.053 0-.1-.007-.152-.007-.046 0-.1.007-.145.007-82.286.57-150.808-67.627-151.776-151.04-.984-84.534 64.19-152.008 148.085-153.327 1.296-.023 2.546.116 3.835.13 1.288-.014 2.547-.153 3.843-.13 83.887 1.32 149.062 68.793 148.086 153.326-.97 83.413-69.498 151.61-151.777 151.04M304.145 0C70.105 0-47.28 238.352 17.803 417.857c34.23 94.4 242.374 438.596 273.043 480.36 6.642 9.044 19.963 9.044 26.605 0 30.663-41.764 238.814-385.96 273.044-480.36C655.57 238.352 538.184 0 304.144 0\" fill-rule=\"evenodd\"/>\n",
      "    </symbol>\n",
      "    <symbol id=\"menu\" viewBox=\"0 0 17 12\">\n",
      "      <title>menu icon</title>\n",
      "      <title>Group</title><defs><path d=\"M8.03 12H0v-2h16.06v2H8.03z\"/></defs><g fill-rule=\"evenodd\"><path d=\"M15.783 0H.276C.124 0 0 .124 0 .276v1.448C0 1.876.124 2 .276 2h15.507c.153 0 .276-.124.276-.276V.276c0-.152-.124-.276-.277-.276M.276 7H12.16c.154 0 .277-.124.277-.276V5.276c0-.152-.123-.276-.276-.276H.277C.124 5 0 5.124 0 5.276v1.448C0 6.876.124 7 .276 7\"/><mask><use xlink:href=\"#a\"/></mask><path d=\"M15.783 10H.276c-.152 0-.276.124-.276.276v1.448c0 .152.124.276.276.276h15.507c.153 0 .276-.124.276-.276v-1.448c0-.152-.124-.276-.277-.276\" mask=\"url(#b)\"/></g>\n",
      "    </symbol>\n",
      "    <symbol id=\"message\" viewBox=\"0 0 20 16\">\n",
      "      <title>message icon</title>\n",
      "      <title>Fill 1 Copy 12</title><path d=\"M17.526 0h-16C.684 0 0 .684 0 1.526v10.16c0 .843.684 1.526 1.526 1.526H3.45c-.103.87-.465 1.824-1.69 2.3l-.083.03v.02c-.09.033-.16.103-.16.203 0 .12.094.213.212.225V16H1.75l.004-.002c2.21-.006 4.674-.95 5.436-2.786h10.336c.84 0 1.525-.683 1.525-1.526V1.526C19.05.684 18.368 0 17.527 0\" fill-rule=\"evenodd\"/>\n",
      "    </symbol>\n",
      "    <symbol id=\"mobile\" viewBox=\"0 0 10 16\">\n",
      "      <title>mobile icon</title>\n",
      "      <title>Page 1 Copy 2</title><path d=\"M7.816 12.744c0 .067-.053.12-.12.12H1.663c-.068 0-.12-.053-.12-.12V1.664c0-.065.052-.12.12-.12h6.03c.07 0 .122.055.122.12v11.08zm-2.173 2c0 .115-.09.205-.204.205H3.916c-.113 0-.204-.09-.204-.205v-.702c0-.112.09-.204.204-.204H5.44c.112 0 .203.09.203.203v.702zM8.595 0H.76C.34 0 0 .34 0 .76v14.48c0 .42.34.76.76.76h7.835c.42 0 .76-.34.76-.76V.76c0-.42-.34-.76-.76-.76z\" fill-rule=\"evenodd\"/>\n",
      "    </symbol>\n",
      "    <symbol id=\"pause\" viewBox=\"0 0 12 12\">\n",
      "      <title>pause icon</title>\n",
      "      <title>pause copy</title><path d=\"M0 11.748V.252c0-.07.024-.13.073-.18C.123.025.183 0 .253 0h3.995c.07 0 .13.024.18.073.048.05.072.11.072.18v11.495c0 .07-.024.13-.073.18-.05.048-.11.072-.18.072H.253c-.07 0-.13-.024-.18-.073-.048-.05-.072-.11-.072-.18zm7.5 0V.252c0-.07.024-.13.073-.18.05-.048.11-.072.18-.072h3.995c.07 0 .13.024.18.073.048.05.072.11.072.18v11.495c0 .07-.024.13-.073.18-.05.048-.11.072-.18.072H7.753c-.07 0-.13-.024-.18-.073-.048-.05-.072-.11-.072-.18z\" fill-rule=\"evenodd\"/>\n",
      "    </symbol>\n",
      "    <symbol id=\"pencil\" viewBox=\"0 0 16 16\">\n",
      "      <title>pencil icon</title>\n",
      "      <title>Combined Shape Copy 3</title><path d=\"M15.787 3.22L12.78.216c-.286-.287-.75-.287-1.035 0L10.09 1.868l4.042 4.045 1.655-1.656c.286-.287.286-.75 0-1.036M3.523 14.744H2.495v-1.235H1.26v-1.03l1.137-1.14 2.265 2.266-1.14 1.14zM9.42 2.54L3.61 8.345 0 11.956v3.732c.007.213.105.312.307.312h3.74l3.61-3.61h-.002l5.807-5.808L9.42 2.54z\" fill-rule=\"evenodd\"/>\n",
      "    </symbol>\n",
      "    <symbol id=\"pin\" viewBox=\"0 0 10 16\">\n",
      "      <title>pin icon</title>\n",
      "      <title>Combined Shape Copy 11</title><path d=\"M4.037 9.99c-.083 0-.107.05-.103.118l.314 5.82c.002.052.016.072.06.072h.59c.046 0 .062-.03.063-.07l.317-5.837c.004-.072-.036-.104-.093-.104H4.037zm3.487-3.195l-.59-5.574c.043-.027.08-.067.102-.12l.387-.99C7.448.042 7.416 0 7.345 0H1.877c-.072 0-.102.043-.077.11l.385.99c.02.05.052.09.092.117L1.687 6.8C.75 6.84 0 7.6 0 8.545v.31c0 .04.032.073.072.073h9.102c.04 0 .07-.032.07-.072v-.31c0-.958-.767-1.73-1.72-1.75z\" fill-rule=\"evenodd\"/>\n",
      "    </symbol>\n",
      "    <symbol id=\"pinterest\" viewBox=\"0 0 16 16\">\n",
      "      <title>pinterest icon</title>\n",
      "      <title>pinterest</title><path d=\"M8 0C3.582 0 0 3.582 0 8c0 3.39 2.11 6.284 5.085 7.45-.07-.633-.134-1.604.027-2.295.146-.625.938-3.977.938-3.977s-.24-.48-.24-1.188c0-1.112.646-1.942 1.45-1.942.68 0 1.01.512 1.01 1.127 0 .686-.436 1.712-.662 2.663-.188.797.4 1.446 1.185 1.446 1.422 0 2.515-1.5 2.515-3.664 0-1.915-1.376-3.254-3.342-3.254-2.276 0-3.612 1.707-3.612 3.47 0 .69.265 1.426.595 1.827.065.08.074.15.055.23-.06.252-.196.796-.222.907-.035.146-.116.177-.268.107-1-.465-1.624-1.926-1.624-3.1 0-2.523 1.835-4.84 5.287-4.84 2.775 0 4.932 1.977 4.932 4.62 0 2.757-1.74 4.976-4.152 4.976-.81 0-1.573-.42-1.834-.92l-.498 1.903c-.18.695-.67 1.566-.995 2.097.75.232 1.545.357 2.37.357 4.418 0 8-3.582 8-8s-3.582-8-8-8\" fill-rule=\"evenodd\"/>\n",
      "    </symbol>\n",
      "    <symbol id=\"play\" viewBox=\"0 0 12 12\">\n",
      "      <title>play icon</title>\n",
      "      <title>play copy</title><path d=\"M0 .252C0 .155.037.084.11.042.19-.01.274-.014.364.03L11.86 5.777c.093.043.14.118.14.223 0 .106-.047.18-.14.223L.362 11.97c-.047.02-.084.03-.11.03-.056 0-.103-.014-.142-.04-.073-.044-.11-.114-.11-.212V.252z\" fill-rule=\"evenodd\"/>\n",
      "    </symbol>\n",
      "    <symbol id=\"plus-human\" viewBox=\"0 0 56 46\">\n",
      "      <title>plus-human icon</title>\n",
      "      <title>icon--plus-human</title><path d=\"M48 12c0 6.626-5.374 12-12 12s-12-5.374-12-12S29.374 0 36 0s12 5.374 12 12zM17 46c-.552 0-1-.448-1-1v-6.83c0-.286.118-.56.326-.752C21.29 32.858 28.258 30 36 30c7.742 0 14.708 2.856 19.674 7.416.208.194.326.468.326.754V45c0 .552-.448 1-1 1H17zm2-26c.552 0 1 .448 1 1v2c0 .552-.448 1-1 1h-7v7c0 .552-.448 1-1 1H9c-.552 0-1-.448-1-1v-7H1c-.552 0-1-.448-1-1v-2c0-.552.448-1 1-1h7v-7c0-.552.448-1 1-1h2c.552 0 1 .448 1 1v7h7z\" fill-rule=\"evenodd\"/>\n",
      "    </symbol>\n",
      "    <symbol id=\"plus\" viewBox=\"0 0 16 16\">\n",
      "      <title>plus icon</title>\n",
      "      <title>Fill 1 Copy 7</title><path d=\"M15.65 6.735H9.266V.35c0-.194-.157-.35-.35-.35h-1.83c-.194 0-.35.156-.35.35v6.385H.35c-.194 0-.35.157-.35.35v1.83c0 .193.156.35.35.35h6.385v6.386c0 .194.156.35.35.35h1.83c.193 0 .35-.156.35-.35V9.266h6.386c.193 0 .35-.157.35-.35v-1.83c0-.193-.157-.35-.35-.35\" fill-rule=\"evenodd\"/>\n",
      "    </symbol>\n",
      "    <symbol id=\"question\" viewBox=\"0 0 16 16\">\n",
      "      <title>question icon</title>\n",
      "      <title>Combined Shape Copy 14</title><path d=\"M8 14.47c-3.565 0-6.467-2.903-6.467-6.47 0-3.567 2.902-6.47 6.467-6.47 3.567 0 6.468 2.903 6.468 6.47 0 3.567-2.9 6.47-6.468 6.47M8 0C3.583 0 0 3.58 0 8s3.583 8 8 8 8-3.58 8-8-3.583-8-8-8m-.3 10.626c-.48 0-.867.388-.867.866 0 .48.388.867.866.867.477 0 .865-.39.865-.868s-.388-.866-.866-.866M9.327 4.23c-.836-.498-1.973-.436-2.764.15-.63.466-.98 1.23-1.01 2.15.006.086.038.134.17.134h1.073c.09 0 .14-.04.15-.14h.002c.017-.29.095-.76.45-1.02.34-.254.857-.282 1.21-.074.363.22.535.654.407 1.033-.11.324-.394.575-.724.865-.25.22-.498.446-.708.708-.39.495-.597 1.07-.597 1.666v.194c0 .092.035.127.12.127H8.27c.086 0 .12-.035.12-.127v-.194c0-.352.16-.63.295-.8.155-.196.347-.36.535-.526.417-.37.892-.786 1.123-1.464.34-.998-.088-2.125-1.015-2.68\" fill-rule=\"evenodd\"/>\n",
      "    </symbol>\n",
      "    <symbol id=\"search\" viewBox=\"0 0 16 16\">\n",
      "      <title>search icon</title>\n",
      "      <title>Fill 1 Copy 11</title><path d=\"M6.678 11.222c-2.507 0-4.544-2.04-4.544-4.545 0-2.506 2.037-4.545 4.544-4.545 2.506 0 4.545 2.04 4.545 4.545 0 2.506-2.04 4.545-4.545 4.545m9.26 3.208l-3.852-3.852c.795-1.1 1.27-2.445 1.27-3.9C13.356 2.994 10.36 0 6.678 0 2.995 0 0 2.995 0 6.677c0 3.682 2.995 6.677 6.678 6.677 1.457 0 2.802-.473 3.9-1.268l3.85 3.85c.037.037.082.064.138.064.056 0 .104-.027.142-.065l1.236-1.238c.035-.033.06-.077.06-.128 0-.057-.025-.105-.065-.14\" fill-rule=\"evenodd\"/>\n",
      "    </symbol>\n",
      "    <symbol id=\"shapeshift\" viewBox=\"0 0 144 144\">\n",
      "      <title>shapeshift icon</title>\n",
      "      <path d=\"M110.9 73.26c0 17.2 7.45 30.56-3.1 42.52-4.542 5.146-10.413 8.944-16.968 10.98-6.554 2.034-13.544 2.228-20.202.56-15.2-3.94-9-22.9-19.42-32.66C39.85 84 13.72 88.78 13.72 72s23-32.11 36.64-36.47c12.39-3.94 18-18.3 33.51-22.24 15.51-3.94 37.19.89 41.39 15.2 2.37 8.165-1.22 15.335-5.402 22.475-4.183 7.14-8.958 14.25-8.958 22.295z\"><animate repeatCount=\"indefinite\" attributeName=\"d\" dur=\"3s\" values=\"M 130.28 72 C 130.28 85.48 125.603 98.552 117.051 108.973 C 108.499 119.393 96.592 126.53 83.37 129.16 C 70.149 131.79 56.416 129.753 44.527 123.399 C 32.639 117.044 23.315 106.758 18.156 94.303 C 12.998 81.849 12.316 67.983 16.229 55.083 C 20.143 42.183 28.413 31.032 39.621 23.542 C 50.83 16.053 64.297 12.68 77.712 14.001 C 91.128 15.322 103.678 21.258 113.21 30.79 C 118.63 36.196 122.928 42.62 125.857 49.692 C 128.787 56.764 130.29 64.345 130.28 72 Z; M 110.9 73.26 C 110.9 90.46 118.35 103.82 107.8 115.78 C 103.258 120.926 97.387 124.724 90.832 126.759 C 84.278 128.794 77.288 128.988 70.63 127.32 C 55.43 123.38 61.63 104.42 51.21 94.66 C 39.85 84 13.72 88.78 13.72 72 C 13.72 55.22 36.72 39.89 50.36 35.53 C 62.75 31.59 68.36 17.23 83.87 13.29 C 99.38 9.35 121.06 14.18 125.26 28.49 C 127.63 36.655 124.04 43.825 119.858 50.965 C 115.675 58.105 110.9 65.215 110.9 73.26 Z; M 130.28 72 C 130.28 85.48 125.603 98.552 117.051 108.973 C 108.499 119.393 96.592 126.53 83.37 129.16 C 70.149 131.79 56.416 129.753 44.527 123.399 C 32.639 117.044 23.315 106.758 18.156 94.303 C 12.998 81.849 12.316 67.983 16.229 55.083 C 20.143 42.183 28.413 31.032 39.621 23.542 C 50.83 16.053 64.297 12.68 77.712 14.001 C 91.128 15.322 103.678 21.258 113.21 30.79 C 118.63 36.196 122.928 42.62 125.857 49.692 C 128.787 56.764 130.29 64.345 130.28 72 Z\"/></path>\n",
      "    </symbol>\n",
      "    <symbol id=\"share\" viewBox=\"0 0 19 16\">\n",
      "      <title>share icon</title>\n",
      "      <title>Fill 1 Copy</title><path d=\"M10.017 4.092v-.266c-.004-.713.012-2.726.02-3.57.004-.222.267-.338.434-.19 1.302 1.16 5.26 4.683 7.244 6.443.278.246.56.49.835.74.245.222.245.302-.005.525-1.414 1.26-6.57 5.91-8.108 7.3-.167.15-.434.03-.433-.195l.008-3.873c-.342 0-.68-.02-1.013.004-1.836.135-3.748.643-5.268 1.642-1.3.834-2.442 2.235-3.142 3.212-.195.272-.626.106-.588-.227.226-1.98 1.157-5.912 3.608-8.42 2.67-2.73 6.333-3.117 6.407-3.125\" fill-rule=\"evenodd\"/>\n",
      "    </symbol>\n",
      "    <symbol id=\"slash\" viewBox=\"0 0 12 16\">\n",
      "      <title>slash icon</title>\n",
      "      <path d=\"M11 1L1 15\" stroke=\"#A9A9A9\"/>\n",
      "    </symbol>\n",
      "    <symbol id=\"solid-arrow\" viewBox=\"0 0 859 537\">\n",
      "      <title>solid-arrow icon</title>\n",
      "      <title>solid-arrow</title><path d=\"M17.89 0h822.93c7.55 0 12.862 3.355 15.938 10.066 3.076 6.99 2.516 13.282-1.678 18.875L443.196 529.746c-3.635 4.753-8.25 7.13-13.84 7.13-6.433 0-11.046-2.377-13.842-7.13L3.63 28.94C-.565 23.35-1.124 17.058 1.952 10.067 5.028 3.356 10.342 0 17.89 0z\" fill-rule=\"evenodd\"/>\n",
      "    </symbol>\n",
      "    <symbol id=\"sound-hi\" viewBox=\"0 0 19 16\">\n",
      "      <title>sound-hi icon</title>\n",
      "      <title>Combined Shape</title><path d=\"M12.4 2.895L11.19 4.108c2.147 2.145 2.147 5.636 0 7.783l1.213 1.213c2.816-2.815 2.816-7.393 0-10.208zM8.33 1.363c-.135-.062-.258-.038-.367.07L4.003 5.006H.336c-.094 0-.174.032-.24.097C.033 5.167 0 5.246 0 5.34v5.33c0 .092.032.17.097.236.065.065.145.1.24.1H4l3.96 3.57c.06.06.14.093.233.093.042 0 .086-.01.133-.025.135-.052.203-.154.203-.306V1.67c0-.153-.067-.254-.202-.307zM15.296 0l-1.213 1.213c1.814 1.81 2.812 4.222 2.812 6.786 0 2.562-.998 4.974-2.812 6.786l1.213 1.212c2.137-2.136 3.313-4.976 3.313-8 0-3.022-1.177-5.862-3.314-7.998z\" fill-rule=\"evenodd\"/>\n",
      "    </symbol>\n",
      "    <symbol id=\"sound-lo\" viewBox=\"0 0 16 15\">\n",
      "      <title>sound-lo icon</title>\n",
      "      <title>Combined Shape</title><path d=\"M13.355 1.686L12.05 2.992c2.31 2.31 2.31 6.07 0 8.382l1.305 1.305c3.03-3.032 3.03-7.962 0-10.994zM8.97.036c-.147-.067-.28-.04-.396.077L4.31 3.958H.362c-.1 0-.187.034-.257.105-.07.07-.105.155-.105.256v5.738c0 .1.034.186.105.256.07.07.156.106.257.106H4.31l4.264 3.844c.066.067.15.1.252.1.044 0 .092-.007.143-.024.145-.056.218-.165.218-.33V.366c0-.163-.073-.272-.22-.328z\" fill-rule=\"evenodd\"/>\n",
      "    </symbol>\n",
      "    <symbol id=\"sound-mute\" viewBox=\"0 0 23 16\">\n",
      "      <title>sound-mute icon</title>\n",
      "      <title>Combined Shape</title><path d=\"M9.99.04c-.163-.074-.31-.046-.44.086L4.8 4.408H.404c-.112 0-.208.04-.286.117-.08.078-.117.173-.117.285v6.392c0 .113.038.207.117.285.078.078.174.118.286.118H4.8l4.75 4.283c.073.074.168.112.28.112.05 0 .103-.01.16-.03.16-.06.243-.182.243-.365V.407c0-.182-.082-.303-.244-.366zm12.75 4.744l-1.357-1.357-3.158 3.158-3.16-3.158-1.357 1.357 3.158 3.158-3.158 3.16 1.357 1.357 3.16-3.16 3.158 3.16 1.357-1.36-3.158-3.158 3.158-3.158z\" fill-rule=\"evenodd\"/>\n",
      "    </symbol>\n",
      "    <symbol id=\"star\" viewBox=\"0 0 17 16\">\n",
      "      <title>star icon</title>\n",
      "      <title>Fill 1 Copy 2</title><path d=\"M8.398 12.888L3.506 15.96c-.197.124-.445-.057-.388-.284l1.41-5.6L.092 6.37c-.18-.148-.084-.44.148-.455l5.765-.392L8.158.163c.087-.217.394-.217.48 0l2.154 5.36 5.764.392c.232.016.327.307.148.456l-4.434 3.705 1.41 5.6c.056.228-.192.41-.39.285L8.4 12.888z\" fill-rule=\"evenodd\"/>\n",
      "    </symbol>\n",
      "    <symbol id=\"stopwatch\" viewBox=\"0 0 644 750\">\n",
      "      <title>stopwatch icon</title>\n",
      "      <title>Group 2</title><defs><path d=\"M0 0h646.327v749.308H0z\"/></defs><g fill-rule=\"evenodd\"><path d=\"M271 478.308h58.77V302H271\"/><path d=\"M461.675 609.237c-42.952 43.003-100.057 66.686-160.794 66.686-60.737 0-117.842-23.683-160.793-66.686C97.123 566.222 73.462 509.03 73.462 448.19c0-60.836 23.66-118.03 66.624-161.044 42.952-43.002 100.057-66.685 160.795-66.685 60.738 0 117.843 23.684 160.795 66.686C504.64 330.16 528.3 387.354 528.3 448.19c0 60.84-23.66 118.032-66.625 161.047zm184.65-396.153l-51.974-51.915-77.378 77.47c-1.103-1.14-2.198-2.284-3.32-3.408C456.82 178.334 381.256 147 300.88 147c-80.377 0-155.94 31.334-212.77 88.232C31.29 292.118 0 367.748 0 448.192c0 80.442 31.292 156.073 88.11 212.96 56.83 56.897 132.394 88.23 212.77 88.23 80.377 0 155.94-31.333 212.77-88.23 56.82-56.887 88.11-132.518 88.11-212.96 0-53.65-13.934-105.148-40.06-150.382l84.626-84.726z\"/><mask><use xlink:href=\"#a\"/></mask><path mask=\"url(#b)\" d=\"M409.04 0H198v73.462h211.04\"/></g>\n",
      "    </symbol>\n",
      "    <symbol id=\"thumbs-up\" viewBox=\"0 0 733 740\">\n",
      "      <title>thumbs-up icon</title>\n",
      "      <title>Shape</title><path d=\"M451.623 23.34c8.532-40.904 82.58-35.263 82.58 77.032 0 112.295-50.098 153.35-50.098 190.194 0 22.53 105.455 6.11 173.234 6.11 67.778 0 89.403 87.775 23.66 100.44 87.277 31.13 48.107 124.06-6.974 124.06 55.08 8.49 56.477 123.88-38.35 110.58 38.35 51.124-4.132 97.658-59.166 102.953-177.683 17.095-406.574-9.714-406.574-62.37V313.095c0-51.616 224.31-14.664 281.687-289.754zM45.477 299.77h28.436c25.117 0 45.478 20.365 45.478 45.472v312.71c0 25.112-20.388 45.47-45.477 45.47H45.477C20.36 703.422 0 683.06 0 657.952V345.24c0-25.113 20.388-45.47 45.477-45.47z\" fill-rule=\"evenodd\"/>\n",
      "    </symbol>\n",
      "    <symbol id=\"tools\" viewBox=\"0 0 819 756\">\n",
      "      <title>tools icon</title>\n",
      "      <title>Shape</title><path d=\"M790.375 148.384c20.775 12.455 30.47 37.366 27.7 70.58-2.77 40.134-19.39 76.116-48.475 106.563-1.385 0-1.385 0-1.385 1.384l-4.155 1.385c-51.245 48.437-112.185 60.892-184.205 38.75-2.77-2.768-5.54-4.152-8.31-4.152-12.465-2.768-20.775 0-24.93 8.303l-73.405 77.5L683.73 636.91c5.54 4.153 5.54 8.304 0 13.84l-98.335 99.643c-5.54 4.152-9.695 4.152-13.85 0-58.17-71.964-119.11-142.545-182.82-210.357l-180.05 193.75c-13.85 15.223-31.855 23.527-54.015 22.143-22.16 0-40.165-8.305-54.015-22.144-13.85-15.223-22.16-34.598-22.16-56.74 0-22.144 8.31-40.135 23.545-52.59l191.13-182.68-23.545-23.526c-6.925-6.92-6.925-12.455-1.385-19.375l4.155-9.688c-24.93-26.294-44.32-42.9-59.555-52.59-13.85-8.302-31.855-12.454-51.245-11.07-36.01 1.384-66.48 19.375-94.18 55.357C46.63 407.18 41.09 447.312 52.17 502.67c1.385 8.303 0 12.455-4.155 12.455-6.925 0-12.465-4.152-19.39-12.455-13.85-13.84-20.775-35.983-26.315-67.813-5.54-31.83 0-70.58 12.465-116.25 23.545-59.51 55.4-107.946 94.18-146.696 15.235-15.222 31.855-29.062 47.09-41.517 5.54-4.152 13.85-5.536 27.7-5.536 12.465 0 22.16-1.384 24.93-5.536 6.925-6.918 9.695-16.606 9.695-31.83l-8.31-8.302c-5.54-5.536-5.54-9.688 0-13.84L271 4.455c4.155-5.535 8.31-5.535 13.85 0l98.335 98.26c5.54 5.535 5.54 11.07 0 15.222l-60.94 60.893c-4.155 4.152-8.31 4.152-13.85 0l-15.235-17.99c-16.62 0-27.7 6.92-33.24 19.374-9.695 19.375-11.08 41.518-5.54 65.045 4.155 12.454 27.7 41.517 70.635 84.42l9.695-5.537c8.31-4.152 13.85-2.768 19.39 1.384 1.385 2.768 9.695 12.455 24.93 27.678l74.79-73.348c6.925-5.536 9.695-13.84 8.31-24.91 0-5.536 0-8.304-1.385-9.688-22.16-74.733-9.695-137.01 37.395-188.215l4.155-4.152c31.855-31.83 66.48-48.438 103.875-51.206 11.08 1.384 24.93 4.152 40.165 9.688 15.235 5.536 24.93 13.84 29.085 22.143l-94.18 94.107-4.155 5.536-1.385 2.77c-1.385 1.382-1.385 4.15-1.385 8.302 0 4.152 0 6.92 1.385 9.688l4.155 4.15 4.155 4.153 80.33 83.036 5.54 5.535 1.385 1.384c1.385 1.382 4.155 1.382 8.31 1.382s6.925 0 8.31-1.383l4.155-1.385 4.155-5.536 94.18-96.876z\" fill-rule=\"evenodd\"/>\n",
      "    </symbol>\n",
      "    <symbol id=\"trash\" viewBox=\"0 0 14 16\">\n",
      "      <title>trash icon</title>\n",
      "      <title>Combined Shape</title><path d=\"M1.894 14.816c.034.45.118.81.68.805 2.737-.02 5.248.003 7.985-.035.203-.002.546-.335.582-.56.13-.807.883-10.5.883-10.5s-3.907.013-5.497.013c-1.59 0-5.46-.012-5.46-.012s.697 8.594.826 10.29zM12.99 1.156H9.306L8.72 0H4.495L3.91 1.157H.223C.1 1.157 0 1.237 0 1.34v1.73c0 .1.1.182.223.182H12.99c.125 0 .225-.082.225-.182V1.34c0-.102-.1-.183-.224-.183z\" fill-rule=\"evenodd\"/>\n",
      "    </symbol>\n",
      "    <symbol id=\"tumblr\" viewBox=\"0 0 11 16\">\n",
      "      <title>tumblr icon</title>\n",
      "      <title>tumblr copy</title><path d=\"M10.336 15.133c-.037.026-.09.057-.16.094-.07.036-.224.105-.46.207-.238.1-.488.19-.75.265-.264.075-.604.144-1.02.206-.417.063-.842.094-1.274.094-1.485 0-2.578-.33-3.28-.992-.705-.662-1.056-1.664-1.056-3.008V7H0V4.664c.427-.14.8-.292 1.12-.453.32-.16.633-.365.935-.612.302-.248.556-.532.76-.852.207-.32.384-.71.533-1.172.148-.46.256-.985.324-1.574H6v4h3.672v3H6v4c0 .443.026.8.078 1.074.052.274.15.51.297.71.146.202.35.344.61.427.26.084.598.126 1.015.126.297 0 .64-.056 1.027-.168.388-.112.705-.225.95-.34l.36-.164v2.47z\" fill-rule=\"evenodd\"/>\n",
      "    </symbol>\n",
      "    <symbol id=\"twitter\" viewBox=\"0 0 18 15\">\n",
      "      <title>twitter icon</title>\n",
      "      <title>twitter copy</title><path d=\"M0 12.727c.26.04.546.06.852.06.796 0 1.575-.154 2.336-.46.762-.308 1.463-.72 2.106-1.237-.768-.006-1.46-.243-2.076-.712C2.6 9.908 2.182 9.318 1.96 8.6c.24.046.46.07.665.07.33 0 .648-.043.955-.13-.824-.164-1.51-.574-2.054-1.23C.98 6.653.708 5.893.708 5.03v-.043c.51.278 1.05.426 1.62.443-.495-.33-.886-.756-1.173-1.28-.287-.522-.43-1.084-.43-1.686 0-.586.162-1.165.485-1.74.898 1.092 1.984 1.957 3.257 2.596 1.273.64 2.645 1 4.117 1.08-.05-.223-.077-.5-.077-.828 0-.99.348-1.832 1.044-2.528C10.25.348 11.09 0 12.08 0c1.016 0 1.894.375 2.633 1.125.812-.165 1.565-.454 2.26-.87-.274.865-.8 1.527-1.578 1.987.71-.08 1.398-.27 2.063-.57-.478.72-1.072 1.34-1.782 1.857v.468c0 .795-.1 1.595-.303 2.4-.2.804-.49 1.585-.87 2.344-.377.758-.86 1.467-1.452 2.126-.59.66-1.252 1.235-1.986 1.727-.733.49-1.578.88-2.535 1.163-.96.284-1.97.426-3.032.426-2.154 0-3.986-.486-5.498-1.457z\" fill-rule=\"evenodd\"/>\n",
      "    </symbol>\n",
      "    <symbol id=\"user\" viewBox=\"0 0 739 739\">\n",
      "      <title>user icon</title>\n",
      "      <title>Artboard Copy 10</title><path d=\"M0 723.484v-30.672c0-20.928 5.112-39.45 15.336-55.57 10.224-16.116 23.454-29.227 39.692-39.33 16.238-10.104 34.22-19.305 53.946-27.605s39.45-16.237 59.177-23.815c19.727-7.578 37.71-15.576 53.947-23.996 16.238-8.42 29.468-19.064 39.692-31.934 10.223-12.87 15.335-27.604 15.335-44.203-2.406-2.407-5.713-6.075-9.923-11.007-4.21-4.93-11.607-15.756-22.192-32.475-10.584-16.72-19.966-34.4-28.145-53.044-8.18-18.643-15.576-42.94-22.192-72.89-6.615-29.95-9.923-60.68-9.923-92.194 0-25.018 4.87-48.894 14.614-71.627 9.743-22.733 22.913-42.398 39.512-58.997 16.6-16.6 36.264-29.77 58.997-39.512C320.606 4.87 344.483 0 369.5 0c25.018 0 48.894 4.87 71.627 14.614 22.733 9.743 42.398 22.913 58.997 39.512 16.6 16.6 29.77 36.264 39.512 58.997 9.743 22.733 14.614 46.61 14.614 71.627 0 23.094-1.684 45.646-5.052 67.657-3.368 22.012-7.758 41.437-13.17 58.276-5.413 16.84-11.427 32.776-18.042 47.81-6.616 15.036-13.23 27.786-19.847 38.25-6.616 10.465-12.63 19.546-18.043 27.244-5.412 7.698-9.802 13.35-13.17 16.96l-5.052 5.412c0 16.598 5.112 31.332 15.336 44.202 10.225 12.87 23.455 23.514 39.693 31.934 16.238 8.42 34.22 16.418 53.946 23.996 19.725 7.578 39.45 15.516 59.176 23.815 19.726 8.3 37.708 17.5 53.946 27.605 16.238 10.103 29.468 23.214 39.692 39.33 10.224 16.12 15.336 34.642 15.336 55.57v30.672c0 4.33-1.503 7.998-4.51 11.006-3.008 3.007-6.676 4.51-11.006 4.51H15.516c-4.33 0-7.998-1.503-11.006-4.51C1.503 731.482 0 727.814 0 723.484z\" fill-rule=\"evenodd\"/>\n",
      "    </symbol>\n",
      "    <symbol id=\"volume-up\" viewBox=\"0 0 706 706\">\n",
      "      <title>volume-up icon</title>\n",
      "      <title>Artboard Copy 9</title><path d=\"M0 470.207V235.104c0-4.137 1.436-7.642 4.31-10.515 2.872-2.873 6.377-4.31 10.513-4.31H126.17L283.71 62.74c4.826-4.826 10.227-5.86 16.202-3.102 5.975 2.298 8.963 6.78 8.963 13.444V632.23c0 6.663-2.988 11.145-8.963 13.443-2.068.69-4.022 1.034-5.86 1.034-4.137 0-7.584-1.38-10.342-4.137L126.17 485.03H14.823c-4.136 0-7.64-1.436-10.514-4.31C1.435 477.85 0 474.345 0 470.208zM380.578 534.5c0-4.023 1.38-7.413 4.137-10.17 31.025-31.026 52.054-67.395 63.085-109.107 11.03-41.712 11.03-83.423 0-125.136-11.03-41.712-32.06-78.08-63.085-109.106-2.758-2.756-4.137-6.146-4.137-10.168 0-4.022 1.38-7.527 4.137-10.514l41.712-41.712c2.987-2.988 6.492-4.482 10.514-4.482 4.023 0 7.413 1.494 10.17 4.482 31.715 31.715 55.846 68.198 72.393 109.45 16.547 41.253 24.82 82.792 24.82 124.62 0 41.826-8.273 83.365-24.82 124.618-16.547 41.252-40.678 77.736-72.393 109.45-2.757 2.988-6.147 4.482-10.17 4.482-4.02 0-7.526-1.494-10.513-4.48l-41.712-41.713c-2.758-2.988-4.137-6.493-4.137-10.514zm114.45 114.448c0-4.022 1.378-7.412 4.136-10.17 31.026-31.025 56.305-65.9 75.84-104.624 19.535-38.725 32.174-78.655 37.92-119.793 5.745-41.136 5.745-82.273 0-123.41-5.746-41.138-18.385-81.07-37.92-119.793-19.535-38.725-44.814-73.6-75.84-104.625-2.758-2.758-4.137-6.147-4.137-10.17 0-4.02 1.38-7.526 4.137-10.513l41.712-41.713C543.864 1.38 547.368 0 551.39 0c4.022 0 7.412 1.38 10.17 4.137 31.485 31.715 58.143 66.762 79.976 105.14 21.833 38.38 37.977 77.794 48.434 118.243 10.457 40.448 15.685 82.16 15.685 125.135 0 42.976-5.228 84.688-15.685 125.136-10.457 40.45-26.6 79.862-48.434 118.242-21.833 38.38-48.49 73.427-79.976 105.142-2.758 2.758-6.148 4.137-10.17 4.137s-7.526-1.378-10.514-4.136l-41.712-41.712c-2.758-2.988-4.137-6.492-4.137-10.514z\" fill-rule=\"evenodd\"/>\n",
      "    </symbol>\n",
      "    <symbol id=\"warning\" viewBox=\"0 0 16 16\">\n",
      "      <title>warning icon</title>\n",
      "      <title>Combined Shape Copy 10</title><path d=\"M8 14.47c-3.567 0-6.468-2.902-6.468-6.47 0-3.567 2.9-6.468 6.468-6.468 3.565 0 6.467 2.9 6.467 6.468S11.565 14.47 8 14.47M8 0C3.58 0 0 3.583 0 8c0 4.42 3.58 8 8 8 4.417 0 8-3.58 8-8 0-4.417-3.583-8-8-8m0 10.344c-.516 0-.933.418-.933.934 0 .514.417.933.933.933s.932-.418.932-.932c0-.516-.416-.934-.932-.934m-.413-.874h.83c.094 0 .118-.065.13-.15l.212-1.89v-3.4c-.002-.045-.038-.083-.085-.083v-.002h-1.35v.002c-.046 0-.084.038-.084.083v3.4l.214 1.88c.01.09.035.16.133.16\" fill-rule=\"evenodd\"/>\n",
      "    </symbol>\n",
      "    <symbol id=\"write\" viewBox=\"0 0 712 711\">\n",
      "      <title>write icon</title>\n",
      "      <title>Artboard Copy 11</title><path d=\"M75.003 504.435c.694-1.852 1.736-3.472 3.124-4.86L444.39 133.313 577.7 266.625 211.44 632.887c-1.39 1.39-3.01 2.43-4.86 3.125L20.496 710.306c-1.62.463-3.47.694-5.554.694-3.703 0-7.29-1.39-10.763-4.166C.246 702.9-.91 697.46.71 690.517l74.293-186.082zm413.824-415.56l75.683-75.683C573.305 4.397 583.777 0 595.928 0c12.15 0 22.855 4.397 32.113 13.192l69.782 69.78c8.795 9.26 13.192 19.963 13.192 32.114 0 12.15-4.397 22.624-13.192 31.42l-75.683 75.68-133.313-133.31z\" fill-rule=\"evenodd\"/>\n",
      "    </symbol>\n",
      "    <symbol id=\"x\" viewBox=\"0 0 16 16\">\n",
      "      <title>x icon</title>\n",
      "      <title>Fill 1 Copy 4</title><path d=\"M9.805 8l6.092-6.092c.138-.138.138-.36 0-.5L14.59.103c-.136-.136-.36-.136-.497 0L8 6.196 1.908.102c-.136-.136-.36-.136-.497 0L.103 1.41c-.137.137-.137.36 0 .498L6.197 8 .103 14.092c-.137.138-.137.36 0 .5l1.307 1.306c.138.136.36.136.497 0L8 9.804l6.093 6.094c.138.136.36.136.498 0l1.307-1.307c.138-.137.138-.36 0-.498L9.805 8z\" fill-rule=\"evenodd\"/>\n",
      "    </symbol>\n",
      "    <symbol id=\"youtube\" viewBox=\"0 0 23 16\">\n",
      "      <title>youtube icon</title>\n",
      "      <title>Combined Shape</title><path d=\"M22.226 2.91C21.796 1.19 20.99.527 19.504.287 18.648.162 14.54 0 11.278 0h.014c-3.26 0-7.37.162-8.226.287C1.58.527.774 1.19.344 2.91.2 3.49 0 6.658 0 7.868v.264c0 1.21.2 4.38.344 4.958.43 1.72 1.237 2.383 2.722 2.623.856.125 4.965.287 8.226.287h-.014c3.26 0 7.37-.162 8.226-.287 1.485-.24 2.292-.903 2.722-2.623.145-.58.344-3.748.344-4.958v-.264c0-1.21-.2-4.38-.344-4.958zM8.94 4.758l5.997 3.13-5.996 3.28V4.76z\" fill-rule=\"evenodd\"/>\n",
      "    </symbol></svg>\n",
      "\n",
      "<!-- / render admin nav last to ensure use of all feature flags is captured -->\n",
      "\n",
      "</body>\n",
      "</html>\n",
      "\n",
      "\n"
     ]
    }
   ],
   "source": [
    "kickstarter_url = 'https://www.kickstarter.com/discover/advanced?category_id=12&woe_id=0&sort=magic&seed=2664694&page=6'\n",
    "response = requests.get(kickstarter_url)\n",
    "html = response.text\n",
    "print(html)"
   ]
  },
  {
   "cell_type": "markdown",
   "metadata": {},
   "source": [
    "If we look closely, the project is shown with class name as ***js-react-proj-card***, and the project data is in json with data attribute data-project and the project id in data attribute data-pid. I use random User-Agent list in order to prevent HTTP: 404 Error, and also set time sleep to prevent HTTTP 429: Too Many Request Error. \n",
    "\n",
    "I will parse the json and create a csv data set of the following using json library and write to csv file using csv writer."
   ]
  },
  {
   "cell_type": "code",
   "execution_count": 13,
   "metadata": {},
   "outputs": [
    {
     "name": "stdout",
     "output_type": "stream",
     "text": [
      "CURRENT PAGE: https://www.kickstarter.com/discover/advanced?category_id=12&woe_id=0&sort=magic&seed=2664694&page=1\n",
      "CURRENT PAGE: https://www.kickstarter.com/discover/advanced?category_id=12&woe_id=0&sort=magic&seed=2664694&page=2\n",
      "CURRENT PAGE: https://www.kickstarter.com/discover/advanced?category_id=12&woe_id=0&sort=magic&seed=2664694&page=3\n",
      "CURRENT PAGE: https://www.kickstarter.com/discover/advanced?category_id=12&woe_id=0&sort=magic&seed=2664694&page=4\n",
      "CURRENT PAGE: https://www.kickstarter.com/discover/advanced?category_id=12&woe_id=0&sort=magic&seed=2664694&page=5\n",
      "CURRENT PAGE: https://www.kickstarter.com/discover/advanced?category_id=12&woe_id=0&sort=magic&seed=2664694&page=6\n",
      "CURRENT PAGE: https://www.kickstarter.com/discover/advanced?category_id=12&woe_id=0&sort=magic&seed=2664694&page=7\n",
      "CURRENT PAGE: https://www.kickstarter.com/discover/advanced?category_id=12&woe_id=0&sort=magic&seed=2664694&page=8\n",
      "CURRENT PAGE: https://www.kickstarter.com/discover/advanced?category_id=12&woe_id=0&sort=magic&seed=2664694&page=9\n",
      "CURRENT PAGE: https://www.kickstarter.com/discover/advanced?category_id=12&woe_id=0&sort=magic&seed=2664694&page=10\n",
      "CURRENT PAGE: https://www.kickstarter.com/discover/advanced?category_id=12&woe_id=0&sort=magic&seed=2664694&page=11\n",
      "CURRENT PAGE: https://www.kickstarter.com/discover/advanced?category_id=12&woe_id=0&sort=magic&seed=2664694&page=12\n",
      "CURRENT PAGE: https://www.kickstarter.com/discover/advanced?category_id=12&woe_id=0&sort=magic&seed=2664694&page=13\n",
      "CURRENT PAGE: https://www.kickstarter.com/discover/advanced?category_id=12&woe_id=0&sort=magic&seed=2664694&page=14\n",
      "CURRENT PAGE: https://www.kickstarter.com/discover/advanced?category_id=12&woe_id=0&sort=magic&seed=2664694&page=15\n",
      "CURRENT PAGE: https://www.kickstarter.com/discover/advanced?category_id=12&woe_id=0&sort=magic&seed=2664694&page=16\n",
      "CURRENT PAGE: https://www.kickstarter.com/discover/advanced?category_id=12&woe_id=0&sort=magic&seed=2664694&page=17\n",
      "CURRENT PAGE: https://www.kickstarter.com/discover/advanced?category_id=12&woe_id=0&sort=magic&seed=2664694&page=18\n",
      "CURRENT PAGE: https://www.kickstarter.com/discover/advanced?category_id=12&woe_id=0&sort=magic&seed=2664694&page=19\n",
      "CURRENT PAGE: https://www.kickstarter.com/discover/advanced?category_id=12&woe_id=0&sort=magic&seed=2664694&page=20\n",
      "CURRENT PAGE: https://www.kickstarter.com/discover/advanced?category_id=12&woe_id=0&sort=magic&seed=2664694&page=21\n",
      "CURRENT PAGE: https://www.kickstarter.com/discover/advanced?category_id=12&woe_id=0&sort=magic&seed=2664694&page=22\n",
      "CURRENT PAGE: https://www.kickstarter.com/discover/advanced?category_id=12&woe_id=0&sort=magic&seed=2664694&page=23\n",
      "CURRENT PAGE: https://www.kickstarter.com/discover/advanced?category_id=12&woe_id=0&sort=magic&seed=2664694&page=24\n",
      "CURRENT PAGE: https://www.kickstarter.com/discover/advanced?category_id=12&woe_id=0&sort=magic&seed=2664694&page=25\n",
      "CURRENT PAGE: https://www.kickstarter.com/discover/advanced?category_id=12&woe_id=0&sort=magic&seed=2664694&page=26\n",
      "CURRENT PAGE: https://www.kickstarter.com/discover/advanced?category_id=12&woe_id=0&sort=magic&seed=2664694&page=27\n",
      "CURRENT PAGE: https://www.kickstarter.com/discover/advanced?category_id=12&woe_id=0&sort=magic&seed=2664694&page=28\n",
      "CURRENT PAGE: https://www.kickstarter.com/discover/advanced?category_id=12&woe_id=0&sort=magic&seed=2664694&page=29\n",
      "CURRENT PAGE: https://www.kickstarter.com/discover/advanced?category_id=12&woe_id=0&sort=magic&seed=2664694&page=30\n",
      "CURRENT PAGE: https://www.kickstarter.com/discover/advanced?category_id=12&woe_id=0&sort=magic&seed=2664694&page=31\n",
      "CURRENT PAGE: https://www.kickstarter.com/discover/advanced?category_id=12&woe_id=0&sort=magic&seed=2664694&page=32\n",
      "CURRENT PAGE: https://www.kickstarter.com/discover/advanced?category_id=12&woe_id=0&sort=magic&seed=2664694&page=33\n",
      "CURRENT PAGE: https://www.kickstarter.com/discover/advanced?category_id=12&woe_id=0&sort=magic&seed=2664694&page=34\n",
      "CURRENT PAGE: https://www.kickstarter.com/discover/advanced?category_id=12&woe_id=0&sort=magic&seed=2664694&page=35\n",
      "CURRENT PAGE: https://www.kickstarter.com/discover/advanced?category_id=12&woe_id=0&sort=magic&seed=2664694&page=36\n",
      "CURRENT PAGE: https://www.kickstarter.com/discover/advanced?category_id=12&woe_id=0&sort=magic&seed=2664694&page=37\n",
      "CURRENT PAGE: https://www.kickstarter.com/discover/advanced?category_id=12&woe_id=0&sort=magic&seed=2664694&page=38\n",
      "CURRENT PAGE: https://www.kickstarter.com/discover/advanced?category_id=12&woe_id=0&sort=magic&seed=2664694&page=39\n",
      "CURRENT PAGE: https://www.kickstarter.com/discover/advanced?category_id=12&woe_id=0&sort=magic&seed=2664694&page=40\n",
      "CURRENT PAGE: https://www.kickstarter.com/discover/advanced?category_id=12&woe_id=0&sort=magic&seed=2664694&page=41\n",
      "CURRENT PAGE: https://www.kickstarter.com/discover/advanced?category_id=12&woe_id=0&sort=magic&seed=2664694&page=42\n",
      "CURRENT PAGE: https://www.kickstarter.com/discover/advanced?category_id=12&woe_id=0&sort=magic&seed=2664694&page=43\n",
      "CURRENT PAGE: https://www.kickstarter.com/discover/advanced?category_id=12&woe_id=0&sort=magic&seed=2664694&page=44\n",
      "CURRENT PAGE: https://www.kickstarter.com/discover/advanced?category_id=12&woe_id=0&sort=magic&seed=2664694&page=45\n",
      "CURRENT PAGE: https://www.kickstarter.com/discover/advanced?category_id=12&woe_id=0&sort=magic&seed=2664694&page=46\n",
      "CURRENT PAGE: https://www.kickstarter.com/discover/advanced?category_id=12&woe_id=0&sort=magic&seed=2664694&page=47\n",
      "CURRENT PAGE: https://www.kickstarter.com/discover/advanced?category_id=12&woe_id=0&sort=magic&seed=2664694&page=48\n",
      "CURRENT PAGE: https://www.kickstarter.com/discover/advanced?category_id=12&woe_id=0&sort=magic&seed=2664694&page=49\n",
      "CURRENT PAGE: https://www.kickstarter.com/discover/advanced?category_id=12&woe_id=0&sort=magic&seed=2664694&page=50\n",
      "CURRENT PAGE: https://www.kickstarter.com/discover/advanced?category_id=12&woe_id=0&sort=magic&seed=2664694&page=51\n",
      "CURRENT PAGE: https://www.kickstarter.com/discover/advanced?category_id=12&woe_id=0&sort=magic&seed=2664694&page=52\n",
      "CURRENT PAGE: https://www.kickstarter.com/discover/advanced?category_id=12&woe_id=0&sort=magic&seed=2664694&page=53\n",
      "CURRENT PAGE: https://www.kickstarter.com/discover/advanced?category_id=12&woe_id=0&sort=magic&seed=2664694&page=54\n",
      "CURRENT PAGE: https://www.kickstarter.com/discover/advanced?category_id=12&woe_id=0&sort=magic&seed=2664694&page=55\n",
      "CURRENT PAGE: https://www.kickstarter.com/discover/advanced?category_id=12&woe_id=0&sort=magic&seed=2664694&page=56\n",
      "CURRENT PAGE: https://www.kickstarter.com/discover/advanced?category_id=12&woe_id=0&sort=magic&seed=2664694&page=57\n",
      "CURRENT PAGE: https://www.kickstarter.com/discover/advanced?category_id=12&woe_id=0&sort=magic&seed=2664694&page=58\n",
      "CURRENT PAGE: https://www.kickstarter.com/discover/advanced?category_id=12&woe_id=0&sort=magic&seed=2664694&page=59\n",
      "CURRENT PAGE: https://www.kickstarter.com/discover/advanced?category_id=12&woe_id=0&sort=magic&seed=2664694&page=60\n",
      "CURRENT PAGE: https://www.kickstarter.com/discover/advanced?category_id=12&woe_id=0&sort=magic&seed=2664694&page=61\n",
      "CURRENT PAGE: https://www.kickstarter.com/discover/advanced?category_id=12&woe_id=0&sort=magic&seed=2664694&page=62\n",
      "CURRENT PAGE: https://www.kickstarter.com/discover/advanced?category_id=12&woe_id=0&sort=magic&seed=2664694&page=63\n",
      "CURRENT PAGE: https://www.kickstarter.com/discover/advanced?category_id=12&woe_id=0&sort=magic&seed=2664694&page=64\n",
      "CURRENT PAGE: https://www.kickstarter.com/discover/advanced?category_id=12&woe_id=0&sort=magic&seed=2664694&page=65\n",
      "CURRENT PAGE: https://www.kickstarter.com/discover/advanced?category_id=12&woe_id=0&sort=magic&seed=2664694&page=66\n",
      "CURRENT PAGE: https://www.kickstarter.com/discover/advanced?category_id=12&woe_id=0&sort=magic&seed=2664694&page=67\n",
      "CURRENT PAGE: https://www.kickstarter.com/discover/advanced?category_id=12&woe_id=0&sort=magic&seed=2664694&page=68\n",
      "CURRENT PAGE: https://www.kickstarter.com/discover/advanced?category_id=12&woe_id=0&sort=magic&seed=2664694&page=69\n",
      "CURRENT PAGE: https://www.kickstarter.com/discover/advanced?category_id=12&woe_id=0&sort=magic&seed=2664694&page=70\n",
      "CURRENT PAGE: https://www.kickstarter.com/discover/advanced?category_id=12&woe_id=0&sort=magic&seed=2664694&page=71\n",
      "CURRENT PAGE: https://www.kickstarter.com/discover/advanced?category_id=12&woe_id=0&sort=magic&seed=2664694&page=72\n",
      "CURRENT PAGE: https://www.kickstarter.com/discover/advanced?category_id=12&woe_id=0&sort=magic&seed=2664694&page=73\n",
      "CURRENT PAGE: https://www.kickstarter.com/discover/advanced?category_id=12&woe_id=0&sort=magic&seed=2664694&page=74\n",
      "CURRENT PAGE: https://www.kickstarter.com/discover/advanced?category_id=12&woe_id=0&sort=magic&seed=2664694&page=75\n",
      "CURRENT PAGE: https://www.kickstarter.com/discover/advanced?category_id=12&woe_id=0&sort=magic&seed=2664694&page=76\n",
      "CURRENT PAGE: https://www.kickstarter.com/discover/advanced?category_id=12&woe_id=0&sort=magic&seed=2664694&page=77\n",
      "CURRENT PAGE: https://www.kickstarter.com/discover/advanced?category_id=12&woe_id=0&sort=magic&seed=2664694&page=78\n",
      "CURRENT PAGE: https://www.kickstarter.com/discover/advanced?category_id=12&woe_id=0&sort=magic&seed=2664694&page=79\n",
      "CURRENT PAGE: https://www.kickstarter.com/discover/advanced?category_id=12&woe_id=0&sort=magic&seed=2664694&page=80\n",
      "CURRENT PAGE: https://www.kickstarter.com/discover/advanced?category_id=12&woe_id=0&sort=magic&seed=2664694&page=81\n",
      "CURRENT PAGE: https://www.kickstarter.com/discover/advanced?category_id=12&woe_id=0&sort=magic&seed=2664694&page=82\n",
      "CURRENT PAGE: https://www.kickstarter.com/discover/advanced?category_id=12&woe_id=0&sort=magic&seed=2664694&page=83\n",
      "CURRENT PAGE: https://www.kickstarter.com/discover/advanced?category_id=12&woe_id=0&sort=magic&seed=2664694&page=84\n",
      "CURRENT PAGE: https://www.kickstarter.com/discover/advanced?category_id=12&woe_id=0&sort=magic&seed=2664694&page=85\n",
      "CURRENT PAGE: https://www.kickstarter.com/discover/advanced?category_id=12&woe_id=0&sort=magic&seed=2664694&page=86\n",
      "CURRENT PAGE: https://www.kickstarter.com/discover/advanced?category_id=12&woe_id=0&sort=magic&seed=2664694&page=87\n",
      "CURRENT PAGE: https://www.kickstarter.com/discover/advanced?category_id=12&woe_id=0&sort=magic&seed=2664694&page=88\n",
      "CURRENT PAGE: https://www.kickstarter.com/discover/advanced?category_id=12&woe_id=0&sort=magic&seed=2664694&page=89\n",
      "CURRENT PAGE: https://www.kickstarter.com/discover/advanced?category_id=12&woe_id=0&sort=magic&seed=2664694&page=90\n",
      "CURRENT PAGE: https://www.kickstarter.com/discover/advanced?category_id=12&woe_id=0&sort=magic&seed=2664694&page=91\n",
      "CURRENT PAGE: https://www.kickstarter.com/discover/advanced?category_id=12&woe_id=0&sort=magic&seed=2664694&page=92\n",
      "CURRENT PAGE: https://www.kickstarter.com/discover/advanced?category_id=12&woe_id=0&sort=magic&seed=2664694&page=93\n",
      "CURRENT PAGE: https://www.kickstarter.com/discover/advanced?category_id=12&woe_id=0&sort=magic&seed=2664694&page=94\n",
      "CURRENT PAGE: https://www.kickstarter.com/discover/advanced?category_id=12&woe_id=0&sort=magic&seed=2664694&page=95\n",
      "CURRENT PAGE: https://www.kickstarter.com/discover/advanced?category_id=12&woe_id=0&sort=magic&seed=2664694&page=96\n",
      "CURRENT PAGE: https://www.kickstarter.com/discover/advanced?category_id=12&woe_id=0&sort=magic&seed=2664694&page=97\n",
      "CURRENT PAGE: https://www.kickstarter.com/discover/advanced?category_id=12&woe_id=0&sort=magic&seed=2664694&page=98\n",
      "CURRENT PAGE: https://www.kickstarter.com/discover/advanced?category_id=12&woe_id=0&sort=magic&seed=2664694&page=99\n",
      "CURRENT PAGE: https://www.kickstarter.com/discover/advanced?category_id=12&woe_id=0&sort=magic&seed=2664694&page=100\n",
      "CURRENT PAGE: https://www.kickstarter.com/discover/advanced?category_id=12&woe_id=0&sort=magic&seed=2664694&page=101\n",
      "CURRENT PAGE: https://www.kickstarter.com/discover/advanced?category_id=12&woe_id=0&sort=magic&seed=2664694&page=102\n",
      "CURRENT PAGE: https://www.kickstarter.com/discover/advanced?category_id=12&woe_id=0&sort=magic&seed=2664694&page=103\n",
      "CURRENT PAGE: https://www.kickstarter.com/discover/advanced?category_id=12&woe_id=0&sort=magic&seed=2664694&page=104\n",
      "CURRENT PAGE: https://www.kickstarter.com/discover/advanced?category_id=12&woe_id=0&sort=magic&seed=2664694&page=105\n",
      "CURRENT PAGE: https://www.kickstarter.com/discover/advanced?category_id=12&woe_id=0&sort=magic&seed=2664694&page=106\n",
      "CURRENT PAGE: https://www.kickstarter.com/discover/advanced?category_id=12&woe_id=0&sort=magic&seed=2664694&page=107\n",
      "CURRENT PAGE: https://www.kickstarter.com/discover/advanced?category_id=12&woe_id=0&sort=magic&seed=2664694&page=108\n",
      "CURRENT PAGE: https://www.kickstarter.com/discover/advanced?category_id=12&woe_id=0&sort=magic&seed=2664694&page=109\n",
      "CURRENT PAGE: https://www.kickstarter.com/discover/advanced?category_id=12&woe_id=0&sort=magic&seed=2664694&page=110\n",
      "CURRENT PAGE: https://www.kickstarter.com/discover/advanced?category_id=12&woe_id=0&sort=magic&seed=2664694&page=111\n",
      "CURRENT PAGE: https://www.kickstarter.com/discover/advanced?category_id=12&woe_id=0&sort=magic&seed=2664694&page=112\n",
      "CURRENT PAGE: https://www.kickstarter.com/discover/advanced?category_id=12&woe_id=0&sort=magic&seed=2664694&page=113\n",
      "CURRENT PAGE: https://www.kickstarter.com/discover/advanced?category_id=12&woe_id=0&sort=magic&seed=2664694&page=114\n",
      "CURRENT PAGE: https://www.kickstarter.com/discover/advanced?category_id=12&woe_id=0&sort=magic&seed=2664694&page=115\n",
      "CURRENT PAGE: https://www.kickstarter.com/discover/advanced?category_id=12&woe_id=0&sort=magic&seed=2664694&page=116\n",
      "CURRENT PAGE: https://www.kickstarter.com/discover/advanced?category_id=12&woe_id=0&sort=magic&seed=2664694&page=117\n",
      "CURRENT PAGE: https://www.kickstarter.com/discover/advanced?category_id=12&woe_id=0&sort=magic&seed=2664694&page=118\n",
      "CURRENT PAGE: https://www.kickstarter.com/discover/advanced?category_id=12&woe_id=0&sort=magic&seed=2664694&page=119\n",
      "CURRENT PAGE: https://www.kickstarter.com/discover/advanced?category_id=12&woe_id=0&sort=magic&seed=2664694&page=120\n",
      "CURRENT PAGE: https://www.kickstarter.com/discover/advanced?category_id=12&woe_id=0&sort=magic&seed=2664694&page=121\n",
      "CURRENT PAGE: https://www.kickstarter.com/discover/advanced?category_id=12&woe_id=0&sort=magic&seed=2664694&page=122\n",
      "CURRENT PAGE: https://www.kickstarter.com/discover/advanced?category_id=12&woe_id=0&sort=magic&seed=2664694&page=123\n",
      "CURRENT PAGE: https://www.kickstarter.com/discover/advanced?category_id=12&woe_id=0&sort=magic&seed=2664694&page=124\n",
      "CURRENT PAGE: https://www.kickstarter.com/discover/advanced?category_id=12&woe_id=0&sort=magic&seed=2664694&page=125\n",
      "CURRENT PAGE: https://www.kickstarter.com/discover/advanced?category_id=12&woe_id=0&sort=magic&seed=2664694&page=126\n",
      "CURRENT PAGE: https://www.kickstarter.com/discover/advanced?category_id=12&woe_id=0&sort=magic&seed=2664694&page=127\n",
      "CURRENT PAGE: https://www.kickstarter.com/discover/advanced?category_id=12&woe_id=0&sort=magic&seed=2664694&page=128\n",
      "CURRENT PAGE: https://www.kickstarter.com/discover/advanced?category_id=12&woe_id=0&sort=magic&seed=2664694&page=129\n",
      "CURRENT PAGE: https://www.kickstarter.com/discover/advanced?category_id=12&woe_id=0&sort=magic&seed=2664694&page=130\n",
      "CURRENT PAGE: https://www.kickstarter.com/discover/advanced?category_id=12&woe_id=0&sort=magic&seed=2664694&page=131\n",
      "CURRENT PAGE: https://www.kickstarter.com/discover/advanced?category_id=12&woe_id=0&sort=magic&seed=2664694&page=132\n",
      "CURRENT PAGE: https://www.kickstarter.com/discover/advanced?category_id=12&woe_id=0&sort=magic&seed=2664694&page=133\n",
      "CURRENT PAGE: https://www.kickstarter.com/discover/advanced?category_id=12&woe_id=0&sort=magic&seed=2664694&page=134\n",
      "CURRENT PAGE: https://www.kickstarter.com/discover/advanced?category_id=12&woe_id=0&sort=magic&seed=2664694&page=135\n",
      "CURRENT PAGE: https://www.kickstarter.com/discover/advanced?category_id=12&woe_id=0&sort=magic&seed=2664694&page=136\n",
      "CURRENT PAGE: https://www.kickstarter.com/discover/advanced?category_id=12&woe_id=0&sort=magic&seed=2664694&page=137\n",
      "CURRENT PAGE: https://www.kickstarter.com/discover/advanced?category_id=12&woe_id=0&sort=magic&seed=2664694&page=138\n",
      "CURRENT PAGE: https://www.kickstarter.com/discover/advanced?category_id=12&woe_id=0&sort=magic&seed=2664694&page=139\n",
      "CURRENT PAGE: https://www.kickstarter.com/discover/advanced?category_id=12&woe_id=0&sort=magic&seed=2664694&page=140\n",
      "CURRENT PAGE: https://www.kickstarter.com/discover/advanced?category_id=12&woe_id=0&sort=magic&seed=2664694&page=141\n",
      "CURRENT PAGE: https://www.kickstarter.com/discover/advanced?category_id=12&woe_id=0&sort=magic&seed=2664694&page=142\n",
      "CURRENT PAGE: https://www.kickstarter.com/discover/advanced?category_id=12&woe_id=0&sort=magic&seed=2664694&page=143\n",
      "CURRENT PAGE: https://www.kickstarter.com/discover/advanced?category_id=12&woe_id=0&sort=magic&seed=2664694&page=144\n",
      "CURRENT PAGE: https://www.kickstarter.com/discover/advanced?category_id=12&woe_id=0&sort=magic&seed=2664694&page=145\n",
      "CURRENT PAGE: https://www.kickstarter.com/discover/advanced?category_id=12&woe_id=0&sort=magic&seed=2664694&page=146\n",
      "CURRENT PAGE: https://www.kickstarter.com/discover/advanced?category_id=12&woe_id=0&sort=magic&seed=2664694&page=147\n",
      "CURRENT PAGE: https://www.kickstarter.com/discover/advanced?category_id=12&woe_id=0&sort=magic&seed=2664694&page=148\n",
      "CURRENT PAGE: https://www.kickstarter.com/discover/advanced?category_id=12&woe_id=0&sort=magic&seed=2664694&page=149\n",
      "CURRENT PAGE: https://www.kickstarter.com/discover/advanced?category_id=12&woe_id=0&sort=magic&seed=2664694&page=150\n",
      "CURRENT PAGE: https://www.kickstarter.com/discover/advanced?category_id=12&woe_id=0&sort=magic&seed=2664694&page=151\n",
      "CURRENT PAGE: https://www.kickstarter.com/discover/advanced?category_id=12&woe_id=0&sort=magic&seed=2664694&page=152\n",
      "CURRENT PAGE: https://www.kickstarter.com/discover/advanced?category_id=12&woe_id=0&sort=magic&seed=2664694&page=153\n",
      "CURRENT PAGE: https://www.kickstarter.com/discover/advanced?category_id=12&woe_id=0&sort=magic&seed=2664694&page=154\n",
      "CURRENT PAGE: https://www.kickstarter.com/discover/advanced?category_id=12&woe_id=0&sort=magic&seed=2664694&page=155\n",
      "CURRENT PAGE: https://www.kickstarter.com/discover/advanced?category_id=12&woe_id=0&sort=magic&seed=2664694&page=156\n",
      "CURRENT PAGE: https://www.kickstarter.com/discover/advanced?category_id=12&woe_id=0&sort=magic&seed=2664694&page=157\n",
      "CURRENT PAGE: https://www.kickstarter.com/discover/advanced?category_id=12&woe_id=0&sort=magic&seed=2664694&page=158\n",
      "CURRENT PAGE: https://www.kickstarter.com/discover/advanced?category_id=12&woe_id=0&sort=magic&seed=2664694&page=159\n",
      "CURRENT PAGE: https://www.kickstarter.com/discover/advanced?category_id=12&woe_id=0&sort=magic&seed=2664694&page=160\n",
      "CURRENT PAGE: https://www.kickstarter.com/discover/advanced?category_id=12&woe_id=0&sort=magic&seed=2664694&page=161\n",
      "CURRENT PAGE: https://www.kickstarter.com/discover/advanced?category_id=12&woe_id=0&sort=magic&seed=2664694&page=162\n",
      "CURRENT PAGE: https://www.kickstarter.com/discover/advanced?category_id=12&woe_id=0&sort=magic&seed=2664694&page=163\n",
      "CURRENT PAGE: https://www.kickstarter.com/discover/advanced?category_id=12&woe_id=0&sort=magic&seed=2664694&page=164\n",
      "CURRENT PAGE: https://www.kickstarter.com/discover/advanced?category_id=12&woe_id=0&sort=magic&seed=2664694&page=165\n",
      "CURRENT PAGE: https://www.kickstarter.com/discover/advanced?category_id=12&woe_id=0&sort=magic&seed=2664694&page=166\n",
      "CURRENT PAGE: https://www.kickstarter.com/discover/advanced?category_id=12&woe_id=0&sort=magic&seed=2664694&page=167\n",
      "CURRENT PAGE: https://www.kickstarter.com/discover/advanced?category_id=12&woe_id=0&sort=magic&seed=2664694&page=168\n",
      "CURRENT PAGE: https://www.kickstarter.com/discover/advanced?category_id=12&woe_id=0&sort=magic&seed=2664694&page=169\n",
      "CURRENT PAGE: https://www.kickstarter.com/discover/advanced?category_id=12&woe_id=0&sort=magic&seed=2664694&page=170\n",
      "CURRENT PAGE: https://www.kickstarter.com/discover/advanced?category_id=12&woe_id=0&sort=magic&seed=2664694&page=171\n",
      "CURRENT PAGE: https://www.kickstarter.com/discover/advanced?category_id=12&woe_id=0&sort=magic&seed=2664694&page=172\n",
      "CURRENT PAGE: https://www.kickstarter.com/discover/advanced?category_id=12&woe_id=0&sort=magic&seed=2664694&page=173\n",
      "CURRENT PAGE: https://www.kickstarter.com/discover/advanced?category_id=12&woe_id=0&sort=magic&seed=2664694&page=174\n",
      "CURRENT PAGE: https://www.kickstarter.com/discover/advanced?category_id=12&woe_id=0&sort=magic&seed=2664694&page=175\n",
      "CURRENT PAGE: https://www.kickstarter.com/discover/advanced?category_id=12&woe_id=0&sort=magic&seed=2664694&page=176\n",
      "CURRENT PAGE: https://www.kickstarter.com/discover/advanced?category_id=12&woe_id=0&sort=magic&seed=2664694&page=177\n",
      "CURRENT PAGE: https://www.kickstarter.com/discover/advanced?category_id=12&woe_id=0&sort=magic&seed=2664694&page=178\n",
      "CURRENT PAGE: https://www.kickstarter.com/discover/advanced?category_id=12&woe_id=0&sort=magic&seed=2664694&page=179\n",
      "CURRENT PAGE: https://www.kickstarter.com/discover/advanced?category_id=12&woe_id=0&sort=magic&seed=2664694&page=180\n",
      "CURRENT PAGE: https://www.kickstarter.com/discover/advanced?category_id=12&woe_id=0&sort=magic&seed=2664694&page=181\n",
      "CURRENT PAGE: https://www.kickstarter.com/discover/advanced?category_id=12&woe_id=0&sort=magic&seed=2664694&page=182\n",
      "CURRENT PAGE: https://www.kickstarter.com/discover/advanced?category_id=12&woe_id=0&sort=magic&seed=2664694&page=183\n",
      "CURRENT PAGE: https://www.kickstarter.com/discover/advanced?category_id=12&woe_id=0&sort=magic&seed=2664694&page=184\n",
      "CURRENT PAGE: https://www.kickstarter.com/discover/advanced?category_id=12&woe_id=0&sort=magic&seed=2664694&page=185\n",
      "CURRENT PAGE: https://www.kickstarter.com/discover/advanced?category_id=12&woe_id=0&sort=magic&seed=2664694&page=186\n",
      "CURRENT PAGE: https://www.kickstarter.com/discover/advanced?category_id=12&woe_id=0&sort=magic&seed=2664694&page=187\n",
      "CURRENT PAGE: https://www.kickstarter.com/discover/advanced?category_id=12&woe_id=0&sort=magic&seed=2664694&page=188\n",
      "CURRENT PAGE: https://www.kickstarter.com/discover/advanced?category_id=12&woe_id=0&sort=magic&seed=2664694&page=189\n",
      "CURRENT PAGE: https://www.kickstarter.com/discover/advanced?category_id=12&woe_id=0&sort=magic&seed=2664694&page=190\n",
      "CURRENT PAGE: https://www.kickstarter.com/discover/advanced?category_id=12&woe_id=0&sort=magic&seed=2664694&page=191\n",
      "CURRENT PAGE: https://www.kickstarter.com/discover/advanced?category_id=12&woe_id=0&sort=magic&seed=2664694&page=192\n",
      "CURRENT PAGE: https://www.kickstarter.com/discover/advanced?category_id=12&woe_id=0&sort=magic&seed=2664694&page=193\n",
      "CURRENT PAGE: https://www.kickstarter.com/discover/advanced?category_id=12&woe_id=0&sort=magic&seed=2664694&page=194\n",
      "CURRENT PAGE: https://www.kickstarter.com/discover/advanced?category_id=12&woe_id=0&sort=magic&seed=2664694&page=195\n",
      "CURRENT PAGE: https://www.kickstarter.com/discover/advanced?category_id=12&woe_id=0&sort=magic&seed=2664694&page=196\n",
      "CURRENT PAGE: https://www.kickstarter.com/discover/advanced?category_id=12&woe_id=0&sort=magic&seed=2664694&page=197\n",
      "CURRENT PAGE: https://www.kickstarter.com/discover/advanced?category_id=12&woe_id=0&sort=magic&seed=2664694&page=198\n",
      "CURRENT PAGE: https://www.kickstarter.com/discover/advanced?category_id=12&woe_id=0&sort=magic&seed=2664694&page=199\n",
      "CURRENT PAGE: https://www.kickstarter.com/discover/advanced?category_id=12&woe_id=0&sort=magic&seed=2664694&page=200\n",
      "CURRENT PAGE: https://www.kickstarter.com/discover/advanced?category_id=12&woe_id=0&sort=magic&seed=2664694&page=201\n",
      "CURRENT PAGE: https://www.kickstarter.com/discover/advanced?category_id=12&woe_id=0&sort=magic&seed=2664694&page=201\n",
      "CURRENT PAGE: https://www.kickstarter.com/discover/advanced?category_id=12&woe_id=0&sort=magic&seed=2664694&page=201\n",
      "CURRENT PAGE: https://www.kickstarter.com/discover/advanced?category_id=12&woe_id=0&sort=magic&seed=2664694&page=201\n",
      "CURRENT PAGE: https://www.kickstarter.com/discover/advanced?category_id=12&woe_id=0&sort=magic&seed=2664694&page=201\n"
     ]
    }
   ],
   "source": [
    "user_agent_list = [\n",
    "    'Mozilla/5.0 (Macintosh; Intel Mac OS X 10_15_5) AppleWebKit/605.1.15 (KHTML, like Gecko) Version/13.1.1 Safari/605.1.15',\n",
    "    'Mozilla/5.0 (Windows NT 10.0; Win64; x64; rv:77.0) Gecko/20100101 Firefox/77.0',\n",
    "    'Mozilla/5.0 (Macintosh; Intel Mac OS X 10_15_5) AppleWebKit/537.36 (KHTML, like Gecko) Chrome/83.0.4103.97 Safari/537.36',\n",
    "    'Mozilla/5.0 (Macintosh; Intel Mac OS X 10.15; rv:77.0) Gecko/20100101 Firefox/77.0',\n",
    "    'Mozilla/5.0 (Windows NT 10.0; Win64; x64) AppleWebKit/537.36 (KHTML, like Gecko) Chrome/83.0.4103.97 Safari/537.36',\n",
    "    'Mozilla/5.0 (Windows NT 6.3; Win64; x64) AppleWebKit/537.36 (KHTML, like Gecko) Chrome/59.0.3071.115 Safari/537.36',\n",
    "    'Mozilla/5.0 (Macintosh; Intel Mac OS X 10_15) AppleWebKit/605.1.15 (KHTML, like Gecko) Version/13.0.1 Safari/605.1.15'\n",
    "]\n",
    "\n",
    "\n",
    "kickstarter_url = \\\n",
    "'https://www.kickstarter.com/discover/advanced?category_id=12&woe_id=0&sort=magic&seed=2664694&page={}'\n",
    "file = \"kickstarter_off.csv\"\n",
    "\n",
    "csvfile = open(file, 'w')\n",
    "csvwriter = csv.writer(csvfile, delimiter=',')\n",
    "\n",
    "page_start = 1\n",
    "for i in range(1,6): #loop to use random user_agent\n",
    "    while True:\n",
    "        url = kickstarter_url.format(page_start)\n",
    "        user_agent = random.choice(user_agent_list)\n",
    "        #Set the headers \n",
    "        headers = {'User-Agent': user_agent}\n",
    "        #Make the request\n",
    "        response = requests.get(url,headers=headers)\n",
    "        print(\"CURRENT PAGE: {}\".format(url))\n",
    "        \n",
    "        html = response.text\n",
    "        soup = BeautifulSoup(html, 'html.parser')\n",
    "        project_divs = soup.findAll('div', {\"class\":\"js-react-proj-card\"})\n",
    "    \n",
    "        if len(project_divs) == 0:\n",
    "            break;\n",
    "        for div in project_divs:\n",
    "            project = json.loads(div['data-project'])\n",
    "            if \"location\" in project: #there are a few projects with missing locations\n",
    "                row = [project[\"id\"],project[\"name\"],project[\"blurb\"],\n",
    "                   project[\"goal\"],project[\"slug\"],project[\"country\"],\n",
    "                   project['pledged'], project['backers_count'],\n",
    "                   project[\"currency\"],project[\"deadline\"],project[\"created_at\"],\n",
    "                   project[\"launched_at\"],project[\"staff_pick\"],\n",
    "                   project[\"category\"][\"id\"],project[\"category\"][\"name\"],\n",
    "                   project[\"location\"][\"id\"],project[\"location\"][\"name\"],\n",
    "                   project[\"location\"][\"country\"],project[\"location\"][\"state\"],\n",
    "                   project['fx_rate'],\n",
    "                   project[\"percent_funded\"]]\n",
    "            else:\n",
    "                row = [project[\"id\"],project[\"name\"],project[\"blurb\"],\n",
    "                   project[\"goal\"],project[\"slug\"],project[\"country\"],\n",
    "                   project['pledged'], project['backers_count'],\n",
    "                   project[\"currency\"],project[\"deadline\"],project[\"created_at\"],\n",
    "                   project[\"launched_at\"],project[\"staff_pick\"],\n",
    "                   project[\"category\"][\"id\"],project[\"category\"][\"name\"],\n",
    "                   project['fx_rate'],\n",
    "                   project[\"percent_funded\"]]\n",
    "            csvwriter.writerow(row)\n",
    "        time.sleep(12) # to prevent from HTTP Error 429: Too Many Requests\n",
    "        page_start +=1\n",
    "\n",
    "csvfile.close()\n"
   ]
  },
  {
   "cell_type": "markdown",
   "metadata": {},
   "source": [
    "## II. Analysis"
   ]
  },
  {
   "cell_type": "code",
   "execution_count": 5,
   "metadata": {},
   "outputs": [
    {
     "data": {
      "text/html": [
       "        <script type=\"text/javascript\">\n",
       "        window.PlotlyConfig = {MathJaxConfig: 'local'};\n",
       "        if (window.MathJax) {MathJax.Hub.Config({SVG: {font: \"STIX-Web\"}});}\n",
       "        if (typeof require !== 'undefined') {\n",
       "        require.undef(\"plotly\");\n",
       "        requirejs.config({\n",
       "            paths: {\n",
       "                'plotly': ['https://cdn.plot.ly/plotly-latest.min']\n",
       "            }\n",
       "        });\n",
       "        require(['plotly'], function(Plotly) {\n",
       "            window._Plotly = Plotly;\n",
       "        });\n",
       "        }\n",
       "        </script>\n",
       "        "
      ]
     },
     "metadata": {},
     "output_type": "display_data"
    }
   ],
   "source": [
    "import pandas as pd\n",
    "import numpy as np\n",
    "from datetime import datetime\n",
    "\n",
    "import matplotlib.pyplot as plt\n",
    "import plotly.graph_objects as go\n",
    "import plotly.express as px\n",
    "import matplotlib.pyplot as plt\n",
    "import seaborn as sns\n",
    "from plotly.offline import init_notebook_mode, iplot\n",
    "init_notebook_mode(connected=True)\n",
    "%matplotlib inline"
   ]
  },
  {
   "cell_type": "code",
   "execution_count": 6,
   "metadata": {},
   "outputs": [
    {
     "data": {
      "text/html": [
       "<div>\n",
       "<style scoped>\n",
       "    .dataframe tbody tr th:only-of-type {\n",
       "        vertical-align: middle;\n",
       "    }\n",
       "\n",
       "    .dataframe tbody tr th {\n",
       "        vertical-align: top;\n",
       "    }\n",
       "\n",
       "    .dataframe thead th {\n",
       "        text-align: right;\n",
       "    }\n",
       "</style>\n",
       "<table border=\"1\" class=\"dataframe\">\n",
       "  <thead>\n",
       "    <tr style=\"text-align: right;\">\n",
       "      <th></th>\n",
       "      <th>ID</th>\n",
       "      <th>Name</th>\n",
       "      <th>Blurb</th>\n",
       "      <th>Goal</th>\n",
       "      <th>Slug</th>\n",
       "      <th>Country</th>\n",
       "      <th>Pledged</th>\n",
       "      <th>Backers_count</th>\n",
       "      <th>Currency</th>\n",
       "      <th>Deadline</th>\n",
       "      <th>...</th>\n",
       "      <th>Launched_at</th>\n",
       "      <th>Staff_pick</th>\n",
       "      <th>Category_id</th>\n",
       "      <th>Category_name</th>\n",
       "      <th>Location_id</th>\n",
       "      <th>Location_name</th>\n",
       "      <th>Location_country</th>\n",
       "      <th>Location_state</th>\n",
       "      <th>fx_rate</th>\n",
       "      <th>Percent_funded</th>\n",
       "    </tr>\n",
       "  </thead>\n",
       "  <tbody>\n",
       "    <tr>\n",
       "      <th>0</th>\n",
       "      <td>1974295126</td>\n",
       "      <td>Hellboy: The Roleplaying Game</td>\n",
       "      <td>A brand-new Hellboy roleplaying experience, ba...</td>\n",
       "      <td>30000</td>\n",
       "      <td>hellboy-the-next-chapter</td>\n",
       "      <td>GB</td>\n",
       "      <td>256805.45</td>\n",
       "      <td>4247</td>\n",
       "      <td>GBP</td>\n",
       "      <td>1599505200</td>\n",
       "      <td>...</td>\n",
       "      <td>1597834801</td>\n",
       "      <td>True</td>\n",
       "      <td>34</td>\n",
       "      <td>Tabletop Games</td>\n",
       "      <td>30720</td>\n",
       "      <td>Nottingham</td>\n",
       "      <td>GB</td>\n",
       "      <td>England</td>\n",
       "      <td>1.335591</td>\n",
       "      <td>856.018167</td>\n",
       "    </tr>\n",
       "    <tr>\n",
       "      <th>1</th>\n",
       "      <td>100245492</td>\n",
       "      <td>The Umbrella Academy Game</td>\n",
       "      <td>Umbrella Academy Card Game Based on the Acclai...</td>\n",
       "      <td>30000</td>\n",
       "      <td>the-umbrella-academy-game</td>\n",
       "      <td>US</td>\n",
       "      <td>297797.00</td>\n",
       "      <td>4003</td>\n",
       "      <td>USD</td>\n",
       "      <td>1599278400</td>\n",
       "      <td>...</td>\n",
       "      <td>1595952042</td>\n",
       "      <td>True</td>\n",
       "      <td>34</td>\n",
       "      <td>Tabletop Games</td>\n",
       "      <td>2442047</td>\n",
       "      <td>Los Angeles</td>\n",
       "      <td>US</td>\n",
       "      <td>CA</td>\n",
       "      <td>1.000000</td>\n",
       "      <td>992.656667</td>\n",
       "    </tr>\n",
       "    <tr>\n",
       "      <th>2</th>\n",
       "      <td>1558255285</td>\n",
       "      <td>Uprising | Curse of the Last Emperor</td>\n",
       "      <td>A fully cooperative 4X fantasy board game for ...</td>\n",
       "      <td>40000</td>\n",
       "      <td>uprising-curse-of-the-last-emperor</td>\n",
       "      <td>US</td>\n",
       "      <td>241727.00</td>\n",
       "      <td>2460</td>\n",
       "      <td>USD</td>\n",
       "      <td>1599771600</td>\n",
       "      <td>...</td>\n",
       "      <td>1597762643</td>\n",
       "      <td>True</td>\n",
       "      <td>34</td>\n",
       "      <td>Tabletop Games</td>\n",
       "      <td>638242</td>\n",
       "      <td>Berlin</td>\n",
       "      <td>DE</td>\n",
       "      <td>Berlin</td>\n",
       "      <td>1.000000</td>\n",
       "      <td>604.317500</td>\n",
       "    </tr>\n",
       "    <tr>\n",
       "      <th>3</th>\n",
       "      <td>775354956</td>\n",
       "      <td>The Girl from Arkanya | A pixel art treasure h...</td>\n",
       "      <td>A top-down, 2D action RPG following the journe...</td>\n",
       "      <td>10000</td>\n",
       "      <td>the-girl-from-arkanya</td>\n",
       "      <td>US</td>\n",
       "      <td>35453.00</td>\n",
       "      <td>1094</td>\n",
       "      <td>USD</td>\n",
       "      <td>1599155969</td>\n",
       "      <td>...</td>\n",
       "      <td>1596563969</td>\n",
       "      <td>True</td>\n",
       "      <td>35</td>\n",
       "      <td>Video Games</td>\n",
       "      <td>2470851</td>\n",
       "      <td>Peru</td>\n",
       "      <td>US</td>\n",
       "      <td>IN</td>\n",
       "      <td>1.000000</td>\n",
       "      <td>354.530000</td>\n",
       "    </tr>\n",
       "    <tr>\n",
       "      <th>4</th>\n",
       "      <td>1711843516</td>\n",
       "      <td>Dungeons &amp; Lasers Second Edition</td>\n",
       "      <td>Plastic tabletop terrain with a grid. And 6\" t...</td>\n",
       "      <td>20000</td>\n",
       "      <td>dungeons-and-lasers-second-edition</td>\n",
       "      <td>US</td>\n",
       "      <td>490998.00</td>\n",
       "      <td>3616</td>\n",
       "      <td>USD</td>\n",
       "      <td>1599598800</td>\n",
       "      <td>...</td>\n",
       "      <td>1598364018</td>\n",
       "      <td>True</td>\n",
       "      <td>34</td>\n",
       "      <td>Tabletop Games</td>\n",
       "      <td>512430</td>\n",
       "      <td>Piła</td>\n",
       "      <td>PL</td>\n",
       "      <td>Swietokrzyskie</td>\n",
       "      <td>1.000000</td>\n",
       "      <td>2454.990000</td>\n",
       "    </tr>\n",
       "  </tbody>\n",
       "</table>\n",
       "<p>5 rows × 21 columns</p>\n",
       "</div>"
      ],
      "text/plain": [
       "           ID                                               Name  \\\n",
       "0  1974295126                      Hellboy: The Roleplaying Game   \n",
       "1   100245492                          The Umbrella Academy Game   \n",
       "2  1558255285               Uprising | Curse of the Last Emperor   \n",
       "3   775354956  The Girl from Arkanya | A pixel art treasure h...   \n",
       "4  1711843516                   Dungeons & Lasers Second Edition   \n",
       "\n",
       "                                               Blurb   Goal  \\\n",
       "0  A brand-new Hellboy roleplaying experience, ba...  30000   \n",
       "1  Umbrella Academy Card Game Based on the Acclai...  30000   \n",
       "2  A fully cooperative 4X fantasy board game for ...  40000   \n",
       "3  A top-down, 2D action RPG following the journe...  10000   \n",
       "4  Plastic tabletop terrain with a grid. And 6\" t...  20000   \n",
       "\n",
       "                                 Slug Country    Pledged  Backers_count  \\\n",
       "0            hellboy-the-next-chapter      GB  256805.45           4247   \n",
       "1           the-umbrella-academy-game      US  297797.00           4003   \n",
       "2  uprising-curse-of-the-last-emperor      US  241727.00           2460   \n",
       "3               the-girl-from-arkanya      US   35453.00           1094   \n",
       "4  dungeons-and-lasers-second-edition      US  490998.00           3616   \n",
       "\n",
       "  Currency    Deadline  ...  Launched_at  Staff_pick  Category_id  \\\n",
       "0      GBP  1599505200  ...   1597834801        True           34   \n",
       "1      USD  1599278400  ...   1595952042        True           34   \n",
       "2      USD  1599771600  ...   1597762643        True           34   \n",
       "3      USD  1599155969  ...   1596563969        True           35   \n",
       "4      USD  1599598800  ...   1598364018        True           34   \n",
       "\n",
       "    Category_name Location_id  Location_name Location_country  Location_state  \\\n",
       "0  Tabletop Games       30720     Nottingham               GB         England   \n",
       "1  Tabletop Games     2442047    Los Angeles               US              CA   \n",
       "2  Tabletop Games      638242         Berlin               DE          Berlin   \n",
       "3     Video Games     2470851           Peru               US              IN   \n",
       "4  Tabletop Games      512430           Piła               PL  Swietokrzyskie   \n",
       "\n",
       "    fx_rate  Percent_funded  \n",
       "0  1.335591      856.018167  \n",
       "1  1.000000      992.656667  \n",
       "2  1.000000      604.317500  \n",
       "3  1.000000      354.530000  \n",
       "4  1.000000     2454.990000  \n",
       "\n",
       "[5 rows x 21 columns]"
      ]
     },
     "execution_count": 6,
     "metadata": {},
     "output_type": "execute_result"
    }
   ],
   "source": [
    "kc = pd.read_csv('/Users/chauchu/Downloads/kickstarter.csv')\n",
    "kc.head()"
   ]
  },
  {
   "cell_type": "markdown",
   "metadata": {},
   "source": [
    "First, I'm going to change the format of 'Deadline', 'Created_at', 'Launched_at' columns since they are in unix format."
   ]
  },
  {
   "cell_type": "code",
   "execution_count": 7,
   "metadata": {},
   "outputs": [],
   "source": [
    "col_convert = ['Deadline', 'Created_at', 'Launched_at']\n",
    "for i in col_convert:\n",
    "    kc[i] = pd.to_datetime(kc[i], origin = 'unix', unit = 's')   \n",
    "kc['campaign_length'] = (kc['Deadline'] - kc['Launched_at']).dt.days\n",
    "kc['Deadline'] = kc['Deadline'].apply(lambda x: x.strftime('%Y-%m-%d'))\n",
    "kc['Created_at'] = kc['Created_at'].apply(lambda x: x.strftime('%Y-%m-%d'))\n",
    "kc['Launched_at'] = kc['Launched_at'].apply(lambda x: x.strftime('%Y-%m-%d'))"
   ]
  },
  {
   "cell_type": "markdown",
   "metadata": {},
   "source": [
    "Next, I'm going to add another column called 'success'. A project is succesful if Percent Funded >= 100%."
   ]
  },
  {
   "cell_type": "code",
   "execution_count": 8,
   "metadata": {},
   "outputs": [],
   "source": [
    "kc['success'] = kc['Percent_funded'].apply(lambda x: 'Successed' if x >=100 else 'Failed')"
   ]
  },
  {
   "cell_type": "markdown",
   "metadata": {},
   "source": [
    "I'm going to drop unnecessary columns"
   ]
  },
  {
   "cell_type": "code",
   "execution_count": 9,
   "metadata": {},
   "outputs": [],
   "source": [
    "kc.drop(columns=['ID', 'Slug','Category_id','Location_id'], inplace = True)"
   ]
  },
  {
   "cell_type": "code",
   "execution_count": 11,
   "metadata": {},
   "outputs": [
    {
     "name": "stdout",
     "output_type": "stream",
     "text": [
      "The projects from this dataset ended between 2009-06-15 and 2020-10-29\n",
      "The projects from this dataset has total 0 duplicate\n"
     ]
    }
   ],
   "source": [
    "print('The projects from this dataset ended between ' + str(min(kc['Deadline'])) + ' and ' + str(max(kc['Deadline'])))\n",
    "print('The projects from this dataset has total ' + str(len(kc[kc.duplicated(subset='Name')])) + ' duplicate')"
   ]
  },
  {
   "cell_type": "markdown",
   "metadata": {},
   "source": [
    "For this Analysis, I'm going to look at projects from 06-2019 to 01-2020 only."
   ]
  },
  {
   "cell_type": "code",
   "execution_count": 12,
   "metadata": {},
   "outputs": [],
   "source": [
    "kc = kc[kc['Deadline'] <= '2020-01-15']"
   ]
  },
  {
   "cell_type": "markdown",
   "metadata": {},
   "source": [
    "First, let's take a look at what kinds of Game Project there are on Kickstarter."
   ]
  },
  {
   "cell_type": "code",
   "execution_count": 13,
   "metadata": {},
   "outputs": [
    {
     "data": {
      "application/vnd.plotly.v1+json": {
       "config": {
        "linkText": "Export to plot.ly",
        "plotlyServerURL": "https://plot.ly",
        "showLink": false
       },
       "data": [
        {
         "alignmentgroup": "True",
         "hovertemplate": "Type of Game=%{y}<br>Percentage=%{text}<extra></extra>",
         "legendgroup": "Tabletop Games",
         "marker": {
          "color": "#636efa"
         },
         "name": "Tabletop Games",
         "offsetgroup": "Tabletop Games",
         "orientation": "h",
         "showlegend": true,
         "text": [
          49.23
         ],
         "textposition": "auto",
         "type": "bar",
         "x": [
          49.23
         ],
         "xaxis": "x",
         "y": [
          "Tabletop Games"
         ],
         "yaxis": "y"
        },
        {
         "alignmentgroup": "True",
         "hovertemplate": "Type of Game=%{y}<br>Percentage=%{text}<extra></extra>",
         "legendgroup": "Video Games",
         "marker": {
          "color": "#EF553B"
         },
         "name": "Video Games",
         "offsetgroup": "Video Games",
         "orientation": "h",
         "showlegend": true,
         "text": [
          39.49
         ],
         "textposition": "auto",
         "type": "bar",
         "x": [
          39.49
         ],
         "xaxis": "x",
         "y": [
          "Video Games"
         ],
         "yaxis": "y"
        },
        {
         "alignmentgroup": "True",
         "hovertemplate": "Type of Game=%{y}<br>Percentage=%{text}<extra></extra>",
         "legendgroup": "Games",
         "marker": {
          "color": "#00cc96"
         },
         "name": "Games",
         "offsetgroup": "Games",
         "orientation": "h",
         "showlegend": true,
         "text": [
          5.61
         ],
         "textposition": "auto",
         "type": "bar",
         "x": [
          5.61
         ],
         "xaxis": "x",
         "y": [
          "Games"
         ],
         "yaxis": "y"
        },
        {
         "alignmentgroup": "True",
         "hovertemplate": "Type of Game=%{y}<br>Percentage=%{text}<extra></extra>",
         "legendgroup": "Mobile Games",
         "marker": {
          "color": "#ab63fa"
         },
         "name": "Mobile Games",
         "offsetgroup": "Mobile Games",
         "orientation": "h",
         "showlegend": true,
         "text": [
          2.9
         ],
         "textposition": "auto",
         "type": "bar",
         "x": [
          2.9
         ],
         "xaxis": "x",
         "y": [
          "Mobile Games"
         ],
         "yaxis": "y"
        },
        {
         "alignmentgroup": "True",
         "hovertemplate": "Type of Game=%{y}<br>Percentage=%{text}<extra></extra>",
         "legendgroup": "Playing Cards",
         "marker": {
          "color": "#FFA15A"
         },
         "name": "Playing Cards",
         "offsetgroup": "Playing Cards",
         "orientation": "h",
         "showlegend": true,
         "text": [
          1.11
         ],
         "textposition": "auto",
         "type": "bar",
         "x": [
          1.11
         ],
         "xaxis": "x",
         "y": [
          "Playing Cards"
         ],
         "yaxis": "y"
        },
        {
         "alignmentgroup": "True",
         "hovertemplate": "Type of Game=%{y}<br>Percentage=%{text}<extra></extra>",
         "legendgroup": "Puzzles",
         "marker": {
          "color": "#19d3f3"
         },
         "name": "Puzzles",
         "offsetgroup": "Puzzles",
         "orientation": "h",
         "showlegend": true,
         "text": [
          0.86
         ],
         "textposition": "auto",
         "type": "bar",
         "x": [
          0.86
         ],
         "xaxis": "x",
         "y": [
          "Puzzles"
         ],
         "yaxis": "y"
        },
        {
         "alignmentgroup": "True",
         "hovertemplate": "Type of Game=%{y}<br>Percentage=%{text}<extra></extra>",
         "legendgroup": "Gaming Hardware",
         "marker": {
          "color": "#FF6692"
         },
         "name": "Gaming Hardware",
         "offsetgroup": "Gaming Hardware",
         "orientation": "h",
         "showlegend": true,
         "text": [
          0.49
         ],
         "textposition": "auto",
         "type": "bar",
         "x": [
          0.49
         ],
         "xaxis": "x",
         "y": [
          "Gaming Hardware"
         ],
         "yaxis": "y"
        },
        {
         "alignmentgroup": "True",
         "hovertemplate": "Type of Game=%{y}<br>Percentage=%{text}<extra></extra>",
         "legendgroup": "Live Games",
         "marker": {
          "color": "#B6E880"
         },
         "name": "Live Games",
         "offsetgroup": "Live Games",
         "orientation": "h",
         "showlegend": true,
         "text": [
          0.31
         ],
         "textposition": "auto",
         "type": "bar",
         "x": [
          0.31
         ],
         "xaxis": "x",
         "y": [
          "Live Games"
         ],
         "yaxis": "y"
        }
       ],
       "layout": {
        "barmode": "relative",
        "legend": {
         "title": {
          "text": "Type of Game"
         },
         "tracegroupgap": 0
        },
        "showlegend": false,
        "template": {
         "data": {
          "bar": [
           {
            "error_x": {
             "color": "#2a3f5f"
            },
            "error_y": {
             "color": "#2a3f5f"
            },
            "marker": {
             "line": {
              "color": "#E5ECF6",
              "width": 0.5
             }
            },
            "type": "bar"
           }
          ],
          "barpolar": [
           {
            "marker": {
             "line": {
              "color": "#E5ECF6",
              "width": 0.5
             }
            },
            "type": "barpolar"
           }
          ],
          "carpet": [
           {
            "aaxis": {
             "endlinecolor": "#2a3f5f",
             "gridcolor": "white",
             "linecolor": "white",
             "minorgridcolor": "white",
             "startlinecolor": "#2a3f5f"
            },
            "baxis": {
             "endlinecolor": "#2a3f5f",
             "gridcolor": "white",
             "linecolor": "white",
             "minorgridcolor": "white",
             "startlinecolor": "#2a3f5f"
            },
            "type": "carpet"
           }
          ],
          "choropleth": [
           {
            "colorbar": {
             "outlinewidth": 0,
             "ticks": ""
            },
            "type": "choropleth"
           }
          ],
          "contour": [
           {
            "colorbar": {
             "outlinewidth": 0,
             "ticks": ""
            },
            "colorscale": [
             [
              0,
              "#0d0887"
             ],
             [
              0.1111111111111111,
              "#46039f"
             ],
             [
              0.2222222222222222,
              "#7201a8"
             ],
             [
              0.3333333333333333,
              "#9c179e"
             ],
             [
              0.4444444444444444,
              "#bd3786"
             ],
             [
              0.5555555555555556,
              "#d8576b"
             ],
             [
              0.6666666666666666,
              "#ed7953"
             ],
             [
              0.7777777777777778,
              "#fb9f3a"
             ],
             [
              0.8888888888888888,
              "#fdca26"
             ],
             [
              1,
              "#f0f921"
             ]
            ],
            "type": "contour"
           }
          ],
          "contourcarpet": [
           {
            "colorbar": {
             "outlinewidth": 0,
             "ticks": ""
            },
            "type": "contourcarpet"
           }
          ],
          "heatmap": [
           {
            "colorbar": {
             "outlinewidth": 0,
             "ticks": ""
            },
            "colorscale": [
             [
              0,
              "#0d0887"
             ],
             [
              0.1111111111111111,
              "#46039f"
             ],
             [
              0.2222222222222222,
              "#7201a8"
             ],
             [
              0.3333333333333333,
              "#9c179e"
             ],
             [
              0.4444444444444444,
              "#bd3786"
             ],
             [
              0.5555555555555556,
              "#d8576b"
             ],
             [
              0.6666666666666666,
              "#ed7953"
             ],
             [
              0.7777777777777778,
              "#fb9f3a"
             ],
             [
              0.8888888888888888,
              "#fdca26"
             ],
             [
              1,
              "#f0f921"
             ]
            ],
            "type": "heatmap"
           }
          ],
          "heatmapgl": [
           {
            "colorbar": {
             "outlinewidth": 0,
             "ticks": ""
            },
            "colorscale": [
             [
              0,
              "#0d0887"
             ],
             [
              0.1111111111111111,
              "#46039f"
             ],
             [
              0.2222222222222222,
              "#7201a8"
             ],
             [
              0.3333333333333333,
              "#9c179e"
             ],
             [
              0.4444444444444444,
              "#bd3786"
             ],
             [
              0.5555555555555556,
              "#d8576b"
             ],
             [
              0.6666666666666666,
              "#ed7953"
             ],
             [
              0.7777777777777778,
              "#fb9f3a"
             ],
             [
              0.8888888888888888,
              "#fdca26"
             ],
             [
              1,
              "#f0f921"
             ]
            ],
            "type": "heatmapgl"
           }
          ],
          "histogram": [
           {
            "marker": {
             "colorbar": {
              "outlinewidth": 0,
              "ticks": ""
             }
            },
            "type": "histogram"
           }
          ],
          "histogram2d": [
           {
            "colorbar": {
             "outlinewidth": 0,
             "ticks": ""
            },
            "colorscale": [
             [
              0,
              "#0d0887"
             ],
             [
              0.1111111111111111,
              "#46039f"
             ],
             [
              0.2222222222222222,
              "#7201a8"
             ],
             [
              0.3333333333333333,
              "#9c179e"
             ],
             [
              0.4444444444444444,
              "#bd3786"
             ],
             [
              0.5555555555555556,
              "#d8576b"
             ],
             [
              0.6666666666666666,
              "#ed7953"
             ],
             [
              0.7777777777777778,
              "#fb9f3a"
             ],
             [
              0.8888888888888888,
              "#fdca26"
             ],
             [
              1,
              "#f0f921"
             ]
            ],
            "type": "histogram2d"
           }
          ],
          "histogram2dcontour": [
           {
            "colorbar": {
             "outlinewidth": 0,
             "ticks": ""
            },
            "colorscale": [
             [
              0,
              "#0d0887"
             ],
             [
              0.1111111111111111,
              "#46039f"
             ],
             [
              0.2222222222222222,
              "#7201a8"
             ],
             [
              0.3333333333333333,
              "#9c179e"
             ],
             [
              0.4444444444444444,
              "#bd3786"
             ],
             [
              0.5555555555555556,
              "#d8576b"
             ],
             [
              0.6666666666666666,
              "#ed7953"
             ],
             [
              0.7777777777777778,
              "#fb9f3a"
             ],
             [
              0.8888888888888888,
              "#fdca26"
             ],
             [
              1,
              "#f0f921"
             ]
            ],
            "type": "histogram2dcontour"
           }
          ],
          "mesh3d": [
           {
            "colorbar": {
             "outlinewidth": 0,
             "ticks": ""
            },
            "type": "mesh3d"
           }
          ],
          "parcoords": [
           {
            "line": {
             "colorbar": {
              "outlinewidth": 0,
              "ticks": ""
             }
            },
            "type": "parcoords"
           }
          ],
          "pie": [
           {
            "automargin": true,
            "type": "pie"
           }
          ],
          "scatter": [
           {
            "marker": {
             "colorbar": {
              "outlinewidth": 0,
              "ticks": ""
             }
            },
            "type": "scatter"
           }
          ],
          "scatter3d": [
           {
            "line": {
             "colorbar": {
              "outlinewidth": 0,
              "ticks": ""
             }
            },
            "marker": {
             "colorbar": {
              "outlinewidth": 0,
              "ticks": ""
             }
            },
            "type": "scatter3d"
           }
          ],
          "scattercarpet": [
           {
            "marker": {
             "colorbar": {
              "outlinewidth": 0,
              "ticks": ""
             }
            },
            "type": "scattercarpet"
           }
          ],
          "scattergeo": [
           {
            "marker": {
             "colorbar": {
              "outlinewidth": 0,
              "ticks": ""
             }
            },
            "type": "scattergeo"
           }
          ],
          "scattergl": [
           {
            "marker": {
             "colorbar": {
              "outlinewidth": 0,
              "ticks": ""
             }
            },
            "type": "scattergl"
           }
          ],
          "scattermapbox": [
           {
            "marker": {
             "colorbar": {
              "outlinewidth": 0,
              "ticks": ""
             }
            },
            "type": "scattermapbox"
           }
          ],
          "scatterpolar": [
           {
            "marker": {
             "colorbar": {
              "outlinewidth": 0,
              "ticks": ""
             }
            },
            "type": "scatterpolar"
           }
          ],
          "scatterpolargl": [
           {
            "marker": {
             "colorbar": {
              "outlinewidth": 0,
              "ticks": ""
             }
            },
            "type": "scatterpolargl"
           }
          ],
          "scatterternary": [
           {
            "marker": {
             "colorbar": {
              "outlinewidth": 0,
              "ticks": ""
             }
            },
            "type": "scatterternary"
           }
          ],
          "surface": [
           {
            "colorbar": {
             "outlinewidth": 0,
             "ticks": ""
            },
            "colorscale": [
             [
              0,
              "#0d0887"
             ],
             [
              0.1111111111111111,
              "#46039f"
             ],
             [
              0.2222222222222222,
              "#7201a8"
             ],
             [
              0.3333333333333333,
              "#9c179e"
             ],
             [
              0.4444444444444444,
              "#bd3786"
             ],
             [
              0.5555555555555556,
              "#d8576b"
             ],
             [
              0.6666666666666666,
              "#ed7953"
             ],
             [
              0.7777777777777778,
              "#fb9f3a"
             ],
             [
              0.8888888888888888,
              "#fdca26"
             ],
             [
              1,
              "#f0f921"
             ]
            ],
            "type": "surface"
           }
          ],
          "table": [
           {
            "cells": {
             "fill": {
              "color": "#EBF0F8"
             },
             "line": {
              "color": "white"
             }
            },
            "header": {
             "fill": {
              "color": "#C8D4E3"
             },
             "line": {
              "color": "white"
             }
            },
            "type": "table"
           }
          ]
         },
         "layout": {
          "annotationdefaults": {
           "arrowcolor": "#2a3f5f",
           "arrowhead": 0,
           "arrowwidth": 1
          },
          "coloraxis": {
           "colorbar": {
            "outlinewidth": 0,
            "ticks": ""
           }
          },
          "colorscale": {
           "diverging": [
            [
             0,
             "#8e0152"
            ],
            [
             0.1,
             "#c51b7d"
            ],
            [
             0.2,
             "#de77ae"
            ],
            [
             0.3,
             "#f1b6da"
            ],
            [
             0.4,
             "#fde0ef"
            ],
            [
             0.5,
             "#f7f7f7"
            ],
            [
             0.6,
             "#e6f5d0"
            ],
            [
             0.7,
             "#b8e186"
            ],
            [
             0.8,
             "#7fbc41"
            ],
            [
             0.9,
             "#4d9221"
            ],
            [
             1,
             "#276419"
            ]
           ],
           "sequential": [
            [
             0,
             "#0d0887"
            ],
            [
             0.1111111111111111,
             "#46039f"
            ],
            [
             0.2222222222222222,
             "#7201a8"
            ],
            [
             0.3333333333333333,
             "#9c179e"
            ],
            [
             0.4444444444444444,
             "#bd3786"
            ],
            [
             0.5555555555555556,
             "#d8576b"
            ],
            [
             0.6666666666666666,
             "#ed7953"
            ],
            [
             0.7777777777777778,
             "#fb9f3a"
            ],
            [
             0.8888888888888888,
             "#fdca26"
            ],
            [
             1,
             "#f0f921"
            ]
           ],
           "sequentialminus": [
            [
             0,
             "#0d0887"
            ],
            [
             0.1111111111111111,
             "#46039f"
            ],
            [
             0.2222222222222222,
             "#7201a8"
            ],
            [
             0.3333333333333333,
             "#9c179e"
            ],
            [
             0.4444444444444444,
             "#bd3786"
            ],
            [
             0.5555555555555556,
             "#d8576b"
            ],
            [
             0.6666666666666666,
             "#ed7953"
            ],
            [
             0.7777777777777778,
             "#fb9f3a"
            ],
            [
             0.8888888888888888,
             "#fdca26"
            ],
            [
             1,
             "#f0f921"
            ]
           ]
          },
          "colorway": [
           "#636efa",
           "#EF553B",
           "#00cc96",
           "#ab63fa",
           "#FFA15A",
           "#19d3f3",
           "#FF6692",
           "#B6E880",
           "#FF97FF",
           "#FECB52"
          ],
          "font": {
           "color": "#2a3f5f"
          },
          "geo": {
           "bgcolor": "white",
           "lakecolor": "white",
           "landcolor": "#E5ECF6",
           "showlakes": true,
           "showland": true,
           "subunitcolor": "white"
          },
          "hoverlabel": {
           "align": "left"
          },
          "hovermode": "closest",
          "mapbox": {
           "style": "light"
          },
          "paper_bgcolor": "white",
          "plot_bgcolor": "#E5ECF6",
          "polar": {
           "angularaxis": {
            "gridcolor": "white",
            "linecolor": "white",
            "ticks": ""
           },
           "bgcolor": "#E5ECF6",
           "radialaxis": {
            "gridcolor": "white",
            "linecolor": "white",
            "ticks": ""
           }
          },
          "scene": {
           "xaxis": {
            "backgroundcolor": "#E5ECF6",
            "gridcolor": "white",
            "gridwidth": 2,
            "linecolor": "white",
            "showbackground": true,
            "ticks": "",
            "zerolinecolor": "white"
           },
           "yaxis": {
            "backgroundcolor": "#E5ECF6",
            "gridcolor": "white",
            "gridwidth": 2,
            "linecolor": "white",
            "showbackground": true,
            "ticks": "",
            "zerolinecolor": "white"
           },
           "zaxis": {
            "backgroundcolor": "#E5ECF6",
            "gridcolor": "white",
            "gridwidth": 2,
            "linecolor": "white",
            "showbackground": true,
            "ticks": "",
            "zerolinecolor": "white"
           }
          },
          "shapedefaults": {
           "line": {
            "color": "#2a3f5f"
           }
          },
          "ternary": {
           "aaxis": {
            "gridcolor": "white",
            "linecolor": "white",
            "ticks": ""
           },
           "baxis": {
            "gridcolor": "white",
            "linecolor": "white",
            "ticks": ""
           },
           "bgcolor": "#E5ECF6",
           "caxis": {
            "gridcolor": "white",
            "linecolor": "white",
            "ticks": ""
           }
          },
          "title": {
           "x": 0.05
          },
          "xaxis": {
           "automargin": true,
           "gridcolor": "white",
           "linecolor": "white",
           "ticks": "",
           "title": {
            "standoff": 15
           },
           "zerolinecolor": "white",
           "zerolinewidth": 2
          },
          "yaxis": {
           "automargin": true,
           "gridcolor": "white",
           "linecolor": "white",
           "ticks": "",
           "title": {
            "standoff": 15
           },
           "zerolinecolor": "white",
           "zerolinewidth": 2
          }
         }
        },
        "title": {
         "text": "Types of Game Project on Kickstarter 06/2019 - 01/2020"
        },
        "width": 700,
        "xaxis": {
         "anchor": "y",
         "domain": [
          0,
          1
         ],
         "title": {
          "text": "Percentage"
         }
        },
        "yaxis": {
         "anchor": "x",
         "categoryarray": [
          "Live Games",
          "Gaming Hardware",
          "Puzzles",
          "Playing Cards",
          "Mobile Games",
          "Games",
          "Video Games",
          "Tabletop Games"
         ],
         "categoryorder": "total ascending",
         "domain": [
          0,
          1
         ],
         "title": {
          "text": " "
         }
        }
       }
      },
      "text/html": [
       "<div>\n",
       "        \n",
       "        \n",
       "            <div id=\"d3299bff-3aa6-43af-95d0-9b6de70cae5f\" class=\"plotly-graph-div\" style=\"height:525px; width:700px;\"></div>\n",
       "            <script type=\"text/javascript\">\n",
       "                require([\"plotly\"], function(Plotly) {\n",
       "                    window.PLOTLYENV=window.PLOTLYENV || {};\n",
       "                    \n",
       "                if (document.getElementById(\"d3299bff-3aa6-43af-95d0-9b6de70cae5f\")) {\n",
       "                    Plotly.newPlot(\n",
       "                        'd3299bff-3aa6-43af-95d0-9b6de70cae5f',\n",
       "                        [{\"alignmentgroup\": \"True\", \"hovertemplate\": \"Type of Game=%{y}<br>Percentage=%{text}<extra></extra>\", \"legendgroup\": \"Tabletop Games\", \"marker\": {\"color\": \"#636efa\"}, \"name\": \"Tabletop Games\", \"offsetgroup\": \"Tabletop Games\", \"orientation\": \"h\", \"showlegend\": true, \"text\": [49.23], \"textposition\": \"auto\", \"type\": \"bar\", \"x\": [49.23], \"xaxis\": \"x\", \"y\": [\"Tabletop Games\"], \"yaxis\": \"y\"}, {\"alignmentgroup\": \"True\", \"hovertemplate\": \"Type of Game=%{y}<br>Percentage=%{text}<extra></extra>\", \"legendgroup\": \"Video Games\", \"marker\": {\"color\": \"#EF553B\"}, \"name\": \"Video Games\", \"offsetgroup\": \"Video Games\", \"orientation\": \"h\", \"showlegend\": true, \"text\": [39.49], \"textposition\": \"auto\", \"type\": \"bar\", \"x\": [39.49], \"xaxis\": \"x\", \"y\": [\"Video Games\"], \"yaxis\": \"y\"}, {\"alignmentgroup\": \"True\", \"hovertemplate\": \"Type of Game=%{y}<br>Percentage=%{text}<extra></extra>\", \"legendgroup\": \"Games\", \"marker\": {\"color\": \"#00cc96\"}, \"name\": \"Games\", \"offsetgroup\": \"Games\", \"orientation\": \"h\", \"showlegend\": true, \"text\": [5.61], \"textposition\": \"auto\", \"type\": \"bar\", \"x\": [5.61], \"xaxis\": \"x\", \"y\": [\"Games\"], \"yaxis\": \"y\"}, {\"alignmentgroup\": \"True\", \"hovertemplate\": \"Type of Game=%{y}<br>Percentage=%{text}<extra></extra>\", \"legendgroup\": \"Mobile Games\", \"marker\": {\"color\": \"#ab63fa\"}, \"name\": \"Mobile Games\", \"offsetgroup\": \"Mobile Games\", \"orientation\": \"h\", \"showlegend\": true, \"text\": [2.9], \"textposition\": \"auto\", \"type\": \"bar\", \"x\": [2.9], \"xaxis\": \"x\", \"y\": [\"Mobile Games\"], \"yaxis\": \"y\"}, {\"alignmentgroup\": \"True\", \"hovertemplate\": \"Type of Game=%{y}<br>Percentage=%{text}<extra></extra>\", \"legendgroup\": \"Playing Cards\", \"marker\": {\"color\": \"#FFA15A\"}, \"name\": \"Playing Cards\", \"offsetgroup\": \"Playing Cards\", \"orientation\": \"h\", \"showlegend\": true, \"text\": [1.11], \"textposition\": \"auto\", \"type\": \"bar\", \"x\": [1.11], \"xaxis\": \"x\", \"y\": [\"Playing Cards\"], \"yaxis\": \"y\"}, {\"alignmentgroup\": \"True\", \"hovertemplate\": \"Type of Game=%{y}<br>Percentage=%{text}<extra></extra>\", \"legendgroup\": \"Puzzles\", \"marker\": {\"color\": \"#19d3f3\"}, \"name\": \"Puzzles\", \"offsetgroup\": \"Puzzles\", \"orientation\": \"h\", \"showlegend\": true, \"text\": [0.86], \"textposition\": \"auto\", \"type\": \"bar\", \"x\": [0.86], \"xaxis\": \"x\", \"y\": [\"Puzzles\"], \"yaxis\": \"y\"}, {\"alignmentgroup\": \"True\", \"hovertemplate\": \"Type of Game=%{y}<br>Percentage=%{text}<extra></extra>\", \"legendgroup\": \"Gaming Hardware\", \"marker\": {\"color\": \"#FF6692\"}, \"name\": \"Gaming Hardware\", \"offsetgroup\": \"Gaming Hardware\", \"orientation\": \"h\", \"showlegend\": true, \"text\": [0.49], \"textposition\": \"auto\", \"type\": \"bar\", \"x\": [0.49], \"xaxis\": \"x\", \"y\": [\"Gaming Hardware\"], \"yaxis\": \"y\"}, {\"alignmentgroup\": \"True\", \"hovertemplate\": \"Type of Game=%{y}<br>Percentage=%{text}<extra></extra>\", \"legendgroup\": \"Live Games\", \"marker\": {\"color\": \"#B6E880\"}, \"name\": \"Live Games\", \"offsetgroup\": \"Live Games\", \"orientation\": \"h\", \"showlegend\": true, \"text\": [0.31], \"textposition\": \"auto\", \"type\": \"bar\", \"x\": [0.31], \"xaxis\": \"x\", \"y\": [\"Live Games\"], \"yaxis\": \"y\"}],\n",
       "                        {\"barmode\": \"relative\", \"legend\": {\"title\": {\"text\": \"Type of Game\"}, \"tracegroupgap\": 0}, \"showlegend\": false, \"template\": {\"data\": {\"bar\": [{\"error_x\": {\"color\": \"#2a3f5f\"}, \"error_y\": {\"color\": \"#2a3f5f\"}, \"marker\": {\"line\": {\"color\": \"#E5ECF6\", \"width\": 0.5}}, \"type\": \"bar\"}], \"barpolar\": [{\"marker\": {\"line\": {\"color\": \"#E5ECF6\", \"width\": 0.5}}, \"type\": \"barpolar\"}], \"carpet\": [{\"aaxis\": {\"endlinecolor\": \"#2a3f5f\", \"gridcolor\": \"white\", \"linecolor\": \"white\", \"minorgridcolor\": \"white\", \"startlinecolor\": \"#2a3f5f\"}, \"baxis\": {\"endlinecolor\": \"#2a3f5f\", \"gridcolor\": \"white\", \"linecolor\": \"white\", \"minorgridcolor\": \"white\", \"startlinecolor\": \"#2a3f5f\"}, \"type\": \"carpet\"}], \"choropleth\": [{\"colorbar\": {\"outlinewidth\": 0, \"ticks\": \"\"}, \"type\": \"choropleth\"}], \"contour\": [{\"colorbar\": {\"outlinewidth\": 0, \"ticks\": \"\"}, \"colorscale\": [[0.0, \"#0d0887\"], [0.1111111111111111, \"#46039f\"], [0.2222222222222222, \"#7201a8\"], [0.3333333333333333, \"#9c179e\"], [0.4444444444444444, \"#bd3786\"], [0.5555555555555556, \"#d8576b\"], [0.6666666666666666, \"#ed7953\"], [0.7777777777777778, \"#fb9f3a\"], [0.8888888888888888, \"#fdca26\"], [1.0, \"#f0f921\"]], \"type\": \"contour\"}], \"contourcarpet\": [{\"colorbar\": {\"outlinewidth\": 0, \"ticks\": \"\"}, \"type\": \"contourcarpet\"}], \"heatmap\": [{\"colorbar\": {\"outlinewidth\": 0, \"ticks\": \"\"}, \"colorscale\": [[0.0, \"#0d0887\"], [0.1111111111111111, \"#46039f\"], [0.2222222222222222, \"#7201a8\"], [0.3333333333333333, \"#9c179e\"], [0.4444444444444444, \"#bd3786\"], [0.5555555555555556, \"#d8576b\"], [0.6666666666666666, \"#ed7953\"], [0.7777777777777778, \"#fb9f3a\"], [0.8888888888888888, \"#fdca26\"], [1.0, \"#f0f921\"]], \"type\": \"heatmap\"}], \"heatmapgl\": [{\"colorbar\": {\"outlinewidth\": 0, \"ticks\": \"\"}, \"colorscale\": [[0.0, \"#0d0887\"], [0.1111111111111111, \"#46039f\"], [0.2222222222222222, \"#7201a8\"], [0.3333333333333333, \"#9c179e\"], [0.4444444444444444, \"#bd3786\"], [0.5555555555555556, \"#d8576b\"], [0.6666666666666666, \"#ed7953\"], [0.7777777777777778, \"#fb9f3a\"], [0.8888888888888888, \"#fdca26\"], [1.0, \"#f0f921\"]], \"type\": \"heatmapgl\"}], \"histogram\": [{\"marker\": {\"colorbar\": {\"outlinewidth\": 0, \"ticks\": \"\"}}, \"type\": \"histogram\"}], \"histogram2d\": [{\"colorbar\": {\"outlinewidth\": 0, \"ticks\": \"\"}, \"colorscale\": [[0.0, \"#0d0887\"], [0.1111111111111111, \"#46039f\"], [0.2222222222222222, \"#7201a8\"], [0.3333333333333333, \"#9c179e\"], [0.4444444444444444, \"#bd3786\"], [0.5555555555555556, \"#d8576b\"], [0.6666666666666666, \"#ed7953\"], [0.7777777777777778, \"#fb9f3a\"], [0.8888888888888888, \"#fdca26\"], [1.0, \"#f0f921\"]], \"type\": \"histogram2d\"}], \"histogram2dcontour\": [{\"colorbar\": {\"outlinewidth\": 0, \"ticks\": \"\"}, \"colorscale\": [[0.0, \"#0d0887\"], [0.1111111111111111, \"#46039f\"], [0.2222222222222222, \"#7201a8\"], [0.3333333333333333, \"#9c179e\"], [0.4444444444444444, \"#bd3786\"], [0.5555555555555556, \"#d8576b\"], [0.6666666666666666, \"#ed7953\"], [0.7777777777777778, \"#fb9f3a\"], [0.8888888888888888, \"#fdca26\"], [1.0, \"#f0f921\"]], \"type\": \"histogram2dcontour\"}], \"mesh3d\": [{\"colorbar\": {\"outlinewidth\": 0, \"ticks\": \"\"}, \"type\": \"mesh3d\"}], \"parcoords\": [{\"line\": {\"colorbar\": {\"outlinewidth\": 0, \"ticks\": \"\"}}, \"type\": \"parcoords\"}], \"pie\": [{\"automargin\": true, \"type\": \"pie\"}], \"scatter\": [{\"marker\": {\"colorbar\": {\"outlinewidth\": 0, \"ticks\": \"\"}}, \"type\": \"scatter\"}], \"scatter3d\": [{\"line\": {\"colorbar\": {\"outlinewidth\": 0, \"ticks\": \"\"}}, \"marker\": {\"colorbar\": {\"outlinewidth\": 0, \"ticks\": \"\"}}, \"type\": \"scatter3d\"}], \"scattercarpet\": [{\"marker\": {\"colorbar\": {\"outlinewidth\": 0, \"ticks\": \"\"}}, \"type\": \"scattercarpet\"}], \"scattergeo\": [{\"marker\": {\"colorbar\": {\"outlinewidth\": 0, \"ticks\": \"\"}}, \"type\": \"scattergeo\"}], \"scattergl\": [{\"marker\": {\"colorbar\": {\"outlinewidth\": 0, \"ticks\": \"\"}}, \"type\": \"scattergl\"}], \"scattermapbox\": [{\"marker\": {\"colorbar\": {\"outlinewidth\": 0, \"ticks\": \"\"}}, \"type\": \"scattermapbox\"}], \"scatterpolar\": [{\"marker\": {\"colorbar\": {\"outlinewidth\": 0, \"ticks\": \"\"}}, \"type\": \"scatterpolar\"}], \"scatterpolargl\": [{\"marker\": {\"colorbar\": {\"outlinewidth\": 0, \"ticks\": \"\"}}, \"type\": \"scatterpolargl\"}], \"scatterternary\": [{\"marker\": {\"colorbar\": {\"outlinewidth\": 0, \"ticks\": \"\"}}, \"type\": \"scatterternary\"}], \"surface\": [{\"colorbar\": {\"outlinewidth\": 0, \"ticks\": \"\"}, \"colorscale\": [[0.0, \"#0d0887\"], [0.1111111111111111, \"#46039f\"], [0.2222222222222222, \"#7201a8\"], [0.3333333333333333, \"#9c179e\"], [0.4444444444444444, \"#bd3786\"], [0.5555555555555556, \"#d8576b\"], [0.6666666666666666, \"#ed7953\"], [0.7777777777777778, \"#fb9f3a\"], [0.8888888888888888, \"#fdca26\"], [1.0, \"#f0f921\"]], \"type\": \"surface\"}], \"table\": [{\"cells\": {\"fill\": {\"color\": \"#EBF0F8\"}, \"line\": {\"color\": \"white\"}}, \"header\": {\"fill\": {\"color\": \"#C8D4E3\"}, \"line\": {\"color\": \"white\"}}, \"type\": \"table\"}]}, \"layout\": {\"annotationdefaults\": {\"arrowcolor\": \"#2a3f5f\", \"arrowhead\": 0, \"arrowwidth\": 1}, \"coloraxis\": {\"colorbar\": {\"outlinewidth\": 0, \"ticks\": \"\"}}, \"colorscale\": {\"diverging\": [[0, \"#8e0152\"], [0.1, \"#c51b7d\"], [0.2, \"#de77ae\"], [0.3, \"#f1b6da\"], [0.4, \"#fde0ef\"], [0.5, \"#f7f7f7\"], [0.6, \"#e6f5d0\"], [0.7, \"#b8e186\"], [0.8, \"#7fbc41\"], [0.9, \"#4d9221\"], [1, \"#276419\"]], \"sequential\": [[0.0, \"#0d0887\"], [0.1111111111111111, \"#46039f\"], [0.2222222222222222, \"#7201a8\"], [0.3333333333333333, \"#9c179e\"], [0.4444444444444444, \"#bd3786\"], [0.5555555555555556, \"#d8576b\"], [0.6666666666666666, \"#ed7953\"], [0.7777777777777778, \"#fb9f3a\"], [0.8888888888888888, \"#fdca26\"], [1.0, \"#f0f921\"]], \"sequentialminus\": [[0.0, \"#0d0887\"], [0.1111111111111111, \"#46039f\"], [0.2222222222222222, \"#7201a8\"], [0.3333333333333333, \"#9c179e\"], [0.4444444444444444, \"#bd3786\"], [0.5555555555555556, \"#d8576b\"], [0.6666666666666666, \"#ed7953\"], [0.7777777777777778, \"#fb9f3a\"], [0.8888888888888888, \"#fdca26\"], [1.0, \"#f0f921\"]]}, \"colorway\": [\"#636efa\", \"#EF553B\", \"#00cc96\", \"#ab63fa\", \"#FFA15A\", \"#19d3f3\", \"#FF6692\", \"#B6E880\", \"#FF97FF\", \"#FECB52\"], \"font\": {\"color\": \"#2a3f5f\"}, \"geo\": {\"bgcolor\": \"white\", \"lakecolor\": \"white\", \"landcolor\": \"#E5ECF6\", \"showlakes\": true, \"showland\": true, \"subunitcolor\": \"white\"}, \"hoverlabel\": {\"align\": \"left\"}, \"hovermode\": \"closest\", \"mapbox\": {\"style\": \"light\"}, \"paper_bgcolor\": \"white\", \"plot_bgcolor\": \"#E5ECF6\", \"polar\": {\"angularaxis\": {\"gridcolor\": \"white\", \"linecolor\": \"white\", \"ticks\": \"\"}, \"bgcolor\": \"#E5ECF6\", \"radialaxis\": {\"gridcolor\": \"white\", \"linecolor\": \"white\", \"ticks\": \"\"}}, \"scene\": {\"xaxis\": {\"backgroundcolor\": \"#E5ECF6\", \"gridcolor\": \"white\", \"gridwidth\": 2, \"linecolor\": \"white\", \"showbackground\": true, \"ticks\": \"\", \"zerolinecolor\": \"white\"}, \"yaxis\": {\"backgroundcolor\": \"#E5ECF6\", \"gridcolor\": \"white\", \"gridwidth\": 2, \"linecolor\": \"white\", \"showbackground\": true, \"ticks\": \"\", \"zerolinecolor\": \"white\"}, \"zaxis\": {\"backgroundcolor\": \"#E5ECF6\", \"gridcolor\": \"white\", \"gridwidth\": 2, \"linecolor\": \"white\", \"showbackground\": true, \"ticks\": \"\", \"zerolinecolor\": \"white\"}}, \"shapedefaults\": {\"line\": {\"color\": \"#2a3f5f\"}}, \"ternary\": {\"aaxis\": {\"gridcolor\": \"white\", \"linecolor\": \"white\", \"ticks\": \"\"}, \"baxis\": {\"gridcolor\": \"white\", \"linecolor\": \"white\", \"ticks\": \"\"}, \"bgcolor\": \"#E5ECF6\", \"caxis\": {\"gridcolor\": \"white\", \"linecolor\": \"white\", \"ticks\": \"\"}}, \"title\": {\"x\": 0.05}, \"xaxis\": {\"automargin\": true, \"gridcolor\": \"white\", \"linecolor\": \"white\", \"ticks\": \"\", \"title\": {\"standoff\": 15}, \"zerolinecolor\": \"white\", \"zerolinewidth\": 2}, \"yaxis\": {\"automargin\": true, \"gridcolor\": \"white\", \"linecolor\": \"white\", \"ticks\": \"\", \"title\": {\"standoff\": 15}, \"zerolinecolor\": \"white\", \"zerolinewidth\": 2}}}, \"title\": {\"text\": \"Types of Game Project on Kickstarter 06/2019 - 01/2020\"}, \"width\": 700, \"xaxis\": {\"anchor\": \"y\", \"domain\": [0.0, 1.0], \"title\": {\"text\": \"Percentage\"}}, \"yaxis\": {\"anchor\": \"x\", \"categoryarray\": [\"Live Games\", \"Gaming Hardware\", \"Puzzles\", \"Playing Cards\", \"Mobile Games\", \"Games\", \"Video Games\", \"Tabletop Games\"], \"categoryorder\": \"total ascending\", \"domain\": [0.0, 1.0], \"title\": {\"text\": \" \"}}},\n",
       "                        {\"responsive\": true}\n",
       "                    ).then(function(){\n",
       "                            \n",
       "var gd = document.getElementById('d3299bff-3aa6-43af-95d0-9b6de70cae5f');\n",
       "var x = new MutationObserver(function (mutations, observer) {{\n",
       "        var display = window.getComputedStyle(gd).display;\n",
       "        if (!display || display === 'none') {{\n",
       "            console.log([gd, 'removed!']);\n",
       "            Plotly.purge(gd);\n",
       "            observer.disconnect();\n",
       "        }}\n",
       "}});\n",
       "\n",
       "// Listen for the removal of the full notebook cells\n",
       "var notebookContainer = gd.closest('#notebook-container');\n",
       "if (notebookContainer) {{\n",
       "    x.observe(notebookContainer, {childList: true});\n",
       "}}\n",
       "\n",
       "// Listen for the clearing of the current output cell\n",
       "var outputEl = gd.closest('.output');\n",
       "if (outputEl) {{\n",
       "    x.observe(outputEl, {childList: true});\n",
       "}}\n",
       "\n",
       "                        })\n",
       "                };\n",
       "                });\n",
       "            </script>\n",
       "        </div>"
      ]
     },
     "metadata": {},
     "output_type": "display_data"
    }
   ],
   "source": [
    "#Calculate percentage of categories\n",
    "cat = (kc['Category_name'].value_counts()/kc['Category_name'].count())*100 \n",
    "cat = cat.round(2).to_frame().reset_index()\n",
    "\n",
    "#Plot categories\n",
    "cat.rename(columns={'index': 'Type of Game', 'Category_name': 'Percentage'}, inplace = True)\n",
    "fig = px.bar(cat, x= 'Percentage', y= 'Type of Game', \n",
    "             width=700, title = 'Types of Game Project on Kickstarter 06/2019 - 01/2020', \n",
    "             text = 'Percentage', color = 'Type of Game')\n",
    "fig.update_layout(yaxis_categoryorder = 'total ascending', \n",
    "                  showlegend = False,\n",
    "                 yaxis_title = ' ')\n",
    "iplot(fig)"
   ]
  },
  {
   "cell_type": "markdown",
   "metadata": {},
   "source": [
    "As I expected, Kickstarter is a famous funding website for Board Games! Almost 50% of the projects are Board Games. "
   ]
  },
  {
   "cell_type": "markdown",
   "metadata": {},
   "source": [
    "Next, let's see where these projects are from. Since the Country column is formatted in ISO 3166-1 alpha-2, and Plotly only supports ISO 3166-1 alpha-3 for its choropleth map, I'm going to transform Country column to the appropriate format!"
   ]
  },
  {
   "cell_type": "code",
   "execution_count": 14,
   "metadata": {},
   "outputs": [
    {
     "name": "stderr",
     "output_type": "stream",
     "text": [
      "/Users/chauchu/opt/anaconda3/lib/python3.7/site-packages/pandas/core/generic.py:6666: SettingWithCopyWarning:\n",
      "\n",
      "\n",
      "A value is trying to be set on a copy of a slice from a DataFrame.\n",
      "Try using .loc[row_indexer,col_indexer] = value instead\n",
      "\n",
      "See the caveats in the documentation: https://pandas.pydata.org/pandas-docs/stable/user_guide/indexing.html#returning-a-view-versus-a-copy\n",
      "\n"
     ]
    }
   ],
   "source": [
    "#dictionary of iso alpha2-3\n",
    "ISO_3166_2_to_3 = {'AF':'AFG','AX':'ALA',\n",
    "'AL':'ALB','DZ':'DZA','AS':'ASM','AD':'AND','AO':'AGO','AI':'AIA','AQ':'ATA',\n",
    "'AG':'ATG','AR':'ARG','AM':'ARM','AW':'ABW','AU':'AUS','AT':'AUT','AZ':'AZE','BS':'BHS','BH':'BHR','BD':'BGD',\n",
    "'BB':'BRB','BY':'BLR','BE':'BEL','BZ':'BLZ','BJ':'BEN','BM':'BMU','BT':'BTN','BO':'BOL','BA':'BIH','BW':'BWA',\n",
    "'BV':'BVT','BR':'BRA','IO':'IOT','BN':'BRN','BG':'BGR','BF':'BFA','BI':'BDI','KH':'KHM','CM':'CMR','CA':'CAN',\n",
    "'CV':'CPV','KY':'CYM','CF':'CAF','TD':'TCD','CL':'CHL','CN':'CHN','CX':'CXR','CC':'CCK','CO':'COL','KM':'COM',\n",
    "'CG':'COG','CD':'COD','CK':'COK','CR':'CRI','CI':'CIV','HR':'HRV','CU':'CUB','CY':'CYP','CZ':'CZE','DK':'DNK',\n",
    "'DJ':'DJI','DM':'DMA','DO':'DOM','EC':'ECU','EG':'EGY','SV':'SLV','GQ':'GNQ','ER':'ERI','EE':'EST','ET':'ETH',\n",
    "'FK':'FLK','FO':'FRO','FJ':'FJI','FI':'FIN','FR':'FRA','GF':'GUF','PF':'PYF','TF':'ATF','GA':'GAB','GM':'GMB',\n",
    "'GE':'GEO','DE':'DEU','GH':'GHA','GI':'GIB','GR':'GRC','GL':'GRL','GD':'GRD',\n",
    "'GP':'GLP','GU':'GUM','GT':'GTM','GG':'GGY','GN':'GIN','GW':'GNB','GY':'GUY','HT':'HTI','HM':'HMD','VA':'VAT',\n",
    "'HN':'HND','HK':'HKG','HU':'HUN','IS':'ISL','IN':'IND','ID':'IDN','IR':'IRN','IQ':'IRQ','IE':'IRL','IM':'IMN',\n",
    "'IL':'ISR','IT':'ITA','JM':'JAM','JP':'JPN','JE':'JEY','JO':'JOR','KZ':'KAZ','KE':'KEN','KI':'KIR','KP':'PRK',\n",
    "'KR':'KOR','KW':'KWT','KG':'KGZ','LA':'LAO','LV':'LVA','LB':'LBN','LS':'LSO','LR':'LBR','LY':'LBY','LI':'LIE',\n",
    "'LT':'LTU','LU':'LUX','MO':'MAC','MK':'MKD','MG':'MDG','MW':'MWI','MY':'MYS','MV':'MDV','ML':'MLI','MT':'MLT',\n",
    "'MH':'MHL','MQ':'MTQ','MR':'MRT','MU':'MUS','YT':'MYT','MX':'MEX','FM':'FSM','MD':'MDA','MC':'MCO','MN':'MNG',\n",
    "'ME':'MNE','MS':'MSR','MA':'MAR','MZ':'MOZ','MM':'MMR','NA':'NAM','NR':'NRU','NP':'NPL','NL':'NLD','AN':'ANT',\n",
    "'NC':'NCL','NZ':'NZL','NI':'NIC','NE':'NER','NG':'NGA','NU':'NIU','NF':'NFK','MP':'MNP','NO':'NOR','OM':'OMN',\n",
    "'PK':'PAK','PW':'PLW','PS':'PSE','PA':'PAN','PG':'PNG','PY':'PRY','PE':'PER','PH':'PHL','PN':'PCN','PL':'POL',\n",
    "'PT':'PRT','PR':'PRI','QA':'QAT','RE':'REU','RO':'ROU','RU':'RUS','RW':'RWA','BL':'BLM','SH':'SHN','KN':'KNA',\n",
    "'LC':'LCA','MF':'MAF','PM':'SPM','VC':'VCT','WS':'WSM','SM':'SMR','ST':'STP','SA':'SAU','SN':'SEN','RS':'SRB',\n",
    "'SC':'SYC','SL':'SLE','SG':'SGP','SK':'SVK','SI':'SVN','SB':'SLB','SO':'SOM','ZA':'ZAF','GS':'SGS','ES':'ESP',\n",
    "'LK':'LKA','SD':'SDN','SR':'SUR','SJ':'SJM','SZ':'SWZ','SE':'SWE','CH':'CHE','SY':'SYR','TW':'TWN','TJ':'TJK',\n",
    "'TZ':'TZA','TH':'THA','TL':'TLS','TG':'TGO','TK':'TKL','TO':'TON','TT':'TTO','TN':'TUN','TR':'TUR','TM':'TKM',\n",
    "'TC':'TCA','TV':'TUV','UG':'UGA','UA':'UKR','AE':'ARE','GB':'GBR','US':'USA','UM':'UMI','UY':'URY','UZ':'UZB',\n",
    "'VU':'VUT','VE':'VEN','VN':'VNM','VG':'VGB','VI':'VIR','WF':'WLF','EH':'ESH','YE':'YEM','ZM':'ZMB','ZW':'ZWE'\n",
    "}\n",
    "\n",
    "#Transform the column\n",
    "kc.replace({'Country':ISO_3166_2_to_3}, inplace=True)"
   ]
  },
  {
   "cell_type": "code",
   "execution_count": 15,
   "metadata": {},
   "outputs": [
    {
     "data": {
      "application/vnd.plotly.v1+json": {
       "config": {
        "linkText": "Export to plot.ly",
        "plotlyServerURL": "https://plot.ly",
        "showLink": false
       },
       "data": [
        {
         "coloraxis": "coloraxis",
         "geo": "geo",
         "hovertemplate": "index=%{location}<br>Country=%{z}<extra></extra>",
         "locations": [
          "USA",
          "GBR",
          "CAN",
          "DEU",
          "FRA",
          "AUS",
          "NLD",
          "ESP",
          "MEX",
          "NZL",
          "CHE",
          "ITA",
          "SWE",
          "IRL",
          "JPN",
          "BEL",
          "NOR",
          "SGP",
          "AUT"
         ],
         "name": "",
         "type": "choropleth",
         "z": [
          1331,
          107,
          48,
          25,
          24,
          23,
          12,
          8,
          7,
          7,
          7,
          6,
          6,
          3,
          3,
          2,
          2,
          1,
          1
         ]
        }
       ],
       "layout": {
        "coloraxis": {
         "colorbar": {
          "title": {
           "text": "Country"
          }
         },
         "colorscale": [
          [
           0,
           "#0d0887"
          ],
          [
           0.1111111111111111,
           "#46039f"
          ],
          [
           0.2222222222222222,
           "#7201a8"
          ],
          [
           0.3333333333333333,
           "#9c179e"
          ],
          [
           0.4444444444444444,
           "#bd3786"
          ],
          [
           0.5555555555555556,
           "#d8576b"
          ],
          [
           0.6666666666666666,
           "#ed7953"
          ],
          [
           0.7777777777777778,
           "#fb9f3a"
          ],
          [
           0.8888888888888888,
           "#fdca26"
          ],
          [
           1,
           "#f0f921"
          ]
         ]
        },
        "geo": {
         "domain": {
          "x": [
           0,
           1
          ],
          "y": [
           0,
           1
          ]
         }
        },
        "legend": {
         "tracegroupgap": 0
        },
        "template": {
         "data": {
          "bar": [
           {
            "error_x": {
             "color": "#2a3f5f"
            },
            "error_y": {
             "color": "#2a3f5f"
            },
            "marker": {
             "line": {
              "color": "#E5ECF6",
              "width": 0.5
             }
            },
            "type": "bar"
           }
          ],
          "barpolar": [
           {
            "marker": {
             "line": {
              "color": "#E5ECF6",
              "width": 0.5
             }
            },
            "type": "barpolar"
           }
          ],
          "carpet": [
           {
            "aaxis": {
             "endlinecolor": "#2a3f5f",
             "gridcolor": "white",
             "linecolor": "white",
             "minorgridcolor": "white",
             "startlinecolor": "#2a3f5f"
            },
            "baxis": {
             "endlinecolor": "#2a3f5f",
             "gridcolor": "white",
             "linecolor": "white",
             "minorgridcolor": "white",
             "startlinecolor": "#2a3f5f"
            },
            "type": "carpet"
           }
          ],
          "choropleth": [
           {
            "colorbar": {
             "outlinewidth": 0,
             "ticks": ""
            },
            "type": "choropleth"
           }
          ],
          "contour": [
           {
            "colorbar": {
             "outlinewidth": 0,
             "ticks": ""
            },
            "colorscale": [
             [
              0,
              "#0d0887"
             ],
             [
              0.1111111111111111,
              "#46039f"
             ],
             [
              0.2222222222222222,
              "#7201a8"
             ],
             [
              0.3333333333333333,
              "#9c179e"
             ],
             [
              0.4444444444444444,
              "#bd3786"
             ],
             [
              0.5555555555555556,
              "#d8576b"
             ],
             [
              0.6666666666666666,
              "#ed7953"
             ],
             [
              0.7777777777777778,
              "#fb9f3a"
             ],
             [
              0.8888888888888888,
              "#fdca26"
             ],
             [
              1,
              "#f0f921"
             ]
            ],
            "type": "contour"
           }
          ],
          "contourcarpet": [
           {
            "colorbar": {
             "outlinewidth": 0,
             "ticks": ""
            },
            "type": "contourcarpet"
           }
          ],
          "heatmap": [
           {
            "colorbar": {
             "outlinewidth": 0,
             "ticks": ""
            },
            "colorscale": [
             [
              0,
              "#0d0887"
             ],
             [
              0.1111111111111111,
              "#46039f"
             ],
             [
              0.2222222222222222,
              "#7201a8"
             ],
             [
              0.3333333333333333,
              "#9c179e"
             ],
             [
              0.4444444444444444,
              "#bd3786"
             ],
             [
              0.5555555555555556,
              "#d8576b"
             ],
             [
              0.6666666666666666,
              "#ed7953"
             ],
             [
              0.7777777777777778,
              "#fb9f3a"
             ],
             [
              0.8888888888888888,
              "#fdca26"
             ],
             [
              1,
              "#f0f921"
             ]
            ],
            "type": "heatmap"
           }
          ],
          "heatmapgl": [
           {
            "colorbar": {
             "outlinewidth": 0,
             "ticks": ""
            },
            "colorscale": [
             [
              0,
              "#0d0887"
             ],
             [
              0.1111111111111111,
              "#46039f"
             ],
             [
              0.2222222222222222,
              "#7201a8"
             ],
             [
              0.3333333333333333,
              "#9c179e"
             ],
             [
              0.4444444444444444,
              "#bd3786"
             ],
             [
              0.5555555555555556,
              "#d8576b"
             ],
             [
              0.6666666666666666,
              "#ed7953"
             ],
             [
              0.7777777777777778,
              "#fb9f3a"
             ],
             [
              0.8888888888888888,
              "#fdca26"
             ],
             [
              1,
              "#f0f921"
             ]
            ],
            "type": "heatmapgl"
           }
          ],
          "histogram": [
           {
            "marker": {
             "colorbar": {
              "outlinewidth": 0,
              "ticks": ""
             }
            },
            "type": "histogram"
           }
          ],
          "histogram2d": [
           {
            "colorbar": {
             "outlinewidth": 0,
             "ticks": ""
            },
            "colorscale": [
             [
              0,
              "#0d0887"
             ],
             [
              0.1111111111111111,
              "#46039f"
             ],
             [
              0.2222222222222222,
              "#7201a8"
             ],
             [
              0.3333333333333333,
              "#9c179e"
             ],
             [
              0.4444444444444444,
              "#bd3786"
             ],
             [
              0.5555555555555556,
              "#d8576b"
             ],
             [
              0.6666666666666666,
              "#ed7953"
             ],
             [
              0.7777777777777778,
              "#fb9f3a"
             ],
             [
              0.8888888888888888,
              "#fdca26"
             ],
             [
              1,
              "#f0f921"
             ]
            ],
            "type": "histogram2d"
           }
          ],
          "histogram2dcontour": [
           {
            "colorbar": {
             "outlinewidth": 0,
             "ticks": ""
            },
            "colorscale": [
             [
              0,
              "#0d0887"
             ],
             [
              0.1111111111111111,
              "#46039f"
             ],
             [
              0.2222222222222222,
              "#7201a8"
             ],
             [
              0.3333333333333333,
              "#9c179e"
             ],
             [
              0.4444444444444444,
              "#bd3786"
             ],
             [
              0.5555555555555556,
              "#d8576b"
             ],
             [
              0.6666666666666666,
              "#ed7953"
             ],
             [
              0.7777777777777778,
              "#fb9f3a"
             ],
             [
              0.8888888888888888,
              "#fdca26"
             ],
             [
              1,
              "#f0f921"
             ]
            ],
            "type": "histogram2dcontour"
           }
          ],
          "mesh3d": [
           {
            "colorbar": {
             "outlinewidth": 0,
             "ticks": ""
            },
            "type": "mesh3d"
           }
          ],
          "parcoords": [
           {
            "line": {
             "colorbar": {
              "outlinewidth": 0,
              "ticks": ""
             }
            },
            "type": "parcoords"
           }
          ],
          "pie": [
           {
            "automargin": true,
            "type": "pie"
           }
          ],
          "scatter": [
           {
            "marker": {
             "colorbar": {
              "outlinewidth": 0,
              "ticks": ""
             }
            },
            "type": "scatter"
           }
          ],
          "scatter3d": [
           {
            "line": {
             "colorbar": {
              "outlinewidth": 0,
              "ticks": ""
             }
            },
            "marker": {
             "colorbar": {
              "outlinewidth": 0,
              "ticks": ""
             }
            },
            "type": "scatter3d"
           }
          ],
          "scattercarpet": [
           {
            "marker": {
             "colorbar": {
              "outlinewidth": 0,
              "ticks": ""
             }
            },
            "type": "scattercarpet"
           }
          ],
          "scattergeo": [
           {
            "marker": {
             "colorbar": {
              "outlinewidth": 0,
              "ticks": ""
             }
            },
            "type": "scattergeo"
           }
          ],
          "scattergl": [
           {
            "marker": {
             "colorbar": {
              "outlinewidth": 0,
              "ticks": ""
             }
            },
            "type": "scattergl"
           }
          ],
          "scattermapbox": [
           {
            "marker": {
             "colorbar": {
              "outlinewidth": 0,
              "ticks": ""
             }
            },
            "type": "scattermapbox"
           }
          ],
          "scatterpolar": [
           {
            "marker": {
             "colorbar": {
              "outlinewidth": 0,
              "ticks": ""
             }
            },
            "type": "scatterpolar"
           }
          ],
          "scatterpolargl": [
           {
            "marker": {
             "colorbar": {
              "outlinewidth": 0,
              "ticks": ""
             }
            },
            "type": "scatterpolargl"
           }
          ],
          "scatterternary": [
           {
            "marker": {
             "colorbar": {
              "outlinewidth": 0,
              "ticks": ""
             }
            },
            "type": "scatterternary"
           }
          ],
          "surface": [
           {
            "colorbar": {
             "outlinewidth": 0,
             "ticks": ""
            },
            "colorscale": [
             [
              0,
              "#0d0887"
             ],
             [
              0.1111111111111111,
              "#46039f"
             ],
             [
              0.2222222222222222,
              "#7201a8"
             ],
             [
              0.3333333333333333,
              "#9c179e"
             ],
             [
              0.4444444444444444,
              "#bd3786"
             ],
             [
              0.5555555555555556,
              "#d8576b"
             ],
             [
              0.6666666666666666,
              "#ed7953"
             ],
             [
              0.7777777777777778,
              "#fb9f3a"
             ],
             [
              0.8888888888888888,
              "#fdca26"
             ],
             [
              1,
              "#f0f921"
             ]
            ],
            "type": "surface"
           }
          ],
          "table": [
           {
            "cells": {
             "fill": {
              "color": "#EBF0F8"
             },
             "line": {
              "color": "white"
             }
            },
            "header": {
             "fill": {
              "color": "#C8D4E3"
             },
             "line": {
              "color": "white"
             }
            },
            "type": "table"
           }
          ]
         },
         "layout": {
          "annotationdefaults": {
           "arrowcolor": "#2a3f5f",
           "arrowhead": 0,
           "arrowwidth": 1
          },
          "coloraxis": {
           "colorbar": {
            "outlinewidth": 0,
            "ticks": ""
           }
          },
          "colorscale": {
           "diverging": [
            [
             0,
             "#8e0152"
            ],
            [
             0.1,
             "#c51b7d"
            ],
            [
             0.2,
             "#de77ae"
            ],
            [
             0.3,
             "#f1b6da"
            ],
            [
             0.4,
             "#fde0ef"
            ],
            [
             0.5,
             "#f7f7f7"
            ],
            [
             0.6,
             "#e6f5d0"
            ],
            [
             0.7,
             "#b8e186"
            ],
            [
             0.8,
             "#7fbc41"
            ],
            [
             0.9,
             "#4d9221"
            ],
            [
             1,
             "#276419"
            ]
           ],
           "sequential": [
            [
             0,
             "#0d0887"
            ],
            [
             0.1111111111111111,
             "#46039f"
            ],
            [
             0.2222222222222222,
             "#7201a8"
            ],
            [
             0.3333333333333333,
             "#9c179e"
            ],
            [
             0.4444444444444444,
             "#bd3786"
            ],
            [
             0.5555555555555556,
             "#d8576b"
            ],
            [
             0.6666666666666666,
             "#ed7953"
            ],
            [
             0.7777777777777778,
             "#fb9f3a"
            ],
            [
             0.8888888888888888,
             "#fdca26"
            ],
            [
             1,
             "#f0f921"
            ]
           ],
           "sequentialminus": [
            [
             0,
             "#0d0887"
            ],
            [
             0.1111111111111111,
             "#46039f"
            ],
            [
             0.2222222222222222,
             "#7201a8"
            ],
            [
             0.3333333333333333,
             "#9c179e"
            ],
            [
             0.4444444444444444,
             "#bd3786"
            ],
            [
             0.5555555555555556,
             "#d8576b"
            ],
            [
             0.6666666666666666,
             "#ed7953"
            ],
            [
             0.7777777777777778,
             "#fb9f3a"
            ],
            [
             0.8888888888888888,
             "#fdca26"
            ],
            [
             1,
             "#f0f921"
            ]
           ]
          },
          "colorway": [
           "#636efa",
           "#EF553B",
           "#00cc96",
           "#ab63fa",
           "#FFA15A",
           "#19d3f3",
           "#FF6692",
           "#B6E880",
           "#FF97FF",
           "#FECB52"
          ],
          "font": {
           "color": "#2a3f5f"
          },
          "geo": {
           "bgcolor": "white",
           "lakecolor": "white",
           "landcolor": "#E5ECF6",
           "showlakes": true,
           "showland": true,
           "subunitcolor": "white"
          },
          "hoverlabel": {
           "align": "left"
          },
          "hovermode": "closest",
          "mapbox": {
           "style": "light"
          },
          "paper_bgcolor": "white",
          "plot_bgcolor": "#E5ECF6",
          "polar": {
           "angularaxis": {
            "gridcolor": "white",
            "linecolor": "white",
            "ticks": ""
           },
           "bgcolor": "#E5ECF6",
           "radialaxis": {
            "gridcolor": "white",
            "linecolor": "white",
            "ticks": ""
           }
          },
          "scene": {
           "xaxis": {
            "backgroundcolor": "#E5ECF6",
            "gridcolor": "white",
            "gridwidth": 2,
            "linecolor": "white",
            "showbackground": true,
            "ticks": "",
            "zerolinecolor": "white"
           },
           "yaxis": {
            "backgroundcolor": "#E5ECF6",
            "gridcolor": "white",
            "gridwidth": 2,
            "linecolor": "white",
            "showbackground": true,
            "ticks": "",
            "zerolinecolor": "white"
           },
           "zaxis": {
            "backgroundcolor": "#E5ECF6",
            "gridcolor": "white",
            "gridwidth": 2,
            "linecolor": "white",
            "showbackground": true,
            "ticks": "",
            "zerolinecolor": "white"
           }
          },
          "shapedefaults": {
           "line": {
            "color": "#2a3f5f"
           }
          },
          "ternary": {
           "aaxis": {
            "gridcolor": "white",
            "linecolor": "white",
            "ticks": ""
           },
           "baxis": {
            "gridcolor": "white",
            "linecolor": "white",
            "ticks": ""
           },
           "bgcolor": "#E5ECF6",
           "caxis": {
            "gridcolor": "white",
            "linecolor": "white",
            "ticks": ""
           }
          },
          "title": {
           "x": 0.05
          },
          "xaxis": {
           "automargin": true,
           "gridcolor": "white",
           "linecolor": "white",
           "ticks": "",
           "title": {
            "standoff": 15
           },
           "zerolinecolor": "white",
           "zerolinewidth": 2
          },
          "yaxis": {
           "automargin": true,
           "gridcolor": "white",
           "linecolor": "white",
           "ticks": "",
           "title": {
            "standoff": 15
           },
           "zerolinecolor": "white",
           "zerolinewidth": 2
          }
         }
        },
        "title": {
         "text": "Where are the Game Projects from?"
        }
       }
      },
      "text/html": [
       "<div>\n",
       "        \n",
       "        \n",
       "            <div id=\"785997d1-4c2e-4a61-9df9-6e200c996f05\" class=\"plotly-graph-div\" style=\"height:525px; width:100%;\"></div>\n",
       "            <script type=\"text/javascript\">\n",
       "                require([\"plotly\"], function(Plotly) {\n",
       "                    window.PLOTLYENV=window.PLOTLYENV || {};\n",
       "                    \n",
       "                if (document.getElementById(\"785997d1-4c2e-4a61-9df9-6e200c996f05\")) {\n",
       "                    Plotly.newPlot(\n",
       "                        '785997d1-4c2e-4a61-9df9-6e200c996f05',\n",
       "                        [{\"coloraxis\": \"coloraxis\", \"geo\": \"geo\", \"hovertemplate\": \"index=%{location}<br>Country=%{z}<extra></extra>\", \"locations\": [\"USA\", \"GBR\", \"CAN\", \"DEU\", \"FRA\", \"AUS\", \"NLD\", \"ESP\", \"MEX\", \"NZL\", \"CHE\", \"ITA\", \"SWE\", \"IRL\", \"JPN\", \"BEL\", \"NOR\", \"SGP\", \"AUT\"], \"name\": \"\", \"type\": \"choropleth\", \"z\": [1331, 107, 48, 25, 24, 23, 12, 8, 7, 7, 7, 6, 6, 3, 3, 2, 2, 1, 1]}],\n",
       "                        {\"coloraxis\": {\"colorbar\": {\"title\": {\"text\": \"Country\"}}, \"colorscale\": [[0.0, \"#0d0887\"], [0.1111111111111111, \"#46039f\"], [0.2222222222222222, \"#7201a8\"], [0.3333333333333333, \"#9c179e\"], [0.4444444444444444, \"#bd3786\"], [0.5555555555555556, \"#d8576b\"], [0.6666666666666666, \"#ed7953\"], [0.7777777777777778, \"#fb9f3a\"], [0.8888888888888888, \"#fdca26\"], [1.0, \"#f0f921\"]]}, \"geo\": {\"domain\": {\"x\": [0.0, 1.0], \"y\": [0.0, 1.0]}}, \"legend\": {\"tracegroupgap\": 0}, \"template\": {\"data\": {\"bar\": [{\"error_x\": {\"color\": \"#2a3f5f\"}, \"error_y\": {\"color\": \"#2a3f5f\"}, \"marker\": {\"line\": {\"color\": \"#E5ECF6\", \"width\": 0.5}}, \"type\": \"bar\"}], \"barpolar\": [{\"marker\": {\"line\": {\"color\": \"#E5ECF6\", \"width\": 0.5}}, \"type\": \"barpolar\"}], \"carpet\": [{\"aaxis\": {\"endlinecolor\": \"#2a3f5f\", \"gridcolor\": \"white\", \"linecolor\": \"white\", \"minorgridcolor\": \"white\", \"startlinecolor\": \"#2a3f5f\"}, \"baxis\": {\"endlinecolor\": \"#2a3f5f\", \"gridcolor\": \"white\", \"linecolor\": \"white\", \"minorgridcolor\": \"white\", \"startlinecolor\": \"#2a3f5f\"}, \"type\": \"carpet\"}], \"choropleth\": [{\"colorbar\": {\"outlinewidth\": 0, \"ticks\": \"\"}, \"type\": \"choropleth\"}], \"contour\": [{\"colorbar\": {\"outlinewidth\": 0, \"ticks\": \"\"}, \"colorscale\": [[0.0, \"#0d0887\"], [0.1111111111111111, \"#46039f\"], [0.2222222222222222, \"#7201a8\"], [0.3333333333333333, \"#9c179e\"], [0.4444444444444444, \"#bd3786\"], [0.5555555555555556, \"#d8576b\"], [0.6666666666666666, \"#ed7953\"], [0.7777777777777778, \"#fb9f3a\"], [0.8888888888888888, \"#fdca26\"], [1.0, \"#f0f921\"]], \"type\": \"contour\"}], \"contourcarpet\": [{\"colorbar\": {\"outlinewidth\": 0, \"ticks\": \"\"}, \"type\": \"contourcarpet\"}], \"heatmap\": [{\"colorbar\": {\"outlinewidth\": 0, \"ticks\": \"\"}, \"colorscale\": [[0.0, \"#0d0887\"], [0.1111111111111111, \"#46039f\"], [0.2222222222222222, \"#7201a8\"], [0.3333333333333333, \"#9c179e\"], [0.4444444444444444, \"#bd3786\"], [0.5555555555555556, \"#d8576b\"], [0.6666666666666666, \"#ed7953\"], [0.7777777777777778, \"#fb9f3a\"], [0.8888888888888888, \"#fdca26\"], [1.0, \"#f0f921\"]], \"type\": \"heatmap\"}], \"heatmapgl\": [{\"colorbar\": {\"outlinewidth\": 0, \"ticks\": \"\"}, \"colorscale\": [[0.0, \"#0d0887\"], [0.1111111111111111, \"#46039f\"], [0.2222222222222222, \"#7201a8\"], [0.3333333333333333, \"#9c179e\"], [0.4444444444444444, \"#bd3786\"], [0.5555555555555556, \"#d8576b\"], [0.6666666666666666, \"#ed7953\"], [0.7777777777777778, \"#fb9f3a\"], [0.8888888888888888, \"#fdca26\"], [1.0, \"#f0f921\"]], \"type\": \"heatmapgl\"}], \"histogram\": [{\"marker\": {\"colorbar\": {\"outlinewidth\": 0, \"ticks\": \"\"}}, \"type\": \"histogram\"}], \"histogram2d\": [{\"colorbar\": {\"outlinewidth\": 0, \"ticks\": \"\"}, \"colorscale\": [[0.0, \"#0d0887\"], [0.1111111111111111, \"#46039f\"], [0.2222222222222222, \"#7201a8\"], [0.3333333333333333, \"#9c179e\"], [0.4444444444444444, \"#bd3786\"], [0.5555555555555556, \"#d8576b\"], [0.6666666666666666, \"#ed7953\"], [0.7777777777777778, \"#fb9f3a\"], [0.8888888888888888, \"#fdca26\"], [1.0, \"#f0f921\"]], \"type\": \"histogram2d\"}], \"histogram2dcontour\": [{\"colorbar\": {\"outlinewidth\": 0, \"ticks\": \"\"}, \"colorscale\": [[0.0, \"#0d0887\"], [0.1111111111111111, \"#46039f\"], [0.2222222222222222, \"#7201a8\"], [0.3333333333333333, \"#9c179e\"], [0.4444444444444444, \"#bd3786\"], [0.5555555555555556, \"#d8576b\"], [0.6666666666666666, \"#ed7953\"], [0.7777777777777778, \"#fb9f3a\"], [0.8888888888888888, \"#fdca26\"], [1.0, \"#f0f921\"]], \"type\": \"histogram2dcontour\"}], \"mesh3d\": [{\"colorbar\": {\"outlinewidth\": 0, \"ticks\": \"\"}, \"type\": \"mesh3d\"}], \"parcoords\": [{\"line\": {\"colorbar\": {\"outlinewidth\": 0, \"ticks\": \"\"}}, \"type\": \"parcoords\"}], \"pie\": [{\"automargin\": true, \"type\": \"pie\"}], \"scatter\": [{\"marker\": {\"colorbar\": {\"outlinewidth\": 0, \"ticks\": \"\"}}, \"type\": \"scatter\"}], \"scatter3d\": [{\"line\": {\"colorbar\": {\"outlinewidth\": 0, \"ticks\": \"\"}}, \"marker\": {\"colorbar\": {\"outlinewidth\": 0, \"ticks\": \"\"}}, \"type\": \"scatter3d\"}], \"scattercarpet\": [{\"marker\": {\"colorbar\": {\"outlinewidth\": 0, \"ticks\": \"\"}}, \"type\": \"scattercarpet\"}], \"scattergeo\": [{\"marker\": {\"colorbar\": {\"outlinewidth\": 0, \"ticks\": \"\"}}, \"type\": \"scattergeo\"}], \"scattergl\": [{\"marker\": {\"colorbar\": {\"outlinewidth\": 0, \"ticks\": \"\"}}, \"type\": \"scattergl\"}], \"scattermapbox\": [{\"marker\": {\"colorbar\": {\"outlinewidth\": 0, \"ticks\": \"\"}}, \"type\": \"scattermapbox\"}], \"scatterpolar\": [{\"marker\": {\"colorbar\": {\"outlinewidth\": 0, \"ticks\": \"\"}}, \"type\": \"scatterpolar\"}], \"scatterpolargl\": [{\"marker\": {\"colorbar\": {\"outlinewidth\": 0, \"ticks\": \"\"}}, \"type\": \"scatterpolargl\"}], \"scatterternary\": [{\"marker\": {\"colorbar\": {\"outlinewidth\": 0, \"ticks\": \"\"}}, \"type\": \"scatterternary\"}], \"surface\": [{\"colorbar\": {\"outlinewidth\": 0, \"ticks\": \"\"}, \"colorscale\": [[0.0, \"#0d0887\"], [0.1111111111111111, \"#46039f\"], [0.2222222222222222, \"#7201a8\"], [0.3333333333333333, \"#9c179e\"], [0.4444444444444444, \"#bd3786\"], [0.5555555555555556, \"#d8576b\"], [0.6666666666666666, \"#ed7953\"], [0.7777777777777778, \"#fb9f3a\"], [0.8888888888888888, \"#fdca26\"], [1.0, \"#f0f921\"]], \"type\": \"surface\"}], \"table\": [{\"cells\": {\"fill\": {\"color\": \"#EBF0F8\"}, \"line\": {\"color\": \"white\"}}, \"header\": {\"fill\": {\"color\": \"#C8D4E3\"}, \"line\": {\"color\": \"white\"}}, \"type\": \"table\"}]}, \"layout\": {\"annotationdefaults\": {\"arrowcolor\": \"#2a3f5f\", \"arrowhead\": 0, \"arrowwidth\": 1}, \"coloraxis\": {\"colorbar\": {\"outlinewidth\": 0, \"ticks\": \"\"}}, \"colorscale\": {\"diverging\": [[0, \"#8e0152\"], [0.1, \"#c51b7d\"], [0.2, \"#de77ae\"], [0.3, \"#f1b6da\"], [0.4, \"#fde0ef\"], [0.5, \"#f7f7f7\"], [0.6, \"#e6f5d0\"], [0.7, \"#b8e186\"], [0.8, \"#7fbc41\"], [0.9, \"#4d9221\"], [1, \"#276419\"]], \"sequential\": [[0.0, \"#0d0887\"], [0.1111111111111111, \"#46039f\"], [0.2222222222222222, \"#7201a8\"], [0.3333333333333333, \"#9c179e\"], [0.4444444444444444, \"#bd3786\"], [0.5555555555555556, \"#d8576b\"], [0.6666666666666666, \"#ed7953\"], [0.7777777777777778, \"#fb9f3a\"], [0.8888888888888888, \"#fdca26\"], [1.0, \"#f0f921\"]], \"sequentialminus\": [[0.0, \"#0d0887\"], [0.1111111111111111, \"#46039f\"], [0.2222222222222222, \"#7201a8\"], [0.3333333333333333, \"#9c179e\"], [0.4444444444444444, \"#bd3786\"], [0.5555555555555556, \"#d8576b\"], [0.6666666666666666, \"#ed7953\"], [0.7777777777777778, \"#fb9f3a\"], [0.8888888888888888, \"#fdca26\"], [1.0, \"#f0f921\"]]}, \"colorway\": [\"#636efa\", \"#EF553B\", \"#00cc96\", \"#ab63fa\", \"#FFA15A\", \"#19d3f3\", \"#FF6692\", \"#B6E880\", \"#FF97FF\", \"#FECB52\"], \"font\": {\"color\": \"#2a3f5f\"}, \"geo\": {\"bgcolor\": \"white\", \"lakecolor\": \"white\", \"landcolor\": \"#E5ECF6\", \"showlakes\": true, \"showland\": true, \"subunitcolor\": \"white\"}, \"hoverlabel\": {\"align\": \"left\"}, \"hovermode\": \"closest\", \"mapbox\": {\"style\": \"light\"}, \"paper_bgcolor\": \"white\", \"plot_bgcolor\": \"#E5ECF6\", \"polar\": {\"angularaxis\": {\"gridcolor\": \"white\", \"linecolor\": \"white\", \"ticks\": \"\"}, \"bgcolor\": \"#E5ECF6\", \"radialaxis\": {\"gridcolor\": \"white\", \"linecolor\": \"white\", \"ticks\": \"\"}}, \"scene\": {\"xaxis\": {\"backgroundcolor\": \"#E5ECF6\", \"gridcolor\": \"white\", \"gridwidth\": 2, \"linecolor\": \"white\", \"showbackground\": true, \"ticks\": \"\", \"zerolinecolor\": \"white\"}, \"yaxis\": {\"backgroundcolor\": \"#E5ECF6\", \"gridcolor\": \"white\", \"gridwidth\": 2, \"linecolor\": \"white\", \"showbackground\": true, \"ticks\": \"\", \"zerolinecolor\": \"white\"}, \"zaxis\": {\"backgroundcolor\": \"#E5ECF6\", \"gridcolor\": \"white\", \"gridwidth\": 2, \"linecolor\": \"white\", \"showbackground\": true, \"ticks\": \"\", \"zerolinecolor\": \"white\"}}, \"shapedefaults\": {\"line\": {\"color\": \"#2a3f5f\"}}, \"ternary\": {\"aaxis\": {\"gridcolor\": \"white\", \"linecolor\": \"white\", \"ticks\": \"\"}, \"baxis\": {\"gridcolor\": \"white\", \"linecolor\": \"white\", \"ticks\": \"\"}, \"bgcolor\": \"#E5ECF6\", \"caxis\": {\"gridcolor\": \"white\", \"linecolor\": \"white\", \"ticks\": \"\"}}, \"title\": {\"x\": 0.05}, \"xaxis\": {\"automargin\": true, \"gridcolor\": \"white\", \"linecolor\": \"white\", \"ticks\": \"\", \"title\": {\"standoff\": 15}, \"zerolinecolor\": \"white\", \"zerolinewidth\": 2}, \"yaxis\": {\"automargin\": true, \"gridcolor\": \"white\", \"linecolor\": \"white\", \"ticks\": \"\", \"title\": {\"standoff\": 15}, \"zerolinecolor\": \"white\", \"zerolinewidth\": 2}}}, \"title\": {\"text\": \"Where are the Game Projects from?\"}},\n",
       "                        {\"responsive\": true}\n",
       "                    ).then(function(){\n",
       "                            \n",
       "var gd = document.getElementById('785997d1-4c2e-4a61-9df9-6e200c996f05');\n",
       "var x = new MutationObserver(function (mutations, observer) {{\n",
       "        var display = window.getComputedStyle(gd).display;\n",
       "        if (!display || display === 'none') {{\n",
       "            console.log([gd, 'removed!']);\n",
       "            Plotly.purge(gd);\n",
       "            observer.disconnect();\n",
       "        }}\n",
       "}});\n",
       "\n",
       "// Listen for the removal of the full notebook cells\n",
       "var notebookContainer = gd.closest('#notebook-container');\n",
       "if (notebookContainer) {{\n",
       "    x.observe(notebookContainer, {childList: true});\n",
       "}}\n",
       "\n",
       "// Listen for the clearing of the current output cell\n",
       "var outputEl = gd.closest('.output');\n",
       "if (outputEl) {{\n",
       "    x.observe(outputEl, {childList: true});\n",
       "}}\n",
       "\n",
       "                        })\n",
       "                };\n",
       "                });\n",
       "            </script>\n",
       "        </div>"
      ]
     },
     "metadata": {},
     "output_type": "display_data"
    }
   ],
   "source": [
    "#Plot the data\n",
    "country = kc['Country'].value_counts().to_frame().reset_index()\n",
    "\n",
    "fig = px.choropleth(country, locations='index',\n",
    "                    color='Country', title = 'Where are the Game Projects from?',\n",
    "                    color_continuous_scale=px.colors.sequential.Plasma)\n",
    "iplot(fig)"
   ]
  },
  {
   "cell_type": "markdown",
   "metadata": {},
   "source": [
    "Most of the projects came from North American countries, and European countries. The U.S. leads with the most projects. Next to it is Canada. There are also some projects come from Japan, New Zealand and Australia!"
   ]
  },
  {
   "cell_type": "markdown",
   "metadata": {},
   "source": [
    "How many of those projects are successful?"
   ]
  },
  {
   "cell_type": "code",
   "execution_count": 16,
   "metadata": {},
   "outputs": [
    {
     "data": {
      "application/vnd.plotly.v1+json": {
       "config": {
        "linkText": "Export to plot.ly",
        "plotlyServerURL": "https://plot.ly",
        "showLink": false
       },
       "data": [
        {
         "domain": {
          "x": [
           0,
           1
          ],
          "y": [
           0,
           1
          ]
         },
         "hole": 0.3,
         "hovertemplate": "Successed=%{label}<br>Total=%{value}<extra></extra>",
         "labels": [
          "Successed",
          "Failed"
         ],
         "legendgroup": "",
         "name": "",
         "showlegend": true,
         "type": "pie",
         "values": [
          1616,
          7
         ]
        }
       ],
       "layout": {
        "legend": {
         "tracegroupgap": 0
        },
        "margin": {
         "t": 60
        },
        "template": {
         "data": {
          "bar": [
           {
            "error_x": {
             "color": "#2a3f5f"
            },
            "error_y": {
             "color": "#2a3f5f"
            },
            "marker": {
             "line": {
              "color": "#E5ECF6",
              "width": 0.5
             }
            },
            "type": "bar"
           }
          ],
          "barpolar": [
           {
            "marker": {
             "line": {
              "color": "#E5ECF6",
              "width": 0.5
             }
            },
            "type": "barpolar"
           }
          ],
          "carpet": [
           {
            "aaxis": {
             "endlinecolor": "#2a3f5f",
             "gridcolor": "white",
             "linecolor": "white",
             "minorgridcolor": "white",
             "startlinecolor": "#2a3f5f"
            },
            "baxis": {
             "endlinecolor": "#2a3f5f",
             "gridcolor": "white",
             "linecolor": "white",
             "minorgridcolor": "white",
             "startlinecolor": "#2a3f5f"
            },
            "type": "carpet"
           }
          ],
          "choropleth": [
           {
            "colorbar": {
             "outlinewidth": 0,
             "ticks": ""
            },
            "type": "choropleth"
           }
          ],
          "contour": [
           {
            "colorbar": {
             "outlinewidth": 0,
             "ticks": ""
            },
            "colorscale": [
             [
              0,
              "#0d0887"
             ],
             [
              0.1111111111111111,
              "#46039f"
             ],
             [
              0.2222222222222222,
              "#7201a8"
             ],
             [
              0.3333333333333333,
              "#9c179e"
             ],
             [
              0.4444444444444444,
              "#bd3786"
             ],
             [
              0.5555555555555556,
              "#d8576b"
             ],
             [
              0.6666666666666666,
              "#ed7953"
             ],
             [
              0.7777777777777778,
              "#fb9f3a"
             ],
             [
              0.8888888888888888,
              "#fdca26"
             ],
             [
              1,
              "#f0f921"
             ]
            ],
            "type": "contour"
           }
          ],
          "contourcarpet": [
           {
            "colorbar": {
             "outlinewidth": 0,
             "ticks": ""
            },
            "type": "contourcarpet"
           }
          ],
          "heatmap": [
           {
            "colorbar": {
             "outlinewidth": 0,
             "ticks": ""
            },
            "colorscale": [
             [
              0,
              "#0d0887"
             ],
             [
              0.1111111111111111,
              "#46039f"
             ],
             [
              0.2222222222222222,
              "#7201a8"
             ],
             [
              0.3333333333333333,
              "#9c179e"
             ],
             [
              0.4444444444444444,
              "#bd3786"
             ],
             [
              0.5555555555555556,
              "#d8576b"
             ],
             [
              0.6666666666666666,
              "#ed7953"
             ],
             [
              0.7777777777777778,
              "#fb9f3a"
             ],
             [
              0.8888888888888888,
              "#fdca26"
             ],
             [
              1,
              "#f0f921"
             ]
            ],
            "type": "heatmap"
           }
          ],
          "heatmapgl": [
           {
            "colorbar": {
             "outlinewidth": 0,
             "ticks": ""
            },
            "colorscale": [
             [
              0,
              "#0d0887"
             ],
             [
              0.1111111111111111,
              "#46039f"
             ],
             [
              0.2222222222222222,
              "#7201a8"
             ],
             [
              0.3333333333333333,
              "#9c179e"
             ],
             [
              0.4444444444444444,
              "#bd3786"
             ],
             [
              0.5555555555555556,
              "#d8576b"
             ],
             [
              0.6666666666666666,
              "#ed7953"
             ],
             [
              0.7777777777777778,
              "#fb9f3a"
             ],
             [
              0.8888888888888888,
              "#fdca26"
             ],
             [
              1,
              "#f0f921"
             ]
            ],
            "type": "heatmapgl"
           }
          ],
          "histogram": [
           {
            "marker": {
             "colorbar": {
              "outlinewidth": 0,
              "ticks": ""
             }
            },
            "type": "histogram"
           }
          ],
          "histogram2d": [
           {
            "colorbar": {
             "outlinewidth": 0,
             "ticks": ""
            },
            "colorscale": [
             [
              0,
              "#0d0887"
             ],
             [
              0.1111111111111111,
              "#46039f"
             ],
             [
              0.2222222222222222,
              "#7201a8"
             ],
             [
              0.3333333333333333,
              "#9c179e"
             ],
             [
              0.4444444444444444,
              "#bd3786"
             ],
             [
              0.5555555555555556,
              "#d8576b"
             ],
             [
              0.6666666666666666,
              "#ed7953"
             ],
             [
              0.7777777777777778,
              "#fb9f3a"
             ],
             [
              0.8888888888888888,
              "#fdca26"
             ],
             [
              1,
              "#f0f921"
             ]
            ],
            "type": "histogram2d"
           }
          ],
          "histogram2dcontour": [
           {
            "colorbar": {
             "outlinewidth": 0,
             "ticks": ""
            },
            "colorscale": [
             [
              0,
              "#0d0887"
             ],
             [
              0.1111111111111111,
              "#46039f"
             ],
             [
              0.2222222222222222,
              "#7201a8"
             ],
             [
              0.3333333333333333,
              "#9c179e"
             ],
             [
              0.4444444444444444,
              "#bd3786"
             ],
             [
              0.5555555555555556,
              "#d8576b"
             ],
             [
              0.6666666666666666,
              "#ed7953"
             ],
             [
              0.7777777777777778,
              "#fb9f3a"
             ],
             [
              0.8888888888888888,
              "#fdca26"
             ],
             [
              1,
              "#f0f921"
             ]
            ],
            "type": "histogram2dcontour"
           }
          ],
          "mesh3d": [
           {
            "colorbar": {
             "outlinewidth": 0,
             "ticks": ""
            },
            "type": "mesh3d"
           }
          ],
          "parcoords": [
           {
            "line": {
             "colorbar": {
              "outlinewidth": 0,
              "ticks": ""
             }
            },
            "type": "parcoords"
           }
          ],
          "pie": [
           {
            "automargin": true,
            "type": "pie"
           }
          ],
          "scatter": [
           {
            "marker": {
             "colorbar": {
              "outlinewidth": 0,
              "ticks": ""
             }
            },
            "type": "scatter"
           }
          ],
          "scatter3d": [
           {
            "line": {
             "colorbar": {
              "outlinewidth": 0,
              "ticks": ""
             }
            },
            "marker": {
             "colorbar": {
              "outlinewidth": 0,
              "ticks": ""
             }
            },
            "type": "scatter3d"
           }
          ],
          "scattercarpet": [
           {
            "marker": {
             "colorbar": {
              "outlinewidth": 0,
              "ticks": ""
             }
            },
            "type": "scattercarpet"
           }
          ],
          "scattergeo": [
           {
            "marker": {
             "colorbar": {
              "outlinewidth": 0,
              "ticks": ""
             }
            },
            "type": "scattergeo"
           }
          ],
          "scattergl": [
           {
            "marker": {
             "colorbar": {
              "outlinewidth": 0,
              "ticks": ""
             }
            },
            "type": "scattergl"
           }
          ],
          "scattermapbox": [
           {
            "marker": {
             "colorbar": {
              "outlinewidth": 0,
              "ticks": ""
             }
            },
            "type": "scattermapbox"
           }
          ],
          "scatterpolar": [
           {
            "marker": {
             "colorbar": {
              "outlinewidth": 0,
              "ticks": ""
             }
            },
            "type": "scatterpolar"
           }
          ],
          "scatterpolargl": [
           {
            "marker": {
             "colorbar": {
              "outlinewidth": 0,
              "ticks": ""
             }
            },
            "type": "scatterpolargl"
           }
          ],
          "scatterternary": [
           {
            "marker": {
             "colorbar": {
              "outlinewidth": 0,
              "ticks": ""
             }
            },
            "type": "scatterternary"
           }
          ],
          "surface": [
           {
            "colorbar": {
             "outlinewidth": 0,
             "ticks": ""
            },
            "colorscale": [
             [
              0,
              "#0d0887"
             ],
             [
              0.1111111111111111,
              "#46039f"
             ],
             [
              0.2222222222222222,
              "#7201a8"
             ],
             [
              0.3333333333333333,
              "#9c179e"
             ],
             [
              0.4444444444444444,
              "#bd3786"
             ],
             [
              0.5555555555555556,
              "#d8576b"
             ],
             [
              0.6666666666666666,
              "#ed7953"
             ],
             [
              0.7777777777777778,
              "#fb9f3a"
             ],
             [
              0.8888888888888888,
              "#fdca26"
             ],
             [
              1,
              "#f0f921"
             ]
            ],
            "type": "surface"
           }
          ],
          "table": [
           {
            "cells": {
             "fill": {
              "color": "#EBF0F8"
             },
             "line": {
              "color": "white"
             }
            },
            "header": {
             "fill": {
              "color": "#C8D4E3"
             },
             "line": {
              "color": "white"
             }
            },
            "type": "table"
           }
          ]
         },
         "layout": {
          "annotationdefaults": {
           "arrowcolor": "#2a3f5f",
           "arrowhead": 0,
           "arrowwidth": 1
          },
          "coloraxis": {
           "colorbar": {
            "outlinewidth": 0,
            "ticks": ""
           }
          },
          "colorscale": {
           "diverging": [
            [
             0,
             "#8e0152"
            ],
            [
             0.1,
             "#c51b7d"
            ],
            [
             0.2,
             "#de77ae"
            ],
            [
             0.3,
             "#f1b6da"
            ],
            [
             0.4,
             "#fde0ef"
            ],
            [
             0.5,
             "#f7f7f7"
            ],
            [
             0.6,
             "#e6f5d0"
            ],
            [
             0.7,
             "#b8e186"
            ],
            [
             0.8,
             "#7fbc41"
            ],
            [
             0.9,
             "#4d9221"
            ],
            [
             1,
             "#276419"
            ]
           ],
           "sequential": [
            [
             0,
             "#0d0887"
            ],
            [
             0.1111111111111111,
             "#46039f"
            ],
            [
             0.2222222222222222,
             "#7201a8"
            ],
            [
             0.3333333333333333,
             "#9c179e"
            ],
            [
             0.4444444444444444,
             "#bd3786"
            ],
            [
             0.5555555555555556,
             "#d8576b"
            ],
            [
             0.6666666666666666,
             "#ed7953"
            ],
            [
             0.7777777777777778,
             "#fb9f3a"
            ],
            [
             0.8888888888888888,
             "#fdca26"
            ],
            [
             1,
             "#f0f921"
            ]
           ],
           "sequentialminus": [
            [
             0,
             "#0d0887"
            ],
            [
             0.1111111111111111,
             "#46039f"
            ],
            [
             0.2222222222222222,
             "#7201a8"
            ],
            [
             0.3333333333333333,
             "#9c179e"
            ],
            [
             0.4444444444444444,
             "#bd3786"
            ],
            [
             0.5555555555555556,
             "#d8576b"
            ],
            [
             0.6666666666666666,
             "#ed7953"
            ],
            [
             0.7777777777777778,
             "#fb9f3a"
            ],
            [
             0.8888888888888888,
             "#fdca26"
            ],
            [
             1,
             "#f0f921"
            ]
           ]
          },
          "colorway": [
           "#636efa",
           "#EF553B",
           "#00cc96",
           "#ab63fa",
           "#FFA15A",
           "#19d3f3",
           "#FF6692",
           "#B6E880",
           "#FF97FF",
           "#FECB52"
          ],
          "font": {
           "color": "#2a3f5f"
          },
          "geo": {
           "bgcolor": "white",
           "lakecolor": "white",
           "landcolor": "#E5ECF6",
           "showlakes": true,
           "showland": true,
           "subunitcolor": "white"
          },
          "hoverlabel": {
           "align": "left"
          },
          "hovermode": "closest",
          "mapbox": {
           "style": "light"
          },
          "paper_bgcolor": "white",
          "plot_bgcolor": "#E5ECF6",
          "polar": {
           "angularaxis": {
            "gridcolor": "white",
            "linecolor": "white",
            "ticks": ""
           },
           "bgcolor": "#E5ECF6",
           "radialaxis": {
            "gridcolor": "white",
            "linecolor": "white",
            "ticks": ""
           }
          },
          "scene": {
           "xaxis": {
            "backgroundcolor": "#E5ECF6",
            "gridcolor": "white",
            "gridwidth": 2,
            "linecolor": "white",
            "showbackground": true,
            "ticks": "",
            "zerolinecolor": "white"
           },
           "yaxis": {
            "backgroundcolor": "#E5ECF6",
            "gridcolor": "white",
            "gridwidth": 2,
            "linecolor": "white",
            "showbackground": true,
            "ticks": "",
            "zerolinecolor": "white"
           },
           "zaxis": {
            "backgroundcolor": "#E5ECF6",
            "gridcolor": "white",
            "gridwidth": 2,
            "linecolor": "white",
            "showbackground": true,
            "ticks": "",
            "zerolinecolor": "white"
           }
          },
          "shapedefaults": {
           "line": {
            "color": "#2a3f5f"
           }
          },
          "ternary": {
           "aaxis": {
            "gridcolor": "white",
            "linecolor": "white",
            "ticks": ""
           },
           "baxis": {
            "gridcolor": "white",
            "linecolor": "white",
            "ticks": ""
           },
           "bgcolor": "#E5ECF6",
           "caxis": {
            "gridcolor": "white",
            "linecolor": "white",
            "ticks": ""
           }
          },
          "title": {
           "x": 0.05
          },
          "xaxis": {
           "automargin": true,
           "gridcolor": "white",
           "linecolor": "white",
           "ticks": "",
           "title": {
            "standoff": 15
           },
           "zerolinecolor": "white",
           "zerolinewidth": 2
          },
          "yaxis": {
           "automargin": true,
           "gridcolor": "white",
           "linecolor": "white",
           "ticks": "",
           "title": {
            "standoff": 15
           },
           "zerolinecolor": "white",
           "zerolinewidth": 2
          }
         }
        },
        "title": {
         "text": "How Many of the Projects Became Successful?",
         "x": 0.3
        }
       }
      },
      "text/html": [
       "<div>\n",
       "        \n",
       "        \n",
       "            <div id=\"0a2c25cc-4637-490e-80f4-272c52d66fef\" class=\"plotly-graph-div\" style=\"height:525px; width:100%;\"></div>\n",
       "            <script type=\"text/javascript\">\n",
       "                require([\"plotly\"], function(Plotly) {\n",
       "                    window.PLOTLYENV=window.PLOTLYENV || {};\n",
       "                    \n",
       "                if (document.getElementById(\"0a2c25cc-4637-490e-80f4-272c52d66fef\")) {\n",
       "                    Plotly.newPlot(\n",
       "                        '0a2c25cc-4637-490e-80f4-272c52d66fef',\n",
       "                        [{\"domain\": {\"x\": [0.0, 1.0], \"y\": [0.0, 1.0]}, \"hole\": 0.3, \"hovertemplate\": \"Successed=%{label}<br>Total=%{value}<extra></extra>\", \"labels\": [\"Successed\", \"Failed\"], \"legendgroup\": \"\", \"name\": \"\", \"showlegend\": true, \"type\": \"pie\", \"values\": [1616, 7]}],\n",
       "                        {\"legend\": {\"tracegroupgap\": 0}, \"margin\": {\"t\": 60}, \"template\": {\"data\": {\"bar\": [{\"error_x\": {\"color\": \"#2a3f5f\"}, \"error_y\": {\"color\": \"#2a3f5f\"}, \"marker\": {\"line\": {\"color\": \"#E5ECF6\", \"width\": 0.5}}, \"type\": \"bar\"}], \"barpolar\": [{\"marker\": {\"line\": {\"color\": \"#E5ECF6\", \"width\": 0.5}}, \"type\": \"barpolar\"}], \"carpet\": [{\"aaxis\": {\"endlinecolor\": \"#2a3f5f\", \"gridcolor\": \"white\", \"linecolor\": \"white\", \"minorgridcolor\": \"white\", \"startlinecolor\": \"#2a3f5f\"}, \"baxis\": {\"endlinecolor\": \"#2a3f5f\", \"gridcolor\": \"white\", \"linecolor\": \"white\", \"minorgridcolor\": \"white\", \"startlinecolor\": \"#2a3f5f\"}, \"type\": \"carpet\"}], \"choropleth\": [{\"colorbar\": {\"outlinewidth\": 0, \"ticks\": \"\"}, \"type\": \"choropleth\"}], \"contour\": [{\"colorbar\": {\"outlinewidth\": 0, \"ticks\": \"\"}, \"colorscale\": [[0.0, \"#0d0887\"], [0.1111111111111111, \"#46039f\"], [0.2222222222222222, \"#7201a8\"], [0.3333333333333333, \"#9c179e\"], [0.4444444444444444, \"#bd3786\"], [0.5555555555555556, \"#d8576b\"], [0.6666666666666666, \"#ed7953\"], [0.7777777777777778, \"#fb9f3a\"], [0.8888888888888888, \"#fdca26\"], [1.0, \"#f0f921\"]], \"type\": \"contour\"}], \"contourcarpet\": [{\"colorbar\": {\"outlinewidth\": 0, \"ticks\": \"\"}, \"type\": \"contourcarpet\"}], \"heatmap\": [{\"colorbar\": {\"outlinewidth\": 0, \"ticks\": \"\"}, \"colorscale\": [[0.0, \"#0d0887\"], [0.1111111111111111, \"#46039f\"], [0.2222222222222222, \"#7201a8\"], [0.3333333333333333, \"#9c179e\"], [0.4444444444444444, \"#bd3786\"], [0.5555555555555556, \"#d8576b\"], [0.6666666666666666, \"#ed7953\"], [0.7777777777777778, \"#fb9f3a\"], [0.8888888888888888, \"#fdca26\"], [1.0, \"#f0f921\"]], \"type\": \"heatmap\"}], \"heatmapgl\": [{\"colorbar\": {\"outlinewidth\": 0, \"ticks\": \"\"}, \"colorscale\": [[0.0, \"#0d0887\"], [0.1111111111111111, \"#46039f\"], [0.2222222222222222, \"#7201a8\"], [0.3333333333333333, \"#9c179e\"], [0.4444444444444444, \"#bd3786\"], [0.5555555555555556, \"#d8576b\"], [0.6666666666666666, \"#ed7953\"], [0.7777777777777778, \"#fb9f3a\"], [0.8888888888888888, \"#fdca26\"], [1.0, \"#f0f921\"]], \"type\": \"heatmapgl\"}], \"histogram\": [{\"marker\": {\"colorbar\": {\"outlinewidth\": 0, \"ticks\": \"\"}}, \"type\": \"histogram\"}], \"histogram2d\": [{\"colorbar\": {\"outlinewidth\": 0, \"ticks\": \"\"}, \"colorscale\": [[0.0, \"#0d0887\"], [0.1111111111111111, \"#46039f\"], [0.2222222222222222, \"#7201a8\"], [0.3333333333333333, \"#9c179e\"], [0.4444444444444444, \"#bd3786\"], [0.5555555555555556, \"#d8576b\"], [0.6666666666666666, \"#ed7953\"], [0.7777777777777778, \"#fb9f3a\"], [0.8888888888888888, \"#fdca26\"], [1.0, \"#f0f921\"]], \"type\": \"histogram2d\"}], \"histogram2dcontour\": [{\"colorbar\": {\"outlinewidth\": 0, \"ticks\": \"\"}, \"colorscale\": [[0.0, \"#0d0887\"], [0.1111111111111111, \"#46039f\"], [0.2222222222222222, \"#7201a8\"], [0.3333333333333333, \"#9c179e\"], [0.4444444444444444, \"#bd3786\"], [0.5555555555555556, \"#d8576b\"], [0.6666666666666666, \"#ed7953\"], [0.7777777777777778, \"#fb9f3a\"], [0.8888888888888888, \"#fdca26\"], [1.0, \"#f0f921\"]], \"type\": \"histogram2dcontour\"}], \"mesh3d\": [{\"colorbar\": {\"outlinewidth\": 0, \"ticks\": \"\"}, \"type\": \"mesh3d\"}], \"parcoords\": [{\"line\": {\"colorbar\": {\"outlinewidth\": 0, \"ticks\": \"\"}}, \"type\": \"parcoords\"}], \"pie\": [{\"automargin\": true, \"type\": \"pie\"}], \"scatter\": [{\"marker\": {\"colorbar\": {\"outlinewidth\": 0, \"ticks\": \"\"}}, \"type\": \"scatter\"}], \"scatter3d\": [{\"line\": {\"colorbar\": {\"outlinewidth\": 0, \"ticks\": \"\"}}, \"marker\": {\"colorbar\": {\"outlinewidth\": 0, \"ticks\": \"\"}}, \"type\": \"scatter3d\"}], \"scattercarpet\": [{\"marker\": {\"colorbar\": {\"outlinewidth\": 0, \"ticks\": \"\"}}, \"type\": \"scattercarpet\"}], \"scattergeo\": [{\"marker\": {\"colorbar\": {\"outlinewidth\": 0, \"ticks\": \"\"}}, \"type\": \"scattergeo\"}], \"scattergl\": [{\"marker\": {\"colorbar\": {\"outlinewidth\": 0, \"ticks\": \"\"}}, \"type\": \"scattergl\"}], \"scattermapbox\": [{\"marker\": {\"colorbar\": {\"outlinewidth\": 0, \"ticks\": \"\"}}, \"type\": \"scattermapbox\"}], \"scatterpolar\": [{\"marker\": {\"colorbar\": {\"outlinewidth\": 0, \"ticks\": \"\"}}, \"type\": \"scatterpolar\"}], \"scatterpolargl\": [{\"marker\": {\"colorbar\": {\"outlinewidth\": 0, \"ticks\": \"\"}}, \"type\": \"scatterpolargl\"}], \"scatterternary\": [{\"marker\": {\"colorbar\": {\"outlinewidth\": 0, \"ticks\": \"\"}}, \"type\": \"scatterternary\"}], \"surface\": [{\"colorbar\": {\"outlinewidth\": 0, \"ticks\": \"\"}, \"colorscale\": [[0.0, \"#0d0887\"], [0.1111111111111111, \"#46039f\"], [0.2222222222222222, \"#7201a8\"], [0.3333333333333333, \"#9c179e\"], [0.4444444444444444, \"#bd3786\"], [0.5555555555555556, \"#d8576b\"], [0.6666666666666666, \"#ed7953\"], [0.7777777777777778, \"#fb9f3a\"], [0.8888888888888888, \"#fdca26\"], [1.0, \"#f0f921\"]], \"type\": \"surface\"}], \"table\": [{\"cells\": {\"fill\": {\"color\": \"#EBF0F8\"}, \"line\": {\"color\": \"white\"}}, \"header\": {\"fill\": {\"color\": \"#C8D4E3\"}, \"line\": {\"color\": \"white\"}}, \"type\": \"table\"}]}, \"layout\": {\"annotationdefaults\": {\"arrowcolor\": \"#2a3f5f\", \"arrowhead\": 0, \"arrowwidth\": 1}, \"coloraxis\": {\"colorbar\": {\"outlinewidth\": 0, \"ticks\": \"\"}}, \"colorscale\": {\"diverging\": [[0, \"#8e0152\"], [0.1, \"#c51b7d\"], [0.2, \"#de77ae\"], [0.3, \"#f1b6da\"], [0.4, \"#fde0ef\"], [0.5, \"#f7f7f7\"], [0.6, \"#e6f5d0\"], [0.7, \"#b8e186\"], [0.8, \"#7fbc41\"], [0.9, \"#4d9221\"], [1, \"#276419\"]], \"sequential\": [[0.0, \"#0d0887\"], [0.1111111111111111, \"#46039f\"], [0.2222222222222222, \"#7201a8\"], [0.3333333333333333, \"#9c179e\"], [0.4444444444444444, \"#bd3786\"], [0.5555555555555556, \"#d8576b\"], [0.6666666666666666, \"#ed7953\"], [0.7777777777777778, \"#fb9f3a\"], [0.8888888888888888, \"#fdca26\"], [1.0, \"#f0f921\"]], \"sequentialminus\": [[0.0, \"#0d0887\"], [0.1111111111111111, \"#46039f\"], [0.2222222222222222, \"#7201a8\"], [0.3333333333333333, \"#9c179e\"], [0.4444444444444444, \"#bd3786\"], [0.5555555555555556, \"#d8576b\"], [0.6666666666666666, \"#ed7953\"], [0.7777777777777778, \"#fb9f3a\"], [0.8888888888888888, \"#fdca26\"], [1.0, \"#f0f921\"]]}, \"colorway\": [\"#636efa\", \"#EF553B\", \"#00cc96\", \"#ab63fa\", \"#FFA15A\", \"#19d3f3\", \"#FF6692\", \"#B6E880\", \"#FF97FF\", \"#FECB52\"], \"font\": {\"color\": \"#2a3f5f\"}, \"geo\": {\"bgcolor\": \"white\", \"lakecolor\": \"white\", \"landcolor\": \"#E5ECF6\", \"showlakes\": true, \"showland\": true, \"subunitcolor\": \"white\"}, \"hoverlabel\": {\"align\": \"left\"}, \"hovermode\": \"closest\", \"mapbox\": {\"style\": \"light\"}, \"paper_bgcolor\": \"white\", \"plot_bgcolor\": \"#E5ECF6\", \"polar\": {\"angularaxis\": {\"gridcolor\": \"white\", \"linecolor\": \"white\", \"ticks\": \"\"}, \"bgcolor\": \"#E5ECF6\", \"radialaxis\": {\"gridcolor\": \"white\", \"linecolor\": \"white\", \"ticks\": \"\"}}, \"scene\": {\"xaxis\": {\"backgroundcolor\": \"#E5ECF6\", \"gridcolor\": \"white\", \"gridwidth\": 2, \"linecolor\": \"white\", \"showbackground\": true, \"ticks\": \"\", \"zerolinecolor\": \"white\"}, \"yaxis\": {\"backgroundcolor\": \"#E5ECF6\", \"gridcolor\": \"white\", \"gridwidth\": 2, \"linecolor\": \"white\", \"showbackground\": true, \"ticks\": \"\", \"zerolinecolor\": \"white\"}, \"zaxis\": {\"backgroundcolor\": \"#E5ECF6\", \"gridcolor\": \"white\", \"gridwidth\": 2, \"linecolor\": \"white\", \"showbackground\": true, \"ticks\": \"\", \"zerolinecolor\": \"white\"}}, \"shapedefaults\": {\"line\": {\"color\": \"#2a3f5f\"}}, \"ternary\": {\"aaxis\": {\"gridcolor\": \"white\", \"linecolor\": \"white\", \"ticks\": \"\"}, \"baxis\": {\"gridcolor\": \"white\", \"linecolor\": \"white\", \"ticks\": \"\"}, \"bgcolor\": \"#E5ECF6\", \"caxis\": {\"gridcolor\": \"white\", \"linecolor\": \"white\", \"ticks\": \"\"}}, \"title\": {\"x\": 0.05}, \"xaxis\": {\"automargin\": true, \"gridcolor\": \"white\", \"linecolor\": \"white\", \"ticks\": \"\", \"title\": {\"standoff\": 15}, \"zerolinecolor\": \"white\", \"zerolinewidth\": 2}, \"yaxis\": {\"automargin\": true, \"gridcolor\": \"white\", \"linecolor\": \"white\", \"ticks\": \"\", \"title\": {\"standoff\": 15}, \"zerolinecolor\": \"white\", \"zerolinewidth\": 2}}}, \"title\": {\"text\": \"How Many of the Projects Became Successful?\", \"x\": 0.3}},\n",
       "                        {\"responsive\": true}\n",
       "                    ).then(function(){\n",
       "                            \n",
       "var gd = document.getElementById('0a2c25cc-4637-490e-80f4-272c52d66fef');\n",
       "var x = new MutationObserver(function (mutations, observer) {{\n",
       "        var display = window.getComputedStyle(gd).display;\n",
       "        if (!display || display === 'none') {{\n",
       "            console.log([gd, 'removed!']);\n",
       "            Plotly.purge(gd);\n",
       "            observer.disconnect();\n",
       "        }}\n",
       "}});\n",
       "\n",
       "// Listen for the removal of the full notebook cells\n",
       "var notebookContainer = gd.closest('#notebook-container');\n",
       "if (notebookContainer) {{\n",
       "    x.observe(notebookContainer, {childList: true});\n",
       "}}\n",
       "\n",
       "// Listen for the clearing of the current output cell\n",
       "var outputEl = gd.closest('.output');\n",
       "if (outputEl) {{\n",
       "    x.observe(outputEl, {childList: true});\n",
       "}}\n",
       "\n",
       "                        })\n",
       "                };\n",
       "                });\n",
       "            </script>\n",
       "        </div>"
      ]
     },
     "metadata": {},
     "output_type": "display_data"
    }
   ],
   "source": [
    "suc = kc['success'].value_counts().to_frame().reset_index()\n",
    "suc.rename(columns={'index': 'Successed', 'success': 'Total'}, inplace = True)\n",
    "\n",
    "fig = px.pie(suc, values='Total', names='Successed', hole = .3)\n",
    "fig.update_layout(title_text=\"How Many of the Projects Became Successful?\", title_x = 0.3, )\n",
    "iplot(fig)"
   ]
  },
  {
   "cell_type": "markdown",
   "metadata": {},
   "source": [
    "Surprisingly, almost all these projects are succesful. However, we need to remind ouselves that the dataset I have here only include 5% of the total Game Projects on Kickstarter. Therefore, the data can be extremely bias."
   ]
  },
  {
   "cell_type": "code",
   "execution_count": 17,
   "metadata": {},
   "outputs": [
    {
     "name": "stderr",
     "output_type": "stream",
     "text": [
      "/Users/chauchu/opt/anaconda3/lib/python3.7/site-packages/ipykernel_launcher.py:2: SettingWithCopyWarning:\n",
      "\n",
      "\n",
      "A value is trying to be set on a copy of a slice from a DataFrame.\n",
      "Try using .loc[row_indexer,col_indexer] = value instead\n",
      "\n",
      "See the caveats in the documentation: https://pandas.pydata.org/pandas-docs/stable/user_guide/indexing.html#returning-a-view-versus-a-copy\n",
      "\n"
     ]
    },
    {
     "data": {
      "text/plain": [
       "Text(0, 0.5, '$Pledged per Backer')"
      ]
     },
     "execution_count": 17,
     "metadata": {},
     "output_type": "execute_result"
    },
    {
     "data": {
      "image/png": "[encoded data removed]",
      "text/plain": [
       "<Figure size 1080x504 with 1 Axes>"
      ]
     },
     "metadata": {
      "needs_background": "light"
     },
     "output_type": "display_data"
    }
   ],
   "source": [
    "#Calculate Average $Pledge per backer in each Category\n",
    "kc['pld_per_backer'] = kc['Pledged']/kc['Backers_count']\n",
    "avg_ppb = kc.groupby('Category_name')['pld_per_backer'].mean().to_frame().reset_index()\n",
    "avg_ppb.sort_values(by = 'pld_per_backer',ascending = False, inplace = True)\n",
    "\n",
    "#Plot data\n",
    "plt.figure(figsize = (15,7))\n",
    "sns.barplot(x='Category_name', y = 'pld_per_backer', data = avg_ppb, palette=\"Blues_d\")\n",
    "plt.title('$Pledged per Backer in Different Categories', fontsize = 15)\n",
    "plt.xlabel(' ')\n",
    "plt.xticks(rotation = 30)\n",
    "plt.ylabel('$Pledged per Backer')"
   ]
  },
  {
   "cell_type": "markdown",
   "metadata": {},
   "source": [
    "Although number of gaming hardware projects are less than 1% in this dataset, it leads with the most average money backed by backers. This is very understandable, since gaming hardwares are expensive to make. "
   ]
  },
  {
   "cell_type": "markdown",
   "metadata": {},
   "source": [
    "## III. Future Directions\n",
    "\n",
    "Next, after my research, I think I will try Nokogiri to scrape Kickstarter again. Nokogiri is an open source library which helps parse HTML and XML in Ruby. I will use the dataset I collect to do a machine learning project to predict the success of a project. \n"
   ]
  }
 ],
 "metadata": {
  "kernelspec": {
   "display_name": "Python 3",
   "language": "python",
   "name": "python3"
  },
  "language_info": {
   "codemirror_mode": {
    "name": "ipython",
    "version": 3
   },
   "file_extension": ".py",
   "mimetype": "text/x-python",
   "name": "python",
   "nbconvert_exporter": "python",
   "pygments_lexer": "ipython3",
   "version": "3.7.6"
  }
 },
 "nbformat": 4,
 "nbformat_minor": 4
}
